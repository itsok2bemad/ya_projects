{
 "cells": [
  {
   "cell_type": "markdown",
   "metadata": {},
   "source": [
    "# Описание проекта"
   ]
  },
  {
   "cell_type": "markdown",
   "metadata": {},
   "source": [
    "**Контекст :** \\\n",
    "Вы — аналитик крупного интернет-магазина. Вместе с отделом маркетинга вы подготовили список гипотез для увеличения выручки. Приоритизируйте гипотезы, запустите A/B-тест и проанализируйте результаты."
   ]
  },
  {
   "cell_type": "markdown",
   "metadata": {},
   "source": [
    "**Часть 1. Приоритизация гипотез**"
   ]
  },
  {
   "cell_type": "markdown",
   "metadata": {},
   "source": [
    "В файле `/datasets/hypothesis.csv` 9 гипотез по увеличению выручки интернет-магазина с указанными параметрами `Reach`, `Impact`, `Confidence`, `Effort`. \\\n",
    "\\\n",
    "**Задача** \\\n",
    "\\\n",
    "Примените фреймворк `ICE` для приоритизации гипотез. Отсортируйте их по убыванию приоритета.\n",
    "Примените фреймворк `RICE` для приоритизации гипотез. Отсортируйте их по убыванию приоритета.\n",
    "Укажите, как изменилась приоритизация гипотез при применении `RICE` вместо `ICE`. Объясните, почему так произошло."
   ]
  },
  {
   "cell_type": "markdown",
   "metadata": {},
   "source": [
    "**Часть 2. Анализ A/B-теста**"
   ]
  },
  {
   "cell_type": "markdown",
   "metadata": {},
   "source": [
    "***Вы провели A/B-тест и получили результаты, которые описаны в файлах `/datasets/orders.csv` и `/datasets/visitors.csv`***\n",
    "\n",
    "**Задача:**\n",
    "\\\n",
    "**Проанализируйте A/B-тест:**\n",
    "\n",
    "* Постройте график кумулятивной выручки по группам. Сделайте выводы и предположения.\n",
    "* Постройте график кумулятивного среднего чека по группам. Сделайте выводы и предположения.\n",
    "* Постройте график относительного изменения кумулятивного среднего чека группы B к группе A. Сделайте выводы и предположения.\n",
    "* Постройте график кумулятивной конверсии по группам. Сделайте выводы и предположения.\n",
    "* Постройте график относительного изменения кумулятивной конверсии группы B к группе A. Сделайте выводы и предположения.\n",
    "* Постройте точечный график количества заказов по пользователям. Сделайте выводы и предположения.\n",
    "* Посчитайте 95-й и 99-й перцентили количества заказов на пользователя. Выберите границу для определения аномальных пользователей.\n",
    "* Постройте точечный график стоимостей заказов. Сделайте выводы и предположения.\n",
    "* Посчитайте 95-й и 99-й перцентили стоимости заказов. Выберите границу для определения аномальных заказов.\n",
    "* Посчитайте статистическую значимость различий в конверсии между группами по «сырым» данным. Сделайте выводы и предположения.\n",
    "* Посчитайте статистическую значимость различий в среднем чеке заказа между группами по «сырым» данным. Сделайте выводы и предположения.\n",
    "* Посчитайте статистическую значимость различий в конверсии между группами по «очищенным» данным. Сделайте выводы и предположения.\n",
    "* Посчитайте статистическую значимость различий в среднем чеке заказа между группами по «очищенным» данным. Сделайте выводы и предположения.\n",
    "\n",
    "\n",
    "**Примите решение по результатам теста и объясните его.  \n",
    "Варианты решений:**\n",
    "\n",
    "1) Остановить тест, зафиксировать победу одной из групп. \\\n",
    "2) Остановить тест, зафиксировать отсутствие различий между группами. \\\n",
    "3) Продолжить тест."
   ]
  },
  {
   "cell_type": "markdown",
   "metadata": {},
   "source": [
    "# Описание данных"
   ]
  },
  {
   "cell_type": "markdown",
   "metadata": {},
   "source": [
    "**Первая часть**\\\n",
    "\\\n",
    "Путь к датасету: `/datasets/hypothesis.csv` \\\n",
    "\\\n",
    "`Hypothesis` — краткое описание гипотезы; \\\n",
    "`Reach` — охват пользователей по 10-балльной шкале; \\\n",
    "`Impact` — влияние на пользователей по 10-балльной шкале; \\\n",
    "`Confidence` — уверенность в гипотезе по 10-балльной шкале; \\\n",
    "`Efforts` — затраты ресурсов на проверку гипотезы по 10-балльной шкале. Чем больше значение Efforts, тем дороже проверка гипотезы. \\\n",
    "\\\n",
    "**Вторая часть** \\\n",
    "\\\n",
    "Путь к первому датасету: `/datasets/orders.csv` \\\n",
    "\\\n",
    "`transactionId` — идентификатор заказа; \\\n",
    "`visitorId` — идентификатор пользователя, совершившего заказ; \\\n",
    "`date` — дата, когда был совершён заказ; \\\n",
    "`revenue` — выручка заказа; \\\n",
    "`group` — группа A/B-теста, в которую попал заказ. \\\n",
    "\\\n",
    "Путь ко второму датасету: `/datasets/visitors.csv`  \\\n",
    "\\\n",
    "`date` — дата; \\\n",
    "`group` — группа A/B-теста; \\\n",
    "`visitors` — количество пользователей в указанную дату в указанной группе A/B-теста"
   ]
  },
  {
   "cell_type": "markdown",
   "metadata": {},
   "source": [
    "# Содержание <a id=\"content\"></a>\n",
    "\n",
    "[Шаг 1. Загрузка данных и подготовка их к анализу](#paragraph1)  \n",
    "- [1.1 Предобработка таблицы `hypothesis` - гипотезы](#paragraph1.1)  \n",
    "- [1.2 Предобработка таблицы `orders` - заказы](#paragraph1.2)  \n",
    "- [1.3 Предобработка таблицы `visitors` - посетители](#paragraph1.3)  \n",
    "\n",
    "[Шаг 2. Приоритизация гипотез](#paragraph2)  \n",
    "\n",
    "[Шаг 3. Шаг 3. Анализ A/B-теста](#paragraph3)  \n",
    "- [3.1 График кумулятивной выручки](#paragraph3.1)  \n",
    "- [3.2 График кумулятивного среднего чека](#paragraph3.2)  \n",
    "- [3.3 график относительного изменения кумулятивного среднего чека](#paragraph3.3)  \n",
    "- [3.4 График кумулятивной выручки](#paragraph3.4)   \n",
    "- [3.5 График относительного изменения кумулятивной конверсии](#paragraph3.5)  \n",
    "- [3.6 График количества заказов по пользователям](#paragraph3.6)  \n",
    "- [3.7 Граница заказов для определения аномальных пользователей](#paragraph3.7)  \n",
    "- [3.8 График стоимостей заказов](#paragraph3.8)  \n",
    "- [3.9 Граница для определения аномальных заказов (по выручке)](#paragraph3.9)  \n",
    "- [3.10 Различия в конверсии между группами по «сырым» данным](#paragraph3.10)  \n",
    "- [3.11 Статистическая значимость различий в среднем чеке заказа между группами по «сырым» данным ](#paragraph3.11)  \n",
    "- [3.12 Различия в конверсии между группами по «очищенным» данным](#paragraph3.12)  \n",
    "- [3.13 Статистическая значимость различий в среднем чеке заказа между группами по «очищенным» данным](#paragraph3.13)  \n",
    "- [3.14 Решение по результатам теста](#paragraph3.14)   \n",
    " "
   ]
  },
  {
   "cell_type": "markdown",
   "metadata": {},
   "source": [
    "## Загрузка данных и подготовка их к анализу <a id=\"paragraph1\"></a>\n",
    "\n",
    "[Вернуться к содержанию](#content)"
   ]
  },
  {
   "cell_type": "code",
   "execution_count": 1,
   "metadata": {},
   "outputs": [],
   "source": [
    "import pandas as pd\n",
    "import matplotlib.pyplot as plt\n",
    "import seaborn as sns\n",
    "import numpy as np\n",
    "from matplotlib import pyplot as plt\n",
    "from IPython.display import display\n",
    "\n",
    "import scipy.stats as stats\n",
    "import datetime as dt\n",
    "\n",
    "import warnings\n",
    "warnings.filterwarnings(\"ignore\")\n",
    "\n",
    "from pymystem3 import Mystem\n",
    "m = Mystem()"
   ]
  },
  {
   "cell_type": "code",
   "execution_count": 2,
   "metadata": {},
   "outputs": [],
   "source": [
    "hypothesis = pd.read_csv('/datasets/hypothesis.csv')\n",
    "orders = pd.read_csv('/datasets/orders.csv')\n",
    "visitors = pd.read_csv('/datasets/visitors.csv')"
   ]
  },
  {
   "cell_type": "markdown",
   "metadata": {},
   "source": [
    "### Предобработка таблицы `hypothesis`<a id=\"paragraph1.1\"></a>  \n",
    "[Вернуться к содержанию](#content)"
   ]
  },
  {
   "cell_type": "code",
   "execution_count": 3,
   "metadata": {},
   "outputs": [
    {
     "name": "stdout",
     "output_type": "stream",
     "text": [
      "<class 'pandas.core.frame.DataFrame'>\n",
      "RangeIndex: 9 entries, 0 to 8\n",
      "Data columns (total 5 columns):\n",
      " #   Column      Non-Null Count  Dtype \n",
      "---  ------      --------------  ----- \n",
      " 0   Hypothesis  9 non-null      object\n",
      " 1   Reach       9 non-null      int64 \n",
      " 2   Impact      9 non-null      int64 \n",
      " 3   Confidence  9 non-null      int64 \n",
      " 4   Efforts     9 non-null      int64 \n",
      "dtypes: int64(4), object(1)\n",
      "memory usage: 488.0+ bytes\n"
     ]
    }
   ],
   "source": [
    "hypothesis.info()"
   ]
  },
  {
   "cell_type": "code",
   "execution_count": 4,
   "metadata": {},
   "outputs": [
    {
     "data": {
      "text/html": [
       "<div>\n",
       "<style scoped>\n",
       "    .dataframe tbody tr th:only-of-type {\n",
       "        vertical-align: middle;\n",
       "    }\n",
       "\n",
       "    .dataframe tbody tr th {\n",
       "        vertical-align: top;\n",
       "    }\n",
       "\n",
       "    .dataframe thead th {\n",
       "        text-align: right;\n",
       "    }\n",
       "</style>\n",
       "<table border=\"1\" class=\"dataframe\">\n",
       "  <thead>\n",
       "    <tr style=\"text-align: right;\">\n",
       "      <th></th>\n",
       "      <th>Hypothesis</th>\n",
       "      <th>Reach</th>\n",
       "      <th>Impact</th>\n",
       "      <th>Confidence</th>\n",
       "      <th>Efforts</th>\n",
       "    </tr>\n",
       "  </thead>\n",
       "  <tbody>\n",
       "    <tr>\n",
       "      <th>0</th>\n",
       "      <td>Добавить два новых канала привлечения трафика,...</td>\n",
       "      <td>3</td>\n",
       "      <td>10</td>\n",
       "      <td>8</td>\n",
       "      <td>6</td>\n",
       "    </tr>\n",
       "    <tr>\n",
       "      <th>1</th>\n",
       "      <td>Запустить собственную службу доставки, что сок...</td>\n",
       "      <td>2</td>\n",
       "      <td>5</td>\n",
       "      <td>4</td>\n",
       "      <td>10</td>\n",
       "    </tr>\n",
       "    <tr>\n",
       "      <th>2</th>\n",
       "      <td>Добавить блоки рекомендаций товаров на сайт ин...</td>\n",
       "      <td>8</td>\n",
       "      <td>3</td>\n",
       "      <td>7</td>\n",
       "      <td>3</td>\n",
       "    </tr>\n",
       "    <tr>\n",
       "      <th>3</th>\n",
       "      <td>Изменить структура категорий, что увеличит кон...</td>\n",
       "      <td>8</td>\n",
       "      <td>3</td>\n",
       "      <td>3</td>\n",
       "      <td>8</td>\n",
       "    </tr>\n",
       "    <tr>\n",
       "      <th>4</th>\n",
       "      <td>Изменить цвет фона главной страницы, чтобы уве...</td>\n",
       "      <td>3</td>\n",
       "      <td>1</td>\n",
       "      <td>1</td>\n",
       "      <td>1</td>\n",
       "    </tr>\n",
       "    <tr>\n",
       "      <th>5</th>\n",
       "      <td>Добавить страницу отзывов клиентов о магазине,...</td>\n",
       "      <td>3</td>\n",
       "      <td>2</td>\n",
       "      <td>2</td>\n",
       "      <td>3</td>\n",
       "    </tr>\n",
       "    <tr>\n",
       "      <th>6</th>\n",
       "      <td>Показать на главной странице баннеры с актуаль...</td>\n",
       "      <td>5</td>\n",
       "      <td>3</td>\n",
       "      <td>8</td>\n",
       "      <td>3</td>\n",
       "    </tr>\n",
       "    <tr>\n",
       "      <th>7</th>\n",
       "      <td>Добавить форму подписки на все основные страни...</td>\n",
       "      <td>10</td>\n",
       "      <td>7</td>\n",
       "      <td>8</td>\n",
       "      <td>5</td>\n",
       "    </tr>\n",
       "    <tr>\n",
       "      <th>8</th>\n",
       "      <td>Запустить акцию, дающую скидку на товар в день...</td>\n",
       "      <td>1</td>\n",
       "      <td>9</td>\n",
       "      <td>9</td>\n",
       "      <td>5</td>\n",
       "    </tr>\n",
       "  </tbody>\n",
       "</table>\n",
       "</div>"
      ],
      "text/plain": [
       "                                          Hypothesis  Reach  Impact  \\\n",
       "0  Добавить два новых канала привлечения трафика,...      3      10   \n",
       "1  Запустить собственную службу доставки, что сок...      2       5   \n",
       "2  Добавить блоки рекомендаций товаров на сайт ин...      8       3   \n",
       "3  Изменить структура категорий, что увеличит кон...      8       3   \n",
       "4  Изменить цвет фона главной страницы, чтобы уве...      3       1   \n",
       "5  Добавить страницу отзывов клиентов о магазине,...      3       2   \n",
       "6  Показать на главной странице баннеры с актуаль...      5       3   \n",
       "7  Добавить форму подписки на все основные страни...     10       7   \n",
       "8  Запустить акцию, дающую скидку на товар в день...      1       9   \n",
       "\n",
       "   Confidence  Efforts  \n",
       "0           8        6  \n",
       "1           4       10  \n",
       "2           7        3  \n",
       "3           3        8  \n",
       "4           1        1  \n",
       "5           2        3  \n",
       "6           8        3  \n",
       "7           8        5  \n",
       "8           9        5  "
      ]
     },
     "execution_count": 4,
     "metadata": {},
     "output_type": "execute_result"
    }
   ],
   "source": [
    "hypothesis"
   ]
  },
  {
   "cell_type": "markdown",
   "metadata": {},
   "source": [
    "**Вывод:** Данные корректны. Тип данных верный, дубликатов нет."
   ]
  },
  {
   "cell_type": "markdown",
   "metadata": {},
   "source": [
    "### Предобработка таблицы `orders`<a id=\"paragraph1.2\"></a>  \n",
    "[Вернуться к содержанию](#content)"
   ]
  },
  {
   "cell_type": "code",
   "execution_count": 5,
   "metadata": {},
   "outputs": [
    {
     "name": "stdout",
     "output_type": "stream",
     "text": [
      "<class 'pandas.core.frame.DataFrame'>\n",
      "RangeIndex: 1197 entries, 0 to 1196\n",
      "Data columns (total 5 columns):\n",
      " #   Column         Non-Null Count  Dtype \n",
      "---  ------         --------------  ----- \n",
      " 0   transactionId  1197 non-null   int64 \n",
      " 1   visitorId      1197 non-null   int64 \n",
      " 2   date           1197 non-null   object\n",
      " 3   revenue        1197 non-null   int64 \n",
      " 4   group          1197 non-null   object\n",
      "dtypes: int64(3), object(2)\n",
      "memory usage: 46.9+ KB\n"
     ]
    }
   ],
   "source": [
    "orders.info()"
   ]
  },
  {
   "cell_type": "code",
   "execution_count": 6,
   "metadata": {},
   "outputs": [
    {
     "data": {
      "text/html": [
       "<div>\n",
       "<style scoped>\n",
       "    .dataframe tbody tr th:only-of-type {\n",
       "        vertical-align: middle;\n",
       "    }\n",
       "\n",
       "    .dataframe tbody tr th {\n",
       "        vertical-align: top;\n",
       "    }\n",
       "\n",
       "    .dataframe thead th {\n",
       "        text-align: right;\n",
       "    }\n",
       "</style>\n",
       "<table border=\"1\" class=\"dataframe\">\n",
       "  <thead>\n",
       "    <tr style=\"text-align: right;\">\n",
       "      <th></th>\n",
       "      <th>transactionId</th>\n",
       "      <th>visitorId</th>\n",
       "      <th>date</th>\n",
       "      <th>revenue</th>\n",
       "      <th>group</th>\n",
       "    </tr>\n",
       "  </thead>\n",
       "  <tbody>\n",
       "    <tr>\n",
       "      <th>0</th>\n",
       "      <td>3667963787</td>\n",
       "      <td>3312258926</td>\n",
       "      <td>2019-08-15</td>\n",
       "      <td>1650</td>\n",
       "      <td>B</td>\n",
       "    </tr>\n",
       "    <tr>\n",
       "      <th>1</th>\n",
       "      <td>2804400009</td>\n",
       "      <td>3642806036</td>\n",
       "      <td>2019-08-15</td>\n",
       "      <td>730</td>\n",
       "      <td>B</td>\n",
       "    </tr>\n",
       "    <tr>\n",
       "      <th>2</th>\n",
       "      <td>2961555356</td>\n",
       "      <td>4069496402</td>\n",
       "      <td>2019-08-15</td>\n",
       "      <td>400</td>\n",
       "      <td>A</td>\n",
       "    </tr>\n",
       "    <tr>\n",
       "      <th>3</th>\n",
       "      <td>3797467345</td>\n",
       "      <td>1196621759</td>\n",
       "      <td>2019-08-15</td>\n",
       "      <td>9759</td>\n",
       "      <td>B</td>\n",
       "    </tr>\n",
       "    <tr>\n",
       "      <th>4</th>\n",
       "      <td>2282983706</td>\n",
       "      <td>2322279887</td>\n",
       "      <td>2019-08-15</td>\n",
       "      <td>2308</td>\n",
       "      <td>B</td>\n",
       "    </tr>\n",
       "  </tbody>\n",
       "</table>\n",
       "</div>"
      ],
      "text/plain": [
       "   transactionId   visitorId        date  revenue group\n",
       "0     3667963787  3312258926  2019-08-15     1650     B\n",
       "1     2804400009  3642806036  2019-08-15      730     B\n",
       "2     2961555356  4069496402  2019-08-15      400     A\n",
       "3     3797467345  1196621759  2019-08-15     9759     B\n",
       "4     2282983706  2322279887  2019-08-15     2308     B"
      ]
     },
     "execution_count": 6,
     "metadata": {},
     "output_type": "execute_result"
    }
   ],
   "source": [
    "orders.head()"
   ]
  },
  {
   "cell_type": "markdown",
   "metadata": {},
   "source": [
    "Поменяем колонку `date` на правильный тип данных `datetime`."
   ]
  },
  {
   "cell_type": "code",
   "execution_count": 7,
   "metadata": {},
   "outputs": [],
   "source": [
    "orders['date'] = orders['date'].map(lambda x: dt.datetime.strptime(x, '%Y-%m-%d'))"
   ]
  },
  {
   "cell_type": "code",
   "execution_count": 8,
   "metadata": {},
   "outputs": [
    {
     "name": "stdout",
     "output_type": "stream",
     "text": [
      "<class 'pandas.core.frame.DataFrame'>\n",
      "RangeIndex: 1197 entries, 0 to 1196\n",
      "Data columns (total 5 columns):\n",
      " #   Column         Non-Null Count  Dtype         \n",
      "---  ------         --------------  -----         \n",
      " 0   transactionId  1197 non-null   int64         \n",
      " 1   visitorId      1197 non-null   int64         \n",
      " 2   date           1197 non-null   datetime64[ns]\n",
      " 3   revenue        1197 non-null   int64         \n",
      " 4   group          1197 non-null   object        \n",
      "dtypes: datetime64[ns](1), int64(3), object(1)\n",
      "memory usage: 46.9+ KB\n"
     ]
    }
   ],
   "source": [
    "orders.info()"
   ]
  },
  {
   "cell_type": "code",
   "execution_count": 9,
   "metadata": {},
   "outputs": [
    {
     "data": {
      "text/html": [
       "<div>\n",
       "<style scoped>\n",
       "    .dataframe tbody tr th:only-of-type {\n",
       "        vertical-align: middle;\n",
       "    }\n",
       "\n",
       "    .dataframe tbody tr th {\n",
       "        vertical-align: top;\n",
       "    }\n",
       "\n",
       "    .dataframe thead th {\n",
       "        text-align: right;\n",
       "    }\n",
       "</style>\n",
       "<table border=\"1\" class=\"dataframe\">\n",
       "  <thead>\n",
       "    <tr style=\"text-align: right;\">\n",
       "      <th></th>\n",
       "      <th>transactionId</th>\n",
       "      <th>visitorId</th>\n",
       "      <th>date</th>\n",
       "      <th>revenue</th>\n",
       "      <th>group</th>\n",
       "    </tr>\n",
       "  </thead>\n",
       "  <tbody>\n",
       "    <tr>\n",
       "      <th>563</th>\n",
       "      <td>922638597</td>\n",
       "      <td>935349363</td>\n",
       "      <td>2019-08-26</td>\n",
       "      <td>35485</td>\n",
       "      <td>B</td>\n",
       "    </tr>\n",
       "    <tr>\n",
       "      <th>625</th>\n",
       "      <td>19446369</td>\n",
       "      <td>2666467773</td>\n",
       "      <td>2019-08-29</td>\n",
       "      <td>3261</td>\n",
       "      <td>B</td>\n",
       "    </tr>\n",
       "    <tr>\n",
       "      <th>635</th>\n",
       "      <td>2067529988</td>\n",
       "      <td>4014197579</td>\n",
       "      <td>2019-08-09</td>\n",
       "      <td>10250</td>\n",
       "      <td>A</td>\n",
       "    </tr>\n",
       "  </tbody>\n",
       "</table>\n",
       "</div>"
      ],
      "text/plain": [
       "     transactionId   visitorId       date  revenue group\n",
       "563      922638597   935349363 2019-08-26    35485     B\n",
       "625       19446369  2666467773 2019-08-29     3261     B\n",
       "635     2067529988  4014197579 2019-08-09    10250     A"
      ]
     },
     "execution_count": 9,
     "metadata": {},
     "output_type": "execute_result"
    }
   ],
   "source": [
    "orders.sample(3)"
   ]
  },
  {
   "cell_type": "code",
   "execution_count": 10,
   "metadata": {},
   "outputs": [
    {
     "data": {
      "text/plain": [
       "0"
      ]
     },
     "execution_count": 10,
     "metadata": {},
     "output_type": "execute_result"
    }
   ],
   "source": [
    "orders.duplicated().sum()"
   ]
  },
  {
   "cell_type": "markdown",
   "metadata": {},
   "source": [
    "Дубликатов нет. Все данные в столбце корректны."
   ]
  },
  {
   "cell_type": "markdown",
   "metadata": {},
   "source": [
    "### Предобработка таблицы `visitors`<a id=\"paragraph1.3\"></a>  \n",
    "[Вернуться к содержанию](#content)"
   ]
  },
  {
   "cell_type": "code",
   "execution_count": 11,
   "metadata": {},
   "outputs": [
    {
     "name": "stdout",
     "output_type": "stream",
     "text": [
      "<class 'pandas.core.frame.DataFrame'>\n",
      "RangeIndex: 62 entries, 0 to 61\n",
      "Data columns (total 3 columns):\n",
      " #   Column    Non-Null Count  Dtype \n",
      "---  ------    --------------  ----- \n",
      " 0   date      62 non-null     object\n",
      " 1   group     62 non-null     object\n",
      " 2   visitors  62 non-null     int64 \n",
      "dtypes: int64(1), object(2)\n",
      "memory usage: 1.6+ KB\n"
     ]
    }
   ],
   "source": [
    "visitors.info()"
   ]
  },
  {
   "cell_type": "code",
   "execution_count": 12,
   "metadata": {},
   "outputs": [
    {
     "data": {
      "text/html": [
       "<div>\n",
       "<style scoped>\n",
       "    .dataframe tbody tr th:only-of-type {\n",
       "        vertical-align: middle;\n",
       "    }\n",
       "\n",
       "    .dataframe tbody tr th {\n",
       "        vertical-align: top;\n",
       "    }\n",
       "\n",
       "    .dataframe thead th {\n",
       "        text-align: right;\n",
       "    }\n",
       "</style>\n",
       "<table border=\"1\" class=\"dataframe\">\n",
       "  <thead>\n",
       "    <tr style=\"text-align: right;\">\n",
       "      <th></th>\n",
       "      <th>date</th>\n",
       "      <th>group</th>\n",
       "      <th>visitors</th>\n",
       "    </tr>\n",
       "  </thead>\n",
       "  <tbody>\n",
       "    <tr>\n",
       "      <th>0</th>\n",
       "      <td>2019-08-01</td>\n",
       "      <td>A</td>\n",
       "      <td>719</td>\n",
       "    </tr>\n",
       "    <tr>\n",
       "      <th>1</th>\n",
       "      <td>2019-08-02</td>\n",
       "      <td>A</td>\n",
       "      <td>619</td>\n",
       "    </tr>\n",
       "    <tr>\n",
       "      <th>2</th>\n",
       "      <td>2019-08-03</td>\n",
       "      <td>A</td>\n",
       "      <td>507</td>\n",
       "    </tr>\n",
       "    <tr>\n",
       "      <th>3</th>\n",
       "      <td>2019-08-04</td>\n",
       "      <td>A</td>\n",
       "      <td>717</td>\n",
       "    </tr>\n",
       "    <tr>\n",
       "      <th>4</th>\n",
       "      <td>2019-08-05</td>\n",
       "      <td>A</td>\n",
       "      <td>756</td>\n",
       "    </tr>\n",
       "  </tbody>\n",
       "</table>\n",
       "</div>"
      ],
      "text/plain": [
       "         date group  visitors\n",
       "0  2019-08-01     A       719\n",
       "1  2019-08-02     A       619\n",
       "2  2019-08-03     A       507\n",
       "3  2019-08-04     A       717\n",
       "4  2019-08-05     A       756"
      ]
     },
     "execution_count": 12,
     "metadata": {},
     "output_type": "execute_result"
    }
   ],
   "source": [
    "visitors.head()"
   ]
  },
  {
   "cell_type": "markdown",
   "metadata": {},
   "source": [
    "Приводим столбец с датой к типу `datetime`."
   ]
  },
  {
   "cell_type": "code",
   "execution_count": 13,
   "metadata": {},
   "outputs": [],
   "source": [
    "visitors['date'] = visitors['date'].map(lambda x: dt.datetime.strptime(x, '%Y-%m-%d'))"
   ]
  },
  {
   "cell_type": "code",
   "execution_count": 14,
   "metadata": {},
   "outputs": [
    {
     "name": "stdout",
     "output_type": "stream",
     "text": [
      "<class 'pandas.core.frame.DataFrame'>\n",
      "RangeIndex: 62 entries, 0 to 61\n",
      "Data columns (total 3 columns):\n",
      " #   Column    Non-Null Count  Dtype         \n",
      "---  ------    --------------  -----         \n",
      " 0   date      62 non-null     datetime64[ns]\n",
      " 1   group     62 non-null     object        \n",
      " 2   visitors  62 non-null     int64         \n",
      "dtypes: datetime64[ns](1), int64(1), object(1)\n",
      "memory usage: 1.6+ KB\n"
     ]
    }
   ],
   "source": [
    "visitors.info()"
   ]
  },
  {
   "cell_type": "code",
   "execution_count": 15,
   "metadata": {},
   "outputs": [
    {
     "data": {
      "text/plain": [
       "count                      62\n",
       "unique                     31\n",
       "top       2019-08-27 00:00:00\n",
       "freq                        2\n",
       "first     2019-08-01 00:00:00\n",
       "last      2019-08-31 00:00:00\n",
       "Name: date, dtype: object"
      ]
     },
     "execution_count": 15,
     "metadata": {},
     "output_type": "execute_result"
    }
   ],
   "source": [
    "visitors['date'].describe()"
   ]
  },
  {
   "cell_type": "code",
   "execution_count": 16,
   "metadata": {},
   "outputs": [
    {
     "data": {
      "text/html": [
       "<div>\n",
       "<style scoped>\n",
       "    .dataframe tbody tr th:only-of-type {\n",
       "        vertical-align: middle;\n",
       "    }\n",
       "\n",
       "    .dataframe tbody tr th {\n",
       "        vertical-align: top;\n",
       "    }\n",
       "\n",
       "    .dataframe thead th {\n",
       "        text-align: right;\n",
       "    }\n",
       "</style>\n",
       "<table border=\"1\" class=\"dataframe\">\n",
       "  <thead>\n",
       "    <tr style=\"text-align: right;\">\n",
       "      <th></th>\n",
       "      <th>date</th>\n",
       "      <th>group</th>\n",
       "      <th>visitors</th>\n",
       "    </tr>\n",
       "  </thead>\n",
       "  <tbody>\n",
       "    <tr>\n",
       "      <th>29</th>\n",
       "      <td>2019-08-30</td>\n",
       "      <td>A</td>\n",
       "      <td>490</td>\n",
       "    </tr>\n",
       "    <tr>\n",
       "      <th>31</th>\n",
       "      <td>2019-08-01</td>\n",
       "      <td>B</td>\n",
       "      <td>713</td>\n",
       "    </tr>\n",
       "    <tr>\n",
       "      <th>21</th>\n",
       "      <td>2019-08-22</td>\n",
       "      <td>A</td>\n",
       "      <td>609</td>\n",
       "    </tr>\n",
       "  </tbody>\n",
       "</table>\n",
       "</div>"
      ],
      "text/plain": [
       "         date group  visitors\n",
       "29 2019-08-30     A       490\n",
       "31 2019-08-01     B       713\n",
       "21 2019-08-22     A       609"
      ]
     },
     "execution_count": 16,
     "metadata": {},
     "output_type": "execute_result"
    }
   ],
   "source": [
    "visitors.sample(3)"
   ]
  },
  {
   "cell_type": "code",
   "execution_count": 17,
   "metadata": {},
   "outputs": [
    {
     "data": {
      "text/plain": [
       "0"
      ]
     },
     "execution_count": 17,
     "metadata": {},
     "output_type": "execute_result"
    }
   ],
   "source": [
    "visitors.duplicated().sum()"
   ]
  },
  {
   "cell_type": "markdown",
   "metadata": {},
   "source": [
    "**Вывод:** Данные корректны. Дубликатов нет, целостность не нарушена. В предобработке изменили только тип данных столбцов с датой. Диапазон анализа совпадает"
   ]
  },
  {
   "cell_type": "markdown",
   "metadata": {},
   "source": [
    "## Приоритизация гипотез <a id=\"paragraph2\"></a>  \n",
    "\n",
    "[Вернуться к содержанию](#content)"
   ]
  },
  {
   "cell_type": "markdown",
   "metadata": {},
   "source": [
    "**Задачи:**\n",
    "* Примените фреймворк ICE для приоритизации гипотез. Отсортируйте их по убыванию приоритета.\n",
    "* Примените фреймворк RICE для приоритизации гипотез. Отсортируйте их по убыванию приоритета.\n",
    "* Укажите, как изменилась приоритизация гипотез при применении RICE вместо ICE. Объясните, почему так произошло."
   ]
  },
  {
   "cell_type": "code",
   "execution_count": 18,
   "metadata": {},
   "outputs": [
    {
     "data": {
      "text/html": [
       "<div>\n",
       "<style scoped>\n",
       "    .dataframe tbody tr th:only-of-type {\n",
       "        vertical-align: middle;\n",
       "    }\n",
       "\n",
       "    .dataframe tbody tr th {\n",
       "        vertical-align: top;\n",
       "    }\n",
       "\n",
       "    .dataframe thead th {\n",
       "        text-align: right;\n",
       "    }\n",
       "</style>\n",
       "<table border=\"1\" class=\"dataframe\">\n",
       "  <thead>\n",
       "    <tr style=\"text-align: right;\">\n",
       "      <th></th>\n",
       "      <th>Hypothesis</th>\n",
       "      <th>Reach</th>\n",
       "      <th>Impact</th>\n",
       "      <th>Confidence</th>\n",
       "      <th>Efforts</th>\n",
       "    </tr>\n",
       "  </thead>\n",
       "  <tbody>\n",
       "    <tr>\n",
       "      <th>0</th>\n",
       "      <td>Добавить два новых канала привлечения трафика,...</td>\n",
       "      <td>3</td>\n",
       "      <td>10</td>\n",
       "      <td>8</td>\n",
       "      <td>6</td>\n",
       "    </tr>\n",
       "    <tr>\n",
       "      <th>1</th>\n",
       "      <td>Запустить собственную службу доставки, что сок...</td>\n",
       "      <td>2</td>\n",
       "      <td>5</td>\n",
       "      <td>4</td>\n",
       "      <td>10</td>\n",
       "    </tr>\n",
       "    <tr>\n",
       "      <th>2</th>\n",
       "      <td>Добавить блоки рекомендаций товаров на сайт ин...</td>\n",
       "      <td>8</td>\n",
       "      <td>3</td>\n",
       "      <td>7</td>\n",
       "      <td>3</td>\n",
       "    </tr>\n",
       "    <tr>\n",
       "      <th>3</th>\n",
       "      <td>Изменить структура категорий, что увеличит кон...</td>\n",
       "      <td>8</td>\n",
       "      <td>3</td>\n",
       "      <td>3</td>\n",
       "      <td>8</td>\n",
       "    </tr>\n",
       "    <tr>\n",
       "      <th>4</th>\n",
       "      <td>Изменить цвет фона главной страницы, чтобы уве...</td>\n",
       "      <td>3</td>\n",
       "      <td>1</td>\n",
       "      <td>1</td>\n",
       "      <td>1</td>\n",
       "    </tr>\n",
       "    <tr>\n",
       "      <th>5</th>\n",
       "      <td>Добавить страницу отзывов клиентов о магазине,...</td>\n",
       "      <td>3</td>\n",
       "      <td>2</td>\n",
       "      <td>2</td>\n",
       "      <td>3</td>\n",
       "    </tr>\n",
       "    <tr>\n",
       "      <th>6</th>\n",
       "      <td>Показать на главной странице баннеры с актуаль...</td>\n",
       "      <td>5</td>\n",
       "      <td>3</td>\n",
       "      <td>8</td>\n",
       "      <td>3</td>\n",
       "    </tr>\n",
       "    <tr>\n",
       "      <th>7</th>\n",
       "      <td>Добавить форму подписки на все основные страни...</td>\n",
       "      <td>10</td>\n",
       "      <td>7</td>\n",
       "      <td>8</td>\n",
       "      <td>5</td>\n",
       "    </tr>\n",
       "    <tr>\n",
       "      <th>8</th>\n",
       "      <td>Запустить акцию, дающую скидку на товар в день...</td>\n",
       "      <td>1</td>\n",
       "      <td>9</td>\n",
       "      <td>9</td>\n",
       "      <td>5</td>\n",
       "    </tr>\n",
       "  </tbody>\n",
       "</table>\n",
       "</div>"
      ],
      "text/plain": [
       "                                          Hypothesis  Reach  Impact  \\\n",
       "0  Добавить два новых канала привлечения трафика,...      3      10   \n",
       "1  Запустить собственную службу доставки, что сок...      2       5   \n",
       "2  Добавить блоки рекомендаций товаров на сайт ин...      8       3   \n",
       "3  Изменить структура категорий, что увеличит кон...      8       3   \n",
       "4  Изменить цвет фона главной страницы, чтобы уве...      3       1   \n",
       "5  Добавить страницу отзывов клиентов о магазине,...      3       2   \n",
       "6  Показать на главной странице баннеры с актуаль...      5       3   \n",
       "7  Добавить форму подписки на все основные страни...     10       7   \n",
       "8  Запустить акцию, дающую скидку на товар в день...      1       9   \n",
       "\n",
       "   Confidence  Efforts  \n",
       "0           8        6  \n",
       "1           4       10  \n",
       "2           7        3  \n",
       "3           3        8  \n",
       "4           1        1  \n",
       "5           2        3  \n",
       "6           8        3  \n",
       "7           8        5  \n",
       "8           9        5  "
      ]
     },
     "execution_count": 18,
     "metadata": {},
     "output_type": "execute_result"
    }
   ],
   "source": [
    "hypothesis"
   ]
  },
  {
   "cell_type": "code",
   "execution_count": 19,
   "metadata": {},
   "outputs": [],
   "source": [
    "hypothesis['ICE'] = ((hypothesis['Impact'] * hypothesis['Confidence']) / hypothesis['Efforts']).round(1)\n",
    "hypothesis['RICE'] = (hypothesis['Reach']  *hypothesis['Impact'] * hypothesis['Confidence']) / hypothesis['Efforts']"
   ]
  },
  {
   "cell_type": "code",
   "execution_count": 20,
   "metadata": {},
   "outputs": [
    {
     "data": {
      "text/html": [
       "<div>\n",
       "<style scoped>\n",
       "    .dataframe tbody tr th:only-of-type {\n",
       "        vertical-align: middle;\n",
       "    }\n",
       "\n",
       "    .dataframe tbody tr th {\n",
       "        vertical-align: top;\n",
       "    }\n",
       "\n",
       "    .dataframe thead th {\n",
       "        text-align: right;\n",
       "    }\n",
       "</style>\n",
       "<table border=\"1\" class=\"dataframe\">\n",
       "  <thead>\n",
       "    <tr style=\"text-align: right;\">\n",
       "      <th></th>\n",
       "      <th>ICE</th>\n",
       "      <th>Hypothesis</th>\n",
       "    </tr>\n",
       "  </thead>\n",
       "  <tbody>\n",
       "    <tr>\n",
       "      <th>8</th>\n",
       "      <td>16.2</td>\n",
       "      <td>Запустить акцию, дающую скидку на товар в день рождения</td>\n",
       "    </tr>\n",
       "    <tr>\n",
       "      <th>0</th>\n",
       "      <td>13.3</td>\n",
       "      <td>Добавить два новых канала привлечения трафика, что позволит привлекать на 30% больше пользователей</td>\n",
       "    </tr>\n",
       "    <tr>\n",
       "      <th>7</th>\n",
       "      <td>11.2</td>\n",
       "      <td>Добавить форму подписки на все основные страницы, чтобы собрать базу клиентов для email-рассылок</td>\n",
       "    </tr>\n",
       "    <tr>\n",
       "      <th>6</th>\n",
       "      <td>8.0</td>\n",
       "      <td>Показать на главной странице баннеры с актуальными акциями и распродажами, чтобы увеличить конверсию</td>\n",
       "    </tr>\n",
       "    <tr>\n",
       "      <th>2</th>\n",
       "      <td>7.0</td>\n",
       "      <td>Добавить блоки рекомендаций товаров на сайт интернет магазина, чтобы повысить конверсию и средний чек заказа</td>\n",
       "    </tr>\n",
       "    <tr>\n",
       "      <th>1</th>\n",
       "      <td>2.0</td>\n",
       "      <td>Запустить собственную службу доставки, что сократит срок доставки заказов</td>\n",
       "    </tr>\n",
       "    <tr>\n",
       "      <th>5</th>\n",
       "      <td>1.3</td>\n",
       "      <td>Добавить страницу отзывов клиентов о магазине, что позволит увеличить количество заказов</td>\n",
       "    </tr>\n",
       "    <tr>\n",
       "      <th>3</th>\n",
       "      <td>1.1</td>\n",
       "      <td>Изменить структура категорий, что увеличит конверсию, т.к. пользователи быстрее найдут нужный товар</td>\n",
       "    </tr>\n",
       "    <tr>\n",
       "      <th>4</th>\n",
       "      <td>1.0</td>\n",
       "      <td>Изменить цвет фона главной страницы, чтобы увеличить вовлеченность пользователей</td>\n",
       "    </tr>\n",
       "  </tbody>\n",
       "</table>\n",
       "</div>"
      ],
      "text/plain": [
       "    ICE  \\\n",
       "8  16.2   \n",
       "0  13.3   \n",
       "7  11.2   \n",
       "6   8.0   \n",
       "2   7.0   \n",
       "1   2.0   \n",
       "5   1.3   \n",
       "3   1.1   \n",
       "4   1.0   \n",
       "\n",
       "                                                                                                     Hypothesis  \n",
       "8                                                       Запустить акцию, дающую скидку на товар в день рождения  \n",
       "0            Добавить два новых канала привлечения трафика, что позволит привлекать на 30% больше пользователей  \n",
       "7              Добавить форму подписки на все основные страницы, чтобы собрать базу клиентов для email-рассылок  \n",
       "6          Показать на главной странице баннеры с актуальными акциями и распродажами, чтобы увеличить конверсию  \n",
       "2  Добавить блоки рекомендаций товаров на сайт интернет магазина, чтобы повысить конверсию и средний чек заказа  \n",
       "1                                     Запустить собственную службу доставки, что сократит срок доставки заказов  \n",
       "5                      Добавить страницу отзывов клиентов о магазине, что позволит увеличить количество заказов  \n",
       "3           Изменить структура категорий, что увеличит конверсию, т.к. пользователи быстрее найдут нужный товар  \n",
       "4                              Изменить цвет фона главной страницы, чтобы увеличить вовлеченность пользователей  "
      ]
     },
     "execution_count": 20,
     "metadata": {},
     "output_type": "execute_result"
    }
   ],
   "source": [
    "pd.set_option('display.max_colwidth', 500)\n",
    "hypothesis[['ICE', 'Hypothesis']].sort_values(by='ICE', ascending=False)"
   ]
  },
  {
   "cell_type": "code",
   "execution_count": 21,
   "metadata": {},
   "outputs": [
    {
     "data": {
      "text/html": [
       "<div>\n",
       "<style scoped>\n",
       "    .dataframe tbody tr th:only-of-type {\n",
       "        vertical-align: middle;\n",
       "    }\n",
       "\n",
       "    .dataframe tbody tr th {\n",
       "        vertical-align: top;\n",
       "    }\n",
       "\n",
       "    .dataframe thead th {\n",
       "        text-align: right;\n",
       "    }\n",
       "</style>\n",
       "<table border=\"1\" class=\"dataframe\">\n",
       "  <thead>\n",
       "    <tr style=\"text-align: right;\">\n",
       "      <th></th>\n",
       "      <th>RICE</th>\n",
       "      <th>Hypothesis</th>\n",
       "      <th>Reach</th>\n",
       "    </tr>\n",
       "  </thead>\n",
       "  <tbody>\n",
       "    <tr>\n",
       "      <th>7</th>\n",
       "      <td>112.0</td>\n",
       "      <td>Добавить форму подписки на все основные страницы, чтобы собрать базу клиентов для email-рассылок</td>\n",
       "      <td>10</td>\n",
       "    </tr>\n",
       "    <tr>\n",
       "      <th>2</th>\n",
       "      <td>56.0</td>\n",
       "      <td>Добавить блоки рекомендаций товаров на сайт интернет магазина, чтобы повысить конверсию и средний чек заказа</td>\n",
       "      <td>8</td>\n",
       "    </tr>\n",
       "    <tr>\n",
       "      <th>0</th>\n",
       "      <td>40.0</td>\n",
       "      <td>Добавить два новых канала привлечения трафика, что позволит привлекать на 30% больше пользователей</td>\n",
       "      <td>3</td>\n",
       "    </tr>\n",
       "    <tr>\n",
       "      <th>6</th>\n",
       "      <td>40.0</td>\n",
       "      <td>Показать на главной странице баннеры с актуальными акциями и распродажами, чтобы увеличить конверсию</td>\n",
       "      <td>5</td>\n",
       "    </tr>\n",
       "    <tr>\n",
       "      <th>8</th>\n",
       "      <td>16.2</td>\n",
       "      <td>Запустить акцию, дающую скидку на товар в день рождения</td>\n",
       "      <td>1</td>\n",
       "    </tr>\n",
       "    <tr>\n",
       "      <th>3</th>\n",
       "      <td>9.0</td>\n",
       "      <td>Изменить структура категорий, что увеличит конверсию, т.к. пользователи быстрее найдут нужный товар</td>\n",
       "      <td>8</td>\n",
       "    </tr>\n",
       "    <tr>\n",
       "      <th>1</th>\n",
       "      <td>4.0</td>\n",
       "      <td>Запустить собственную службу доставки, что сократит срок доставки заказов</td>\n",
       "      <td>2</td>\n",
       "    </tr>\n",
       "    <tr>\n",
       "      <th>5</th>\n",
       "      <td>4.0</td>\n",
       "      <td>Добавить страницу отзывов клиентов о магазине, что позволит увеличить количество заказов</td>\n",
       "      <td>3</td>\n",
       "    </tr>\n",
       "    <tr>\n",
       "      <th>4</th>\n",
       "      <td>3.0</td>\n",
       "      <td>Изменить цвет фона главной страницы, чтобы увеличить вовлеченность пользователей</td>\n",
       "      <td>3</td>\n",
       "    </tr>\n",
       "  </tbody>\n",
       "</table>\n",
       "</div>"
      ],
      "text/plain": [
       "    RICE  \\\n",
       "7  112.0   \n",
       "2   56.0   \n",
       "0   40.0   \n",
       "6   40.0   \n",
       "8   16.2   \n",
       "3    9.0   \n",
       "1    4.0   \n",
       "5    4.0   \n",
       "4    3.0   \n",
       "\n",
       "                                                                                                     Hypothesis  \\\n",
       "7              Добавить форму подписки на все основные страницы, чтобы собрать базу клиентов для email-рассылок   \n",
       "2  Добавить блоки рекомендаций товаров на сайт интернет магазина, чтобы повысить конверсию и средний чек заказа   \n",
       "0            Добавить два новых канала привлечения трафика, что позволит привлекать на 30% больше пользователей   \n",
       "6          Показать на главной странице баннеры с актуальными акциями и распродажами, чтобы увеличить конверсию   \n",
       "8                                                       Запустить акцию, дающую скидку на товар в день рождения   \n",
       "3           Изменить структура категорий, что увеличит конверсию, т.к. пользователи быстрее найдут нужный товар   \n",
       "1                                     Запустить собственную службу доставки, что сократит срок доставки заказов   \n",
       "5                      Добавить страницу отзывов клиентов о магазине, что позволит увеличить количество заказов   \n",
       "4                              Изменить цвет фона главной страницы, чтобы увеличить вовлеченность пользователей   \n",
       "\n",
       "   Reach  \n",
       "7     10  \n",
       "2      8  \n",
       "0      3  \n",
       "6      5  \n",
       "8      1  \n",
       "3      8  \n",
       "1      2  \n",
       "5      3  \n",
       "4      3  "
      ]
     },
     "execution_count": 21,
     "metadata": {},
     "output_type": "execute_result"
    }
   ],
   "source": [
    "pd.set_option('display.max_colwidth', 500)\n",
    "hypothesis[['RICE', 'Hypothesis', 'Reach']].sort_values(by='RICE', ascending=False)"
   ]
  },
  {
   "cell_type": "markdown",
   "metadata": {},
   "source": [
    "**Вывод:** В первую очередь заметно как меняются \"лидеры\". В `ICE` гипотезы с индексами `8`, `0`, `7` меняются с `RICE` - `7`, `2`, `0`; Лидер ICE `8` сместился на 5 позицию. А `2` сместился на второе место с пятого.\n",
    "\\\n",
    "\\\n",
    "Такое различие обусловлено тем, что в фреймворке `RICE` мы учитываем параметр `reach`. Скольких пользователей затронет наше нововведение. В гипотезах `7` и `2` он `10` и `8` соответственно. В лидере `ICE` он минимальный - `1`. \n",
    "\\\n",
    "\\\n",
    "Исходя из этого надо предложить к тестированию две гипотезы. `7` и `2`. "
   ]
  },
  {
   "cell_type": "markdown",
   "metadata": {},
   "source": [
    "## Анализ A/B-теста <a id=\"paragraph3\"></a>  \n",
    "\n",
    "[Вернуться к содержанию](#content)"
   ]
  },
  {
   "cell_type": "markdown",
   "metadata": {},
   "source": [
    "### График кумулятивной выручки <a id=\"paragraph3.1\"></a>  \n",
    "[Вернуться к содержанию](#content)\n",
    "\n",
    "- Постройте график кумулятивной выручки по группам. Сделайте выводы и предположения."
   ]
  },
  {
   "cell_type": "code",
   "execution_count": 22,
   "metadata": {},
   "outputs": [
    {
     "data": {
      "text/html": [
       "<div>\n",
       "<style scoped>\n",
       "    .dataframe tbody tr th:only-of-type {\n",
       "        vertical-align: middle;\n",
       "    }\n",
       "\n",
       "    .dataframe tbody tr th {\n",
       "        vertical-align: top;\n",
       "    }\n",
       "\n",
       "    .dataframe thead th {\n",
       "        text-align: right;\n",
       "    }\n",
       "</style>\n",
       "<table border=\"1\" class=\"dataframe\">\n",
       "  <thead>\n",
       "    <tr style=\"text-align: right;\">\n",
       "      <th></th>\n",
       "      <th>transactionId</th>\n",
       "      <th>visitorId</th>\n",
       "      <th>date</th>\n",
       "      <th>revenue</th>\n",
       "      <th>group</th>\n",
       "    </tr>\n",
       "  </thead>\n",
       "  <tbody>\n",
       "    <tr>\n",
       "      <th>728</th>\n",
       "      <td>1416727054</td>\n",
       "      <td>3357398384</td>\n",
       "      <td>2019-08-07</td>\n",
       "      <td>29499</td>\n",
       "      <td>B</td>\n",
       "    </tr>\n",
       "    <tr>\n",
       "      <th>150</th>\n",
       "      <td>1648861120</td>\n",
       "      <td>104602633</td>\n",
       "      <td>2019-08-17</td>\n",
       "      <td>2920</td>\n",
       "      <td>B</td>\n",
       "    </tr>\n",
       "    <tr>\n",
       "      <th>1095</th>\n",
       "      <td>2774755101</td>\n",
       "      <td>2366521417</td>\n",
       "      <td>2019-08-12</td>\n",
       "      <td>14000</td>\n",
       "      <td>B</td>\n",
       "    </tr>\n",
       "  </tbody>\n",
       "</table>\n",
       "</div>"
      ],
      "text/plain": [
       "      transactionId   visitorId       date  revenue group\n",
       "728      1416727054  3357398384 2019-08-07    29499     B\n",
       "150      1648861120   104602633 2019-08-17     2920     B\n",
       "1095     2774755101  2366521417 2019-08-12    14000     B"
      ]
     },
     "execution_count": 22,
     "metadata": {},
     "output_type": "execute_result"
    }
   ],
   "source": [
    "orders.sample(3)"
   ]
  },
  {
   "cell_type": "markdown",
   "metadata": {},
   "source": [
    "Найдем медиану выручки за день в каждой группе. "
   ]
  },
  {
   "cell_type": "code",
   "execution_count": 23,
   "metadata": {},
   "outputs": [
    {
     "data": {
      "text/plain": [
       "group\n",
       "A    112473\n",
       "B    147274\n",
       "Name: revenue, dtype: int64"
      ]
     },
     "execution_count": 23,
     "metadata": {},
     "output_type": "execute_result"
    }
   ],
   "source": [
    "orders.groupby(['date','group'])['revenue'].sum().groupby('group').median()"
   ]
  },
  {
   "cell_type": "code",
   "execution_count": 24,
   "metadata": {},
   "outputs": [
    {
     "data": {
      "text/html": [
       "<div>\n",
       "<style scoped>\n",
       "    .dataframe tbody tr th:only-of-type {\n",
       "        vertical-align: middle;\n",
       "    }\n",
       "\n",
       "    .dataframe tbody tr th {\n",
       "        vertical-align: top;\n",
       "    }\n",
       "\n",
       "    .dataframe thead th {\n",
       "        text-align: right;\n",
       "    }\n",
       "</style>\n",
       "<table border=\"1\" class=\"dataframe\">\n",
       "  <thead>\n",
       "    <tr style=\"text-align: right;\">\n",
       "      <th></th>\n",
       "      <th>date</th>\n",
       "      <th>group</th>\n",
       "      <th>visitors</th>\n",
       "    </tr>\n",
       "  </thead>\n",
       "  <tbody>\n",
       "    <tr>\n",
       "      <th>28</th>\n",
       "      <td>2019-08-29</td>\n",
       "      <td>A</td>\n",
       "      <td>577</td>\n",
       "    </tr>\n",
       "    <tr>\n",
       "      <th>51</th>\n",
       "      <td>2019-08-21</td>\n",
       "      <td>B</td>\n",
       "      <td>656</td>\n",
       "    </tr>\n",
       "    <tr>\n",
       "      <th>59</th>\n",
       "      <td>2019-08-29</td>\n",
       "      <td>B</td>\n",
       "      <td>531</td>\n",
       "    </tr>\n",
       "  </tbody>\n",
       "</table>\n",
       "</div>"
      ],
      "text/plain": [
       "         date group  visitors\n",
       "28 2019-08-29     A       577\n",
       "51 2019-08-21     B       656\n",
       "59 2019-08-29     B       531"
      ]
     },
     "execution_count": 24,
     "metadata": {},
     "output_type": "execute_result"
    }
   ],
   "source": [
    "visitors.sample(3)"
   ]
  },
  {
   "cell_type": "markdown",
   "metadata": {},
   "source": [
    "Сверим даты посещения и заказов, чтобы без проблем обьединить таблицы. "
   ]
  },
  {
   "cell_type": "code",
   "execution_count": 25,
   "metadata": {},
   "outputs": [
    {
     "data": {
      "text/html": [
       "<div>\n",
       "<style scoped>\n",
       "    .dataframe tbody tr th:only-of-type {\n",
       "        vertical-align: middle;\n",
       "    }\n",
       "\n",
       "    .dataframe tbody tr th {\n",
       "        vertical-align: top;\n",
       "    }\n",
       "\n",
       "    .dataframe thead th {\n",
       "        text-align: right;\n",
       "    }\n",
       "</style>\n",
       "<table border=\"1\" class=\"dataframe\">\n",
       "  <thead>\n",
       "    <tr style=\"text-align: right;\">\n",
       "      <th></th>\n",
       "      <th>date</th>\n",
       "      <th>group</th>\n",
       "    </tr>\n",
       "  </thead>\n",
       "  <tbody>\n",
       "    <tr>\n",
       "      <th>0</th>\n",
       "      <td>2019-08-01</td>\n",
       "      <td>A</td>\n",
       "    </tr>\n",
       "    <tr>\n",
       "      <th>1</th>\n",
       "      <td>2019-08-01</td>\n",
       "      <td>B</td>\n",
       "    </tr>\n",
       "    <tr>\n",
       "      <th>2</th>\n",
       "      <td>2019-08-02</td>\n",
       "      <td>A</td>\n",
       "    </tr>\n",
       "    <tr>\n",
       "      <th>3</th>\n",
       "      <td>2019-08-02</td>\n",
       "      <td>B</td>\n",
       "    </tr>\n",
       "    <tr>\n",
       "      <th>4</th>\n",
       "      <td>2019-08-03</td>\n",
       "      <td>A</td>\n",
       "    </tr>\n",
       "    <tr>\n",
       "      <th>...</th>\n",
       "      <td>...</td>\n",
       "      <td>...</td>\n",
       "    </tr>\n",
       "    <tr>\n",
       "      <th>57</th>\n",
       "      <td>2019-08-29</td>\n",
       "      <td>B</td>\n",
       "    </tr>\n",
       "    <tr>\n",
       "      <th>58</th>\n",
       "      <td>2019-08-30</td>\n",
       "      <td>A</td>\n",
       "    </tr>\n",
       "    <tr>\n",
       "      <th>59</th>\n",
       "      <td>2019-08-30</td>\n",
       "      <td>B</td>\n",
       "    </tr>\n",
       "    <tr>\n",
       "      <th>60</th>\n",
       "      <td>2019-08-31</td>\n",
       "      <td>A</td>\n",
       "    </tr>\n",
       "    <tr>\n",
       "      <th>61</th>\n",
       "      <td>2019-08-31</td>\n",
       "      <td>B</td>\n",
       "    </tr>\n",
       "  </tbody>\n",
       "</table>\n",
       "<p>62 rows × 2 columns</p>\n",
       "</div>"
      ],
      "text/plain": [
       "         date group\n",
       "0  2019-08-01     A\n",
       "1  2019-08-01     B\n",
       "2  2019-08-02     A\n",
       "3  2019-08-02     B\n",
       "4  2019-08-03     A\n",
       "..        ...   ...\n",
       "57 2019-08-29     B\n",
       "58 2019-08-30     A\n",
       "59 2019-08-30     B\n",
       "60 2019-08-31     A\n",
       "61 2019-08-31     B\n",
       "\n",
       "[62 rows x 2 columns]"
      ]
     },
     "execution_count": 25,
     "metadata": {},
     "output_type": "execute_result"
    }
   ],
   "source": [
    "orders[['date','group']].drop_duplicates().sort_values(by=['date','group']).reset_index(drop=True)"
   ]
  },
  {
   "cell_type": "markdown",
   "metadata": {},
   "source": [
    "Теперь можно приступить к обьединению."
   ]
  },
  {
   "cell_type": "code",
   "execution_count": 26,
   "metadata": {},
   "outputs": [
    {
     "data": {
      "text/html": [
       "<div>\n",
       "<style scoped>\n",
       "    .dataframe tbody tr th:only-of-type {\n",
       "        vertical-align: middle;\n",
       "    }\n",
       "\n",
       "    .dataframe tbody tr th {\n",
       "        vertical-align: top;\n",
       "    }\n",
       "\n",
       "    .dataframe thead th {\n",
       "        text-align: right;\n",
       "    }\n",
       "</style>\n",
       "<table border=\"1\" class=\"dataframe\">\n",
       "  <thead>\n",
       "    <tr style=\"text-align: right;\">\n",
       "      <th></th>\n",
       "      <th>date</th>\n",
       "      <th>group</th>\n",
       "    </tr>\n",
       "  </thead>\n",
       "  <tbody>\n",
       "    <tr>\n",
       "      <th>0</th>\n",
       "      <td>True</td>\n",
       "      <td>True</td>\n",
       "    </tr>\n",
       "    <tr>\n",
       "      <th>1</th>\n",
       "      <td>True</td>\n",
       "      <td>True</td>\n",
       "    </tr>\n",
       "    <tr>\n",
       "      <th>2</th>\n",
       "      <td>True</td>\n",
       "      <td>True</td>\n",
       "    </tr>\n",
       "    <tr>\n",
       "      <th>3</th>\n",
       "      <td>True</td>\n",
       "      <td>True</td>\n",
       "    </tr>\n",
       "    <tr>\n",
       "      <th>4</th>\n",
       "      <td>True</td>\n",
       "      <td>True</td>\n",
       "    </tr>\n",
       "    <tr>\n",
       "      <th>...</th>\n",
       "      <td>...</td>\n",
       "      <td>...</td>\n",
       "    </tr>\n",
       "    <tr>\n",
       "      <th>57</th>\n",
       "      <td>True</td>\n",
       "      <td>True</td>\n",
       "    </tr>\n",
       "    <tr>\n",
       "      <th>58</th>\n",
       "      <td>True</td>\n",
       "      <td>True</td>\n",
       "    </tr>\n",
       "    <tr>\n",
       "      <th>59</th>\n",
       "      <td>True</td>\n",
       "      <td>True</td>\n",
       "    </tr>\n",
       "    <tr>\n",
       "      <th>60</th>\n",
       "      <td>True</td>\n",
       "      <td>True</td>\n",
       "    </tr>\n",
       "    <tr>\n",
       "      <th>61</th>\n",
       "      <td>True</td>\n",
       "      <td>True</td>\n",
       "    </tr>\n",
       "  </tbody>\n",
       "</table>\n",
       "<p>62 rows × 2 columns</p>\n",
       "</div>"
      ],
      "text/plain": [
       "    date  group\n",
       "0   True   True\n",
       "1   True   True\n",
       "2   True   True\n",
       "3   True   True\n",
       "4   True   True\n",
       "..   ...    ...\n",
       "57  True   True\n",
       "58  True   True\n",
       "59  True   True\n",
       "60  True   True\n",
       "61  True   True\n",
       "\n",
       "[62 rows x 2 columns]"
      ]
     },
     "execution_count": 26,
     "metadata": {},
     "output_type": "execute_result"
    }
   ],
   "source": [
    "merged_dg = orders[['date','group']].drop_duplicates().sort_values(by=['date','group']).reset_index(drop=True) == \\\n",
    "                        visitors[['date','group']].drop_duplicates().sort_values(by=['date','group']).reset_index(drop=True)\n",
    "merged_dg"
   ]
  },
  {
   "cell_type": "code",
   "execution_count": 27,
   "metadata": {},
   "outputs": [
    {
     "data": {
      "text/plain": [
       "(62, 62)"
      ]
     },
     "execution_count": 27,
     "metadata": {},
     "output_type": "execute_result"
    }
   ],
   "source": [
    "merged_dg['date'].sum() , merged_dg['group'].sum()"
   ]
  },
  {
   "cell_type": "markdown",
   "metadata": {},
   "source": [
    "Количество записей совпадает. Также как и даты/группы. Можно обьединять. \\\n",
    "Теперь создаем фрейм с куммулятивными данными - `cumulativeData`."
   ]
  },
  {
   "cell_type": "code",
   "execution_count": 28,
   "metadata": {},
   "outputs": [
    {
     "data": {
      "text/html": [
       "<div>\n",
       "<style scoped>\n",
       "    .dataframe tbody tr th:only-of-type {\n",
       "        vertical-align: middle;\n",
       "    }\n",
       "\n",
       "    .dataframe tbody tr th {\n",
       "        vertical-align: top;\n",
       "    }\n",
       "\n",
       "    .dataframe thead th {\n",
       "        text-align: right;\n",
       "    }\n",
       "</style>\n",
       "<table border=\"1\" class=\"dataframe\">\n",
       "  <thead>\n",
       "    <tr style=\"text-align: right;\">\n",
       "      <th></th>\n",
       "      <th>date</th>\n",
       "      <th>group</th>\n",
       "      <th>orders</th>\n",
       "      <th>buyers</th>\n",
       "      <th>revenue</th>\n",
       "      <th>visitors</th>\n",
       "    </tr>\n",
       "  </thead>\n",
       "  <tbody>\n",
       "    <tr>\n",
       "      <th>0</th>\n",
       "      <td>2019-08-01</td>\n",
       "      <td>A</td>\n",
       "      <td>24</td>\n",
       "      <td>20</td>\n",
       "      <td>148579</td>\n",
       "      <td>719</td>\n",
       "    </tr>\n",
       "    <tr>\n",
       "      <th>1</th>\n",
       "      <td>2019-08-01</td>\n",
       "      <td>B</td>\n",
       "      <td>21</td>\n",
       "      <td>20</td>\n",
       "      <td>101217</td>\n",
       "      <td>713</td>\n",
       "    </tr>\n",
       "    <tr>\n",
       "      <th>2</th>\n",
       "      <td>2019-08-02</td>\n",
       "      <td>A</td>\n",
       "      <td>44</td>\n",
       "      <td>38</td>\n",
       "      <td>242401</td>\n",
       "      <td>1338</td>\n",
       "    </tr>\n",
       "    <tr>\n",
       "      <th>3</th>\n",
       "      <td>2019-08-02</td>\n",
       "      <td>B</td>\n",
       "      <td>45</td>\n",
       "      <td>43</td>\n",
       "      <td>266748</td>\n",
       "      <td>1294</td>\n",
       "    </tr>\n",
       "    <tr>\n",
       "      <th>4</th>\n",
       "      <td>2019-08-03</td>\n",
       "      <td>A</td>\n",
       "      <td>68</td>\n",
       "      <td>62</td>\n",
       "      <td>354874</td>\n",
       "      <td>1845</td>\n",
       "    </tr>\n",
       "  </tbody>\n",
       "</table>\n",
       "</div>"
      ],
      "text/plain": [
       "        date group  orders  buyers  revenue  visitors\n",
       "0 2019-08-01     A      24      20   148579       719\n",
       "1 2019-08-01     B      21      20   101217       713\n",
       "2 2019-08-02     A      44      38   242401      1338\n",
       "3 2019-08-02     B      45      43   266748      1294\n",
       "4 2019-08-03     A      68      62   354874      1845"
      ]
     },
     "execution_count": 28,
     "metadata": {},
     "output_type": "execute_result"
    }
   ],
   "source": [
    "datesGroups = orders[['date','group']].drop_duplicates()\n",
    "\n",
    "ordersAggregated = datesGroups.apply(lambda x: orders[np.logical_and(orders['date'] <= x['date'], orders['group'] == x['group'])]. \\\n",
    "                                     agg({'date' : 'max', \n",
    "                                          'group' : 'max', \n",
    "                                          'transactionId' : pd.Series.nunique, \n",
    "                                          'visitorId' : pd.Series.nunique, \n",
    "                                          'revenue' : 'sum'}), axis=1).sort_values(by=['date','group'])\n",
    "\n",
    "visitorsAggregated = datesGroups.apply(lambda x: visitors[np.logical_and(visitors['date'] <= x['date'], visitors['group'] == x['group'])]. \\\n",
    "                                       agg({'date' : 'max', \n",
    "                                            'group' : 'max', \n",
    "                                            'visitors' : 'sum'}), axis=1).sort_values(by=['date','group'])\n",
    "\n",
    "cumulativeData = ordersAggregated.merge(visitorsAggregated, left_on=['date', 'group'], right_on=['date', 'group'])\n",
    "cumulativeData.columns = ['date', 'group', 'orders', 'buyers', 'revenue', 'visitors']\n",
    "\n",
    "cumulativeData.head(5)"
   ]
  },
  {
   "cell_type": "markdown",
   "metadata": {},
   "source": [
    "Строим график выручки обоих групп."
   ]
  },
  {
   "cell_type": "code",
   "execution_count": 29,
   "metadata": {},
   "outputs": [
    {
     "data": {
      "image/png": "[encoded data removed]",
      "text/plain": [
       "<Figure size 1080x360 with 1 Axes>"
      ]
     },
     "metadata": {
      "needs_background": "light"
     },
     "output_type": "display_data"
    }
   ],
   "source": [
    "cumulativeRevenueA = cumulativeData[cumulativeData['group']=='A'][['date','revenue', 'orders']]\n",
    "cumulativeRevenueB = cumulativeData[cumulativeData['group']=='B'][['date','revenue', 'orders']]\n",
    "\n",
    "from pandas.plotting import register_matplotlib_converters\n",
    "register_matplotlib_converters()\n",
    "\n",
    "plt.figure(figsize=(15,5))\n",
    "\n",
    "plt.title('График выручки исследуемых групп')\n",
    "\n",
    "plt.plot(cumulativeRevenueA['date'], cumulativeRevenueA['revenue'], label='Кум.выручка группы A')\n",
    "plt.plot(cumulativeRevenueB['date'], cumulativeRevenueB['revenue'], label='Кум.выручка группы B')\n",
    "plt.xlabel('Дата исследования')\n",
    "plt.ylabel('Размер выручки')\n",
    "plt.grid()\n",
    "plt.legend() ;"
   ]
  },
  {
   "cell_type": "markdown",
   "metadata": {},
   "source": [
    "**Вывод:** На первой половине графика разница не существенна. Во второй половине картина меняется. Группа `B` отрывается по выручке. Происходит скачек между 17-21 числом. После этого графики опять имеют схожую динамику. Необходимо взглянуть на данный временной промежуток подробнее."
   ]
  },
  {
   "cell_type": "code",
   "execution_count": 30,
   "metadata": {},
   "outputs": [
    {
     "data": {
      "text/html": [
       "<div>\n",
       "<style scoped>\n",
       "    .dataframe tbody tr th:only-of-type {\n",
       "        vertical-align: middle;\n",
       "    }\n",
       "\n",
       "    .dataframe tbody tr th {\n",
       "        vertical-align: top;\n",
       "    }\n",
       "\n",
       "    .dataframe thead th {\n",
       "        text-align: right;\n",
       "    }\n",
       "</style>\n",
       "<table border=\"1\" class=\"dataframe\">\n",
       "  <thead>\n",
       "    <tr style=\"text-align: right;\">\n",
       "      <th></th>\n",
       "      <th>date</th>\n",
       "      <th>revenue</th>\n",
       "      <th>orders</th>\n",
       "    </tr>\n",
       "  </thead>\n",
       "  <tbody>\n",
       "    <tr>\n",
       "      <th>33</th>\n",
       "      <td>2019-08-17</td>\n",
       "      <td>2620790</td>\n",
       "      <td>373</td>\n",
       "    </tr>\n",
       "    <tr>\n",
       "      <th>35</th>\n",
       "      <td>2019-08-18</td>\n",
       "      <td>2686621</td>\n",
       "      <td>382</td>\n",
       "    </tr>\n",
       "    <tr>\n",
       "      <th>37</th>\n",
       "      <td>2019-08-19</td>\n",
       "      <td>4116541</td>\n",
       "      <td>403</td>\n",
       "    </tr>\n",
       "    <tr>\n",
       "      <th>39</th>\n",
       "      <td>2019-08-20</td>\n",
       "      <td>4263815</td>\n",
       "      <td>423</td>\n",
       "    </tr>\n",
       "    <tr>\n",
       "      <th>41</th>\n",
       "      <td>2019-08-21</td>\n",
       "      <td>4426892</td>\n",
       "      <td>437</td>\n",
       "    </tr>\n",
       "  </tbody>\n",
       "</table>\n",
       "</div>"
      ],
      "text/plain": [
       "         date  revenue  orders\n",
       "33 2019-08-17  2620790     373\n",
       "35 2019-08-18  2686621     382\n",
       "37 2019-08-19  4116541     403\n",
       "39 2019-08-20  4263815     423\n",
       "41 2019-08-21  4426892     437"
      ]
     },
     "execution_count": 30,
     "metadata": {},
     "output_type": "execute_result"
    }
   ],
   "source": [
    "cumulativeRevenueB.query(' \"2019-08-17\" <= date <= \"2019-08-21\" ')"
   ]
  },
  {
   "cell_type": "markdown",
   "metadata": {},
   "source": [
    "Количество заказов 19 примерно такое же как и в соседние дни. Вероятно сумма заказов там гораздо больше или что более вероятно, есть какой-то большой заказ, который и дал такую картину на графике."
   ]
  },
  {
   "cell_type": "markdown",
   "metadata": {},
   "source": [
    "Посмотрим медианное значение суммы заказа на 19 число."
   ]
  },
  {
   "cell_type": "code",
   "execution_count": 31,
   "metadata": {},
   "outputs": [
    {
     "name": "stdout",
     "output_type": "stream",
     "text": [
      "Медианное значение одного заказа 19 августа = 2630.0\n"
     ]
    },
    {
     "data": {
      "text/html": [
       "<div>\n",
       "<style scoped>\n",
       "    .dataframe tbody tr th:only-of-type {\n",
       "        vertical-align: middle;\n",
       "    }\n",
       "\n",
       "    .dataframe tbody tr th {\n",
       "        vertical-align: top;\n",
       "    }\n",
       "\n",
       "    .dataframe thead th {\n",
       "        text-align: right;\n",
       "    }\n",
       "</style>\n",
       "<table border=\"1\" class=\"dataframe\">\n",
       "  <thead>\n",
       "    <tr style=\"text-align: right;\">\n",
       "      <th></th>\n",
       "      <th>transactionId</th>\n",
       "      <th>visitorId</th>\n",
       "      <th>date</th>\n",
       "      <th>revenue</th>\n",
       "      <th>group</th>\n",
       "    </tr>\n",
       "  </thead>\n",
       "  <tbody>\n",
       "    <tr>\n",
       "      <th>425</th>\n",
       "      <td>590470918</td>\n",
       "      <td>1920142716</td>\n",
       "      <td>2019-08-19</td>\n",
       "      <td>1294500</td>\n",
       "      <td>B</td>\n",
       "    </tr>\n",
       "    <tr>\n",
       "      <th>530</th>\n",
       "      <td>3970235543</td>\n",
       "      <td>2912540959</td>\n",
       "      <td>2019-08-19</td>\n",
       "      <td>43990</td>\n",
       "      <td>A</td>\n",
       "    </tr>\n",
       "    <tr>\n",
       "      <th>527</th>\n",
       "      <td>1570513684</td>\n",
       "      <td>2837914161</td>\n",
       "      <td>2019-08-19</td>\n",
       "      <td>33405</td>\n",
       "      <td>B</td>\n",
       "    </tr>\n",
       "    <tr>\n",
       "      <th>421</th>\n",
       "      <td>3765974140</td>\n",
       "      <td>1357170471</td>\n",
       "      <td>2019-08-19</td>\n",
       "      <td>31680</td>\n",
       "      <td>A</td>\n",
       "    </tr>\n",
       "    <tr>\n",
       "      <th>461</th>\n",
       "      <td>2683113224</td>\n",
       "      <td>154576532</td>\n",
       "      <td>2019-08-19</td>\n",
       "      <td>26550</td>\n",
       "      <td>B</td>\n",
       "    </tr>\n",
       "    <tr>\n",
       "      <th>525</th>\n",
       "      <td>3031564664</td>\n",
       "      <td>393266494</td>\n",
       "      <td>2019-08-19</td>\n",
       "      <td>21550</td>\n",
       "      <td>A</td>\n",
       "    </tr>\n",
       "    <tr>\n",
       "      <th>368</th>\n",
       "      <td>3268879337</td>\n",
       "      <td>2536252163</td>\n",
       "      <td>2019-08-19</td>\n",
       "      <td>20026</td>\n",
       "      <td>B</td>\n",
       "    </tr>\n",
       "    <tr>\n",
       "      <th>366</th>\n",
       "      <td>2037051350</td>\n",
       "      <td>1957949546</td>\n",
       "      <td>2019-08-19</td>\n",
       "      <td>16770</td>\n",
       "      <td>A</td>\n",
       "    </tr>\n",
       "  </tbody>\n",
       "</table>\n",
       "</div>"
      ],
      "text/plain": [
       "     transactionId   visitorId       date  revenue group\n",
       "425      590470918  1920142716 2019-08-19  1294500     B\n",
       "530     3970235543  2912540959 2019-08-19    43990     A\n",
       "527     1570513684  2837914161 2019-08-19    33405     B\n",
       "421     3765974140  1357170471 2019-08-19    31680     A\n",
       "461     2683113224   154576532 2019-08-19    26550     B\n",
       "525     3031564664   393266494 2019-08-19    21550     A\n",
       "368     3268879337  2536252163 2019-08-19    20026     B\n",
       "366     2037051350  1957949546 2019-08-19    16770     A"
      ]
     },
     "execution_count": 31,
     "metadata": {},
     "output_type": "execute_result"
    }
   ],
   "source": [
    "print('Медианное значение одного заказа 19 августа =',orders.query(' date == \"2019-08-19\" ')['revenue'].median())\n",
    "orders.query(' date == \"2019-08-19\" ').sort_values(by='revenue', ascending=False).head(8)"
   ]
  },
  {
   "cell_type": "markdown",
   "metadata": {},
   "source": [
    "**Вывод:** Есть один заказ под номером 425. Он принес выручку в размере `1294500`, что сильно выбивается из общей картины. Поскольку это исключение из правил, его можно считать за выброс и не учитывать при дальнейших расчетах."
   ]
  },
  {
   "cell_type": "markdown",
   "metadata": {},
   "source": [
    "### График кумулятивного среднего чека <a id=\"paragraph3.2\"></a>  \n",
    "[Вернуться к содержанию](#content)\n",
    "\n",
    "- Постройте график кумулятивного среднего чека по группам. Сделайте выводы и предположения."
   ]
  },
  {
   "cell_type": "markdown",
   "metadata": {},
   "source": [
    "Для построения графиков кумулятивного среднего чека разделим куммулятивную выручку на число заказов."
   ]
  },
  {
   "cell_type": "code",
   "execution_count": 32,
   "metadata": {},
   "outputs": [
    {
     "data": {
      "image/png": "[encoded data removed]",
      "text/plain": [
       "<Figure size 1080x360 with 1 Axes>"
      ]
     },
     "metadata": {
      "needs_background": "light"
     },
     "output_type": "display_data"
    }
   ],
   "source": [
    "plt.figure(figsize=(15,5))\n",
    "plt.grid()\n",
    "plt.title('График кумулятивного среднего чека')\n",
    "plt.plot(cumulativeRevenueA['date'], cumulativeRevenueA['revenue']/cumulativeRevenueA['orders'], label='Средний кумулятивный чек группы A')\n",
    "plt.plot(cumulativeRevenueB['date'], cumulativeRevenueB['revenue']/cumulativeRevenueB['orders'], label='Средний кумулятивный чек группы B')\n",
    "plt.ylabel('Размер среднего кумулятивного чека')\n",
    "plt.xlabel('Дата исследования')\n",
    "plt.legend() ;"
   ]
  },
  {
   "cell_type": "markdown",
   "metadata": {},
   "source": [
    "**Вывод:** График относительно похож на график кумулятивной выручки. В первой половине группа `B` имеет преимущественно больший чек. В 10-14 числах группа `A` начинает набирать преимущество. Здесь же мы наблюдаем ту самую покупку на крупную сумму и потом график идет на спад. А в это время группа `B` показывает медленный, но уверенный рост."
   ]
  },
  {
   "cell_type": "markdown",
   "metadata": {},
   "source": [
    "### График относительного изменения кумулятивного среднего чека <a id=\"paragraph3.3\"></a>  \n",
    "[Вернуться к содержанию](#content)\n",
    "\n",
    "- Постройте график относительного изменения кумулятивного среднего чека группы B к группе A. Сделайте выводы и предположения."
   ]
  },
  {
   "cell_type": "markdown",
   "metadata": {},
   "source": [
    "Обьеденим все в одном датафрейме. И построим отношение чеков обоих групп."
   ]
  },
  {
   "cell_type": "code",
   "execution_count": 33,
   "metadata": {},
   "outputs": [
    {
     "data": {
      "image/png": "[encoded data removed]",
      "text/plain": [
       "<Figure size 1080x360 with 1 Axes>"
      ]
     },
     "metadata": {
      "needs_background": "light"
     },
     "output_type": "display_data"
    }
   ],
   "source": [
    "mergedCumulativeRevenue = cumulativeRevenueA.merge(cumulativeRevenueB, left_on='date', right_on='date', how='left', suffixes=['A', 'B'])\n",
    "\n",
    "plt.figure(figsize=(15,5))\n",
    "plt.grid()\n",
    "plt.plot(mergedCumulativeRevenue['date'], (mergedCumulativeRevenue['revenueB']/mergedCumulativeRevenue['ordersB'])/ \\\n",
    "         (mergedCumulativeRevenue['revenueA']/mergedCumulativeRevenue['ordersA'])-1)\n",
    "plt.title('Относительное изменение кумулятивного среднего чека групп \"B\" к \"А\"')\n",
    "plt.axhline(y=0, color='black', linestyle='--') \n",
    "plt.ylabel('Отношение среднего чека между группами')\n",
    "plt.xlabel('Дата исследования');"
   ]
  },
  {
   "cell_type": "markdown",
   "metadata": {},
   "source": [
    "**Вывод:** В принципе данный график имеет прямое отношение к предыдущему графику. Схожая динамика и схожие принципы. Изначально средний чек менялся в положительную сторону, потом начал падать и показывать отрицательную динамику. 13 числа он опять начал показывать рост, 15 числа вышли в + и 19 числа произошел резкий скачек из-за заказа под номером 425. После данного скачка чек начал плавно снижаться."
   ]
  },
  {
   "cell_type": "markdown",
   "metadata": {},
   "source": [
    "### График кумулятивной конверсии <a id=\"paragraph3.4\"></a>  \n",
    "[Вернуться к содержанию](#content)\n",
    "- Постройте график кумулятивной конверсии по группам. Сделайте выводы и предположения."
   ]
  },
  {
   "cell_type": "code",
   "execution_count": 34,
   "metadata": {},
   "outputs": [
    {
     "data": {
      "image/png": "[encoded data removed]",
      "text/plain": [
       "<Figure size 1080x360 with 1 Axes>"
      ]
     },
     "metadata": {
      "needs_background": "light"
     },
     "output_type": "display_data"
    }
   ],
   "source": [
    "cumulativeData['conversion'] = cumulativeData['orders']/cumulativeData['visitors']\n",
    "\n",
    "cumulativeDataA = cumulativeData[cumulativeData['group']=='A']\n",
    "cumulativeDataB = cumulativeData[cumulativeData['group']=='B']\n",
    "\n",
    "plt.figure(figsize=(15,5))\n",
    "plt.grid()\n",
    "plt.plot(cumulativeDataA['date'], cumulativeDataA['conversion'], label='Кумулятивная конверсия A')\n",
    "plt.plot(cumulativeDataB['date'], cumulativeDataB['conversion'], label='Кумулятивная конверсия B')\n",
    "plt.title('Кумулятивная конверсия')\n",
    "plt.ylabel('Размер конверсии групп')\n",
    "plt.xlabel('Дата исследования')\n",
    "plt.legend();"
   ]
  },
  {
   "cell_type": "markdown",
   "metadata": {},
   "source": [
    "В начале месяца, с 1 по 5 августа, конверсия группы `А` была больше. 3 числа она показала рекордный результат за весь период исследования. После пика она начала падать и стабильно держаться на более низком уровне чем группа `B`.\n",
    "\\\n",
    "Конверсия группы `B` показывает отличную динамику где-то с 6 августа и до конца исследуемого пероида держится на стабильном уровне выше группы `A`."
   ]
  },
  {
   "cell_type": "markdown",
   "metadata": {},
   "source": [
    "### График относительной кумулятивной конверсии <a id=\"paragraph3.5\"></a>  \n",
    "[Вернуться к содержанию](#content)\n",
    "\n",
    "- Постройте график относительного изменения кумулятивной конверсии группы B к группе A. Сделайте выводы и предположения."
   ]
  },
  {
   "cell_type": "code",
   "execution_count": 35,
   "metadata": {},
   "outputs": [
    {
     "data": {
      "image/png": "[encoded data removed]",
      "text/plain": [
       "<Figure size 1080x360 with 1 Axes>"
      ]
     },
     "metadata": {
      "needs_background": "light"
     },
     "output_type": "display_data"
    }
   ],
   "source": [
    "mergedCumulativeConversions = cumulativeDataA[['date','conversion']].merge(cumulativeDataB[['date','conversion']], \\\n",
    "                                                    left_on='date', right_on='date', how='left', suffixes=['A', 'B'])\n",
    "plt.figure(figsize=(15,5))\n",
    "plt.grid()\n",
    "plt.plot(mergedCumulativeConversions['date'], mergedCumulativeConversions['conversionB']/mergedCumulativeConversions['conversionA']-1, label=\"Конверсия\")\n",
    "\n",
    "plt.title('Относительное изменение кумулятивной конверсии группы B к группе A')\n",
    "\n",
    "plt.axhline(y=0, color='black', linestyle='--') \n",
    "plt.axhline(y=0.1, color='grey', linestyle='--')\n",
    "plt.axhline(y=0.21, color='grey', linestyle='--')\n",
    "plt.axhline(y=0.057, color='grey', linestyle='--')\n",
    "plt.ylabel('Отношение конверсий между группами')\n",
    "plt.xlabel('Дата исследования');"
   ]
  },
  {
   "cell_type": "markdown",
   "metadata": {},
   "source": [
    "**Вывод:** Данный график отражает динамику предыдущих выводов. Наглядно видно как изначально соотношение конверсий для группы `B` было хуже, но потом она показала резкий рост и ей удалось удержаться в зоне выше `10%`. При этом максимум был в районе `21%`."
   ]
  },
  {
   "cell_type": "markdown",
   "metadata": {},
   "source": [
    "### График количества заказов по пользователям <a id=\"paragraph3.6\"></a>  \n",
    "[Вернуться к содержанию](#content)\n",
    "\n",
    "- Постройте точечный график количества заказов по пользователям. Сделайте выводы и предположения."
   ]
  },
  {
   "cell_type": "code",
   "execution_count": 36,
   "metadata": {},
   "outputs": [
    {
     "data": {
      "text/html": [
       "<div>\n",
       "<style scoped>\n",
       "    .dataframe tbody tr th:only-of-type {\n",
       "        vertical-align: middle;\n",
       "    }\n",
       "\n",
       "    .dataframe tbody tr th {\n",
       "        vertical-align: top;\n",
       "    }\n",
       "\n",
       "    .dataframe thead th {\n",
       "        text-align: right;\n",
       "    }\n",
       "</style>\n",
       "<table border=\"1\" class=\"dataframe\">\n",
       "  <thead>\n",
       "    <tr style=\"text-align: right;\">\n",
       "      <th></th>\n",
       "      <th>transactionId</th>\n",
       "      <th>visitorId</th>\n",
       "      <th>date</th>\n",
       "      <th>revenue</th>\n",
       "      <th>group</th>\n",
       "    </tr>\n",
       "  </thead>\n",
       "  <tbody>\n",
       "    <tr>\n",
       "      <th>0</th>\n",
       "      <td>3667963787</td>\n",
       "      <td>3312258926</td>\n",
       "      <td>2019-08-15</td>\n",
       "      <td>1650</td>\n",
       "      <td>B</td>\n",
       "    </tr>\n",
       "    <tr>\n",
       "      <th>1</th>\n",
       "      <td>2804400009</td>\n",
       "      <td>3642806036</td>\n",
       "      <td>2019-08-15</td>\n",
       "      <td>730</td>\n",
       "      <td>B</td>\n",
       "    </tr>\n",
       "    <tr>\n",
       "      <th>2</th>\n",
       "      <td>2961555356</td>\n",
       "      <td>4069496402</td>\n",
       "      <td>2019-08-15</td>\n",
       "      <td>400</td>\n",
       "      <td>A</td>\n",
       "    </tr>\n",
       "  </tbody>\n",
       "</table>\n",
       "</div>"
      ],
      "text/plain": [
       "   transactionId   visitorId       date  revenue group\n",
       "0     3667963787  3312258926 2019-08-15     1650     B\n",
       "1     2804400009  3642806036 2019-08-15      730     B\n",
       "2     2961555356  4069496402 2019-08-15      400     A"
      ]
     },
     "execution_count": 36,
     "metadata": {},
     "output_type": "execute_result"
    }
   ],
   "source": [
    "orders.head(3)"
   ]
  },
  {
   "cell_type": "code",
   "execution_count": 37,
   "metadata": {},
   "outputs": [
    {
     "data": {
      "text/html": [
       "<div>\n",
       "<style scoped>\n",
       "    .dataframe tbody tr th:only-of-type {\n",
       "        vertical-align: middle;\n",
       "    }\n",
       "\n",
       "    .dataframe tbody tr th {\n",
       "        vertical-align: top;\n",
       "    }\n",
       "\n",
       "    .dataframe thead th {\n",
       "        text-align: right;\n",
       "    }\n",
       "</style>\n",
       "<table border=\"1\" class=\"dataframe\">\n",
       "  <thead>\n",
       "    <tr style=\"text-align: right;\">\n",
       "      <th></th>\n",
       "      <th>user_id</th>\n",
       "      <th>orders</th>\n",
       "    </tr>\n",
       "  </thead>\n",
       "  <tbody>\n",
       "    <tr>\n",
       "      <th>1023</th>\n",
       "      <td>4256040402</td>\n",
       "      <td>11</td>\n",
       "    </tr>\n",
       "    <tr>\n",
       "      <th>591</th>\n",
       "      <td>2458001652</td>\n",
       "      <td>11</td>\n",
       "    </tr>\n",
       "    <tr>\n",
       "      <th>569</th>\n",
       "      <td>2378935119</td>\n",
       "      <td>9</td>\n",
       "    </tr>\n",
       "    <tr>\n",
       "      <th>487</th>\n",
       "      <td>2038680547</td>\n",
       "      <td>8</td>\n",
       "    </tr>\n",
       "    <tr>\n",
       "      <th>44</th>\n",
       "      <td>199603092</td>\n",
       "      <td>5</td>\n",
       "    </tr>\n",
       "    <tr>\n",
       "      <th>744</th>\n",
       "      <td>3062433592</td>\n",
       "      <td>5</td>\n",
       "    </tr>\n",
       "    <tr>\n",
       "      <th>55</th>\n",
       "      <td>237748145</td>\n",
       "      <td>5</td>\n",
       "    </tr>\n",
       "    <tr>\n",
       "      <th>917</th>\n",
       "      <td>3803269165</td>\n",
       "      <td>5</td>\n",
       "    </tr>\n",
       "    <tr>\n",
       "      <th>299</th>\n",
       "      <td>1230306981</td>\n",
       "      <td>5</td>\n",
       "    </tr>\n",
       "    <tr>\n",
       "      <th>897</th>\n",
       "      <td>3717692402</td>\n",
       "      <td>5</td>\n",
       "    </tr>\n",
       "  </tbody>\n",
       "</table>\n",
       "</div>"
      ],
      "text/plain": [
       "         user_id  orders\n",
       "1023  4256040402      11\n",
       "591   2458001652      11\n",
       "569   2378935119       9\n",
       "487   2038680547       8\n",
       "44     199603092       5\n",
       "744   3062433592       5\n",
       "55     237748145       5\n",
       "917   3803269165       5\n",
       "299   1230306981       5\n",
       "897   3717692402       5"
      ]
     },
     "execution_count": 37,
     "metadata": {},
     "output_type": "execute_result"
    }
   ],
   "source": [
    "ordersByUsers = orders.drop(['group', 'revenue', 'date'], axis=1).groupby('visitorId', as_index=False). \\\n",
    "                                                                        agg({'transactionId' : pd.Series.nunique})\n",
    "\n",
    "ordersByUsers.columns = ['user_id','orders']\n",
    "\n",
    "ordersByUsers.sort_values(by='orders',ascending=False).head(10)"
   ]
  },
  {
   "cell_type": "code",
   "execution_count": 38,
   "metadata": {},
   "outputs": [
    {
     "data": {
      "image/png": "[encoded data removed]",
      "text/plain": [
       "<Figure size 1080x360 with 1 Axes>"
      ]
     },
     "metadata": {
      "needs_background": "light"
     },
     "output_type": "display_data"
    }
   ],
   "source": [
    "x_values = pd.Series(range(0,len(ordersByUsers)))\n",
    "\n",
    "plt.figure(figsize=(15,5))\n",
    "plt.grid()\n",
    "plt.title('График количества заказов по пользователям')\n",
    "plt.scatter(x_values, ordersByUsers['orders'], alpha=0.5) \n",
    "plt.ylabel('Количество заказов')\n",
    "plt.xlabel('Заказчики');\n"
   ]
  },
  {
   "cell_type": "markdown",
   "metadata": {},
   "source": [
    "**Вывод:** Большая часть людей совершает 1 заказ. Какая-то доля возвращается за ещё одним и наблюдаются \"выбросы\" в зоне выше 10 заказов."
   ]
  },
  {
   "cell_type": "markdown",
   "metadata": {},
   "source": [
    "### Граница заказов для определения аномальных пользователей <a id=\"paragraph3.7\"></a>  \n",
    "[Вернуться к содержанию](#content)\n",
    "\n",
    "- Посчитайте 95-й и 99-й перцентили количества заказов на пользователя. Выберите границу для определения аномальных пользователей."
   ]
  },
  {
   "cell_type": "markdown",
   "metadata": {},
   "source": [
    "Расчитаем 95 и 99 перцентили для заказов."
   ]
  },
  {
   "cell_type": "code",
   "execution_count": 39,
   "metadata": {},
   "outputs": [
    {
     "data": {
      "text/plain": [
       "array([2., 4.])"
      ]
     },
     "execution_count": 39,
     "metadata": {},
     "output_type": "execute_result"
    }
   ],
   "source": [
    "np.percentile(ordersByUsers['orders'], [95, 99])"
   ]
  },
  {
   "cell_type": "markdown",
   "metadata": {},
   "source": [
    "Для большей точности расчитаем все перцентили с 95 до 99."
   ]
  },
  {
   "cell_type": "code",
   "execution_count": 40,
   "metadata": {},
   "outputs": [
    {
     "data": {
      "text/plain": [
       "array([2., 2., 2., 3., 4.])"
      ]
     },
     "execution_count": 40,
     "metadata": {},
     "output_type": "execute_result"
    }
   ],
   "source": [
    "np.percentile(ordersByUsers['orders'], [95,96,97,98, 99])"
   ]
  },
  {
   "cell_type": "markdown",
   "metadata": {},
   "source": [
    "**Вывод:** Теперь наглядно видно что 98% пользователей делают 1-2 заказа. Все что выше - берем за аномалию."
   ]
  },
  {
   "cell_type": "markdown",
   "metadata": {},
   "source": [
    "### График стоимости заказов <a id=\"paragraph3.8\"></a>  \n",
    "[Вернуться к содержанию](#content)\n",
    "\n",
    "- Постройте точечный график стоимостей заказов. Сделайте выводы и предположения."
   ]
  },
  {
   "cell_type": "code",
   "execution_count": 41,
   "metadata": {},
   "outputs": [
    {
     "data": {
      "image/png": "[encoded data removed]",
      "text/plain": [
       "<Figure size 1080x360 with 1 Axes>"
      ]
     },
     "metadata": {
      "needs_background": "light"
     },
     "output_type": "display_data"
    }
   ],
   "source": [
    "x_values = pd.Series(range(0,len(orders['revenue'])))\n",
    "plt.figure(figsize=(15,5))\n",
    "plt.grid()\n",
    "plt.title('График стоимостей заказов')\n",
    "plt.scatter(x_values, orders['revenue'], alpha=0.5)\n",
    "plt.ylabel('Выручка')\n",
    "plt.xlabel('Заказы');"
   ]
  },
  {
   "cell_type": "markdown",
   "metadata": {},
   "source": [
    "Построим более наглядный график, для это уберем явные выбросы с `revenue` больше 199000."
   ]
  },
  {
   "cell_type": "code",
   "execution_count": 42,
   "metadata": {},
   "outputs": [
    {
     "data": {
      "image/png": "[encoded data removed]",
      "text/plain": [
       "<Figure size 1080x360 with 1 Axes>"
      ]
     },
     "metadata": {
      "needs_background": "light"
     },
     "output_type": "display_data"
    }
   ],
   "source": [
    "norm_orders = orders[orders['revenue']<=195000]['revenue']\n",
    "xn_values = pd.Series(range(0,len(norm_orders)))\n",
    "plt.figure(figsize=(15,5))\n",
    "plt.grid()\n",
    "plt.title('График стоимостей заказов')\n",
    "plt.scatter(xn_values, norm_orders, alpha=0.5)\n",
    "plt.ylabel('Выручка')\n",
    "plt.xlabel('Заказы');"
   ]
  },
  {
   "cell_type": "markdown",
   "metadata": {},
   "source": [
    "Наглядно видно, как выброс портит картину. Чтобы найти более точную границу аномалных заказов, расчитаем перцентили."
   ]
  },
  {
   "cell_type": "markdown",
   "metadata": {},
   "source": [
    "### Граница для определения аномальных заказов (по выручке) <a id=\"paragraph3.9\"></a>  \n",
    "[Вернуться к содержанию](#content)\n",
    "\n",
    "- Посчитайте 95-й и 99-й перцентили стоимости заказов. Выберите границу для определения аномальных заказов."
   ]
  },
  {
   "cell_type": "code",
   "execution_count": 43,
   "metadata": {},
   "outputs": [
    {
     "data": {
      "text/plain": [
       "array([28000. , 58233.2])"
      ]
     },
     "execution_count": 43,
     "metadata": {},
     "output_type": "execute_result"
    }
   ],
   "source": [
    "np.percentile(orders['revenue'], [95, 99])"
   ]
  },
  {
   "cell_type": "markdown",
   "metadata": {},
   "source": [
    "**Вывод:** 99% заказов меньше `58233`. Установим её границей аномалии."
   ]
  },
  {
   "cell_type": "markdown",
   "metadata": {},
   "source": [
    "### Различия в конверсии между группами по «сырым» данным <a id=\"paragraph3.10\"></a>  \n",
    "[Вернуться к содержанию](#content)\n",
    "\n",
    "- Посчитайте статистическую значимость различий в конверсии между группами по «сырым» данным. Сделайте выводы и предположения."
   ]
  },
  {
   "cell_type": "markdown",
   "metadata": {},
   "source": [
    "Заказы и визиты соберем вместе, добавим к ним кумулятивные показатели. Сначала сделаем несколько таблиц и потом их обьеденим."
   ]
  },
  {
   "cell_type": "code",
   "execution_count": 44,
   "metadata": {},
   "outputs": [
    {
     "data": {
      "text/html": [
       "<div>\n",
       "<style scoped>\n",
       "    .dataframe tbody tr th:only-of-type {\n",
       "        vertical-align: middle;\n",
       "    }\n",
       "\n",
       "    .dataframe tbody tr th {\n",
       "        vertical-align: top;\n",
       "    }\n",
       "\n",
       "    .dataframe thead th {\n",
       "        text-align: right;\n",
       "    }\n",
       "</style>\n",
       "<table border=\"1\" class=\"dataframe\">\n",
       "  <thead>\n",
       "    <tr style=\"text-align: right;\">\n",
       "      <th></th>\n",
       "      <th>date</th>\n",
       "      <th>group</th>\n",
       "      <th>visitors</th>\n",
       "    </tr>\n",
       "  </thead>\n",
       "  <tbody>\n",
       "    <tr>\n",
       "      <th>0</th>\n",
       "      <td>2019-08-01</td>\n",
       "      <td>A</td>\n",
       "      <td>719</td>\n",
       "    </tr>\n",
       "    <tr>\n",
       "      <th>1</th>\n",
       "      <td>2019-08-02</td>\n",
       "      <td>A</td>\n",
       "      <td>619</td>\n",
       "    </tr>\n",
       "  </tbody>\n",
       "</table>\n",
       "</div>"
      ],
      "text/plain": [
       "        date group  visitors\n",
       "0 2019-08-01     A       719\n",
       "1 2019-08-02     A       619"
      ]
     },
     "execution_count": 44,
     "metadata": {},
     "output_type": "execute_result"
    }
   ],
   "source": [
    "visitors.head(2) "
   ]
  },
  {
   "cell_type": "code",
   "execution_count": 45,
   "metadata": {},
   "outputs": [
    {
     "data": {
      "text/html": [
       "<div>\n",
       "<style scoped>\n",
       "    .dataframe tbody tr th:only-of-type {\n",
       "        vertical-align: middle;\n",
       "    }\n",
       "\n",
       "    .dataframe tbody tr th {\n",
       "        vertical-align: top;\n",
       "    }\n",
       "\n",
       "    .dataframe thead th {\n",
       "        text-align: right;\n",
       "    }\n",
       "</style>\n",
       "<table border=\"1\" class=\"dataframe\">\n",
       "  <thead>\n",
       "    <tr style=\"text-align: right;\">\n",
       "      <th></th>\n",
       "      <th>transactionId</th>\n",
       "      <th>visitorId</th>\n",
       "      <th>date</th>\n",
       "      <th>revenue</th>\n",
       "      <th>group</th>\n",
       "    </tr>\n",
       "  </thead>\n",
       "  <tbody>\n",
       "    <tr>\n",
       "      <th>0</th>\n",
       "      <td>3667963787</td>\n",
       "      <td>3312258926</td>\n",
       "      <td>2019-08-15</td>\n",
       "      <td>1650</td>\n",
       "      <td>B</td>\n",
       "    </tr>\n",
       "    <tr>\n",
       "      <th>1</th>\n",
       "      <td>2804400009</td>\n",
       "      <td>3642806036</td>\n",
       "      <td>2019-08-15</td>\n",
       "      <td>730</td>\n",
       "      <td>B</td>\n",
       "    </tr>\n",
       "  </tbody>\n",
       "</table>\n",
       "</div>"
      ],
      "text/plain": [
       "   transactionId   visitorId       date  revenue group\n",
       "0     3667963787  3312258926 2019-08-15     1650     B\n",
       "1     2804400009  3642806036 2019-08-15      730     B"
      ]
     },
     "execution_count": 45,
     "metadata": {},
     "output_type": "execute_result"
    }
   ],
   "source": [
    "orders.head(2)"
   ]
  },
  {
   "cell_type": "code",
   "execution_count": 46,
   "metadata": {},
   "outputs": [],
   "source": [
    "visitorsADaily = visitors[visitors['group']=='A'][['date', 'visitors']]\n",
    "visitorsADaily.columns = ['date', 'visitorsPerDateA']\n",
    "\n",
    "visitorsACummulative = visitorsADaily.apply(lambda x: visitorsADaily[visitorsADaily['date'] <= x['date']]. \\\n",
    "                                            agg({'date' : 'max', 'visitorsPerDateA' : 'sum'}), axis=1)\n",
    "visitorsACummulative.columns = ['date', 'visitorsCummulativeA']\n",
    "\n",
    "visitorsBDaily = visitors[visitors['group']=='B'][['date', 'visitors']]\n",
    "visitorsBDaily.columns = ['date', 'visitorsPerDateB']\n",
    "\n",
    "visitorsBCummulative = visitorsBDaily.apply(lambda x: visitorsBDaily[visitorsBDaily['date'] <= x['date']]. \\\n",
    "                                            agg({'date' : 'max', 'visitorsPerDateB' : 'sum'}), axis=1)\n",
    "visitorsBCummulative.columns = ['date', 'visitorsCummulativeB']\n",
    "\n",
    "\n",
    "ordersADaily = orders[orders['group']=='A'][['date', 'transactionId', 'visitorId', 'revenue']]\\\n",
    "    .groupby('date', as_index=False)\\\n",
    "    .agg({'transactionId' : pd.Series.nunique, 'revenue' : 'sum'})\n",
    "ordersADaily.columns = ['date', 'ordersPerDateA', 'revenuePerDateA']\n",
    "\n",
    "ordersACummulative = ordersADaily.apply(\n",
    "    lambda x: \\\n",
    "        ordersADaily[ordersADaily['date'] <= x['date']]\\\n",
    "            .agg({\n",
    "                'date' : 'max',\n",
    "                'ordersPerDateA' : 'sum',\n",
    "                'revenuePerDateA' : 'sum'}), axis=1).sort_values(by=['date'])\n",
    "ordersACummulative.columns = ['date', 'ordersCummulativeA', 'revenueCummulativeA']\n",
    "\n",
    "ordersBDaily = orders[orders['group']=='B'][['date', 'transactionId', 'visitorId', 'revenue']]\\\n",
    "    .groupby('date', as_index=False)\\\n",
    "    .agg({'transactionId' : pd.Series.nunique, 'revenue' : 'sum'})\n",
    "ordersBDaily.columns = ['date', 'ordersPerDateB', 'revenuePerDateB']\n",
    "\n",
    "ordersBCummulative = ordersBDaily.apply(\n",
    "    lambda x: \\\n",
    "        ordersBDaily[ordersBDaily['date'] <= x['date']]\\\n",
    "            .agg({\n",
    "                'date' : 'max',\n",
    "                'ordersPerDateB' : 'sum',\n",
    "                'revenuePerDateB' : 'sum'}), axis=1).sort_values(by=['date'])\n",
    "ordersBCummulative.columns = ['date', 'ordersCummulativeB', 'revenueCummulativeB']"
   ]
  },
  {
   "cell_type": "markdown",
   "metadata": {},
   "source": [
    "Теперь все обьеденим в одну таблицу."
   ]
  },
  {
   "cell_type": "code",
   "execution_count": 47,
   "metadata": {},
   "outputs": [
    {
     "data": {
      "text/html": [
       "<div>\n",
       "<style scoped>\n",
       "    .dataframe tbody tr th:only-of-type {\n",
       "        vertical-align: middle;\n",
       "    }\n",
       "\n",
       "    .dataframe tbody tr th {\n",
       "        vertical-align: top;\n",
       "    }\n",
       "\n",
       "    .dataframe thead th {\n",
       "        text-align: right;\n",
       "    }\n",
       "</style>\n",
       "<table border=\"1\" class=\"dataframe\">\n",
       "  <thead>\n",
       "    <tr style=\"text-align: right;\">\n",
       "      <th></th>\n",
       "      <th>date</th>\n",
       "      <th>ordersPerDateA</th>\n",
       "      <th>revenuePerDateA</th>\n",
       "      <th>ordersPerDateB</th>\n",
       "      <th>revenuePerDateB</th>\n",
       "      <th>ordersCummulativeA</th>\n",
       "      <th>revenueCummulativeA</th>\n",
       "      <th>ordersCummulativeB</th>\n",
       "      <th>revenueCummulativeB</th>\n",
       "      <th>visitorsPerDateA</th>\n",
       "      <th>visitorsPerDateB</th>\n",
       "      <th>visitorsCummulativeA</th>\n",
       "      <th>visitorsCummulativeB</th>\n",
       "    </tr>\n",
       "  </thead>\n",
       "  <tbody>\n",
       "    <tr>\n",
       "      <th>1</th>\n",
       "      <td>2019-08-02</td>\n",
       "      <td>20</td>\n",
       "      <td>93822</td>\n",
       "      <td>24</td>\n",
       "      <td>165531</td>\n",
       "      <td>44</td>\n",
       "      <td>242401</td>\n",
       "      <td>45</td>\n",
       "      <td>266748</td>\n",
       "      <td>619</td>\n",
       "      <td>581</td>\n",
       "      <td>1338</td>\n",
       "      <td>1294</td>\n",
       "    </tr>\n",
       "    <tr>\n",
       "      <th>18</th>\n",
       "      <td>2019-08-19</td>\n",
       "      <td>22</td>\n",
       "      <td>189743</td>\n",
       "      <td>21</td>\n",
       "      <td>1429920</td>\n",
       "      <td>350</td>\n",
       "      <td>2391910</td>\n",
       "      <td>403</td>\n",
       "      <td>4116541</td>\n",
       "      <td>502</td>\n",
       "      <td>487</td>\n",
       "      <td>11629</td>\n",
       "      <td>11658</td>\n",
       "    </tr>\n",
       "    <tr>\n",
       "      <th>29</th>\n",
       "      <td>2019-08-30</td>\n",
       "      <td>11</td>\n",
       "      <td>86460</td>\n",
       "      <td>24</td>\n",
       "      <td>215233</td>\n",
       "      <td>545</td>\n",
       "      <td>4022970</td>\n",
       "      <td>620</td>\n",
       "      <td>5774631</td>\n",
       "      <td>490</td>\n",
       "      <td>490</td>\n",
       "      <td>18037</td>\n",
       "      <td>18198</td>\n",
       "    </tr>\n",
       "  </tbody>\n",
       "</table>\n",
       "</div>"
      ],
      "text/plain": [
       "         date  ordersPerDateA  revenuePerDateA  ordersPerDateB  \\\n",
       "1  2019-08-02              20            93822              24   \n",
       "18 2019-08-19              22           189743              21   \n",
       "29 2019-08-30              11            86460              24   \n",
       "\n",
       "    revenuePerDateB  ordersCummulativeA  revenueCummulativeA  \\\n",
       "1            165531                  44               242401   \n",
       "18          1429920                 350              2391910   \n",
       "29           215233                 545              4022970   \n",
       "\n",
       "    ordersCummulativeB  revenueCummulativeB  visitorsPerDateA  \\\n",
       "1                   45               266748               619   \n",
       "18                 403              4116541               502   \n",
       "29                 620              5774631               490   \n",
       "\n",
       "    visitorsPerDateB  visitorsCummulativeA  visitorsCummulativeB  \n",
       "1                581                  1338                  1294  \n",
       "18               487                 11629                 11658  \n",
       "29               490                 18037                 18198  "
      ]
     },
     "execution_count": 47,
     "metadata": {},
     "output_type": "execute_result"
    }
   ],
   "source": [
    "data = ordersADaily.merge(ordersBDaily, left_on='date', right_on='date', how='left')\\\n",
    "    .merge(ordersACummulative, left_on='date', right_on='date', how='left')\\\n",
    "    .merge(ordersBCummulative, left_on='date', right_on='date', how='left')\\\n",
    "    .merge(visitorsADaily, left_on='date', right_on='date', how='left')\\\n",
    "    .merge(visitorsBDaily, left_on='date', right_on='date', how='left')\\\n",
    "    .merge(visitorsACummulative, left_on='date', right_on='date', how='left')\\\n",
    "    .merge(visitorsBCummulative, left_on='date', right_on='date', how='left')\n",
    "data.sample(3)"
   ]
  },
  {
   "cell_type": "markdown",
   "metadata": {},
   "source": [
    "- В sampleA сохраним выборку, где каждый элемент — число заказов определённого пользователя, в том числе ноль. Чтобы получить конверсию в группе, поделим сумму заказов на число пользователей — найдём среднее в выборке sampleA методом `mean()`. Аналогично найдём конверсию группы B: sampleB.mean().\n",
    "- Выведем относительный прирост конверсии группы B: конверсия группы B / конверсия группы A - 1. Округлим до трёх знаков после запятой (пороговое значение возьмём равное 5%).\n",
    "\n",
    "Применим статистический критерий Манна-Уитни к полученным выборкам (`U-test`), он позволит нам оценить различия между двумя выборками по количественному признаку. За нулевую гипотезу возьмём что: `статистически значимых различий в конверсии между группами нет`; тогда альтернативная гипотеза будет гласить - статистически значимые различия есть."
   ]
  },
  {
   "cell_type": "code",
   "execution_count": 48,
   "metadata": {},
   "outputs": [],
   "source": [
    "ordersByUsersA = orders[orders['group']=='A'].groupby('visitorId', as_index=False).agg({'transactionId' : pd.Series.nunique})\n",
    "ordersByUsersA.columns = ['userId', 'orders']\n",
    "\n",
    "ordersByUsersB = orders[orders['group']=='B'].groupby('visitorId', as_index=False).agg({'transactionId' : pd.Series.nunique})\n",
    "ordersByUsersB.columns = ['userId', 'orders']\n",
    "\n",
    "sampleA = pd.concat([ordersByUsersA['orders'],pd.Series(0, index=np.arange(data['visitorsPerDateA'].sum() - len(ordersByUsersA['orders'])), name='orders')],axis=0)\n",
    "\n",
    "sampleB = pd.concat([ordersByUsersB['orders'],pd.Series(0, index=np.arange(data['visitorsPerDateB'].sum() - len(ordersByUsersB['orders'])), name='orders')],axis=0)"
   ]
  },
  {
   "cell_type": "markdown",
   "metadata": {},
   "source": [
    "Собрали две выборки, теперь применим статистический критерий к этим выборкам."
   ]
  },
  {
   "cell_type": "code",
   "execution_count": 49,
   "metadata": {},
   "outputs": [
    {
     "name": "stdout",
     "output_type": "stream",
     "text": [
      "alpha = 0.05\n",
      "p-value = 0.017\n",
      "Относительный показатель 'B' и 'A' = 0.138\n"
     ]
    }
   ],
   "source": [
    "print(\"alpha =\",0.05)\n",
    "print(\"p-value = {0:.3f}\".format(stats.mannwhitneyu(sampleA, sampleB, alternative = 'two-sided')[1]))\n",
    "print(\"Относительный показатель 'B' и 'A' = {0:.3f}\".format(sampleB.mean()/sampleA.mean()-1)) "
   ]
  },
  {
   "cell_type": "markdown",
   "metadata": {},
   "source": [
    "**Вывод:** `p-value` меньше 0.05. Значит гипотезу о том что статистически значим различий между группами нет - `отвергаем`. Значит что различия между конверсиями групп есть и группа `B` лучше конверсируется."
   ]
  },
  {
   "cell_type": "markdown",
   "metadata": {},
   "source": [
    "### Статистическая значимость различий в среднем чеке заказа между группами по «сырым» данным <a id=\"paragraph3.11\"></a>  \n",
    "- Посчитайте статистическую значимость различий в среднем чеке заказа между группами по «сырым» данным. Сделайте выводы и предположения.\n",
    "\n",
    "[Вернуться к содержанию](#content)"
   ]
  },
  {
   "cell_type": "markdown",
   "metadata": {},
   "source": [
    "Чтобы рассчитать статистическую значимость различий в среднем чеке между группами, передадим критерию `mannwhitneyu()` данные о выручке с заказов (пороговое значение возьмём равное 5%). И найдём относительные различия в среднем чеке между группами.\n",
    "\n",
    "За нулевую гипотезу возьмём что: `статистически значимых различий в средних чеках между группами нет`; тогда альтернативная гипотеза будет гласить - статистически значимые различия есть."
   ]
  },
  {
   "cell_type": "code",
   "execution_count": 50,
   "metadata": {},
   "outputs": [
    {
     "name": "stdout",
     "output_type": "stream",
     "text": [
      "alpha = 0.05\n",
      "p-value = 0.729\n",
      "Относительный показатель 'B' и 'A' = 0.259\n"
     ]
    }
   ],
   "source": [
    "print(\"alpha =\",0.05)\n",
    "print(\"p-value = {0:.3f}\".format(stats.mannwhitneyu(orders[orders['group']=='A']['revenue'], orders[orders['group']=='B']['revenue'], alternative = 'two-sided')[1]))\n",
    "print(\"Относительный показатель 'B' и 'A' = {0:.3f}\".format(orders[orders['group']=='B']['revenue'].mean()/orders[orders['group']=='A']['revenue'].mean()-1))"
   ]
  },
  {
   "cell_type": "markdown",
   "metadata": {},
   "source": [
    "**Вывод:** `p-value > 0.05` принимаем нулевую гипотезу.\n",
    "\\\n",
    "Средний чек схож, при этом средний чек `B` выше `A` грубо говоря на четверть."
   ]
  },
  {
   "cell_type": "markdown",
   "metadata": {},
   "source": [
    "### Различия в конверсии между группами по «очищенным» данным <a id=\"paragraph3.12\"></a>  \n",
    "- Посчитайте статистическую значимость различий в конверсии между группами по «очищенным» данным. Сделайте выводы и предположения.\n",
    "\n",
    "[Вернуться к содержанию](#content)"
   ]
  },
  {
   "cell_type": "markdown",
   "metadata": {},
   "source": [
    "Из предыдущих пунктов мы решили что те, кто совершил 3 и больше заказов или совершил заказ дороже 58233.2 рублей мы принимаем за аномальных пользователей. \n",
    "- Сделаем срезы пользователей с числом заказов больше 2 — usersWithManyOrders и пользователей, совершивших заказы дороже 58233.2 — usersWithExpensiveOrders. \n",
    "- Объединим их в таблице abnormalUsers. \n",
    "- Посчитаем количество аномальных пользователей."
   ]
  },
  {
   "cell_type": "code",
   "execution_count": 51,
   "metadata": {},
   "outputs": [
    {
     "name": "stdout",
     "output_type": "stream",
     "text": [
      "1099    148427295\n",
      "18      199603092\n",
      "23      237748145\n",
      "37      249864742\n",
      "68      457167155\n",
      "dtype: int64\n",
      "Всего аномальных пользователей = 31\n"
     ]
    }
   ],
   "source": [
    "usersWithManyOrders = pd.concat([ordersByUsersA[ordersByUsersA['orders'] > 2]['userId'], ordersByUsersB[ordersByUsersB['orders'] > 2]['userId']], axis = 0)\n",
    "usersWithExpensiveOrders = orders[orders['revenue'] > 58233.2]['visitorId']\n",
    "abnormalUsers = pd.concat([usersWithManyOrders, usersWithExpensiveOrders], axis = 0).drop_duplicates().sort_values()\n",
    "print(abnormalUsers.head(5))\n",
    "print(\"Всего аномальных пользователей =\" ,len(abnormalUsers)) "
   ]
  },
  {
   "cell_type": "markdown",
   "metadata": {},
   "source": [
    "Теперь надо понять как их действия повлияли на результаты теста. Посчитаем статистическую значимость различий в конверсии между группами теста по очищенным данным. Сделаем две выборки с количеством заказов по группам:"
   ]
  },
  {
   "cell_type": "code",
   "execution_count": 52,
   "metadata": {},
   "outputs": [],
   "source": [
    "sampleAFiltered = pd.concat([ordersByUsersA[np.logical_not(ordersByUsersA['userId'].isin(abnormalUsers))]['orders'], \\\n",
    "                             pd.Series(0, index=np.arange(data['visitorsPerDateA'].sum() - len(ordersByUsersA['orders'])), \\\n",
    "                                       name='orders')],axis=0)\n",
    "\n",
    "sampleBFiltered = pd.concat([ordersByUsersB[np.logical_not(ordersByUsersB['userId'].isin(abnormalUsers))]['orders'], \\\n",
    "                             pd.Series(0, index=np.arange(data['visitorsPerDateB'].sum() - len(ordersByUsersB['orders'])), \\\n",
    "                                       name='orders')],axis=0) \n",
    "# sampleAFiltered.value_counts() , sampleBFiltered.value_counts()"
   ]
  },
  {
   "cell_type": "markdown",
   "metadata": {},
   "source": [
    "Нулевая гипотиза будет звучать так: `статистически значимых различий в конверсии между группами нет`; тогда альтернативная гипотеза будет гласить - статистически значимые различия есть."
   ]
  },
  {
   "cell_type": "code",
   "execution_count": 53,
   "metadata": {},
   "outputs": [
    {
     "name": "stdout",
     "output_type": "stream",
     "text": [
      "alpha = 0.05\n",
      "p-value = 0.010\n",
      "Относительный показатель 'B' и 'A' = 0.174\n"
     ]
    }
   ],
   "source": [
    "print(\"alpha =\",0.05)\n",
    "print(\"p-value = {0:.3f}\".format(stats.mannwhitneyu(sampleAFiltered, sampleBFiltered, alternative = 'two-sided')[1]))\n",
    "print(\"Относительный показатель 'B' и 'A' = {0:.3f}\".format(sampleBFiltered.mean()/sampleAFiltered.mean()-1)) "
   ]
  },
  {
   "cell_type": "markdown",
   "metadata": {},
   "source": [
    "**Вывод:** p-value = 0.01 меньше 0.05. По итогу отвергаем гипотезу о том что различий нет. Относительный показатель группы \"B\" над \"A\" равен 17,4%. Это значит: по «сырым» данным различия в конверсии групп A и B есть. А относительный выигрыш группы \"B\" над \"A\" равен 13.8%."
   ]
  },
  {
   "cell_type": "markdown",
   "metadata": {},
   "source": [
    "### Статистическая значимость различий в среднем чеке заказа между группами по «очищенным» данным <a id=\"paragraph3.13\"></a>  \n",
    "- Посчитайте статистическую значимость различий в среднем чеке заказа между группами по «очищенным» данным. Сделайте выводы и предположения.\n",
    "\n",
    "[Вернуться к содержанию](#content)"
   ]
  },
  {
   "cell_type": "markdown",
   "metadata": {},
   "source": [
    "Нулевая гипотеза гласит \"статистически значимых различий в средних чеках между группами нет\"; тогда альтернативная гипотеза будет гласить - статистически значимые различия есть."
   ]
  },
  {
   "cell_type": "code",
   "execution_count": 54,
   "metadata": {},
   "outputs": [
    {
     "name": "stdout",
     "output_type": "stream",
     "text": [
      "alpha = 0.05\n",
      "p-value = 0.798\n",
      "Относительный показатель 'B' и 'A' = -0.020\n"
     ]
    }
   ],
   "source": [
    "print(\"alpha =\",0.05)\n",
    "print(\"p-value = {0:.3f}\".format(stats.mannwhitneyu(\n",
    "    orders[np.logical_and(\n",
    "        orders['group']=='A',\n",
    "        np.logical_not(orders['visitorId'].isin(abnormalUsers)))]['revenue'],\n",
    "    orders[np.logical_and(\n",
    "        orders['group']=='B',\n",
    "        np.logical_not(orders['visitorId'].isin(abnormalUsers)))]['revenue'], alternative = 'two-sided')[1]))\n",
    "\n",
    "print(\"Относительный показатель 'B' и 'A' = {0:.3f}\".format(\n",
    "    orders[np.logical_and(orders['group']=='B',np.logical_not(orders['visitorId'].isin(abnormalUsers)))]['revenue'].mean()/\n",
    "    orders[np.logical_and(\n",
    "        orders['group']=='A',\n",
    "        np.logical_not(orders['visitorId'].isin(abnormalUsers)))]['revenue'].mean() - 1)) "
   ]
  },
  {
   "cell_type": "markdown",
   "metadata": {},
   "source": [
    "**Вывод:** p_value больше 0.798. Принимаем нулевую гипотезу. А это значит что в среднем чеке есть различия. Средний чек группы `B` оказался незначительно ниже среднего чека группы `A`, порядка `2%`. Значительная разница с сырыми данными, там было порядка `26%`. "
   ]
  },
  {
   "cell_type": "markdown",
   "metadata": {},
   "source": [
    "### Решение по результатам теста<a id=\"paragraph3.14\"></a>  \n",
    "- Примите решение по результатам теста и объясните его. Варианты решений: 1. Остановить тест, зафиксировать победу одной из групп. 2. Остановить тест, зафиксировать отсутствие различий между группами. 3. Продолжить тест.\n",
    "\n",
    "[Вернуться к содержанию](#content)"
   ]
  },
  {
   "cell_type": "markdown",
   "metadata": {},
   "source": [
    "По результатам тестирования было выявлено:\n",
    "* Различия в конверсии между двумя группами есть. Группа `B` показала лучший результат по очищеным данным, около `17,4%` и около `13,8%` по сырым.\n",
    "\n",
    "* Средний чек по сырым данным гораздо больше разнится чем по очищенным. В очищеных от выбросов данных разницы практически нет. Картину портит один заказ на 1.3 млн. Результаты A/B теста сравнялись без учета этого заказа.\n",
    "\n",
    "**Вывод: Хоть по среднему чеку группы имеют схожие показатели. По результатам тестирования мы получили вполне однозначный ответ, группа B победитель. Хоть по среднему чеку группы примерно равны, но группа B показывает лучший результат по конверсии, а соответственно показывает результаты значительно лучше группы A**"
   ]
  },
  {
   "cell_type": "code",
   "execution_count": null,
   "metadata": {},
   "outputs": [],
   "source": []
  }
 ],
 "metadata": {
  "ExecuteTimeLog": [
   {
    "duration": 31,
    "start_time": "2022-05-25T17:06:34.407Z"
   },
   {
    "duration": 1537,
    "start_time": "2022-05-25T18:54:52.835Z"
   },
   {
    "duration": 8,
    "start_time": "2022-05-25T18:55:03.312Z"
   },
   {
    "duration": 4,
    "start_time": "2022-05-25T18:55:26.180Z"
   },
   {
    "duration": 4,
    "start_time": "2022-05-25T18:55:32.015Z"
   },
   {
    "duration": 200,
    "start_time": "2022-05-25T18:55:45.554Z"
   },
   {
    "duration": 1163,
    "start_time": "2022-05-25T19:00:32.940Z"
   },
   {
    "duration": 91,
    "start_time": "2022-05-25T19:00:34.105Z"
   },
   {
    "duration": 3,
    "start_time": "2022-05-25T19:00:57.636Z"
   },
   {
    "duration": 75,
    "start_time": "2022-05-25T19:00:58.099Z"
   },
   {
    "duration": 54,
    "start_time": "2022-05-27T16:13:23.315Z"
   },
   {
    "duration": 1316,
    "start_time": "2022-05-27T16:13:34.096Z"
   },
   {
    "duration": 194,
    "start_time": "2022-05-27T16:13:35.414Z"
   },
   {
    "duration": 12,
    "start_time": "2022-05-27T16:13:35.609Z"
   },
   {
    "duration": 11,
    "start_time": "2022-05-27T16:13:50.612Z"
   },
   {
    "duration": 4,
    "start_time": "2022-05-27T16:28:09.174Z"
   },
   {
    "duration": 74,
    "start_time": "2022-05-27T16:28:10.486Z"
   },
   {
    "duration": 11,
    "start_time": "2022-05-27T16:28:11.214Z"
   },
   {
    "duration": 17,
    "start_time": "2022-05-27T16:28:11.227Z"
   },
   {
    "duration": 12,
    "start_time": "2022-05-27T16:31:01.608Z"
   },
   {
    "duration": 8,
    "start_time": "2022-05-27T16:31:10.032Z"
   },
   {
    "duration": 12,
    "start_time": "2022-05-27T16:41:17.774Z"
   },
   {
    "duration": 10,
    "start_time": "2022-05-27T16:41:25.817Z"
   },
   {
    "duration": 9,
    "start_time": "2022-05-27T16:42:10.862Z"
   },
   {
    "duration": 5,
    "start_time": "2022-05-27T16:42:26.037Z"
   },
   {
    "duration": 6,
    "start_time": "2022-05-27T16:42:36.620Z"
   },
   {
    "duration": 6,
    "start_time": "2022-05-27T16:42:57.529Z"
   },
   {
    "duration": 6,
    "start_time": "2022-05-27T16:43:06.902Z"
   },
   {
    "duration": 11,
    "start_time": "2022-05-27T16:45:06.333Z"
   },
   {
    "duration": 8,
    "start_time": "2022-05-27T16:45:14.379Z"
   },
   {
    "duration": 5,
    "start_time": "2022-05-27T16:46:12.863Z"
   },
   {
    "duration": 11,
    "start_time": "2022-05-27T16:46:20.885Z"
   },
   {
    "duration": 206,
    "start_time": "2022-05-27T16:47:25.182Z"
   },
   {
    "duration": 1172,
    "start_time": "2022-05-27T16:47:59.491Z"
   },
   {
    "duration": 76,
    "start_time": "2022-05-27T16:48:00.665Z"
   },
   {
    "duration": 12,
    "start_time": "2022-05-27T16:48:00.743Z"
   },
   {
    "duration": 20,
    "start_time": "2022-05-27T16:48:00.757Z"
   },
   {
    "duration": 40,
    "start_time": "2022-05-27T16:48:00.779Z"
   },
   {
    "duration": 22,
    "start_time": "2022-05-27T16:48:00.821Z"
   },
   {
    "duration": 33,
    "start_time": "2022-05-27T16:48:00.845Z"
   },
   {
    "duration": 23,
    "start_time": "2022-05-27T16:48:00.880Z"
   },
   {
    "duration": 16,
    "start_time": "2022-05-27T16:48:00.905Z"
   },
   {
    "duration": 9,
    "start_time": "2022-05-27T16:48:00.923Z"
   },
   {
    "duration": 27,
    "start_time": "2022-05-27T16:48:00.934Z"
   },
   {
    "duration": 32,
    "start_time": "2022-05-27T16:48:00.963Z"
   },
   {
    "duration": 30,
    "start_time": "2022-05-27T16:48:00.997Z"
   },
   {
    "duration": 42,
    "start_time": "2022-05-27T16:48:01.030Z"
   },
   {
    "duration": 32,
    "start_time": "2022-05-27T16:48:01.074Z"
   },
   {
    "duration": 8,
    "start_time": "2022-05-27T16:48:40.792Z"
   },
   {
    "duration": 6,
    "start_time": "2022-05-27T16:48:55.872Z"
   },
   {
    "duration": 9,
    "start_time": "2022-05-27T16:49:59.825Z"
   },
   {
    "duration": 8,
    "start_time": "2022-05-27T16:56:55.673Z"
   },
   {
    "duration": 6,
    "start_time": "2022-05-27T16:57:30.502Z"
   },
   {
    "duration": 10,
    "start_time": "2022-05-27T16:57:46.296Z"
   },
   {
    "duration": 10,
    "start_time": "2022-05-27T16:58:10.932Z"
   },
   {
    "duration": 9,
    "start_time": "2022-05-27T16:59:56.715Z"
   },
   {
    "duration": 11,
    "start_time": "2022-05-27T17:00:00.274Z"
   },
   {
    "duration": 1162,
    "start_time": "2022-05-27T17:18:58.462Z"
   },
   {
    "duration": 74,
    "start_time": "2022-05-27T17:18:59.626Z"
   },
   {
    "duration": 11,
    "start_time": "2022-05-27T17:18:59.702Z"
   },
   {
    "duration": 14,
    "start_time": "2022-05-27T17:18:59.715Z"
   },
   {
    "duration": 14,
    "start_time": "2022-05-27T17:18:59.730Z"
   },
   {
    "duration": 12,
    "start_time": "2022-05-27T17:18:59.746Z"
   },
   {
    "duration": 15,
    "start_time": "2022-05-27T17:18:59.759Z"
   },
   {
    "duration": 16,
    "start_time": "2022-05-27T17:18:59.775Z"
   },
   {
    "duration": 18,
    "start_time": "2022-05-27T17:18:59.793Z"
   },
   {
    "duration": 13,
    "start_time": "2022-05-27T17:18:59.813Z"
   },
   {
    "duration": 13,
    "start_time": "2022-05-27T17:18:59.827Z"
   },
   {
    "duration": 14,
    "start_time": "2022-05-27T17:18:59.841Z"
   },
   {
    "duration": 8,
    "start_time": "2022-05-27T17:18:59.856Z"
   },
   {
    "duration": 12,
    "start_time": "2022-05-27T17:18:59.865Z"
   },
   {
    "duration": 12,
    "start_time": "2022-05-27T17:18:59.879Z"
   },
   {
    "duration": 18,
    "start_time": "2022-05-27T17:18:59.892Z"
   },
   {
    "duration": 14,
    "start_time": "2022-05-27T17:18:59.911Z"
   },
   {
    "duration": 14,
    "start_time": "2022-05-27T17:18:59.926Z"
   },
   {
    "duration": 10,
    "start_time": "2022-05-27T17:18:59.942Z"
   },
   {
    "duration": 21,
    "start_time": "2022-05-27T17:18:59.953Z"
   },
   {
    "duration": 14,
    "start_time": "2022-05-27T17:18:59.975Z"
   },
   {
    "duration": 9,
    "start_time": "2022-05-27T17:22:48.142Z"
   },
   {
    "duration": 11,
    "start_time": "2022-05-27T17:23:49.948Z"
   },
   {
    "duration": 9,
    "start_time": "2022-05-27T17:23:58.098Z"
   },
   {
    "duration": 14,
    "start_time": "2022-05-27T17:26:56.802Z"
   },
   {
    "duration": 16,
    "start_time": "2022-05-27T17:28:39.307Z"
   },
   {
    "duration": 5,
    "start_time": "2022-05-27T17:29:26.851Z"
   },
   {
    "duration": 325,
    "start_time": "2022-05-27T17:31:56.525Z"
   },
   {
    "duration": 493,
    "start_time": "2022-05-27T17:32:30.036Z"
   },
   {
    "duration": 10,
    "start_time": "2022-05-27T17:37:29.921Z"
   },
   {
    "duration": 16,
    "start_time": "2022-05-27T17:42:16.015Z"
   },
   {
    "duration": 201,
    "start_time": "2022-05-27T17:49:06.396Z"
   },
   {
    "duration": 266,
    "start_time": "2022-05-27T17:58:27.968Z"
   },
   {
    "duration": 221,
    "start_time": "2022-05-27T18:06:20.095Z"
   },
   {
    "duration": 290,
    "start_time": "2022-05-27T18:14:43.632Z"
   },
   {
    "duration": 10,
    "start_time": "2022-05-27T18:20:09.023Z"
   },
   {
    "duration": 8,
    "start_time": "2022-05-27T18:20:23.222Z"
   },
   {
    "duration": 119,
    "start_time": "2022-05-27T18:20:43.405Z"
   },
   {
    "duration": 133,
    "start_time": "2022-05-27T18:20:54.652Z"
   },
   {
    "duration": 5,
    "start_time": "2022-05-27T18:24:27.866Z"
   },
   {
    "duration": 7,
    "start_time": "2022-05-27T18:26:14.057Z"
   },
   {
    "duration": 161,
    "start_time": "2022-05-27T18:28:37.085Z"
   },
   {
    "duration": 172,
    "start_time": "2022-05-27T18:29:34.900Z"
   },
   {
    "duration": 6,
    "start_time": "2022-05-27T18:32:59.011Z"
   },
   {
    "duration": 7,
    "start_time": "2022-05-27T18:36:51.783Z"
   },
   {
    "duration": 56,
    "start_time": "2022-05-27T18:36:59.205Z"
   },
   {
    "duration": 8,
    "start_time": "2022-05-27T18:37:03.235Z"
   },
   {
    "duration": 7,
    "start_time": "2022-05-27T18:37:17.711Z"
   },
   {
    "duration": 8,
    "start_time": "2022-05-27T18:37:19.086Z"
   },
   {
    "duration": 216,
    "start_time": "2022-05-27T18:37:34.396Z"
   },
   {
    "duration": 27,
    "start_time": "2022-05-27T18:38:05.405Z"
   },
   {
    "duration": 156,
    "start_time": "2022-05-27T18:47:21.659Z"
   },
   {
    "duration": 11,
    "start_time": "2022-05-27T18:53:45.096Z"
   },
   {
    "duration": 9,
    "start_time": "2022-05-27T19:03:35.697Z"
   },
   {
    "duration": 9,
    "start_time": "2022-05-27T19:04:29.665Z"
   },
   {
    "duration": 7,
    "start_time": "2022-05-27T19:07:32.033Z"
   },
   {
    "duration": 29,
    "start_time": "2022-05-27T19:08:48.889Z"
   },
   {
    "duration": 19,
    "start_time": "2022-05-27T19:17:32.585Z"
   },
   {
    "duration": 1156,
    "start_time": "2022-05-27T19:32:26.920Z"
   },
   {
    "duration": 82,
    "start_time": "2022-05-27T19:32:28.078Z"
   },
   {
    "duration": 11,
    "start_time": "2022-05-27T19:32:28.162Z"
   },
   {
    "duration": 12,
    "start_time": "2022-05-27T19:32:28.175Z"
   },
   {
    "duration": 9,
    "start_time": "2022-05-27T19:32:28.189Z"
   },
   {
    "duration": 10,
    "start_time": "2022-05-27T19:32:28.199Z"
   },
   {
    "duration": 12,
    "start_time": "2022-05-27T19:32:28.211Z"
   },
   {
    "duration": 24,
    "start_time": "2022-05-27T19:32:28.226Z"
   },
   {
    "duration": 11,
    "start_time": "2022-05-27T19:32:28.252Z"
   },
   {
    "duration": 6,
    "start_time": "2022-05-27T19:32:28.265Z"
   },
   {
    "duration": 11,
    "start_time": "2022-05-27T19:32:28.272Z"
   },
   {
    "duration": 12,
    "start_time": "2022-05-27T19:32:28.284Z"
   },
   {
    "duration": 5,
    "start_time": "2022-05-27T19:32:28.297Z"
   },
   {
    "duration": 10,
    "start_time": "2022-05-27T19:32:28.304Z"
   },
   {
    "duration": 30,
    "start_time": "2022-05-27T19:32:28.315Z"
   },
   {
    "duration": 8,
    "start_time": "2022-05-27T19:32:28.346Z"
   },
   {
    "duration": 7,
    "start_time": "2022-05-27T19:32:28.355Z"
   },
   {
    "duration": 10,
    "start_time": "2022-05-27T19:32:28.363Z"
   },
   {
    "duration": 7,
    "start_time": "2022-05-27T19:32:28.374Z"
   },
   {
    "duration": 12,
    "start_time": "2022-05-27T19:32:28.382Z"
   },
   {
    "duration": 11,
    "start_time": "2022-05-27T19:32:28.395Z"
   },
   {
    "duration": 16,
    "start_time": "2022-05-27T19:32:28.408Z"
   },
   {
    "duration": 13,
    "start_time": "2022-05-27T19:32:28.425Z"
   },
   {
    "duration": 7,
    "start_time": "2022-05-27T19:32:28.439Z"
   },
   {
    "duration": 15,
    "start_time": "2022-05-27T19:32:28.447Z"
   },
   {
    "duration": 16,
    "start_time": "2022-05-27T19:32:28.463Z"
   },
   {
    "duration": 4,
    "start_time": "2022-05-27T19:32:28.481Z"
   },
   {
    "duration": 332,
    "start_time": "2022-05-27T19:32:28.487Z"
   },
   {
    "duration": 449,
    "start_time": "2022-05-27T19:32:28.822Z"
   },
   {
    "duration": 11,
    "start_time": "2022-05-27T19:32:29.273Z"
   },
   {
    "duration": 21,
    "start_time": "2022-05-27T19:32:29.286Z"
   },
   {
    "duration": 233,
    "start_time": "2022-05-27T19:32:29.309Z"
   },
   {
    "duration": 308,
    "start_time": "2022-05-27T19:32:29.543Z"
   },
   {
    "duration": 272,
    "start_time": "2022-05-27T19:32:29.853Z"
   },
   {
    "duration": 325,
    "start_time": "2022-05-27T19:32:30.127Z"
   },
   {
    "duration": 9,
    "start_time": "2022-05-27T19:32:30.453Z"
   },
   {
    "duration": 162,
    "start_time": "2022-05-27T19:32:30.463Z"
   },
   {
    "duration": 150,
    "start_time": "2022-05-27T19:32:30.633Z"
   },
   {
    "duration": 5,
    "start_time": "2022-05-27T19:32:30.784Z"
   },
   {
    "duration": 9,
    "start_time": "2022-05-27T19:32:30.790Z"
   },
   {
    "duration": 162,
    "start_time": "2022-05-27T19:32:30.803Z"
   },
   {
    "duration": 225,
    "start_time": "2022-05-27T19:32:30.967Z"
   },
   {
    "duration": 6,
    "start_time": "2022-05-27T19:32:31.194Z"
   },
   {
    "duration": 32,
    "start_time": "2022-05-27T19:32:31.201Z"
   },
   {
    "duration": 41,
    "start_time": "2022-05-27T19:32:31.236Z"
   },
   {
    "duration": 201,
    "start_time": "2022-05-27T19:32:31.278Z"
   },
   {
    "duration": 27,
    "start_time": "2022-05-27T19:32:31.481Z"
   },
   {
    "duration": 187,
    "start_time": "2022-05-27T19:32:31.509Z"
   },
   {
    "duration": 11,
    "start_time": "2022-05-27T19:32:31.697Z"
   },
   {
    "duration": 26,
    "start_time": "2022-05-27T19:32:31.709Z"
   },
   {
    "duration": 15,
    "start_time": "2022-05-27T19:32:31.739Z"
   },
   {
    "duration": 34,
    "start_time": "2022-05-27T19:32:31.755Z"
   },
   {
    "duration": 32,
    "start_time": "2022-05-27T19:32:31.791Z"
   },
   {
    "duration": 1176,
    "start_time": "2022-05-28T11:32:58.254Z"
   },
   {
    "duration": 132,
    "start_time": "2022-05-28T11:32:59.439Z"
   },
   {
    "duration": 18,
    "start_time": "2022-05-28T11:32:59.576Z"
   },
   {
    "duration": 17,
    "start_time": "2022-05-28T11:32:59.596Z"
   },
   {
    "duration": 18,
    "start_time": "2022-05-28T11:32:59.615Z"
   },
   {
    "duration": 29,
    "start_time": "2022-05-28T11:32:59.637Z"
   },
   {
    "duration": 18,
    "start_time": "2022-05-28T11:32:59.668Z"
   },
   {
    "duration": 24,
    "start_time": "2022-05-28T11:32:59.688Z"
   },
   {
    "duration": 16,
    "start_time": "2022-05-28T11:32:59.713Z"
   },
   {
    "duration": 27,
    "start_time": "2022-05-28T11:32:59.734Z"
   },
   {
    "duration": 15,
    "start_time": "2022-05-28T11:32:59.764Z"
   },
   {
    "duration": 13,
    "start_time": "2022-05-28T11:32:59.781Z"
   },
   {
    "duration": 14,
    "start_time": "2022-05-28T11:32:59.796Z"
   },
   {
    "duration": 18,
    "start_time": "2022-05-28T11:32:59.812Z"
   },
   {
    "duration": 37,
    "start_time": "2022-05-28T11:32:59.834Z"
   },
   {
    "duration": 9,
    "start_time": "2022-05-28T11:32:59.873Z"
   },
   {
    "duration": 9,
    "start_time": "2022-05-28T11:32:59.884Z"
   },
   {
    "duration": 14,
    "start_time": "2022-05-28T11:32:59.895Z"
   },
   {
    "duration": 11,
    "start_time": "2022-05-28T11:32:59.911Z"
   },
   {
    "duration": 34,
    "start_time": "2022-05-28T11:32:59.924Z"
   },
   {
    "duration": 18,
    "start_time": "2022-05-28T11:32:59.960Z"
   },
   {
    "duration": 21,
    "start_time": "2022-05-28T11:32:59.980Z"
   },
   {
    "duration": 14,
    "start_time": "2022-05-28T11:33:00.003Z"
   },
   {
    "duration": 17,
    "start_time": "2022-05-28T11:33:00.018Z"
   },
   {
    "duration": 26,
    "start_time": "2022-05-28T11:33:00.042Z"
   },
   {
    "duration": 30,
    "start_time": "2022-05-28T11:33:00.070Z"
   },
   {
    "duration": 5,
    "start_time": "2022-05-28T11:33:00.102Z"
   },
   {
    "duration": 440,
    "start_time": "2022-05-28T11:33:00.112Z"
   },
   {
    "duration": 441,
    "start_time": "2022-05-28T11:33:00.555Z"
   },
   {
    "duration": 11,
    "start_time": "2022-05-28T11:33:00.998Z"
   },
   {
    "duration": 50,
    "start_time": "2022-05-28T11:33:01.011Z"
   },
   {
    "duration": 295,
    "start_time": "2022-05-28T11:33:01.063Z"
   },
   {
    "duration": 391,
    "start_time": "2022-05-28T11:33:01.360Z"
   },
   {
    "duration": 298,
    "start_time": "2022-05-28T11:33:01.754Z"
   },
   {
    "duration": 337,
    "start_time": "2022-05-28T11:33:02.054Z"
   },
   {
    "duration": 9,
    "start_time": "2022-05-28T11:33:02.393Z"
   },
   {
    "duration": 164,
    "start_time": "2022-05-28T11:33:02.403Z"
   },
   {
    "duration": 168,
    "start_time": "2022-05-28T11:33:02.569Z"
   },
   {
    "duration": 10,
    "start_time": "2022-05-28T11:33:02.741Z"
   },
   {
    "duration": 11,
    "start_time": "2022-05-28T11:33:02.754Z"
   },
   {
    "duration": 200,
    "start_time": "2022-05-28T11:33:02.767Z"
   },
   {
    "duration": 185,
    "start_time": "2022-05-28T11:33:02.969Z"
   },
   {
    "duration": 6,
    "start_time": "2022-05-28T11:33:03.156Z"
   },
   {
    "duration": 17,
    "start_time": "2022-05-28T11:33:03.164Z"
   },
   {
    "duration": 25,
    "start_time": "2022-05-28T11:33:03.183Z"
   },
   {
    "duration": 253,
    "start_time": "2022-05-28T11:33:03.210Z"
   },
   {
    "duration": 29,
    "start_time": "2022-05-28T11:33:03.465Z"
   },
   {
    "duration": 189,
    "start_time": "2022-05-28T11:33:03.496Z"
   },
   {
    "duration": 11,
    "start_time": "2022-05-28T11:33:03.687Z"
   },
   {
    "duration": 30,
    "start_time": "2022-05-28T11:33:03.700Z"
   },
   {
    "duration": 24,
    "start_time": "2022-05-28T11:33:03.734Z"
   },
   {
    "duration": 35,
    "start_time": "2022-05-28T11:33:03.761Z"
   },
   {
    "duration": 19,
    "start_time": "2022-05-28T11:33:03.798Z"
   },
   {
    "duration": 1267,
    "start_time": "2022-05-28T11:36:50.544Z"
   },
   {
    "duration": 84,
    "start_time": "2022-05-28T11:36:51.813Z"
   },
   {
    "duration": 15,
    "start_time": "2022-05-28T11:36:51.900Z"
   },
   {
    "duration": 24,
    "start_time": "2022-05-28T11:36:51.918Z"
   },
   {
    "duration": 12,
    "start_time": "2022-05-28T11:36:51.949Z"
   },
   {
    "duration": 15,
    "start_time": "2022-05-28T11:36:51.963Z"
   },
   {
    "duration": 18,
    "start_time": "2022-05-28T11:36:51.980Z"
   },
   {
    "duration": 17,
    "start_time": "2022-05-28T11:36:52.000Z"
   },
   {
    "duration": 46,
    "start_time": "2022-05-28T11:36:52.019Z"
   },
   {
    "duration": 7,
    "start_time": "2022-05-28T11:36:52.069Z"
   },
   {
    "duration": 13,
    "start_time": "2022-05-28T11:36:52.078Z"
   },
   {
    "duration": 10,
    "start_time": "2022-05-28T11:36:52.092Z"
   },
   {
    "duration": 9,
    "start_time": "2022-05-28T11:36:52.104Z"
   },
   {
    "duration": 22,
    "start_time": "2022-05-28T11:36:52.116Z"
   },
   {
    "duration": 25,
    "start_time": "2022-05-28T11:36:52.139Z"
   },
   {
    "duration": 10,
    "start_time": "2022-05-28T11:36:52.166Z"
   },
   {
    "duration": 19,
    "start_time": "2022-05-28T11:36:52.178Z"
   },
   {
    "duration": 12,
    "start_time": "2022-05-28T11:36:52.198Z"
   },
   {
    "duration": 28,
    "start_time": "2022-05-28T11:36:52.212Z"
   },
   {
    "duration": 23,
    "start_time": "2022-05-28T11:36:52.241Z"
   },
   {
    "duration": 16,
    "start_time": "2022-05-28T11:36:52.267Z"
   },
   {
    "duration": 14,
    "start_time": "2022-05-28T11:36:52.284Z"
   },
   {
    "duration": 12,
    "start_time": "2022-05-28T11:36:52.299Z"
   },
   {
    "duration": 22,
    "start_time": "2022-05-28T11:36:52.313Z"
   },
   {
    "duration": 26,
    "start_time": "2022-05-28T11:36:52.345Z"
   },
   {
    "duration": 19,
    "start_time": "2022-05-28T11:36:52.373Z"
   },
   {
    "duration": 4,
    "start_time": "2022-05-28T11:36:52.394Z"
   },
   {
    "duration": 393,
    "start_time": "2022-05-28T11:36:52.403Z"
   },
   {
    "duration": 462,
    "start_time": "2022-05-28T11:36:52.797Z"
   },
   {
    "duration": 11,
    "start_time": "2022-05-28T11:36:53.261Z"
   },
   {
    "duration": 24,
    "start_time": "2022-05-28T11:36:53.273Z"
   },
   {
    "duration": 283,
    "start_time": "2022-05-28T11:36:53.299Z"
   },
   {
    "duration": 393,
    "start_time": "2022-05-28T11:36:53.584Z"
   },
   {
    "duration": 282,
    "start_time": "2022-05-28T11:36:53.979Z"
   },
   {
    "duration": 320,
    "start_time": "2022-05-28T11:36:54.263Z"
   },
   {
    "duration": 11,
    "start_time": "2022-05-28T11:36:54.585Z"
   },
   {
    "duration": 162,
    "start_time": "2022-05-28T11:36:54.598Z"
   },
   {
    "duration": 156,
    "start_time": "2022-05-28T11:36:54.762Z"
   },
   {
    "duration": 27,
    "start_time": "2022-05-28T11:36:54.920Z"
   },
   {
    "duration": 15,
    "start_time": "2022-05-28T11:36:54.949Z"
   },
   {
    "duration": 244,
    "start_time": "2022-05-28T11:36:54.966Z"
   },
   {
    "duration": 196,
    "start_time": "2022-05-28T11:36:55.212Z"
   },
   {
    "duration": 7,
    "start_time": "2022-05-28T11:36:55.410Z"
   },
   {
    "duration": 59,
    "start_time": "2022-05-28T11:36:55.427Z"
   },
   {
    "duration": 25,
    "start_time": "2022-05-28T11:36:55.489Z"
   },
   {
    "duration": 297,
    "start_time": "2022-05-28T11:36:55.516Z"
   },
   {
    "duration": 39,
    "start_time": "2022-05-28T11:36:55.815Z"
   },
   {
    "duration": 224,
    "start_time": "2022-05-28T11:36:55.856Z"
   },
   {
    "duration": 12,
    "start_time": "2022-05-28T11:36:56.082Z"
   },
   {
    "duration": 23,
    "start_time": "2022-05-28T11:36:56.100Z"
   },
   {
    "duration": 51,
    "start_time": "2022-05-28T11:36:56.127Z"
   },
   {
    "duration": 72,
    "start_time": "2022-05-28T11:36:56.181Z"
   },
   {
    "duration": 20,
    "start_time": "2022-05-28T11:36:56.255Z"
   },
   {
    "duration": 1471,
    "start_time": "2022-05-28T11:51:15.933Z"
   },
   {
    "duration": 1092,
    "start_time": "2022-05-28T11:51:23.209Z"
   },
   {
    "duration": 219,
    "start_time": "2022-05-28T11:51:24.302Z"
   },
   {
    "duration": 11,
    "start_time": "2022-05-28T11:51:24.523Z"
   },
   {
    "duration": 14,
    "start_time": "2022-05-28T11:51:24.536Z"
   },
   {
    "duration": 10,
    "start_time": "2022-05-28T11:51:24.551Z"
   },
   {
    "duration": 11,
    "start_time": "2022-05-28T11:51:24.563Z"
   },
   {
    "duration": 14,
    "start_time": "2022-05-28T11:51:24.575Z"
   },
   {
    "duration": 12,
    "start_time": "2022-05-28T11:51:24.591Z"
   },
   {
    "duration": 10,
    "start_time": "2022-05-28T11:51:24.605Z"
   },
   {
    "duration": 6,
    "start_time": "2022-05-28T11:51:24.618Z"
   },
   {
    "duration": 39,
    "start_time": "2022-05-28T11:51:24.625Z"
   },
   {
    "duration": 10,
    "start_time": "2022-05-28T11:51:24.665Z"
   },
   {
    "duration": 7,
    "start_time": "2022-05-28T11:51:24.677Z"
   },
   {
    "duration": 13,
    "start_time": "2022-05-28T11:51:24.685Z"
   },
   {
    "duration": 12,
    "start_time": "2022-05-28T11:51:24.699Z"
   },
   {
    "duration": 7,
    "start_time": "2022-05-28T11:51:24.713Z"
   },
   {
    "duration": 7,
    "start_time": "2022-05-28T11:51:24.721Z"
   },
   {
    "duration": 36,
    "start_time": "2022-05-28T11:51:24.730Z"
   },
   {
    "duration": 9,
    "start_time": "2022-05-28T11:51:24.768Z"
   },
   {
    "duration": 19,
    "start_time": "2022-05-28T11:51:24.778Z"
   },
   {
    "duration": 11,
    "start_time": "2022-05-28T11:51:24.799Z"
   },
   {
    "duration": 10,
    "start_time": "2022-05-28T11:51:24.813Z"
   },
   {
    "duration": 13,
    "start_time": "2022-05-28T11:51:24.825Z"
   },
   {
    "duration": 27,
    "start_time": "2022-05-28T11:51:24.840Z"
   },
   {
    "duration": 19,
    "start_time": "2022-05-28T11:51:24.869Z"
   },
   {
    "duration": 17,
    "start_time": "2022-05-28T11:51:24.889Z"
   },
   {
    "duration": 4,
    "start_time": "2022-05-28T11:51:24.907Z"
   },
   {
    "duration": 328,
    "start_time": "2022-05-28T11:51:24.914Z"
   },
   {
    "duration": 411,
    "start_time": "2022-05-28T11:51:25.243Z"
   },
   {
    "duration": 11,
    "start_time": "2022-05-28T11:51:25.655Z"
   },
   {
    "duration": 18,
    "start_time": "2022-05-28T11:51:25.668Z"
   },
   {
    "duration": 235,
    "start_time": "2022-05-28T11:51:25.688Z"
   },
   {
    "duration": 338,
    "start_time": "2022-05-28T11:51:25.925Z"
   },
   {
    "duration": 257,
    "start_time": "2022-05-28T11:51:26.265Z"
   },
   {
    "duration": 349,
    "start_time": "2022-05-28T11:51:26.525Z"
   },
   {
    "duration": 9,
    "start_time": "2022-05-28T11:51:26.875Z"
   },
   {
    "duration": 144,
    "start_time": "2022-05-28T11:51:26.886Z"
   },
   {
    "duration": 157,
    "start_time": "2022-05-28T11:51:27.032Z"
   },
   {
    "duration": 6,
    "start_time": "2022-05-28T11:51:27.192Z"
   },
   {
    "duration": 10,
    "start_time": "2022-05-28T11:51:27.200Z"
   },
   {
    "duration": 251,
    "start_time": "2022-05-28T11:51:27.212Z"
   },
   {
    "duration": 199,
    "start_time": "2022-05-28T11:51:27.465Z"
   },
   {
    "duration": 6,
    "start_time": "2022-05-28T11:51:27.666Z"
   },
   {
    "duration": 11,
    "start_time": "2022-05-28T11:51:27.673Z"
   },
   {
    "duration": 11,
    "start_time": "2022-05-28T11:51:27.685Z"
   },
   {
    "duration": 216,
    "start_time": "2022-05-28T11:51:27.697Z"
   },
   {
    "duration": 29,
    "start_time": "2022-05-28T11:51:27.915Z"
   },
   {
    "duration": 174,
    "start_time": "2022-05-28T11:51:27.946Z"
   },
   {
    "duration": 11,
    "start_time": "2022-05-28T11:51:28.122Z"
   },
   {
    "duration": 26,
    "start_time": "2022-05-28T11:51:28.134Z"
   },
   {
    "duration": 11,
    "start_time": "2022-05-28T11:51:28.162Z"
   },
   {
    "duration": 44,
    "start_time": "2022-05-28T11:51:28.174Z"
   },
   {
    "duration": 13,
    "start_time": "2022-05-28T11:51:28.219Z"
   },
   {
    "duration": 9,
    "start_time": "2022-05-28T12:01:32.772Z"
   },
   {
    "duration": 1343,
    "start_time": "2022-05-28T18:19:19.407Z"
   },
   {
    "duration": 249,
    "start_time": "2022-05-28T18:19:20.752Z"
   },
   {
    "duration": 17,
    "start_time": "2022-05-28T18:19:21.003Z"
   },
   {
    "duration": 35,
    "start_time": "2022-05-28T18:19:21.023Z"
   },
   {
    "duration": 18,
    "start_time": "2022-05-28T18:19:21.060Z"
   },
   {
    "duration": 8,
    "start_time": "2022-05-28T18:19:21.080Z"
   },
   {
    "duration": 27,
    "start_time": "2022-05-28T18:19:21.090Z"
   },
   {
    "duration": 47,
    "start_time": "2022-05-28T18:19:21.119Z"
   },
   {
    "duration": 19,
    "start_time": "2022-05-28T18:19:21.169Z"
   },
   {
    "duration": 10,
    "start_time": "2022-05-28T18:19:21.192Z"
   },
   {
    "duration": 21,
    "start_time": "2022-05-28T18:19:21.203Z"
   },
   {
    "duration": 14,
    "start_time": "2022-05-28T18:19:21.226Z"
   },
   {
    "duration": 22,
    "start_time": "2022-05-28T18:19:21.242Z"
   },
   {
    "duration": 15,
    "start_time": "2022-05-28T18:19:21.265Z"
   },
   {
    "duration": 9,
    "start_time": "2022-05-28T18:19:21.282Z"
   },
   {
    "duration": 8,
    "start_time": "2022-05-28T18:19:21.293Z"
   },
   {
    "duration": 8,
    "start_time": "2022-05-28T18:19:21.303Z"
   },
   {
    "duration": 16,
    "start_time": "2022-05-28T18:19:21.312Z"
   },
   {
    "duration": 9,
    "start_time": "2022-05-28T18:19:21.359Z"
   },
   {
    "duration": 16,
    "start_time": "2022-05-28T18:19:21.371Z"
   },
   {
    "duration": 12,
    "start_time": "2022-05-28T18:19:21.390Z"
   },
   {
    "duration": 12,
    "start_time": "2022-05-28T18:19:21.404Z"
   },
   {
    "duration": 45,
    "start_time": "2022-05-28T18:19:21.419Z"
   },
   {
    "duration": 14,
    "start_time": "2022-05-28T18:19:21.467Z"
   },
   {
    "duration": 28,
    "start_time": "2022-05-28T18:19:21.484Z"
   },
   {
    "duration": 67,
    "start_time": "2022-05-28T18:19:21.515Z"
   },
   {
    "duration": 6,
    "start_time": "2022-05-28T18:19:21.585Z"
   },
   {
    "duration": 414,
    "start_time": "2022-05-28T18:19:21.595Z"
   },
   {
    "duration": 377,
    "start_time": "2022-05-28T18:19:22.010Z"
   },
   {
    "duration": 10,
    "start_time": "2022-05-28T18:19:22.389Z"
   },
   {
    "duration": 19,
    "start_time": "2022-05-28T18:19:22.400Z"
   },
   {
    "duration": 256,
    "start_time": "2022-05-28T18:19:22.421Z"
   },
   {
    "duration": 400,
    "start_time": "2022-05-28T18:19:22.679Z"
   },
   {
    "duration": 299,
    "start_time": "2022-05-28T18:19:23.082Z"
   },
   {
    "duration": 316,
    "start_time": "2022-05-28T18:19:23.382Z"
   },
   {
    "duration": 8,
    "start_time": "2022-05-28T18:19:23.700Z"
   },
   {
    "duration": 167,
    "start_time": "2022-05-28T18:19:23.710Z"
   },
   {
    "duration": 161,
    "start_time": "2022-05-28T18:19:23.879Z"
   },
   {
    "duration": 5,
    "start_time": "2022-05-28T18:19:24.042Z"
   },
   {
    "duration": 15,
    "start_time": "2022-05-28T18:19:24.049Z"
   },
   {
    "duration": 186,
    "start_time": "2022-05-28T18:19:24.067Z"
   },
   {
    "duration": 193,
    "start_time": "2022-05-28T18:19:24.255Z"
   },
   {
    "duration": 6,
    "start_time": "2022-05-28T18:19:24.449Z"
   },
   {
    "duration": 29,
    "start_time": "2022-05-28T18:19:24.457Z"
   },
   {
    "duration": 10,
    "start_time": "2022-05-28T18:19:24.489Z"
   },
   {
    "duration": 241,
    "start_time": "2022-05-28T18:19:24.501Z"
   },
   {
    "duration": 43,
    "start_time": "2022-05-28T18:19:24.745Z"
   },
   {
    "duration": 192,
    "start_time": "2022-05-28T18:19:24.790Z"
   },
   {
    "duration": 16,
    "start_time": "2022-05-28T18:19:24.985Z"
   },
   {
    "duration": 10,
    "start_time": "2022-05-28T18:19:25.003Z"
   },
   {
    "duration": 11,
    "start_time": "2022-05-28T18:19:25.015Z"
   },
   {
    "duration": 72,
    "start_time": "2022-05-28T18:19:25.028Z"
   },
   {
    "duration": 19,
    "start_time": "2022-05-28T18:19:25.102Z"
   },
   {
    "duration": 247,
    "start_time": "2022-05-28T18:24:35.979Z"
   },
   {
    "duration": 244,
    "start_time": "2022-05-28T18:25:32.056Z"
   },
   {
    "duration": 431,
    "start_time": "2022-05-28T18:28:34.975Z"
   },
   {
    "duration": 250,
    "start_time": "2022-05-28T18:29:45.749Z"
   },
   {
    "duration": 259,
    "start_time": "2022-05-28T18:30:14.557Z"
   },
   {
    "duration": 243,
    "start_time": "2022-05-28T18:30:47.708Z"
   },
   {
    "duration": 251,
    "start_time": "2022-05-28T18:31:29.735Z"
   },
   {
    "duration": 238,
    "start_time": "2022-05-28T18:32:20.959Z"
   },
   {
    "duration": 312,
    "start_time": "2022-05-28T18:33:29.025Z"
   },
   {
    "duration": 341,
    "start_time": "2022-05-28T18:33:41.959Z"
   },
   {
    "duration": 231,
    "start_time": "2022-05-28T18:37:03.318Z"
   },
   {
    "duration": 272,
    "start_time": "2022-05-28T18:38:02.772Z"
   },
   {
    "duration": 268,
    "start_time": "2022-05-28T18:39:11.748Z"
   },
   {
    "duration": 318,
    "start_time": "2022-05-28T18:40:56.151Z"
   },
   {
    "duration": 452,
    "start_time": "2022-05-28T18:41:06.402Z"
   },
   {
    "duration": 278,
    "start_time": "2022-05-28T18:41:27.094Z"
   },
   {
    "duration": 378,
    "start_time": "2022-05-28T18:42:56.239Z"
   },
   {
    "duration": 335,
    "start_time": "2022-05-28T18:43:13.201Z"
   },
   {
    "duration": 349,
    "start_time": "2022-05-28T18:43:31.800Z"
   },
   {
    "duration": 283,
    "start_time": "2022-05-28T18:45:00.881Z"
   },
   {
    "duration": 346,
    "start_time": "2022-05-28T18:45:49.685Z"
   },
   {
    "duration": 320,
    "start_time": "2022-05-28T18:46:01.504Z"
   },
   {
    "duration": 167,
    "start_time": "2022-05-28T18:47:00.177Z"
   },
   {
    "duration": 159,
    "start_time": "2022-05-28T18:48:25.975Z"
   },
   {
    "duration": 164,
    "start_time": "2022-05-28T18:51:26.042Z"
   },
   {
    "duration": 4,
    "start_time": "2022-05-28T18:52:46.815Z"
   },
   {
    "duration": 236,
    "start_time": "2022-05-28T18:53:36.958Z"
   },
   {
    "duration": 5,
    "start_time": "2022-05-28T18:54:21.049Z"
   },
   {
    "duration": 224,
    "start_time": "2022-05-28T18:54:51.656Z"
   },
   {
    "duration": 303,
    "start_time": "2022-05-28T18:55:35.681Z"
   },
   {
    "duration": 391,
    "start_time": "2022-05-28T18:59:17.330Z"
   },
   {
    "duration": 59,
    "start_time": "2022-05-29T09:13:54.496Z"
   },
   {
    "duration": 1341,
    "start_time": "2022-05-29T09:13:59.759Z"
   },
   {
    "duration": 175,
    "start_time": "2022-05-29T09:14:01.102Z"
   },
   {
    "duration": 13,
    "start_time": "2022-05-29T09:14:01.279Z"
   },
   {
    "duration": 13,
    "start_time": "2022-05-29T09:14:01.295Z"
   },
   {
    "duration": 12,
    "start_time": "2022-05-29T09:14:01.310Z"
   },
   {
    "duration": 21,
    "start_time": "2022-05-29T09:14:01.323Z"
   },
   {
    "duration": 14,
    "start_time": "2022-05-29T09:14:01.345Z"
   },
   {
    "duration": 17,
    "start_time": "2022-05-29T09:14:01.361Z"
   },
   {
    "duration": 10,
    "start_time": "2022-05-29T09:14:01.380Z"
   },
   {
    "duration": 9,
    "start_time": "2022-05-29T09:14:01.393Z"
   },
   {
    "duration": 13,
    "start_time": "2022-05-29T09:14:01.404Z"
   },
   {
    "duration": 23,
    "start_time": "2022-05-29T09:14:01.419Z"
   },
   {
    "duration": 14,
    "start_time": "2022-05-29T09:14:01.444Z"
   },
   {
    "duration": 17,
    "start_time": "2022-05-29T09:14:01.459Z"
   },
   {
    "duration": 15,
    "start_time": "2022-05-29T09:14:01.478Z"
   },
   {
    "duration": 8,
    "start_time": "2022-05-29T09:14:01.494Z"
   },
   {
    "duration": 8,
    "start_time": "2022-05-29T09:14:01.504Z"
   },
   {
    "duration": 32,
    "start_time": "2022-05-29T09:14:01.514Z"
   },
   {
    "duration": 16,
    "start_time": "2022-05-29T09:14:01.548Z"
   },
   {
    "duration": 22,
    "start_time": "2022-05-29T09:14:01.565Z"
   },
   {
    "duration": 20,
    "start_time": "2022-05-29T09:14:01.588Z"
   },
   {
    "duration": 30,
    "start_time": "2022-05-29T09:14:01.610Z"
   },
   {
    "duration": 19,
    "start_time": "2022-05-29T09:14:01.642Z"
   },
   {
    "duration": 16,
    "start_time": "2022-05-29T09:14:01.663Z"
   },
   {
    "duration": 39,
    "start_time": "2022-05-29T09:14:01.681Z"
   },
   {
    "duration": 21,
    "start_time": "2022-05-29T09:14:01.722Z"
   },
   {
    "duration": 5,
    "start_time": "2022-05-29T09:14:01.745Z"
   },
   {
    "duration": 404,
    "start_time": "2022-05-29T09:14:01.753Z"
   },
   {
    "duration": 387,
    "start_time": "2022-05-29T09:14:02.159Z"
   },
   {
    "duration": 11,
    "start_time": "2022-05-29T09:14:02.547Z"
   },
   {
    "duration": 19,
    "start_time": "2022-05-29T09:14:02.560Z"
   },
   {
    "duration": 244,
    "start_time": "2022-05-29T09:14:02.581Z"
   },
   {
    "duration": 391,
    "start_time": "2022-05-29T09:14:02.826Z"
   },
   {
    "duration": 254,
    "start_time": "2022-05-29T09:14:03.220Z"
   },
   {
    "duration": 319,
    "start_time": "2022-05-29T09:14:03.477Z"
   },
   {
    "duration": 8,
    "start_time": "2022-05-29T09:14:03.798Z"
   },
   {
    "duration": 127,
    "start_time": "2022-05-29T09:14:03.808Z"
   },
   {
    "duration": 152,
    "start_time": "2022-05-29T09:14:03.940Z"
   },
   {
    "duration": 5,
    "start_time": "2022-05-29T09:14:04.094Z"
   },
   {
    "duration": 8,
    "start_time": "2022-05-29T09:14:04.100Z"
   },
   {
    "duration": 182,
    "start_time": "2022-05-29T09:14:04.110Z"
   },
   {
    "duration": 195,
    "start_time": "2022-05-29T09:14:04.293Z"
   },
   {
    "duration": 5,
    "start_time": "2022-05-29T09:14:04.490Z"
   },
   {
    "duration": 13,
    "start_time": "2022-05-29T09:14:04.497Z"
   },
   {
    "duration": 15,
    "start_time": "2022-05-29T09:14:04.512Z"
   },
   {
    "duration": 199,
    "start_time": "2022-05-29T09:14:04.529Z"
   },
   {
    "duration": 34,
    "start_time": "2022-05-29T09:14:04.730Z"
   },
   {
    "duration": 158,
    "start_time": "2022-05-29T09:14:04.765Z"
   },
   {
    "duration": 43,
    "start_time": "2022-05-29T09:14:04.925Z"
   },
   {
    "duration": 12,
    "start_time": "2022-05-29T09:14:04.970Z"
   },
   {
    "duration": 12,
    "start_time": "2022-05-29T09:14:04.984Z"
   },
   {
    "duration": 8,
    "start_time": "2022-05-29T09:14:04.998Z"
   },
   {
    "duration": 57,
    "start_time": "2022-05-29T09:14:05.008Z"
   },
   {
    "duration": 15,
    "start_time": "2022-05-29T09:14:05.067Z"
   },
   {
    "duration": 28,
    "start_time": "2022-05-29T09:19:39.405Z"
   }
  ],
  "kernelspec": {
   "display_name": "Python 3 (ipykernel)",
   "language": "python",
   "name": "python3"
  },
  "language_info": {
   "codemirror_mode": {
    "name": "ipython",
    "version": 3
   },
   "file_extension": ".py",
   "mimetype": "text/x-python",
   "name": "python",
   "nbconvert_exporter": "python",
   "pygments_lexer": "ipython3",
   "version": "3.9.5"
  },
  "toc": {
   "base_numbering": 1,
   "nav_menu": {},
   "number_sections": false,
   "sideBar": true,
   "skip_h1_title": false,
   "title_cell": "Table of Contents",
   "title_sidebar": "Contents",
   "toc_cell": false,
   "toc_position": {},
   "toc_section_display": true,
   "toc_window_display": true
  }
 },
 "nbformat": 4,
 "nbformat_minor": 2
}
