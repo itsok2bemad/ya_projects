{
 "cells": [
  {
   "cell_type": "markdown",
   "id": "34bf9d39",
   "metadata": {},
   "source": [
    "# Исследование надежности заемщиков."
   ]
  },
  {
   "cell_type": "markdown",
   "id": "18a988f7",
   "metadata": {},
   "source": [
    "Имеется датасет по клиентам кредитной организации.\n",
    "Цель проекта это изучение данных, обработка пропусков, структуризация и ответ на поставленные вопросы.\n",
    "\n",
    "· Есть ли зависимость между уровнем дохода и возвратом кредита в срок? <br>\n",
    "· Есть ли зависимость между количеством детей и возвратом кредита в срок? <br>\n",
    "· Есть ли зависимость между семейным положением и возвратом кредита в срок? <br>\n",
    "· Как цели кредита влияют на возврат в срок?"
   ]
  },
  {
   "cell_type": "markdown",
   "id": "e9f4cee4",
   "metadata": {},
   "source": [
    "## Обзор данных"
   ]
  },
  {
   "cell_type": "markdown",
   "id": "aa57da37",
   "metadata": {},
   "source": [
    "Импортируем библиотеку pandas и прочитаем файл с исходными данными"
   ]
  },
  {
   "cell_type": "code",
   "execution_count": 1,
   "id": "368f19ef",
   "metadata": {},
   "outputs": [],
   "source": [
    "import pandas as pd\n",
    "data = pd.read_csv('/datasets/data.csv')"
   ]
  },
  {
   "cell_type": "markdown",
   "id": "48658538",
   "metadata": {},
   "source": [
    "Изучим данные, используя метод info().А также выведем первые 10 строчек на экран."
   ]
  },
  {
   "cell_type": "code",
   "execution_count": 2,
   "id": "2d3aa134",
   "metadata": {
    "scrolled": false
   },
   "outputs": [
    {
     "name": "stdout",
     "output_type": "stream",
     "text": [
      "<class 'pandas.core.frame.DataFrame'>\n",
      "RangeIndex: 21525 entries, 0 to 21524\n",
      "Data columns (total 12 columns):\n",
      "children            21525 non-null int64\n",
      "days_employed       19351 non-null float64\n",
      "dob_years           21525 non-null int64\n",
      "education           21525 non-null object\n",
      "education_id        21525 non-null int64\n",
      "family_status       21525 non-null object\n",
      "family_status_id    21525 non-null int64\n",
      "gender              21525 non-null object\n",
      "income_type         21525 non-null object\n",
      "debt                21525 non-null int64\n",
      "total_income        19351 non-null float64\n",
      "purpose             21525 non-null object\n",
      "dtypes: float64(2), int64(5), object(5)\n",
      "memory usage: 2.0+ MB\n"
     ]
    },
    {
     "data": {
      "text/html": [
       "<div>\n",
       "<style scoped>\n",
       "    .dataframe tbody tr th:only-of-type {\n",
       "        vertical-align: middle;\n",
       "    }\n",
       "\n",
       "    .dataframe tbody tr th {\n",
       "        vertical-align: top;\n",
       "    }\n",
       "\n",
       "    .dataframe thead th {\n",
       "        text-align: right;\n",
       "    }\n",
       "</style>\n",
       "<table border=\"1\" class=\"dataframe\">\n",
       "  <thead>\n",
       "    <tr style=\"text-align: right;\">\n",
       "      <th></th>\n",
       "      <th>children</th>\n",
       "      <th>days_employed</th>\n",
       "      <th>dob_years</th>\n",
       "      <th>education</th>\n",
       "      <th>education_id</th>\n",
       "      <th>family_status</th>\n",
       "      <th>family_status_id</th>\n",
       "      <th>gender</th>\n",
       "      <th>income_type</th>\n",
       "      <th>debt</th>\n",
       "      <th>total_income</th>\n",
       "      <th>purpose</th>\n",
       "    </tr>\n",
       "  </thead>\n",
       "  <tbody>\n",
       "    <tr>\n",
       "      <td>0</td>\n",
       "      <td>1</td>\n",
       "      <td>-8437.673028</td>\n",
       "      <td>42</td>\n",
       "      <td>высшее</td>\n",
       "      <td>0</td>\n",
       "      <td>женат / замужем</td>\n",
       "      <td>0</td>\n",
       "      <td>F</td>\n",
       "      <td>сотрудник</td>\n",
       "      <td>0</td>\n",
       "      <td>253875.639453</td>\n",
       "      <td>покупка жилья</td>\n",
       "    </tr>\n",
       "    <tr>\n",
       "      <td>1</td>\n",
       "      <td>1</td>\n",
       "      <td>-4024.803754</td>\n",
       "      <td>36</td>\n",
       "      <td>среднее</td>\n",
       "      <td>1</td>\n",
       "      <td>женат / замужем</td>\n",
       "      <td>0</td>\n",
       "      <td>F</td>\n",
       "      <td>сотрудник</td>\n",
       "      <td>0</td>\n",
       "      <td>112080.014102</td>\n",
       "      <td>приобретение автомобиля</td>\n",
       "    </tr>\n",
       "    <tr>\n",
       "      <td>2</td>\n",
       "      <td>0</td>\n",
       "      <td>-5623.422610</td>\n",
       "      <td>33</td>\n",
       "      <td>Среднее</td>\n",
       "      <td>1</td>\n",
       "      <td>женат / замужем</td>\n",
       "      <td>0</td>\n",
       "      <td>M</td>\n",
       "      <td>сотрудник</td>\n",
       "      <td>0</td>\n",
       "      <td>145885.952297</td>\n",
       "      <td>покупка жилья</td>\n",
       "    </tr>\n",
       "    <tr>\n",
       "      <td>3</td>\n",
       "      <td>3</td>\n",
       "      <td>-4124.747207</td>\n",
       "      <td>32</td>\n",
       "      <td>среднее</td>\n",
       "      <td>1</td>\n",
       "      <td>женат / замужем</td>\n",
       "      <td>0</td>\n",
       "      <td>M</td>\n",
       "      <td>сотрудник</td>\n",
       "      <td>0</td>\n",
       "      <td>267628.550329</td>\n",
       "      <td>дополнительное образование</td>\n",
       "    </tr>\n",
       "    <tr>\n",
       "      <td>4</td>\n",
       "      <td>0</td>\n",
       "      <td>340266.072047</td>\n",
       "      <td>53</td>\n",
       "      <td>среднее</td>\n",
       "      <td>1</td>\n",
       "      <td>гражданский брак</td>\n",
       "      <td>1</td>\n",
       "      <td>F</td>\n",
       "      <td>пенсионер</td>\n",
       "      <td>0</td>\n",
       "      <td>158616.077870</td>\n",
       "      <td>сыграть свадьбу</td>\n",
       "    </tr>\n",
       "    <tr>\n",
       "      <td>5</td>\n",
       "      <td>0</td>\n",
       "      <td>-926.185831</td>\n",
       "      <td>27</td>\n",
       "      <td>высшее</td>\n",
       "      <td>0</td>\n",
       "      <td>гражданский брак</td>\n",
       "      <td>1</td>\n",
       "      <td>M</td>\n",
       "      <td>компаньон</td>\n",
       "      <td>0</td>\n",
       "      <td>255763.565419</td>\n",
       "      <td>покупка жилья</td>\n",
       "    </tr>\n",
       "    <tr>\n",
       "      <td>6</td>\n",
       "      <td>0</td>\n",
       "      <td>-2879.202052</td>\n",
       "      <td>43</td>\n",
       "      <td>высшее</td>\n",
       "      <td>0</td>\n",
       "      <td>женат / замужем</td>\n",
       "      <td>0</td>\n",
       "      <td>F</td>\n",
       "      <td>компаньон</td>\n",
       "      <td>0</td>\n",
       "      <td>240525.971920</td>\n",
       "      <td>операции с жильем</td>\n",
       "    </tr>\n",
       "    <tr>\n",
       "      <td>7</td>\n",
       "      <td>0</td>\n",
       "      <td>-152.779569</td>\n",
       "      <td>50</td>\n",
       "      <td>СРЕДНЕЕ</td>\n",
       "      <td>1</td>\n",
       "      <td>женат / замужем</td>\n",
       "      <td>0</td>\n",
       "      <td>M</td>\n",
       "      <td>сотрудник</td>\n",
       "      <td>0</td>\n",
       "      <td>135823.934197</td>\n",
       "      <td>образование</td>\n",
       "    </tr>\n",
       "    <tr>\n",
       "      <td>8</td>\n",
       "      <td>2</td>\n",
       "      <td>-6929.865299</td>\n",
       "      <td>35</td>\n",
       "      <td>ВЫСШЕЕ</td>\n",
       "      <td>0</td>\n",
       "      <td>гражданский брак</td>\n",
       "      <td>1</td>\n",
       "      <td>F</td>\n",
       "      <td>сотрудник</td>\n",
       "      <td>0</td>\n",
       "      <td>95856.832424</td>\n",
       "      <td>на проведение свадьбы</td>\n",
       "    </tr>\n",
       "    <tr>\n",
       "      <td>9</td>\n",
       "      <td>0</td>\n",
       "      <td>-2188.756445</td>\n",
       "      <td>41</td>\n",
       "      <td>среднее</td>\n",
       "      <td>1</td>\n",
       "      <td>женат / замужем</td>\n",
       "      <td>0</td>\n",
       "      <td>M</td>\n",
       "      <td>сотрудник</td>\n",
       "      <td>0</td>\n",
       "      <td>144425.938277</td>\n",
       "      <td>покупка жилья для семьи</td>\n",
       "    </tr>\n",
       "  </tbody>\n",
       "</table>\n",
       "</div>"
      ],
      "text/plain": [
       "   children  days_employed  dob_years education  education_id  \\\n",
       "0         1   -8437.673028         42    высшее             0   \n",
       "1         1   -4024.803754         36   среднее             1   \n",
       "2         0   -5623.422610         33   Среднее             1   \n",
       "3         3   -4124.747207         32   среднее             1   \n",
       "4         0  340266.072047         53   среднее             1   \n",
       "5         0    -926.185831         27    высшее             0   \n",
       "6         0   -2879.202052         43    высшее             0   \n",
       "7         0    -152.779569         50   СРЕДНЕЕ             1   \n",
       "8         2   -6929.865299         35    ВЫСШЕЕ             0   \n",
       "9         0   -2188.756445         41   среднее             1   \n",
       "\n",
       "      family_status  family_status_id gender income_type  debt   total_income  \\\n",
       "0   женат / замужем                 0      F   сотрудник     0  253875.639453   \n",
       "1   женат / замужем                 0      F   сотрудник     0  112080.014102   \n",
       "2   женат / замужем                 0      M   сотрудник     0  145885.952297   \n",
       "3   женат / замужем                 0      M   сотрудник     0  267628.550329   \n",
       "4  гражданский брак                 1      F   пенсионер     0  158616.077870   \n",
       "5  гражданский брак                 1      M   компаньон     0  255763.565419   \n",
       "6   женат / замужем                 0      F   компаньон     0  240525.971920   \n",
       "7   женат / замужем                 0      M   сотрудник     0  135823.934197   \n",
       "8  гражданский брак                 1      F   сотрудник     0   95856.832424   \n",
       "9   женат / замужем                 0      M   сотрудник     0  144425.938277   \n",
       "\n",
       "                      purpose  \n",
       "0               покупка жилья  \n",
       "1     приобретение автомобиля  \n",
       "2               покупка жилья  \n",
       "3  дополнительное образование  \n",
       "4             сыграть свадьбу  \n",
       "5               покупка жилья  \n",
       "6           операции с жильем  \n",
       "7                 образование  \n",
       "8       на проведение свадьбы  \n",
       "9     покупка жилья для семьи  "
      ]
     },
     "execution_count": 2,
     "metadata": {},
     "output_type": "execute_result"
    }
   ],
   "source": [
    "data.info()\n",
    "data.head(10)"
   ]
  },
  {
   "cell_type": "markdown",
   "id": "f0587213",
   "metadata": {},
   "source": [
    "Общее количество значений в данных 21525. \n",
    "В стаже работы пропущенные и отрицательные значения.\n",
    "В доходе имеются пропущенные данные.\n",
    "Есть вероятность что это взаимосвязано, молодые сотрудники без стажа работы и не получившие первую выплату."
   ]
  },
  {
   "cell_type": "markdown",
   "id": "a1a49b09",
   "metadata": {},
   "source": [
    "### Проверка данных на аномалии и исправления."
   ]
  },
  {
   "cell_type": "markdown",
   "id": "4437f19e",
   "metadata": {},
   "source": [
    "Выведем на экран количество пропусков."
   ]
  },
  {
   "cell_type": "code",
   "execution_count": 3,
   "id": "22d33a72",
   "metadata": {},
   "outputs": [
    {
     "name": "stdout",
     "output_type": "stream",
     "text": [
      "children               0\n",
      "days_employed       2174\n",
      "dob_years              0\n",
      "education              0\n",
      "education_id           0\n",
      "family_status          0\n",
      "family_status_id       0\n",
      "gender                 0\n",
      "income_type            0\n",
      "debt                   0\n",
      "total_income        2174\n",
      "purpose                0\n",
      "dtype: int64\n"
     ]
    }
   ],
   "source": [
    "print(data.isnull().sum())"
   ]
  },
  {
   "cell_type": "markdown",
   "id": "3e77dff7",
   "metadata": {},
   "source": [
    "Скорее всего столбцы days_employed и total_income взаимосвязаны."
   ]
  },
  {
   "cell_type": "markdown",
   "id": "db8aebdf",
   "metadata": {},
   "source": [
    "Проверим каждый стобец."
   ]
  },
  {
   "cell_type": "markdown",
   "id": "d8bf062f",
   "metadata": {},
   "source": [
    "#### Столбец 'children'"
   ]
  },
  {
   "cell_type": "code",
   "execution_count": 5,
   "id": "d350324f",
   "metadata": {},
   "outputs": [
    {
     "name": "stdout",
     "output_type": "stream",
     "text": [
      " 0     14149\n",
      " 1      4818\n",
      " 2      2055\n",
      " 3       330\n",
      " 20       76\n",
      "-1        47\n",
      " 4        41\n",
      " 5         9\n",
      "Name: children, dtype: int64\n"
     ]
    }
   ],
   "source": [
    "print(data['children'].value_counts())"
   ]
  },
  {
   "cell_type": "markdown",
   "id": "caf445fa",
   "metadata": {},
   "source": [
    "Некорректные значения в столбце детей. Необходимо убрать отрицательное значение (скорее всего опечатка), а также где написано что в семье 20 детей."
   ]
  },
  {
   "cell_type": "markdown",
   "id": "06f85d02",
   "metadata": {},
   "source": [
    "#### Столбец 'days_employed'"
   ]
  },
  {
   "cell_type": "code",
   "execution_count": 6,
   "id": "f347d21d",
   "metadata": {},
   "outputs": [
    {
     "name": "stdout",
     "output_type": "stream",
     "text": [
      "count     19351.000000\n",
      "mean      63046.497661\n",
      "std      140827.311974\n",
      "min      -18388.949901\n",
      "25%       -2747.423625\n",
      "50%       -1203.369529\n",
      "75%        -291.095954\n",
      "max      401755.400475\n",
      "Name: days_employed, dtype: float64\n"
     ]
    }
   ],
   "source": [
    "print(data['days_employed'].describe())"
   ]
  },
  {
   "cell_type": "markdown",
   "id": "43861df2",
   "metadata": {},
   "source": [
    "В данных присутствуют слишком большие значения, также имеется наличие отрицательных.\n",
    "На дальнейшие исследования не влияет. Поэтому можно его не трогать."
   ]
  },
  {
   "cell_type": "markdown",
   "id": "267b0f6f",
   "metadata": {},
   "source": [
    "#### Столбец 'dob_years'"
   ]
  },
  {
   "cell_type": "code",
   "execution_count": 7,
   "id": "7b735ad1",
   "metadata": {},
   "outputs": [
    {
     "name": "stdout",
     "output_type": "stream",
     "text": [
      "0     101\n",
      "19     14\n",
      "20     51\n",
      "21    111\n",
      "22    183\n",
      "23    254\n",
      "24    264\n",
      "25    357\n",
      "26    408\n",
      "27    493\n",
      "28    503\n",
      "29    545\n",
      "30    540\n",
      "31    560\n",
      "32    510\n",
      "33    581\n",
      "34    603\n",
      "35    617\n",
      "36    555\n",
      "37    537\n",
      "38    598\n",
      "39    573\n",
      "40    609\n",
      "41    607\n",
      "42    597\n",
      "43    513\n",
      "44    547\n",
      "45    497\n",
      "46    475\n",
      "47    480\n",
      "48    538\n",
      "49    508\n",
      "50    514\n",
      "51    448\n",
      "52    484\n",
      "53    459\n",
      "54    479\n",
      "55    443\n",
      "56    487\n",
      "57    460\n",
      "58    461\n",
      "59    444\n",
      "60    377\n",
      "61    355\n",
      "62    352\n",
      "63    269\n",
      "64    265\n",
      "65    194\n",
      "66    183\n",
      "67    167\n",
      "68     99\n",
      "69     85\n",
      "70     65\n",
      "71     58\n",
      "72     33\n",
      "73      8\n",
      "74      6\n",
      "75      1\n",
      "Name: dob_years, dtype: int64\n"
     ]
    }
   ],
   "source": [
    "print(data['dob_years'].value_counts().sort_index())"
   ]
  },
  {
   "cell_type": "markdown",
   "id": "c58e60e6",
   "metadata": {},
   "source": [
    "'0' - неверное значение. Либо забыли заполнить, либо какая-то ошибка. В целом это малая доля от общего количества заемщиков - на исследования влиять не будет. Лучше их просто убрать."
   ]
  },
  {
   "cell_type": "markdown",
   "id": "c0760e38",
   "metadata": {},
   "source": [
    "#### Столбцы 'education' и 'education_id'"
   ]
  },
  {
   "cell_type": "code",
   "execution_count": 8,
   "id": "b9602096",
   "metadata": {},
   "outputs": [
    {
     "name": "stdout",
     "output_type": "stream",
     "text": [
      "среднее                13750\n",
      "высшее                  4718\n",
      "СРЕДНЕЕ                  772\n",
      "Среднее                  711\n",
      "неоконченное высшее      668\n",
      "ВЫСШЕЕ                   274\n",
      "Высшее                   268\n",
      "начальное                250\n",
      "Неоконченное высшее       47\n",
      "НЕОКОНЧЕННОЕ ВЫСШЕЕ       29\n",
      "НАЧАЛЬНОЕ                 17\n",
      "Начальное                 15\n",
      "ученая степень             4\n",
      "Ученая степень             1\n",
      "УЧЕНАЯ СТЕПЕНЬ             1\n",
      "Name: education, dtype: int64\n"
     ]
    }
   ],
   "source": [
    "print(data['education'].value_counts())"
   ]
  },
  {
   "cell_type": "code",
   "execution_count": 9,
   "id": "9ec08355",
   "metadata": {},
   "outputs": [
    {
     "name": "stdout",
     "output_type": "stream",
     "text": [
      "1    15233\n",
      "0     5260\n",
      "2      744\n",
      "3      282\n",
      "4        6\n",
      "Name: education_id, dtype: int64\n"
     ]
    }
   ],
   "source": [
    "print(data['education_id'].value_counts())"
   ]
  },
  {
   "cell_type": "markdown",
   "id": "98efc9f8",
   "metadata": {},
   "source": [
    "В стобцах встречаются дубликаты из-за регистров. Необходимо привести все значения к общему регистру."
   ]
  },
  {
   "cell_type": "markdown",
   "id": "9055a914",
   "metadata": {},
   "source": [
    "#### Столбцы family_status и family_status_id"
   ]
  },
  {
   "cell_type": "code",
   "execution_count": 10,
   "id": "55129446",
   "metadata": {},
   "outputs": [
    {
     "name": "stdout",
     "output_type": "stream",
     "text": [
      "женат / замужем          12380\n",
      "гражданский брак          4177\n",
      "Не женат / не замужем     2813\n",
      "в разводе                 1195\n",
      "вдовец / вдова             960\n",
      "Name: family_status, dtype: int64\n",
      "0    12380\n",
      "1     4177\n",
      "4     2813\n",
      "3     1195\n",
      "2      960\n",
      "Name: family_status_id, dtype: int64\n"
     ]
    }
   ],
   "source": [
    "print(data['family_status'].value_counts())\n",
    "print(data['family_status_id'].value_counts())"
   ]
  },
  {
   "cell_type": "markdown",
   "id": "076cbd91",
   "metadata": {},
   "source": [
    "Здесь все совпадает. Столбцы корректны."
   ]
  },
  {
   "cell_type": "markdown",
   "id": "6b982075",
   "metadata": {},
   "source": [
    "#### Столбец 'gender'"
   ]
  },
  {
   "cell_type": "code",
   "execution_count": 11,
   "id": "2695ecd8",
   "metadata": {},
   "outputs": [
    {
     "name": "stdout",
     "output_type": "stream",
     "text": [
      "F      14236\n",
      "M       7288\n",
      "XNA        1\n",
      "Name: gender, dtype: int64\n"
     ]
    }
   ],
   "source": [
    "print(data['gender'].value_counts())"
   ]
  },
  {
   "cell_type": "markdown",
   "id": "87af416a",
   "metadata": {},
   "source": [
    "Всего одно неопределенное значение. Добавим его к большему количеству полов."
   ]
  },
  {
   "cell_type": "markdown",
   "id": "25008424",
   "metadata": {},
   "source": [
    "#### Столбец 'income_type'"
   ]
  },
  {
   "cell_type": "code",
   "execution_count": 12,
   "id": "63bee861",
   "metadata": {},
   "outputs": [
    {
     "name": "stdout",
     "output_type": "stream",
     "text": [
      "сотрудник          11119\n",
      "компаньон           5085\n",
      "пенсионер           3856\n",
      "госслужащий         1459\n",
      "предприниматель        2\n",
      "безработный            2\n",
      "студент                1\n",
      "в декрете              1\n",
      "Name: income_type, dtype: int64\n"
     ]
    }
   ],
   "source": [
    "print(data['income_type'].value_counts())"
   ]
  },
  {
   "cell_type": "markdown",
   "id": "43522923",
   "metadata": {},
   "source": [
    "Со столбцом все впорядке. Оставим без изменений."
   ]
  },
  {
   "cell_type": "markdown",
   "id": "157b8b4a",
   "metadata": {},
   "source": [
    "#### Столбец 'debt'"
   ]
  },
  {
   "cell_type": "code",
   "execution_count": 13,
   "id": "e480cafa",
   "metadata": {},
   "outputs": [
    {
     "name": "stdout",
     "output_type": "stream",
     "text": [
      "0    19784\n",
      "1     1741\n",
      "Name: debt, dtype: int64\n"
     ]
    }
   ],
   "source": [
    "print(data['debt'].value_counts())"
   ]
  },
  {
   "cell_type": "markdown",
   "id": "94a8ea7e",
   "metadata": {},
   "source": [
    "Все корректно. Кредит либо есть, либо его нет."
   ]
  },
  {
   "cell_type": "markdown",
   "id": "ea83c815",
   "metadata": {},
   "source": [
    "#### Столбец 'total_income'"
   ]
  },
  {
   "cell_type": "code",
   "execution_count": 14,
   "id": "c3482017",
   "metadata": {},
   "outputs": [
    {
     "name": "stdout",
     "output_type": "stream",
     "text": [
      "count    1.935100e+04\n",
      "mean     1.674223e+05\n",
      "std      1.029716e+05\n",
      "min      2.066726e+04\n",
      "25%      1.030532e+05\n",
      "50%      1.450179e+05\n",
      "75%      2.034351e+05\n",
      "max      2.265604e+06\n",
      "Name: total_income, dtype: float64\n"
     ]
    }
   ],
   "source": [
    "print(data['total_income'].describe())"
   ]
  },
  {
   "cell_type": "code",
   "execution_count": 15,
   "id": "e63abde1",
   "metadata": {},
   "outputs": [
    {
     "data": {
      "text/html": [
       "<div>\n",
       "<style scoped>\n",
       "    .dataframe tbody tr th:only-of-type {\n",
       "        vertical-align: middle;\n",
       "    }\n",
       "\n",
       "    .dataframe tbody tr th {\n",
       "        vertical-align: top;\n",
       "    }\n",
       "\n",
       "    .dataframe thead th {\n",
       "        text-align: right;\n",
       "    }\n",
       "</style>\n",
       "<table border=\"1\" class=\"dataframe\">\n",
       "  <thead>\n",
       "    <tr style=\"text-align: right;\">\n",
       "      <th></th>\n",
       "      <th>children</th>\n",
       "      <th>days_employed</th>\n",
       "      <th>dob_years</th>\n",
       "      <th>education</th>\n",
       "      <th>education_id</th>\n",
       "      <th>family_status</th>\n",
       "      <th>family_status_id</th>\n",
       "      <th>gender</th>\n",
       "      <th>income_type</th>\n",
       "      <th>debt</th>\n",
       "      <th>total_income</th>\n",
       "      <th>purpose</th>\n",
       "    </tr>\n",
       "  </thead>\n",
       "  <tbody>\n",
       "    <tr>\n",
       "      <td>12</td>\n",
       "      <td>0</td>\n",
       "      <td>NaN</td>\n",
       "      <td>65</td>\n",
       "      <td>среднее</td>\n",
       "      <td>1</td>\n",
       "      <td>гражданский брак</td>\n",
       "      <td>1</td>\n",
       "      <td>M</td>\n",
       "      <td>пенсионер</td>\n",
       "      <td>0</td>\n",
       "      <td>NaN</td>\n",
       "      <td>сыграть свадьбу</td>\n",
       "    </tr>\n",
       "    <tr>\n",
       "      <td>26</td>\n",
       "      <td>0</td>\n",
       "      <td>NaN</td>\n",
       "      <td>41</td>\n",
       "      <td>среднее</td>\n",
       "      <td>1</td>\n",
       "      <td>женат / замужем</td>\n",
       "      <td>0</td>\n",
       "      <td>M</td>\n",
       "      <td>госслужащий</td>\n",
       "      <td>0</td>\n",
       "      <td>NaN</td>\n",
       "      <td>образование</td>\n",
       "    </tr>\n",
       "    <tr>\n",
       "      <td>29</td>\n",
       "      <td>0</td>\n",
       "      <td>NaN</td>\n",
       "      <td>63</td>\n",
       "      <td>среднее</td>\n",
       "      <td>1</td>\n",
       "      <td>Не женат / не замужем</td>\n",
       "      <td>4</td>\n",
       "      <td>F</td>\n",
       "      <td>пенсионер</td>\n",
       "      <td>0</td>\n",
       "      <td>NaN</td>\n",
       "      <td>строительство жилой недвижимости</td>\n",
       "    </tr>\n",
       "    <tr>\n",
       "      <td>41</td>\n",
       "      <td>0</td>\n",
       "      <td>NaN</td>\n",
       "      <td>50</td>\n",
       "      <td>среднее</td>\n",
       "      <td>1</td>\n",
       "      <td>женат / замужем</td>\n",
       "      <td>0</td>\n",
       "      <td>F</td>\n",
       "      <td>госслужащий</td>\n",
       "      <td>0</td>\n",
       "      <td>NaN</td>\n",
       "      <td>сделка с подержанным автомобилем</td>\n",
       "    </tr>\n",
       "    <tr>\n",
       "      <td>55</td>\n",
       "      <td>0</td>\n",
       "      <td>NaN</td>\n",
       "      <td>54</td>\n",
       "      <td>среднее</td>\n",
       "      <td>1</td>\n",
       "      <td>гражданский брак</td>\n",
       "      <td>1</td>\n",
       "      <td>F</td>\n",
       "      <td>пенсионер</td>\n",
       "      <td>1</td>\n",
       "      <td>NaN</td>\n",
       "      <td>сыграть свадьбу</td>\n",
       "    </tr>\n",
       "  </tbody>\n",
       "</table>\n",
       "</div>"
      ],
      "text/plain": [
       "    children  days_employed  dob_years education  education_id  \\\n",
       "12         0            NaN         65   среднее             1   \n",
       "26         0            NaN         41   среднее             1   \n",
       "29         0            NaN         63   среднее             1   \n",
       "41         0            NaN         50   среднее             1   \n",
       "55         0            NaN         54   среднее             1   \n",
       "\n",
       "            family_status  family_status_id gender  income_type  debt  \\\n",
       "12       гражданский брак                 1      M    пенсионер     0   \n",
       "26        женат / замужем                 0      M  госслужащий     0   \n",
       "29  Не женат / не замужем                 4      F    пенсионер     0   \n",
       "41        женат / замужем                 0      F  госслужащий     0   \n",
       "55       гражданский брак                 1      F    пенсионер     1   \n",
       "\n",
       "    total_income                           purpose  \n",
       "12           NaN                   сыграть свадьбу  \n",
       "26           NaN                       образование  \n",
       "29           NaN  строительство жилой недвижимости  \n",
       "41           NaN  сделка с подержанным автомобилем  \n",
       "55           NaN                   сыграть свадьбу  "
      ]
     },
     "metadata": {},
     "output_type": "display_data"
    }
   ],
   "source": [
    "display(data[data['total_income'].isnull()].head(5))"
   ]
  },
  {
   "cell_type": "markdown",
   "id": "4984636c",
   "metadata": {},
   "source": [
    "Имеются люди без поступления дохода. Данный столбец важен для решения задачи. Необходимо решить проблему."
   ]
  },
  {
   "cell_type": "markdown",
   "id": "0772dcfe",
   "metadata": {},
   "source": [
    "#### Столбец 'purpose'"
   ]
  },
  {
   "cell_type": "code",
   "execution_count": 16,
   "id": "011e7cf3",
   "metadata": {},
   "outputs": [
    {
     "name": "stdout",
     "output_type": "stream",
     "text": [
      "свадьба                                   797\n",
      "на проведение свадьбы                     777\n",
      "сыграть свадьбу                           774\n",
      "операции с недвижимостью                  676\n",
      "покупка коммерческой недвижимости         664\n",
      "покупка жилья для сдачи                   653\n",
      "операции с жильем                         653\n",
      "операции с коммерческой недвижимостью     651\n",
      "жилье                                     647\n",
      "покупка жилья                             647\n",
      "покупка жилья для семьи                   641\n",
      "строительство собственной недвижимости    635\n",
      "недвижимость                              634\n",
      "операции со своей недвижимостью           630\n",
      "строительство жилой недвижимости          626\n",
      "покупка недвижимости                      624\n",
      "покупка своего жилья                      620\n",
      "строительство недвижимости                620\n",
      "ремонт жилью                              612\n",
      "покупка жилой недвижимости                607\n",
      "на покупку своего автомобиля              505\n",
      "заняться высшим образованием              496\n",
      "автомобиль                                495\n",
      "сделка с подержанным автомобилем          489\n",
      "свой автомобиль                           480\n",
      "на покупку подержанного автомобиля        479\n",
      "автомобили                                478\n",
      "на покупку автомобиля                     472\n",
      "дополнительное образование                462\n",
      "приобретение автомобиля                   462\n",
      "сделка с автомобилем                      455\n",
      "высшее образование                        453\n",
      "образование                               447\n",
      "получение дополнительного образования     447\n",
      "получение образования                     443\n",
      "профильное образование                    436\n",
      "получение высшего образования             426\n",
      "заняться образованием                     412\n",
      "Name: purpose, dtype: int64\n"
     ]
    }
   ],
   "source": [
    "print(data['purpose'].value_counts())"
   ]
  },
  {
   "cell_type": "markdown",
   "id": "92650746",
   "metadata": {},
   "source": [
    "Много совпадений по целям кредита. Необходимо похожие значения привести к одному виду."
   ]
  },
  {
   "cell_type": "markdown",
   "id": "f6b3fcd4",
   "metadata": {},
   "source": [
    "### Обработка пропусков"
   ]
  },
  {
   "cell_type": "markdown",
   "id": "51ba5a74",
   "metadata": {},
   "source": [
    "#### Пропуски в столбцах 'days_employed' и 'total_income'."
   ]
  },
  {
   "cell_type": "code",
   "execution_count": 17,
   "id": "2ed81c0b",
   "metadata": {
    "scrolled": false
   },
   "outputs": [
    {
     "name": "stdout",
     "output_type": "stream",
     "text": [
      "Кол-во значений отсутствующих одновременно в обоих столбцах = 2174\n",
      "\n"
     ]
    },
    {
     "data": {
      "text/html": [
       "<div>\n",
       "<style scoped>\n",
       "    .dataframe tbody tr th:only-of-type {\n",
       "        vertical-align: middle;\n",
       "    }\n",
       "\n",
       "    .dataframe tbody tr th {\n",
       "        vertical-align: top;\n",
       "    }\n",
       "\n",
       "    .dataframe thead th {\n",
       "        text-align: right;\n",
       "    }\n",
       "</style>\n",
       "<table border=\"1\" class=\"dataframe\">\n",
       "  <thead>\n",
       "    <tr style=\"text-align: right;\">\n",
       "      <th></th>\n",
       "      <th>children</th>\n",
       "      <th>days_employed</th>\n",
       "      <th>dob_years</th>\n",
       "      <th>education</th>\n",
       "      <th>education_id</th>\n",
       "      <th>family_status</th>\n",
       "      <th>family_status_id</th>\n",
       "      <th>gender</th>\n",
       "      <th>income_type</th>\n",
       "      <th>debt</th>\n",
       "      <th>total_income</th>\n",
       "      <th>purpose</th>\n",
       "    </tr>\n",
       "  </thead>\n",
       "  <tbody>\n",
       "    <tr>\n",
       "      <td>12</td>\n",
       "      <td>0</td>\n",
       "      <td>NaN</td>\n",
       "      <td>65</td>\n",
       "      <td>среднее</td>\n",
       "      <td>1</td>\n",
       "      <td>гражданский брак</td>\n",
       "      <td>1</td>\n",
       "      <td>M</td>\n",
       "      <td>пенсионер</td>\n",
       "      <td>0</td>\n",
       "      <td>NaN</td>\n",
       "      <td>сыграть свадьбу</td>\n",
       "    </tr>\n",
       "    <tr>\n",
       "      <td>26</td>\n",
       "      <td>0</td>\n",
       "      <td>NaN</td>\n",
       "      <td>41</td>\n",
       "      <td>среднее</td>\n",
       "      <td>1</td>\n",
       "      <td>женат / замужем</td>\n",
       "      <td>0</td>\n",
       "      <td>M</td>\n",
       "      <td>госслужащий</td>\n",
       "      <td>0</td>\n",
       "      <td>NaN</td>\n",
       "      <td>образование</td>\n",
       "    </tr>\n",
       "    <tr>\n",
       "      <td>29</td>\n",
       "      <td>0</td>\n",
       "      <td>NaN</td>\n",
       "      <td>63</td>\n",
       "      <td>среднее</td>\n",
       "      <td>1</td>\n",
       "      <td>Не женат / не замужем</td>\n",
       "      <td>4</td>\n",
       "      <td>F</td>\n",
       "      <td>пенсионер</td>\n",
       "      <td>0</td>\n",
       "      <td>NaN</td>\n",
       "      <td>строительство жилой недвижимости</td>\n",
       "    </tr>\n",
       "    <tr>\n",
       "      <td>41</td>\n",
       "      <td>0</td>\n",
       "      <td>NaN</td>\n",
       "      <td>50</td>\n",
       "      <td>среднее</td>\n",
       "      <td>1</td>\n",
       "      <td>женат / замужем</td>\n",
       "      <td>0</td>\n",
       "      <td>F</td>\n",
       "      <td>госслужащий</td>\n",
       "      <td>0</td>\n",
       "      <td>NaN</td>\n",
       "      <td>сделка с подержанным автомобилем</td>\n",
       "    </tr>\n",
       "    <tr>\n",
       "      <td>55</td>\n",
       "      <td>0</td>\n",
       "      <td>NaN</td>\n",
       "      <td>54</td>\n",
       "      <td>среднее</td>\n",
       "      <td>1</td>\n",
       "      <td>гражданский брак</td>\n",
       "      <td>1</td>\n",
       "      <td>F</td>\n",
       "      <td>пенсионер</td>\n",
       "      <td>1</td>\n",
       "      <td>NaN</td>\n",
       "      <td>сыграть свадьбу</td>\n",
       "    </tr>\n",
       "    <tr>\n",
       "      <td>65</td>\n",
       "      <td>0</td>\n",
       "      <td>NaN</td>\n",
       "      <td>21</td>\n",
       "      <td>среднее</td>\n",
       "      <td>1</td>\n",
       "      <td>Не женат / не замужем</td>\n",
       "      <td>4</td>\n",
       "      <td>M</td>\n",
       "      <td>компаньон</td>\n",
       "      <td>0</td>\n",
       "      <td>NaN</td>\n",
       "      <td>операции с коммерческой недвижимостью</td>\n",
       "    </tr>\n",
       "    <tr>\n",
       "      <td>67</td>\n",
       "      <td>0</td>\n",
       "      <td>NaN</td>\n",
       "      <td>52</td>\n",
       "      <td>высшее</td>\n",
       "      <td>0</td>\n",
       "      <td>женат / замужем</td>\n",
       "      <td>0</td>\n",
       "      <td>F</td>\n",
       "      <td>пенсионер</td>\n",
       "      <td>0</td>\n",
       "      <td>NaN</td>\n",
       "      <td>покупка жилья для семьи</td>\n",
       "    </tr>\n",
       "    <tr>\n",
       "      <td>72</td>\n",
       "      <td>1</td>\n",
       "      <td>NaN</td>\n",
       "      <td>32</td>\n",
       "      <td>высшее</td>\n",
       "      <td>0</td>\n",
       "      <td>женат / замужем</td>\n",
       "      <td>0</td>\n",
       "      <td>M</td>\n",
       "      <td>госслужащий</td>\n",
       "      <td>0</td>\n",
       "      <td>NaN</td>\n",
       "      <td>операции с коммерческой недвижимостью</td>\n",
       "    </tr>\n",
       "    <tr>\n",
       "      <td>82</td>\n",
       "      <td>2</td>\n",
       "      <td>NaN</td>\n",
       "      <td>50</td>\n",
       "      <td>высшее</td>\n",
       "      <td>0</td>\n",
       "      <td>женат / замужем</td>\n",
       "      <td>0</td>\n",
       "      <td>F</td>\n",
       "      <td>сотрудник</td>\n",
       "      <td>0</td>\n",
       "      <td>NaN</td>\n",
       "      <td>жилье</td>\n",
       "    </tr>\n",
       "    <tr>\n",
       "      <td>83</td>\n",
       "      <td>0</td>\n",
       "      <td>NaN</td>\n",
       "      <td>52</td>\n",
       "      <td>среднее</td>\n",
       "      <td>1</td>\n",
       "      <td>женат / замужем</td>\n",
       "      <td>0</td>\n",
       "      <td>M</td>\n",
       "      <td>сотрудник</td>\n",
       "      <td>0</td>\n",
       "      <td>NaN</td>\n",
       "      <td>жилье</td>\n",
       "    </tr>\n",
       "  </tbody>\n",
       "</table>\n",
       "</div>"
      ],
      "text/plain": [
       "    children  days_employed  dob_years education  education_id  \\\n",
       "12         0            NaN         65   среднее             1   \n",
       "26         0            NaN         41   среднее             1   \n",
       "29         0            NaN         63   среднее             1   \n",
       "41         0            NaN         50   среднее             1   \n",
       "55         0            NaN         54   среднее             1   \n",
       "65         0            NaN         21   среднее             1   \n",
       "67         0            NaN         52    высшее             0   \n",
       "72         1            NaN         32    высшее             0   \n",
       "82         2            NaN         50    высшее             0   \n",
       "83         0            NaN         52   среднее             1   \n",
       "\n",
       "            family_status  family_status_id gender  income_type  debt  \\\n",
       "12       гражданский брак                 1      M    пенсионер     0   \n",
       "26        женат / замужем                 0      M  госслужащий     0   \n",
       "29  Не женат / не замужем                 4      F    пенсионер     0   \n",
       "41        женат / замужем                 0      F  госслужащий     0   \n",
       "55       гражданский брак                 1      F    пенсионер     1   \n",
       "65  Не женат / не замужем                 4      M    компаньон     0   \n",
       "67        женат / замужем                 0      F    пенсионер     0   \n",
       "72        женат / замужем                 0      M  госслужащий     0   \n",
       "82        женат / замужем                 0      F    сотрудник     0   \n",
       "83        женат / замужем                 0      M    сотрудник     0   \n",
       "\n",
       "    total_income                                purpose  \n",
       "12           NaN                        сыграть свадьбу  \n",
       "26           NaN                            образование  \n",
       "29           NaN       строительство жилой недвижимости  \n",
       "41           NaN       сделка с подержанным автомобилем  \n",
       "55           NaN                        сыграть свадьбу  \n",
       "65           NaN  операции с коммерческой недвижимостью  \n",
       "67           NaN                покупка жилья для семьи  \n",
       "72           NaN  операции с коммерческой недвижимостью  \n",
       "82           NaN                                  жилье  \n",
       "83           NaN                                  жилье  "
      ]
     },
     "metadata": {},
     "output_type": "display_data"
    }
   ],
   "source": [
    "missed_values = data.loc[(data['days_employed'].isnull()) & (data['total_income'].isnull()),'dob_years'].count()\n",
    "print(f'Кол-во значений отсутствующих одновременно в обоих столбцах = {missed_values}')\n",
    "print()\n",
    "display(data.loc[(data['days_employed'].isnull()) & (data['total_income'].isnull())].head(10))"
   ]
  },
  {
   "cell_type": "markdown",
   "id": "4fd48a7e",
   "metadata": {},
   "source": [
    "Поскольку количество пропусков в них равно, посмотрим верно ли предположение, что это - молодеж, которая еще не работала."
   ]
  },
  {
   "cell_type": "code",
   "execution_count": 18,
   "id": "186346de",
   "metadata": {
    "scrolled": true
   },
   "outputs": [
    {
     "data": {
      "text/html": [
       "<div>\n",
       "<style scoped>\n",
       "    .dataframe tbody tr th:only-of-type {\n",
       "        vertical-align: middle;\n",
       "    }\n",
       "\n",
       "    .dataframe tbody tr th {\n",
       "        vertical-align: top;\n",
       "    }\n",
       "\n",
       "    .dataframe thead th {\n",
       "        text-align: right;\n",
       "    }\n",
       "</style>\n",
       "<table border=\"1\" class=\"dataframe\">\n",
       "  <thead>\n",
       "    <tr style=\"text-align: right;\">\n",
       "      <th></th>\n",
       "      <th>children</th>\n",
       "      <th>days_employed</th>\n",
       "      <th>dob_years</th>\n",
       "      <th>education</th>\n",
       "      <th>education_id</th>\n",
       "      <th>family_status</th>\n",
       "      <th>family_status_id</th>\n",
       "      <th>gender</th>\n",
       "      <th>income_type</th>\n",
       "      <th>debt</th>\n",
       "      <th>total_income</th>\n",
       "      <th>purpose</th>\n",
       "    </tr>\n",
       "  </thead>\n",
       "  <tbody>\n",
       "    <tr>\n",
       "      <td>12</td>\n",
       "      <td>0</td>\n",
       "      <td>NaN</td>\n",
       "      <td>65</td>\n",
       "      <td>среднее</td>\n",
       "      <td>1</td>\n",
       "      <td>гражданский брак</td>\n",
       "      <td>1</td>\n",
       "      <td>M</td>\n",
       "      <td>пенсионер</td>\n",
       "      <td>0</td>\n",
       "      <td>NaN</td>\n",
       "      <td>сыграть свадьбу</td>\n",
       "    </tr>\n",
       "    <tr>\n",
       "      <td>26</td>\n",
       "      <td>0</td>\n",
       "      <td>NaN</td>\n",
       "      <td>41</td>\n",
       "      <td>среднее</td>\n",
       "      <td>1</td>\n",
       "      <td>женат / замужем</td>\n",
       "      <td>0</td>\n",
       "      <td>M</td>\n",
       "      <td>госслужащий</td>\n",
       "      <td>0</td>\n",
       "      <td>NaN</td>\n",
       "      <td>образование</td>\n",
       "    </tr>\n",
       "    <tr>\n",
       "      <td>29</td>\n",
       "      <td>0</td>\n",
       "      <td>NaN</td>\n",
       "      <td>63</td>\n",
       "      <td>среднее</td>\n",
       "      <td>1</td>\n",
       "      <td>Не женат / не замужем</td>\n",
       "      <td>4</td>\n",
       "      <td>F</td>\n",
       "      <td>пенсионер</td>\n",
       "      <td>0</td>\n",
       "      <td>NaN</td>\n",
       "      <td>строительство жилой недвижимости</td>\n",
       "    </tr>\n",
       "    <tr>\n",
       "      <td>41</td>\n",
       "      <td>0</td>\n",
       "      <td>NaN</td>\n",
       "      <td>50</td>\n",
       "      <td>среднее</td>\n",
       "      <td>1</td>\n",
       "      <td>женат / замужем</td>\n",
       "      <td>0</td>\n",
       "      <td>F</td>\n",
       "      <td>госслужащий</td>\n",
       "      <td>0</td>\n",
       "      <td>NaN</td>\n",
       "      <td>сделка с подержанным автомобилем</td>\n",
       "    </tr>\n",
       "    <tr>\n",
       "      <td>55</td>\n",
       "      <td>0</td>\n",
       "      <td>NaN</td>\n",
       "      <td>54</td>\n",
       "      <td>среднее</td>\n",
       "      <td>1</td>\n",
       "      <td>гражданский брак</td>\n",
       "      <td>1</td>\n",
       "      <td>F</td>\n",
       "      <td>пенсионер</td>\n",
       "      <td>1</td>\n",
       "      <td>NaN</td>\n",
       "      <td>сыграть свадьбу</td>\n",
       "    </tr>\n",
       "    <tr>\n",
       "      <td>65</td>\n",
       "      <td>0</td>\n",
       "      <td>NaN</td>\n",
       "      <td>21</td>\n",
       "      <td>среднее</td>\n",
       "      <td>1</td>\n",
       "      <td>Не женат / не замужем</td>\n",
       "      <td>4</td>\n",
       "      <td>M</td>\n",
       "      <td>компаньон</td>\n",
       "      <td>0</td>\n",
       "      <td>NaN</td>\n",
       "      <td>операции с коммерческой недвижимостью</td>\n",
       "    </tr>\n",
       "    <tr>\n",
       "      <td>67</td>\n",
       "      <td>0</td>\n",
       "      <td>NaN</td>\n",
       "      <td>52</td>\n",
       "      <td>высшее</td>\n",
       "      <td>0</td>\n",
       "      <td>женат / замужем</td>\n",
       "      <td>0</td>\n",
       "      <td>F</td>\n",
       "      <td>пенсионер</td>\n",
       "      <td>0</td>\n",
       "      <td>NaN</td>\n",
       "      <td>покупка жилья для семьи</td>\n",
       "    </tr>\n",
       "    <tr>\n",
       "      <td>72</td>\n",
       "      <td>1</td>\n",
       "      <td>NaN</td>\n",
       "      <td>32</td>\n",
       "      <td>высшее</td>\n",
       "      <td>0</td>\n",
       "      <td>женат / замужем</td>\n",
       "      <td>0</td>\n",
       "      <td>M</td>\n",
       "      <td>госслужащий</td>\n",
       "      <td>0</td>\n",
       "      <td>NaN</td>\n",
       "      <td>операции с коммерческой недвижимостью</td>\n",
       "    </tr>\n",
       "    <tr>\n",
       "      <td>82</td>\n",
       "      <td>2</td>\n",
       "      <td>NaN</td>\n",
       "      <td>50</td>\n",
       "      <td>высшее</td>\n",
       "      <td>0</td>\n",
       "      <td>женат / замужем</td>\n",
       "      <td>0</td>\n",
       "      <td>F</td>\n",
       "      <td>сотрудник</td>\n",
       "      <td>0</td>\n",
       "      <td>NaN</td>\n",
       "      <td>жилье</td>\n",
       "    </tr>\n",
       "    <tr>\n",
       "      <td>83</td>\n",
       "      <td>0</td>\n",
       "      <td>NaN</td>\n",
       "      <td>52</td>\n",
       "      <td>среднее</td>\n",
       "      <td>1</td>\n",
       "      <td>женат / замужем</td>\n",
       "      <td>0</td>\n",
       "      <td>M</td>\n",
       "      <td>сотрудник</td>\n",
       "      <td>0</td>\n",
       "      <td>NaN</td>\n",
       "      <td>жилье</td>\n",
       "    </tr>\n",
       "  </tbody>\n",
       "</table>\n",
       "</div>"
      ],
      "text/plain": [
       "    children  days_employed  dob_years education  education_id  \\\n",
       "12         0            NaN         65   среднее             1   \n",
       "26         0            NaN         41   среднее             1   \n",
       "29         0            NaN         63   среднее             1   \n",
       "41         0            NaN         50   среднее             1   \n",
       "55         0            NaN         54   среднее             1   \n",
       "65         0            NaN         21   среднее             1   \n",
       "67         0            NaN         52    высшее             0   \n",
       "72         1            NaN         32    высшее             0   \n",
       "82         2            NaN         50    высшее             0   \n",
       "83         0            NaN         52   среднее             1   \n",
       "\n",
       "            family_status  family_status_id gender  income_type  debt  \\\n",
       "12       гражданский брак                 1      M    пенсионер     0   \n",
       "26        женат / замужем                 0      M  госслужащий     0   \n",
       "29  Не женат / не замужем                 4      F    пенсионер     0   \n",
       "41        женат / замужем                 0      F  госслужащий     0   \n",
       "55       гражданский брак                 1      F    пенсионер     1   \n",
       "65  Не женат / не замужем                 4      M    компаньон     0   \n",
       "67        женат / замужем                 0      F    пенсионер     0   \n",
       "72        женат / замужем                 0      M  госслужащий     0   \n",
       "82        женат / замужем                 0      F    сотрудник     0   \n",
       "83        женат / замужем                 0      M    сотрудник     0   \n",
       "\n",
       "    total_income                                purpose  \n",
       "12           NaN                        сыграть свадьбу  \n",
       "26           NaN                            образование  \n",
       "29           NaN       строительство жилой недвижимости  \n",
       "41           NaN       сделка с подержанным автомобилем  \n",
       "55           NaN                        сыграть свадьбу  \n",
       "65           NaN  операции с коммерческой недвижимостью  \n",
       "67           NaN                покупка жилья для семьи  \n",
       "72           NaN  операции с коммерческой недвижимостью  \n",
       "82           NaN                                  жилье  \n",
       "83           NaN                                  жилье  "
      ]
     },
     "metadata": {},
     "output_type": "display_data"
    }
   ],
   "source": [
    "display(data.loc[(data['days_employed'].isnull()) & (data['total_income'].isnull())].head(10))"
   ]
  },
  {
   "cell_type": "markdown",
   "id": "fc9613cb",
   "metadata": {},
   "source": [
    "Мы вывели 10 строчек с условием, что столбцы 'total_income' и 'days_employed' одновременно = \"NaN\".\n",
    "Видно что возраст варьируется от 21 до 65. Значит предположение ,что это никогда неработавшие - неверно.\n",
    "Столбец 'total_income' заполним средним значением. А столбец 'days_employed' удалим. Во всех остальных столбцах тоже стоят разные значения. Значит будем заполнять 'total_income' средним значением (median) категории значение в каждой категории. А столбец 'days_employed' удалим."
   ]
  },
  {
   "cell_type": "markdown",
   "id": "7acc2e17",
   "metadata": {},
   "source": [
    "#### Удаляем столбец 'days_employed'"
   ]
  },
  {
   "cell_type": "code",
   "execution_count": 19,
   "id": "2b2efbcf",
   "metadata": {},
   "outputs": [
    {
     "name": "stdout",
     "output_type": "stream",
     "text": [
      "Index(['children', 'dob_years', 'education', 'education_id', 'family_status',\n",
      "       'family_status_id', 'gender', 'income_type', 'debt', 'total_income',\n",
      "       'purpose'],\n",
      "      dtype='object')\n"
     ]
    }
   ],
   "source": [
    "data.drop('days_employed', axis='columns', inplace=True)\n",
    "print(data.columns)"
   ]
  },
  {
   "cell_type": "markdown",
   "id": "6134f0d8",
   "metadata": {},
   "source": [
    "#### Заполняем столбец 'total_income'"
   ]
  },
  {
   "cell_type": "code",
   "execution_count": 20,
   "id": "c2bb8e5a",
   "metadata": {},
   "outputs": [
    {
     "name": "stdout",
     "output_type": "stream",
     "text": [
      "<class 'pandas.core.frame.DataFrame'>\n",
      "RangeIndex: 21525 entries, 0 to 21524\n",
      "Data columns (total 11 columns):\n",
      "children            21525 non-null int64\n",
      "dob_years           21525 non-null int64\n",
      "education           21525 non-null object\n",
      "education_id        21525 non-null int64\n",
      "family_status       21525 non-null object\n",
      "family_status_id    21525 non-null int64\n",
      "gender              21525 non-null object\n",
      "income_type         21525 non-null object\n",
      "debt                21525 non-null int64\n",
      "total_income        19351 non-null float64\n",
      "purpose             21525 non-null object\n",
      "dtypes: float64(1), int64(5), object(5)\n",
      "memory usage: 1.8+ MB\n"
     ]
    },
    {
     "data": {
      "text/plain": [
       "None"
      ]
     },
     "metadata": {},
     "output_type": "display_data"
    },
    {
     "name": "stdout",
     "output_type": "stream",
     "text": [
      "\n"
     ]
    },
    {
     "data": {
      "text/plain": [
       "'Медиана столбца = 145017.93753253992'"
      ]
     },
     "metadata": {},
     "output_type": "display_data"
    }
   ],
   "source": [
    "display(data.info())\n",
    "print()\n",
    "total_income_median = data['total_income'].median()\n",
    "display(f'Медиана столбца = {total_income_median}')"
   ]
  },
  {
   "cell_type": "code",
   "execution_count": 21,
   "id": "5d4ff2a0",
   "metadata": {},
   "outputs": [
    {
     "name": "stdout",
     "output_type": "stream",
     "text": [
      "Таблица медиан по категориям : \n"
     ]
    },
    {
     "data": {
      "text/plain": [
       "income_type\n",
       "в декрете           53829.130729\n",
       "студент             98201.625314\n",
       "пенсионер          118514.486412\n",
       "безработный        131339.751676\n",
       "сотрудник          142594.396847\n",
       "госслужащий        150447.935283\n",
       "компаньон          172357.950966\n",
       "предприниматель    499163.144947\n",
       "Name: total_income, dtype: float64"
      ]
     },
     "metadata": {},
     "output_type": "display_data"
    },
    {
     "name": "stdout",
     "output_type": "stream",
     "text": [
      "\n",
      "Пропущеных значений всего в total_income -  2174\n",
      "Выведем несколько строк с пропусками:\n"
     ]
    },
    {
     "data": {
      "text/html": [
       "<div>\n",
       "<style scoped>\n",
       "    .dataframe tbody tr th:only-of-type {\n",
       "        vertical-align: middle;\n",
       "    }\n",
       "\n",
       "    .dataframe tbody tr th {\n",
       "        vertical-align: top;\n",
       "    }\n",
       "\n",
       "    .dataframe thead th {\n",
       "        text-align: right;\n",
       "    }\n",
       "</style>\n",
       "<table border=\"1\" class=\"dataframe\">\n",
       "  <thead>\n",
       "    <tr style=\"text-align: right;\">\n",
       "      <th></th>\n",
       "      <th>children</th>\n",
       "      <th>dob_years</th>\n",
       "      <th>education</th>\n",
       "      <th>education_id</th>\n",
       "      <th>family_status</th>\n",
       "      <th>family_status_id</th>\n",
       "      <th>gender</th>\n",
       "      <th>income_type</th>\n",
       "      <th>debt</th>\n",
       "      <th>total_income</th>\n",
       "      <th>purpose</th>\n",
       "    </tr>\n",
       "  </thead>\n",
       "  <tbody>\n",
       "    <tr>\n",
       "      <td>12</td>\n",
       "      <td>0</td>\n",
       "      <td>65</td>\n",
       "      <td>среднее</td>\n",
       "      <td>1</td>\n",
       "      <td>гражданский брак</td>\n",
       "      <td>1</td>\n",
       "      <td>M</td>\n",
       "      <td>пенсионер</td>\n",
       "      <td>0</td>\n",
       "      <td>NaN</td>\n",
       "      <td>сыграть свадьбу</td>\n",
       "    </tr>\n",
       "    <tr>\n",
       "      <td>26</td>\n",
       "      <td>0</td>\n",
       "      <td>41</td>\n",
       "      <td>среднее</td>\n",
       "      <td>1</td>\n",
       "      <td>женат / замужем</td>\n",
       "      <td>0</td>\n",
       "      <td>M</td>\n",
       "      <td>госслужащий</td>\n",
       "      <td>0</td>\n",
       "      <td>NaN</td>\n",
       "      <td>образование</td>\n",
       "    </tr>\n",
       "    <tr>\n",
       "      <td>29</td>\n",
       "      <td>0</td>\n",
       "      <td>63</td>\n",
       "      <td>среднее</td>\n",
       "      <td>1</td>\n",
       "      <td>Не женат / не замужем</td>\n",
       "      <td>4</td>\n",
       "      <td>F</td>\n",
       "      <td>пенсионер</td>\n",
       "      <td>0</td>\n",
       "      <td>NaN</td>\n",
       "      <td>строительство жилой недвижимости</td>\n",
       "    </tr>\n",
       "    <tr>\n",
       "      <td>41</td>\n",
       "      <td>0</td>\n",
       "      <td>50</td>\n",
       "      <td>среднее</td>\n",
       "      <td>1</td>\n",
       "      <td>женат / замужем</td>\n",
       "      <td>0</td>\n",
       "      <td>F</td>\n",
       "      <td>госслужащий</td>\n",
       "      <td>0</td>\n",
       "      <td>NaN</td>\n",
       "      <td>сделка с подержанным автомобилем</td>\n",
       "    </tr>\n",
       "    <tr>\n",
       "      <td>55</td>\n",
       "      <td>0</td>\n",
       "      <td>54</td>\n",
       "      <td>среднее</td>\n",
       "      <td>1</td>\n",
       "      <td>гражданский брак</td>\n",
       "      <td>1</td>\n",
       "      <td>F</td>\n",
       "      <td>пенсионер</td>\n",
       "      <td>1</td>\n",
       "      <td>NaN</td>\n",
       "      <td>сыграть свадьбу</td>\n",
       "    </tr>\n",
       "    <tr>\n",
       "      <td>65</td>\n",
       "      <td>0</td>\n",
       "      <td>21</td>\n",
       "      <td>среднее</td>\n",
       "      <td>1</td>\n",
       "      <td>Не женат / не замужем</td>\n",
       "      <td>4</td>\n",
       "      <td>M</td>\n",
       "      <td>компаньон</td>\n",
       "      <td>0</td>\n",
       "      <td>NaN</td>\n",
       "      <td>операции с коммерческой недвижимостью</td>\n",
       "    </tr>\n",
       "    <tr>\n",
       "      <td>67</td>\n",
       "      <td>0</td>\n",
       "      <td>52</td>\n",
       "      <td>высшее</td>\n",
       "      <td>0</td>\n",
       "      <td>женат / замужем</td>\n",
       "      <td>0</td>\n",
       "      <td>F</td>\n",
       "      <td>пенсионер</td>\n",
       "      <td>0</td>\n",
       "      <td>NaN</td>\n",
       "      <td>покупка жилья для семьи</td>\n",
       "    </tr>\n",
       "    <tr>\n",
       "      <td>72</td>\n",
       "      <td>1</td>\n",
       "      <td>32</td>\n",
       "      <td>высшее</td>\n",
       "      <td>0</td>\n",
       "      <td>женат / замужем</td>\n",
       "      <td>0</td>\n",
       "      <td>M</td>\n",
       "      <td>госслужащий</td>\n",
       "      <td>0</td>\n",
       "      <td>NaN</td>\n",
       "      <td>операции с коммерческой недвижимостью</td>\n",
       "    </tr>\n",
       "    <tr>\n",
       "      <td>82</td>\n",
       "      <td>2</td>\n",
       "      <td>50</td>\n",
       "      <td>высшее</td>\n",
       "      <td>0</td>\n",
       "      <td>женат / замужем</td>\n",
       "      <td>0</td>\n",
       "      <td>F</td>\n",
       "      <td>сотрудник</td>\n",
       "      <td>0</td>\n",
       "      <td>NaN</td>\n",
       "      <td>жилье</td>\n",
       "    </tr>\n",
       "    <tr>\n",
       "      <td>83</td>\n",
       "      <td>0</td>\n",
       "      <td>52</td>\n",
       "      <td>среднее</td>\n",
       "      <td>1</td>\n",
       "      <td>женат / замужем</td>\n",
       "      <td>0</td>\n",
       "      <td>M</td>\n",
       "      <td>сотрудник</td>\n",
       "      <td>0</td>\n",
       "      <td>NaN</td>\n",
       "      <td>жилье</td>\n",
       "    </tr>\n",
       "  </tbody>\n",
       "</table>\n",
       "</div>"
      ],
      "text/plain": [
       "    children  dob_years education  education_id          family_status  \\\n",
       "12         0         65   среднее             1       гражданский брак   \n",
       "26         0         41   среднее             1        женат / замужем   \n",
       "29         0         63   среднее             1  Не женат / не замужем   \n",
       "41         0         50   среднее             1        женат / замужем   \n",
       "55         0         54   среднее             1       гражданский брак   \n",
       "65         0         21   среднее             1  Не женат / не замужем   \n",
       "67         0         52    высшее             0        женат / замужем   \n",
       "72         1         32    высшее             0        женат / замужем   \n",
       "82         2         50    высшее             0        женат / замужем   \n",
       "83         0         52   среднее             1        женат / замужем   \n",
       "\n",
       "    family_status_id gender  income_type  debt  total_income  \\\n",
       "12                 1      M    пенсионер     0           NaN   \n",
       "26                 0      M  госслужащий     0           NaN   \n",
       "29                 4      F    пенсионер     0           NaN   \n",
       "41                 0      F  госслужащий     0           NaN   \n",
       "55                 1      F    пенсионер     1           NaN   \n",
       "65                 4      M    компаньон     0           NaN   \n",
       "67                 0      F    пенсионер     0           NaN   \n",
       "72                 0      M  госслужащий     0           NaN   \n",
       "82                 0      F    сотрудник     0           NaN   \n",
       "83                 0      M    сотрудник     0           NaN   \n",
       "\n",
       "                                  purpose  \n",
       "12                        сыграть свадьбу  \n",
       "26                            образование  \n",
       "29       строительство жилой недвижимости  \n",
       "41       сделка с подержанным автомобилем  \n",
       "55                        сыграть свадьбу  \n",
       "65  операции с коммерческой недвижимостью  \n",
       "67                покупка жилья для семьи  \n",
       "72  операции с коммерческой недвижимостью  \n",
       "82                                  жилье  \n",
       "83                                  жилье  "
      ]
     },
     "metadata": {},
     "output_type": "display_data"
    }
   ],
   "source": [
    "income_category_list = data.groupby('income_type')['total_income'].median().sort_values()\n",
    "print('Таблица медиан по категориям : ')\n",
    "display(income_category_list)\n",
    "print()\n",
    "print('Пропущеных значений всего в total_income - ', data['total_income'].isna().sum())\n",
    "print(\"Выведем несколько строк с пропусками:\")\n",
    "display(data.loc[data.loc[:,'total_income'].isna()==True].head(10))"
   ]
  },
  {
   "cell_type": "code",
   "execution_count": 22,
   "id": "da0c9a67",
   "metadata": {},
   "outputs": [
    {
     "name": "stdout",
     "output_type": "stream",
     "text": [
      "в декрете : Медиана =  53829.13072905995\n",
      "53829.13072905995\n",
      "Пропусков было: 0\n",
      "Пропусков стало: 0\n",
      "\n",
      "студент : Медиана =  98201.62531401133\n",
      "98201.62531401133\n",
      "Пропусков было: 0\n",
      "Пропусков стало: 0\n",
      "\n",
      "пенсионер : Медиана =  118514.48641164352\n",
      "118514.48641164352\n",
      "Пропусков было: 413\n",
      "Пропусков стало: 0\n",
      "\n",
      "безработный : Медиана =  131339.7516762103\n",
      "131339.7516762103\n",
      "Пропусков было: 0\n",
      "Пропусков стало: 0\n",
      "\n",
      "сотрудник : Медиана =  142594.39684740017\n",
      "142594.39684740017\n",
      "Пропусков было: 1105\n",
      "Пропусков стало: 0\n",
      "\n",
      "госслужащий : Медиана =  150447.9352830068\n",
      "150447.9352830068\n",
      "Пропусков было: 147\n",
      "Пропусков стало: 0\n",
      "\n",
      "компаньон : Медиана =  172357.95096577113\n",
      "172357.95096577113\n",
      "Пропусков было: 508\n",
      "Пропусков стало: 0\n",
      "\n",
      "предприниматель : Медиана =  499163.1449470857\n",
      "499163.1449470857\n",
      "Пропусков было: 1\n",
      "Пропусков стало: 0\n",
      "\n",
      "Осталось пропущеных значений -  0\n",
      "\n"
     ]
    }
   ],
   "source": [
    "for category in income_category_list.index:\n",
    "    median = income_category_list[category]\n",
    "    print(category,': Медиана = ', median)\n",
    "    print(median)\n",
    "    print('Пропусков было:', data[data['income_type']==category]['total_income'].isnull().sum())\n",
    "    \n",
    "    #data['total_income'] = data[data['income_type']==category]['total_income'].fillna(median)\n",
    "    #data[data['income_type']==category]['total_income'] = data[data['income_type']==category]['total_income'].fillna(median)\n",
    "    \n",
    "    #data['total_income'] = data.loc[data.loc[:, 'income_type']==category, 'total_income'].fillna(median)\n",
    "    data.loc[data.loc[:, 'income_type']==category, 'total_income'] = data.loc[data.loc[:, 'income_type']==category, 'total_income'].fillna(median)\n",
    "    \n",
    "    print('Пропусков стало:', data[data['income_type']==category]['total_income'].isnull().sum())\n",
    "    print()\n",
    "    \n",
    "print('Осталось пропущеных значений - ', data['total_income'].isna().sum())\n",
    "print()"
   ]
  },
  {
   "cell_type": "code",
   "execution_count": 23,
   "id": "918f48ff",
   "metadata": {},
   "outputs": [
    {
     "name": "stdout",
     "output_type": "stream",
     "text": [
      "Для проверки выведем строки где были заменены пропуски из разных категорий № 12,26,65,82\n",
      "     total_income  income_type\n",
      "12  118514.486412    пенсионер\n",
      "26  150447.935283  госслужащий\n",
      "65  172357.950966    компаньон\n",
      "82  142594.396847    сотрудник\n",
      "\n",
      "Таблица медиан по категориям : \n",
      "income_type\n",
      "в декрете           53829.130729\n",
      "студент             98201.625314\n",
      "пенсионер          118514.486412\n",
      "безработный        131339.751676\n",
      "сотрудник          142594.396847\n",
      "госслужащий        150447.935283\n",
      "компаньон          172357.950966\n",
      "предприниматель    499163.144947\n",
      "Name: total_income, dtype: float64\n",
      "\n",
      "Все медианы по категориям совпадают.\n"
     ]
    }
   ],
   "source": [
    "print(\"Для проверки выведем строки где были заменены пропуски из разных категорий № 12,26,65,82\")\n",
    "print(data.loc[[12,26,65,82], ['total_income', 'income_type']])\n",
    "print()\n",
    "print('Таблица медиан по категориям : ')\n",
    "print(income_category_list)\n",
    "print()\n",
    "print(\"Все медианы по категориям совпадают.\")\n",
    "#print(data.loc[data.loc[:,'total_income'].isna()==True].head(10))"
   ]
  },
  {
   "cell_type": "markdown",
   "id": "9b970448",
   "metadata": {},
   "source": [
    "#### Столбец 'gender'"
   ]
  },
  {
   "cell_type": "markdown",
   "id": "f8c6d20f",
   "metadata": {},
   "source": [
    "Исправим единственное значение \"XNA\" на \"F\"-женщина"
   ]
  },
  {
   "cell_type": "code",
   "execution_count": 24,
   "id": "74b5b3c7",
   "metadata": {},
   "outputs": [
    {
     "name": "stdout",
     "output_type": "stream",
     "text": [
      "children                               0\n",
      "dob_years                             24\n",
      "education            неоконченное высшее\n",
      "education_id                           2\n",
      "family_status           гражданский брак\n",
      "family_status_id                       1\n",
      "gender                                 F\n",
      "income_type                    компаньон\n",
      "debt                                   0\n",
      "total_income                      203905\n",
      "purpose             покупка недвижимости\n",
      "Name: 10701, dtype: object\n"
     ]
    }
   ],
   "source": [
    "data.loc[data['gender']=='XNA']\n",
    "data.loc[data['gender']=='XNA','gender'] = 'F'\n",
    "print(data.loc[10701])"
   ]
  },
  {
   "cell_type": "markdown",
   "id": "00a122ec",
   "metadata": {},
   "source": [
    "#### Столбец 'children'"
   ]
  },
  {
   "cell_type": "code",
   "execution_count": 25,
   "id": "bf5dc27d",
   "metadata": {},
   "outputs": [
    {
     "name": "stdout",
     "output_type": "stream",
     "text": [
      " 0     14149\n",
      " 1      4818\n",
      " 2      2055\n",
      " 3       330\n",
      " 20       76\n",
      "-1        47\n",
      " 4        41\n",
      " 5         9\n",
      "Name: children, dtype: int64\n"
     ]
    }
   ],
   "source": [
    "print(data['children'].value_counts())"
   ]
  },
  {
   "cell_type": "markdown",
   "id": "dcd2e280",
   "metadata": {},
   "source": [
    "Посмотрим как выглядят строки с значениями 20 и -1."
   ]
  },
  {
   "cell_type": "code",
   "execution_count": 26,
   "id": "b047d5ef",
   "metadata": {
    "scrolled": true
   },
   "outputs": [
    {
     "data": {
      "text/html": [
       "<div>\n",
       "<style scoped>\n",
       "    .dataframe tbody tr th:only-of-type {\n",
       "        vertical-align: middle;\n",
       "    }\n",
       "\n",
       "    .dataframe tbody tr th {\n",
       "        vertical-align: top;\n",
       "    }\n",
       "\n",
       "    .dataframe thead th {\n",
       "        text-align: right;\n",
       "    }\n",
       "</style>\n",
       "<table border=\"1\" class=\"dataframe\">\n",
       "  <thead>\n",
       "    <tr style=\"text-align: right;\">\n",
       "      <th></th>\n",
       "      <th>children</th>\n",
       "      <th>dob_years</th>\n",
       "      <th>education</th>\n",
       "      <th>education_id</th>\n",
       "      <th>family_status</th>\n",
       "      <th>family_status_id</th>\n",
       "      <th>gender</th>\n",
       "      <th>income_type</th>\n",
       "      <th>debt</th>\n",
       "      <th>total_income</th>\n",
       "      <th>purpose</th>\n",
       "    </tr>\n",
       "  </thead>\n",
       "  <tbody>\n",
       "    <tr>\n",
       "      <td>291</td>\n",
       "      <td>-1</td>\n",
       "      <td>46</td>\n",
       "      <td>среднее</td>\n",
       "      <td>1</td>\n",
       "      <td>гражданский брак</td>\n",
       "      <td>1</td>\n",
       "      <td>F</td>\n",
       "      <td>сотрудник</td>\n",
       "      <td>0</td>\n",
       "      <td>102816.346412</td>\n",
       "      <td>профильное образование</td>\n",
       "    </tr>\n",
       "    <tr>\n",
       "      <td>705</td>\n",
       "      <td>-1</td>\n",
       "      <td>50</td>\n",
       "      <td>среднее</td>\n",
       "      <td>1</td>\n",
       "      <td>женат / замужем</td>\n",
       "      <td>0</td>\n",
       "      <td>F</td>\n",
       "      <td>госслужащий</td>\n",
       "      <td>0</td>\n",
       "      <td>137882.899271</td>\n",
       "      <td>приобретение автомобиля</td>\n",
       "    </tr>\n",
       "    <tr>\n",
       "      <td>742</td>\n",
       "      <td>-1</td>\n",
       "      <td>57</td>\n",
       "      <td>среднее</td>\n",
       "      <td>1</td>\n",
       "      <td>женат / замужем</td>\n",
       "      <td>0</td>\n",
       "      <td>F</td>\n",
       "      <td>сотрудник</td>\n",
       "      <td>0</td>\n",
       "      <td>64268.044444</td>\n",
       "      <td>дополнительное образование</td>\n",
       "    </tr>\n",
       "    <tr>\n",
       "      <td>800</td>\n",
       "      <td>-1</td>\n",
       "      <td>54</td>\n",
       "      <td>среднее</td>\n",
       "      <td>1</td>\n",
       "      <td>Не женат / не замужем</td>\n",
       "      <td>4</td>\n",
       "      <td>F</td>\n",
       "      <td>пенсионер</td>\n",
       "      <td>0</td>\n",
       "      <td>86293.724153</td>\n",
       "      <td>дополнительное образование</td>\n",
       "    </tr>\n",
       "    <tr>\n",
       "      <td>941</td>\n",
       "      <td>-1</td>\n",
       "      <td>57</td>\n",
       "      <td>Среднее</td>\n",
       "      <td>1</td>\n",
       "      <td>женат / замужем</td>\n",
       "      <td>0</td>\n",
       "      <td>F</td>\n",
       "      <td>пенсионер</td>\n",
       "      <td>0</td>\n",
       "      <td>118514.486412</td>\n",
       "      <td>на покупку своего автомобиля</td>\n",
       "    </tr>\n",
       "  </tbody>\n",
       "</table>\n",
       "</div>"
      ],
      "text/plain": [
       "     children  dob_years education  education_id          family_status  \\\n",
       "291        -1         46   среднее             1       гражданский брак   \n",
       "705        -1         50   среднее             1        женат / замужем   \n",
       "742        -1         57   среднее             1        женат / замужем   \n",
       "800        -1         54   среднее             1  Не женат / не замужем   \n",
       "941        -1         57   Среднее             1        женат / замужем   \n",
       "\n",
       "     family_status_id gender  income_type  debt   total_income  \\\n",
       "291                 1      F    сотрудник     0  102816.346412   \n",
       "705                 0      F  госслужащий     0  137882.899271   \n",
       "742                 0      F    сотрудник     0   64268.044444   \n",
       "800                 4      F    пенсионер     0   86293.724153   \n",
       "941                 0      F    пенсионер     0  118514.486412   \n",
       "\n",
       "                          purpose  \n",
       "291        профильное образование  \n",
       "705       приобретение автомобиля  \n",
       "742    дополнительное образование  \n",
       "800    дополнительное образование  \n",
       "941  на покупку своего автомобиля  "
      ]
     },
     "metadata": {},
     "output_type": "display_data"
    }
   ],
   "source": [
    "display(data[data['children']==-1].head(5))"
   ]
  },
  {
   "cell_type": "code",
   "execution_count": 27,
   "id": "a7e24a3a",
   "metadata": {},
   "outputs": [
    {
     "data": {
      "text/html": [
       "<div>\n",
       "<style scoped>\n",
       "    .dataframe tbody tr th:only-of-type {\n",
       "        vertical-align: middle;\n",
       "    }\n",
       "\n",
       "    .dataframe tbody tr th {\n",
       "        vertical-align: top;\n",
       "    }\n",
       "\n",
       "    .dataframe thead th {\n",
       "        text-align: right;\n",
       "    }\n",
       "</style>\n",
       "<table border=\"1\" class=\"dataframe\">\n",
       "  <thead>\n",
       "    <tr style=\"text-align: right;\">\n",
       "      <th></th>\n",
       "      <th>children</th>\n",
       "      <th>dob_years</th>\n",
       "      <th>education</th>\n",
       "      <th>education_id</th>\n",
       "      <th>family_status</th>\n",
       "      <th>family_status_id</th>\n",
       "      <th>gender</th>\n",
       "      <th>income_type</th>\n",
       "      <th>debt</th>\n",
       "      <th>total_income</th>\n",
       "      <th>purpose</th>\n",
       "    </tr>\n",
       "  </thead>\n",
       "  <tbody>\n",
       "    <tr>\n",
       "      <td>606</td>\n",
       "      <td>20</td>\n",
       "      <td>21</td>\n",
       "      <td>среднее</td>\n",
       "      <td>1</td>\n",
       "      <td>женат / замужем</td>\n",
       "      <td>0</td>\n",
       "      <td>M</td>\n",
       "      <td>компаньон</td>\n",
       "      <td>0</td>\n",
       "      <td>145334.865002</td>\n",
       "      <td>покупка жилья</td>\n",
       "    </tr>\n",
       "    <tr>\n",
       "      <td>720</td>\n",
       "      <td>20</td>\n",
       "      <td>44</td>\n",
       "      <td>среднее</td>\n",
       "      <td>1</td>\n",
       "      <td>женат / замужем</td>\n",
       "      <td>0</td>\n",
       "      <td>F</td>\n",
       "      <td>компаньон</td>\n",
       "      <td>0</td>\n",
       "      <td>112998.738649</td>\n",
       "      <td>покупка недвижимости</td>\n",
       "    </tr>\n",
       "    <tr>\n",
       "      <td>1074</td>\n",
       "      <td>20</td>\n",
       "      <td>56</td>\n",
       "      <td>среднее</td>\n",
       "      <td>1</td>\n",
       "      <td>женат / замужем</td>\n",
       "      <td>0</td>\n",
       "      <td>F</td>\n",
       "      <td>сотрудник</td>\n",
       "      <td>1</td>\n",
       "      <td>229518.537004</td>\n",
       "      <td>получение образования</td>\n",
       "    </tr>\n",
       "    <tr>\n",
       "      <td>2510</td>\n",
       "      <td>20</td>\n",
       "      <td>59</td>\n",
       "      <td>высшее</td>\n",
       "      <td>0</td>\n",
       "      <td>вдовец / вдова</td>\n",
       "      <td>2</td>\n",
       "      <td>F</td>\n",
       "      <td>сотрудник</td>\n",
       "      <td>0</td>\n",
       "      <td>264474.835577</td>\n",
       "      <td>операции с коммерческой недвижимостью</td>\n",
       "    </tr>\n",
       "    <tr>\n",
       "      <td>2941</td>\n",
       "      <td>20</td>\n",
       "      <td>0</td>\n",
       "      <td>среднее</td>\n",
       "      <td>1</td>\n",
       "      <td>женат / замужем</td>\n",
       "      <td>0</td>\n",
       "      <td>F</td>\n",
       "      <td>сотрудник</td>\n",
       "      <td>0</td>\n",
       "      <td>199739.941398</td>\n",
       "      <td>на покупку автомобиля</td>\n",
       "    </tr>\n",
       "  </tbody>\n",
       "</table>\n",
       "</div>"
      ],
      "text/plain": [
       "      children  dob_years education  education_id    family_status  \\\n",
       "606         20         21   среднее             1  женат / замужем   \n",
       "720         20         44   среднее             1  женат / замужем   \n",
       "1074        20         56   среднее             1  женат / замужем   \n",
       "2510        20         59    высшее             0   вдовец / вдова   \n",
       "2941        20          0   среднее             1  женат / замужем   \n",
       "\n",
       "      family_status_id gender income_type  debt   total_income  \\\n",
       "606                  0      M   компаньон     0  145334.865002   \n",
       "720                  0      F   компаньон     0  112998.738649   \n",
       "1074                 0      F   сотрудник     1  229518.537004   \n",
       "2510                 2      F   сотрудник     0  264474.835577   \n",
       "2941                 0      F   сотрудник     0  199739.941398   \n",
       "\n",
       "                                    purpose  \n",
       "606                           покупка жилья  \n",
       "720                    покупка недвижимости  \n",
       "1074                  получение образования  \n",
       "2510  операции с коммерческой недвижимостью  \n",
       "2941                  на покупку автомобиля  "
      ]
     },
     "metadata": {},
     "output_type": "display_data"
    }
   ],
   "source": [
    "display(data[data['children']==20].head(5))"
   ]
  },
  {
   "cell_type": "markdown",
   "id": "6a82f012",
   "metadata": {},
   "source": [
    "Явной закономерности не прослеживается. Скорее всего опечатка, либо ошибка при получении данных. \n",
    "Верный вариант будет убрать эти строчки т.к. их мало и они не должны повлиять на конечный результат."
   ]
  },
  {
   "cell_type": "code",
   "execution_count": 28,
   "id": "a1803519",
   "metadata": {},
   "outputs": [
    {
     "name": "stdout",
     "output_type": "stream",
     "text": [
      "Кол-во удаленных строк c \"-1\" = 47\n",
      "Кол-во удаленных строк c \"20\" = 76\n",
      "\n",
      "\n",
      "children            21402\n",
      "dob_years           21402\n",
      "education           21402\n",
      "education_id        21402\n",
      "family_status       21402\n",
      "family_status_id    21402\n",
      "gender              21402\n",
      "income_type         21402\n",
      "debt                21402\n",
      "total_income        21402\n",
      "purpose             21402\n",
      "dtype: int64\n",
      "\n",
      "\n",
      "Должно остаться строк = 21402\n"
     ]
    }
   ],
   "source": [
    "index_1 = data[data['children']==-1].index # индексы 47 строк где значение -1\n",
    "index_2 = data[data['children']==20].index # индексы 76 строк где значение 20 \n",
    "\n",
    "str_del_count=0\n",
    "try:\n",
    "    for drop_str in index_1:\n",
    "        data = data.drop(drop_str)\n",
    "        str_del_count+=1\n",
    "except:\n",
    "    print('Неполучилось удалить строку')\n",
    "print('Кол-во удаленных строк c \"-1\" =', str_del_count)\n",
    "\n",
    "str_del_count=0\n",
    "try:\n",
    "    for drop_str in index_2:\n",
    "        data = data.drop(drop_str)\n",
    "        str_del_count+=1\n",
    "except:\n",
    "    print('Неполучилось удалить строку')    \n",
    "print('Кол-во удаленных строк c \"20\" =', str_del_count)\n",
    "print('')\n",
    "print('')\n",
    "data = data.reset_index(drop=True)\n",
    "print(data.count())\n",
    "print()\n",
    "print()\n",
    "print('Должно остаться строк =', 21525-47-76)"
   ]
  },
  {
   "cell_type": "code",
   "execution_count": 29,
   "id": "9a1fe48f",
   "metadata": {},
   "outputs": [],
   "source": [
    "# Код ревьюера\n",
    "# df = df[(df['children'] != -1)&(df['children'] != 20)]"
   ]
  },
  {
   "cell_type": "markdown",
   "id": "42a57f4f",
   "metadata": {},
   "source": [
    "#### Столбец dob_years"
   ]
  },
  {
   "cell_type": "markdown",
   "id": "3a5eb149",
   "metadata": {},
   "source": [
    "Количество значений, которые надо корректировать не так велико, относительно массива данных. В исследовании стобец не участвует. Можно не вносить коррективы."
   ]
  },
  {
   "cell_type": "code",
   "execution_count": 30,
   "id": "77a49842",
   "metadata": {},
   "outputs": [
    {
     "name": "stdout",
     "output_type": "stream",
     "text": [
      "0     100\n",
      "19     14\n",
      "20     51\n",
      "21    110\n",
      "22    183\n",
      "23    252\n",
      "24    263\n",
      "25    356\n",
      "26    406\n",
      "27    490\n",
      "28    501\n",
      "29    543\n",
      "30    536\n",
      "31    556\n",
      "32    506\n",
      "33    577\n",
      "34    597\n",
      "35    614\n",
      "36    553\n",
      "37    531\n",
      "38    595\n",
      "39    572\n",
      "40    603\n",
      "41    603\n",
      "42    592\n",
      "43    510\n",
      "44    543\n",
      "45    494\n",
      "46    469\n",
      "47    480\n",
      "48    536\n",
      "49    505\n",
      "50    509\n",
      "51    446\n",
      "52    483\n",
      "53    457\n",
      "54    476\n",
      "55    441\n",
      "56    482\n",
      "57    457\n",
      "58    461\n",
      "59    441\n",
      "60    376\n",
      "61    353\n",
      "62    351\n",
      "63    268\n",
      "64    263\n",
      "65    194\n",
      "66    183\n",
      "67    167\n",
      "68     99\n",
      "69     83\n",
      "70     65\n",
      "71     58\n",
      "72     33\n",
      "73      8\n",
      "74      6\n",
      "75      1\n",
      "Name: dob_years, dtype: int64\n"
     ]
    }
   ],
   "source": [
    "print(data['dob_years'].value_counts().sort_index())"
   ]
  },
  {
   "cell_type": "code",
   "execution_count": 31,
   "id": "ceb3b48e",
   "metadata": {},
   "outputs": [
    {
     "data": {
      "text/html": [
       "<div>\n",
       "<style scoped>\n",
       "    .dataframe tbody tr th:only-of-type {\n",
       "        vertical-align: middle;\n",
       "    }\n",
       "\n",
       "    .dataframe tbody tr th {\n",
       "        vertical-align: top;\n",
       "    }\n",
       "\n",
       "    .dataframe thead th {\n",
       "        text-align: right;\n",
       "    }\n",
       "</style>\n",
       "<table border=\"1\" class=\"dataframe\">\n",
       "  <thead>\n",
       "    <tr style=\"text-align: right;\">\n",
       "      <th></th>\n",
       "      <th>children</th>\n",
       "      <th>dob_years</th>\n",
       "      <th>education</th>\n",
       "      <th>education_id</th>\n",
       "      <th>family_status</th>\n",
       "      <th>family_status_id</th>\n",
       "      <th>gender</th>\n",
       "      <th>income_type</th>\n",
       "      <th>debt</th>\n",
       "      <th>total_income</th>\n",
       "      <th>purpose</th>\n",
       "    </tr>\n",
       "  </thead>\n",
       "  <tbody>\n",
       "    <tr>\n",
       "      <td>99</td>\n",
       "      <td>0</td>\n",
       "      <td>0</td>\n",
       "      <td>Среднее</td>\n",
       "      <td>1</td>\n",
       "      <td>женат / замужем</td>\n",
       "      <td>0</td>\n",
       "      <td>F</td>\n",
       "      <td>пенсионер</td>\n",
       "      <td>0</td>\n",
       "      <td>71291.522491</td>\n",
       "      <td>автомобиль</td>\n",
       "    </tr>\n",
       "    <tr>\n",
       "      <td>149</td>\n",
       "      <td>0</td>\n",
       "      <td>0</td>\n",
       "      <td>среднее</td>\n",
       "      <td>1</td>\n",
       "      <td>в разводе</td>\n",
       "      <td>3</td>\n",
       "      <td>F</td>\n",
       "      <td>сотрудник</td>\n",
       "      <td>0</td>\n",
       "      <td>70176.435951</td>\n",
       "      <td>операции с жильем</td>\n",
       "    </tr>\n",
       "    <tr>\n",
       "      <td>270</td>\n",
       "      <td>3</td>\n",
       "      <td>0</td>\n",
       "      <td>среднее</td>\n",
       "      <td>1</td>\n",
       "      <td>женат / замужем</td>\n",
       "      <td>0</td>\n",
       "      <td>F</td>\n",
       "      <td>сотрудник</td>\n",
       "      <td>0</td>\n",
       "      <td>102166.458894</td>\n",
       "      <td>ремонт жилью</td>\n",
       "    </tr>\n",
       "    <tr>\n",
       "      <td>577</td>\n",
       "      <td>0</td>\n",
       "      <td>0</td>\n",
       "      <td>среднее</td>\n",
       "      <td>1</td>\n",
       "      <td>женат / замужем</td>\n",
       "      <td>0</td>\n",
       "      <td>F</td>\n",
       "      <td>пенсионер</td>\n",
       "      <td>0</td>\n",
       "      <td>97620.687042</td>\n",
       "      <td>строительство собственной недвижимости</td>\n",
       "    </tr>\n",
       "    <tr>\n",
       "      <td>1033</td>\n",
       "      <td>0</td>\n",
       "      <td>0</td>\n",
       "      <td>высшее</td>\n",
       "      <td>0</td>\n",
       "      <td>в разводе</td>\n",
       "      <td>3</td>\n",
       "      <td>F</td>\n",
       "      <td>компаньон</td>\n",
       "      <td>0</td>\n",
       "      <td>303994.134987</td>\n",
       "      <td>свой автомобиль</td>\n",
       "    </tr>\n",
       "    <tr>\n",
       "      <td>1141</td>\n",
       "      <td>0</td>\n",
       "      <td>0</td>\n",
       "      <td>среднее</td>\n",
       "      <td>1</td>\n",
       "      <td>женат / замужем</td>\n",
       "      <td>0</td>\n",
       "      <td>F</td>\n",
       "      <td>компаньон</td>\n",
       "      <td>0</td>\n",
       "      <td>201852.430096</td>\n",
       "      <td>покупка недвижимости</td>\n",
       "    </tr>\n",
       "    <tr>\n",
       "      <td>1167</td>\n",
       "      <td>0</td>\n",
       "      <td>0</td>\n",
       "      <td>среднее</td>\n",
       "      <td>1</td>\n",
       "      <td>женат / замужем</td>\n",
       "      <td>0</td>\n",
       "      <td>F</td>\n",
       "      <td>пенсионер</td>\n",
       "      <td>0</td>\n",
       "      <td>313949.845188</td>\n",
       "      <td>получение дополнительного образования</td>\n",
       "    </tr>\n",
       "    <tr>\n",
       "      <td>1377</td>\n",
       "      <td>0</td>\n",
       "      <td>0</td>\n",
       "      <td>высшее</td>\n",
       "      <td>0</td>\n",
       "      <td>женат / замужем</td>\n",
       "      <td>0</td>\n",
       "      <td>M</td>\n",
       "      <td>госслужащий</td>\n",
       "      <td>0</td>\n",
       "      <td>240523.618071</td>\n",
       "      <td>сделка с автомобилем</td>\n",
       "    </tr>\n",
       "    <tr>\n",
       "      <td>1881</td>\n",
       "      <td>0</td>\n",
       "      <td>0</td>\n",
       "      <td>высшее</td>\n",
       "      <td>0</td>\n",
       "      <td>Не женат / не замужем</td>\n",
       "      <td>4</td>\n",
       "      <td>F</td>\n",
       "      <td>сотрудник</td>\n",
       "      <td>0</td>\n",
       "      <td>142594.396847</td>\n",
       "      <td>жилье</td>\n",
       "    </tr>\n",
       "    <tr>\n",
       "      <td>1889</td>\n",
       "      <td>0</td>\n",
       "      <td>0</td>\n",
       "      <td>среднее</td>\n",
       "      <td>1</td>\n",
       "      <td>вдовец / вдова</td>\n",
       "      <td>2</td>\n",
       "      <td>F</td>\n",
       "      <td>пенсионер</td>\n",
       "      <td>0</td>\n",
       "      <td>127400.268338</td>\n",
       "      <td>на покупку автомобиля</td>\n",
       "    </tr>\n",
       "    <tr>\n",
       "      <td>2071</td>\n",
       "      <td>0</td>\n",
       "      <td>0</td>\n",
       "      <td>среднее</td>\n",
       "      <td>1</td>\n",
       "      <td>женат / замужем</td>\n",
       "      <td>0</td>\n",
       "      <td>F</td>\n",
       "      <td>сотрудник</td>\n",
       "      <td>0</td>\n",
       "      <td>386373.636958</td>\n",
       "      <td>операции с недвижимостью</td>\n",
       "    </tr>\n",
       "    <tr>\n",
       "      <td>2273</td>\n",
       "      <td>0</td>\n",
       "      <td>0</td>\n",
       "      <td>среднее</td>\n",
       "      <td>1</td>\n",
       "      <td>вдовец / вдова</td>\n",
       "      <td>2</td>\n",
       "      <td>F</td>\n",
       "      <td>пенсионер</td>\n",
       "      <td>0</td>\n",
       "      <td>118514.486412</td>\n",
       "      <td>недвижимость</td>\n",
       "    </tr>\n",
       "    <tr>\n",
       "      <td>2458</td>\n",
       "      <td>0</td>\n",
       "      <td>0</td>\n",
       "      <td>среднее</td>\n",
       "      <td>1</td>\n",
       "      <td>гражданский брак</td>\n",
       "      <td>1</td>\n",
       "      <td>F</td>\n",
       "      <td>сотрудник</td>\n",
       "      <td>0</td>\n",
       "      <td>95967.700317</td>\n",
       "      <td>сыграть свадьбу</td>\n",
       "    </tr>\n",
       "    <tr>\n",
       "      <td>2476</td>\n",
       "      <td>0</td>\n",
       "      <td>0</td>\n",
       "      <td>среднее</td>\n",
       "      <td>1</td>\n",
       "      <td>женат / замужем</td>\n",
       "      <td>0</td>\n",
       "      <td>F</td>\n",
       "      <td>сотрудник</td>\n",
       "      <td>1</td>\n",
       "      <td>91367.005172</td>\n",
       "      <td>недвижимость</td>\n",
       "    </tr>\n",
       "    <tr>\n",
       "      <td>2858</td>\n",
       "      <td>0</td>\n",
       "      <td>0</td>\n",
       "      <td>среднее</td>\n",
       "      <td>1</td>\n",
       "      <td>женат / замужем</td>\n",
       "      <td>0</td>\n",
       "      <td>F</td>\n",
       "      <td>компаньон</td>\n",
       "      <td>0</td>\n",
       "      <td>167713.212064</td>\n",
       "      <td>на покупку своего автомобиля</td>\n",
       "    </tr>\n",
       "    <tr>\n",
       "      <td>3031</td>\n",
       "      <td>2</td>\n",
       "      <td>0</td>\n",
       "      <td>высшее</td>\n",
       "      <td>0</td>\n",
       "      <td>Не женат / не замужем</td>\n",
       "      <td>4</td>\n",
       "      <td>M</td>\n",
       "      <td>сотрудник</td>\n",
       "      <td>0</td>\n",
       "      <td>292145.267076</td>\n",
       "      <td>операции с недвижимостью</td>\n",
       "    </tr>\n",
       "    <tr>\n",
       "      <td>3134</td>\n",
       "      <td>2</td>\n",
       "      <td>0</td>\n",
       "      <td>высшее</td>\n",
       "      <td>0</td>\n",
       "      <td>женат / замужем</td>\n",
       "      <td>0</td>\n",
       "      <td>F</td>\n",
       "      <td>компаньон</td>\n",
       "      <td>0</td>\n",
       "      <td>215477.004597</td>\n",
       "      <td>операции с жильем</td>\n",
       "    </tr>\n",
       "    <tr>\n",
       "      <td>3687</td>\n",
       "      <td>0</td>\n",
       "      <td>0</td>\n",
       "      <td>среднее</td>\n",
       "      <td>1</td>\n",
       "      <td>в разводе</td>\n",
       "      <td>3</td>\n",
       "      <td>F</td>\n",
       "      <td>сотрудник</td>\n",
       "      <td>0</td>\n",
       "      <td>191033.656419</td>\n",
       "      <td>автомобили</td>\n",
       "    </tr>\n",
       "    <tr>\n",
       "      <td>4044</td>\n",
       "      <td>1</td>\n",
       "      <td>0</td>\n",
       "      <td>среднее</td>\n",
       "      <td>1</td>\n",
       "      <td>гражданский брак</td>\n",
       "      <td>1</td>\n",
       "      <td>M</td>\n",
       "      <td>компаньон</td>\n",
       "      <td>0</td>\n",
       "      <td>172357.950966</td>\n",
       "      <td>ремонт жилью</td>\n",
       "    </tr>\n",
       "    <tr>\n",
       "      <td>4127</td>\n",
       "      <td>0</td>\n",
       "      <td>0</td>\n",
       "      <td>среднее</td>\n",
       "      <td>1</td>\n",
       "      <td>в разводе</td>\n",
       "      <td>3</td>\n",
       "      <td>M</td>\n",
       "      <td>сотрудник</td>\n",
       "      <td>0</td>\n",
       "      <td>108130.933212</td>\n",
       "      <td>покупка жилой недвижимости</td>\n",
       "    </tr>\n",
       "  </tbody>\n",
       "</table>\n",
       "</div>"
      ],
      "text/plain": [
       "      children  dob_years education  education_id          family_status  \\\n",
       "99           0          0   Среднее             1        женат / замужем   \n",
       "149          0          0   среднее             1              в разводе   \n",
       "270          3          0   среднее             1        женат / замужем   \n",
       "577          0          0   среднее             1        женат / замужем   \n",
       "1033         0          0    высшее             0              в разводе   \n",
       "1141         0          0   среднее             1        женат / замужем   \n",
       "1167         0          0   среднее             1        женат / замужем   \n",
       "1377         0          0    высшее             0        женат / замужем   \n",
       "1881         0          0    высшее             0  Не женат / не замужем   \n",
       "1889         0          0   среднее             1         вдовец / вдова   \n",
       "2071         0          0   среднее             1        женат / замужем   \n",
       "2273         0          0   среднее             1         вдовец / вдова   \n",
       "2458         0          0   среднее             1       гражданский брак   \n",
       "2476         0          0   среднее             1        женат / замужем   \n",
       "2858         0          0   среднее             1        женат / замужем   \n",
       "3031         2          0    высшее             0  Не женат / не замужем   \n",
       "3134         2          0    высшее             0        женат / замужем   \n",
       "3687         0          0   среднее             1              в разводе   \n",
       "4044         1          0   среднее             1       гражданский брак   \n",
       "4127         0          0   среднее             1              в разводе   \n",
       "\n",
       "      family_status_id gender  income_type  debt   total_income  \\\n",
       "99                   0      F    пенсионер     0   71291.522491   \n",
       "149                  3      F    сотрудник     0   70176.435951   \n",
       "270                  0      F    сотрудник     0  102166.458894   \n",
       "577                  0      F    пенсионер     0   97620.687042   \n",
       "1033                 3      F    компаньон     0  303994.134987   \n",
       "1141                 0      F    компаньон     0  201852.430096   \n",
       "1167                 0      F    пенсионер     0  313949.845188   \n",
       "1377                 0      M  госслужащий     0  240523.618071   \n",
       "1881                 4      F    сотрудник     0  142594.396847   \n",
       "1889                 2      F    пенсионер     0  127400.268338   \n",
       "2071                 0      F    сотрудник     0  386373.636958   \n",
       "2273                 2      F    пенсионер     0  118514.486412   \n",
       "2458                 1      F    сотрудник     0   95967.700317   \n",
       "2476                 0      F    сотрудник     1   91367.005172   \n",
       "2858                 0      F    компаньон     0  167713.212064   \n",
       "3031                 4      M    сотрудник     0  292145.267076   \n",
       "3134                 0      F    компаньон     0  215477.004597   \n",
       "3687                 3      F    сотрудник     0  191033.656419   \n",
       "4044                 1      M    компаньон     0  172357.950966   \n",
       "4127                 3      M    сотрудник     0  108130.933212   \n",
       "\n",
       "                                     purpose  \n",
       "99                                автомобиль  \n",
       "149                        операции с жильем  \n",
       "270                             ремонт жилью  \n",
       "577   строительство собственной недвижимости  \n",
       "1033                         свой автомобиль  \n",
       "1141                    покупка недвижимости  \n",
       "1167   получение дополнительного образования  \n",
       "1377                    сделка с автомобилем  \n",
       "1881                                   жилье  \n",
       "1889                   на покупку автомобиля  \n",
       "2071                операции с недвижимостью  \n",
       "2273                            недвижимость  \n",
       "2458                         сыграть свадьбу  \n",
       "2476                            недвижимость  \n",
       "2858            на покупку своего автомобиля  \n",
       "3031                операции с недвижимостью  \n",
       "3134                       операции с жильем  \n",
       "3687                              автомобили  \n",
       "4044                            ремонт жилью  \n",
       "4127              покупка жилой недвижимости  "
      ]
     },
     "metadata": {},
     "output_type": "display_data"
    }
   ],
   "source": [
    "display(data[data['dob_years']==0].head(20))"
   ]
  },
  {
   "cell_type": "code",
   "execution_count": 32,
   "id": "354967a1",
   "metadata": {},
   "outputs": [],
   "source": [
    "#print('Размер датафрейма до :', data.shape)\n",
    "#index_years = data[data['dob_years']==0].index #индексы строк необходимых для удаления\n",
    "#for drop_str in index_years:\n",
    "#    data = data.drop(drop_str)\n",
    "#print('Размер датафрейма после :', data.shape)"
   ]
  },
  {
   "cell_type": "markdown",
   "id": "b042066d",
   "metadata": {},
   "source": [
    "### Изменение типов данных."
   ]
  },
  {
   "cell_type": "markdown",
   "id": "2049f67c",
   "metadata": {},
   "source": [
    "Заменим тип в 2 столбцац: \n",
    "1) debt на bool\n",
    "2) total_income на int"
   ]
  },
  {
   "cell_type": "code",
   "execution_count": 33,
   "id": "d3c3ec69",
   "metadata": {},
   "outputs": [
    {
     "name": "stdout",
     "output_type": "stream",
     "text": [
      "<class 'pandas.core.frame.DataFrame'>\n",
      "RangeIndex: 21402 entries, 0 to 21401\n",
      "Data columns (total 11 columns):\n",
      "children            21402 non-null int64\n",
      "dob_years           21402 non-null int64\n",
      "education           21402 non-null object\n",
      "education_id        21402 non-null int64\n",
      "family_status       21402 non-null object\n",
      "family_status_id    21402 non-null int64\n",
      "gender              21402 non-null object\n",
      "income_type         21402 non-null object\n",
      "debt                21402 non-null bool\n",
      "total_income        21402 non-null int64\n",
      "purpose             21402 non-null object\n",
      "dtypes: bool(1), int64(5), object(5)\n",
      "memory usage: 1.7+ MB\n"
     ]
    }
   ],
   "source": [
    "data['debt'] = data['debt'].astype(bool)\n",
    "\n",
    "data['total_income'] = data['total_income'].astype(int)\n",
    "\n",
    "data.info()"
   ]
  },
  {
   "cell_type": "markdown",
   "id": "a883a701",
   "metadata": {},
   "source": [
    "Тип данных заменили. Теперь можно с ними спокойно работать."
   ]
  },
  {
   "cell_type": "markdown",
   "id": "92bce300",
   "metadata": {},
   "source": [
    "### Удаление дубликатов."
   ]
  },
  {
   "cell_type": "markdown",
   "id": "1a18e3a7",
   "metadata": {},
   "source": [
    "#### Столбец 'education'"
   ]
  },
  {
   "cell_type": "markdown",
   "id": "f076ae66",
   "metadata": {},
   "source": [
    "Получим информацию по столбцу методом .value_counts()"
   ]
  },
  {
   "cell_type": "code",
   "execution_count": 34,
   "id": "f19c7f63",
   "metadata": {},
   "outputs": [
    {
     "name": "stdout",
     "output_type": "stream",
     "text": [
      "среднее                13667\n",
      "высшее                  4698\n",
      "СРЕДНЕЕ                  766\n",
      "Среднее                  703\n",
      "неоконченное высшее      665\n",
      "ВЫСШЕЕ                   271\n",
      "Высшее                   268\n",
      "начальное                250\n",
      "Неоконченное высшее       47\n",
      "НЕОКОНЧЕННОЕ ВЫСШЕЕ       29\n",
      "НАЧАЛЬНОЕ                 17\n",
      "Начальное                 15\n",
      "ученая степень             4\n",
      "Ученая степень             1\n",
      "УЧЕНАЯ СТЕПЕНЬ             1\n",
      "Name: education, dtype: int64 1    15136\n",
      "0     5237\n",
      "2      741\n",
      "3      282\n",
      "4        6\n",
      "Name: education_id, dtype: int64\n"
     ]
    }
   ],
   "source": [
    "print(data['education'].value_counts(), data['education_id'].value_counts())"
   ]
  },
  {
   "cell_type": "markdown",
   "id": "3e36e91b",
   "metadata": {},
   "source": [
    "Как мы видим, проблема в регистре. Необходимо привести все наименования к общему регистру."
   ]
  },
  {
   "cell_type": "code",
   "execution_count": 35,
   "id": "dfd38b6c",
   "metadata": {},
   "outputs": [
    {
     "name": "stdout",
     "output_type": "stream",
     "text": [
      "среднее                15136\n",
      "высшее                  5237\n",
      "неоконченное высшее      741\n",
      "начальное                282\n",
      "ученая степень             6\n",
      "Name: education, dtype: int64\n"
     ]
    }
   ],
   "source": [
    "data['education'] = data['education'].str.lower()\n",
    "print(data['education'].value_counts())"
   ]
  },
  {
   "cell_type": "markdown",
   "id": "3aef060f",
   "metadata": {},
   "source": [
    "#### Столбец 'purpose'"
   ]
  },
  {
   "cell_type": "markdown",
   "id": "53b44308",
   "metadata": {},
   "source": [
    "Неоходимо похожие цели привести к общему названию.\n",
    "Для начала необходимо создать список с значениями для замены.\n",
    "Необходимо будет с помощью лемматизации изменить некорректные значения."
   ]
  },
  {
   "cell_type": "code",
   "execution_count": 36,
   "id": "7c8ae62f",
   "metadata": {
    "scrolled": false
   },
   "outputs": [
    {
     "name": "stdout",
     "output_type": "stream",
     "text": [
      "свадьба                                   796\n",
      "на проведение свадьбы                     772\n",
      "сыграть свадьбу                           769\n",
      "операции с недвижимостью                  673\n",
      "покупка коммерческой недвижимости         661\n",
      "покупка жилья для сдачи                   651\n",
      "операции с жильем                         648\n",
      "операции с коммерческой недвижимостью     646\n",
      "жилье                                     642\n",
      "покупка жилья                             641\n",
      "покупка жилья для семьи                   640\n",
      "недвижимость                              632\n",
      "строительство собственной недвижимости    628\n",
      "операции со своей недвижимостью           626\n",
      "строительство жилой недвижимости          622\n",
      "строительство недвижимости                620\n",
      "покупка недвижимости                      619\n",
      "покупка своего жилья                      619\n",
      "ремонт жилью                              609\n",
      "покупка жилой недвижимости                603\n",
      "на покупку своего автомобиля              504\n",
      "заняться высшим образованием              496\n",
      "автомобиль                                492\n",
      "сделка с подержанным автомобилем          484\n",
      "автомобили                                476\n",
      "свой автомобиль                           475\n",
      "на покупку подержанного автомобиля        472\n",
      "на покупку автомобиля                     470\n",
      "приобретение автомобиля                   460\n",
      "дополнительное образование                457\n",
      "сделка с автомобилем                      455\n",
      "высшее образование                        447\n",
      "получение дополнительного образования     445\n",
      "образование                               442\n",
      "получение образования                     441\n",
      "профильное образование                    432\n",
      "получение высшего образования             425\n",
      "заняться образованием                     412\n",
      "Name: purpose, dtype: int64\n"
     ]
    }
   ],
   "source": [
    "print(data['purpose'].value_counts())"
   ]
  },
  {
   "cell_type": "markdown",
   "id": "524562d6",
   "metadata": {},
   "source": [
    "Судя по всему данные вводились в ручную, разными людьми. Сгруппируем схожие цели, создадим цикл лематизации и словарь для этого цикла."
   ]
  },
  {
   "cell_type": "code",
   "execution_count": 37,
   "id": "64bfcb49",
   "metadata": {},
   "outputs": [
    {
     "data": {
      "text/html": [
       "<div>\n",
       "<style scoped>\n",
       "    .dataframe tbody tr th:only-of-type {\n",
       "        vertical-align: middle;\n",
       "    }\n",
       "\n",
       "    .dataframe tbody tr th {\n",
       "        vertical-align: top;\n",
       "    }\n",
       "\n",
       "    .dataframe thead th {\n",
       "        text-align: right;\n",
       "    }\n",
       "</style>\n",
       "<table border=\"1\" class=\"dataframe\">\n",
       "  <thead>\n",
       "    <tr style=\"text-align: right;\">\n",
       "      <th></th>\n",
       "      <th>original</th>\n",
       "      <th>lemms</th>\n",
       "      <th>good</th>\n",
       "    </tr>\n",
       "  </thead>\n",
       "  <tbody>\n",
       "    <tr>\n",
       "      <td>0</td>\n",
       "      <td>свадьба</td>\n",
       "      <td>свадьба \\n</td>\n",
       "      <td>NaN</td>\n",
       "    </tr>\n",
       "    <tr>\n",
       "      <td>1</td>\n",
       "      <td>на проведение свадьбы</td>\n",
       "      <td>на   проведение   свадьба \\n</td>\n",
       "      <td>NaN</td>\n",
       "    </tr>\n",
       "    <tr>\n",
       "      <td>2</td>\n",
       "      <td>сыграть свадьбу</td>\n",
       "      <td>сыграть   свадьба \\n</td>\n",
       "      <td>NaN</td>\n",
       "    </tr>\n",
       "    <tr>\n",
       "      <td>3</td>\n",
       "      <td>операции с недвижимостью</td>\n",
       "      <td>операция   с   недвижимость \\n</td>\n",
       "      <td>NaN</td>\n",
       "    </tr>\n",
       "    <tr>\n",
       "      <td>4</td>\n",
       "      <td>покупка коммерческой недвижимости</td>\n",
       "      <td>покупка   коммерческий   недвижимость \\n</td>\n",
       "      <td>NaN</td>\n",
       "    </tr>\n",
       "    <tr>\n",
       "      <td>5</td>\n",
       "      <td>покупка жилья для сдачи</td>\n",
       "      <td>покупка   жилье   для   сдача \\n</td>\n",
       "      <td>NaN</td>\n",
       "    </tr>\n",
       "    <tr>\n",
       "      <td>6</td>\n",
       "      <td>операции с жильем</td>\n",
       "      <td>операция   с   жилье \\n</td>\n",
       "      <td>NaN</td>\n",
       "    </tr>\n",
       "    <tr>\n",
       "      <td>7</td>\n",
       "      <td>операции с коммерческой недвижимостью</td>\n",
       "      <td>операция   с   коммерческий   недвижимость \\n</td>\n",
       "      <td>NaN</td>\n",
       "    </tr>\n",
       "    <tr>\n",
       "      <td>8</td>\n",
       "      <td>жилье</td>\n",
       "      <td>жилье \\n</td>\n",
       "      <td>NaN</td>\n",
       "    </tr>\n",
       "    <tr>\n",
       "      <td>9</td>\n",
       "      <td>покупка жилья</td>\n",
       "      <td>покупка   жилье \\n</td>\n",
       "      <td>NaN</td>\n",
       "    </tr>\n",
       "    <tr>\n",
       "      <td>10</td>\n",
       "      <td>покупка жилья для семьи</td>\n",
       "      <td>покупка   жилье   для   семья \\n</td>\n",
       "      <td>NaN</td>\n",
       "    </tr>\n",
       "    <tr>\n",
       "      <td>11</td>\n",
       "      <td>недвижимость</td>\n",
       "      <td>недвижимость \\n</td>\n",
       "      <td>NaN</td>\n",
       "    </tr>\n",
       "    <tr>\n",
       "      <td>12</td>\n",
       "      <td>строительство собственной недвижимости</td>\n",
       "      <td>строительство   собственный   недвижимость \\n</td>\n",
       "      <td>NaN</td>\n",
       "    </tr>\n",
       "    <tr>\n",
       "      <td>13</td>\n",
       "      <td>операции со своей недвижимостью</td>\n",
       "      <td>операция   со   свой   недвижимость \\n</td>\n",
       "      <td>NaN</td>\n",
       "    </tr>\n",
       "    <tr>\n",
       "      <td>14</td>\n",
       "      <td>строительство жилой недвижимости</td>\n",
       "      <td>строительство   жилой   недвижимость \\n</td>\n",
       "      <td>NaN</td>\n",
       "    </tr>\n",
       "    <tr>\n",
       "      <td>15</td>\n",
       "      <td>строительство недвижимости</td>\n",
       "      <td>строительство   недвижимость \\n</td>\n",
       "      <td>NaN</td>\n",
       "    </tr>\n",
       "    <tr>\n",
       "      <td>16</td>\n",
       "      <td>покупка недвижимости</td>\n",
       "      <td>покупка   недвижимость \\n</td>\n",
       "      <td>NaN</td>\n",
       "    </tr>\n",
       "    <tr>\n",
       "      <td>17</td>\n",
       "      <td>покупка своего жилья</td>\n",
       "      <td>покупка   свой   жилье \\n</td>\n",
       "      <td>NaN</td>\n",
       "    </tr>\n",
       "    <tr>\n",
       "      <td>18</td>\n",
       "      <td>ремонт жилью</td>\n",
       "      <td>ремонт   жилье \\n</td>\n",
       "      <td>NaN</td>\n",
       "    </tr>\n",
       "    <tr>\n",
       "      <td>19</td>\n",
       "      <td>покупка жилой недвижимости</td>\n",
       "      <td>покупка   жилой   недвижимость \\n</td>\n",
       "      <td>NaN</td>\n",
       "    </tr>\n",
       "    <tr>\n",
       "      <td>20</td>\n",
       "      <td>на покупку своего автомобиля</td>\n",
       "      <td>на   покупка   свой   автомобиль \\n</td>\n",
       "      <td>NaN</td>\n",
       "    </tr>\n",
       "    <tr>\n",
       "      <td>21</td>\n",
       "      <td>заняться высшим образованием</td>\n",
       "      <td>заниматься   высокий   образование \\n</td>\n",
       "      <td>NaN</td>\n",
       "    </tr>\n",
       "    <tr>\n",
       "      <td>22</td>\n",
       "      <td>автомобиль</td>\n",
       "      <td>автомобиль \\n</td>\n",
       "      <td>NaN</td>\n",
       "    </tr>\n",
       "    <tr>\n",
       "      <td>23</td>\n",
       "      <td>сделка с подержанным автомобилем</td>\n",
       "      <td>сделка   с   подержанный   автомобиль \\n</td>\n",
       "      <td>NaN</td>\n",
       "    </tr>\n",
       "    <tr>\n",
       "      <td>24</td>\n",
       "      <td>автомобили</td>\n",
       "      <td>автомобиль \\n</td>\n",
       "      <td>NaN</td>\n",
       "    </tr>\n",
       "    <tr>\n",
       "      <td>25</td>\n",
       "      <td>свой автомобиль</td>\n",
       "      <td>свой   автомобиль \\n</td>\n",
       "      <td>NaN</td>\n",
       "    </tr>\n",
       "    <tr>\n",
       "      <td>26</td>\n",
       "      <td>на покупку подержанного автомобиля</td>\n",
       "      <td>на   покупка   подержать   автомобиль \\n</td>\n",
       "      <td>NaN</td>\n",
       "    </tr>\n",
       "    <tr>\n",
       "      <td>27</td>\n",
       "      <td>на покупку автомобиля</td>\n",
       "      <td>на   покупка   автомобиль \\n</td>\n",
       "      <td>NaN</td>\n",
       "    </tr>\n",
       "    <tr>\n",
       "      <td>28</td>\n",
       "      <td>приобретение автомобиля</td>\n",
       "      <td>приобретение   автомобиль \\n</td>\n",
       "      <td>NaN</td>\n",
       "    </tr>\n",
       "    <tr>\n",
       "      <td>29</td>\n",
       "      <td>дополнительное образование</td>\n",
       "      <td>дополнительный   образование \\n</td>\n",
       "      <td>NaN</td>\n",
       "    </tr>\n",
       "    <tr>\n",
       "      <td>30</td>\n",
       "      <td>сделка с автомобилем</td>\n",
       "      <td>сделка   с   автомобиль \\n</td>\n",
       "      <td>NaN</td>\n",
       "    </tr>\n",
       "    <tr>\n",
       "      <td>31</td>\n",
       "      <td>высшее образование</td>\n",
       "      <td>высокий   образование \\n</td>\n",
       "      <td>NaN</td>\n",
       "    </tr>\n",
       "    <tr>\n",
       "      <td>32</td>\n",
       "      <td>получение дополнительного образования</td>\n",
       "      <td>получение   дополнительный   образование \\n</td>\n",
       "      <td>NaN</td>\n",
       "    </tr>\n",
       "    <tr>\n",
       "      <td>33</td>\n",
       "      <td>образование</td>\n",
       "      <td>образование \\n</td>\n",
       "      <td>NaN</td>\n",
       "    </tr>\n",
       "    <tr>\n",
       "      <td>34</td>\n",
       "      <td>получение образования</td>\n",
       "      <td>получение   образование \\n</td>\n",
       "      <td>NaN</td>\n",
       "    </tr>\n",
       "    <tr>\n",
       "      <td>35</td>\n",
       "      <td>профильное образование</td>\n",
       "      <td>профильный   образование \\n</td>\n",
       "      <td>NaN</td>\n",
       "    </tr>\n",
       "    <tr>\n",
       "      <td>36</td>\n",
       "      <td>получение высшего образования</td>\n",
       "      <td>получение   высокий   образование \\n</td>\n",
       "      <td>NaN</td>\n",
       "    </tr>\n",
       "    <tr>\n",
       "      <td>37</td>\n",
       "      <td>заняться образованием</td>\n",
       "      <td>заниматься   образование \\n</td>\n",
       "      <td>NaN</td>\n",
       "    </tr>\n",
       "  </tbody>\n",
       "</table>\n",
       "</div>"
      ],
      "text/plain": [
       "                                  original  \\\n",
       "0                                  свадьба   \n",
       "1                    на проведение свадьбы   \n",
       "2                          сыграть свадьбу   \n",
       "3                 операции с недвижимостью   \n",
       "4        покупка коммерческой недвижимости   \n",
       "5                  покупка жилья для сдачи   \n",
       "6                        операции с жильем   \n",
       "7    операции с коммерческой недвижимостью   \n",
       "8                                    жилье   \n",
       "9                            покупка жилья   \n",
       "10                 покупка жилья для семьи   \n",
       "11                            недвижимость   \n",
       "12  строительство собственной недвижимости   \n",
       "13         операции со своей недвижимостью   \n",
       "14        строительство жилой недвижимости   \n",
       "15              строительство недвижимости   \n",
       "16                    покупка недвижимости   \n",
       "17                    покупка своего жилья   \n",
       "18                            ремонт жилью   \n",
       "19              покупка жилой недвижимости   \n",
       "20            на покупку своего автомобиля   \n",
       "21            заняться высшим образованием   \n",
       "22                              автомобиль   \n",
       "23        сделка с подержанным автомобилем   \n",
       "24                              автомобили   \n",
       "25                         свой автомобиль   \n",
       "26      на покупку подержанного автомобиля   \n",
       "27                   на покупку автомобиля   \n",
       "28                 приобретение автомобиля   \n",
       "29              дополнительное образование   \n",
       "30                    сделка с автомобилем   \n",
       "31                      высшее образование   \n",
       "32   получение дополнительного образования   \n",
       "33                             образование   \n",
       "34                   получение образования   \n",
       "35                  профильное образование   \n",
       "36           получение высшего образования   \n",
       "37                   заняться образованием   \n",
       "\n",
       "                                            lemms good  \n",
       "0                                      свадьба \\n  NaN  \n",
       "1                    на   проведение   свадьба \\n  NaN  \n",
       "2                            сыграть   свадьба \\n  NaN  \n",
       "3                  операция   с   недвижимость \\n  NaN  \n",
       "4        покупка   коммерческий   недвижимость \\n  NaN  \n",
       "5                покупка   жилье   для   сдача \\n  NaN  \n",
       "6                         операция   с   жилье \\n  NaN  \n",
       "7   операция   с   коммерческий   недвижимость \\n  NaN  \n",
       "8                                        жилье \\n  NaN  \n",
       "9                              покупка   жилье \\n  NaN  \n",
       "10               покупка   жилье   для   семья \\n  NaN  \n",
       "11                                недвижимость \\n  NaN  \n",
       "12  строительство   собственный   недвижимость \\n  NaN  \n",
       "13         операция   со   свой   недвижимость \\n  NaN  \n",
       "14        строительство   жилой   недвижимость \\n  NaN  \n",
       "15                строительство   недвижимость \\n  NaN  \n",
       "16                      покупка   недвижимость \\n  NaN  \n",
       "17                      покупка   свой   жилье \\n  NaN  \n",
       "18                              ремонт   жилье \\n  NaN  \n",
       "19              покупка   жилой   недвижимость \\n  NaN  \n",
       "20            на   покупка   свой   автомобиль \\n  NaN  \n",
       "21          заниматься   высокий   образование \\n  NaN  \n",
       "22                                  автомобиль \\n  NaN  \n",
       "23       сделка   с   подержанный   автомобиль \\n  NaN  \n",
       "24                                  автомобиль \\n  NaN  \n",
       "25                           свой   автомобиль \\n  NaN  \n",
       "26       на   покупка   подержать   автомобиль \\n  NaN  \n",
       "27                   на   покупка   автомобиль \\n  NaN  \n",
       "28                   приобретение   автомобиль \\n  NaN  \n",
       "29                дополнительный   образование \\n  NaN  \n",
       "30                     сделка   с   автомобиль \\n  NaN  \n",
       "31                       высокий   образование \\n  NaN  \n",
       "32    получение   дополнительный   образование \\n  NaN  \n",
       "33                                 образование \\n  NaN  \n",
       "34                     получение   образование \\n  NaN  \n",
       "35                    профильный   образование \\n  NaN  \n",
       "36           получение   высокий   образование \\n  NaN  \n",
       "37                    заниматься   образование \\n  NaN  "
      ]
     },
     "metadata": {},
     "output_type": "display_data"
    }
   ],
   "source": [
    "from pymystem3 import Mystem\n",
    "m = Mystem()\n",
    "from collections import Counter\n",
    "\n",
    "columns = ['original', 'lemms', 'good']\n",
    "purpose_list = pd.DataFrame(data=[],columns=columns)\n",
    "purpose_list['original'] = data['purpose'].value_counts().index\n",
    "\n",
    "for i in purpose_list.index:\n",
    "    purpose_list.loc[i,'lemms'] = ' '.join(m.lemmatize(purpose_list.loc[i, 'original']))\n",
    "display(purpose_list)"
   ]
  },
  {
   "cell_type": "code",
   "execution_count": 38,
   "id": "011e9c79",
   "metadata": {},
   "outputs": [],
   "source": [
    "dict_lem_purpose = dict({'свадьба':'проведение свадьбы', \n",
    "                    'жилье':'операции с недвижимостью', \n",
    "                    'недвижимость':'операции с недвижимостью',\n",
    "                    'автомобиль':'операции с автомобилем', \n",
    "                    'образование':'получение образования'})"
   ]
  },
  {
   "cell_type": "markdown",
   "id": "5f50f150",
   "metadata": {},
   "source": [
    "Нужна функция, которая будет менять значение столбца, на значение из словаря выше, используя цикл который мы написали выше."
   ]
  },
  {
   "cell_type": "code",
   "execution_count": 39,
   "id": "a89746bb",
   "metadata": {},
   "outputs": [],
   "source": [
    "def make_good_category_str(row):\n",
    "    str_lem_list = m.lemmatize(row)\n",
    "    for lem in str_lem_list:\n",
    "        if lem in dict_lem_purpose.keys():\n",
    "            #print(lem, dict_lem_purpose[lem], str_lem_list)\n",
    "            return dict_lem_purpose[lem]"
   ]
  },
  {
   "cell_type": "markdown",
   "id": "700e7ea1",
   "metadata": {},
   "source": [
    "Применим функцию к столбцу целей."
   ]
  },
  {
   "cell_type": "code",
   "execution_count": 40,
   "id": "d334afa1",
   "metadata": {},
   "outputs": [],
   "source": [
    "data['purpose_category'] = data['purpose'].apply(make_good_category_str)"
   ]
  },
  {
   "cell_type": "markdown",
   "id": "8720dc8f",
   "metadata": {},
   "source": [
    "Теперь проверим уникальные значения в \"целях\" и выведем на экран парочку значений."
   ]
  },
  {
   "cell_type": "code",
   "execution_count": 41,
   "id": "3cb83b0e",
   "metadata": {},
   "outputs": [
    {
     "name": "stdout",
     "output_type": "stream",
     "text": [
      "операции с недвижимостью    10780\n",
      "операции с автомобилем       4288\n",
      "получение образования        3997\n",
      "проведение свадьбы           2337\n",
      "Name: purpose_category, dtype: int64\n",
      "\n"
     ]
    }
   ],
   "source": [
    "print(data['purpose_category'].value_counts())\n",
    "print()"
   ]
  },
  {
   "cell_type": "markdown",
   "id": "07c1f177",
   "metadata": {},
   "source": [
    "По итогам лемматизации у нас теперь 4 цели кредитования. \n",
    "\n",
    "недвижимость - 10733\n",
    "автомобиль - 4267\n",
    "образование - 3979\n",
    "свадьба - 2323"
   ]
  },
  {
   "cell_type": "code",
   "execution_count": 42,
   "id": "10961bd6",
   "metadata": {},
   "outputs": [
    {
     "data": {
      "text/plain": [
       "71"
      ]
     },
     "execution_count": 42,
     "metadata": {},
     "output_type": "execute_result"
    }
   ],
   "source": [
    "# Код ревьюера\n",
    "data.duplicated().sum()"
   ]
  },
  {
   "cell_type": "code",
   "execution_count": 43,
   "id": "8234e5ab",
   "metadata": {},
   "outputs": [
    {
     "data": {
      "text/plain": [
       "0"
      ]
     },
     "execution_count": 43,
     "metadata": {},
     "output_type": "execute_result"
    }
   ],
   "source": [
    "data = data.drop_duplicates()\n",
    "data.duplicated().sum()"
   ]
  },
  {
   "cell_type": "markdown",
   "id": "b17c2c3d",
   "metadata": {},
   "source": [
    "## Категоризация данных"
   ]
  },
  {
   "cell_type": "markdown",
   "id": "5567e4a3",
   "metadata": {},
   "source": [
    "Для категоризации подходят два столбца \"dob_years\" и \"total_income\"."
   ]
  },
  {
   "cell_type": "code",
   "execution_count": 44,
   "id": "b0b15b46",
   "metadata": {},
   "outputs": [
    {
     "name": "stdout",
     "output_type": "stream",
     "text": [
      "count    2.133100e+04\n",
      "mean     1.653427e+05\n",
      "std      9.831399e+04\n",
      "min      2.066700e+04\n",
      "25%      1.075070e+05\n",
      "50%      1.425940e+05\n",
      "75%      1.958420e+05\n",
      "max      2.265604e+06\n",
      "Name: total_income, dtype: float64\n"
     ]
    }
   ],
   "source": [
    "print(data['total_income'].describe())"
   ]
  },
  {
   "cell_type": "markdown",
   "id": "3813ec25",
   "metadata": {},
   "source": [
    "Чтобы разбить на категории, нужно разделить доход на категории. Для этого разобьем его по процентам и сделаем несколько категорий."
   ]
  },
  {
   "cell_type": "markdown",
   "id": "bf210405",
   "metadata": {},
   "source": [
    "'E': (0–30000); \n",
    "'D'(30001–50000); \n",
    "'C'(50001–200000); \n",
    "'B'(200001–1000000); \n",
    "'A'(>1000001); "
   ]
  },
  {
   "cell_type": "code",
   "execution_count": 45,
   "id": "0cc16b69",
   "metadata": {},
   "outputs": [
    {
     "name": "stdout",
     "output_type": "stream",
     "text": [
      "\n",
      "Процент дохода 2% = 51396\n",
      "Процент дохода 5% = 64561\n",
      "Процент дохода 8% = 73243\n",
      "Процент дохода 11% = 80722\n",
      "Процент дохода 14% = 86732\n",
      "Процент дохода 17% = 92788\n",
      "Процент дохода 20% = 98514\n",
      "Процент дохода 23% = 103778\n",
      "Процент дохода 26% = 109386\n",
      "Процент дохода 29% = 114249\n",
      "Процент дохода 32% = 118514\n",
      "Процент дохода 35% = 122507\n",
      "Процент дохода 38% = 128479\n",
      "Процент дохода 41% = 133961\n",
      "Процент дохода 44% = 139465\n",
      "Процент дохода 47% = 142594\n",
      "Процент дохода 50% = 142594\n",
      "Процент дохода 53% = 147211\n",
      "Процент дохода 56% = 152752\n",
      "Процент дохода 59% = 159265\n",
      "Процент дохода 62% = 165499\n",
      "Процент дохода 65% = 172357\n",
      "Процент дохода 68% = 174091\n",
      "Процент дохода 71% = 182837\n",
      "Процент дохода 74% = 192490\n",
      "Процент дохода 77% = 202080\n",
      "Процент дохода 80% = 214604\n",
      "Процент дохода 83% = 227554\n",
      "Процент дохода 86% = 243851\n",
      "Процент дохода 89% = 262404\n",
      "Процент дохода 92% = 287071\n",
      "Процент дохода 95% = 331767\n",
      "Процент дохода 98% = 421901\n"
     ]
    }
   ],
   "source": [
    "print()\n",
    "for proc in range(2,100,3):\n",
    "    quant = int(data['total_income'].quantile(proc/100))\n",
    "    print(f'Процент дохода {proc}% = {quant}')"
   ]
  },
  {
   "cell_type": "code",
   "execution_count": 46,
   "id": "db7d73b3",
   "metadata": {},
   "outputs": [
    {
     "data": {
      "text/html": [
       "<div>\n",
       "<style scoped>\n",
       "    .dataframe tbody tr th:only-of-type {\n",
       "        vertical-align: middle;\n",
       "    }\n",
       "\n",
       "    .dataframe tbody tr th {\n",
       "        vertical-align: top;\n",
       "    }\n",
       "\n",
       "    .dataframe thead th {\n",
       "        text-align: right;\n",
       "    }\n",
       "</style>\n",
       "<table border=\"1\" class=\"dataframe\">\n",
       "  <thead>\n",
       "    <tr style=\"text-align: right;\">\n",
       "      <th></th>\n",
       "      <th>children</th>\n",
       "      <th>dob_years</th>\n",
       "      <th>education</th>\n",
       "      <th>education_id</th>\n",
       "      <th>family_status</th>\n",
       "      <th>family_status_id</th>\n",
       "      <th>gender</th>\n",
       "      <th>income_type</th>\n",
       "      <th>debt</th>\n",
       "      <th>total_income</th>\n",
       "      <th>purpose</th>\n",
       "      <th>purpose_category</th>\n",
       "      <th>income_rating</th>\n",
       "      <th>income_rating_id</th>\n",
       "    </tr>\n",
       "  </thead>\n",
       "  <tbody>\n",
       "    <tr>\n",
       "      <td>0</td>\n",
       "      <td>1</td>\n",
       "      <td>42</td>\n",
       "      <td>высшее</td>\n",
       "      <td>0</td>\n",
       "      <td>женат / замужем</td>\n",
       "      <td>0</td>\n",
       "      <td>F</td>\n",
       "      <td>сотрудник</td>\n",
       "      <td>False</td>\n",
       "      <td>253875</td>\n",
       "      <td>покупка жилья</td>\n",
       "      <td>операции с недвижимостью</td>\n",
       "      <td>B</td>\n",
       "      <td>2</td>\n",
       "    </tr>\n",
       "    <tr>\n",
       "      <td>1</td>\n",
       "      <td>1</td>\n",
       "      <td>36</td>\n",
       "      <td>среднее</td>\n",
       "      <td>1</td>\n",
       "      <td>женат / замужем</td>\n",
       "      <td>0</td>\n",
       "      <td>F</td>\n",
       "      <td>сотрудник</td>\n",
       "      <td>False</td>\n",
       "      <td>112080</td>\n",
       "      <td>приобретение автомобиля</td>\n",
       "      <td>операции с автомобилем</td>\n",
       "      <td>C</td>\n",
       "      <td>2</td>\n",
       "    </tr>\n",
       "    <tr>\n",
       "      <td>2</td>\n",
       "      <td>0</td>\n",
       "      <td>33</td>\n",
       "      <td>среднее</td>\n",
       "      <td>1</td>\n",
       "      <td>женат / замужем</td>\n",
       "      <td>0</td>\n",
       "      <td>M</td>\n",
       "      <td>сотрудник</td>\n",
       "      <td>False</td>\n",
       "      <td>145885</td>\n",
       "      <td>покупка жилья</td>\n",
       "      <td>операции с недвижимостью</td>\n",
       "      <td>C</td>\n",
       "      <td>2</td>\n",
       "    </tr>\n",
       "    <tr>\n",
       "      <td>3</td>\n",
       "      <td>3</td>\n",
       "      <td>32</td>\n",
       "      <td>среднее</td>\n",
       "      <td>1</td>\n",
       "      <td>женат / замужем</td>\n",
       "      <td>0</td>\n",
       "      <td>M</td>\n",
       "      <td>сотрудник</td>\n",
       "      <td>False</td>\n",
       "      <td>267628</td>\n",
       "      <td>дополнительное образование</td>\n",
       "      <td>получение образования</td>\n",
       "      <td>B</td>\n",
       "      <td>2</td>\n",
       "    </tr>\n",
       "    <tr>\n",
       "      <td>4</td>\n",
       "      <td>0</td>\n",
       "      <td>53</td>\n",
       "      <td>среднее</td>\n",
       "      <td>1</td>\n",
       "      <td>гражданский брак</td>\n",
       "      <td>1</td>\n",
       "      <td>F</td>\n",
       "      <td>пенсионер</td>\n",
       "      <td>False</td>\n",
       "      <td>158616</td>\n",
       "      <td>сыграть свадьбу</td>\n",
       "      <td>проведение свадьбы</td>\n",
       "      <td>C</td>\n",
       "      <td>2</td>\n",
       "    </tr>\n",
       "  </tbody>\n",
       "</table>\n",
       "</div>"
      ],
      "text/plain": [
       "   children  dob_years education  education_id     family_status  \\\n",
       "0         1         42    высшее             0   женат / замужем   \n",
       "1         1         36   среднее             1   женат / замужем   \n",
       "2         0         33   среднее             1   женат / замужем   \n",
       "3         3         32   среднее             1   женат / замужем   \n",
       "4         0         53   среднее             1  гражданский брак   \n",
       "\n",
       "   family_status_id gender income_type   debt  total_income  \\\n",
       "0                 0      F   сотрудник  False        253875   \n",
       "1                 0      F   сотрудник  False        112080   \n",
       "2                 0      M   сотрудник  False        145885   \n",
       "3                 0      M   сотрудник  False        267628   \n",
       "4                 1      F   пенсионер  False        158616   \n",
       "\n",
       "                      purpose          purpose_category income_rating  \\\n",
       "0               покупка жилья  операции с недвижимостью             B   \n",
       "1     приобретение автомобиля    операции с автомобилем             C   \n",
       "2               покупка жилья  операции с недвижимостью             C   \n",
       "3  дополнительное образование     получение образования             B   \n",
       "4             сыграть свадьбу        проведение свадьбы             C   \n",
       "\n",
       "   income_rating_id  \n",
       "0                 2  \n",
       "1                 2  \n",
       "2                 2  \n",
       "3                 2  \n",
       "4                 2  "
      ]
     },
     "metadata": {},
     "output_type": "display_data"
    },
    {
     "name": "stdout",
     "output_type": "stream",
     "text": [
      "<class 'pandas.core.frame.DataFrame'>\n",
      "Int64Index: 21331 entries, 0 to 21401\n",
      "Data columns (total 14 columns):\n",
      "children            21331 non-null int64\n",
      "dob_years           21331 non-null int64\n",
      "education           21331 non-null object\n",
      "education_id        21331 non-null int64\n",
      "family_status       21331 non-null object\n",
      "family_status_id    21331 non-null int64\n",
      "gender              21331 non-null object\n",
      "income_type         21331 non-null object\n",
      "debt                21331 non-null bool\n",
      "total_income        21331 non-null int64\n",
      "purpose             21331 non-null object\n",
      "purpose_category    21331 non-null object\n",
      "income_rating       21331 non-null object\n",
      "income_rating_id    21331 non-null int64\n",
      "dtypes: bool(1), int64(6), object(7)\n",
      "memory usage: 2.3+ MB\n"
     ]
    }
   ],
   "source": [
    "data['income_rating'] = 'NaN'\n",
    "data['income_rating_id'] = 'NaN'\n",
    "data.loc[data['total_income'] < 30000, ['income_rating', 'income_rating_id']] = ['E', 1]\n",
    "data.loc[(30001 <= data['total_income']) & ( data['total_income'] < 50000), ['income_rating', 'income_rating_id']] = ['D', 2]\n",
    "data.loc[(50001 <= data['total_income']) & ( data['total_income'] < 200000), ['income_rating', 'income_rating_id']] = ['C', 2]\n",
    "data.loc[(200001 <= data['total_income']) & ( data['total_income'] < 1000000), ['income_rating', 'income_rating_id']] = ['B', 2]\n",
    "data.loc[(1000001 <= data['total_income']), ['income_rating', 'income_rating_id']] = ['A', 2]\n",
    "display(data.head())\n",
    "data.info()"
   ]
  },
  {
   "cell_type": "markdown",
   "id": "8dcc5e84",
   "metadata": {},
   "source": [
    "Разбили доходы на 5 категорий.\n",
    "Добавили рейтинг с обозначением от \"А\" до \"С\", в отдельно созданном столбце."
   ]
  },
  {
   "cell_type": "markdown",
   "id": "66fc94a8",
   "metadata": {},
   "source": [
    "### Ответы на вопросы."
   ]
  },
  {
   "cell_type": "markdown",
   "id": "5173da66",
   "metadata": {},
   "source": [
    "#### Есть ли зависимость между количеством детей и возвратом кредита в срок?:"
   ]
  },
  {
   "cell_type": "markdown",
   "id": "a2d90a21",
   "metadata": {},
   "source": [
    "Составим сводную таблицу методом .pivot_table. Необходимые столбцы - 'children' и 'debt'."
   ]
  },
  {
   "cell_type": "code",
   "execution_count": 47,
   "id": "215a2244",
   "metadata": {},
   "outputs": [
    {
     "data": {
      "text/html": [
       "<div>\n",
       "<style scoped>\n",
       "    .dataframe tbody tr th:only-of-type {\n",
       "        vertical-align: middle;\n",
       "    }\n",
       "\n",
       "    .dataframe tbody tr th {\n",
       "        vertical-align: top;\n",
       "    }\n",
       "\n",
       "    .dataframe thead th {\n",
       "        text-align: right;\n",
       "    }\n",
       "</style>\n",
       "<table border=\"1\" class=\"dataframe\">\n",
       "  <thead>\n",
       "    <tr style=\"text-align: right;\">\n",
       "      <th>children</th>\n",
       "      <th>0</th>\n",
       "      <th>1</th>\n",
       "      <th>2</th>\n",
       "      <th>3</th>\n",
       "      <th>4</th>\n",
       "      <th>5</th>\n",
       "    </tr>\n",
       "  </thead>\n",
       "  <tbody>\n",
       "    <tr>\n",
       "      <td>debt</td>\n",
       "      <td>1063.0</td>\n",
       "      <td>444.0</td>\n",
       "      <td>194.0</td>\n",
       "      <td>27.0</td>\n",
       "      <td>4.0</td>\n",
       "      <td>0.0</td>\n",
       "    </tr>\n",
       "  </tbody>\n",
       "</table>\n",
       "</div>"
      ],
      "text/plain": [
       "children       0      1      2     3    4    5\n",
       "debt      1063.0  444.0  194.0  27.0  4.0  0.0"
      ]
     },
     "metadata": {},
     "output_type": "display_data"
    }
   ],
   "source": [
    "data_children = data.pivot_table( columns='children', values='debt', aggfunc='sum')\n",
    "display(data_children)"
   ]
  },
  {
   "cell_type": "markdown",
   "id": "2f7f47e5",
   "metadata": {},
   "source": [
    "Собственно наглядно видно, что чем больше детей, тем меньше просрочек по платежам. Вероятнее всего наличие детей дисциплинирует и самих родителей."
   ]
  },
  {
   "cell_type": "markdown",
   "id": "d32c5f0e",
   "metadata": {},
   "source": [
    "#### Есть ли зависимость между семейным положением и возвратом кредита в срок?"
   ]
  },
  {
   "cell_type": "code",
   "execution_count": 48,
   "id": "3137a9a2",
   "metadata": {},
   "outputs": [
    {
     "name": "stdout",
     "output_type": "stream",
     "text": [
      "family_status_id  family_status        \n",
      "0                 женат / замужем          927.0\n",
      "1                 гражданский брак         385.0\n",
      "2                 вдовец / вдова            63.0\n",
      "3                 в разводе                 84.0\n",
      "4                 Не женат / не замужем    273.0\n",
      "Name: debt, dtype: float64\n"
     ]
    }
   ],
   "source": [
    "data_family_status = data.groupby(['family_status_id', 'family_status'])['debt'].sum()\n",
    "print(data_family_status)"
   ]
  },
  {
   "cell_type": "markdown",
   "id": "eb59b138",
   "metadata": {},
   "source": [
    "Выше всего просрочки у того кто женат или замужем. Наименьшие просрочки у людей в статусе вдовы/вдовца."
   ]
  },
  {
   "cell_type": "markdown",
   "id": "ced98959",
   "metadata": {},
   "source": [
    "#### Есть ли зависимость между уровнем дохода и возвратом кредита в срок?"
   ]
  },
  {
   "cell_type": "code",
   "execution_count": 49,
   "id": "10f2fe0b",
   "metadata": {},
   "outputs": [
    {
     "name": "stdout",
     "output_type": "stream",
     "text": [
      "income_rating_id  income_rating\n",
      "1                 E                   2.0\n",
      "2                 A                   2.0\n",
      "                  B                 354.0\n",
      "                  C                1353.0\n",
      "                  D                  21.0\n",
      "Name: debt, dtype: float64\n"
     ]
    }
   ],
   "source": [
    "data_income_rating = data.groupby(['income_rating_id', 'income_rating'])['debt'].sum()\n",
    "print(data_income_rating)"
   ]
  },
  {
   "cell_type": "markdown",
   "id": "9f933c27",
   "metadata": {},
   "source": [
    "Просрочки чаще всего встречаются у населения со средним кредитным рейтингом. У малого и высокого рейтинга в целом картина более приемлемая."
   ]
  },
  {
   "cell_type": "markdown",
   "id": "236df08b",
   "metadata": {},
   "source": [
    "#### Как цели кредита влияют на возврат в срок?"
   ]
  },
  {
   "cell_type": "code",
   "execution_count": 50,
   "id": "1c391fd3",
   "metadata": {},
   "outputs": [
    {
     "name": "stdout",
     "output_type": "stream",
     "text": [
      "                           debt                 \n",
      "                            sum  count    part,%\n",
      "purpose_category                                \n",
      "операции с автомобилем    400.0   4279  9.347978\n",
      "операции с недвижимостью  780.0  10751  7.255139\n",
      "получение образования     369.0   3988  9.252758\n",
      "проведение свадьбы        183.0   2313  7.911803\n"
     ]
    }
   ],
   "source": [
    "data_purpose = data.groupby(['purpose_category']).agg({'debt':['sum', 'count']})\n",
    "data_purpose[('debt', 'part,%')] = data_purpose[('debt', 'sum')] / data_purpose[('debt', 'count')]*100\n",
    "print(data_purpose)"
   ]
  },
  {
   "cell_type": "markdown",
   "id": "bb32c4c7",
   "metadata": {},
   "source": [
    "Больше всего просрочек по кредитам в категории \"недвижимость\". Но в процентном соотношении \"автомобили\" и \"образование\" лидируют.\n",
    "Недвижимость скорее всего лидирует из-за ипотек. Большие платежи на очень большой срок имеют большую вероятность быть не выплаченными в срок."
   ]
  },
  {
   "cell_type": "markdown",
   "id": "17aa566a",
   "metadata": {},
   "source": [
    "## Общий вывод:"
   ]
  },
  {
   "cell_type": "markdown",
   "id": "78fca1b4",
   "metadata": {},
   "source": [
    "Поставленные задачи выполнены. В ходе исследования мы проанализировали исходные данные. Нашли все пропуски, дубликаты, ошибки. Лемматизировали данные. Привели все к виду, необходимому для исследовательской работы. \n",
    "На основе полученных данных ответили на все поставленные вопросы вопросы и нашли закономерности, там где они имеются."
   ]
  },
  {
   "cell_type": "code",
   "execution_count": null,
   "id": "1a14863c",
   "metadata": {},
   "outputs": [],
   "source": []
  }
 ],
 "metadata": {
  "ExecuteTimeLog": [
   {
    "duration": 593,
    "start_time": "2022-03-05T19:28:11.585Z"
   },
   {
    "duration": 255,
    "start_time": "2022-03-05T19:29:51.965Z"
   },
   {
    "duration": 212,
    "start_time": "2022-03-05T19:30:06.859Z"
   },
   {
    "duration": 57,
    "start_time": "2022-03-07T07:17:44.927Z"
   },
   {
    "duration": 3,
    "start_time": "2022-03-07T07:21:44.829Z"
   },
   {
    "duration": 48,
    "start_time": "2022-03-07T07:23:24.301Z"
   },
   {
    "duration": 180,
    "start_time": "2022-03-07T07:23:29.360Z"
   },
   {
    "duration": 22,
    "start_time": "2022-03-07T07:23:40.786Z"
   },
   {
    "duration": 42,
    "start_time": "2022-03-07T07:24:03.785Z"
   },
   {
    "duration": 24,
    "start_time": "2022-03-07T07:24:07.782Z"
   },
   {
    "duration": 28,
    "start_time": "2022-03-07T07:25:02.081Z"
   },
   {
    "duration": 20,
    "start_time": "2022-03-07T07:25:24.204Z"
   },
   {
    "duration": 168,
    "start_time": "2022-03-07T07:26:04.853Z"
   },
   {
    "duration": 10,
    "start_time": "2022-03-07T07:26:11.347Z"
   },
   {
    "duration": 10,
    "start_time": "2022-03-07T07:26:39.648Z"
   },
   {
    "duration": 20,
    "start_time": "2022-03-07T07:28:57.255Z"
   },
   {
    "duration": 3,
    "start_time": "2022-03-07T07:33:29.177Z"
   },
   {
    "duration": 28,
    "start_time": "2022-03-07T07:35:40.320Z"
   },
   {
    "duration": 177,
    "start_time": "2022-03-07T07:38:02.091Z"
   },
   {
    "duration": 4,
    "start_time": "2022-03-07T07:38:15.126Z"
   },
   {
    "duration": 35,
    "start_time": "2022-03-07T07:39:39.056Z"
   },
   {
    "duration": 73,
    "start_time": "2022-03-07T07:47:15.489Z"
   },
   {
    "duration": 6,
    "start_time": "2022-03-07T07:51:03.483Z"
   },
   {
    "duration": 2,
    "start_time": "2022-03-07T07:58:56.680Z"
   },
   {
    "duration": 31,
    "start_time": "2022-03-07T08:02:46.317Z"
   },
   {
    "duration": 24,
    "start_time": "2022-03-07T08:05:15.048Z"
   },
   {
    "duration": 2,
    "start_time": "2022-03-07T08:06:33.505Z"
   },
   {
    "duration": 5,
    "start_time": "2022-03-07T08:07:24.195Z"
   },
   {
    "duration": 54,
    "start_time": "2022-03-07T08:09:28.512Z"
   },
   {
    "duration": 31,
    "start_time": "2022-03-07T08:09:41.586Z"
   },
   {
    "duration": 40,
    "start_time": "2022-03-07T08:09:46.235Z"
   },
   {
    "duration": 6,
    "start_time": "2022-03-07T08:12:18.610Z"
   },
   {
    "duration": 56,
    "start_time": "2022-03-07T08:24:52.564Z"
   },
   {
    "duration": 2,
    "start_time": "2022-03-07T08:28:08.223Z"
   },
   {
    "duration": 6,
    "start_time": "2022-03-07T08:30:25.867Z"
   },
   {
    "duration": 74,
    "start_time": "2022-03-07T08:30:49.791Z"
   },
   {
    "duration": 53,
    "start_time": "2022-03-07T08:31:27.937Z"
   },
   {
    "duration": 2,
    "start_time": "2022-03-07T08:31:34.140Z"
   },
   {
    "duration": 22,
    "start_time": "2022-03-07T08:32:16.514Z"
   },
   {
    "duration": 2,
    "start_time": "2022-03-07T08:33:19.588Z"
   },
   {
    "duration": 13,
    "start_time": "2022-03-07T08:34:23.638Z"
   },
   {
    "duration": 8,
    "start_time": "2022-03-07T08:34:40.500Z"
   },
   {
    "duration": 8,
    "start_time": "2022-03-07T08:35:03.578Z"
   },
   {
    "duration": 2,
    "start_time": "2022-03-07T08:42:59.712Z"
   },
   {
    "duration": 50,
    "start_time": "2022-03-07T08:43:06.862Z"
   },
   {
    "duration": 7,
    "start_time": "2022-03-07T08:45:10.933Z"
   },
   {
    "duration": 10,
    "start_time": "2022-03-07T08:45:27.839Z"
   },
   {
    "duration": 64,
    "start_time": "2022-03-07T08:56:26.995Z"
   },
   {
    "duration": 3,
    "start_time": "2022-03-07T08:56:46.914Z"
   },
   {
    "duration": 5,
    "start_time": "2022-03-07T08:58:15.487Z"
   },
   {
    "duration": 2,
    "start_time": "2022-03-07T08:58:45.499Z"
   },
   {
    "duration": 2,
    "start_time": "2022-03-07T08:58:53.388Z"
   },
   {
    "duration": 16,
    "start_time": "2022-03-07T09:03:58.814Z"
   },
   {
    "duration": 10,
    "start_time": "2022-03-07T09:05:22.367Z"
   },
   {
    "duration": 6,
    "start_time": "2022-03-07T09:05:57.942Z"
   },
   {
    "duration": 7,
    "start_time": "2022-03-07T09:06:07.387Z"
   },
   {
    "duration": 2,
    "start_time": "2022-03-07T09:11:00.258Z"
   },
   {
    "duration": 8,
    "start_time": "2022-03-07T09:11:48.085Z"
   },
   {
    "duration": 7,
    "start_time": "2022-03-07T09:11:57.607Z"
   },
   {
    "duration": 5,
    "start_time": "2022-03-07T09:12:04.342Z"
   },
   {
    "duration": 3,
    "start_time": "2022-03-07T09:17:40.738Z"
   },
   {
    "duration": 8,
    "start_time": "2022-03-07T09:18:09.237Z"
   },
   {
    "duration": 3,
    "start_time": "2022-03-07T09:19:20.332Z"
   },
   {
    "duration": 6,
    "start_time": "2022-03-07T09:19:44.517Z"
   },
   {
    "duration": 6,
    "start_time": "2022-03-07T09:25:57.946Z"
   },
   {
    "duration": 485,
    "start_time": "2022-03-07T09:26:04.919Z"
   },
   {
    "duration": 7,
    "start_time": "2022-03-07T09:30:54.361Z"
   },
   {
    "duration": 6,
    "start_time": "2022-03-07T09:33:00.884Z"
   },
   {
    "duration": 55,
    "start_time": "2022-03-07T09:34:41.951Z"
   },
   {
    "duration": 20,
    "start_time": "2022-03-07T09:35:45.945Z"
   },
   {
    "duration": 62,
    "start_time": "2022-03-07T09:36:23.087Z"
   },
   {
    "duration": 9,
    "start_time": "2022-03-07T09:36:30.879Z"
   },
   {
    "duration": 83,
    "start_time": "2022-03-07T09:36:55.778Z"
   },
   {
    "duration": 29,
    "start_time": "2022-03-07T09:37:18.396Z"
   },
   {
    "duration": 2,
    "start_time": "2022-03-07T09:42:31.801Z"
   },
   {
    "duration": 14,
    "start_time": "2022-03-07T09:43:11.696Z"
   },
   {
    "duration": 666,
    "start_time": "2022-03-07T09:43:59.837Z"
   },
   {
    "duration": 30,
    "start_time": "2022-03-07T09:44:00.505Z"
   },
   {
    "duration": 9,
    "start_time": "2022-03-07T09:44:00.537Z"
   },
   {
    "duration": 29,
    "start_time": "2022-03-07T09:44:00.548Z"
   },
   {
    "duration": 21,
    "start_time": "2022-03-07T09:44:00.578Z"
   },
   {
    "duration": 25,
    "start_time": "2022-03-07T09:44:00.601Z"
   },
   {
    "duration": 8,
    "start_time": "2022-03-07T09:44:00.628Z"
   },
   {
    "duration": 10,
    "start_time": "2022-03-07T09:44:00.638Z"
   },
   {
    "duration": 18,
    "start_time": "2022-03-07T09:44:00.650Z"
   },
   {
    "duration": 17,
    "start_time": "2022-03-07T09:44:00.670Z"
   },
   {
    "duration": 15,
    "start_time": "2022-03-07T09:44:00.688Z"
   },
   {
    "duration": 27,
    "start_time": "2022-03-07T09:44:00.704Z"
   },
   {
    "duration": 11,
    "start_time": "2022-03-07T09:44:00.733Z"
   },
   {
    "duration": 22,
    "start_time": "2022-03-07T09:44:00.746Z"
   },
   {
    "duration": 8,
    "start_time": "2022-03-07T09:45:58.511Z"
   },
   {
    "duration": 240,
    "start_time": "2022-03-07T09:46:08.074Z"
   },
   {
    "duration": 9,
    "start_time": "2022-03-07T09:46:42.832Z"
   },
   {
    "duration": 8,
    "start_time": "2022-03-07T09:47:48.709Z"
   },
   {
    "duration": 8,
    "start_time": "2022-03-07T09:48:57.222Z"
   },
   {
    "duration": 53,
    "start_time": "2022-03-07T09:49:43.510Z"
   },
   {
    "duration": 53,
    "start_time": "2022-03-07T09:49:59.093Z"
   },
   {
    "duration": 75,
    "start_time": "2022-03-07T09:50:04.919Z"
   },
   {
    "duration": 59,
    "start_time": "2022-03-07T09:50:18.330Z"
   },
   {
    "duration": 8,
    "start_time": "2022-03-07T09:50:49.484Z"
   },
   {
    "duration": 5,
    "start_time": "2022-03-07T09:58:32.936Z"
   },
   {
    "duration": 10,
    "start_time": "2022-03-07T09:58:42.144Z"
   },
   {
    "duration": 5,
    "start_time": "2022-03-07T09:59:13.197Z"
   },
   {
    "duration": 52,
    "start_time": "2022-03-07T09:59:44.144Z"
   },
   {
    "duration": 12,
    "start_time": "2022-03-07T09:59:52.442Z"
   },
   {
    "duration": 4,
    "start_time": "2022-03-07T10:00:14.510Z"
   },
   {
    "duration": 167,
    "start_time": "2022-03-07T10:01:00.911Z"
   },
   {
    "duration": 4,
    "start_time": "2022-03-07T10:01:13.762Z"
   },
   {
    "duration": 6,
    "start_time": "2022-03-07T10:01:26.453Z"
   },
   {
    "duration": 167,
    "start_time": "2022-03-07T10:01:31.605Z"
   },
   {
    "duration": 5,
    "start_time": "2022-03-07T10:01:41.869Z"
   },
   {
    "duration": 168,
    "start_time": "2022-03-07T10:01:54.985Z"
   },
   {
    "duration": 166,
    "start_time": "2022-03-07T10:02:28.453Z"
   },
   {
    "duration": 164,
    "start_time": "2022-03-07T10:02:36.344Z"
   },
   {
    "duration": 162,
    "start_time": "2022-03-07T10:02:46.943Z"
   },
   {
    "duration": 192,
    "start_time": "2022-03-07T10:02:52.670Z"
   },
   {
    "duration": 445,
    "start_time": "2022-03-07T10:03:02.791Z"
   },
   {
    "duration": 58,
    "start_time": "2022-03-07T10:03:28.821Z"
   },
   {
    "duration": 5,
    "start_time": "2022-03-07T10:03:34.412Z"
   },
   {
    "duration": 66,
    "start_time": "2022-03-07T10:04:12.681Z"
   },
   {
    "duration": 57,
    "start_time": "2022-03-07T10:07:07.787Z"
   },
   {
    "duration": 171,
    "start_time": "2022-03-07T10:07:14.206Z"
   },
   {
    "duration": 171,
    "start_time": "2022-03-07T10:09:21.164Z"
   },
   {
    "duration": 5,
    "start_time": "2022-03-07T10:09:26.011Z"
   },
   {
    "duration": 4,
    "start_time": "2022-03-07T10:09:39.995Z"
   },
   {
    "duration": 172,
    "start_time": "2022-03-07T10:09:46.764Z"
   },
   {
    "duration": 4,
    "start_time": "2022-03-07T10:10:01.142Z"
   },
   {
    "duration": 8,
    "start_time": "2022-03-07T10:10:45.246Z"
   },
   {
    "duration": 54,
    "start_time": "2022-03-07T10:11:10.514Z"
   },
   {
    "duration": 6,
    "start_time": "2022-03-07T10:11:15.287Z"
   },
   {
    "duration": 18,
    "start_time": "2022-03-07T10:11:39.013Z"
   },
   {
    "duration": 2,
    "start_time": "2022-03-07T10:16:24.101Z"
   },
   {
    "duration": 5,
    "start_time": "2022-03-07T10:17:06.144Z"
   },
   {
    "duration": 601,
    "start_time": "2022-03-07T10:17:14.473Z"
   },
   {
    "duration": 25,
    "start_time": "2022-03-07T10:17:15.076Z"
   },
   {
    "duration": 8,
    "start_time": "2022-03-07T10:17:15.103Z"
   },
   {
    "duration": 4,
    "start_time": "2022-03-07T10:17:15.113Z"
   },
   {
    "duration": 9,
    "start_time": "2022-03-07T10:17:15.118Z"
   },
   {
    "duration": 35,
    "start_time": "2022-03-07T10:17:15.129Z"
   },
   {
    "duration": 7,
    "start_time": "2022-03-07T10:17:15.166Z"
   },
   {
    "duration": 7,
    "start_time": "2022-03-07T10:17:15.175Z"
   },
   {
    "duration": 7,
    "start_time": "2022-03-07T10:17:15.184Z"
   },
   {
    "duration": 9,
    "start_time": "2022-03-07T10:17:15.193Z"
   },
   {
    "duration": 8,
    "start_time": "2022-03-07T10:17:15.203Z"
   },
   {
    "duration": 10,
    "start_time": "2022-03-07T10:17:15.212Z"
   },
   {
    "duration": 43,
    "start_time": "2022-03-07T10:17:15.224Z"
   },
   {
    "duration": 9,
    "start_time": "2022-03-07T10:17:15.269Z"
   },
   {
    "duration": 5,
    "start_time": "2022-03-07T10:17:15.280Z"
   },
   {
    "duration": 14,
    "start_time": "2022-03-07T10:17:52.729Z"
   },
   {
    "duration": 12,
    "start_time": "2022-03-07T10:18:45.100Z"
   },
   {
    "duration": 2,
    "start_time": "2022-03-07T10:20:41.559Z"
   },
   {
    "duration": 6,
    "start_time": "2022-03-07T10:21:25.699Z"
   },
   {
    "duration": 10,
    "start_time": "2022-03-07T10:22:06.729Z"
   },
   {
    "duration": 8,
    "start_time": "2022-03-07T10:22:14.602Z"
   },
   {
    "duration": 14,
    "start_time": "2022-03-07T10:22:24.873Z"
   },
   {
    "duration": 8,
    "start_time": "2022-03-07T12:07:38.462Z"
   },
   {
    "duration": 6,
    "start_time": "2022-03-07T12:07:54.082Z"
   },
   {
    "duration": 13,
    "start_time": "2022-03-07T12:09:37.437Z"
   },
   {
    "duration": 8,
    "start_time": "2022-03-07T12:10:24.068Z"
   },
   {
    "duration": 13,
    "start_time": "2022-03-07T12:10:50.709Z"
   },
   {
    "duration": 13,
    "start_time": "2022-03-07T12:11:02.508Z"
   },
   {
    "duration": 8,
    "start_time": "2022-03-07T12:11:35.952Z"
   },
   {
    "duration": 22,
    "start_time": "2022-03-07T12:11:46.727Z"
   },
   {
    "duration": 9,
    "start_time": "2022-03-07T12:11:53.993Z"
   },
   {
    "duration": 9,
    "start_time": "2022-03-07T12:14:27.547Z"
   },
   {
    "duration": 9,
    "start_time": "2022-03-07T12:14:34.535Z"
   },
   {
    "duration": 9,
    "start_time": "2022-03-07T12:14:40.025Z"
   },
   {
    "duration": 8,
    "start_time": "2022-03-07T12:14:46.928Z"
   },
   {
    "duration": 6,
    "start_time": "2022-03-07T12:14:56.098Z"
   },
   {
    "duration": 6,
    "start_time": "2022-03-07T12:15:43.374Z"
   },
   {
    "duration": 7,
    "start_time": "2022-03-07T12:15:55.329Z"
   },
   {
    "duration": 22,
    "start_time": "2022-03-07T12:16:31.848Z"
   },
   {
    "duration": 54,
    "start_time": "2022-03-07T12:18:21.186Z"
   },
   {
    "duration": 14,
    "start_time": "2022-03-07T12:19:37.541Z"
   },
   {
    "duration": 16,
    "start_time": "2022-03-07T12:25:35.387Z"
   },
   {
    "duration": 18,
    "start_time": "2022-03-07T12:25:42.980Z"
   },
   {
    "duration": 17,
    "start_time": "2022-03-07T12:26:38.160Z"
   },
   {
    "duration": 17,
    "start_time": "2022-03-07T12:26:50.743Z"
   },
   {
    "duration": 17,
    "start_time": "2022-03-07T12:28:26.094Z"
   },
   {
    "duration": 18,
    "start_time": "2022-03-07T12:31:04.674Z"
   },
   {
    "duration": 6,
    "start_time": "2022-03-07T12:43:31.463Z"
   },
   {
    "duration": 3,
    "start_time": "2022-03-07T12:45:27.825Z"
   },
   {
    "duration": 20,
    "start_time": "2022-03-07T12:45:50.213Z"
   },
   {
    "duration": 14,
    "start_time": "2022-03-07T12:48:47.424Z"
   },
   {
    "duration": 21,
    "start_time": "2022-03-07T12:49:37.841Z"
   },
   {
    "duration": 80,
    "start_time": "2022-03-07T12:51:44.922Z"
   },
   {
    "duration": 8,
    "start_time": "2022-03-07T12:52:33.595Z"
   },
   {
    "duration": 62,
    "start_time": "2022-03-07T12:53:43.904Z"
   },
   {
    "duration": 20,
    "start_time": "2022-03-07T12:54:07.908Z"
   },
   {
    "duration": 15,
    "start_time": "2022-03-07T12:55:20.621Z"
   },
   {
    "duration": 12,
    "start_time": "2022-03-07T12:55:51.126Z"
   },
   {
    "duration": 10,
    "start_time": "2022-03-07T12:56:02.545Z"
   },
   {
    "duration": 6,
    "start_time": "2022-03-07T12:58:38.756Z"
   },
   {
    "duration": 12,
    "start_time": "2022-03-07T13:01:37.399Z"
   },
   {
    "duration": 11,
    "start_time": "2022-03-07T13:02:08.219Z"
   },
   {
    "duration": 76,
    "start_time": "2022-03-07T13:04:15.058Z"
   },
   {
    "duration": 237,
    "start_time": "2022-03-07T13:07:54.553Z"
   },
   {
    "duration": 21,
    "start_time": "2022-03-07T13:08:34.975Z"
   },
   {
    "duration": 16,
    "start_time": "2022-03-07T13:09:16.210Z"
   },
   {
    "duration": 18,
    "start_time": "2022-03-07T13:09:58.940Z"
   },
   {
    "duration": 17,
    "start_time": "2022-03-07T13:11:24.818Z"
   },
   {
    "duration": 282,
    "start_time": "2022-03-07T13:13:25.974Z"
   },
   {
    "duration": 315,
    "start_time": "2022-03-07T13:13:55.531Z"
   },
   {
    "duration": 323,
    "start_time": "2022-03-07T13:14:00.420Z"
   },
   {
    "duration": 70,
    "start_time": "2022-03-07T13:14:07.351Z"
   },
   {
    "duration": 332,
    "start_time": "2022-03-07T13:14:12.464Z"
   },
   {
    "duration": 15,
    "start_time": "2022-03-07T13:14:21.037Z"
   },
   {
    "duration": 16,
    "start_time": "2022-03-07T13:14:54.432Z"
   },
   {
    "duration": 17,
    "start_time": "2022-03-07T13:15:05.774Z"
   },
   {
    "duration": 16,
    "start_time": "2022-03-07T13:15:21.916Z"
   },
   {
    "duration": 14,
    "start_time": "2022-03-07T13:15:28.134Z"
   },
   {
    "duration": 16,
    "start_time": "2022-03-07T13:16:57.922Z"
   },
   {
    "duration": 311,
    "start_time": "2022-03-07T13:17:13.305Z"
   },
   {
    "duration": 77,
    "start_time": "2022-03-07T13:17:22.661Z"
   },
   {
    "duration": 82,
    "start_time": "2022-03-07T13:17:57.888Z"
   },
   {
    "duration": 64,
    "start_time": "2022-03-07T13:18:15.046Z"
   },
   {
    "duration": 22,
    "start_time": "2022-03-07T13:18:48.313Z"
   },
   {
    "duration": 21,
    "start_time": "2022-03-07T13:19:14.521Z"
   },
   {
    "duration": 600,
    "start_time": "2022-03-07T13:20:21.205Z"
   },
   {
    "duration": 27,
    "start_time": "2022-03-07T13:20:21.807Z"
   },
   {
    "duration": 8,
    "start_time": "2022-03-07T13:20:21.836Z"
   },
   {
    "duration": 3,
    "start_time": "2022-03-07T13:20:21.846Z"
   },
   {
    "duration": 17,
    "start_time": "2022-03-07T13:20:21.850Z"
   },
   {
    "duration": 17,
    "start_time": "2022-03-07T13:20:21.869Z"
   },
   {
    "duration": 6,
    "start_time": "2022-03-07T13:20:21.887Z"
   },
   {
    "duration": 7,
    "start_time": "2022-03-07T13:20:21.895Z"
   },
   {
    "duration": 4,
    "start_time": "2022-03-07T13:20:21.904Z"
   },
   {
    "duration": 8,
    "start_time": "2022-03-07T13:20:21.910Z"
   },
   {
    "duration": 7,
    "start_time": "2022-03-07T13:20:21.919Z"
   },
   {
    "duration": 38,
    "start_time": "2022-03-07T13:20:21.928Z"
   },
   {
    "duration": 17,
    "start_time": "2022-03-07T13:20:21.968Z"
   },
   {
    "duration": 9,
    "start_time": "2022-03-07T13:20:21.987Z"
   },
   {
    "duration": 12,
    "start_time": "2022-03-07T13:20:21.998Z"
   },
   {
    "duration": 9,
    "start_time": "2022-03-07T13:20:22.012Z"
   },
   {
    "duration": 19,
    "start_time": "2022-03-07T13:20:22.023Z"
   },
   {
    "duration": 20,
    "start_time": "2022-03-07T13:20:22.064Z"
   },
   {
    "duration": 5,
    "start_time": "2022-03-07T13:20:22.086Z"
   },
   {
    "duration": 17,
    "start_time": "2022-03-07T13:20:22.092Z"
   },
   {
    "duration": 54,
    "start_time": "2022-03-07T13:20:22.111Z"
   },
   {
    "duration": 134,
    "start_time": "2022-03-07T13:20:22.167Z"
   },
   {
    "duration": 11,
    "start_time": "2022-03-07T13:20:22.304Z"
   },
   {
    "duration": 11,
    "start_time": "2022-03-07T13:20:22.317Z"
   },
   {
    "duration": 6,
    "start_time": "2022-03-07T13:20:22.330Z"
   },
   {
    "duration": 17,
    "start_time": "2022-03-07T13:20:22.364Z"
   },
   {
    "duration": 15,
    "start_time": "2022-03-07T13:20:22.383Z"
   },
   {
    "duration": 264,
    "start_time": "2022-03-07T13:20:22.400Z"
   },
   {
    "duration": 24,
    "start_time": "2022-03-07T14:17:24.381Z"
   },
   {
    "duration": 88,
    "start_time": "2022-03-07T14:17:43.230Z"
   },
   {
    "duration": 63,
    "start_time": "2022-03-07T14:17:48.457Z"
   },
   {
    "duration": 67,
    "start_time": "2022-03-07T14:17:53.434Z"
   },
   {
    "duration": 15,
    "start_time": "2022-03-07T14:18:06.537Z"
   },
   {
    "duration": 332,
    "start_time": "2022-03-07T14:18:37.437Z"
   },
   {
    "duration": 14,
    "start_time": "2022-03-07T14:19:13.931Z"
   },
   {
    "duration": 624,
    "start_time": "2022-03-07T14:19:22.859Z"
   },
   {
    "duration": 28,
    "start_time": "2022-03-07T14:19:23.486Z"
   },
   {
    "duration": 9,
    "start_time": "2022-03-07T14:19:23.516Z"
   },
   {
    "duration": 3,
    "start_time": "2022-03-07T14:19:23.527Z"
   },
   {
    "duration": 32,
    "start_time": "2022-03-07T14:19:23.532Z"
   },
   {
    "duration": 9,
    "start_time": "2022-03-07T14:19:23.565Z"
   },
   {
    "duration": 6,
    "start_time": "2022-03-07T14:19:23.576Z"
   },
   {
    "duration": 15,
    "start_time": "2022-03-07T14:19:23.584Z"
   },
   {
    "duration": 7,
    "start_time": "2022-03-07T14:19:23.601Z"
   },
   {
    "duration": 12,
    "start_time": "2022-03-07T14:19:23.609Z"
   },
   {
    "duration": 6,
    "start_time": "2022-03-07T14:19:23.623Z"
   },
   {
    "duration": 34,
    "start_time": "2022-03-07T14:19:23.630Z"
   },
   {
    "duration": 4,
    "start_time": "2022-03-07T14:19:23.666Z"
   },
   {
    "duration": 9,
    "start_time": "2022-03-07T14:19:23.672Z"
   },
   {
    "duration": 12,
    "start_time": "2022-03-07T14:19:23.683Z"
   },
   {
    "duration": 6,
    "start_time": "2022-03-07T14:19:23.697Z"
   },
   {
    "duration": 24,
    "start_time": "2022-03-07T14:19:23.705Z"
   },
   {
    "duration": 45,
    "start_time": "2022-03-07T14:19:23.731Z"
   },
   {
    "duration": 5,
    "start_time": "2022-03-07T14:19:23.779Z"
   },
   {
    "duration": 27,
    "start_time": "2022-03-07T14:19:23.786Z"
   },
   {
    "duration": 54,
    "start_time": "2022-03-07T14:19:23.815Z"
   },
   {
    "duration": 109,
    "start_time": "2022-03-07T14:19:23.870Z"
   },
   {
    "duration": 12,
    "start_time": "2022-03-07T14:19:23.983Z"
   },
   {
    "duration": 19,
    "start_time": "2022-03-07T14:19:23.997Z"
   },
   {
    "duration": 11,
    "start_time": "2022-03-07T14:19:24.018Z"
   },
   {
    "duration": 44,
    "start_time": "2022-03-07T14:19:24.031Z"
   },
   {
    "duration": 32,
    "start_time": "2022-03-07T14:19:24.078Z"
   },
   {
    "duration": 263,
    "start_time": "2022-03-07T14:19:24.112Z"
   },
   {
    "duration": 13,
    "start_time": "2022-03-07T14:21:23.675Z"
   },
   {
    "duration": 598,
    "start_time": "2022-03-07T14:21:52.970Z"
   },
   {
    "duration": 28,
    "start_time": "2022-03-07T14:21:53.570Z"
   },
   {
    "duration": 9,
    "start_time": "2022-03-07T14:21:53.602Z"
   },
   {
    "duration": 8,
    "start_time": "2022-03-07T14:21:53.612Z"
   },
   {
    "duration": 9,
    "start_time": "2022-03-07T14:21:53.621Z"
   },
   {
    "duration": 32,
    "start_time": "2022-03-07T14:21:53.631Z"
   },
   {
    "duration": 6,
    "start_time": "2022-03-07T14:21:53.666Z"
   },
   {
    "duration": 7,
    "start_time": "2022-03-07T14:21:53.675Z"
   },
   {
    "duration": 9,
    "start_time": "2022-03-07T14:21:53.684Z"
   },
   {
    "duration": 12,
    "start_time": "2022-03-07T14:21:53.694Z"
   },
   {
    "duration": 7,
    "start_time": "2022-03-07T14:21:53.707Z"
   },
   {
    "duration": 9,
    "start_time": "2022-03-07T14:21:53.716Z"
   },
   {
    "duration": 36,
    "start_time": "2022-03-07T14:21:53.727Z"
   },
   {
    "duration": 8,
    "start_time": "2022-03-07T14:21:53.765Z"
   },
   {
    "duration": 14,
    "start_time": "2022-03-07T14:21:53.774Z"
   },
   {
    "duration": 6,
    "start_time": "2022-03-07T14:21:53.790Z"
   },
   {
    "duration": 19,
    "start_time": "2022-03-07T14:21:53.797Z"
   },
   {
    "duration": 47,
    "start_time": "2022-03-07T14:21:53.818Z"
   },
   {
    "duration": 6,
    "start_time": "2022-03-07T14:21:53.868Z"
   },
   {
    "duration": 22,
    "start_time": "2022-03-07T14:21:53.876Z"
   },
   {
    "duration": 22,
    "start_time": "2022-03-07T14:21:53.900Z"
   },
   {
    "duration": 167,
    "start_time": "2022-03-07T14:21:53.926Z"
   },
   {
    "duration": 8,
    "start_time": "2022-03-07T14:21:54.095Z"
   },
   {
    "duration": 13,
    "start_time": "2022-03-07T14:21:54.105Z"
   },
   {
    "duration": 7,
    "start_time": "2022-03-07T14:21:54.120Z"
   },
   {
    "duration": 16,
    "start_time": "2022-03-07T14:21:54.129Z"
   },
   {
    "duration": 24,
    "start_time": "2022-03-07T14:21:54.147Z"
   },
   {
    "duration": 243,
    "start_time": "2022-03-07T14:21:54.173Z"
   },
   {
    "duration": 9,
    "start_time": "2022-03-07T14:23:19.585Z"
   },
   {
    "duration": 647,
    "start_time": "2022-03-07T14:23:27.761Z"
   },
   {
    "duration": 29,
    "start_time": "2022-03-07T14:23:28.410Z"
   },
   {
    "duration": 9,
    "start_time": "2022-03-07T14:23:28.442Z"
   },
   {
    "duration": 11,
    "start_time": "2022-03-07T14:23:28.453Z"
   },
   {
    "duration": 10,
    "start_time": "2022-03-07T14:23:28.466Z"
   },
   {
    "duration": 10,
    "start_time": "2022-03-07T14:23:28.478Z"
   },
   {
    "duration": 10,
    "start_time": "2022-03-07T14:23:28.490Z"
   },
   {
    "duration": 8,
    "start_time": "2022-03-07T14:23:28.503Z"
   },
   {
    "duration": 6,
    "start_time": "2022-03-07T14:23:28.513Z"
   },
   {
    "duration": 12,
    "start_time": "2022-03-07T14:23:28.521Z"
   },
   {
    "duration": 6,
    "start_time": "2022-03-07T14:23:28.563Z"
   },
   {
    "duration": 9,
    "start_time": "2022-03-07T14:23:28.571Z"
   },
   {
    "duration": 13,
    "start_time": "2022-03-07T14:23:28.582Z"
   },
   {
    "duration": 11,
    "start_time": "2022-03-07T14:23:28.597Z"
   },
   {
    "duration": 15,
    "start_time": "2022-03-07T14:23:28.609Z"
   },
   {
    "duration": 7,
    "start_time": "2022-03-07T14:23:28.625Z"
   },
   {
    "duration": 17,
    "start_time": "2022-03-07T14:23:28.663Z"
   },
   {
    "duration": 16,
    "start_time": "2022-03-07T14:23:28.682Z"
   },
   {
    "duration": 6,
    "start_time": "2022-03-07T14:23:28.699Z"
   },
   {
    "duration": 65,
    "start_time": "2022-03-07T14:23:28.706Z"
   },
   {
    "duration": 21,
    "start_time": "2022-03-07T14:23:28.773Z"
   },
   {
    "duration": 170,
    "start_time": "2022-03-07T14:23:28.796Z"
   },
   {
    "duration": 9,
    "start_time": "2022-03-07T14:23:28.968Z"
   },
   {
    "duration": 15,
    "start_time": "2022-03-07T14:23:28.979Z"
   },
   {
    "duration": 5,
    "start_time": "2022-03-07T14:23:28.995Z"
   },
   {
    "duration": 13,
    "start_time": "2022-03-07T14:23:29.001Z"
   },
   {
    "duration": 14,
    "start_time": "2022-03-07T14:23:29.016Z"
   },
   {
    "duration": 259,
    "start_time": "2022-03-07T14:23:29.032Z"
   },
   {
    "duration": 18,
    "start_time": "2022-03-07T14:24:13.206Z"
   },
   {
    "duration": 580,
    "start_time": "2022-03-07T14:24:22.783Z"
   },
   {
    "duration": 24,
    "start_time": "2022-03-07T14:24:23.365Z"
   },
   {
    "duration": 8,
    "start_time": "2022-03-07T14:24:23.391Z"
   },
   {
    "duration": 3,
    "start_time": "2022-03-07T14:24:23.400Z"
   },
   {
    "duration": 8,
    "start_time": "2022-03-07T14:24:23.404Z"
   },
   {
    "duration": 10,
    "start_time": "2022-03-07T14:24:23.413Z"
   },
   {
    "duration": 5,
    "start_time": "2022-03-07T14:24:23.425Z"
   },
   {
    "duration": 35,
    "start_time": "2022-03-07T14:24:23.432Z"
   },
   {
    "duration": 7,
    "start_time": "2022-03-07T14:24:23.469Z"
   },
   {
    "duration": 7,
    "start_time": "2022-03-07T14:24:23.478Z"
   },
   {
    "duration": 5,
    "start_time": "2022-03-07T14:24:23.486Z"
   },
   {
    "duration": 7,
    "start_time": "2022-03-07T14:24:23.493Z"
   },
   {
    "duration": 5,
    "start_time": "2022-03-07T14:24:23.501Z"
   },
   {
    "duration": 7,
    "start_time": "2022-03-07T14:24:23.508Z"
   },
   {
    "duration": 12,
    "start_time": "2022-03-07T14:24:23.517Z"
   },
   {
    "duration": 7,
    "start_time": "2022-03-07T14:24:23.563Z"
   },
   {
    "duration": 20,
    "start_time": "2022-03-07T14:24:23.571Z"
   },
   {
    "duration": 13,
    "start_time": "2022-03-07T14:24:23.593Z"
   },
   {
    "duration": 5,
    "start_time": "2022-03-07T14:24:23.608Z"
   },
   {
    "duration": 15,
    "start_time": "2022-03-07T14:24:23.614Z"
   },
   {
    "duration": 21,
    "start_time": "2022-03-07T14:24:23.663Z"
   },
   {
    "duration": 105,
    "start_time": "2022-03-07T14:24:23.686Z"
   },
   {
    "duration": 8,
    "start_time": "2022-03-07T14:24:23.793Z"
   },
   {
    "duration": 13,
    "start_time": "2022-03-07T14:24:23.803Z"
   },
   {
    "duration": 9,
    "start_time": "2022-03-07T14:24:23.817Z"
   },
   {
    "duration": 13,
    "start_time": "2022-03-07T14:24:23.828Z"
   },
   {
    "duration": 29,
    "start_time": "2022-03-07T14:24:23.843Z"
   },
   {
    "duration": 285,
    "start_time": "2022-03-07T14:24:23.873Z"
   },
   {
    "duration": 616,
    "start_time": "2022-03-07T14:24:49.464Z"
   },
   {
    "duration": 27,
    "start_time": "2022-03-07T14:24:50.082Z"
   },
   {
    "duration": 9,
    "start_time": "2022-03-07T14:24:50.111Z"
   },
   {
    "duration": 5,
    "start_time": "2022-03-07T14:24:50.121Z"
   },
   {
    "duration": 7,
    "start_time": "2022-03-07T14:24:50.128Z"
   },
   {
    "duration": 26,
    "start_time": "2022-03-07T14:24:50.137Z"
   },
   {
    "duration": 6,
    "start_time": "2022-03-07T14:24:50.164Z"
   },
   {
    "duration": 9,
    "start_time": "2022-03-07T14:24:50.172Z"
   },
   {
    "duration": 6,
    "start_time": "2022-03-07T14:24:50.183Z"
   },
   {
    "duration": 15,
    "start_time": "2022-03-07T14:24:50.190Z"
   },
   {
    "duration": 7,
    "start_time": "2022-03-07T14:24:50.207Z"
   },
   {
    "duration": 7,
    "start_time": "2022-03-07T14:24:50.215Z"
   },
   {
    "duration": 7,
    "start_time": "2022-03-07T14:24:50.223Z"
   },
   {
    "duration": 32,
    "start_time": "2022-03-07T14:24:50.232Z"
   },
   {
    "duration": 12,
    "start_time": "2022-03-07T14:24:50.265Z"
   },
   {
    "duration": 6,
    "start_time": "2022-03-07T14:24:50.279Z"
   },
   {
    "duration": 17,
    "start_time": "2022-03-07T14:24:50.286Z"
   },
   {
    "duration": 13,
    "start_time": "2022-03-07T14:24:50.305Z"
   },
   {
    "duration": 5,
    "start_time": "2022-03-07T14:24:50.319Z"
   },
   {
    "duration": 50,
    "start_time": "2022-03-07T14:24:50.325Z"
   },
   {
    "duration": 21,
    "start_time": "2022-03-07T14:24:50.377Z"
   },
   {
    "duration": 124,
    "start_time": "2022-03-07T14:24:50.400Z"
   },
   {
    "duration": 8,
    "start_time": "2022-03-07T14:24:50.527Z"
   },
   {
    "duration": 34,
    "start_time": "2022-03-07T14:24:50.537Z"
   },
   {
    "duration": 8,
    "start_time": "2022-03-07T14:24:50.573Z"
   },
   {
    "duration": 17,
    "start_time": "2022-03-07T14:24:50.583Z"
   },
   {
    "duration": 13,
    "start_time": "2022-03-07T14:24:50.601Z"
   },
   {
    "duration": 236,
    "start_time": "2022-03-07T14:24:50.615Z"
   },
   {
    "duration": 17,
    "start_time": "2022-03-07T14:25:48.429Z"
   },
   {
    "duration": 599,
    "start_time": "2022-03-07T14:25:53.719Z"
   },
   {
    "duration": 25,
    "start_time": "2022-03-07T14:25:54.320Z"
   },
   {
    "duration": 8,
    "start_time": "2022-03-07T14:25:54.347Z"
   },
   {
    "duration": 2,
    "start_time": "2022-03-07T14:25:54.363Z"
   },
   {
    "duration": 7,
    "start_time": "2022-03-07T14:25:54.367Z"
   },
   {
    "duration": 8,
    "start_time": "2022-03-07T14:25:54.376Z"
   },
   {
    "duration": 6,
    "start_time": "2022-03-07T14:25:54.386Z"
   },
   {
    "duration": 8,
    "start_time": "2022-03-07T14:25:54.394Z"
   },
   {
    "duration": 7,
    "start_time": "2022-03-07T14:25:54.403Z"
   },
   {
    "duration": 10,
    "start_time": "2022-03-07T14:25:54.411Z"
   },
   {
    "duration": 5,
    "start_time": "2022-03-07T14:25:54.422Z"
   },
   {
    "duration": 41,
    "start_time": "2022-03-07T14:25:54.429Z"
   },
   {
    "duration": 17,
    "start_time": "2022-03-07T14:25:54.472Z"
   },
   {
    "duration": 8,
    "start_time": "2022-03-07T14:25:54.491Z"
   },
   {
    "duration": 11,
    "start_time": "2022-03-07T14:25:54.501Z"
   },
   {
    "duration": 5,
    "start_time": "2022-03-07T14:25:54.514Z"
   },
   {
    "duration": 15,
    "start_time": "2022-03-07T14:25:54.521Z"
   },
   {
    "duration": 37,
    "start_time": "2022-03-07T14:25:54.538Z"
   },
   {
    "duration": 5,
    "start_time": "2022-03-07T14:25:54.576Z"
   },
   {
    "duration": 15,
    "start_time": "2022-03-07T14:25:54.583Z"
   },
   {
    "duration": 18,
    "start_time": "2022-03-07T14:25:54.599Z"
   },
   {
    "duration": 116,
    "start_time": "2022-03-07T14:25:54.619Z"
   },
   {
    "duration": 25,
    "start_time": "2022-03-07T14:25:54.738Z"
   },
   {
    "duration": 12,
    "start_time": "2022-03-07T14:25:54.765Z"
   },
   {
    "duration": 7,
    "start_time": "2022-03-07T14:25:54.778Z"
   },
   {
    "duration": 13,
    "start_time": "2022-03-07T14:25:54.787Z"
   },
   {
    "duration": 12,
    "start_time": "2022-03-07T14:25:54.801Z"
   },
   {
    "duration": 259,
    "start_time": "2022-03-07T14:25:54.814Z"
   },
   {
    "duration": 635,
    "start_time": "2022-03-07T14:26:38.160Z"
   },
   {
    "duration": 26,
    "start_time": "2022-03-07T14:26:38.796Z"
   },
   {
    "duration": 8,
    "start_time": "2022-03-07T14:26:38.825Z"
   },
   {
    "duration": 2,
    "start_time": "2022-03-07T14:26:38.834Z"
   },
   {
    "duration": 25,
    "start_time": "2022-03-07T14:26:38.838Z"
   },
   {
    "duration": 9,
    "start_time": "2022-03-07T14:26:38.864Z"
   },
   {
    "duration": 8,
    "start_time": "2022-03-07T14:26:38.874Z"
   },
   {
    "duration": 7,
    "start_time": "2022-03-07T14:26:38.884Z"
   },
   {
    "duration": 4,
    "start_time": "2022-03-07T14:26:38.893Z"
   },
   {
    "duration": 9,
    "start_time": "2022-03-07T14:26:38.899Z"
   },
   {
    "duration": 5,
    "start_time": "2022-03-07T14:26:38.910Z"
   },
   {
    "duration": 6,
    "start_time": "2022-03-07T14:26:38.917Z"
   },
   {
    "duration": 42,
    "start_time": "2022-03-07T14:26:38.925Z"
   },
   {
    "duration": 11,
    "start_time": "2022-03-07T14:26:38.969Z"
   },
   {
    "duration": 18,
    "start_time": "2022-03-07T14:26:38.982Z"
   },
   {
    "duration": 8,
    "start_time": "2022-03-07T14:26:39.002Z"
   },
   {
    "duration": 52,
    "start_time": "2022-03-07T14:26:39.012Z"
   },
   {
    "duration": 16,
    "start_time": "2022-03-07T14:26:39.066Z"
   },
   {
    "duration": 6,
    "start_time": "2022-03-07T14:26:39.083Z"
   },
   {
    "duration": 15,
    "start_time": "2022-03-07T14:26:39.090Z"
   },
   {
    "duration": 61,
    "start_time": "2022-03-07T14:26:39.107Z"
   },
   {
    "duration": 111,
    "start_time": "2022-03-07T14:26:39.170Z"
   },
   {
    "duration": 8,
    "start_time": "2022-03-07T14:26:39.284Z"
   },
   {
    "duration": 10,
    "start_time": "2022-03-07T14:26:39.294Z"
   },
   {
    "duration": 4,
    "start_time": "2022-03-07T14:26:39.306Z"
   },
   {
    "duration": 13,
    "start_time": "2022-03-07T14:26:39.311Z"
   },
   {
    "duration": 41,
    "start_time": "2022-03-07T14:26:39.326Z"
   },
   {
    "duration": 235,
    "start_time": "2022-03-07T14:26:39.370Z"
   },
   {
    "duration": 585,
    "start_time": "2022-03-07T14:27:05.887Z"
   },
   {
    "duration": 26,
    "start_time": "2022-03-07T14:27:06.474Z"
   },
   {
    "duration": 8,
    "start_time": "2022-03-07T14:27:06.502Z"
   },
   {
    "duration": 7,
    "start_time": "2022-03-07T14:27:06.512Z"
   },
   {
    "duration": 7,
    "start_time": "2022-03-07T14:27:06.520Z"
   },
   {
    "duration": 8,
    "start_time": "2022-03-07T14:27:06.529Z"
   },
   {
    "duration": 5,
    "start_time": "2022-03-07T14:27:06.538Z"
   },
   {
    "duration": 6,
    "start_time": "2022-03-07T14:27:06.562Z"
   },
   {
    "duration": 5,
    "start_time": "2022-03-07T14:27:06.570Z"
   },
   {
    "duration": 7,
    "start_time": "2022-03-07T14:27:06.577Z"
   },
   {
    "duration": 7,
    "start_time": "2022-03-07T14:27:06.585Z"
   },
   {
    "duration": 9,
    "start_time": "2022-03-07T14:27:06.593Z"
   },
   {
    "duration": 5,
    "start_time": "2022-03-07T14:27:06.604Z"
   },
   {
    "duration": 8,
    "start_time": "2022-03-07T14:27:06.611Z"
   },
   {
    "duration": 54,
    "start_time": "2022-03-07T14:27:06.620Z"
   },
   {
    "duration": 6,
    "start_time": "2022-03-07T14:27:06.677Z"
   },
   {
    "duration": 19,
    "start_time": "2022-03-07T14:27:06.685Z"
   },
   {
    "duration": 14,
    "start_time": "2022-03-07T14:27:06.706Z"
   },
   {
    "duration": 42,
    "start_time": "2022-03-07T14:27:06.722Z"
   },
   {
    "duration": 16,
    "start_time": "2022-03-07T14:27:06.766Z"
   },
   {
    "duration": 21,
    "start_time": "2022-03-07T14:27:06.783Z"
   },
   {
    "duration": 120,
    "start_time": "2022-03-07T14:27:06.806Z"
   },
   {
    "duration": 8,
    "start_time": "2022-03-07T14:27:06.930Z"
   },
   {
    "duration": 10,
    "start_time": "2022-03-07T14:27:06.964Z"
   },
   {
    "duration": 6,
    "start_time": "2022-03-07T14:27:06.976Z"
   },
   {
    "duration": 12,
    "start_time": "2022-03-07T14:27:06.984Z"
   },
   {
    "duration": 17,
    "start_time": "2022-03-07T14:27:06.998Z"
   },
   {
    "duration": 262,
    "start_time": "2022-03-07T14:27:07.017Z"
   },
   {
    "duration": 629,
    "start_time": "2022-03-07T14:27:24.519Z"
   },
   {
    "duration": 27,
    "start_time": "2022-03-07T14:27:25.149Z"
   },
   {
    "duration": 9,
    "start_time": "2022-03-07T14:27:25.177Z"
   },
   {
    "duration": 7,
    "start_time": "2022-03-07T14:27:25.188Z"
   },
   {
    "duration": 10,
    "start_time": "2022-03-07T14:27:25.196Z"
   },
   {
    "duration": 12,
    "start_time": "2022-03-07T14:27:25.207Z"
   },
   {
    "duration": 8,
    "start_time": "2022-03-07T14:27:25.220Z"
   },
   {
    "duration": 9,
    "start_time": "2022-03-07T14:27:25.230Z"
   },
   {
    "duration": 23,
    "start_time": "2022-03-07T14:27:25.241Z"
   },
   {
    "duration": 9,
    "start_time": "2022-03-07T14:27:25.266Z"
   },
   {
    "duration": 8,
    "start_time": "2022-03-07T14:27:25.277Z"
   },
   {
    "duration": 8,
    "start_time": "2022-03-07T14:27:25.286Z"
   },
   {
    "duration": 7,
    "start_time": "2022-03-07T14:27:25.296Z"
   },
   {
    "duration": 8,
    "start_time": "2022-03-07T14:27:25.305Z"
   },
   {
    "duration": 12,
    "start_time": "2022-03-07T14:27:25.315Z"
   },
   {
    "duration": 39,
    "start_time": "2022-03-07T14:27:25.328Z"
   },
   {
    "duration": 19,
    "start_time": "2022-03-07T14:27:25.369Z"
   },
   {
    "duration": 15,
    "start_time": "2022-03-07T14:27:25.390Z"
   },
   {
    "duration": 6,
    "start_time": "2022-03-07T14:27:25.406Z"
   },
   {
    "duration": 25,
    "start_time": "2022-03-07T14:27:25.414Z"
   },
   {
    "duration": 22,
    "start_time": "2022-03-07T14:27:25.463Z"
   },
   {
    "duration": 117,
    "start_time": "2022-03-07T14:27:25.487Z"
   },
   {
    "duration": 9,
    "start_time": "2022-03-07T14:27:25.607Z"
   },
   {
    "duration": 12,
    "start_time": "2022-03-07T14:27:25.617Z"
   },
   {
    "duration": 5,
    "start_time": "2022-03-07T14:27:25.630Z"
   },
   {
    "duration": 33,
    "start_time": "2022-03-07T14:27:25.637Z"
   },
   {
    "duration": 15,
    "start_time": "2022-03-07T14:27:25.672Z"
   },
   {
    "duration": 251,
    "start_time": "2022-03-07T14:27:25.689Z"
   },
   {
    "duration": 5,
    "start_time": "2022-03-07T14:28:28.483Z"
   },
   {
    "duration": 6,
    "start_time": "2022-03-07T14:33:02.915Z"
   },
   {
    "duration": 15,
    "start_time": "2022-03-07T14:33:53.754Z"
   },
   {
    "duration": 13,
    "start_time": "2022-03-07T14:33:58.934Z"
   },
   {
    "duration": 17,
    "start_time": "2022-03-07T14:34:10.404Z"
   },
   {
    "duration": 57,
    "start_time": "2022-03-07T14:35:25.600Z"
   },
   {
    "duration": 187,
    "start_time": "2022-03-07T14:36:52.706Z"
   },
   {
    "duration": 17,
    "start_time": "2022-03-07T14:37:50.276Z"
   },
   {
    "duration": 597,
    "start_time": "2022-03-07T14:38:22.985Z"
   },
   {
    "duration": 29,
    "start_time": "2022-03-07T14:38:23.584Z"
   },
   {
    "duration": 10,
    "start_time": "2022-03-07T14:38:23.616Z"
   },
   {
    "duration": 3,
    "start_time": "2022-03-07T14:38:23.628Z"
   },
   {
    "duration": 7,
    "start_time": "2022-03-07T14:38:23.633Z"
   },
   {
    "duration": 28,
    "start_time": "2022-03-07T14:38:23.641Z"
   },
   {
    "duration": 5,
    "start_time": "2022-03-07T14:38:23.671Z"
   },
   {
    "duration": 12,
    "start_time": "2022-03-07T14:38:23.679Z"
   },
   {
    "duration": 6,
    "start_time": "2022-03-07T14:38:23.693Z"
   },
   {
    "duration": 8,
    "start_time": "2022-03-07T14:38:23.701Z"
   },
   {
    "duration": 6,
    "start_time": "2022-03-07T14:38:23.711Z"
   },
   {
    "duration": 7,
    "start_time": "2022-03-07T14:38:23.719Z"
   },
   {
    "duration": 39,
    "start_time": "2022-03-07T14:38:23.727Z"
   },
   {
    "duration": 7,
    "start_time": "2022-03-07T14:38:23.768Z"
   },
   {
    "duration": 13,
    "start_time": "2022-03-07T14:38:23.776Z"
   },
   {
    "duration": 6,
    "start_time": "2022-03-07T14:38:23.790Z"
   },
   {
    "duration": 17,
    "start_time": "2022-03-07T14:38:23.798Z"
   },
   {
    "duration": 56,
    "start_time": "2022-03-07T14:38:23.816Z"
   },
   {
    "duration": 5,
    "start_time": "2022-03-07T14:38:23.873Z"
   },
   {
    "duration": 27,
    "start_time": "2022-03-07T14:38:23.880Z"
   },
   {
    "duration": 20,
    "start_time": "2022-03-07T14:38:23.909Z"
   },
   {
    "duration": 169,
    "start_time": "2022-03-07T14:38:23.931Z"
   },
   {
    "duration": 11,
    "start_time": "2022-03-07T14:38:24.104Z"
   },
   {
    "duration": 20,
    "start_time": "2022-03-07T14:38:24.117Z"
   },
   {
    "duration": 25,
    "start_time": "2022-03-07T14:38:24.139Z"
   },
   {
    "duration": 18,
    "start_time": "2022-03-07T14:38:24.166Z"
   },
   {
    "duration": 14,
    "start_time": "2022-03-07T14:38:24.185Z"
   },
   {
    "duration": 245,
    "start_time": "2022-03-07T14:38:24.201Z"
   },
   {
    "duration": 6,
    "start_time": "2022-03-07T14:38:24.447Z"
   },
   {
    "duration": 22,
    "start_time": "2022-03-07T14:38:24.454Z"
   },
   {
    "duration": 193,
    "start_time": "2022-03-07T14:38:24.477Z"
   },
   {
    "duration": 14,
    "start_time": "2022-03-07T14:39:08.366Z"
   },
   {
    "duration": 618,
    "start_time": "2022-03-07T14:39:13.688Z"
   },
   {
    "duration": 27,
    "start_time": "2022-03-07T14:39:14.308Z"
   },
   {
    "duration": 8,
    "start_time": "2022-03-07T14:39:14.337Z"
   },
   {
    "duration": 16,
    "start_time": "2022-03-07T14:39:14.347Z"
   },
   {
    "duration": 6,
    "start_time": "2022-03-07T14:39:14.365Z"
   },
   {
    "duration": 10,
    "start_time": "2022-03-07T14:39:14.372Z"
   },
   {
    "duration": 6,
    "start_time": "2022-03-07T14:39:14.383Z"
   },
   {
    "duration": 9,
    "start_time": "2022-03-07T14:39:14.391Z"
   },
   {
    "duration": 8,
    "start_time": "2022-03-07T14:39:14.403Z"
   },
   {
    "duration": 11,
    "start_time": "2022-03-07T14:39:14.413Z"
   },
   {
    "duration": 38,
    "start_time": "2022-03-07T14:39:14.426Z"
   },
   {
    "duration": 8,
    "start_time": "2022-03-07T14:39:14.466Z"
   },
   {
    "duration": 8,
    "start_time": "2022-03-07T14:39:14.476Z"
   },
   {
    "duration": 11,
    "start_time": "2022-03-07T14:39:14.486Z"
   },
   {
    "duration": 19,
    "start_time": "2022-03-07T14:39:14.498Z"
   },
   {
    "duration": 6,
    "start_time": "2022-03-07T14:39:14.519Z"
   },
   {
    "duration": 50,
    "start_time": "2022-03-07T14:39:14.528Z"
   },
   {
    "duration": 22,
    "start_time": "2022-03-07T14:39:14.580Z"
   },
   {
    "duration": 6,
    "start_time": "2022-03-07T14:39:14.604Z"
   },
   {
    "duration": 25,
    "start_time": "2022-03-07T14:39:14.612Z"
   },
   {
    "duration": 52,
    "start_time": "2022-03-07T14:39:14.639Z"
   },
   {
    "duration": 127,
    "start_time": "2022-03-07T14:39:14.693Z"
   },
   {
    "duration": 12,
    "start_time": "2022-03-07T14:39:14.823Z"
   },
   {
    "duration": 30,
    "start_time": "2022-03-07T14:39:14.837Z"
   },
   {
    "duration": 9,
    "start_time": "2022-03-07T14:39:14.869Z"
   },
   {
    "duration": 14,
    "start_time": "2022-03-07T14:39:14.879Z"
   },
   {
    "duration": 13,
    "start_time": "2022-03-07T14:39:14.894Z"
   },
   {
    "duration": 271,
    "start_time": "2022-03-07T14:39:14.908Z"
   },
   {
    "duration": 6,
    "start_time": "2022-03-07T14:39:15.180Z"
   },
   {
    "duration": 18,
    "start_time": "2022-03-07T14:39:15.188Z"
   },
   {
    "duration": 223,
    "start_time": "2022-03-07T14:39:15.208Z"
   },
   {
    "duration": 658,
    "start_time": "2022-03-07T14:40:38.232Z"
   },
   {
    "duration": 25,
    "start_time": "2022-03-07T14:40:38.892Z"
   },
   {
    "duration": 8,
    "start_time": "2022-03-07T14:40:38.919Z"
   },
   {
    "duration": 7,
    "start_time": "2022-03-07T14:40:38.929Z"
   },
   {
    "duration": 8,
    "start_time": "2022-03-07T14:40:38.938Z"
   },
   {
    "duration": 18,
    "start_time": "2022-03-07T14:40:38.947Z"
   },
   {
    "duration": 15,
    "start_time": "2022-03-07T14:40:38.967Z"
   },
   {
    "duration": 8,
    "start_time": "2022-03-07T14:40:38.985Z"
   },
   {
    "duration": 16,
    "start_time": "2022-03-07T14:40:38.995Z"
   },
   {
    "duration": 39,
    "start_time": "2022-03-07T14:40:39.013Z"
   },
   {
    "duration": 19,
    "start_time": "2022-03-07T14:40:39.054Z"
   },
   {
    "duration": 8,
    "start_time": "2022-03-07T14:40:39.075Z"
   },
   {
    "duration": 7,
    "start_time": "2022-03-07T14:40:39.084Z"
   },
   {
    "duration": 10,
    "start_time": "2022-03-07T14:40:39.093Z"
   },
   {
    "duration": 18,
    "start_time": "2022-03-07T14:40:39.105Z"
   },
   {
    "duration": 9,
    "start_time": "2022-03-07T14:40:39.125Z"
   },
   {
    "duration": 43,
    "start_time": "2022-03-07T14:40:39.136Z"
   },
   {
    "duration": 15,
    "start_time": "2022-03-07T14:40:39.181Z"
   },
   {
    "duration": 6,
    "start_time": "2022-03-07T14:40:39.197Z"
   },
   {
    "duration": 18,
    "start_time": "2022-03-07T14:40:39.205Z"
   },
   {
    "duration": 52,
    "start_time": "2022-03-07T14:40:39.225Z"
   },
   {
    "duration": 112,
    "start_time": "2022-03-07T14:40:39.279Z"
   },
   {
    "duration": 8,
    "start_time": "2022-03-07T14:40:39.394Z"
   },
   {
    "duration": 11,
    "start_time": "2022-03-07T14:40:39.404Z"
   },
   {
    "duration": 8,
    "start_time": "2022-03-07T14:40:39.417Z"
   },
   {
    "duration": 13,
    "start_time": "2022-03-07T14:40:39.427Z"
   },
   {
    "duration": 13,
    "start_time": "2022-03-07T14:40:39.463Z"
   },
   {
    "duration": 241,
    "start_time": "2022-03-07T14:40:39.477Z"
   },
   {
    "duration": 6,
    "start_time": "2022-03-07T14:40:39.720Z"
   },
   {
    "duration": 20,
    "start_time": "2022-03-07T14:40:39.727Z"
   },
   {
    "duration": 197,
    "start_time": "2022-03-07T14:40:39.749Z"
   },
   {
    "duration": 276,
    "start_time": "2022-03-07T14:43:33.899Z"
   },
   {
    "duration": 66,
    "start_time": "2022-03-07T14:43:43.913Z"
   },
   {
    "duration": 12,
    "start_time": "2022-03-07T14:43:49.684Z"
   },
   {
    "duration": 613,
    "start_time": "2022-03-07T14:46:07.663Z"
   },
   {
    "duration": 26,
    "start_time": "2022-03-07T14:46:08.278Z"
   },
   {
    "duration": 7,
    "start_time": "2022-03-07T14:46:08.306Z"
   },
   {
    "duration": 7,
    "start_time": "2022-03-07T14:46:08.315Z"
   },
   {
    "duration": 9,
    "start_time": "2022-03-07T14:46:08.324Z"
   },
   {
    "duration": 12,
    "start_time": "2022-03-07T14:46:08.334Z"
   },
   {
    "duration": 19,
    "start_time": "2022-03-07T14:46:08.347Z"
   },
   {
    "duration": 9,
    "start_time": "2022-03-07T14:46:08.368Z"
   },
   {
    "duration": 6,
    "start_time": "2022-03-07T14:46:08.379Z"
   },
   {
    "duration": 10,
    "start_time": "2022-03-07T14:46:08.386Z"
   },
   {
    "duration": 7,
    "start_time": "2022-03-07T14:46:08.397Z"
   },
   {
    "duration": 14,
    "start_time": "2022-03-07T14:46:08.405Z"
   },
   {
    "duration": 7,
    "start_time": "2022-03-07T14:46:08.421Z"
   },
   {
    "duration": 8,
    "start_time": "2022-03-07T14:46:08.430Z"
   },
   {
    "duration": 14,
    "start_time": "2022-03-07T14:46:08.463Z"
   },
   {
    "duration": 7,
    "start_time": "2022-03-07T14:46:08.478Z"
   },
   {
    "duration": 17,
    "start_time": "2022-03-07T14:46:08.487Z"
   },
   {
    "duration": 13,
    "start_time": "2022-03-07T14:46:08.505Z"
   },
   {
    "duration": 6,
    "start_time": "2022-03-07T14:46:08.520Z"
   },
   {
    "duration": 47,
    "start_time": "2022-03-07T14:46:08.528Z"
   },
   {
    "duration": 26,
    "start_time": "2022-03-07T14:46:08.576Z"
   },
   {
    "duration": 102,
    "start_time": "2022-03-07T14:46:08.604Z"
   },
   {
    "duration": 8,
    "start_time": "2022-03-07T14:46:08.709Z"
   },
   {
    "duration": 10,
    "start_time": "2022-03-07T14:46:08.719Z"
   },
   {
    "duration": 32,
    "start_time": "2022-03-07T14:46:08.731Z"
   },
   {
    "duration": 11,
    "start_time": "2022-03-07T14:46:08.765Z"
   },
   {
    "duration": 14,
    "start_time": "2022-03-07T14:46:08.778Z"
   },
   {
    "duration": 245,
    "start_time": "2022-03-07T14:46:08.794Z"
   },
   {
    "duration": 17,
    "start_time": "2022-03-07T14:46:09.041Z"
   },
   {
    "duration": 21,
    "start_time": "2022-03-07T14:46:09.062Z"
   },
   {
    "duration": 221,
    "start_time": "2022-03-07T14:46:09.085Z"
   },
   {
    "duration": 277,
    "start_time": "2022-03-07T14:53:12.994Z"
   },
   {
    "duration": 602,
    "start_time": "2022-03-07T14:53:20.071Z"
   },
   {
    "duration": 27,
    "start_time": "2022-03-07T14:53:20.675Z"
   },
   {
    "duration": 9,
    "start_time": "2022-03-07T14:53:20.704Z"
   },
   {
    "duration": 4,
    "start_time": "2022-03-07T14:53:20.715Z"
   },
   {
    "duration": 10,
    "start_time": "2022-03-07T14:53:20.720Z"
   },
   {
    "duration": 8,
    "start_time": "2022-03-07T14:53:20.732Z"
   },
   {
    "duration": 6,
    "start_time": "2022-03-07T14:53:20.763Z"
   },
   {
    "duration": 6,
    "start_time": "2022-03-07T14:53:20.772Z"
   },
   {
    "duration": 8,
    "start_time": "2022-03-07T14:53:20.780Z"
   },
   {
    "duration": 9,
    "start_time": "2022-03-07T14:53:20.790Z"
   },
   {
    "duration": 7,
    "start_time": "2022-03-07T14:53:20.801Z"
   },
   {
    "duration": 9,
    "start_time": "2022-03-07T14:53:20.810Z"
   },
   {
    "duration": 42,
    "start_time": "2022-03-07T14:53:20.821Z"
   },
   {
    "duration": 8,
    "start_time": "2022-03-07T14:53:20.865Z"
   },
   {
    "duration": 14,
    "start_time": "2022-03-07T14:53:20.875Z"
   },
   {
    "duration": 9,
    "start_time": "2022-03-07T14:53:20.891Z"
   },
   {
    "duration": 19,
    "start_time": "2022-03-07T14:53:20.901Z"
   },
   {
    "duration": 13,
    "start_time": "2022-03-07T14:53:20.922Z"
   },
   {
    "duration": 7,
    "start_time": "2022-03-07T14:53:20.963Z"
   },
   {
    "duration": 21,
    "start_time": "2022-03-07T14:53:20.971Z"
   },
   {
    "duration": 20,
    "start_time": "2022-03-07T14:53:20.994Z"
   },
   {
    "duration": 118,
    "start_time": "2022-03-07T14:53:21.015Z"
   },
   {
    "duration": 27,
    "start_time": "2022-03-07T14:53:21.136Z"
   },
   {
    "duration": 13,
    "start_time": "2022-03-07T14:53:21.166Z"
   },
   {
    "duration": 6,
    "start_time": "2022-03-07T14:53:21.180Z"
   },
   {
    "duration": 13,
    "start_time": "2022-03-07T14:53:21.188Z"
   },
   {
    "duration": 12,
    "start_time": "2022-03-07T14:53:21.203Z"
   },
   {
    "duration": 249,
    "start_time": "2022-03-07T14:53:21.217Z"
   },
   {
    "duration": 5,
    "start_time": "2022-03-07T14:53:21.468Z"
   },
   {
    "duration": 17,
    "start_time": "2022-03-07T14:53:21.474Z"
   },
   {
    "duration": 444,
    "start_time": "2022-03-07T14:53:21.493Z"
   },
   {
    "duration": 7,
    "start_time": "2022-03-07T14:53:53.098Z"
   },
   {
    "duration": 646,
    "start_time": "2022-03-07T14:54:04.377Z"
   },
   {
    "duration": 27,
    "start_time": "2022-03-07T14:54:05.025Z"
   },
   {
    "duration": 9,
    "start_time": "2022-03-07T14:54:05.062Z"
   },
   {
    "duration": 6,
    "start_time": "2022-03-07T14:54:05.072Z"
   },
   {
    "duration": 13,
    "start_time": "2022-03-07T14:54:05.079Z"
   },
   {
    "duration": 9,
    "start_time": "2022-03-07T14:54:05.094Z"
   },
   {
    "duration": 6,
    "start_time": "2022-03-07T14:54:05.105Z"
   },
   {
    "duration": 8,
    "start_time": "2022-03-07T14:54:05.114Z"
   },
   {
    "duration": 12,
    "start_time": "2022-03-07T14:54:05.124Z"
   },
   {
    "duration": 32,
    "start_time": "2022-03-07T14:54:05.138Z"
   },
   {
    "duration": 8,
    "start_time": "2022-03-07T14:54:05.172Z"
   },
   {
    "duration": 9,
    "start_time": "2022-03-07T14:54:05.181Z"
   },
   {
    "duration": 15,
    "start_time": "2022-03-07T14:54:05.191Z"
   },
   {
    "duration": 10,
    "start_time": "2022-03-07T14:54:05.207Z"
   },
   {
    "duration": 11,
    "start_time": "2022-03-07T14:54:05.219Z"
   },
   {
    "duration": 11,
    "start_time": "2022-03-07T14:54:05.231Z"
   },
   {
    "duration": 32,
    "start_time": "2022-03-07T14:54:05.243Z"
   },
   {
    "duration": 12,
    "start_time": "2022-03-07T14:54:05.276Z"
   },
   {
    "duration": 5,
    "start_time": "2022-03-07T14:54:05.290Z"
   },
   {
    "duration": 26,
    "start_time": "2022-03-07T14:54:05.296Z"
   },
   {
    "duration": 40,
    "start_time": "2022-03-07T14:54:05.324Z"
   },
   {
    "duration": 107,
    "start_time": "2022-03-07T14:54:05.366Z"
   },
   {
    "duration": 7,
    "start_time": "2022-03-07T14:54:05.476Z"
   },
   {
    "duration": 11,
    "start_time": "2022-03-07T14:54:05.485Z"
   },
   {
    "duration": 6,
    "start_time": "2022-03-07T14:54:05.497Z"
   },
   {
    "duration": 13,
    "start_time": "2022-03-07T14:54:05.504Z"
   },
   {
    "duration": 45,
    "start_time": "2022-03-07T14:54:05.519Z"
   },
   {
    "duration": 231,
    "start_time": "2022-03-07T14:54:05.566Z"
   },
   {
    "duration": 5,
    "start_time": "2022-03-07T14:54:05.799Z"
   },
   {
    "duration": 17,
    "start_time": "2022-03-07T14:54:05.806Z"
   },
   {
    "duration": 290,
    "start_time": "2022-03-07T14:54:05.824Z"
   },
   {
    "duration": 705,
    "start_time": "2022-03-07T14:54:41.481Z"
   },
   {
    "duration": 27,
    "start_time": "2022-03-07T14:54:42.188Z"
   },
   {
    "duration": 8,
    "start_time": "2022-03-07T14:54:42.216Z"
   },
   {
    "duration": 4,
    "start_time": "2022-03-07T14:54:42.226Z"
   },
   {
    "duration": 8,
    "start_time": "2022-03-07T14:54:42.231Z"
   },
   {
    "duration": 24,
    "start_time": "2022-03-07T14:54:42.240Z"
   },
   {
    "duration": 4,
    "start_time": "2022-03-07T14:54:42.266Z"
   },
   {
    "duration": 9,
    "start_time": "2022-03-07T14:54:42.273Z"
   },
   {
    "duration": 6,
    "start_time": "2022-03-07T14:54:42.284Z"
   },
   {
    "duration": 8,
    "start_time": "2022-03-07T14:54:42.291Z"
   },
   {
    "duration": 6,
    "start_time": "2022-03-07T14:54:42.300Z"
   },
   {
    "duration": 8,
    "start_time": "2022-03-07T14:54:42.307Z"
   },
   {
    "duration": 5,
    "start_time": "2022-03-07T14:54:42.317Z"
   },
   {
    "duration": 40,
    "start_time": "2022-03-07T14:54:42.323Z"
   },
   {
    "duration": 13,
    "start_time": "2022-03-07T14:54:42.365Z"
   },
   {
    "duration": 6,
    "start_time": "2022-03-07T14:54:42.380Z"
   },
   {
    "duration": 18,
    "start_time": "2022-03-07T14:54:42.387Z"
   },
   {
    "duration": 13,
    "start_time": "2022-03-07T14:54:42.406Z"
   },
   {
    "duration": 5,
    "start_time": "2022-03-07T14:54:42.421Z"
   },
   {
    "duration": 47,
    "start_time": "2022-03-07T14:54:42.428Z"
   },
   {
    "duration": 19,
    "start_time": "2022-03-07T14:54:42.477Z"
   },
   {
    "duration": 119,
    "start_time": "2022-03-07T14:54:42.497Z"
   },
   {
    "duration": 7,
    "start_time": "2022-03-07T14:54:42.619Z"
   },
   {
    "duration": 34,
    "start_time": "2022-03-07T14:54:42.629Z"
   },
   {
    "duration": 5,
    "start_time": "2022-03-07T14:54:42.665Z"
   },
   {
    "duration": 16,
    "start_time": "2022-03-07T14:54:42.672Z"
   },
   {
    "duration": 13,
    "start_time": "2022-03-07T14:54:42.690Z"
   },
   {
    "duration": 253,
    "start_time": "2022-03-07T14:54:42.705Z"
   },
   {
    "duration": 6,
    "start_time": "2022-03-07T14:54:42.963Z"
   },
   {
    "duration": 26,
    "start_time": "2022-03-07T14:54:42.971Z"
   },
   {
    "duration": 184,
    "start_time": "2022-03-07T14:54:42.998Z"
   },
   {
    "duration": 782,
    "start_time": "2022-03-07T14:55:54.284Z"
   },
   {
    "duration": 43,
    "start_time": "2022-03-07T14:55:55.068Z"
   },
   {
    "duration": 15,
    "start_time": "2022-03-07T14:55:55.114Z"
   },
   {
    "duration": 3,
    "start_time": "2022-03-07T14:55:55.132Z"
   },
   {
    "duration": 29,
    "start_time": "2022-03-07T14:55:55.137Z"
   },
   {
    "duration": 12,
    "start_time": "2022-03-07T14:55:55.168Z"
   },
   {
    "duration": 6,
    "start_time": "2022-03-07T14:55:55.181Z"
   },
   {
    "duration": 6,
    "start_time": "2022-03-07T14:55:55.190Z"
   },
   {
    "duration": 6,
    "start_time": "2022-03-07T14:55:55.199Z"
   },
   {
    "duration": 10,
    "start_time": "2022-03-07T14:55:55.207Z"
   },
   {
    "duration": 48,
    "start_time": "2022-03-07T14:55:55.218Z"
   },
   {
    "duration": 9,
    "start_time": "2022-03-07T14:55:55.268Z"
   },
   {
    "duration": 10,
    "start_time": "2022-03-07T14:55:55.279Z"
   },
   {
    "duration": 17,
    "start_time": "2022-03-07T14:55:55.291Z"
   },
   {
    "duration": 15,
    "start_time": "2022-03-07T14:55:55.310Z"
   },
   {
    "duration": 21,
    "start_time": "2022-03-07T14:55:55.327Z"
   },
   {
    "duration": 27,
    "start_time": "2022-03-07T14:55:55.363Z"
   },
   {
    "duration": 23,
    "start_time": "2022-03-07T14:55:55.392Z"
   },
   {
    "duration": 8,
    "start_time": "2022-03-07T14:55:55.417Z"
   },
   {
    "duration": 57,
    "start_time": "2022-03-07T14:55:55.428Z"
   },
   {
    "duration": 21,
    "start_time": "2022-03-07T14:55:55.487Z"
   },
   {
    "duration": 123,
    "start_time": "2022-03-07T14:55:55.510Z"
   },
   {
    "duration": 28,
    "start_time": "2022-03-07T14:55:55.637Z"
   },
   {
    "duration": 15,
    "start_time": "2022-03-07T14:55:55.668Z"
   },
   {
    "duration": 13,
    "start_time": "2022-03-07T14:55:55.685Z"
   },
   {
    "duration": 26,
    "start_time": "2022-03-07T14:55:55.700Z"
   },
   {
    "duration": 20,
    "start_time": "2022-03-07T14:55:55.727Z"
   },
   {
    "duration": 227,
    "start_time": "2022-03-07T14:55:55.748Z"
   },
   {
    "duration": 5,
    "start_time": "2022-03-07T14:55:55.977Z"
   },
   {
    "duration": 17,
    "start_time": "2022-03-07T14:55:55.983Z"
   },
   {
    "duration": 191,
    "start_time": "2022-03-07T14:55:56.001Z"
   },
   {
    "duration": 572,
    "start_time": "2022-03-07T14:56:37.212Z"
   },
   {
    "duration": 28,
    "start_time": "2022-03-07T14:56:37.786Z"
   },
   {
    "duration": 8,
    "start_time": "2022-03-07T14:56:37.817Z"
   },
   {
    "duration": 5,
    "start_time": "2022-03-07T14:56:37.827Z"
   },
   {
    "duration": 7,
    "start_time": "2022-03-07T14:56:37.834Z"
   },
   {
    "duration": 26,
    "start_time": "2022-03-07T14:56:37.842Z"
   },
   {
    "duration": 6,
    "start_time": "2022-03-07T14:56:37.869Z"
   },
   {
    "duration": 8,
    "start_time": "2022-03-07T14:56:37.877Z"
   },
   {
    "duration": 7,
    "start_time": "2022-03-07T14:56:37.887Z"
   },
   {
    "duration": 9,
    "start_time": "2022-03-07T14:56:37.896Z"
   },
   {
    "duration": 7,
    "start_time": "2022-03-07T14:56:37.907Z"
   },
   {
    "duration": 50,
    "start_time": "2022-03-07T14:56:37.915Z"
   },
   {
    "duration": 5,
    "start_time": "2022-03-07T14:56:37.966Z"
   },
   {
    "duration": 12,
    "start_time": "2022-03-07T14:56:37.972Z"
   },
   {
    "duration": 14,
    "start_time": "2022-03-07T14:56:37.985Z"
   },
   {
    "duration": 8,
    "start_time": "2022-03-07T14:56:38.000Z"
   },
   {
    "duration": 54,
    "start_time": "2022-03-07T14:56:38.010Z"
   },
   {
    "duration": 14,
    "start_time": "2022-03-07T14:56:38.066Z"
   },
   {
    "duration": 5,
    "start_time": "2022-03-07T14:56:38.082Z"
   },
   {
    "duration": 16,
    "start_time": "2022-03-07T14:56:38.089Z"
   },
   {
    "duration": 65,
    "start_time": "2022-03-07T14:56:38.107Z"
   },
   {
    "duration": 125,
    "start_time": "2022-03-07T14:56:38.173Z"
   },
   {
    "duration": 8,
    "start_time": "2022-03-07T14:56:38.301Z"
   },
   {
    "duration": 11,
    "start_time": "2022-03-07T14:56:38.311Z"
   },
   {
    "duration": 6,
    "start_time": "2022-03-07T14:56:38.323Z"
   },
   {
    "duration": 40,
    "start_time": "2022-03-07T14:56:38.330Z"
   },
   {
    "duration": 13,
    "start_time": "2022-03-07T14:56:38.371Z"
   },
   {
    "duration": 247,
    "start_time": "2022-03-07T14:56:38.386Z"
   },
   {
    "duration": 5,
    "start_time": "2022-03-07T14:56:38.635Z"
   },
   {
    "duration": 34,
    "start_time": "2022-03-07T14:56:38.641Z"
   },
   {
    "duration": 192,
    "start_time": "2022-03-07T14:56:38.677Z"
   },
   {
    "duration": 24,
    "start_time": "2022-03-07T15:00:06.940Z"
   },
   {
    "duration": 721,
    "start_time": "2022-03-07T15:02:17.729Z"
   },
   {
    "duration": 29,
    "start_time": "2022-03-07T15:02:18.453Z"
   },
   {
    "duration": 9,
    "start_time": "2022-03-07T15:02:18.484Z"
   },
   {
    "duration": 6,
    "start_time": "2022-03-07T15:02:18.495Z"
   },
   {
    "duration": 8,
    "start_time": "2022-03-07T15:02:18.502Z"
   },
   {
    "duration": 9,
    "start_time": "2022-03-07T15:02:18.512Z"
   },
   {
    "duration": 9,
    "start_time": "2022-03-07T15:02:18.522Z"
   },
   {
    "duration": 30,
    "start_time": "2022-03-07T15:02:18.533Z"
   },
   {
    "duration": 4,
    "start_time": "2022-03-07T15:02:18.565Z"
   },
   {
    "duration": 10,
    "start_time": "2022-03-07T15:02:18.571Z"
   },
   {
    "duration": 6,
    "start_time": "2022-03-07T15:02:18.583Z"
   },
   {
    "duration": 8,
    "start_time": "2022-03-07T15:02:18.591Z"
   },
   {
    "duration": 6,
    "start_time": "2022-03-07T15:02:18.601Z"
   },
   {
    "duration": 8,
    "start_time": "2022-03-07T15:02:18.609Z"
   },
   {
    "duration": 49,
    "start_time": "2022-03-07T15:02:18.618Z"
   },
   {
    "duration": 7,
    "start_time": "2022-03-07T15:02:18.669Z"
   },
   {
    "duration": 23,
    "start_time": "2022-03-07T15:02:18.678Z"
   },
   {
    "duration": 16,
    "start_time": "2022-03-07T15:02:18.703Z"
   },
   {
    "duration": 5,
    "start_time": "2022-03-07T15:02:18.721Z"
   },
   {
    "duration": 46,
    "start_time": "2022-03-07T15:02:18.728Z"
   },
   {
    "duration": 21,
    "start_time": "2022-03-07T15:02:18.776Z"
   },
   {
    "duration": 117,
    "start_time": "2022-03-07T15:02:18.798Z"
   },
   {
    "duration": 7,
    "start_time": "2022-03-07T15:02:18.919Z"
   },
   {
    "duration": 11,
    "start_time": "2022-03-07T15:02:18.928Z"
   },
   {
    "duration": 5,
    "start_time": "2022-03-07T15:02:18.963Z"
   },
   {
    "duration": 15,
    "start_time": "2022-03-07T15:02:18.970Z"
   },
   {
    "duration": 16,
    "start_time": "2022-03-07T15:02:18.987Z"
   },
   {
    "duration": 244,
    "start_time": "2022-03-07T15:02:19.005Z"
   },
   {
    "duration": 13,
    "start_time": "2022-03-07T15:02:19.250Z"
   },
   {
    "duration": 16,
    "start_time": "2022-03-07T15:02:19.265Z"
   },
   {
    "duration": 187,
    "start_time": "2022-03-07T15:02:19.283Z"
   },
   {
    "duration": 17,
    "start_time": "2022-03-07T15:02:19.471Z"
   },
   {
    "duration": 13,
    "start_time": "2022-03-07T15:03:44.290Z"
   },
   {
    "duration": 581,
    "start_time": "2022-03-07T15:03:54.288Z"
   },
   {
    "duration": 26,
    "start_time": "2022-03-07T15:03:54.871Z"
   },
   {
    "duration": 8,
    "start_time": "2022-03-07T15:03:54.899Z"
   },
   {
    "duration": 5,
    "start_time": "2022-03-07T15:03:54.909Z"
   },
   {
    "duration": 19,
    "start_time": "2022-03-07T15:03:54.915Z"
   },
   {
    "duration": 18,
    "start_time": "2022-03-07T15:03:54.935Z"
   },
   {
    "duration": 9,
    "start_time": "2022-03-07T15:03:54.954Z"
   },
   {
    "duration": 21,
    "start_time": "2022-03-07T15:03:54.965Z"
   },
   {
    "duration": 30,
    "start_time": "2022-03-07T15:03:54.988Z"
   },
   {
    "duration": 26,
    "start_time": "2022-03-07T15:03:55.020Z"
   },
   {
    "duration": 16,
    "start_time": "2022-03-07T15:03:55.048Z"
   },
   {
    "duration": 23,
    "start_time": "2022-03-07T15:03:55.065Z"
   },
   {
    "duration": 16,
    "start_time": "2022-03-07T15:03:55.090Z"
   },
   {
    "duration": 28,
    "start_time": "2022-03-07T15:03:55.108Z"
   },
   {
    "duration": 28,
    "start_time": "2022-03-07T15:03:55.137Z"
   },
   {
    "duration": 8,
    "start_time": "2022-03-07T15:03:55.166Z"
   },
   {
    "duration": 22,
    "start_time": "2022-03-07T15:03:55.176Z"
   },
   {
    "duration": 13,
    "start_time": "2022-03-07T15:03:55.199Z"
   },
   {
    "duration": 9,
    "start_time": "2022-03-07T15:03:55.213Z"
   },
   {
    "duration": 28,
    "start_time": "2022-03-07T15:03:55.223Z"
   },
   {
    "duration": 27,
    "start_time": "2022-03-07T15:03:55.253Z"
   },
   {
    "duration": 112,
    "start_time": "2022-03-07T15:03:55.282Z"
   },
   {
    "duration": 9,
    "start_time": "2022-03-07T15:03:55.398Z"
   },
   {
    "duration": 25,
    "start_time": "2022-03-07T15:03:55.410Z"
   },
   {
    "duration": 6,
    "start_time": "2022-03-07T15:03:55.438Z"
   },
   {
    "duration": 28,
    "start_time": "2022-03-07T15:03:55.446Z"
   },
   {
    "duration": 27,
    "start_time": "2022-03-07T15:03:55.476Z"
   },
   {
    "duration": 229,
    "start_time": "2022-03-07T15:03:55.505Z"
   },
   {
    "duration": 5,
    "start_time": "2022-03-07T15:03:55.735Z"
   },
   {
    "duration": 33,
    "start_time": "2022-03-07T15:03:55.742Z"
   },
   {
    "duration": 175,
    "start_time": "2022-03-07T15:03:55.777Z"
   },
   {
    "duration": 16,
    "start_time": "2022-03-07T15:03:55.953Z"
   },
   {
    "duration": 53,
    "start_time": "2022-03-07T15:06:21.868Z"
   },
   {
    "duration": 8,
    "start_time": "2022-03-07T15:06:44.344Z"
   },
   {
    "duration": 17,
    "start_time": "2022-03-07T15:11:58.184Z"
   },
   {
    "duration": 17,
    "start_time": "2022-03-07T15:12:33.342Z"
   },
   {
    "duration": 2,
    "start_time": "2022-03-07T15:13:45.704Z"
   },
   {
    "duration": 55,
    "start_time": "2022-03-07T15:16:51.685Z"
   },
   {
    "duration": 6,
    "start_time": "2022-03-07T15:17:05.600Z"
   },
   {
    "duration": 3,
    "start_time": "2022-03-07T15:20:00.493Z"
   },
   {
    "duration": 69,
    "start_time": "2022-03-07T15:21:17.787Z"
   },
   {
    "duration": 51,
    "start_time": "2022-03-07T15:22:55.637Z"
   },
   {
    "duration": 648,
    "start_time": "2022-03-07T15:23:08.560Z"
   },
   {
    "duration": 26,
    "start_time": "2022-03-07T15:23:09.210Z"
   },
   {
    "duration": 11,
    "start_time": "2022-03-07T15:23:09.238Z"
   },
   {
    "duration": 18,
    "start_time": "2022-03-07T15:23:09.251Z"
   },
   {
    "duration": 14,
    "start_time": "2022-03-07T15:23:09.271Z"
   },
   {
    "duration": 23,
    "start_time": "2022-03-07T15:23:09.287Z"
   },
   {
    "duration": 29,
    "start_time": "2022-03-07T15:23:09.311Z"
   },
   {
    "duration": 22,
    "start_time": "2022-03-07T15:23:09.342Z"
   },
   {
    "duration": 35,
    "start_time": "2022-03-07T15:23:09.366Z"
   },
   {
    "duration": 27,
    "start_time": "2022-03-07T15:23:09.403Z"
   },
   {
    "duration": 31,
    "start_time": "2022-03-07T15:23:09.431Z"
   },
   {
    "duration": 36,
    "start_time": "2022-03-07T15:23:09.464Z"
   },
   {
    "duration": 23,
    "start_time": "2022-03-07T15:23:09.502Z"
   },
   {
    "duration": 36,
    "start_time": "2022-03-07T15:23:09.527Z"
   },
   {
    "duration": 15,
    "start_time": "2022-03-07T15:23:09.564Z"
   },
   {
    "duration": 36,
    "start_time": "2022-03-07T15:23:09.581Z"
   },
   {
    "duration": 37,
    "start_time": "2022-03-07T15:23:09.619Z"
   },
   {
    "duration": 34,
    "start_time": "2022-03-07T15:23:09.658Z"
   },
   {
    "duration": 28,
    "start_time": "2022-03-07T15:23:09.693Z"
   },
   {
    "duration": 36,
    "start_time": "2022-03-07T15:23:09.722Z"
   },
   {
    "duration": 47,
    "start_time": "2022-03-07T15:23:09.760Z"
   },
   {
    "duration": 84,
    "start_time": "2022-03-07T15:23:09.809Z"
   },
   {
    "duration": 7,
    "start_time": "2022-03-07T15:23:09.896Z"
   },
   {
    "duration": 33,
    "start_time": "2022-03-07T15:23:09.905Z"
   },
   {
    "duration": 41,
    "start_time": "2022-03-07T15:23:09.940Z"
   },
   {
    "duration": 35,
    "start_time": "2022-03-07T15:23:09.983Z"
   },
   {
    "duration": 40,
    "start_time": "2022-03-07T15:23:10.020Z"
   },
   {
    "duration": 239,
    "start_time": "2022-03-07T15:23:10.061Z"
   },
   {
    "duration": 6,
    "start_time": "2022-03-07T15:23:10.301Z"
   },
   {
    "duration": 17,
    "start_time": "2022-03-07T15:23:10.308Z"
   },
   {
    "duration": 186,
    "start_time": "2022-03-07T15:23:10.327Z"
   },
   {
    "duration": 11,
    "start_time": "2022-03-07T15:23:10.515Z"
   },
   {
    "duration": 12,
    "start_time": "2022-03-07T15:23:10.527Z"
   },
   {
    "duration": 29,
    "start_time": "2022-03-07T15:23:10.541Z"
   },
   {
    "duration": 10,
    "start_time": "2022-03-07T15:23:10.571Z"
   },
   {
    "duration": 5,
    "start_time": "2022-03-07T15:23:10.582Z"
   },
   {
    "duration": 11,
    "start_time": "2022-03-07T15:23:10.588Z"
   },
   {
    "duration": 226,
    "start_time": "2022-03-07T15:23:10.601Z"
   },
   {
    "duration": 642,
    "start_time": "2022-03-07T15:25:59.660Z"
   },
   {
    "duration": 28,
    "start_time": "2022-03-07T15:26:00.304Z"
   },
   {
    "duration": 8,
    "start_time": "2022-03-07T15:26:00.336Z"
   },
   {
    "duration": 19,
    "start_time": "2022-03-07T15:26:00.346Z"
   },
   {
    "duration": 15,
    "start_time": "2022-03-07T15:26:00.367Z"
   },
   {
    "duration": 29,
    "start_time": "2022-03-07T15:26:00.384Z"
   },
   {
    "duration": 44,
    "start_time": "2022-03-07T15:26:00.416Z"
   },
   {
    "duration": 14,
    "start_time": "2022-03-07T15:26:00.462Z"
   },
   {
    "duration": 21,
    "start_time": "2022-03-07T15:26:00.478Z"
   },
   {
    "duration": 19,
    "start_time": "2022-03-07T15:26:00.500Z"
   },
   {
    "duration": 36,
    "start_time": "2022-03-07T15:26:00.521Z"
   },
   {
    "duration": 18,
    "start_time": "2022-03-07T15:26:00.559Z"
   },
   {
    "duration": 50,
    "start_time": "2022-03-07T15:26:00.579Z"
   },
   {
    "duration": 51,
    "start_time": "2022-03-07T15:26:00.630Z"
   },
   {
    "duration": 25,
    "start_time": "2022-03-07T15:26:00.682Z"
   },
   {
    "duration": 7,
    "start_time": "2022-03-07T15:26:00.708Z"
   },
   {
    "duration": 41,
    "start_time": "2022-03-07T15:26:00.716Z"
   },
   {
    "duration": 14,
    "start_time": "2022-03-07T15:26:00.759Z"
   },
   {
    "duration": 7,
    "start_time": "2022-03-07T15:26:00.775Z"
   },
   {
    "duration": 46,
    "start_time": "2022-03-07T15:26:00.783Z"
   },
   {
    "duration": 66,
    "start_time": "2022-03-07T15:26:00.831Z"
   },
   {
    "duration": 99,
    "start_time": "2022-03-07T15:26:00.901Z"
   },
   {
    "duration": 9,
    "start_time": "2022-03-07T15:26:01.002Z"
   },
   {
    "duration": 42,
    "start_time": "2022-03-07T15:26:01.013Z"
   },
   {
    "duration": 24,
    "start_time": "2022-03-07T15:26:01.057Z"
   },
   {
    "duration": 32,
    "start_time": "2022-03-07T15:26:01.083Z"
   },
   {
    "duration": 28,
    "start_time": "2022-03-07T15:26:01.116Z"
   },
   {
    "duration": 229,
    "start_time": "2022-03-07T15:26:01.146Z"
   },
   {
    "duration": 6,
    "start_time": "2022-03-07T15:26:01.377Z"
   },
   {
    "duration": 57,
    "start_time": "2022-03-07T15:26:01.384Z"
   },
   {
    "duration": 214,
    "start_time": "2022-03-07T15:26:01.443Z"
   },
   {
    "duration": 14,
    "start_time": "2022-03-07T15:26:01.662Z"
   },
   {
    "duration": 63,
    "start_time": "2022-03-07T15:26:01.678Z"
   },
   {
    "duration": 32,
    "start_time": "2022-03-07T15:26:01.743Z"
   },
   {
    "duration": 18,
    "start_time": "2022-03-07T15:26:01.777Z"
   },
   {
    "duration": 685,
    "start_time": "2022-03-07T15:26:01.796Z"
   },
   {
    "duration": 2,
    "start_time": "2022-03-07T15:26:02.484Z"
   },
   {
    "duration": 8,
    "start_time": "2022-03-07T15:26:02.488Z"
   },
   {
    "duration": 15,
    "start_time": "2022-03-07T15:26:02.498Z"
   },
   {
    "duration": 689,
    "start_time": "2022-03-07T15:26:37.203Z"
   },
   {
    "duration": 657,
    "start_time": "2022-03-07T15:29:23.249Z"
   },
   {
    "duration": 26,
    "start_time": "2022-03-07T15:29:23.908Z"
   },
   {
    "duration": 8,
    "start_time": "2022-03-07T15:29:23.936Z"
   },
   {
    "duration": 3,
    "start_time": "2022-03-07T15:29:23.946Z"
   },
   {
    "duration": 18,
    "start_time": "2022-03-07T15:29:23.951Z"
   },
   {
    "duration": 26,
    "start_time": "2022-03-07T15:29:23.971Z"
   },
   {
    "duration": 7,
    "start_time": "2022-03-07T15:29:23.998Z"
   },
   {
    "duration": 9,
    "start_time": "2022-03-07T15:29:24.008Z"
   },
   {
    "duration": 9,
    "start_time": "2022-03-07T15:29:24.020Z"
   },
   {
    "duration": 19,
    "start_time": "2022-03-07T15:29:24.031Z"
   },
   {
    "duration": 21,
    "start_time": "2022-03-07T15:29:24.052Z"
   },
   {
    "duration": 17,
    "start_time": "2022-03-07T15:29:24.075Z"
   },
   {
    "duration": 17,
    "start_time": "2022-03-07T15:29:24.094Z"
   },
   {
    "duration": 10,
    "start_time": "2022-03-07T15:29:24.113Z"
   },
   {
    "duration": 13,
    "start_time": "2022-03-07T15:29:24.124Z"
   },
   {
    "duration": 6,
    "start_time": "2022-03-07T15:29:24.139Z"
   },
   {
    "duration": 35,
    "start_time": "2022-03-07T15:29:24.146Z"
   },
   {
    "duration": 14,
    "start_time": "2022-03-07T15:29:24.183Z"
   },
   {
    "duration": 5,
    "start_time": "2022-03-07T15:29:24.199Z"
   },
   {
    "duration": 24,
    "start_time": "2022-03-07T15:29:24.206Z"
   },
   {
    "duration": 45,
    "start_time": "2022-03-07T15:29:24.232Z"
   },
   {
    "duration": 110,
    "start_time": "2022-03-07T15:29:24.280Z"
   },
   {
    "duration": 7,
    "start_time": "2022-03-07T15:29:24.393Z"
   },
   {
    "duration": 10,
    "start_time": "2022-03-07T15:29:24.402Z"
   },
   {
    "duration": 13,
    "start_time": "2022-03-07T15:29:24.414Z"
   },
   {
    "duration": 14,
    "start_time": "2022-03-07T15:29:24.429Z"
   },
   {
    "duration": 29,
    "start_time": "2022-03-07T15:29:24.445Z"
   },
   {
    "duration": 239,
    "start_time": "2022-03-07T15:29:24.476Z"
   },
   {
    "duration": 5,
    "start_time": "2022-03-07T15:29:24.717Z"
   },
   {
    "duration": 20,
    "start_time": "2022-03-07T15:29:24.724Z"
   },
   {
    "duration": 196,
    "start_time": "2022-03-07T15:29:24.746Z"
   },
   {
    "duration": 20,
    "start_time": "2022-03-07T15:29:24.944Z"
   },
   {
    "duration": 7,
    "start_time": "2022-03-07T15:29:24.966Z"
   },
   {
    "duration": 17,
    "start_time": "2022-03-07T15:29:24.974Z"
   },
   {
    "duration": 6,
    "start_time": "2022-03-07T15:29:24.992Z"
   },
   {
    "duration": 685,
    "start_time": "2022-03-07T15:29:24.999Z"
   },
   {
    "duration": 3,
    "start_time": "2022-03-07T15:29:25.686Z"
   },
   {
    "duration": 8,
    "start_time": "2022-03-07T15:29:25.690Z"
   },
   {
    "duration": 2627,
    "start_time": "2022-03-07T15:29:25.699Z"
   },
   {
    "duration": 15,
    "start_time": "2022-03-07T15:29:28.327Z"
   },
   {
    "duration": 658,
    "start_time": "2022-03-07T15:36:23.886Z"
   },
   {
    "duration": 27,
    "start_time": "2022-03-07T15:36:24.546Z"
   },
   {
    "duration": 10,
    "start_time": "2022-03-07T15:36:24.575Z"
   },
   {
    "duration": 4,
    "start_time": "2022-03-07T15:36:24.587Z"
   },
   {
    "duration": 8,
    "start_time": "2022-03-07T15:36:24.592Z"
   },
   {
    "duration": 8,
    "start_time": "2022-03-07T15:36:24.601Z"
   },
   {
    "duration": 5,
    "start_time": "2022-03-07T15:36:24.611Z"
   },
   {
    "duration": 12,
    "start_time": "2022-03-07T15:36:24.619Z"
   },
   {
    "duration": 11,
    "start_time": "2022-03-07T15:36:24.663Z"
   },
   {
    "duration": 13,
    "start_time": "2022-03-07T15:36:24.676Z"
   },
   {
    "duration": 8,
    "start_time": "2022-03-07T15:36:24.691Z"
   },
   {
    "duration": 7,
    "start_time": "2022-03-07T15:36:24.700Z"
   },
   {
    "duration": 5,
    "start_time": "2022-03-07T15:36:24.709Z"
   },
   {
    "duration": 10,
    "start_time": "2022-03-07T15:36:24.716Z"
   },
   {
    "duration": 37,
    "start_time": "2022-03-07T15:36:24.727Z"
   },
   {
    "duration": 6,
    "start_time": "2022-03-07T15:36:24.766Z"
   },
   {
    "duration": 20,
    "start_time": "2022-03-07T15:36:24.774Z"
   },
   {
    "duration": 14,
    "start_time": "2022-03-07T15:36:24.796Z"
   },
   {
    "duration": 6,
    "start_time": "2022-03-07T15:36:24.811Z"
   },
   {
    "duration": 49,
    "start_time": "2022-03-07T15:36:24.818Z"
   },
   {
    "duration": 21,
    "start_time": "2022-03-07T15:36:24.869Z"
   },
   {
    "duration": 123,
    "start_time": "2022-03-07T15:36:24.892Z"
   },
   {
    "duration": 9,
    "start_time": "2022-03-07T15:36:25.020Z"
   },
   {
    "duration": 35,
    "start_time": "2022-03-07T15:36:25.032Z"
   },
   {
    "duration": 6,
    "start_time": "2022-03-07T15:36:25.069Z"
   },
   {
    "duration": 14,
    "start_time": "2022-03-07T15:36:25.077Z"
   },
   {
    "duration": 12,
    "start_time": "2022-03-07T15:36:25.093Z"
   },
   {
    "duration": 248,
    "start_time": "2022-03-07T15:36:25.107Z"
   },
   {
    "duration": 10,
    "start_time": "2022-03-07T15:36:25.357Z"
   },
   {
    "duration": 15,
    "start_time": "2022-03-07T15:36:25.369Z"
   },
   {
    "duration": 195,
    "start_time": "2022-03-07T15:36:25.387Z"
   },
   {
    "duration": 14,
    "start_time": "2022-03-07T15:36:25.584Z"
   },
   {
    "duration": 7,
    "start_time": "2022-03-07T15:36:25.599Z"
   },
   {
    "duration": 17,
    "start_time": "2022-03-07T15:36:25.607Z"
   },
   {
    "duration": 8,
    "start_time": "2022-03-07T15:36:25.625Z"
   },
   {
    "duration": 739,
    "start_time": "2022-03-07T15:36:25.635Z"
   },
   {
    "duration": 3,
    "start_time": "2022-03-07T15:36:26.376Z"
   },
   {
    "duration": 9,
    "start_time": "2022-03-07T15:36:26.381Z"
   },
   {
    "duration": 2795,
    "start_time": "2022-03-07T15:36:26.391Z"
   },
   {
    "duration": 15,
    "start_time": "2022-03-07T15:36:29.188Z"
   },
   {
    "duration": 653,
    "start_time": "2022-03-07T15:37:50.847Z"
   },
   {
    "duration": 27,
    "start_time": "2022-03-07T15:37:51.502Z"
   },
   {
    "duration": 9,
    "start_time": "2022-03-07T15:37:51.532Z"
   },
   {
    "duration": 20,
    "start_time": "2022-03-07T15:37:51.543Z"
   },
   {
    "duration": 5,
    "start_time": "2022-03-07T15:37:51.565Z"
   },
   {
    "duration": 9,
    "start_time": "2022-03-07T15:37:51.571Z"
   },
   {
    "duration": 6,
    "start_time": "2022-03-07T15:37:51.581Z"
   },
   {
    "duration": 9,
    "start_time": "2022-03-07T15:37:51.590Z"
   },
   {
    "duration": 7,
    "start_time": "2022-03-07T15:37:51.601Z"
   },
   {
    "duration": 14,
    "start_time": "2022-03-07T15:37:51.609Z"
   },
   {
    "duration": 6,
    "start_time": "2022-03-07T15:37:51.624Z"
   },
   {
    "duration": 35,
    "start_time": "2022-03-07T15:37:51.632Z"
   },
   {
    "duration": 12,
    "start_time": "2022-03-07T15:37:51.669Z"
   },
   {
    "duration": 10,
    "start_time": "2022-03-07T15:37:51.683Z"
   },
   {
    "duration": 17,
    "start_time": "2022-03-07T15:37:51.696Z"
   },
   {
    "duration": 6,
    "start_time": "2022-03-07T15:37:51.715Z"
   },
   {
    "duration": 41,
    "start_time": "2022-03-07T15:37:51.722Z"
   },
   {
    "duration": 14,
    "start_time": "2022-03-07T15:37:51.765Z"
   },
   {
    "duration": 5,
    "start_time": "2022-03-07T15:37:51.781Z"
   },
   {
    "duration": 15,
    "start_time": "2022-03-07T15:37:51.787Z"
   },
   {
    "duration": 60,
    "start_time": "2022-03-07T15:37:51.804Z"
   },
   {
    "duration": 110,
    "start_time": "2022-03-07T15:37:51.866Z"
   },
   {
    "duration": 7,
    "start_time": "2022-03-07T15:37:51.979Z"
   },
   {
    "duration": 12,
    "start_time": "2022-03-07T15:37:51.989Z"
   },
   {
    "duration": 7,
    "start_time": "2022-03-07T15:37:52.003Z"
   },
   {
    "duration": 20,
    "start_time": "2022-03-07T15:37:52.012Z"
   },
   {
    "duration": 29,
    "start_time": "2022-03-07T15:37:52.034Z"
   },
   {
    "duration": 230,
    "start_time": "2022-03-07T15:37:52.064Z"
   },
   {
    "duration": 6,
    "start_time": "2022-03-07T15:37:52.296Z"
   },
   {
    "duration": 18,
    "start_time": "2022-03-07T15:37:52.303Z"
   },
   {
    "duration": 198,
    "start_time": "2022-03-07T15:37:52.323Z"
   },
   {
    "duration": 12,
    "start_time": "2022-03-07T15:37:52.522Z"
   },
   {
    "duration": 7,
    "start_time": "2022-03-07T15:37:52.536Z"
   },
   {
    "duration": 16,
    "start_time": "2022-03-07T15:37:52.563Z"
   },
   {
    "duration": 6,
    "start_time": "2022-03-07T15:37:52.580Z"
   },
   {
    "duration": 685,
    "start_time": "2022-03-07T15:37:52.587Z"
   },
   {
    "duration": 4,
    "start_time": "2022-03-07T15:37:53.274Z"
   },
   {
    "duration": 17,
    "start_time": "2022-03-07T15:37:53.280Z"
   },
   {
    "duration": 3090,
    "start_time": "2022-03-07T15:37:53.299Z"
   },
   {
    "duration": 24,
    "start_time": "2022-03-07T15:37:56.391Z"
   },
   {
    "duration": 645,
    "start_time": "2022-03-07T15:38:09.301Z"
   },
   {
    "duration": 31,
    "start_time": "2022-03-07T15:38:09.948Z"
   },
   {
    "duration": 14,
    "start_time": "2022-03-07T15:38:09.982Z"
   },
   {
    "duration": 6,
    "start_time": "2022-03-07T15:38:09.998Z"
   },
   {
    "duration": 9,
    "start_time": "2022-03-07T15:38:10.006Z"
   },
   {
    "duration": 15,
    "start_time": "2022-03-07T15:38:10.016Z"
   },
   {
    "duration": 11,
    "start_time": "2022-03-07T15:38:10.032Z"
   },
   {
    "duration": 22,
    "start_time": "2022-03-07T15:38:10.046Z"
   },
   {
    "duration": 11,
    "start_time": "2022-03-07T15:38:10.070Z"
   },
   {
    "duration": 16,
    "start_time": "2022-03-07T15:38:10.083Z"
   },
   {
    "duration": 10,
    "start_time": "2022-03-07T15:38:10.101Z"
   },
   {
    "duration": 27,
    "start_time": "2022-03-07T15:38:10.113Z"
   },
   {
    "duration": 13,
    "start_time": "2022-03-07T15:38:10.142Z"
   },
   {
    "duration": 16,
    "start_time": "2022-03-07T15:38:10.157Z"
   },
   {
    "duration": 14,
    "start_time": "2022-03-07T15:38:10.175Z"
   },
   {
    "duration": 10,
    "start_time": "2022-03-07T15:38:10.191Z"
   },
   {
    "duration": 29,
    "start_time": "2022-03-07T15:38:10.203Z"
   },
   {
    "duration": 35,
    "start_time": "2022-03-07T15:38:10.234Z"
   },
   {
    "duration": 7,
    "start_time": "2022-03-07T15:38:10.271Z"
   },
   {
    "duration": 17,
    "start_time": "2022-03-07T15:38:10.279Z"
   },
   {
    "duration": 21,
    "start_time": "2022-03-07T15:38:10.297Z"
   },
   {
    "duration": 119,
    "start_time": "2022-03-07T15:38:10.320Z"
   },
   {
    "duration": 8,
    "start_time": "2022-03-07T15:38:10.463Z"
   },
   {
    "duration": 25,
    "start_time": "2022-03-07T15:38:10.473Z"
   },
   {
    "duration": 9,
    "start_time": "2022-03-07T15:38:10.500Z"
   },
   {
    "duration": 13,
    "start_time": "2022-03-07T15:38:10.511Z"
   },
   {
    "duration": 11,
    "start_time": "2022-03-07T15:38:10.525Z"
   },
   {
    "duration": 235,
    "start_time": "2022-03-07T15:38:10.538Z"
   },
   {
    "duration": 5,
    "start_time": "2022-03-07T15:38:10.775Z"
   },
   {
    "duration": 19,
    "start_time": "2022-03-07T15:38:10.781Z"
   },
   {
    "duration": 191,
    "start_time": "2022-03-07T15:38:10.802Z"
   },
   {
    "duration": 14,
    "start_time": "2022-03-07T15:38:10.995Z"
   },
   {
    "duration": 8,
    "start_time": "2022-03-07T15:38:11.011Z"
   },
   {
    "duration": 43,
    "start_time": "2022-03-07T15:38:11.021Z"
   },
   {
    "duration": 7,
    "start_time": "2022-03-07T15:38:11.066Z"
   },
   {
    "duration": 679,
    "start_time": "2022-03-07T15:38:11.075Z"
   },
   {
    "duration": 8,
    "start_time": "2022-03-07T15:38:11.755Z"
   },
   {
    "duration": 10,
    "start_time": "2022-03-07T15:38:11.765Z"
   },
   {
    "duration": 2830,
    "start_time": "2022-03-07T15:38:11.776Z"
   },
   {
    "duration": 7,
    "start_time": "2022-03-07T15:38:14.608Z"
   },
   {
    "duration": 568,
    "start_time": "2022-03-07T15:40:05.606Z"
   },
   {
    "duration": 30,
    "start_time": "2022-03-07T15:40:06.176Z"
   },
   {
    "duration": 10,
    "start_time": "2022-03-07T15:40:06.208Z"
   },
   {
    "duration": 6,
    "start_time": "2022-03-07T15:40:06.220Z"
   },
   {
    "duration": 9,
    "start_time": "2022-03-07T15:40:06.227Z"
   },
   {
    "duration": 32,
    "start_time": "2022-03-07T15:40:06.238Z"
   },
   {
    "duration": 17,
    "start_time": "2022-03-07T15:40:06.271Z"
   },
   {
    "duration": 9,
    "start_time": "2022-03-07T15:40:06.291Z"
   },
   {
    "duration": 10,
    "start_time": "2022-03-07T15:40:06.302Z"
   },
   {
    "duration": 16,
    "start_time": "2022-03-07T15:40:06.314Z"
   },
   {
    "duration": 8,
    "start_time": "2022-03-07T15:40:06.332Z"
   },
   {
    "duration": 15,
    "start_time": "2022-03-07T15:40:06.342Z"
   },
   {
    "duration": 12,
    "start_time": "2022-03-07T15:40:06.358Z"
   },
   {
    "duration": 11,
    "start_time": "2022-03-07T15:40:06.372Z"
   },
   {
    "duration": 13,
    "start_time": "2022-03-07T15:40:06.385Z"
   },
   {
    "duration": 7,
    "start_time": "2022-03-07T15:40:06.400Z"
   },
   {
    "duration": 19,
    "start_time": "2022-03-07T15:40:06.408Z"
   },
   {
    "duration": 14,
    "start_time": "2022-03-07T15:40:06.429Z"
   },
   {
    "duration": 6,
    "start_time": "2022-03-07T15:40:06.463Z"
   },
   {
    "duration": 36,
    "start_time": "2022-03-07T15:40:06.471Z"
   },
   {
    "duration": 21,
    "start_time": "2022-03-07T15:40:06.509Z"
   },
   {
    "duration": 108,
    "start_time": "2022-03-07T15:40:06.532Z"
   },
   {
    "duration": 24,
    "start_time": "2022-03-07T15:40:06.644Z"
   },
   {
    "duration": 18,
    "start_time": "2022-03-07T15:40:06.671Z"
   },
   {
    "duration": 9,
    "start_time": "2022-03-07T15:40:06.691Z"
   },
   {
    "duration": 16,
    "start_time": "2022-03-07T15:40:06.701Z"
   },
   {
    "duration": 16,
    "start_time": "2022-03-07T15:40:06.719Z"
   },
   {
    "duration": 261,
    "start_time": "2022-03-07T15:40:06.736Z"
   },
   {
    "duration": 6,
    "start_time": "2022-03-07T15:40:06.998Z"
   },
   {
    "duration": 20,
    "start_time": "2022-03-07T15:40:07.005Z"
   },
   {
    "duration": 202,
    "start_time": "2022-03-07T15:40:07.026Z"
   },
   {
    "duration": 12,
    "start_time": "2022-03-07T15:40:07.230Z"
   },
   {
    "duration": 23,
    "start_time": "2022-03-07T15:40:07.243Z"
   },
   {
    "duration": 15,
    "start_time": "2022-03-07T15:40:07.268Z"
   },
   {
    "duration": 6,
    "start_time": "2022-03-07T15:40:07.285Z"
   },
   {
    "duration": 657,
    "start_time": "2022-03-07T15:40:07.292Z"
   },
   {
    "duration": 2,
    "start_time": "2022-03-07T15:40:07.951Z"
   },
   {
    "duration": 14,
    "start_time": "2022-03-07T15:40:07.955Z"
   },
   {
    "duration": 2670,
    "start_time": "2022-03-07T15:40:07.970Z"
   },
   {
    "duration": 6,
    "start_time": "2022-03-07T15:40:10.642Z"
   },
   {
    "duration": 8,
    "start_time": "2022-03-07T15:47:34.582Z"
   },
   {
    "duration": 40,
    "start_time": "2022-03-07T15:49:26.974Z"
   },
   {
    "duration": 43,
    "start_time": "2022-03-07T15:50:57.847Z"
   },
   {
    "duration": 43,
    "start_time": "2022-03-07T15:52:04.066Z"
   },
   {
    "duration": 42,
    "start_time": "2022-03-07T15:53:06.028Z"
   },
   {
    "duration": 4291,
    "start_time": "2022-03-07T16:13:41.894Z"
   },
   {
    "duration": 4238,
    "start_time": "2022-03-07T16:17:11.161Z"
   },
   {
    "duration": 4169,
    "start_time": "2022-03-07T16:18:11.447Z"
   },
   {
    "duration": 23,
    "start_time": "2022-03-07T16:18:32.251Z"
   },
   {
    "duration": 22,
    "start_time": "2022-03-07T16:20:21.411Z"
   },
   {
    "duration": 23,
    "start_time": "2022-03-07T16:21:28.583Z"
   },
   {
    "duration": 26,
    "start_time": "2022-03-07T16:22:23.191Z"
   },
   {
    "duration": 37,
    "start_time": "2022-03-07T16:24:09.855Z"
   },
   {
    "duration": 50,
    "start_time": "2022-03-07T16:25:24.856Z"
   },
   {
    "duration": 47,
    "start_time": "2022-03-07T16:25:31.366Z"
   },
   {
    "duration": 172,
    "start_time": "2022-03-07T16:27:30.579Z"
   },
   {
    "duration": 213,
    "start_time": "2022-03-07T16:31:16.017Z"
   },
   {
    "duration": 24,
    "start_time": "2022-03-07T16:31:27.348Z"
   },
   {
    "duration": 21,
    "start_time": "2022-03-07T16:33:04.435Z"
   },
   {
    "duration": 16,
    "start_time": "2022-03-07T16:33:17.601Z"
   },
   {
    "duration": 2,
    "start_time": "2022-03-07T16:42:03.671Z"
   },
   {
    "duration": 9,
    "start_time": "2022-03-07T16:43:38.238Z"
   },
   {
    "duration": 9,
    "start_time": "2022-03-07T16:49:23.563Z"
   },
   {
    "duration": 8,
    "start_time": "2022-03-07T16:49:33.128Z"
   },
   {
    "duration": 243,
    "start_time": "2022-03-07T16:50:10.178Z"
   },
   {
    "duration": 10,
    "start_time": "2022-03-07T16:51:11.537Z"
   },
   {
    "duration": 219,
    "start_time": "2022-03-07T16:52:43.695Z"
   },
   {
    "duration": 173,
    "start_time": "2022-03-07T16:52:52.063Z"
   },
   {
    "duration": 8,
    "start_time": "2022-03-07T16:52:59.204Z"
   },
   {
    "duration": 3,
    "start_time": "2022-03-07T16:53:52.932Z"
   },
   {
    "duration": 173,
    "start_time": "2022-03-07T16:54:01.925Z"
   },
   {
    "duration": 179,
    "start_time": "2022-03-07T16:54:09.700Z"
   },
   {
    "duration": 9,
    "start_time": "2022-03-07T16:54:15.795Z"
   },
   {
    "duration": 10,
    "start_time": "2022-03-07T16:54:33.760Z"
   },
   {
    "duration": 2,
    "start_time": "2022-03-07T16:58:23.044Z"
   },
   {
    "duration": 178,
    "start_time": "2022-03-07T16:59:40.429Z"
   },
   {
    "duration": 19,
    "start_time": "2022-03-07T17:00:30.674Z"
   },
   {
    "duration": 15,
    "start_time": "2022-03-07T17:01:07.356Z"
   },
   {
    "duration": 62,
    "start_time": "2022-03-07T17:06:07.731Z"
   },
   {
    "duration": 830,
    "start_time": "2022-03-15T19:59:06.579Z"
   },
   {
    "duration": 42,
    "start_time": "2022-03-15T19:59:07.411Z"
   },
   {
    "duration": 601,
    "start_time": "2022-03-15T19:59:07.456Z"
   },
   {
    "duration": 296,
    "start_time": "2022-03-15T19:59:08.060Z"
   },
   {
    "duration": 347,
    "start_time": "2022-03-15T19:59:08.359Z"
   },
   {
    "duration": 135,
    "start_time": "2022-03-15T19:59:08.709Z"
   },
   {
    "duration": 323,
    "start_time": "2022-03-15T19:59:08.847Z"
   },
   {
    "duration": 373,
    "start_time": "2022-03-15T19:59:09.174Z"
   },
   {
    "duration": 335,
    "start_time": "2022-03-15T19:59:09.550Z"
   },
   {
    "duration": 703,
    "start_time": "2022-03-15T19:59:09.888Z"
   },
   {
    "duration": 453,
    "start_time": "2022-03-15T19:59:10.594Z"
   },
   {
    "duration": 264,
    "start_time": "2022-03-15T19:59:11.050Z"
   },
   {
    "duration": 152,
    "start_time": "2022-03-15T19:59:11.317Z"
   },
   {
    "duration": 175,
    "start_time": "2022-03-15T19:59:11.471Z"
   },
   {
    "duration": 136,
    "start_time": "2022-03-15T19:59:11.649Z"
   },
   {
    "duration": 114,
    "start_time": "2022-03-15T19:59:11.787Z"
   },
   {
    "duration": 181,
    "start_time": "2022-03-15T19:59:11.903Z"
   },
   {
    "duration": 205,
    "start_time": "2022-03-15T19:59:12.086Z"
   },
   {
    "duration": 139,
    "start_time": "2022-03-15T19:59:12.294Z"
   },
   {
    "duration": 122,
    "start_time": "2022-03-15T19:59:12.436Z"
   },
   {
    "duration": 138,
    "start_time": "2022-03-15T19:59:12.561Z"
   },
   {
    "duration": 348,
    "start_time": "2022-03-15T19:59:12.703Z"
   },
   {
    "duration": 380,
    "start_time": "2022-03-15T19:59:13.057Z"
   },
   {
    "duration": 756,
    "start_time": "2022-03-15T19:59:13.441Z"
   },
   {
    "duration": 444,
    "start_time": "2022-03-15T19:59:14.199Z"
   },
   {
    "duration": 546,
    "start_time": "2022-03-15T19:59:14.646Z"
   },
   {
    "duration": 611,
    "start_time": "2022-03-15T19:59:15.195Z"
   },
   {
    "duration": 1508,
    "start_time": "2022-03-15T19:59:15.809Z"
   },
   {
    "duration": 625,
    "start_time": "2022-03-15T19:59:17.320Z"
   },
   {
    "duration": 756,
    "start_time": "2022-03-15T19:59:17.947Z"
   },
   {
    "duration": 1101,
    "start_time": "2022-03-15T19:59:18.706Z"
   },
   {
    "duration": 584,
    "start_time": "2022-03-15T19:59:19.809Z"
   },
   {
    "duration": 829,
    "start_time": "2022-03-15T19:59:20.396Z"
   },
   {
    "duration": 774,
    "start_time": "2022-03-15T19:59:21.228Z"
   },
   {
    "duration": 1258,
    "start_time": "2022-03-15T19:59:22.005Z"
   },
   {
    "duration": 2938,
    "start_time": "2022-03-15T19:59:23.266Z"
   },
   {
    "duration": 4,
    "start_time": "2022-03-15T19:59:26.208Z"
   },
   {
    "duration": 1353,
    "start_time": "2022-03-15T19:59:26.214Z"
   },
   {
    "duration": 4710,
    "start_time": "2022-03-15T19:59:27.570Z"
   },
   {
    "duration": 12,
    "start_time": "2022-03-15T19:59:32.283Z"
   },
   {
    "duration": 1085,
    "start_time": "2022-03-15T19:59:32.298Z"
   },
   {
    "duration": 581,
    "start_time": "2022-03-15T19:59:33.385Z"
   },
   {
    "duration": 263,
    "start_time": "2022-03-15T19:59:33.968Z"
   },
   {
    "duration": 186,
    "start_time": "2022-03-15T19:59:34.233Z"
   },
   {
    "duration": 356,
    "start_time": "2022-03-15T19:59:34.422Z"
   },
   {
    "duration": 418,
    "start_time": "2022-03-15T19:59:34.780Z"
   },
   {
    "duration": 184,
    "start_time": "2022-03-15T19:59:35.201Z"
   },
   {
    "duration": 16,
    "start_time": "2022-03-15T20:09:05.098Z"
   },
   {
    "duration": 23,
    "start_time": "2022-03-15T20:57:26.136Z"
   },
   {
    "duration": 17,
    "start_time": "2022-03-15T20:57:29.021Z"
   },
   {
    "duration": 29,
    "start_time": "2022-03-15T20:57:36.731Z"
   },
   {
    "duration": 834,
    "start_time": "2022-03-15T21:00:02.783Z"
   },
   {
    "duration": 40,
    "start_time": "2022-03-15T21:00:03.620Z"
   },
   {
    "duration": 542,
    "start_time": "2022-03-15T21:00:03.675Z"
   },
   {
    "duration": 350,
    "start_time": "2022-03-15T21:00:04.219Z"
   },
   {
    "duration": 787,
    "start_time": "2022-03-15T21:00:04.571Z"
   },
   {
    "duration": 1020,
    "start_time": "2022-03-15T21:00:05.360Z"
   },
   {
    "duration": 935,
    "start_time": "2022-03-15T21:00:06.382Z"
   },
   {
    "duration": 955,
    "start_time": "2022-03-15T21:00:07.321Z"
   },
   {
    "duration": 1053,
    "start_time": "2022-03-15T21:00:08.279Z"
   },
   {
    "duration": 1146,
    "start_time": "2022-03-15T21:00:09.334Z"
   },
   {
    "duration": 1401,
    "start_time": "2022-03-15T21:00:10.483Z"
   },
   {
    "duration": 1092,
    "start_time": "2022-03-15T21:00:11.887Z"
   },
   {
    "duration": 1068,
    "start_time": "2022-03-15T21:00:12.982Z"
   },
   {
    "duration": 1095,
    "start_time": "2022-03-15T21:00:14.052Z"
   },
   {
    "duration": 1154,
    "start_time": "2022-03-15T21:00:15.150Z"
   },
   {
    "duration": 1171,
    "start_time": "2022-03-15T21:00:16.307Z"
   },
   {
    "duration": 1017,
    "start_time": "2022-03-15T21:00:17.481Z"
   },
   {
    "duration": 842,
    "start_time": "2022-03-15T21:00:18.501Z"
   },
   {
    "duration": 806,
    "start_time": "2022-03-15T21:00:19.346Z"
   },
   {
    "duration": 956,
    "start_time": "2022-03-15T21:00:20.154Z"
   },
   {
    "duration": 558,
    "start_time": "2022-03-15T21:00:21.112Z"
   },
   {
    "duration": 733,
    "start_time": "2022-03-15T21:00:21.673Z"
   },
   {
    "duration": 523,
    "start_time": "2022-03-15T21:00:22.412Z"
   },
   {
    "duration": 583,
    "start_time": "2022-03-15T21:00:22.938Z"
   },
   {
    "duration": 212,
    "start_time": "2022-03-15T21:00:23.524Z"
   },
   {
    "duration": 364,
    "start_time": "2022-03-15T21:00:23.738Z"
   },
   {
    "duration": 431,
    "start_time": "2022-03-15T21:00:24.105Z"
   },
   {
    "duration": 948,
    "start_time": "2022-03-15T21:00:24.539Z"
   },
   {
    "duration": 162,
    "start_time": "2022-03-15T21:00:25.490Z"
   },
   {
    "duration": 255,
    "start_time": "2022-03-15T21:00:25.655Z"
   },
   {
    "duration": 509,
    "start_time": "2022-03-15T21:00:25.913Z"
   },
   {
    "duration": 699,
    "start_time": "2022-03-15T21:00:26.425Z"
   },
   {
    "duration": 18,
    "start_time": "2022-03-15T21:00:27.127Z"
   },
   {
    "duration": 407,
    "start_time": "2022-03-15T21:00:27.147Z"
   },
   {
    "duration": 302,
    "start_time": "2022-03-15T21:00:27.556Z"
   },
   {
    "duration": 428,
    "start_time": "2022-03-15T21:00:27.861Z"
   },
   {
    "duration": 1847,
    "start_time": "2022-03-15T21:00:28.291Z"
   },
   {
    "duration": 5,
    "start_time": "2022-03-15T21:00:30.141Z"
   },
   {
    "duration": 641,
    "start_time": "2022-03-15T21:00:30.149Z"
   },
   {
    "duration": 4789,
    "start_time": "2022-03-15T21:00:30.793Z"
   },
   {
    "duration": 10,
    "start_time": "2022-03-15T21:00:35.585Z"
   },
   {
    "duration": 234,
    "start_time": "2022-03-15T21:00:35.598Z"
   },
   {
    "duration": 881,
    "start_time": "2022-03-15T21:00:35.834Z"
   },
   {
    "duration": 632,
    "start_time": "2022-03-15T21:00:36.717Z"
   },
   {
    "duration": 357,
    "start_time": "2022-03-15T21:00:37.352Z"
   },
   {
    "duration": 553,
    "start_time": "2022-03-15T21:00:37.712Z"
   },
   {
    "duration": 897,
    "start_time": "2022-03-15T21:00:38.268Z"
   },
   {
    "duration": 511,
    "start_time": "2022-03-15T21:00:39.168Z"
   },
   {
    "duration": 590,
    "start_time": "2022-03-15T21:00:39.681Z"
   },
   {
    "duration": 826,
    "start_time": "2022-03-15T21:03:36.210Z"
   },
   {
    "duration": 47,
    "start_time": "2022-03-15T21:03:37.039Z"
   },
   {
    "duration": 266,
    "start_time": "2022-03-15T21:03:37.089Z"
   },
   {
    "duration": 527,
    "start_time": "2022-03-15T21:03:37.358Z"
   },
   {
    "duration": 412,
    "start_time": "2022-03-15T21:03:37.888Z"
   },
   {
    "duration": 270,
    "start_time": "2022-03-15T21:03:38.302Z"
   },
   {
    "duration": 259,
    "start_time": "2022-03-15T21:03:38.575Z"
   },
   {
    "duration": 275,
    "start_time": "2022-03-15T21:03:38.840Z"
   },
   {
    "duration": 362,
    "start_time": "2022-03-15T21:03:39.119Z"
   },
   {
    "duration": 259,
    "start_time": "2022-03-15T21:03:39.484Z"
   },
   {
    "duration": 312,
    "start_time": "2022-03-15T21:03:39.746Z"
   },
   {
    "duration": 575,
    "start_time": "2022-03-15T21:03:40.060Z"
   },
   {
    "duration": 569,
    "start_time": "2022-03-15T21:03:40.637Z"
   },
   {
    "duration": 289,
    "start_time": "2022-03-15T21:03:41.209Z"
   },
   {
    "duration": 287,
    "start_time": "2022-03-15T21:03:41.501Z"
   },
   {
    "duration": 275,
    "start_time": "2022-03-15T21:03:41.790Z"
   },
   {
    "duration": 482,
    "start_time": "2022-03-15T21:03:42.068Z"
   },
   {
    "duration": 834,
    "start_time": "2022-03-15T21:03:42.552Z"
   },
   {
    "duration": 713,
    "start_time": "2022-03-15T21:03:43.389Z"
   },
   {
    "duration": 1313,
    "start_time": "2022-03-15T21:03:44.105Z"
   },
   {
    "duration": 1296,
    "start_time": "2022-03-15T21:03:45.420Z"
   },
   {
    "duration": 1195,
    "start_time": "2022-03-15T21:03:46.719Z"
   },
   {
    "duration": 1555,
    "start_time": "2022-03-15T21:03:47.922Z"
   },
   {
    "duration": 1320,
    "start_time": "2022-03-15T21:03:49.480Z"
   },
   {
    "duration": 752,
    "start_time": "2022-03-15T21:03:50.802Z"
   },
   {
    "duration": 876,
    "start_time": "2022-03-15T21:03:51.557Z"
   },
   {
    "duration": 795,
    "start_time": "2022-03-15T21:03:52.436Z"
   },
   {
    "duration": 1306,
    "start_time": "2022-03-15T21:03:53.235Z"
   },
   {
    "duration": 797,
    "start_time": "2022-03-15T21:03:54.544Z"
   },
   {
    "duration": 1124,
    "start_time": "2022-03-15T21:03:55.343Z"
   },
   {
    "duration": 777,
    "start_time": "2022-03-15T21:03:56.470Z"
   },
   {
    "duration": 1268,
    "start_time": "2022-03-15T21:03:57.249Z"
   },
   {
    "duration": 598,
    "start_time": "2022-03-15T21:03:58.519Z"
   },
   {
    "duration": 725,
    "start_time": "2022-03-15T21:03:59.119Z"
   },
   {
    "duration": 1028,
    "start_time": "2022-03-15T21:03:59.847Z"
   },
   {
    "duration": 944,
    "start_time": "2022-03-15T21:04:00.877Z"
   },
   {
    "duration": 1662,
    "start_time": "2022-03-15T21:04:01.823Z"
   },
   {
    "duration": 96,
    "start_time": "2022-03-15T21:04:03.488Z"
   },
   {
    "duration": 584,
    "start_time": "2022-03-15T21:04:03.587Z"
   },
   {
    "duration": 5213,
    "start_time": "2022-03-15T21:04:04.174Z"
   },
   {
    "duration": 8,
    "start_time": "2022-03-15T21:04:09.390Z"
   },
   {
    "duration": 663,
    "start_time": "2022-03-15T21:04:09.401Z"
   },
   {
    "duration": 593,
    "start_time": "2022-03-15T21:04:10.067Z"
   },
   {
    "duration": 897,
    "start_time": "2022-03-15T21:04:10.663Z"
   },
   {
    "duration": 355,
    "start_time": "2022-03-15T21:04:11.562Z"
   },
   {
    "duration": 736,
    "start_time": "2022-03-15T21:04:11.919Z"
   },
   {
    "duration": 737,
    "start_time": "2022-03-15T21:04:12.657Z"
   },
   {
    "duration": 397,
    "start_time": "2022-03-15T21:04:13.397Z"
   },
   {
    "duration": 773,
    "start_time": "2022-03-15T21:04:13.796Z"
   },
   {
    "duration": 48,
    "start_time": "2022-03-16T18:16:33.458Z"
   },
   {
    "duration": 70,
    "start_time": "2022-03-16T18:17:07.857Z"
   },
   {
    "duration": 47,
    "start_time": "2022-03-16T18:25:57.223Z"
   },
   {
    "duration": 48,
    "start_time": "2022-03-16T18:30:35.358Z"
   },
   {
    "duration": 183,
    "start_time": "2022-03-16T18:31:57.528Z"
   },
   {
    "duration": 617,
    "start_time": "2022-03-16T18:32:05.466Z"
   },
   {
    "duration": 29,
    "start_time": "2022-03-16T18:32:06.085Z"
   },
   {
    "duration": 10,
    "start_time": "2022-03-16T18:32:06.116Z"
   },
   {
    "duration": 2,
    "start_time": "2022-03-16T18:32:06.128Z"
   },
   {
    "duration": 30,
    "start_time": "2022-03-16T18:32:06.132Z"
   },
   {
    "duration": 9,
    "start_time": "2022-03-16T18:32:06.164Z"
   },
   {
    "duration": 5,
    "start_time": "2022-03-16T18:32:06.175Z"
   },
   {
    "duration": 9,
    "start_time": "2022-03-16T18:32:06.183Z"
   },
   {
    "duration": 11,
    "start_time": "2022-03-16T18:32:06.194Z"
   },
   {
    "duration": 8,
    "start_time": "2022-03-16T18:32:06.207Z"
   },
   {
    "duration": 7,
    "start_time": "2022-03-16T18:32:06.216Z"
   },
   {
    "duration": 36,
    "start_time": "2022-03-16T18:32:06.224Z"
   },
   {
    "duration": 6,
    "start_time": "2022-03-16T18:32:06.262Z"
   },
   {
    "duration": 7,
    "start_time": "2022-03-16T18:32:06.270Z"
   },
   {
    "duration": 13,
    "start_time": "2022-03-16T18:32:06.279Z"
   },
   {
    "duration": 6,
    "start_time": "2022-03-16T18:32:06.294Z"
   },
   {
    "duration": 58,
    "start_time": "2022-03-16T18:32:06.302Z"
   },
   {
    "duration": 17,
    "start_time": "2022-03-16T18:32:06.362Z"
   },
   {
    "duration": 6,
    "start_time": "2022-03-16T18:32:06.381Z"
   },
   {
    "duration": 17,
    "start_time": "2022-03-16T18:32:06.389Z"
   },
   {
    "duration": 61,
    "start_time": "2022-03-16T18:32:06.408Z"
   },
   {
    "duration": 112,
    "start_time": "2022-03-16T18:32:06.471Z"
   },
   {
    "duration": 9,
    "start_time": "2022-03-16T18:32:06.586Z"
   },
   {
    "duration": 10,
    "start_time": "2022-03-16T18:32:06.598Z"
   },
   {
    "duration": 5,
    "start_time": "2022-03-16T18:32:06.610Z"
   },
   {
    "duration": 45,
    "start_time": "2022-03-16T18:32:06.616Z"
   },
   {
    "duration": 15,
    "start_time": "2022-03-16T18:32:06.663Z"
   },
   {
    "duration": 259,
    "start_time": "2022-03-16T18:32:06.679Z"
   },
   {
    "duration": 2,
    "start_time": "2022-03-16T18:32:06.941Z"
   },
   {
    "duration": 17,
    "start_time": "2022-03-16T18:32:06.944Z"
   },
   {
    "duration": 17,
    "start_time": "2022-03-16T18:32:06.963Z"
   },
   {
    "duration": 3,
    "start_time": "2022-03-16T18:32:06.982Z"
   },
   {
    "duration": 17,
    "start_time": "2022-03-16T18:32:06.987Z"
   },
   {
    "duration": 8,
    "start_time": "2022-03-16T18:32:07.006Z"
   },
   {
    "duration": 50,
    "start_time": "2022-03-16T18:32:07.016Z"
   },
   {
    "duration": 7,
    "start_time": "2022-03-16T18:32:07.068Z"
   },
   {
    "duration": 735,
    "start_time": "2022-03-16T18:32:07.077Z"
   },
   {
    "duration": 3,
    "start_time": "2022-03-16T18:32:07.814Z"
   },
   {
    "duration": 6,
    "start_time": "2022-03-16T18:32:07.818Z"
   },
   {
    "duration": 2978,
    "start_time": "2022-03-16T18:32:07.826Z"
   },
   {
    "duration": 7,
    "start_time": "2022-03-16T18:32:10.806Z"
   },
   {
    "duration": 23,
    "start_time": "2022-03-16T18:32:10.815Z"
   },
   {
    "duration": 219,
    "start_time": "2022-03-16T18:32:10.860Z"
   },
   {
    "duration": -63,
    "start_time": "2022-03-16T18:32:11.144Z"
   },
   {
    "duration": -63,
    "start_time": "2022-03-16T18:32:11.146Z"
   },
   {
    "duration": -82,
    "start_time": "2022-03-16T18:32:11.166Z"
   },
   {
    "duration": -88,
    "start_time": "2022-03-16T18:32:11.173Z"
   },
   {
    "duration": -89,
    "start_time": "2022-03-16T18:32:11.175Z"
   },
   {
    "duration": -90,
    "start_time": "2022-03-16T18:32:11.177Z"
   },
   {
    "duration": -90,
    "start_time": "2022-03-16T18:32:11.179Z"
   },
   {
    "duration": -96,
    "start_time": "2022-03-16T18:32:11.186Z"
   },
   {
    "duration": 35,
    "start_time": "2022-03-16T18:32:55.660Z"
   },
   {
    "duration": 27,
    "start_time": "2022-03-16T18:33:02.681Z"
   },
   {
    "duration": 641,
    "start_time": "2022-03-16T18:33:25.241Z"
   },
   {
    "duration": 40,
    "start_time": "2022-03-16T18:33:25.884Z"
   },
   {
    "duration": 14,
    "start_time": "2022-03-16T18:33:25.927Z"
   },
   {
    "duration": 3,
    "start_time": "2022-03-16T18:33:25.959Z"
   },
   {
    "duration": 8,
    "start_time": "2022-03-16T18:33:25.964Z"
   },
   {
    "duration": 10,
    "start_time": "2022-03-16T18:33:25.974Z"
   },
   {
    "duration": 7,
    "start_time": "2022-03-16T18:33:25.986Z"
   },
   {
    "duration": 7,
    "start_time": "2022-03-16T18:33:25.997Z"
   },
   {
    "duration": 6,
    "start_time": "2022-03-16T18:33:26.007Z"
   },
   {
    "duration": 54,
    "start_time": "2022-03-16T18:33:26.015Z"
   },
   {
    "duration": 8,
    "start_time": "2022-03-16T18:33:26.071Z"
   },
   {
    "duration": 10,
    "start_time": "2022-03-16T18:33:26.081Z"
   },
   {
    "duration": 8,
    "start_time": "2022-03-16T18:33:26.092Z"
   },
   {
    "duration": 8,
    "start_time": "2022-03-16T18:33:26.102Z"
   },
   {
    "duration": 52,
    "start_time": "2022-03-16T18:33:26.112Z"
   },
   {
    "duration": 7,
    "start_time": "2022-03-16T18:33:26.165Z"
   },
   {
    "duration": 20,
    "start_time": "2022-03-16T18:33:26.175Z"
   },
   {
    "duration": 15,
    "start_time": "2022-03-16T18:33:26.197Z"
   },
   {
    "duration": 45,
    "start_time": "2022-03-16T18:33:26.214Z"
   },
   {
    "duration": 22,
    "start_time": "2022-03-16T18:33:26.262Z"
   },
   {
    "duration": 23,
    "start_time": "2022-03-16T18:33:26.286Z"
   },
   {
    "duration": 124,
    "start_time": "2022-03-16T18:33:26.311Z"
   },
   {
    "duration": 25,
    "start_time": "2022-03-16T18:33:26.439Z"
   },
   {
    "duration": 10,
    "start_time": "2022-03-16T18:33:26.467Z"
   },
   {
    "duration": 6,
    "start_time": "2022-03-16T18:33:26.479Z"
   },
   {
    "duration": 15,
    "start_time": "2022-03-16T18:33:26.487Z"
   },
   {
    "duration": 12,
    "start_time": "2022-03-16T18:33:26.504Z"
   },
   {
    "duration": 258,
    "start_time": "2022-03-16T18:33:26.559Z"
   },
   {
    "duration": 2,
    "start_time": "2022-03-16T18:33:26.819Z"
   },
   {
    "duration": 8,
    "start_time": "2022-03-16T18:33:26.823Z"
   },
   {
    "duration": 34,
    "start_time": "2022-03-16T18:33:26.833Z"
   },
   {
    "duration": 3,
    "start_time": "2022-03-16T18:33:26.869Z"
   },
   {
    "duration": 16,
    "start_time": "2022-03-16T18:33:26.874Z"
   },
   {
    "duration": 8,
    "start_time": "2022-03-16T18:33:26.892Z"
   },
   {
    "duration": 18,
    "start_time": "2022-03-16T18:33:26.901Z"
   },
   {
    "duration": 44,
    "start_time": "2022-03-16T18:33:26.921Z"
   },
   {
    "duration": 810,
    "start_time": "2022-03-16T18:33:26.968Z"
   },
   {
    "duration": 3,
    "start_time": "2022-03-16T18:33:27.780Z"
   },
   {
    "duration": 6,
    "start_time": "2022-03-16T18:33:27.785Z"
   },
   {
    "duration": 3393,
    "start_time": "2022-03-16T18:33:27.793Z"
   },
   {
    "duration": 7,
    "start_time": "2022-03-16T18:33:31.188Z"
   },
   {
    "duration": 25,
    "start_time": "2022-03-16T18:33:31.197Z"
   },
   {
    "duration": 50,
    "start_time": "2022-03-16T18:33:31.223Z"
   },
   {
    "duration": 18,
    "start_time": "2022-03-16T18:33:31.275Z"
   },
   {
    "duration": 8,
    "start_time": "2022-03-16T18:33:31.294Z"
   },
   {
    "duration": 71,
    "start_time": "2022-03-16T18:33:31.304Z"
   },
   {
    "duration": 56,
    "start_time": "2022-03-16T18:33:31.377Z"
   },
   {
    "duration": 36,
    "start_time": "2022-03-16T18:33:31.435Z"
   },
   {
    "duration": 11,
    "start_time": "2022-03-16T18:33:31.473Z"
   },
   {
    "duration": 10,
    "start_time": "2022-03-16T18:33:31.486Z"
   },
   {
    "duration": 20,
    "start_time": "2022-03-16T18:33:31.499Z"
   },
   {
    "duration": 228,
    "start_time": "2022-03-16T18:35:03.598Z"
   },
   {
    "duration": 35,
    "start_time": "2022-03-16T18:36:13.835Z"
   },
   {
    "duration": 20,
    "start_time": "2022-03-16T18:36:21.635Z"
   },
   {
    "duration": 733,
    "start_time": "2022-03-16T18:36:28.350Z"
   },
   {
    "duration": 28,
    "start_time": "2022-03-16T18:36:29.085Z"
   },
   {
    "duration": 9,
    "start_time": "2022-03-16T18:36:29.115Z"
   },
   {
    "duration": 2,
    "start_time": "2022-03-16T18:36:29.126Z"
   },
   {
    "duration": 29,
    "start_time": "2022-03-16T18:36:29.130Z"
   },
   {
    "duration": 8,
    "start_time": "2022-03-16T18:36:29.161Z"
   },
   {
    "duration": 6,
    "start_time": "2022-03-16T18:36:29.171Z"
   },
   {
    "duration": 7,
    "start_time": "2022-03-16T18:36:29.179Z"
   },
   {
    "duration": 6,
    "start_time": "2022-03-16T18:36:29.189Z"
   },
   {
    "duration": 8,
    "start_time": "2022-03-16T18:36:29.197Z"
   },
   {
    "duration": 5,
    "start_time": "2022-03-16T18:36:29.207Z"
   },
   {
    "duration": 50,
    "start_time": "2022-03-16T18:36:29.214Z"
   },
   {
    "duration": 6,
    "start_time": "2022-03-16T18:36:29.266Z"
   },
   {
    "duration": 15,
    "start_time": "2022-03-16T18:36:29.273Z"
   },
   {
    "duration": 13,
    "start_time": "2022-03-16T18:36:29.290Z"
   },
   {
    "duration": 6,
    "start_time": "2022-03-16T18:36:29.305Z"
   },
   {
    "duration": 60,
    "start_time": "2022-03-16T18:36:29.313Z"
   },
   {
    "duration": 15,
    "start_time": "2022-03-16T18:36:29.375Z"
   },
   {
    "duration": 7,
    "start_time": "2022-03-16T18:36:29.392Z"
   },
   {
    "duration": 16,
    "start_time": "2022-03-16T18:36:29.400Z"
   },
   {
    "duration": 67,
    "start_time": "2022-03-16T18:36:29.418Z"
   },
   {
    "duration": 130,
    "start_time": "2022-03-16T18:36:29.488Z"
   },
   {
    "duration": 9,
    "start_time": "2022-03-16T18:36:29.622Z"
   },
   {
    "duration": 33,
    "start_time": "2022-03-16T18:36:29.634Z"
   },
   {
    "duration": 11,
    "start_time": "2022-03-16T18:36:29.669Z"
   },
   {
    "duration": 15,
    "start_time": "2022-03-16T18:36:29.681Z"
   },
   {
    "duration": 14,
    "start_time": "2022-03-16T18:36:29.697Z"
   },
   {
    "duration": 275,
    "start_time": "2022-03-16T18:36:29.713Z"
   },
   {
    "duration": 2,
    "start_time": "2022-03-16T18:36:29.989Z"
   },
   {
    "duration": 16,
    "start_time": "2022-03-16T18:36:29.993Z"
   },
   {
    "duration": 17,
    "start_time": "2022-03-16T18:36:30.011Z"
   },
   {
    "duration": 5,
    "start_time": "2022-03-16T18:36:30.030Z"
   },
   {
    "duration": 35,
    "start_time": "2022-03-16T18:36:30.037Z"
   },
   {
    "duration": 8,
    "start_time": "2022-03-16T18:36:30.074Z"
   },
   {
    "duration": 19,
    "start_time": "2022-03-16T18:36:30.084Z"
   },
   {
    "duration": 13,
    "start_time": "2022-03-16T18:36:30.105Z"
   },
   {
    "duration": 771,
    "start_time": "2022-03-16T18:36:30.120Z"
   },
   {
    "duration": 3,
    "start_time": "2022-03-16T18:36:30.893Z"
   },
   {
    "duration": 13,
    "start_time": "2022-03-16T18:36:30.898Z"
   },
   {
    "duration": 2926,
    "start_time": "2022-03-16T18:36:30.913Z"
   },
   {
    "duration": 20,
    "start_time": "2022-03-16T18:36:33.841Z"
   },
   {
    "duration": 21,
    "start_time": "2022-03-16T18:36:33.863Z"
   },
   {
    "duration": 33,
    "start_time": "2022-03-16T18:36:33.886Z"
   },
   {
    "duration": 43,
    "start_time": "2022-03-16T18:36:33.921Z"
   },
   {
    "duration": 8,
    "start_time": "2022-03-16T18:36:33.966Z"
   },
   {
    "duration": 45,
    "start_time": "2022-03-16T18:36:33.976Z"
   },
   {
    "duration": 82,
    "start_time": "2022-03-16T18:36:34.023Z"
   },
   {
    "duration": 18,
    "start_time": "2022-03-16T18:36:34.106Z"
   },
   {
    "duration": 10,
    "start_time": "2022-03-16T18:36:34.125Z"
   },
   {
    "duration": 24,
    "start_time": "2022-03-16T18:36:34.137Z"
   },
   {
    "duration": 16,
    "start_time": "2022-03-16T18:36:34.163Z"
   },
   {
    "duration": 17,
    "start_time": "2022-03-16T18:36:48.921Z"
   },
   {
    "duration": 20,
    "start_time": "2022-03-16T18:36:51.875Z"
   },
   {
    "duration": 130,
    "start_time": "2022-03-16T18:52:31.137Z"
   },
   {
    "duration": 690,
    "start_time": "2022-03-17T07:06:26.085Z"
   },
   {
    "duration": 26,
    "start_time": "2022-03-17T07:06:26.777Z"
   },
   {
    "duration": 11,
    "start_time": "2022-03-17T07:06:26.805Z"
   },
   {
    "duration": 39,
    "start_time": "2022-03-17T07:06:26.818Z"
   },
   {
    "duration": 45,
    "start_time": "2022-03-17T07:06:26.858Z"
   },
   {
    "duration": 44,
    "start_time": "2022-03-17T07:06:26.905Z"
   },
   {
    "duration": 45,
    "start_time": "2022-03-17T07:06:26.951Z"
   },
   {
    "duration": 50,
    "start_time": "2022-03-17T07:06:26.998Z"
   },
   {
    "duration": 46,
    "start_time": "2022-03-17T07:06:27.052Z"
   },
   {
    "duration": 29,
    "start_time": "2022-03-17T07:06:27.100Z"
   },
   {
    "duration": 49,
    "start_time": "2022-03-17T07:06:27.131Z"
   },
   {
    "duration": 39,
    "start_time": "2022-03-17T07:06:27.181Z"
   },
   {
    "duration": 29,
    "start_time": "2022-03-17T07:06:27.222Z"
   },
   {
    "duration": 32,
    "start_time": "2022-03-17T07:06:27.252Z"
   },
   {
    "duration": 45,
    "start_time": "2022-03-17T07:06:27.286Z"
   },
   {
    "duration": 26,
    "start_time": "2022-03-17T07:06:27.333Z"
   },
   {
    "duration": 63,
    "start_time": "2022-03-17T07:06:27.361Z"
   },
   {
    "duration": 31,
    "start_time": "2022-03-17T07:06:27.426Z"
   },
   {
    "duration": 26,
    "start_time": "2022-03-17T07:06:27.458Z"
   },
   {
    "duration": 46,
    "start_time": "2022-03-17T07:06:27.485Z"
   },
   {
    "duration": 47,
    "start_time": "2022-03-17T07:06:27.532Z"
   },
   {
    "duration": 107,
    "start_time": "2022-03-17T07:06:27.581Z"
   },
   {
    "duration": 8,
    "start_time": "2022-03-17T07:06:27.690Z"
   },
   {
    "duration": 45,
    "start_time": "2022-03-17T07:06:27.699Z"
   },
   {
    "duration": 9,
    "start_time": "2022-03-17T07:06:27.746Z"
   },
   {
    "duration": 42,
    "start_time": "2022-03-17T07:06:27.756Z"
   },
   {
    "duration": 28,
    "start_time": "2022-03-17T07:06:27.802Z"
   },
   {
    "duration": 263,
    "start_time": "2022-03-17T07:06:27.832Z"
   },
   {
    "duration": 2,
    "start_time": "2022-03-17T07:06:28.097Z"
   },
   {
    "duration": 33,
    "start_time": "2022-03-17T07:06:28.100Z"
   },
   {
    "duration": 67,
    "start_time": "2022-03-17T07:06:28.135Z"
   },
   {
    "duration": 49,
    "start_time": "2022-03-17T07:06:28.203Z"
   },
   {
    "duration": 77,
    "start_time": "2022-03-17T07:06:28.253Z"
   },
   {
    "duration": 61,
    "start_time": "2022-03-17T07:06:28.331Z"
   },
   {
    "duration": 43,
    "start_time": "2022-03-17T07:06:28.393Z"
   },
   {
    "duration": 31,
    "start_time": "2022-03-17T07:06:28.437Z"
   },
   {
    "duration": 1373,
    "start_time": "2022-03-17T07:06:28.470Z"
   },
   {
    "duration": 3,
    "start_time": "2022-03-17T07:06:29.845Z"
   },
   {
    "duration": 52,
    "start_time": "2022-03-17T07:06:29.849Z"
   },
   {
    "duration": 2725,
    "start_time": "2022-03-17T07:06:29.903Z"
   },
   {
    "duration": 6,
    "start_time": "2022-03-17T07:06:32.629Z"
   },
   {
    "duration": 35,
    "start_time": "2022-03-17T07:06:32.637Z"
   },
   {
    "duration": 30,
    "start_time": "2022-03-17T07:06:32.674Z"
   },
   {
    "duration": 6,
    "start_time": "2022-03-17T07:06:32.706Z"
   },
   {
    "duration": 61,
    "start_time": "2022-03-17T07:06:32.714Z"
   },
   {
    "duration": 47,
    "start_time": "2022-03-17T07:06:32.777Z"
   },
   {
    "duration": 15,
    "start_time": "2022-03-17T07:06:32.826Z"
   },
   {
    "duration": 9,
    "start_time": "2022-03-17T07:06:32.863Z"
   },
   {
    "duration": 17,
    "start_time": "2022-03-17T07:06:32.874Z"
   },
   {
    "duration": 24,
    "start_time": "2022-03-17T07:06:32.893Z"
   },
   {
    "duration": 693,
    "start_time": "2022-03-17T07:13:37.096Z"
   },
   {
    "duration": 29,
    "start_time": "2022-03-17T07:13:37.790Z"
   },
   {
    "duration": 10,
    "start_time": "2022-03-17T07:13:37.821Z"
   },
   {
    "duration": 2,
    "start_time": "2022-03-17T07:13:37.833Z"
   },
   {
    "duration": 29,
    "start_time": "2022-03-17T07:13:37.837Z"
   },
   {
    "duration": 7,
    "start_time": "2022-03-17T07:13:37.868Z"
   },
   {
    "duration": 5,
    "start_time": "2022-03-17T07:13:37.876Z"
   },
   {
    "duration": 8,
    "start_time": "2022-03-17T07:13:37.883Z"
   },
   {
    "duration": 4,
    "start_time": "2022-03-17T07:13:37.895Z"
   },
   {
    "duration": 9,
    "start_time": "2022-03-17T07:13:37.901Z"
   },
   {
    "duration": 6,
    "start_time": "2022-03-17T07:13:37.912Z"
   },
   {
    "duration": 46,
    "start_time": "2022-03-17T07:13:37.920Z"
   },
   {
    "duration": 8,
    "start_time": "2022-03-17T07:13:37.967Z"
   },
   {
    "duration": 9,
    "start_time": "2022-03-17T07:13:37.977Z"
   },
   {
    "duration": 14,
    "start_time": "2022-03-17T07:13:37.988Z"
   },
   {
    "duration": 7,
    "start_time": "2022-03-17T07:13:38.003Z"
   },
   {
    "duration": 18,
    "start_time": "2022-03-17T07:13:38.011Z"
   },
   {
    "duration": 44,
    "start_time": "2022-03-17T07:13:38.031Z"
   },
   {
    "duration": 5,
    "start_time": "2022-03-17T07:13:38.076Z"
   },
   {
    "duration": 16,
    "start_time": "2022-03-17T07:13:38.082Z"
   },
   {
    "duration": 18,
    "start_time": "2022-03-17T07:13:38.100Z"
   },
   {
    "duration": 114,
    "start_time": "2022-03-17T07:13:38.119Z"
   },
   {
    "duration": 7,
    "start_time": "2022-03-17T07:13:38.235Z"
   },
   {
    "duration": 27,
    "start_time": "2022-03-17T07:13:38.243Z"
   },
   {
    "duration": 6,
    "start_time": "2022-03-17T07:13:38.272Z"
   },
   {
    "duration": 11,
    "start_time": "2022-03-17T07:13:38.280Z"
   },
   {
    "duration": 11,
    "start_time": "2022-03-17T07:13:38.295Z"
   },
   {
    "duration": 254,
    "start_time": "2022-03-17T07:13:38.308Z"
   },
   {
    "duration": 2,
    "start_time": "2022-03-17T07:13:38.564Z"
   },
   {
    "duration": 7,
    "start_time": "2022-03-17T07:13:38.567Z"
   },
   {
    "duration": 15,
    "start_time": "2022-03-17T07:13:38.576Z"
   },
   {
    "duration": 17,
    "start_time": "2022-03-17T07:13:38.593Z"
   },
   {
    "duration": 20,
    "start_time": "2022-03-17T07:13:38.612Z"
   },
   {
    "duration": 7,
    "start_time": "2022-03-17T07:13:38.633Z"
   },
   {
    "duration": 28,
    "start_time": "2022-03-17T07:13:38.642Z"
   },
   {
    "duration": 7,
    "start_time": "2022-03-17T07:13:38.671Z"
   },
   {
    "duration": 652,
    "start_time": "2022-03-17T07:13:38.680Z"
   },
   {
    "duration": 2,
    "start_time": "2022-03-17T07:13:39.334Z"
   },
   {
    "duration": 5,
    "start_time": "2022-03-17T07:13:39.338Z"
   },
   {
    "duration": 2836,
    "start_time": "2022-03-17T07:13:39.345Z"
   },
   {
    "duration": 6,
    "start_time": "2022-03-17T07:13:42.183Z"
   },
   {
    "duration": 45,
    "start_time": "2022-03-17T07:13:42.191Z"
   },
   {
    "duration": 31,
    "start_time": "2022-03-17T07:13:42.237Z"
   },
   {
    "duration": 7,
    "start_time": "2022-03-17T07:13:42.269Z"
   },
   {
    "duration": 60,
    "start_time": "2022-03-17T07:13:42.277Z"
   },
   {
    "duration": 59,
    "start_time": "2022-03-17T07:13:42.344Z"
   },
   {
    "duration": 16,
    "start_time": "2022-03-17T07:13:42.405Z"
   },
   {
    "duration": 7,
    "start_time": "2022-03-17T07:13:42.423Z"
   },
   {
    "duration": 6,
    "start_time": "2022-03-17T07:13:42.432Z"
   },
   {
    "duration": 37,
    "start_time": "2022-03-17T07:13:42.439Z"
   }
  ],
  "kernelspec": {
   "display_name": "Python 3 (ipykernel)",
   "language": "python",
   "name": "python3"
  },
  "language_info": {
   "codemirror_mode": {
    "name": "ipython",
    "version": 3
   },
   "file_extension": ".py",
   "mimetype": "text/x-python",
   "name": "python",
   "nbconvert_exporter": "python",
   "pygments_lexer": "ipython3",
   "version": "3.10.4"
  },
  "toc": {
   "base_numbering": 1,
   "nav_menu": {},
   "number_sections": true,
   "sideBar": true,
   "skip_h1_title": true,
   "title_cell": "Table of Contents",
   "title_sidebar": "Contents",
   "toc_cell": false,
   "toc_position": {},
   "toc_section_display": true,
   "toc_window_display": true
  }
 },
 "nbformat": 4,
 "nbformat_minor": 5
}
