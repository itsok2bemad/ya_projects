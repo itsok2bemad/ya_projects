{
 "cells": [
  {
   "cell_type": "markdown",
   "metadata": {},
   "source": [
    "# Определение перспективного тарифа для телеком компании\n",
    "\n",
    "**Описание проекта**\n",
    "\n",
    "*Вы аналитик компании «Мегалайн» — федерального оператора сотовой связи. Клиентам предлагают два тарифных плана: «Смарт» и «Ультра». Чтобы скорректировать рекламный бюджет, коммерческий департамент хочет понять, какой тариф приносит больше денег. Вам предстоит сделать предварительный анализ тарифов на небольшой выборке клиентов. В вашем распоряжении данные 500 пользователей «Мегалайна»: кто они, откуда, каким тарифом пользуются, сколько звонков и сообщений каждый отправил за 2018 год. Нужно проанализировать поведение клиентов и сделать вывод — какой тариф лучше.*\n",
    "\n",
    "**Описание тарифов**\n",
    "\n",
    "*Тариф «Смарт»*\\\n",
    "Ежемесячная плата: 550 рублей\\\n",
    "Включено 500 минут разговора, 50 сообщений и 15 Гб интернет-трафика\\\n",
    "Стоимость услуг сверх тарифного пакета:\\\n",
    "Минута разговора: 3 рубля\\\n",
    "Сообщение: 3 рубля\\\n",
    "1 Гб интернет-трафика: 200 рублей\n",
    "\n",
    "*Тариф «Ультра»*\\\n",
    "Ежемесячная плата: 1950 рублей\\\n",
    "Включено 3000 минут разговора, 1000 сообщений и 30 Гб интернет-трафика\\\n",
    "Стоимость услуг сверх тарифного пакета:\\\n",
    "Минута разговора: 1 рубль\\\n",
    "Сообщение: 1 рубль\\\n",
    "1 Гб интернет-трафика: 150 рублей\n",
    "\n",
    "**Обратите внимание:** «Мегалайн» всегда округляет вверх значения минут и мегабайтов. Если пользователь проговорил всего 1 секунду, в тарифе засчитывается целая минута.\n",
    "\n",
    "**Инструкция по выполнению проекта**\n",
    "\n",
    "Откройте файл с данными и изучите общую информацию \\\n",
    "Путь к файлам: /datasets/calls.csv. \\\n",
    "/datasets/internet.csv. \\\n",
    "/datasets/messages.csv. \\\n",
    "/datasets/tariffs.csv. \\\n",
    "/datasets/users.csv. \n",
    "\n",
    "* Подготовьте данные\n",
    "* Приведите данные к нужным типам;\n",
    "* Найдите и исправьте ошибки в данных.\n",
    "* Поясните, какие ошибки вы нашли и как их исправили. Обратите внимание, что длительность многих звонков — 0.0 минут. Это могут быть пропущенные звонки. Обрабатывать ли эти нулевые значения, решать вам — оцените, как их отсутствие повлияет на результаты анализа.\n",
    "* Посчитайте для каждого пользователя: \\\n",
    "количество сделанных звонков и израсходованных минут разговора по месяцам; \\\n",
    "количество отправленных сообщений по месяцам; \\\n",
    "объем израсходованного интернет-трафика по месяцам; \\\n",
    "помесячную выручку с каждого пользователя (вычтите бесплатный лимит из суммарного количества звонков, сообщений и интернет-трафика; остаток умножьте на значение из тарифного плана; прибавьте абонентскую плату, соответствующую тарифному плану). \n",
    "* Проанализируйте данные\n",
    "* Опишите поведение клиентов оператора, исходя из выборки.\n",
    "* Сколько минут разговора, сколько сообщений и какой объём интернет-трафика требуется пользователям каждого тарифа в месяц?\n",
    "* Посчитайте среднее количество, дисперсию и стандартное отклонение.\n",
    "* Постройте гистограммы. Опишите распределения.\n",
    "* Проверьте гипотезы\n",
    "средняя выручка пользователей тарифов «Ультра» и «Смарт» различается; \\\n",
    "средняя выручка пользователей из Москвы отличается от выручки пользователей из других регионов; \n",
    "Пороговое значение alpha задайте самостоятельно.\n",
    "\n",
    "* Поясните: \\\n",
    "как вы формулировали нулевую и альтернативную гипотезы;\n",
    "какой критерий использовали для проверки гипотез и почему.\n",
    "Напишите общий вывод\n",
    "\n",
    "**Описание данных**\n",
    "\n",
    "Таблица **users** (информация о пользователях): \\\n",
    "*user_id* — уникальный идентификатор пользователя \\\n",
    "*first_name* — имя пользователя \\\n",
    "*last_name* — фамилия пользователя \\\n",
    "*age* — возраст пользователя (годы) \\\n",
    "*reg_date* — дата подключения тарифа (день, месяц, год) \\\n",
    "*churn_date* — дата прекращения пользования тарифом (если значение пропущено, то тариф ещё действовал на момент выгрузки данных) \\\n",
    "*city* — город проживания пользователя \\\n",
    "*tariff* — название тарифного плана \n",
    "\n",
    "Таблица **calls** (информация о звонках): \\\n",
    "*id* — уникальный номер звонка \\\n",
    "*call_date* — дата звонка \\\n",
    "*duration* — длительность звонка в минутах \\\n",
    "*user_id* — идентификатор пользователя, сделавшего звонок\n",
    "\n",
    "Таблица **messages** (информация о сообщениях): \\\n",
    "*id* — уникальный номер сообщения \\\n",
    "*message_date* — дата сообщения \\\n",
    "*user_id* — идентификатор пользователя, отправившего сообщение\n",
    "\n",
    "Таблица **internet** (информация об интернет-сессиях): \\\n",
    "*id* — уникальный номер сессии \\\n",
    "*mb_used* — объём потраченного за сессию интернет-трафика (в мегабайтах) \\\n",
    "*session_date* — дата интернет-сессии \\\n",
    "*user_id* — идентификатор пользователя\n",
    "\n",
    "Таблица **tariffs** (информация о тарифах): \\\n",
    "*tariff_name* — название тарифа \\\n",
    "*rub_monthly_fee* — ежемесячная абонентская плата в рублях \\\n",
    "*minutes_included* — количество минут разговора в месяц, включённых в абонентскую плату \\\n",
    "*messages_included* — количество сообщений в месяц, включённых в абонентскую плату \\\n",
    "*mb_per_month_included* — объём интернет-трафика, включённого в абонентскую плату (в мегабайтах) \\\n",
    "*rub_per_minute* — стоимость минуты разговора сверх тарифного пакета (например, если в тарифе 100 минут разговора в месяц, то со 101 минуты будет взиматься плата) \\\n",
    "*rub_per_message* — стоимость отправки сообщения сверх тарифного пакета \\\n",
    "*rub_per_gb* — стоимость дополнительного гигабайта интернет-трафика сверх тарифного пакета (1 гигабайт = 1024 мегабайта)"
   ]
  },
  {
   "cell_type": "markdown",
   "metadata": {},
   "source": [
    "## Обзор данных"
   ]
  },
  {
   "cell_type": "markdown",
   "metadata": {},
   "source": [
    "Производим импорт библиотек для дальнейшей предобработки."
   ]
  },
  {
   "cell_type": "code",
   "execution_count": 1,
   "metadata": {},
   "outputs": [],
   "source": [
    "from pymystem3 import Mystem\n",
    "m = Mystem()\n",
    "\n",
    "import numpy as np\n",
    "import pandas as pd\n",
    "import matplotlib.pyplot as plt\n",
    "from IPython.display import display"
   ]
  },
  {
   "cell_type": "markdown",
   "metadata": {},
   "source": [
    "Импортируем таблицы в переменные."
   ]
  },
  {
   "cell_type": "code",
   "execution_count": 2,
   "metadata": {
    "scrolled": false
   },
   "outputs": [],
   "source": [
    "calls = pd.read_csv(\"/datasets/calls.csv\", sep=\",\")\n",
    "internet = pd.read_csv(\"/datasets/internet.csv\", sep=\",\")\n",
    "messages = pd.read_csv(\"/datasets/messages.csv\", sep=\",\")\n",
    "tariffs = pd.read_csv(\"/datasets/tariffs.csv\", sep=\",\")\n",
    "users = pd.read_csv(\"/datasets/users.csv\", sep=\",\")"
   ]
  },
  {
   "cell_type": "markdown",
   "metadata": {},
   "source": [
    "Напишем функцию для описания данных."
   ]
  },
  {
   "cell_type": "code",
   "execution_count": 3,
   "metadata": {},
   "outputs": [
    {
     "name": "stdout",
     "output_type": "stream",
     "text": [
      "<class 'pandas.core.frame.DataFrame'>\n",
      "RangeIndex: 500 entries, 0 to 499\n",
      "Data columns (total 8 columns):\n",
      " #   Column      Non-Null Count  Dtype \n",
      "---  ------      --------------  ----- \n",
      " 0   user_id     500 non-null    int64 \n",
      " 1   age         500 non-null    int64 \n",
      " 2   churn_date  38 non-null     object\n",
      " 3   city        500 non-null    object\n",
      " 4   first_name  500 non-null    object\n",
      " 5   last_name   500 non-null    object\n",
      " 6   reg_date    500 non-null    object\n",
      " 7   tariff      500 non-null    object\n",
      "dtypes: int64(2), object(6)\n",
      "memory usage: 31.4+ KB\n",
      "None\n"
     ]
    },
    {
     "data": {
      "text/html": [
       "<div>\n",
       "<style scoped>\n",
       "    .dataframe tbody tr th:only-of-type {\n",
       "        vertical-align: middle;\n",
       "    }\n",
       "\n",
       "    .dataframe tbody tr th {\n",
       "        vertical-align: top;\n",
       "    }\n",
       "\n",
       "    .dataframe thead th {\n",
       "        text-align: right;\n",
       "    }\n",
       "</style>\n",
       "<table border=\"1\" class=\"dataframe\">\n",
       "  <thead>\n",
       "    <tr style=\"text-align: right;\">\n",
       "      <th></th>\n",
       "      <th>user_id</th>\n",
       "      <th>age</th>\n",
       "      <th>churn_date</th>\n",
       "      <th>city</th>\n",
       "      <th>first_name</th>\n",
       "      <th>last_name</th>\n",
       "      <th>reg_date</th>\n",
       "      <th>tariff</th>\n",
       "    </tr>\n",
       "  </thead>\n",
       "  <tbody>\n",
       "    <tr>\n",
       "      <th>0</th>\n",
       "      <td>1000</td>\n",
       "      <td>52</td>\n",
       "      <td>NaN</td>\n",
       "      <td>Краснодар</td>\n",
       "      <td>Рафаил</td>\n",
       "      <td>Верещагин</td>\n",
       "      <td>2018-05-25</td>\n",
       "      <td>ultra</td>\n",
       "    </tr>\n",
       "    <tr>\n",
       "      <th>1</th>\n",
       "      <td>1001</td>\n",
       "      <td>41</td>\n",
       "      <td>NaN</td>\n",
       "      <td>Москва</td>\n",
       "      <td>Иван</td>\n",
       "      <td>Ежов</td>\n",
       "      <td>2018-11-01</td>\n",
       "      <td>smart</td>\n",
       "    </tr>\n",
       "    <tr>\n",
       "      <th>2</th>\n",
       "      <td>1002</td>\n",
       "      <td>59</td>\n",
       "      <td>NaN</td>\n",
       "      <td>Стерлитамак</td>\n",
       "      <td>Евгений</td>\n",
       "      <td>Абрамович</td>\n",
       "      <td>2018-06-17</td>\n",
       "      <td>smart</td>\n",
       "    </tr>\n",
       "    <tr>\n",
       "      <th>3</th>\n",
       "      <td>1003</td>\n",
       "      <td>23</td>\n",
       "      <td>NaN</td>\n",
       "      <td>Москва</td>\n",
       "      <td>Белла</td>\n",
       "      <td>Белякова</td>\n",
       "      <td>2018-08-17</td>\n",
       "      <td>ultra</td>\n",
       "    </tr>\n",
       "    <tr>\n",
       "      <th>4</th>\n",
       "      <td>1004</td>\n",
       "      <td>68</td>\n",
       "      <td>NaN</td>\n",
       "      <td>Новокузнецк</td>\n",
       "      <td>Татьяна</td>\n",
       "      <td>Авдеенко</td>\n",
       "      <td>2018-05-14</td>\n",
       "      <td>ultra</td>\n",
       "    </tr>\n",
       "  </tbody>\n",
       "</table>\n",
       "</div>"
      ],
      "text/plain": [
       "   user_id  age churn_date         city first_name  last_name    reg_date  \\\n",
       "0     1000   52        NaN    Краснодар     Рафаил  Верещагин  2018-05-25   \n",
       "1     1001   41        NaN       Москва       Иван       Ежов  2018-11-01   \n",
       "2     1002   59        NaN  Стерлитамак    Евгений  Абрамович  2018-06-17   \n",
       "3     1003   23        NaN       Москва      Белла   Белякова  2018-08-17   \n",
       "4     1004   68        NaN  Новокузнецк    Татьяна   Авдеенко  2018-05-14   \n",
       "\n",
       "  tariff  \n",
       "0  ultra  \n",
       "1  smart  \n",
       "2  smart  \n",
       "3  ultra  \n",
       "4  ultra  "
      ]
     },
     "metadata": {},
     "output_type": "display_data"
    },
    {
     "name": "stdout",
     "output_type": "stream",
     "text": [
      "\n",
      "<class 'pandas.core.frame.DataFrame'>\n",
      "RangeIndex: 202607 entries, 0 to 202606\n",
      "Data columns (total 4 columns):\n",
      " #   Column     Non-Null Count   Dtype  \n",
      "---  ------     --------------   -----  \n",
      " 0   id         202607 non-null  object \n",
      " 1   call_date  202607 non-null  object \n",
      " 2   duration   202607 non-null  float64\n",
      " 3   user_id    202607 non-null  int64  \n",
      "dtypes: float64(1), int64(1), object(2)\n",
      "memory usage: 6.2+ MB\n",
      "None\n"
     ]
    },
    {
     "data": {
      "text/html": [
       "<div>\n",
       "<style scoped>\n",
       "    .dataframe tbody tr th:only-of-type {\n",
       "        vertical-align: middle;\n",
       "    }\n",
       "\n",
       "    .dataframe tbody tr th {\n",
       "        vertical-align: top;\n",
       "    }\n",
       "\n",
       "    .dataframe thead th {\n",
       "        text-align: right;\n",
       "    }\n",
       "</style>\n",
       "<table border=\"1\" class=\"dataframe\">\n",
       "  <thead>\n",
       "    <tr style=\"text-align: right;\">\n",
       "      <th></th>\n",
       "      <th>id</th>\n",
       "      <th>call_date</th>\n",
       "      <th>duration</th>\n",
       "      <th>user_id</th>\n",
       "    </tr>\n",
       "  </thead>\n",
       "  <tbody>\n",
       "    <tr>\n",
       "      <th>0</th>\n",
       "      <td>1000_0</td>\n",
       "      <td>2018-07-25</td>\n",
       "      <td>0.00</td>\n",
       "      <td>1000</td>\n",
       "    </tr>\n",
       "    <tr>\n",
       "      <th>1</th>\n",
       "      <td>1000_1</td>\n",
       "      <td>2018-08-17</td>\n",
       "      <td>0.00</td>\n",
       "      <td>1000</td>\n",
       "    </tr>\n",
       "    <tr>\n",
       "      <th>2</th>\n",
       "      <td>1000_2</td>\n",
       "      <td>2018-06-11</td>\n",
       "      <td>2.85</td>\n",
       "      <td>1000</td>\n",
       "    </tr>\n",
       "    <tr>\n",
       "      <th>3</th>\n",
       "      <td>1000_3</td>\n",
       "      <td>2018-09-21</td>\n",
       "      <td>13.80</td>\n",
       "      <td>1000</td>\n",
       "    </tr>\n",
       "    <tr>\n",
       "      <th>4</th>\n",
       "      <td>1000_4</td>\n",
       "      <td>2018-12-15</td>\n",
       "      <td>5.18</td>\n",
       "      <td>1000</td>\n",
       "    </tr>\n",
       "  </tbody>\n",
       "</table>\n",
       "</div>"
      ],
      "text/plain": [
       "       id   call_date  duration  user_id\n",
       "0  1000_0  2018-07-25      0.00     1000\n",
       "1  1000_1  2018-08-17      0.00     1000\n",
       "2  1000_2  2018-06-11      2.85     1000\n",
       "3  1000_3  2018-09-21     13.80     1000\n",
       "4  1000_4  2018-12-15      5.18     1000"
      ]
     },
     "metadata": {},
     "output_type": "display_data"
    },
    {
     "name": "stdout",
     "output_type": "stream",
     "text": [
      "\n",
      "<class 'pandas.core.frame.DataFrame'>\n",
      "RangeIndex: 123036 entries, 0 to 123035\n",
      "Data columns (total 3 columns):\n",
      " #   Column        Non-Null Count   Dtype \n",
      "---  ------        --------------   ----- \n",
      " 0   id            123036 non-null  object\n",
      " 1   message_date  123036 non-null  object\n",
      " 2   user_id       123036 non-null  int64 \n",
      "dtypes: int64(1), object(2)\n",
      "memory usage: 2.8+ MB\n",
      "None\n"
     ]
    },
    {
     "data": {
      "text/html": [
       "<div>\n",
       "<style scoped>\n",
       "    .dataframe tbody tr th:only-of-type {\n",
       "        vertical-align: middle;\n",
       "    }\n",
       "\n",
       "    .dataframe tbody tr th {\n",
       "        vertical-align: top;\n",
       "    }\n",
       "\n",
       "    .dataframe thead th {\n",
       "        text-align: right;\n",
       "    }\n",
       "</style>\n",
       "<table border=\"1\" class=\"dataframe\">\n",
       "  <thead>\n",
       "    <tr style=\"text-align: right;\">\n",
       "      <th></th>\n",
       "      <th>id</th>\n",
       "      <th>message_date</th>\n",
       "      <th>user_id</th>\n",
       "    </tr>\n",
       "  </thead>\n",
       "  <tbody>\n",
       "    <tr>\n",
       "      <th>0</th>\n",
       "      <td>1000_0</td>\n",
       "      <td>2018-06-27</td>\n",
       "      <td>1000</td>\n",
       "    </tr>\n",
       "    <tr>\n",
       "      <th>1</th>\n",
       "      <td>1000_1</td>\n",
       "      <td>2018-10-08</td>\n",
       "      <td>1000</td>\n",
       "    </tr>\n",
       "    <tr>\n",
       "      <th>2</th>\n",
       "      <td>1000_2</td>\n",
       "      <td>2018-08-04</td>\n",
       "      <td>1000</td>\n",
       "    </tr>\n",
       "    <tr>\n",
       "      <th>3</th>\n",
       "      <td>1000_3</td>\n",
       "      <td>2018-06-16</td>\n",
       "      <td>1000</td>\n",
       "    </tr>\n",
       "    <tr>\n",
       "      <th>4</th>\n",
       "      <td>1000_4</td>\n",
       "      <td>2018-12-05</td>\n",
       "      <td>1000</td>\n",
       "    </tr>\n",
       "  </tbody>\n",
       "</table>\n",
       "</div>"
      ],
      "text/plain": [
       "       id message_date  user_id\n",
       "0  1000_0   2018-06-27     1000\n",
       "1  1000_1   2018-10-08     1000\n",
       "2  1000_2   2018-08-04     1000\n",
       "3  1000_3   2018-06-16     1000\n",
       "4  1000_4   2018-12-05     1000"
      ]
     },
     "metadata": {},
     "output_type": "display_data"
    },
    {
     "name": "stdout",
     "output_type": "stream",
     "text": [
      "\n",
      "<class 'pandas.core.frame.DataFrame'>\n",
      "RangeIndex: 149396 entries, 0 to 149395\n",
      "Data columns (total 5 columns):\n",
      " #   Column        Non-Null Count   Dtype  \n",
      "---  ------        --------------   -----  \n",
      " 0   Unnamed: 0    149396 non-null  int64  \n",
      " 1   id            149396 non-null  object \n",
      " 2   mb_used       149396 non-null  float64\n",
      " 3   session_date  149396 non-null  object \n",
      " 4   user_id       149396 non-null  int64  \n",
      "dtypes: float64(1), int64(2), object(2)\n",
      "memory usage: 5.7+ MB\n",
      "None\n"
     ]
    },
    {
     "data": {
      "text/html": [
       "<div>\n",
       "<style scoped>\n",
       "    .dataframe tbody tr th:only-of-type {\n",
       "        vertical-align: middle;\n",
       "    }\n",
       "\n",
       "    .dataframe tbody tr th {\n",
       "        vertical-align: top;\n",
       "    }\n",
       "\n",
       "    .dataframe thead th {\n",
       "        text-align: right;\n",
       "    }\n",
       "</style>\n",
       "<table border=\"1\" class=\"dataframe\">\n",
       "  <thead>\n",
       "    <tr style=\"text-align: right;\">\n",
       "      <th></th>\n",
       "      <th>Unnamed: 0</th>\n",
       "      <th>id</th>\n",
       "      <th>mb_used</th>\n",
       "      <th>session_date</th>\n",
       "      <th>user_id</th>\n",
       "    </tr>\n",
       "  </thead>\n",
       "  <tbody>\n",
       "    <tr>\n",
       "      <th>0</th>\n",
       "      <td>0</td>\n",
       "      <td>1000_0</td>\n",
       "      <td>112.95</td>\n",
       "      <td>2018-11-25</td>\n",
       "      <td>1000</td>\n",
       "    </tr>\n",
       "    <tr>\n",
       "      <th>1</th>\n",
       "      <td>1</td>\n",
       "      <td>1000_1</td>\n",
       "      <td>1052.81</td>\n",
       "      <td>2018-09-07</td>\n",
       "      <td>1000</td>\n",
       "    </tr>\n",
       "    <tr>\n",
       "      <th>2</th>\n",
       "      <td>2</td>\n",
       "      <td>1000_2</td>\n",
       "      <td>1197.26</td>\n",
       "      <td>2018-06-25</td>\n",
       "      <td>1000</td>\n",
       "    </tr>\n",
       "    <tr>\n",
       "      <th>3</th>\n",
       "      <td>3</td>\n",
       "      <td>1000_3</td>\n",
       "      <td>550.27</td>\n",
       "      <td>2018-08-22</td>\n",
       "      <td>1000</td>\n",
       "    </tr>\n",
       "    <tr>\n",
       "      <th>4</th>\n",
       "      <td>4</td>\n",
       "      <td>1000_4</td>\n",
       "      <td>302.56</td>\n",
       "      <td>2018-09-24</td>\n",
       "      <td>1000</td>\n",
       "    </tr>\n",
       "  </tbody>\n",
       "</table>\n",
       "</div>"
      ],
      "text/plain": [
       "   Unnamed: 0      id  mb_used session_date  user_id\n",
       "0           0  1000_0   112.95   2018-11-25     1000\n",
       "1           1  1000_1  1052.81   2018-09-07     1000\n",
       "2           2  1000_2  1197.26   2018-06-25     1000\n",
       "3           3  1000_3   550.27   2018-08-22     1000\n",
       "4           4  1000_4   302.56   2018-09-24     1000"
      ]
     },
     "metadata": {},
     "output_type": "display_data"
    },
    {
     "name": "stdout",
     "output_type": "stream",
     "text": [
      "\n",
      "<class 'pandas.core.frame.DataFrame'>\n",
      "RangeIndex: 2 entries, 0 to 1\n",
      "Data columns (total 8 columns):\n",
      " #   Column                 Non-Null Count  Dtype \n",
      "---  ------                 --------------  ----- \n",
      " 0   messages_included      2 non-null      int64 \n",
      " 1   mb_per_month_included  2 non-null      int64 \n",
      " 2   minutes_included       2 non-null      int64 \n",
      " 3   rub_monthly_fee        2 non-null      int64 \n",
      " 4   rub_per_gb             2 non-null      int64 \n",
      " 5   rub_per_message        2 non-null      int64 \n",
      " 6   rub_per_minute         2 non-null      int64 \n",
      " 7   tariff_name            2 non-null      object\n",
      "dtypes: int64(7), object(1)\n",
      "memory usage: 256.0+ bytes\n",
      "None\n"
     ]
    },
    {
     "data": {
      "text/html": [
       "<div>\n",
       "<style scoped>\n",
       "    .dataframe tbody tr th:only-of-type {\n",
       "        vertical-align: middle;\n",
       "    }\n",
       "\n",
       "    .dataframe tbody tr th {\n",
       "        vertical-align: top;\n",
       "    }\n",
       "\n",
       "    .dataframe thead th {\n",
       "        text-align: right;\n",
       "    }\n",
       "</style>\n",
       "<table border=\"1\" class=\"dataframe\">\n",
       "  <thead>\n",
       "    <tr style=\"text-align: right;\">\n",
       "      <th></th>\n",
       "      <th>messages_included</th>\n",
       "      <th>mb_per_month_included</th>\n",
       "      <th>minutes_included</th>\n",
       "      <th>rub_monthly_fee</th>\n",
       "      <th>rub_per_gb</th>\n",
       "      <th>rub_per_message</th>\n",
       "      <th>rub_per_minute</th>\n",
       "      <th>tariff_name</th>\n",
       "    </tr>\n",
       "  </thead>\n",
       "  <tbody>\n",
       "    <tr>\n",
       "      <th>0</th>\n",
       "      <td>50</td>\n",
       "      <td>15360</td>\n",
       "      <td>500</td>\n",
       "      <td>550</td>\n",
       "      <td>200</td>\n",
       "      <td>3</td>\n",
       "      <td>3</td>\n",
       "      <td>smart</td>\n",
       "    </tr>\n",
       "    <tr>\n",
       "      <th>1</th>\n",
       "      <td>1000</td>\n",
       "      <td>30720</td>\n",
       "      <td>3000</td>\n",
       "      <td>1950</td>\n",
       "      <td>150</td>\n",
       "      <td>1</td>\n",
       "      <td>1</td>\n",
       "      <td>ultra</td>\n",
       "    </tr>\n",
       "  </tbody>\n",
       "</table>\n",
       "</div>"
      ],
      "text/plain": [
       "   messages_included  mb_per_month_included  minutes_included  \\\n",
       "0                 50                  15360               500   \n",
       "1               1000                  30720              3000   \n",
       "\n",
       "   rub_monthly_fee  rub_per_gb  rub_per_message  rub_per_minute tariff_name  \n",
       "0              550         200                3               3       smart  \n",
       "1             1950         150                1               1       ultra  "
      ]
     },
     "metadata": {},
     "output_type": "display_data"
    },
    {
     "name": "stdout",
     "output_type": "stream",
     "text": [
      "\n"
     ]
    }
   ],
   "source": [
    "def dataset_info(name_dataset):\n",
    "    print(name_dataset.info())\n",
    "    display(name_dataset.head())\n",
    "    \n",
    "for ds in [users, calls, messages, internet, tariffs]:\n",
    "    dataset_info(ds)\n",
    "    print()"
   ]
  },
  {
   "cell_type": "markdown",
   "metadata": {},
   "source": [
    "***ВЫВОД: Почти все столбцы заполнены. В таблице users в столбце churn_date мало значений, это дата прекращения пользования тарифом. Надо будет поменять типы на DataTime, где присутствуют даты, и некоторые числовые данные поменять на int. Проанализируем таблицы поочереди на корректность самих данных, замену типа, дубликаты. Начнем с users.***"
   ]
  },
  {
   "cell_type": "markdown",
   "metadata": {},
   "source": [
    "## Предобработка данных"
   ]
  },
  {
   "cell_type": "markdown",
   "metadata": {},
   "source": [
    "### Таблица users"
   ]
  },
  {
   "cell_type": "code",
   "execution_count": 4,
   "metadata": {},
   "outputs": [
    {
     "name": "stdout",
     "output_type": "stream",
     "text": [
      "<class 'pandas.core.frame.DataFrame'>\n",
      "RangeIndex: 500 entries, 0 to 499\n",
      "Data columns (total 8 columns):\n",
      " #   Column      Non-Null Count  Dtype \n",
      "---  ------      --------------  ----- \n",
      " 0   user_id     500 non-null    int64 \n",
      " 1   age         500 non-null    int64 \n",
      " 2   churn_date  38 non-null     object\n",
      " 3   city        500 non-null    object\n",
      " 4   first_name  500 non-null    object\n",
      " 5   last_name   500 non-null    object\n",
      " 6   reg_date    500 non-null    object\n",
      " 7   tariff      500 non-null    object\n",
      "dtypes: int64(2), object(6)\n",
      "memory usage: 31.4+ KB\n"
     ]
    },
    {
     "data": {
      "text/plain": [
       "None"
      ]
     },
     "metadata": {},
     "output_type": "display_data"
    },
    {
     "data": {
      "text/html": [
       "<div>\n",
       "<style scoped>\n",
       "    .dataframe tbody tr th:only-of-type {\n",
       "        vertical-align: middle;\n",
       "    }\n",
       "\n",
       "    .dataframe tbody tr th {\n",
       "        vertical-align: top;\n",
       "    }\n",
       "\n",
       "    .dataframe thead th {\n",
       "        text-align: right;\n",
       "    }\n",
       "</style>\n",
       "<table border=\"1\" class=\"dataframe\">\n",
       "  <thead>\n",
       "    <tr style=\"text-align: right;\">\n",
       "      <th></th>\n",
       "      <th>user_id</th>\n",
       "      <th>age</th>\n",
       "      <th>churn_date</th>\n",
       "      <th>city</th>\n",
       "      <th>first_name</th>\n",
       "      <th>last_name</th>\n",
       "      <th>reg_date</th>\n",
       "      <th>tariff</th>\n",
       "    </tr>\n",
       "  </thead>\n",
       "  <tbody>\n",
       "    <tr>\n",
       "      <th>0</th>\n",
       "      <td>1000</td>\n",
       "      <td>52</td>\n",
       "      <td>NaN</td>\n",
       "      <td>Краснодар</td>\n",
       "      <td>Рафаил</td>\n",
       "      <td>Верещагин</td>\n",
       "      <td>2018-05-25</td>\n",
       "      <td>ultra</td>\n",
       "    </tr>\n",
       "    <tr>\n",
       "      <th>1</th>\n",
       "      <td>1001</td>\n",
       "      <td>41</td>\n",
       "      <td>NaN</td>\n",
       "      <td>Москва</td>\n",
       "      <td>Иван</td>\n",
       "      <td>Ежов</td>\n",
       "      <td>2018-11-01</td>\n",
       "      <td>smart</td>\n",
       "    </tr>\n",
       "    <tr>\n",
       "      <th>2</th>\n",
       "      <td>1002</td>\n",
       "      <td>59</td>\n",
       "      <td>NaN</td>\n",
       "      <td>Стерлитамак</td>\n",
       "      <td>Евгений</td>\n",
       "      <td>Абрамович</td>\n",
       "      <td>2018-06-17</td>\n",
       "      <td>smart</td>\n",
       "    </tr>\n",
       "    <tr>\n",
       "      <th>3</th>\n",
       "      <td>1003</td>\n",
       "      <td>23</td>\n",
       "      <td>NaN</td>\n",
       "      <td>Москва</td>\n",
       "      <td>Белла</td>\n",
       "      <td>Белякова</td>\n",
       "      <td>2018-08-17</td>\n",
       "      <td>ultra</td>\n",
       "    </tr>\n",
       "    <tr>\n",
       "      <th>4</th>\n",
       "      <td>1004</td>\n",
       "      <td>68</td>\n",
       "      <td>NaN</td>\n",
       "      <td>Новокузнецк</td>\n",
       "      <td>Татьяна</td>\n",
       "      <td>Авдеенко</td>\n",
       "      <td>2018-05-14</td>\n",
       "      <td>ultra</td>\n",
       "    </tr>\n",
       "    <tr>\n",
       "      <th>...</th>\n",
       "      <td>...</td>\n",
       "      <td>...</td>\n",
       "      <td>...</td>\n",
       "      <td>...</td>\n",
       "      <td>...</td>\n",
       "      <td>...</td>\n",
       "      <td>...</td>\n",
       "      <td>...</td>\n",
       "    </tr>\n",
       "    <tr>\n",
       "      <th>495</th>\n",
       "      <td>1495</td>\n",
       "      <td>65</td>\n",
       "      <td>NaN</td>\n",
       "      <td>Иркутск</td>\n",
       "      <td>Авксентий</td>\n",
       "      <td>Фокин</td>\n",
       "      <td>2018-08-28</td>\n",
       "      <td>ultra</td>\n",
       "    </tr>\n",
       "    <tr>\n",
       "      <th>496</th>\n",
       "      <td>1496</td>\n",
       "      <td>36</td>\n",
       "      <td>NaN</td>\n",
       "      <td>Вологда</td>\n",
       "      <td>Трифон</td>\n",
       "      <td>Блохин</td>\n",
       "      <td>2018-01-27</td>\n",
       "      <td>smart</td>\n",
       "    </tr>\n",
       "    <tr>\n",
       "      <th>497</th>\n",
       "      <td>1497</td>\n",
       "      <td>32</td>\n",
       "      <td>NaN</td>\n",
       "      <td>Челябинск</td>\n",
       "      <td>Каролина</td>\n",
       "      <td>Агеева</td>\n",
       "      <td>2018-10-09</td>\n",
       "      <td>smart</td>\n",
       "    </tr>\n",
       "    <tr>\n",
       "      <th>498</th>\n",
       "      <td>1498</td>\n",
       "      <td>68</td>\n",
       "      <td>2018-10-25</td>\n",
       "      <td>Владикавказ</td>\n",
       "      <td>Всеволод</td>\n",
       "      <td>Акимчин</td>\n",
       "      <td>2018-07-19</td>\n",
       "      <td>smart</td>\n",
       "    </tr>\n",
       "    <tr>\n",
       "      <th>499</th>\n",
       "      <td>1499</td>\n",
       "      <td>35</td>\n",
       "      <td>NaN</td>\n",
       "      <td>Пермь</td>\n",
       "      <td>Гектор</td>\n",
       "      <td>Корнилов</td>\n",
       "      <td>2018-09-27</td>\n",
       "      <td>smart</td>\n",
       "    </tr>\n",
       "  </tbody>\n",
       "</table>\n",
       "<p>500 rows × 8 columns</p>\n",
       "</div>"
      ],
      "text/plain": [
       "     user_id  age  churn_date         city first_name  last_name    reg_date  \\\n",
       "0       1000   52         NaN    Краснодар     Рафаил  Верещагин  2018-05-25   \n",
       "1       1001   41         NaN       Москва       Иван       Ежов  2018-11-01   \n",
       "2       1002   59         NaN  Стерлитамак    Евгений  Абрамович  2018-06-17   \n",
       "3       1003   23         NaN       Москва      Белла   Белякова  2018-08-17   \n",
       "4       1004   68         NaN  Новокузнецк    Татьяна   Авдеенко  2018-05-14   \n",
       "..       ...  ...         ...          ...        ...        ...         ...   \n",
       "495     1495   65         NaN      Иркутск  Авксентий      Фокин  2018-08-28   \n",
       "496     1496   36         NaN      Вологда     Трифон     Блохин  2018-01-27   \n",
       "497     1497   32         NaN    Челябинск   Каролина     Агеева  2018-10-09   \n",
       "498     1498   68  2018-10-25  Владикавказ   Всеволод    Акимчин  2018-07-19   \n",
       "499     1499   35         NaN        Пермь     Гектор   Корнилов  2018-09-27   \n",
       "\n",
       "    tariff  \n",
       "0    ultra  \n",
       "1    smart  \n",
       "2    smart  \n",
       "3    ultra  \n",
       "4    ultra  \n",
       "..     ...  \n",
       "495  ultra  \n",
       "496  smart  \n",
       "497  smart  \n",
       "498  smart  \n",
       "499  smart  \n",
       "\n",
       "[500 rows x 8 columns]"
      ]
     },
     "metadata": {},
     "output_type": "display_data"
    }
   ],
   "source": [
    "display(users.info())\n",
    "display(users)"
   ]
  },
  {
   "cell_type": "markdown",
   "metadata": {},
   "source": [
    "#### Столбец user_id"
   ]
  },
  {
   "cell_type": "markdown",
   "metadata": {},
   "source": [
    "В этом столбце важно проверить, чтобы не было дубликатов, так как user_id - уникальный ключ, а также посмотрим разброс значений.\n",
    "\n",
    "*Напишем функцию id_reseach для проверки столбца с id абонента, так как такой столбец встретится еще не раз.*"
   ]
  },
  {
   "cell_type": "code",
   "execution_count": 5,
   "metadata": {},
   "outputs": [],
   "source": [
    "def id_reseach(id_column): \n",
    "    print(id_column.value_counts())\n",
    "    print()\n",
    "    print(id_column.describe())\n",
    "    print()\n",
    "    print('Уникальных значений =',len(id_column.unique()))"
   ]
  },
  {
   "cell_type": "code",
   "execution_count": 6,
   "metadata": {},
   "outputs": [
    {
     "name": "stdout",
     "output_type": "stream",
     "text": [
      "1024    1\n",
      "1353    1\n",
      "1366    1\n",
      "1365    1\n",
      "1364    1\n",
      "       ..\n",
      "1185    1\n",
      "1184    1\n",
      "1183    1\n",
      "1182    1\n",
      "1023    1\n",
      "Name: user_id, Length: 500, dtype: int64\n",
      "\n",
      "count     500.000000\n",
      "mean     1249.500000\n",
      "std       144.481833\n",
      "min      1000.000000\n",
      "25%      1124.750000\n",
      "50%      1249.500000\n",
      "75%      1374.250000\n",
      "max      1499.000000\n",
      "Name: user_id, dtype: float64\n",
      "\n",
      "Уникальных значений = 500\n"
     ]
    }
   ],
   "source": [
    "id_reseach(users['user_id'])"
   ]
  },
  {
   "cell_type": "markdown",
   "metadata": {},
   "source": [
    "***Вывод: Столбец корректен - все значения идут от 1000 до 1499 - 500 уникальных значений.***"
   ]
  },
  {
   "cell_type": "markdown",
   "metadata": {},
   "source": [
    "#### Столбец age - возраст"
   ]
  },
  {
   "cell_type": "code",
   "execution_count": 7,
   "metadata": {},
   "outputs": [
    {
     "data": {
      "text/plain": [
       "count    500.00000\n",
       "mean      46.58800\n",
       "std       16.66763\n",
       "min       18.00000\n",
       "25%       32.00000\n",
       "50%       46.00000\n",
       "75%       62.00000\n",
       "max       75.00000\n",
       "Name: age, dtype: float64"
      ]
     },
     "execution_count": 7,
     "metadata": {},
     "output_type": "execute_result"
    }
   ],
   "source": [
    "users['age'].describe()"
   ]
  },
  {
   "cell_type": "markdown",
   "metadata": {},
   "source": [
    "***Вывод: Столбец вполне корректен.***"
   ]
  },
  {
   "cell_type": "markdown",
   "metadata": {},
   "source": [
    "#### Столбец churn_date - дата прекращения пользования тарифом"
   ]
  },
  {
   "cell_type": "markdown",
   "metadata": {},
   "source": [
    "(если значение пропущено, то тариф ещё действовал на момент выгрузки данных)"
   ]
  },
  {
   "cell_type": "code",
   "execution_count": 8,
   "metadata": {},
   "outputs": [
    {
     "data": {
      "text/plain": [
       "0             NaN\n",
       "1             NaN\n",
       "2             NaN\n",
       "3             NaN\n",
       "4             NaN\n",
       "          ...    \n",
       "495           NaN\n",
       "496           NaN\n",
       "497           NaN\n",
       "498    2018-10-25\n",
       "499           NaN\n",
       "Name: churn_date, Length: 500, dtype: object"
      ]
     },
     "metadata": {},
     "output_type": "display_data"
    },
    {
     "data": {
      "text/html": [
       "<div>\n",
       "<style scoped>\n",
       "    .dataframe tbody tr th:only-of-type {\n",
       "        vertical-align: middle;\n",
       "    }\n",
       "\n",
       "    .dataframe tbody tr th {\n",
       "        vertical-align: top;\n",
       "    }\n",
       "\n",
       "    .dataframe thead th {\n",
       "        text-align: right;\n",
       "    }\n",
       "</style>\n",
       "<table border=\"1\" class=\"dataframe\">\n",
       "  <thead>\n",
       "    <tr style=\"text-align: right;\">\n",
       "      <th></th>\n",
       "      <th>user_id</th>\n",
       "      <th>age</th>\n",
       "      <th>churn_date</th>\n",
       "      <th>city</th>\n",
       "      <th>first_name</th>\n",
       "      <th>last_name</th>\n",
       "      <th>reg_date</th>\n",
       "      <th>tariff</th>\n",
       "    </tr>\n",
       "  </thead>\n",
       "  <tbody>\n",
       "    <tr>\n",
       "      <th>19</th>\n",
       "      <td>1019</td>\n",
       "      <td>63</td>\n",
       "      <td>2018-10-05</td>\n",
       "      <td>Томск</td>\n",
       "      <td>Игнатий</td>\n",
       "      <td>Круглов</td>\n",
       "      <td>2018-05-16</td>\n",
       "      <td>ultra</td>\n",
       "    </tr>\n",
       "    <tr>\n",
       "      <th>20</th>\n",
       "      <td>1020</td>\n",
       "      <td>59</td>\n",
       "      <td>2018-12-18</td>\n",
       "      <td>Чита</td>\n",
       "      <td>Тала</td>\n",
       "      <td>Костина</td>\n",
       "      <td>2018-10-22</td>\n",
       "      <td>smart</td>\n",
       "    </tr>\n",
       "    <tr>\n",
       "      <th>34</th>\n",
       "      <td>1034</td>\n",
       "      <td>66</td>\n",
       "      <td>2018-11-21</td>\n",
       "      <td>Вологда</td>\n",
       "      <td>Святослав</td>\n",
       "      <td>Бондарев</td>\n",
       "      <td>2018-08-26</td>\n",
       "      <td>smart</td>\n",
       "    </tr>\n",
       "    <tr>\n",
       "      <th>50</th>\n",
       "      <td>1050</td>\n",
       "      <td>44</td>\n",
       "      <td>2018-10-03</td>\n",
       "      <td>Тюмень</td>\n",
       "      <td>Рузана</td>\n",
       "      <td>Аничкина</td>\n",
       "      <td>2018-06-16</td>\n",
       "      <td>ultra</td>\n",
       "    </tr>\n",
       "    <tr>\n",
       "      <th>51</th>\n",
       "      <td>1051</td>\n",
       "      <td>37</td>\n",
       "      <td>2018-10-14</td>\n",
       "      <td>Москва</td>\n",
       "      <td>Кристина</td>\n",
       "      <td>Сомова</td>\n",
       "      <td>2018-05-28</td>\n",
       "      <td>smart</td>\n",
       "    </tr>\n",
       "    <tr>\n",
       "      <th>56</th>\n",
       "      <td>1056</td>\n",
       "      <td>73</td>\n",
       "      <td>2018-10-14</td>\n",
       "      <td>Иркутск</td>\n",
       "      <td>Радислав</td>\n",
       "      <td>Артемьев</td>\n",
       "      <td>2018-04-13</td>\n",
       "      <td>smart</td>\n",
       "    </tr>\n",
       "    <tr>\n",
       "      <th>62</th>\n",
       "      <td>1062</td>\n",
       "      <td>24</td>\n",
       "      <td>2018-12-09</td>\n",
       "      <td>Москва</td>\n",
       "      <td>Александр</td>\n",
       "      <td>Коршунов</td>\n",
       "      <td>2018-11-16</td>\n",
       "      <td>smart</td>\n",
       "    </tr>\n",
       "    <tr>\n",
       "      <th>63</th>\n",
       "      <td>1063</td>\n",
       "      <td>45</td>\n",
       "      <td>2018-12-11</td>\n",
       "      <td>Тула</td>\n",
       "      <td>Таира</td>\n",
       "      <td>Климова</td>\n",
       "      <td>2018-04-12</td>\n",
       "      <td>ultra</td>\n",
       "    </tr>\n",
       "    <tr>\n",
       "      <th>64</th>\n",
       "      <td>1064</td>\n",
       "      <td>55</td>\n",
       "      <td>2018-12-26</td>\n",
       "      <td>Якутск</td>\n",
       "      <td>Динара</td>\n",
       "      <td>Алфеева</td>\n",
       "      <td>2018-03-17</td>\n",
       "      <td>smart</td>\n",
       "    </tr>\n",
       "    <tr>\n",
       "      <th>65</th>\n",
       "      <td>1065</td>\n",
       "      <td>53</td>\n",
       "      <td>2018-12-09</td>\n",
       "      <td>Москва</td>\n",
       "      <td>Роза</td>\n",
       "      <td>Игнатова</td>\n",
       "      <td>2018-03-08</td>\n",
       "      <td>smart</td>\n",
       "    </tr>\n",
       "  </tbody>\n",
       "</table>\n",
       "</div>"
      ],
      "text/plain": [
       "    user_id  age  churn_date     city first_name last_name    reg_date tariff\n",
       "19     1019   63  2018-10-05    Томск    Игнатий   Круглов  2018-05-16  ultra\n",
       "20     1020   59  2018-12-18     Чита       Тала   Костина  2018-10-22  smart\n",
       "34     1034   66  2018-11-21  Вологда  Святослав  Бондарев  2018-08-26  smart\n",
       "50     1050   44  2018-10-03   Тюмень     Рузана  Аничкина  2018-06-16  ultra\n",
       "51     1051   37  2018-10-14   Москва   Кристина    Сомова  2018-05-28  smart\n",
       "56     1056   73  2018-10-14  Иркутск   Радислав  Артемьев  2018-04-13  smart\n",
       "62     1062   24  2018-12-09   Москва  Александр  Коршунов  2018-11-16  smart\n",
       "63     1063   45  2018-12-11     Тула      Таира   Климова  2018-04-12  ultra\n",
       "64     1064   55  2018-12-26   Якутск     Динара   Алфеева  2018-03-17  smart\n",
       "65     1065   53  2018-12-09   Москва       Роза  Игнатова  2018-03-08  smart"
      ]
     },
     "metadata": {},
     "output_type": "display_data"
    },
    {
     "name": "stdout",
     "output_type": "stream",
     "text": [
      "count             38\n",
      "unique            33\n",
      "top       2018-12-09\n",
      "freq               2\n",
      "Name: churn_date, dtype: object\n"
     ]
    }
   ],
   "source": [
    "display(users['churn_date'])\n",
    "display(users.query('churn_date.isna() == False').head(10))\n",
    "print(users['churn_date'].describe())"
   ]
  },
  {
   "cell_type": "markdown",
   "metadata": {},
   "source": [
    "*С данными вроде всё в порядке, только поменяем тип на datetime64 (В условиях описано что пропуски - норма).*"
   ]
  },
  {
   "cell_type": "code",
   "execution_count": 9,
   "metadata": {},
   "outputs": [],
   "source": [
    "users['churn_date'] = pd.to_datetime(users['churn_date']) "
   ]
  },
  {
   "cell_type": "code",
   "execution_count": 10,
   "metadata": {},
   "outputs": [
    {
     "data": {
      "text/plain": [
       "0            NaT\n",
       "1            NaT\n",
       "2            NaT\n",
       "3            NaT\n",
       "4            NaT\n",
       "         ...    \n",
       "495          NaT\n",
       "496          NaT\n",
       "497          NaT\n",
       "498   2018-10-25\n",
       "499          NaT\n",
       "Name: churn_date, Length: 500, dtype: datetime64[ns]"
      ]
     },
     "metadata": {},
     "output_type": "display_data"
    },
    {
     "data": {
      "text/html": [
       "<div>\n",
       "<style scoped>\n",
       "    .dataframe tbody tr th:only-of-type {\n",
       "        vertical-align: middle;\n",
       "    }\n",
       "\n",
       "    .dataframe tbody tr th {\n",
       "        vertical-align: top;\n",
       "    }\n",
       "\n",
       "    .dataframe thead th {\n",
       "        text-align: right;\n",
       "    }\n",
       "</style>\n",
       "<table border=\"1\" class=\"dataframe\">\n",
       "  <thead>\n",
       "    <tr style=\"text-align: right;\">\n",
       "      <th></th>\n",
       "      <th>user_id</th>\n",
       "      <th>age</th>\n",
       "      <th>churn_date</th>\n",
       "      <th>city</th>\n",
       "      <th>first_name</th>\n",
       "      <th>last_name</th>\n",
       "      <th>reg_date</th>\n",
       "      <th>tariff</th>\n",
       "    </tr>\n",
       "  </thead>\n",
       "  <tbody>\n",
       "    <tr>\n",
       "      <th>19</th>\n",
       "      <td>1019</td>\n",
       "      <td>63</td>\n",
       "      <td>2018-10-05</td>\n",
       "      <td>Томск</td>\n",
       "      <td>Игнатий</td>\n",
       "      <td>Круглов</td>\n",
       "      <td>2018-05-16</td>\n",
       "      <td>ultra</td>\n",
       "    </tr>\n",
       "    <tr>\n",
       "      <th>20</th>\n",
       "      <td>1020</td>\n",
       "      <td>59</td>\n",
       "      <td>2018-12-18</td>\n",
       "      <td>Чита</td>\n",
       "      <td>Тала</td>\n",
       "      <td>Костина</td>\n",
       "      <td>2018-10-22</td>\n",
       "      <td>smart</td>\n",
       "    </tr>\n",
       "    <tr>\n",
       "      <th>34</th>\n",
       "      <td>1034</td>\n",
       "      <td>66</td>\n",
       "      <td>2018-11-21</td>\n",
       "      <td>Вологда</td>\n",
       "      <td>Святослав</td>\n",
       "      <td>Бондарев</td>\n",
       "      <td>2018-08-26</td>\n",
       "      <td>smart</td>\n",
       "    </tr>\n",
       "    <tr>\n",
       "      <th>50</th>\n",
       "      <td>1050</td>\n",
       "      <td>44</td>\n",
       "      <td>2018-10-03</td>\n",
       "      <td>Тюмень</td>\n",
       "      <td>Рузана</td>\n",
       "      <td>Аничкина</td>\n",
       "      <td>2018-06-16</td>\n",
       "      <td>ultra</td>\n",
       "    </tr>\n",
       "    <tr>\n",
       "      <th>51</th>\n",
       "      <td>1051</td>\n",
       "      <td>37</td>\n",
       "      <td>2018-10-14</td>\n",
       "      <td>Москва</td>\n",
       "      <td>Кристина</td>\n",
       "      <td>Сомова</td>\n",
       "      <td>2018-05-28</td>\n",
       "      <td>smart</td>\n",
       "    </tr>\n",
       "    <tr>\n",
       "      <th>56</th>\n",
       "      <td>1056</td>\n",
       "      <td>73</td>\n",
       "      <td>2018-10-14</td>\n",
       "      <td>Иркутск</td>\n",
       "      <td>Радислав</td>\n",
       "      <td>Артемьев</td>\n",
       "      <td>2018-04-13</td>\n",
       "      <td>smart</td>\n",
       "    </tr>\n",
       "    <tr>\n",
       "      <th>62</th>\n",
       "      <td>1062</td>\n",
       "      <td>24</td>\n",
       "      <td>2018-12-09</td>\n",
       "      <td>Москва</td>\n",
       "      <td>Александр</td>\n",
       "      <td>Коршунов</td>\n",
       "      <td>2018-11-16</td>\n",
       "      <td>smart</td>\n",
       "    </tr>\n",
       "    <tr>\n",
       "      <th>63</th>\n",
       "      <td>1063</td>\n",
       "      <td>45</td>\n",
       "      <td>2018-12-11</td>\n",
       "      <td>Тула</td>\n",
       "      <td>Таира</td>\n",
       "      <td>Климова</td>\n",
       "      <td>2018-04-12</td>\n",
       "      <td>ultra</td>\n",
       "    </tr>\n",
       "    <tr>\n",
       "      <th>64</th>\n",
       "      <td>1064</td>\n",
       "      <td>55</td>\n",
       "      <td>2018-12-26</td>\n",
       "      <td>Якутск</td>\n",
       "      <td>Динара</td>\n",
       "      <td>Алфеева</td>\n",
       "      <td>2018-03-17</td>\n",
       "      <td>smart</td>\n",
       "    </tr>\n",
       "    <tr>\n",
       "      <th>65</th>\n",
       "      <td>1065</td>\n",
       "      <td>53</td>\n",
       "      <td>2018-12-09</td>\n",
       "      <td>Москва</td>\n",
       "      <td>Роза</td>\n",
       "      <td>Игнатова</td>\n",
       "      <td>2018-03-08</td>\n",
       "      <td>smart</td>\n",
       "    </tr>\n",
       "  </tbody>\n",
       "</table>\n",
       "</div>"
      ],
      "text/plain": [
       "    user_id  age churn_date     city first_name last_name    reg_date tariff\n",
       "19     1019   63 2018-10-05    Томск    Игнатий   Круглов  2018-05-16  ultra\n",
       "20     1020   59 2018-12-18     Чита       Тала   Костина  2018-10-22  smart\n",
       "34     1034   66 2018-11-21  Вологда  Святослав  Бондарев  2018-08-26  smart\n",
       "50     1050   44 2018-10-03   Тюмень     Рузана  Аничкина  2018-06-16  ultra\n",
       "51     1051   37 2018-10-14   Москва   Кристина    Сомова  2018-05-28  smart\n",
       "56     1056   73 2018-10-14  Иркутск   Радислав  Артемьев  2018-04-13  smart\n",
       "62     1062   24 2018-12-09   Москва  Александр  Коршунов  2018-11-16  smart\n",
       "63     1063   45 2018-12-11     Тула      Таира   Климова  2018-04-12  ultra\n",
       "64     1064   55 2018-12-26   Якутск     Динара   Алфеева  2018-03-17  smart\n",
       "65     1065   53 2018-12-09   Москва       Роза  Игнатова  2018-03-08  smart"
      ]
     },
     "metadata": {},
     "output_type": "display_data"
    }
   ],
   "source": [
    "display(users['churn_date'])\n",
    "display(users.query('churn_date.isna() == False').head(10))"
   ]
  },
  {
   "cell_type": "markdown",
   "metadata": {},
   "source": [
    "***Вывод: Готово.***"
   ]
  },
  {
   "cell_type": "markdown",
   "metadata": {},
   "source": [
    "#### Столбец city - город проживания пользователя"
   ]
  },
  {
   "cell_type": "code",
   "execution_count": 11,
   "metadata": {},
   "outputs": [
    {
     "data": {
      "text/plain": [
       "0        Краснодар\n",
       "1           Москва\n",
       "2      Стерлитамак\n",
       "3           Москва\n",
       "4      Новокузнецк\n",
       "          ...     \n",
       "495        Иркутск\n",
       "496        Вологда\n",
       "497      Челябинск\n",
       "498    Владикавказ\n",
       "499          Пермь\n",
       "Name: city, Length: 500, dtype: object"
      ]
     },
     "metadata": {},
     "output_type": "display_data"
    },
    {
     "name": "stdout",
     "output_type": "stream",
     "text": [
      "count        500\n",
      "unique        76\n",
      "top       Москва\n",
      "freq          99\n",
      "Name: city, dtype: object\n"
     ]
    }
   ],
   "source": [
    "display(users['city'])\n",
    "print(users['city'].describe())"
   ]
  },
  {
   "cell_type": "markdown",
   "metadata": {},
   "source": [
    "*Создадим новый ДатаФрейм со столбцами original - оригиналы имен, lemm - лемматизированные строки. Лемматизируем строки и посмотрим будут ли они равны оригиналам и их количеству.*"
   ]
  },
  {
   "cell_type": "markdown",
   "metadata": {},
   "source": [
    "*Проверим нет ли дубликатов - одних и тех же городов но записанных по разному (например отличаются высотой букв).*"
   ]
  },
  {
   "cell_type": "code",
   "execution_count": 12,
   "metadata": {},
   "outputs": [
    {
     "name": "stdout",
     "output_type": "stream",
     "text": [
      "Кол-во уникальных Оригинальных городов = 76\n"
     ]
    },
    {
     "data": {
      "text/html": [
       "<div>\n",
       "<style scoped>\n",
       "    .dataframe tbody tr th:only-of-type {\n",
       "        vertical-align: middle;\n",
       "    }\n",
       "\n",
       "    .dataframe tbody tr th {\n",
       "        vertical-align: top;\n",
       "    }\n",
       "\n",
       "    .dataframe thead th {\n",
       "        text-align: right;\n",
       "    }\n",
       "</style>\n",
       "<table border=\"1\" class=\"dataframe\">\n",
       "  <thead>\n",
       "    <tr style=\"text-align: right;\">\n",
       "      <th></th>\n",
       "      <th>original</th>\n",
       "      <th>lemm</th>\n",
       "    </tr>\n",
       "  </thead>\n",
       "  <tbody>\n",
       "    <tr>\n",
       "      <th>0</th>\n",
       "      <td>Архангельск</td>\n",
       "      <td>NaN</td>\n",
       "    </tr>\n",
       "    <tr>\n",
       "      <th>1</th>\n",
       "      <td>Астрахань</td>\n",
       "      <td>NaN</td>\n",
       "    </tr>\n",
       "    <tr>\n",
       "      <th>2</th>\n",
       "      <td>Балашиха</td>\n",
       "      <td>NaN</td>\n",
       "    </tr>\n",
       "    <tr>\n",
       "      <th>3</th>\n",
       "      <td>Барнаул</td>\n",
       "      <td>NaN</td>\n",
       "    </tr>\n",
       "    <tr>\n",
       "      <th>4</th>\n",
       "      <td>Белгород</td>\n",
       "      <td>NaN</td>\n",
       "    </tr>\n",
       "    <tr>\n",
       "      <th>...</th>\n",
       "      <td>...</td>\n",
       "      <td>...</td>\n",
       "    </tr>\n",
       "    <tr>\n",
       "      <th>71</th>\n",
       "      <td>Челябинск</td>\n",
       "      <td>NaN</td>\n",
       "    </tr>\n",
       "    <tr>\n",
       "      <th>72</th>\n",
       "      <td>Череповец</td>\n",
       "      <td>NaN</td>\n",
       "    </tr>\n",
       "    <tr>\n",
       "      <th>73</th>\n",
       "      <td>Чита</td>\n",
       "      <td>NaN</td>\n",
       "    </tr>\n",
       "    <tr>\n",
       "      <th>74</th>\n",
       "      <td>Якутск</td>\n",
       "      <td>NaN</td>\n",
       "    </tr>\n",
       "    <tr>\n",
       "      <th>75</th>\n",
       "      <td>Ярославль</td>\n",
       "      <td>NaN</td>\n",
       "    </tr>\n",
       "  </tbody>\n",
       "</table>\n",
       "<p>76 rows × 2 columns</p>\n",
       "</div>"
      ],
      "text/plain": [
       "       original lemm\n",
       "0   Архангельск  NaN\n",
       "1     Астрахань  NaN\n",
       "2      Балашиха  NaN\n",
       "3       Барнаул  NaN\n",
       "4      Белгород  NaN\n",
       "..          ...  ...\n",
       "71    Челябинск  NaN\n",
       "72    Череповец  NaN\n",
       "73         Чита  NaN\n",
       "74       Якутск  NaN\n",
       "75    Ярославль  NaN\n",
       "\n",
       "[76 rows x 2 columns]"
      ]
     },
     "metadata": {},
     "output_type": "display_data"
    }
   ],
   "source": [
    "cities = pd.DataFrame(columns = ['original', 'lemm'])\n",
    "cities['original'] = users['city'].sort_values().unique()\n",
    "print('Кол-во уникальных Оригинальных городов =',len(cities['original']))\n",
    "display(cities)"
   ]
  },
  {
   "cell_type": "markdown",
   "metadata": {},
   "source": [
    "**Теперь лематизируем города и сравним их количество (76) с количеством оригиналов.**"
   ]
  },
  {
   "cell_type": "code",
   "execution_count": 13,
   "metadata": {},
   "outputs": [],
   "source": [
    "# Функция получает строку - лемматизирует её, затем собирает и возвращает результат\n",
    "def lemm_list(st):\n",
    "    w = m.lemmatize(st)\n",
    "    w.pop()\n",
    "    return ''.join(w)"
   ]
  },
  {
   "cell_type": "code",
   "execution_count": 14,
   "metadata": {},
   "outputs": [],
   "source": [
    "cities['lemm'] = cities['original'].apply(lemm_list)"
   ]
  },
  {
   "cell_type": "code",
   "execution_count": 15,
   "metadata": {},
   "outputs": [
    {
     "data": {
      "text/html": [
       "<div>\n",
       "<style scoped>\n",
       "    .dataframe tbody tr th:only-of-type {\n",
       "        vertical-align: middle;\n",
       "    }\n",
       "\n",
       "    .dataframe tbody tr th {\n",
       "        vertical-align: top;\n",
       "    }\n",
       "\n",
       "    .dataframe thead th {\n",
       "        text-align: right;\n",
       "    }\n",
       "</style>\n",
       "<table border=\"1\" class=\"dataframe\">\n",
       "  <thead>\n",
       "    <tr style=\"text-align: right;\">\n",
       "      <th></th>\n",
       "      <th>original</th>\n",
       "      <th>lemm</th>\n",
       "    </tr>\n",
       "  </thead>\n",
       "  <tbody>\n",
       "    <tr>\n",
       "      <th>0</th>\n",
       "      <td>Архангельск</td>\n",
       "      <td>архангельск</td>\n",
       "    </tr>\n",
       "    <tr>\n",
       "      <th>1</th>\n",
       "      <td>Астрахань</td>\n",
       "      <td>астрахань</td>\n",
       "    </tr>\n",
       "    <tr>\n",
       "      <th>2</th>\n",
       "      <td>Балашиха</td>\n",
       "      <td>балашиха</td>\n",
       "    </tr>\n",
       "    <tr>\n",
       "      <th>3</th>\n",
       "      <td>Барнаул</td>\n",
       "      <td>барнаул</td>\n",
       "    </tr>\n",
       "    <tr>\n",
       "      <th>4</th>\n",
       "      <td>Белгород</td>\n",
       "      <td>белгород</td>\n",
       "    </tr>\n",
       "    <tr>\n",
       "      <th>...</th>\n",
       "      <td>...</td>\n",
       "      <td>...</td>\n",
       "    </tr>\n",
       "    <tr>\n",
       "      <th>71</th>\n",
       "      <td>Челябинск</td>\n",
       "      <td>челябинск</td>\n",
       "    </tr>\n",
       "    <tr>\n",
       "      <th>72</th>\n",
       "      <td>Череповец</td>\n",
       "      <td>череповец</td>\n",
       "    </tr>\n",
       "    <tr>\n",
       "      <th>73</th>\n",
       "      <td>Чита</td>\n",
       "      <td>чита</td>\n",
       "    </tr>\n",
       "    <tr>\n",
       "      <th>74</th>\n",
       "      <td>Якутск</td>\n",
       "      <td>якутск</td>\n",
       "    </tr>\n",
       "    <tr>\n",
       "      <th>75</th>\n",
       "      <td>Ярославль</td>\n",
       "      <td>ярославль</td>\n",
       "    </tr>\n",
       "  </tbody>\n",
       "</table>\n",
       "<p>76 rows × 2 columns</p>\n",
       "</div>"
      ],
      "text/plain": [
       "       original         lemm\n",
       "0   Архангельск  архангельск\n",
       "1     Астрахань    астрахань\n",
       "2      Балашиха     балашиха\n",
       "3       Барнаул      барнаул\n",
       "4      Белгород     белгород\n",
       "..          ...          ...\n",
       "71    Челябинск    челябинск\n",
       "72    Череповец    череповец\n",
       "73         Чита         чита\n",
       "74       Якутск       якутск\n",
       "75    Ярославль    ярославль\n",
       "\n",
       "[76 rows x 2 columns]"
      ]
     },
     "metadata": {},
     "output_type": "display_data"
    }
   ],
   "source": [
    "display(cities)"
   ]
  },
  {
   "cell_type": "markdown",
   "metadata": {},
   "source": [
    "***Вывод: Количество совпадает. Значит дубиликатов нет. Столбец корректен.***"
   ]
  },
  {
   "cell_type": "markdown",
   "metadata": {},
   "source": [
    "#### Столбец first_name - имя пользователя"
   ]
  },
  {
   "cell_type": "markdown",
   "metadata": {},
   "source": [
    "*Проверим этот столбец по аналогии с city.*"
   ]
  },
  {
   "cell_type": "code",
   "execution_count": 16,
   "metadata": {},
   "outputs": [
    {
     "name": "stdout",
     "output_type": "stream",
     "text": [
      "0      Авксентий\n",
      "1          Агата\n",
      "2         Агафья\n",
      "3        Агнесса\n",
      "4           Адам\n",
      "         ...    \n",
      "241         Юлия\n",
      "242          Юна\n",
      "243         Юрий\n",
      "244         Яков\n",
      "245          Яна\n",
      "Name: original, Length: 246, dtype: object\n"
     ]
    }
   ],
   "source": [
    "names = pd.DataFrame(columns = ['original', 'lemm'])\n",
    "names['original'] = users['first_name'].sort_values().unique()\n",
    "print(names['original'])"
   ]
  },
  {
   "cell_type": "code",
   "execution_count": 17,
   "metadata": {},
   "outputs": [
    {
     "data": {
      "text/html": [
       "<div>\n",
       "<style scoped>\n",
       "    .dataframe tbody tr th:only-of-type {\n",
       "        vertical-align: middle;\n",
       "    }\n",
       "\n",
       "    .dataframe tbody tr th {\n",
       "        vertical-align: top;\n",
       "    }\n",
       "\n",
       "    .dataframe thead th {\n",
       "        text-align: right;\n",
       "    }\n",
       "</style>\n",
       "<table border=\"1\" class=\"dataframe\">\n",
       "  <thead>\n",
       "    <tr style=\"text-align: right;\">\n",
       "      <th></th>\n",
       "      <th>original</th>\n",
       "      <th>lemm</th>\n",
       "    </tr>\n",
       "  </thead>\n",
       "  <tbody>\n",
       "    <tr>\n",
       "      <th>0</th>\n",
       "      <td>Авксентий</td>\n",
       "      <td>авксентий</td>\n",
       "    </tr>\n",
       "    <tr>\n",
       "      <th>1</th>\n",
       "      <td>Агата</td>\n",
       "      <td>агата</td>\n",
       "    </tr>\n",
       "    <tr>\n",
       "      <th>2</th>\n",
       "      <td>Агафья</td>\n",
       "      <td>агафья</td>\n",
       "    </tr>\n",
       "    <tr>\n",
       "      <th>3</th>\n",
       "      <td>Агнесса</td>\n",
       "      <td>агнесса</td>\n",
       "    </tr>\n",
       "    <tr>\n",
       "      <th>4</th>\n",
       "      <td>Адам</td>\n",
       "      <td>адам</td>\n",
       "    </tr>\n",
       "    <tr>\n",
       "      <th>...</th>\n",
       "      <td>...</td>\n",
       "      <td>...</td>\n",
       "    </tr>\n",
       "    <tr>\n",
       "      <th>241</th>\n",
       "      <td>Юлия</td>\n",
       "      <td>юлия</td>\n",
       "    </tr>\n",
       "    <tr>\n",
       "      <th>242</th>\n",
       "      <td>Юна</td>\n",
       "      <td>юный</td>\n",
       "    </tr>\n",
       "    <tr>\n",
       "      <th>243</th>\n",
       "      <td>Юрий</td>\n",
       "      <td>юрий</td>\n",
       "    </tr>\n",
       "    <tr>\n",
       "      <th>244</th>\n",
       "      <td>Яков</td>\n",
       "      <td>яков</td>\n",
       "    </tr>\n",
       "    <tr>\n",
       "      <th>245</th>\n",
       "      <td>Яна</td>\n",
       "      <td>яна</td>\n",
       "    </tr>\n",
       "  </tbody>\n",
       "</table>\n",
       "<p>246 rows × 2 columns</p>\n",
       "</div>"
      ],
      "text/plain": [
       "      original       lemm\n",
       "0    Авксентий  авксентий\n",
       "1        Агата      агата\n",
       "2       Агафья     агафья\n",
       "3      Агнесса    агнесса\n",
       "4         Адам       адам\n",
       "..         ...        ...\n",
       "241       Юлия       юлия\n",
       "242        Юна       юный\n",
       "243       Юрий       юрий\n",
       "244       Яков       яков\n",
       "245        Яна        яна\n",
       "\n",
       "[246 rows x 2 columns]"
      ]
     },
     "metadata": {},
     "output_type": "display_data"
    },
    {
     "name": "stdout",
     "output_type": "stream",
     "text": [
      "владислав    2\n",
      "руслан       2\n",
      "вениамин     1\n",
      "кузьма       1\n",
      "ренат        1\n",
      "            ..\n",
      "габриэль     1\n",
      "милан        1\n",
      "дайна        1\n",
      "дебора       1\n",
      "павел        1\n",
      "Name: lemm, Length: 244, dtype: int64\n"
     ]
    }
   ],
   "source": [
    "names['lemm'] = names['original'].apply(lemm_list)\n",
    "display(names)\n",
    "print(names['lemm'].value_counts())"
   ]
  },
  {
   "cell_type": "code",
   "execution_count": 18,
   "metadata": {},
   "outputs": [
    {
     "name": "stdout",
     "output_type": "stream",
     "text": [
      "       original       lemm\n",
      "56    Владислав  владислав\n",
      "57   Владислава  владислав\n",
      "197      Руслан     руслан\n",
      "198     Руслана     руслан\n"
     ]
    }
   ],
   "source": [
    "print(names.query('lemm == \"владислав\" or lemm == \"руслан\"'))"
   ]
  },
  {
   "cell_type": "markdown",
   "metadata": {},
   "source": [
    "*Есть повторы. Посмотрим, что это за строки в users.*"
   ]
  },
  {
   "cell_type": "code",
   "execution_count": 19,
   "metadata": {},
   "outputs": [
    {
     "data": {
      "text/html": [
       "<div>\n",
       "<style scoped>\n",
       "    .dataframe tbody tr th:only-of-type {\n",
       "        vertical-align: middle;\n",
       "    }\n",
       "\n",
       "    .dataframe tbody tr th {\n",
       "        vertical-align: top;\n",
       "    }\n",
       "\n",
       "    .dataframe thead th {\n",
       "        text-align: right;\n",
       "    }\n",
       "</style>\n",
       "<table border=\"1\" class=\"dataframe\">\n",
       "  <thead>\n",
       "    <tr style=\"text-align: right;\">\n",
       "      <th></th>\n",
       "      <th>user_id</th>\n",
       "      <th>age</th>\n",
       "      <th>churn_date</th>\n",
       "      <th>city</th>\n",
       "      <th>first_name</th>\n",
       "      <th>last_name</th>\n",
       "      <th>reg_date</th>\n",
       "      <th>tariff</th>\n",
       "    </tr>\n",
       "  </thead>\n",
       "  <tbody>\n",
       "    <tr>\n",
       "      <th>27</th>\n",
       "      <td>1027</td>\n",
       "      <td>62</td>\n",
       "      <td>NaT</td>\n",
       "      <td>Петрозаводск</td>\n",
       "      <td>Владислав</td>\n",
       "      <td>Авдеев</td>\n",
       "      <td>2018-04-10</td>\n",
       "      <td>smart</td>\n",
       "    </tr>\n",
       "    <tr>\n",
       "      <th>146</th>\n",
       "      <td>1146</td>\n",
       "      <td>72</td>\n",
       "      <td>NaT</td>\n",
       "      <td>Санкт-Петербург</td>\n",
       "      <td>Владислав</td>\n",
       "      <td>Никонов</td>\n",
       "      <td>2018-05-25</td>\n",
       "      <td>smart</td>\n",
       "    </tr>\n",
       "    <tr>\n",
       "      <th>302</th>\n",
       "      <td>1302</td>\n",
       "      <td>43</td>\n",
       "      <td>NaT</td>\n",
       "      <td>Уфа</td>\n",
       "      <td>Владислав</td>\n",
       "      <td>Абаимов</td>\n",
       "      <td>2018-01-23</td>\n",
       "      <td>smart</td>\n",
       "    </tr>\n",
       "    <tr>\n",
       "      <th>100</th>\n",
       "      <td>1100</td>\n",
       "      <td>58</td>\n",
       "      <td>NaT</td>\n",
       "      <td>Санкт-Петербург</td>\n",
       "      <td>Руслан</td>\n",
       "      <td>Красильников</td>\n",
       "      <td>2018-07-02</td>\n",
       "      <td>smart</td>\n",
       "    </tr>\n",
       "    <tr>\n",
       "      <th>107</th>\n",
       "      <td>1107</td>\n",
       "      <td>45</td>\n",
       "      <td>NaT</td>\n",
       "      <td>Орёл</td>\n",
       "      <td>Руслан</td>\n",
       "      <td>Воронин</td>\n",
       "      <td>2018-07-20</td>\n",
       "      <td>smart</td>\n",
       "    </tr>\n",
       "    <tr>\n",
       "      <th>212</th>\n",
       "      <td>1212</td>\n",
       "      <td>21</td>\n",
       "      <td>NaT</td>\n",
       "      <td>Саранск</td>\n",
       "      <td>Руслан</td>\n",
       "      <td>Пономарев</td>\n",
       "      <td>2018-11-09</td>\n",
       "      <td>smart</td>\n",
       "    </tr>\n",
       "    <tr>\n",
       "      <th>215</th>\n",
       "      <td>1215</td>\n",
       "      <td>55</td>\n",
       "      <td>NaT</td>\n",
       "      <td>Рязань</td>\n",
       "      <td>Руслан</td>\n",
       "      <td>Алиев</td>\n",
       "      <td>2018-08-12</td>\n",
       "      <td>smart</td>\n",
       "    </tr>\n",
       "  </tbody>\n",
       "</table>\n",
       "</div>"
      ],
      "text/plain": [
       "     user_id  age churn_date             city first_name     last_name  \\\n",
       "27      1027   62        NaT     Петрозаводск  Владислав        Авдеев   \n",
       "146     1146   72        NaT  Санкт-Петербург  Владислав       Никонов   \n",
       "302     1302   43        NaT              Уфа  Владислав       Абаимов   \n",
       "100     1100   58        NaT  Санкт-Петербург     Руслан  Красильников   \n",
       "107     1107   45        NaT             Орёл     Руслан       Воронин   \n",
       "212     1212   21        NaT          Саранск     Руслан     Пономарев   \n",
       "215     1215   55        NaT           Рязань     Руслан         Алиев   \n",
       "\n",
       "       reg_date tariff  \n",
       "27   2018-04-10  smart  \n",
       "146  2018-05-25  smart  \n",
       "302  2018-01-23  smart  \n",
       "100  2018-07-02  smart  \n",
       "107  2018-07-20  smart  \n",
       "212  2018-11-09  smart  \n",
       "215  2018-08-12  smart  "
      ]
     },
     "execution_count": 19,
     "metadata": {},
     "output_type": "execute_result"
    }
   ],
   "source": [
    "users.query(' \"Владислав\" in first_name or \"Руслан\" in first_name ').sort_values('first_name')"
   ]
  },
  {
   "cell_type": "markdown",
   "metadata": {},
   "source": [
    "***Вывод: Столбец в полном порядке.***"
   ]
  },
  {
   "cell_type": "markdown",
   "metadata": {},
   "source": [
    "#### Столбец last_name - имя пользователя"
   ]
  },
  {
   "cell_type": "markdown",
   "metadata": {},
   "source": [
    "*Используем наработки из предыдущих двух столбцов, только объединим имя фамилию в одну строку.*"
   ]
  },
  {
   "cell_type": "code",
   "execution_count": 20,
   "metadata": {},
   "outputs": [
    {
     "data": {
      "text/plain": [
       "0       Верещагин Рафаил\n",
       "1              Ежов Иван\n",
       "2      Абрамович Евгений\n",
       "3         Белякова Белла\n",
       "4       Авдеенко Татьяна\n",
       "             ...        \n",
       "495      Фокин Авксентий\n",
       "496        Блохин Трифон\n",
       "497      Агеева Каролина\n",
       "498     Акимчин Всеволод\n",
       "499      Корнилов Гектор\n",
       "Name: original, Length: 500, dtype: object"
      ]
     },
     "metadata": {},
     "output_type": "display_data"
    }
   ],
   "source": [
    "fullname = pd.DataFrame(columns = ['original', 'lemm'])\n",
    "fullname['original'] = users['last_name'] + \" \" + users['first_name']\n",
    "display(fullname['original'])"
   ]
  },
  {
   "cell_type": "code",
   "execution_count": 21,
   "metadata": {},
   "outputs": [
    {
     "data": {
      "text/html": [
       "<div>\n",
       "<style scoped>\n",
       "    .dataframe tbody tr th:only-of-type {\n",
       "        vertical-align: middle;\n",
       "    }\n",
       "\n",
       "    .dataframe tbody tr th {\n",
       "        vertical-align: top;\n",
       "    }\n",
       "\n",
       "    .dataframe thead th {\n",
       "        text-align: right;\n",
       "    }\n",
       "</style>\n",
       "<table border=\"1\" class=\"dataframe\">\n",
       "  <thead>\n",
       "    <tr style=\"text-align: right;\">\n",
       "      <th></th>\n",
       "      <th>original</th>\n",
       "      <th>lemm</th>\n",
       "    </tr>\n",
       "  </thead>\n",
       "  <tbody>\n",
       "    <tr>\n",
       "      <th>0</th>\n",
       "      <td>Верещагин Рафаил</td>\n",
       "      <td>верещагин рафаил</td>\n",
       "    </tr>\n",
       "    <tr>\n",
       "      <th>1</th>\n",
       "      <td>Ежов Иван</td>\n",
       "      <td>ежов иван</td>\n",
       "    </tr>\n",
       "    <tr>\n",
       "      <th>2</th>\n",
       "      <td>Абрамович Евгений</td>\n",
       "      <td>абрамович евгений</td>\n",
       "    </tr>\n",
       "    <tr>\n",
       "      <th>3</th>\n",
       "      <td>Белякова Белла</td>\n",
       "      <td>беляков белла</td>\n",
       "    </tr>\n",
       "    <tr>\n",
       "      <th>4</th>\n",
       "      <td>Авдеенко Татьяна</td>\n",
       "      <td>авдеенко татьяна</td>\n",
       "    </tr>\n",
       "    <tr>\n",
       "      <th>...</th>\n",
       "      <td>...</td>\n",
       "      <td>...</td>\n",
       "    </tr>\n",
       "    <tr>\n",
       "      <th>495</th>\n",
       "      <td>Фокин Авксентий</td>\n",
       "      <td>фокин авксентий</td>\n",
       "    </tr>\n",
       "    <tr>\n",
       "      <th>496</th>\n",
       "      <td>Блохин Трифон</td>\n",
       "      <td>блохин трифон</td>\n",
       "    </tr>\n",
       "    <tr>\n",
       "      <th>497</th>\n",
       "      <td>Агеева Каролина</td>\n",
       "      <td>агеева каролина</td>\n",
       "    </tr>\n",
       "    <tr>\n",
       "      <th>498</th>\n",
       "      <td>Акимчин Всеволод</td>\n",
       "      <td>акимчин всеволод</td>\n",
       "    </tr>\n",
       "    <tr>\n",
       "      <th>499</th>\n",
       "      <td>Корнилов Гектор</td>\n",
       "      <td>корнилов гектор</td>\n",
       "    </tr>\n",
       "  </tbody>\n",
       "</table>\n",
       "<p>500 rows × 2 columns</p>\n",
       "</div>"
      ],
      "text/plain": [
       "              original               lemm\n",
       "0     Верещагин Рафаил   верещагин рафаил\n",
       "1            Ежов Иван          ежов иван\n",
       "2    Абрамович Евгений  абрамович евгений\n",
       "3       Белякова Белла      беляков белла\n",
       "4     Авдеенко Татьяна   авдеенко татьяна\n",
       "..                 ...                ...\n",
       "495    Фокин Авксентий    фокин авксентий\n",
       "496      Блохин Трифон      блохин трифон\n",
       "497    Агеева Каролина    агеева каролина\n",
       "498   Акимчин Всеволод   акимчин всеволод\n",
       "499    Корнилов Гектор    корнилов гектор\n",
       "\n",
       "[500 rows x 2 columns]"
      ]
     },
     "metadata": {},
     "output_type": "display_data"
    },
    {
     "name": "stdout",
     "output_type": "stream",
     "text": [
      "андрейчук игорь        1\n",
      "зеленин яна            1\n",
      "фролов леон            1\n",
      "борисов серафима       1\n",
      "игнатьев илзе          1\n",
      "                      ..\n",
      "орлов павел            1\n",
      "ерофеев радим          1\n",
      "антропова тала         1\n",
      "алексеенко веселина    1\n",
      "семенов валентина      1\n",
      "Name: lemm, Length: 500, dtype: int64\n"
     ]
    }
   ],
   "source": [
    "fullname['lemm'] = fullname['original'].apply(lemm_list)\n",
    "display(fullname)\n",
    "print(fullname['lemm'].value_counts())"
   ]
  },
  {
   "cell_type": "markdown",
   "metadata": {},
   "source": [
    "***Вывод: Все сочетания имя+фамилия уникальны. Столбец корректен.***"
   ]
  },
  {
   "cell_type": "markdown",
   "metadata": {},
   "source": [
    "#### Столбец reg_date - дата подключения тарифа (день, месяц, год)"
   ]
  },
  {
   "cell_type": "code",
   "execution_count": 22,
   "metadata": {},
   "outputs": [
    {
     "data": {
      "text/plain": [
       "400    2018-08-24\n",
       "342    2018-10-18\n",
       "281    2018-06-09\n",
       "176    2018-01-20\n",
       "Name: reg_date, dtype: object"
      ]
     },
     "metadata": {},
     "output_type": "display_data"
    },
    {
     "data": {
      "text/html": [
       "<div>\n",
       "<style scoped>\n",
       "    .dataframe tbody tr th:only-of-type {\n",
       "        vertical-align: middle;\n",
       "    }\n",
       "\n",
       "    .dataframe tbody tr th {\n",
       "        vertical-align: top;\n",
       "    }\n",
       "\n",
       "    .dataframe thead th {\n",
       "        text-align: right;\n",
       "    }\n",
       "</style>\n",
       "<table border=\"1\" class=\"dataframe\">\n",
       "  <thead>\n",
       "    <tr style=\"text-align: right;\">\n",
       "      <th></th>\n",
       "      <th>user_id</th>\n",
       "      <th>age</th>\n",
       "      <th>churn_date</th>\n",
       "      <th>city</th>\n",
       "      <th>first_name</th>\n",
       "      <th>last_name</th>\n",
       "      <th>reg_date</th>\n",
       "      <th>tariff</th>\n",
       "    </tr>\n",
       "  </thead>\n",
       "  <tbody>\n",
       "    <tr>\n",
       "      <th>0</th>\n",
       "      <td>1000</td>\n",
       "      <td>52</td>\n",
       "      <td>NaT</td>\n",
       "      <td>Краснодар</td>\n",
       "      <td>Рафаил</td>\n",
       "      <td>Верещагин</td>\n",
       "      <td>2018-05-25</td>\n",
       "      <td>ultra</td>\n",
       "    </tr>\n",
       "    <tr>\n",
       "      <th>1</th>\n",
       "      <td>1001</td>\n",
       "      <td>41</td>\n",
       "      <td>NaT</td>\n",
       "      <td>Москва</td>\n",
       "      <td>Иван</td>\n",
       "      <td>Ежов</td>\n",
       "      <td>2018-11-01</td>\n",
       "      <td>smart</td>\n",
       "    </tr>\n",
       "    <tr>\n",
       "      <th>2</th>\n",
       "      <td>1002</td>\n",
       "      <td>59</td>\n",
       "      <td>NaT</td>\n",
       "      <td>Стерлитамак</td>\n",
       "      <td>Евгений</td>\n",
       "      <td>Абрамович</td>\n",
       "      <td>2018-06-17</td>\n",
       "      <td>smart</td>\n",
       "    </tr>\n",
       "    <tr>\n",
       "      <th>3</th>\n",
       "      <td>1003</td>\n",
       "      <td>23</td>\n",
       "      <td>NaT</td>\n",
       "      <td>Москва</td>\n",
       "      <td>Белла</td>\n",
       "      <td>Белякова</td>\n",
       "      <td>2018-08-17</td>\n",
       "      <td>ultra</td>\n",
       "    </tr>\n",
       "  </tbody>\n",
       "</table>\n",
       "</div>"
      ],
      "text/plain": [
       "   user_id  age churn_date         city first_name  last_name    reg_date  \\\n",
       "0     1000   52        NaT    Краснодар     Рафаил  Верещагин  2018-05-25   \n",
       "1     1001   41        NaT       Москва       Иван       Ежов  2018-11-01   \n",
       "2     1002   59        NaT  Стерлитамак    Евгений  Абрамович  2018-06-17   \n",
       "3     1003   23        NaT       Москва      Белла   Белякова  2018-08-17   \n",
       "\n",
       "  tariff  \n",
       "0  ultra  \n",
       "1  smart  \n",
       "2  smart  \n",
       "3  ultra  "
      ]
     },
     "metadata": {},
     "output_type": "display_data"
    }
   ],
   "source": [
    "display(users['reg_date'].sample(4))\n",
    "display(users.head(4))"
   ]
  },
  {
   "cell_type": "markdown",
   "metadata": {},
   "source": [
    "*С данными вроде всё в порядке, только поменяем тип на datetime64 (по условию определено, что отсутствующие значения имеют свою значимость).*"
   ]
  },
  {
   "cell_type": "code",
   "execution_count": 23,
   "metadata": {},
   "outputs": [],
   "source": [
    "users['reg_date'] = pd.to_datetime(users['reg_date'])"
   ]
  },
  {
   "cell_type": "code",
   "execution_count": 24,
   "metadata": {},
   "outputs": [
    {
     "data": {
      "text/plain": [
       "217   2018-02-23\n",
       "267   2018-08-05\n",
       "238   2018-01-08\n",
       "409   2018-03-14\n",
       "Name: reg_date, dtype: datetime64[ns]"
      ]
     },
     "metadata": {},
     "output_type": "display_data"
    },
    {
     "data": {
      "text/html": [
       "<div>\n",
       "<style scoped>\n",
       "    .dataframe tbody tr th:only-of-type {\n",
       "        vertical-align: middle;\n",
       "    }\n",
       "\n",
       "    .dataframe tbody tr th {\n",
       "        vertical-align: top;\n",
       "    }\n",
       "\n",
       "    .dataframe thead th {\n",
       "        text-align: right;\n",
       "    }\n",
       "</style>\n",
       "<table border=\"1\" class=\"dataframe\">\n",
       "  <thead>\n",
       "    <tr style=\"text-align: right;\">\n",
       "      <th></th>\n",
       "      <th>user_id</th>\n",
       "      <th>age</th>\n",
       "      <th>churn_date</th>\n",
       "      <th>city</th>\n",
       "      <th>first_name</th>\n",
       "      <th>last_name</th>\n",
       "      <th>reg_date</th>\n",
       "      <th>tariff</th>\n",
       "    </tr>\n",
       "  </thead>\n",
       "  <tbody>\n",
       "    <tr>\n",
       "      <th>0</th>\n",
       "      <td>1000</td>\n",
       "      <td>52</td>\n",
       "      <td>NaT</td>\n",
       "      <td>Краснодар</td>\n",
       "      <td>Рафаил</td>\n",
       "      <td>Верещагин</td>\n",
       "      <td>2018-05-25</td>\n",
       "      <td>ultra</td>\n",
       "    </tr>\n",
       "    <tr>\n",
       "      <th>1</th>\n",
       "      <td>1001</td>\n",
       "      <td>41</td>\n",
       "      <td>NaT</td>\n",
       "      <td>Москва</td>\n",
       "      <td>Иван</td>\n",
       "      <td>Ежов</td>\n",
       "      <td>2018-11-01</td>\n",
       "      <td>smart</td>\n",
       "    </tr>\n",
       "    <tr>\n",
       "      <th>2</th>\n",
       "      <td>1002</td>\n",
       "      <td>59</td>\n",
       "      <td>NaT</td>\n",
       "      <td>Стерлитамак</td>\n",
       "      <td>Евгений</td>\n",
       "      <td>Абрамович</td>\n",
       "      <td>2018-06-17</td>\n",
       "      <td>smart</td>\n",
       "    </tr>\n",
       "    <tr>\n",
       "      <th>3</th>\n",
       "      <td>1003</td>\n",
       "      <td>23</td>\n",
       "      <td>NaT</td>\n",
       "      <td>Москва</td>\n",
       "      <td>Белла</td>\n",
       "      <td>Белякова</td>\n",
       "      <td>2018-08-17</td>\n",
       "      <td>ultra</td>\n",
       "    </tr>\n",
       "  </tbody>\n",
       "</table>\n",
       "</div>"
      ],
      "text/plain": [
       "   user_id  age churn_date         city first_name  last_name   reg_date  \\\n",
       "0     1000   52        NaT    Краснодар     Рафаил  Верещагин 2018-05-25   \n",
       "1     1001   41        NaT       Москва       Иван       Ежов 2018-11-01   \n",
       "2     1002   59        NaT  Стерлитамак    Евгений  Абрамович 2018-06-17   \n",
       "3     1003   23        NaT       Москва      Белла   Белякова 2018-08-17   \n",
       "\n",
       "  tariff  \n",
       "0  ultra  \n",
       "1  smart  \n",
       "2  smart  \n",
       "3  ultra  "
      ]
     },
     "metadata": {},
     "output_type": "display_data"
    }
   ],
   "source": [
    "display(users['reg_date'].sample(4))\n",
    "display(users.head(4))"
   ]
  },
  {
   "cell_type": "markdown",
   "metadata": {},
   "source": [
    "***Вывод: Тип поменяли остальное в порядке. Столбец готов.***"
   ]
  },
  {
   "cell_type": "markdown",
   "metadata": {},
   "source": [
    "#### Столбец tariff - название тарифного плана"
   ]
  },
  {
   "cell_type": "markdown",
   "metadata": {},
   "source": [
    "Здесь проверим значение. Должно быть 2 тарифа."
   ]
  },
  {
   "cell_type": "code",
   "execution_count": 25,
   "metadata": {},
   "outputs": [
    {
     "data": {
      "text/plain": [
       "smart    351\n",
       "ultra    149\n",
       "Name: tariff, dtype: int64"
      ]
     },
     "execution_count": 25,
     "metadata": {},
     "output_type": "execute_result"
    }
   ],
   "source": [
    "users['tariff'].value_counts()"
   ]
  },
  {
   "cell_type": "markdown",
   "metadata": {},
   "source": [
    "***Вывод: Итого 500 записей. Столбец корректен.***"
   ]
  },
  {
   "cell_type": "code",
   "execution_count": 26,
   "metadata": {},
   "outputs": [
    {
     "name": "stdout",
     "output_type": "stream",
     "text": [
      "<class 'pandas.core.frame.DataFrame'>\n",
      "RangeIndex: 500 entries, 0 to 499\n",
      "Data columns (total 8 columns):\n",
      " #   Column      Non-Null Count  Dtype         \n",
      "---  ------      --------------  -----         \n",
      " 0   user_id     500 non-null    int64         \n",
      " 1   age         500 non-null    int64         \n",
      " 2   churn_date  38 non-null     datetime64[ns]\n",
      " 3   city        500 non-null    object        \n",
      " 4   first_name  500 non-null    object        \n",
      " 5   last_name   500 non-null    object        \n",
      " 6   reg_date    500 non-null    datetime64[ns]\n",
      " 7   tariff      500 non-null    object        \n",
      "dtypes: datetime64[ns](2), int64(2), object(4)\n",
      "memory usage: 31.4+ KB\n"
     ]
    }
   ],
   "source": [
    "users.info()"
   ]
  },
  {
   "cell_type": "markdown",
   "metadata": {},
   "source": [
    "#### Проверим на всякий случай наличие дубликатов, исключая столбец user_id"
   ]
  },
  {
   "cell_type": "code",
   "execution_count": 27,
   "metadata": {},
   "outputs": [
    {
     "name": "stdout",
     "output_type": "stream",
     "text": [
      "Кол-во дубликатов = 0\n"
     ]
    }
   ],
   "source": [
    "print('Кол-во дубликатов =', users.loc[:,['age', 'churn_date', 'city', 'first_name', \\\n",
    "                                          'last_name', 'reg_date', 'tariff']].duplicated().sum())"
   ]
  },
  {
   "cell_type": "markdown",
   "metadata": {},
   "source": [
    "***Вывод: Таблица users готова.***"
   ]
  },
  {
   "cell_type": "markdown",
   "metadata": {},
   "source": [
    "### Таблица calls"
   ]
  },
  {
   "cell_type": "code",
   "execution_count": 28,
   "metadata": {},
   "outputs": [
    {
     "name": "stdout",
     "output_type": "stream",
     "text": [
      "<class 'pandas.core.frame.DataFrame'>\n",
      "RangeIndex: 202607 entries, 0 to 202606\n",
      "Data columns (total 4 columns):\n",
      " #   Column     Non-Null Count   Dtype  \n",
      "---  ------     --------------   -----  \n",
      " 0   id         202607 non-null  object \n",
      " 1   call_date  202607 non-null  object \n",
      " 2   duration   202607 non-null  float64\n",
      " 3   user_id    202607 non-null  int64  \n",
      "dtypes: float64(1), int64(1), object(2)\n",
      "memory usage: 6.2+ MB\n"
     ]
    },
    {
     "data": {
      "text/html": [
       "<div>\n",
       "<style scoped>\n",
       "    .dataframe tbody tr th:only-of-type {\n",
       "        vertical-align: middle;\n",
       "    }\n",
       "\n",
       "    .dataframe tbody tr th {\n",
       "        vertical-align: top;\n",
       "    }\n",
       "\n",
       "    .dataframe thead th {\n",
       "        text-align: right;\n",
       "    }\n",
       "</style>\n",
       "<table border=\"1\" class=\"dataframe\">\n",
       "  <thead>\n",
       "    <tr style=\"text-align: right;\">\n",
       "      <th></th>\n",
       "      <th>id</th>\n",
       "      <th>call_date</th>\n",
       "      <th>duration</th>\n",
       "      <th>user_id</th>\n",
       "    </tr>\n",
       "  </thead>\n",
       "  <tbody>\n",
       "    <tr>\n",
       "      <th>0</th>\n",
       "      <td>1000_0</td>\n",
       "      <td>2018-07-25</td>\n",
       "      <td>0.00</td>\n",
       "      <td>1000</td>\n",
       "    </tr>\n",
       "    <tr>\n",
       "      <th>1</th>\n",
       "      <td>1000_1</td>\n",
       "      <td>2018-08-17</td>\n",
       "      <td>0.00</td>\n",
       "      <td>1000</td>\n",
       "    </tr>\n",
       "    <tr>\n",
       "      <th>2</th>\n",
       "      <td>1000_2</td>\n",
       "      <td>2018-06-11</td>\n",
       "      <td>2.85</td>\n",
       "      <td>1000</td>\n",
       "    </tr>\n",
       "    <tr>\n",
       "      <th>3</th>\n",
       "      <td>1000_3</td>\n",
       "      <td>2018-09-21</td>\n",
       "      <td>13.80</td>\n",
       "      <td>1000</td>\n",
       "    </tr>\n",
       "    <tr>\n",
       "      <th>4</th>\n",
       "      <td>1000_4</td>\n",
       "      <td>2018-12-15</td>\n",
       "      <td>5.18</td>\n",
       "      <td>1000</td>\n",
       "    </tr>\n",
       "    <tr>\n",
       "      <th>...</th>\n",
       "      <td>...</td>\n",
       "      <td>...</td>\n",
       "      <td>...</td>\n",
       "      <td>...</td>\n",
       "    </tr>\n",
       "    <tr>\n",
       "      <th>202602</th>\n",
       "      <td>1499_215</td>\n",
       "      <td>2018-12-26</td>\n",
       "      <td>0.76</td>\n",
       "      <td>1499</td>\n",
       "    </tr>\n",
       "    <tr>\n",
       "      <th>202603</th>\n",
       "      <td>1499_216</td>\n",
       "      <td>2018-10-18</td>\n",
       "      <td>18.83</td>\n",
       "      <td>1499</td>\n",
       "    </tr>\n",
       "    <tr>\n",
       "      <th>202604</th>\n",
       "      <td>1499_217</td>\n",
       "      <td>2018-11-10</td>\n",
       "      <td>10.81</td>\n",
       "      <td>1499</td>\n",
       "    </tr>\n",
       "    <tr>\n",
       "      <th>202605</th>\n",
       "      <td>1499_218</td>\n",
       "      <td>2018-10-06</td>\n",
       "      <td>4.27</td>\n",
       "      <td>1499</td>\n",
       "    </tr>\n",
       "    <tr>\n",
       "      <th>202606</th>\n",
       "      <td>1499_219</td>\n",
       "      <td>2018-12-14</td>\n",
       "      <td>19.62</td>\n",
       "      <td>1499</td>\n",
       "    </tr>\n",
       "  </tbody>\n",
       "</table>\n",
       "<p>202607 rows × 4 columns</p>\n",
       "</div>"
      ],
      "text/plain": [
       "              id   call_date  duration  user_id\n",
       "0         1000_0  2018-07-25      0.00     1000\n",
       "1         1000_1  2018-08-17      0.00     1000\n",
       "2         1000_2  2018-06-11      2.85     1000\n",
       "3         1000_3  2018-09-21     13.80     1000\n",
       "4         1000_4  2018-12-15      5.18     1000\n",
       "...          ...         ...       ...      ...\n",
       "202602  1499_215  2018-12-26      0.76     1499\n",
       "202603  1499_216  2018-10-18     18.83     1499\n",
       "202604  1499_217  2018-11-10     10.81     1499\n",
       "202605  1499_218  2018-10-06      4.27     1499\n",
       "202606  1499_219  2018-12-14     19.62     1499\n",
       "\n",
       "[202607 rows x 4 columns]"
      ]
     },
     "metadata": {},
     "output_type": "display_data"
    }
   ],
   "source": [
    "calls.info()\n",
    "display(calls)"
   ]
  },
  {
   "cell_type": "markdown",
   "metadata": {},
   "source": [
    "#### Столбец id -уникальный номер звонка"
   ]
  },
  {
   "cell_type": "markdown",
   "metadata": {},
   "source": [
    "Проверим уникальность записей"
   ]
  },
  {
   "cell_type": "code",
   "execution_count": 29,
   "metadata": {},
   "outputs": [
    {
     "name": "stdout",
     "output_type": "stream",
     "text": [
      "0           1000_0\n",
      "1           1000_1\n",
      "2           1000_2\n",
      "3           1000_3\n",
      "4           1000_4\n",
      "            ...   \n",
      "202602    1499_215\n",
      "202603    1499_216\n",
      "202604    1499_217\n",
      "202605    1499_218\n",
      "202606    1499_219\n",
      "Name: id, Length: 202607, dtype: object\n",
      "1458_997    1\n",
      "1418_128    1\n",
      "1332_332    1\n",
      "1169_63     1\n",
      "1076_647    1\n",
      "           ..\n",
      "1335_499    1\n",
      "1121_52     1\n",
      "1495_159    1\n",
      "1227_914    1\n",
      "1315_98     1\n",
      "Name: id, Length: 202607, dtype: int64\n"
     ]
    }
   ],
   "source": [
    "print(calls['id'])\n",
    "print(calls['id'].value_counts())"
   ]
  },
  {
   "cell_type": "markdown",
   "metadata": {},
   "source": [
    "***Все идентификаторы уникальны.***"
   ]
  },
  {
   "cell_type": "markdown",
   "metadata": {},
   "source": [
    "#### Столбец call_date - дата звонка"
   ]
  },
  {
   "cell_type": "markdown",
   "metadata": {},
   "source": [
    "Поменяем тип, и проверим данные"
   ]
  },
  {
   "cell_type": "code",
   "execution_count": 30,
   "metadata": {},
   "outputs": [
    {
     "data": {
      "text/plain": [
       "0         2018-07-25\n",
       "1         2018-08-17\n",
       "2         2018-06-11\n",
       "3         2018-09-21\n",
       "4         2018-12-15\n",
       "             ...    \n",
       "202602    2018-12-26\n",
       "202603    2018-10-18\n",
       "202604    2018-11-10\n",
       "202605    2018-10-06\n",
       "202606    2018-12-14\n",
       "Name: call_date, Length: 202607, dtype: object"
      ]
     },
     "metadata": {},
     "output_type": "display_data"
    },
    {
     "data": {
      "text/plain": [
       "107467    2018-12-21\n",
       "101348    2018-12-16\n",
       "68018     2018-09-08\n",
       "192808    2018-10-26\n",
       "Name: call_date, dtype: object"
      ]
     },
     "metadata": {},
     "output_type": "display_data"
    }
   ],
   "source": [
    "display(calls['call_date'])\n",
    "display(calls['call_date'].sample(4))"
   ]
  },
  {
   "cell_type": "code",
   "execution_count": 31,
   "metadata": {},
   "outputs": [
    {
     "data": {
      "text/html": [
       "<div>\n",
       "<style scoped>\n",
       "    .dataframe tbody tr th:only-of-type {\n",
       "        vertical-align: middle;\n",
       "    }\n",
       "\n",
       "    .dataframe tbody tr th {\n",
       "        vertical-align: top;\n",
       "    }\n",
       "\n",
       "    .dataframe thead th {\n",
       "        text-align: right;\n",
       "    }\n",
       "</style>\n",
       "<table border=\"1\" class=\"dataframe\">\n",
       "  <thead>\n",
       "    <tr style=\"text-align: right;\">\n",
       "      <th></th>\n",
       "      <th>id</th>\n",
       "      <th>call_date</th>\n",
       "      <th>duration</th>\n",
       "      <th>user_id</th>\n",
       "    </tr>\n",
       "  </thead>\n",
       "  <tbody>\n",
       "    <tr>\n",
       "      <th>0</th>\n",
       "      <td>1000_0</td>\n",
       "      <td>2018-07-25</td>\n",
       "      <td>0.00</td>\n",
       "      <td>1000</td>\n",
       "    </tr>\n",
       "    <tr>\n",
       "      <th>1</th>\n",
       "      <td>1000_1</td>\n",
       "      <td>2018-08-17</td>\n",
       "      <td>0.00</td>\n",
       "      <td>1000</td>\n",
       "    </tr>\n",
       "    <tr>\n",
       "      <th>2</th>\n",
       "      <td>1000_2</td>\n",
       "      <td>2018-06-11</td>\n",
       "      <td>2.85</td>\n",
       "      <td>1000</td>\n",
       "    </tr>\n",
       "    <tr>\n",
       "      <th>3</th>\n",
       "      <td>1000_3</td>\n",
       "      <td>2018-09-21</td>\n",
       "      <td>13.80</td>\n",
       "      <td>1000</td>\n",
       "    </tr>\n",
       "    <tr>\n",
       "      <th>4</th>\n",
       "      <td>1000_4</td>\n",
       "      <td>2018-12-15</td>\n",
       "      <td>5.18</td>\n",
       "      <td>1000</td>\n",
       "    </tr>\n",
       "    <tr>\n",
       "      <th>...</th>\n",
       "      <td>...</td>\n",
       "      <td>...</td>\n",
       "      <td>...</td>\n",
       "      <td>...</td>\n",
       "    </tr>\n",
       "    <tr>\n",
       "      <th>202602</th>\n",
       "      <td>1499_215</td>\n",
       "      <td>2018-12-26</td>\n",
       "      <td>0.76</td>\n",
       "      <td>1499</td>\n",
       "    </tr>\n",
       "    <tr>\n",
       "      <th>202603</th>\n",
       "      <td>1499_216</td>\n",
       "      <td>2018-10-18</td>\n",
       "      <td>18.83</td>\n",
       "      <td>1499</td>\n",
       "    </tr>\n",
       "    <tr>\n",
       "      <th>202604</th>\n",
       "      <td>1499_217</td>\n",
       "      <td>2018-11-10</td>\n",
       "      <td>10.81</td>\n",
       "      <td>1499</td>\n",
       "    </tr>\n",
       "    <tr>\n",
       "      <th>202605</th>\n",
       "      <td>1499_218</td>\n",
       "      <td>2018-10-06</td>\n",
       "      <td>4.27</td>\n",
       "      <td>1499</td>\n",
       "    </tr>\n",
       "    <tr>\n",
       "      <th>202606</th>\n",
       "      <td>1499_219</td>\n",
       "      <td>2018-12-14</td>\n",
       "      <td>19.62</td>\n",
       "      <td>1499</td>\n",
       "    </tr>\n",
       "  </tbody>\n",
       "</table>\n",
       "<p>202607 rows × 4 columns</p>\n",
       "</div>"
      ],
      "text/plain": [
       "              id   call_date  duration  user_id\n",
       "0         1000_0  2018-07-25      0.00     1000\n",
       "1         1000_1  2018-08-17      0.00     1000\n",
       "2         1000_2  2018-06-11      2.85     1000\n",
       "3         1000_3  2018-09-21     13.80     1000\n",
       "4         1000_4  2018-12-15      5.18     1000\n",
       "...          ...         ...       ...      ...\n",
       "202602  1499_215  2018-12-26      0.76     1499\n",
       "202603  1499_216  2018-10-18     18.83     1499\n",
       "202604  1499_217  2018-11-10     10.81     1499\n",
       "202605  1499_218  2018-10-06      4.27     1499\n",
       "202606  1499_219  2018-12-14     19.62     1499\n",
       "\n",
       "[202607 rows x 4 columns]"
      ]
     },
     "metadata": {},
     "output_type": "display_data"
    },
    {
     "name": "stdout",
     "output_type": "stream",
     "text": [
      "count         202607\n",
      "unique           365\n",
      "top       2018-12-31\n",
      "freq            1435\n",
      "Name: call_date, dtype: object\n"
     ]
    }
   ],
   "source": [
    "display(calls)\n",
    "print(calls['call_date'].describe())"
   ]
  },
  {
   "cell_type": "markdown",
   "metadata": {},
   "source": [
    "***С данными всё в порядке, только поменяем тип на datetime64.***"
   ]
  },
  {
   "cell_type": "code",
   "execution_count": 32,
   "metadata": {},
   "outputs": [],
   "source": [
    "calls['call_date'] = pd.to_datetime(calls['call_date'])"
   ]
  },
  {
   "cell_type": "code",
   "execution_count": 33,
   "metadata": {},
   "outputs": [
    {
     "data": {
      "text/plain": [
       "143717   2018-07-11\n",
       "38584    2018-11-28\n",
       "77833    2018-09-12\n",
       "84184    2018-10-20\n",
       "Name: call_date, dtype: datetime64[ns]"
      ]
     },
     "metadata": {},
     "output_type": "display_data"
    },
    {
     "data": {
      "text/html": [
       "<div>\n",
       "<style scoped>\n",
       "    .dataframe tbody tr th:only-of-type {\n",
       "        vertical-align: middle;\n",
       "    }\n",
       "\n",
       "    .dataframe tbody tr th {\n",
       "        vertical-align: top;\n",
       "    }\n",
       "\n",
       "    .dataframe thead th {\n",
       "        text-align: right;\n",
       "    }\n",
       "</style>\n",
       "<table border=\"1\" class=\"dataframe\">\n",
       "  <thead>\n",
       "    <tr style=\"text-align: right;\">\n",
       "      <th></th>\n",
       "      <th>id</th>\n",
       "      <th>call_date</th>\n",
       "      <th>duration</th>\n",
       "      <th>user_id</th>\n",
       "    </tr>\n",
       "  </thead>\n",
       "  <tbody>\n",
       "    <tr>\n",
       "      <th>0</th>\n",
       "      <td>1000_0</td>\n",
       "      <td>2018-07-25</td>\n",
       "      <td>0.00</td>\n",
       "      <td>1000</td>\n",
       "    </tr>\n",
       "    <tr>\n",
       "      <th>1</th>\n",
       "      <td>1000_1</td>\n",
       "      <td>2018-08-17</td>\n",
       "      <td>0.00</td>\n",
       "      <td>1000</td>\n",
       "    </tr>\n",
       "    <tr>\n",
       "      <th>2</th>\n",
       "      <td>1000_2</td>\n",
       "      <td>2018-06-11</td>\n",
       "      <td>2.85</td>\n",
       "      <td>1000</td>\n",
       "    </tr>\n",
       "    <tr>\n",
       "      <th>3</th>\n",
       "      <td>1000_3</td>\n",
       "      <td>2018-09-21</td>\n",
       "      <td>13.80</td>\n",
       "      <td>1000</td>\n",
       "    </tr>\n",
       "  </tbody>\n",
       "</table>\n",
       "</div>"
      ],
      "text/plain": [
       "       id  call_date  duration  user_id\n",
       "0  1000_0 2018-07-25      0.00     1000\n",
       "1  1000_1 2018-08-17      0.00     1000\n",
       "2  1000_2 2018-06-11      2.85     1000\n",
       "3  1000_3 2018-09-21     13.80     1000"
      ]
     },
     "metadata": {},
     "output_type": "display_data"
    },
    {
     "name": "stdout",
     "output_type": "stream",
     "text": [
      "count                           202607\n",
      "mean     2018-09-02 20:01:37.583992832\n",
      "min                2018-01-01 00:00:00\n",
      "25%                2018-07-05 00:00:00\n",
      "50%                2018-09-17 00:00:00\n",
      "75%                2018-11-14 00:00:00\n",
      "max                2018-12-31 00:00:00\n",
      "Name: call_date, dtype: object\n"
     ]
    }
   ],
   "source": [
    "display(calls['call_date'].sample(4))\n",
    "display(calls.head(4))\n",
    "print(calls['call_date'].describe(datetime_is_numeric=True))"
   ]
  },
  {
   "cell_type": "markdown",
   "metadata": {},
   "source": [
    "***Вывод: Тип поменяли остальное в порядке(365 дат = кол-ву дней в году). Столбец готов.***"
   ]
  },
  {
   "cell_type": "markdown",
   "metadata": {},
   "source": [
    "#### Столбец duration - длительность звонка в минутах"
   ]
  },
  {
   "cell_type": "code",
   "execution_count": 34,
   "metadata": {},
   "outputs": [
    {
     "data": {
      "text/plain": [
       "0          0.00\n",
       "1          0.00\n",
       "2          2.85\n",
       "3         13.80\n",
       "4          5.18\n",
       "          ...  \n",
       "202602     0.76\n",
       "202603    18.83\n",
       "202604    10.81\n",
       "202605     4.27\n",
       "202606    19.62\n",
       "Name: duration, Length: 202607, dtype: float64"
      ]
     },
     "metadata": {},
     "output_type": "display_data"
    },
    {
     "data": {
      "text/plain": [
       "count    202607.000000\n",
       "mean          6.755887\n",
       "std           5.843365\n",
       "min           0.000000\n",
       "25%           1.300000\n",
       "50%           6.000000\n",
       "75%          10.700000\n",
       "max          38.000000\n",
       "Name: duration, dtype: float64"
      ]
     },
     "metadata": {},
     "output_type": "display_data"
    }
   ],
   "source": [
    "display(calls['duration'])\n",
    "display(calls['duration'].describe())"
   ]
  },
  {
   "cell_type": "markdown",
   "metadata": {},
   "source": [
    "Выбросов нет. Вполне правдоподобно - длительность от 0 до 38 минут. 0 скорее всего у тех, кто не дозвонился."
   ]
  },
  {
   "cell_type": "markdown",
   "metadata": {},
   "source": [
    "В условии задачи сказано : «Мегалайн» всегда округляет вверх значения минут и мегабайтов. Если пользователь проговорил всего 1 секунду, в тарифе засчитывается целая минута."
   ]
  },
  {
   "cell_type": "markdown",
   "metadata": {},
   "source": [
    "Поэтому округлим в большую сторону все значения столбца и поменяем тип на int."
   ]
  },
  {
   "cell_type": "code",
   "execution_count": 35,
   "metadata": {},
   "outputs": [
    {
     "data": {
      "text/plain": [
       "0          0.00\n",
       "1          0.00\n",
       "2          2.85\n",
       "3         13.80\n",
       "4          5.18\n",
       "          ...  \n",
       "202602     0.76\n",
       "202603    18.83\n",
       "202604    10.81\n",
       "202605     4.27\n",
       "202606    19.62\n",
       "Name: duration, Length: 202607, dtype: float64"
      ]
     },
     "metadata": {},
     "output_type": "display_data"
    }
   ],
   "source": [
    "def round_up(fl): # Функция округления вверх. Принимает число, возвращает оклугленное вверх\n",
    "    if int(fl)==fl:\n",
    "        return fl\n",
    "    else:\n",
    "        return int(fl)+1\n",
    "\n",
    "#calls['duration'] = calls['duration'].astype(int)\n",
    "np.ceil(calls['duration'])\n",
    "display(calls['duration'])"
   ]
  },
  {
   "cell_type": "code",
   "execution_count": 36,
   "metadata": {},
   "outputs": [],
   "source": [
    "# Код ревьюера\n",
    "\n",
    "calls['duration'] = np.ceil(calls['duration'])"
   ]
  },
  {
   "cell_type": "markdown",
   "metadata": {},
   "source": [
    "***Вывод: Столбец готов.***\n",
    "\n"
   ]
  },
  {
   "cell_type": "markdown",
   "metadata": {},
   "source": [
    "#### Столбец user_id - идентификатор пользователя, сделавшего звонок"
   ]
  },
  {
   "cell_type": "markdown",
   "metadata": {},
   "source": [
    "В этом столбце важно проверить, чтобы не было дубликатов, так как user_id - уникальный ключ, а также посмотрим разброс значений (все ли четырехзначные - однотипные)."
   ]
  },
  {
   "cell_type": "code",
   "execution_count": 37,
   "metadata": {},
   "outputs": [
    {
     "name": "stdout",
     "output_type": "stream",
     "text": [
      "1377    1760\n",
      "1168    1692\n",
      "1375    1560\n",
      "1453    1440\n",
      "1196    1240\n",
      "        ... \n",
      "1397      33\n",
      "1442      28\n",
      "1373      24\n",
      "1016      20\n",
      "1257      14\n",
      "Name: user_id, Length: 492, dtype: int64\n",
      "\n",
      "count    202607.000000\n",
      "mean       1253.940619\n",
      "std         144.722751\n",
      "min        1000.000000\n",
      "25%        1126.000000\n",
      "50%        1260.000000\n",
      "75%        1379.000000\n",
      "max        1499.000000\n",
      "Name: user_id, dtype: float64\n",
      "\n",
      "Уникальных значений = 492\n"
     ]
    }
   ],
   "source": [
    "id_reseach(calls['user_id'])"
   ]
  },
  {
   "cell_type": "markdown",
   "metadata": {},
   "source": [
    "8 абонентов не говорили по телефону, скорее всего это симкарты для интернета.\n",
    "\n",
    "Проверим напоследок количество уникальных значений, чтобы не изменилось (если изменится, значит было какое-то число с остатком)."
   ]
  },
  {
   "cell_type": "code",
   "execution_count": 38,
   "metadata": {},
   "outputs": [
    {
     "name": "stdout",
     "output_type": "stream",
     "text": [
      "Уникальных значений = 492\n"
     ]
    }
   ],
   "source": [
    "calls['user_id'] = calls['user_id'].astype(int)\n",
    "print('Уникальных значений =',len(calls['user_id'].unique()))"
   ]
  },
  {
   "cell_type": "markdown",
   "metadata": {},
   "source": [
    "На всякий случай вычислим id этих абонентов и запишем в список **not_calling_id**"
   ]
  },
  {
   "cell_type": "code",
   "execution_count": 39,
   "metadata": {},
   "outputs": [
    {
     "name": "stdout",
     "output_type": "stream",
     "text": [
      "[1091, 1106, 1128, 1231, 1328, 1371, 1473, 1489]\n"
     ]
    }
   ],
   "source": [
    "not_calling_id = []\n",
    "for i in users['user_id']:\n",
    "    if i not in calls['user_id'].unique(): \n",
    "        not_calling_id.append(i) \n",
    "print(not_calling_id)"
   ]
  },
  {
   "cell_type": "code",
   "execution_count": 40,
   "metadata": {},
   "outputs": [
    {
     "name": "stdout",
     "output_type": "stream",
     "text": [
      "<class 'pandas.core.frame.DataFrame'>\n",
      "RangeIndex: 202607 entries, 0 to 202606\n",
      "Data columns (total 4 columns):\n",
      " #   Column     Non-Null Count   Dtype         \n",
      "---  ------     --------------   -----         \n",
      " 0   id         202607 non-null  object        \n",
      " 1   call_date  202607 non-null  datetime64[ns]\n",
      " 2   duration   202607 non-null  float64       \n",
      " 3   user_id    202607 non-null  int64         \n",
      "dtypes: datetime64[ns](1), float64(1), int64(1), object(1)\n",
      "memory usage: 6.2+ MB\n"
     ]
    }
   ],
   "source": [
    "calls.info()"
   ]
  },
  {
   "cell_type": "markdown",
   "metadata": {},
   "source": [
    "***Вывод: Столбец корректен.***"
   ]
  },
  {
   "cell_type": "markdown",
   "metadata": {},
   "source": [
    "#### Дубликаты"
   ]
  },
  {
   "cell_type": "markdown",
   "metadata": {},
   "source": [
    "Поскольку все идентификаторы сообщений присутствуют и они уникальны, дубликатов быть не должно."
   ]
  },
  {
   "cell_type": "markdown",
   "metadata": {},
   "source": [
    "***Вывод: В таблице calls приведена в соостветствие дата и скоректированы данные в столбце duration. Также замечено, что присутствуют не звонившие абоненты, - их user_id записан в список not_calling_id. В остальном всё в порядке. Таблица готова.***"
   ]
  },
  {
   "cell_type": "markdown",
   "metadata": {},
   "source": [
    "### Таблица messages"
   ]
  },
  {
   "cell_type": "markdown",
   "metadata": {},
   "source": [
    "Выведем таблицу на экран."
   ]
  },
  {
   "cell_type": "code",
   "execution_count": 41,
   "metadata": {},
   "outputs": [
    {
     "name": "stdout",
     "output_type": "stream",
     "text": [
      "<class 'pandas.core.frame.DataFrame'>\n",
      "RangeIndex: 123036 entries, 0 to 123035\n",
      "Data columns (total 3 columns):\n",
      " #   Column        Non-Null Count   Dtype \n",
      "---  ------        --------------   ----- \n",
      " 0   id            123036 non-null  object\n",
      " 1   message_date  123036 non-null  object\n",
      " 2   user_id       123036 non-null  int64 \n",
      "dtypes: int64(1), object(2)\n",
      "memory usage: 2.8+ MB\n"
     ]
    },
    {
     "data": {
      "text/plain": [
       "None"
      ]
     },
     "metadata": {},
     "output_type": "display_data"
    },
    {
     "data": {
      "text/html": [
       "<div>\n",
       "<style scoped>\n",
       "    .dataframe tbody tr th:only-of-type {\n",
       "        vertical-align: middle;\n",
       "    }\n",
       "\n",
       "    .dataframe tbody tr th {\n",
       "        vertical-align: top;\n",
       "    }\n",
       "\n",
       "    .dataframe thead th {\n",
       "        text-align: right;\n",
       "    }\n",
       "</style>\n",
       "<table border=\"1\" class=\"dataframe\">\n",
       "  <thead>\n",
       "    <tr style=\"text-align: right;\">\n",
       "      <th></th>\n",
       "      <th>id</th>\n",
       "      <th>message_date</th>\n",
       "      <th>user_id</th>\n",
       "    </tr>\n",
       "  </thead>\n",
       "  <tbody>\n",
       "    <tr>\n",
       "      <th>0</th>\n",
       "      <td>1000_0</td>\n",
       "      <td>2018-06-27</td>\n",
       "      <td>1000</td>\n",
       "    </tr>\n",
       "    <tr>\n",
       "      <th>1</th>\n",
       "      <td>1000_1</td>\n",
       "      <td>2018-10-08</td>\n",
       "      <td>1000</td>\n",
       "    </tr>\n",
       "    <tr>\n",
       "      <th>2</th>\n",
       "      <td>1000_2</td>\n",
       "      <td>2018-08-04</td>\n",
       "      <td>1000</td>\n",
       "    </tr>\n",
       "    <tr>\n",
       "      <th>3</th>\n",
       "      <td>1000_3</td>\n",
       "      <td>2018-06-16</td>\n",
       "      <td>1000</td>\n",
       "    </tr>\n",
       "    <tr>\n",
       "      <th>4</th>\n",
       "      <td>1000_4</td>\n",
       "      <td>2018-12-05</td>\n",
       "      <td>1000</td>\n",
       "    </tr>\n",
       "    <tr>\n",
       "      <th>...</th>\n",
       "      <td>...</td>\n",
       "      <td>...</td>\n",
       "      <td>...</td>\n",
       "    </tr>\n",
       "    <tr>\n",
       "      <th>123031</th>\n",
       "      <td>1499_179</td>\n",
       "      <td>2018-12-12</td>\n",
       "      <td>1499</td>\n",
       "    </tr>\n",
       "    <tr>\n",
       "      <th>123032</th>\n",
       "      <td>1499_180</td>\n",
       "      <td>2018-09-28</td>\n",
       "      <td>1499</td>\n",
       "    </tr>\n",
       "    <tr>\n",
       "      <th>123033</th>\n",
       "      <td>1499_181</td>\n",
       "      <td>2018-09-27</td>\n",
       "      <td>1499</td>\n",
       "    </tr>\n",
       "    <tr>\n",
       "      <th>123034</th>\n",
       "      <td>1499_182</td>\n",
       "      <td>2018-11-15</td>\n",
       "      <td>1499</td>\n",
       "    </tr>\n",
       "    <tr>\n",
       "      <th>123035</th>\n",
       "      <td>1499_183</td>\n",
       "      <td>2018-11-16</td>\n",
       "      <td>1499</td>\n",
       "    </tr>\n",
       "  </tbody>\n",
       "</table>\n",
       "<p>123036 rows × 3 columns</p>\n",
       "</div>"
      ],
      "text/plain": [
       "              id message_date  user_id\n",
       "0         1000_0   2018-06-27     1000\n",
       "1         1000_1   2018-10-08     1000\n",
       "2         1000_2   2018-08-04     1000\n",
       "3         1000_3   2018-06-16     1000\n",
       "4         1000_4   2018-12-05     1000\n",
       "...          ...          ...      ...\n",
       "123031  1499_179   2018-12-12     1499\n",
       "123032  1499_180   2018-09-28     1499\n",
       "123033  1499_181   2018-09-27     1499\n",
       "123034  1499_182   2018-11-15     1499\n",
       "123035  1499_183   2018-11-16     1499\n",
       "\n",
       "[123036 rows x 3 columns]"
      ]
     },
     "metadata": {},
     "output_type": "display_data"
    }
   ],
   "source": [
    "display(messages.info())\n",
    "display(messages)"
   ]
  },
  {
   "cell_type": "markdown",
   "metadata": {},
   "source": [
    "#### Столбец id - уникальный номер сообщения"
   ]
  },
  {
   "cell_type": "code",
   "execution_count": 42,
   "metadata": {},
   "outputs": [
    {
     "name": "stdout",
     "output_type": "stream",
     "text": [
      "0           1000_0\n",
      "1           1000_1\n",
      "2           1000_2\n",
      "3           1000_3\n",
      "4           1000_4\n",
      "            ...   \n",
      "123031    1499_179\n",
      "123032    1499_180\n",
      "123033    1499_181\n",
      "123034    1499_182\n",
      "123035    1499_183\n",
      "Name: id, Length: 123036, dtype: object\n",
      "1390_52     1\n",
      "1300_233    1\n",
      "1238_263    1\n",
      "1130_224    1\n",
      "1070_47     1\n",
      "           ..\n",
      "1484_224    1\n",
      "1200_1      1\n",
      "1457_243    1\n",
      "1257_103    1\n",
      "1234_66     1\n",
      "Name: id, Length: 123036, dtype: int64\n"
     ]
    }
   ],
   "source": [
    "print(messages['id'])\n",
    "print(messages['id'].value_counts())"
   ]
  },
  {
   "cell_type": "markdown",
   "metadata": {},
   "source": [
    "***Вывод: Все идентификаторы уникальны и в одном экземпляре, что как раз актуально.***"
   ]
  },
  {
   "cell_type": "markdown",
   "metadata": {},
   "source": [
    "#### Столбец message_date - дата сообщения"
   ]
  },
  {
   "cell_type": "code",
   "execution_count": 43,
   "metadata": {},
   "outputs": [
    {
     "data": {
      "text/plain": [
       "0         2018-06-27\n",
       "1         2018-10-08\n",
       "2         2018-08-04\n",
       "3         2018-06-16\n",
       "4         2018-12-05\n",
       "             ...    \n",
       "123031    2018-12-12\n",
       "123032    2018-09-28\n",
       "123033    2018-09-27\n",
       "123034    2018-11-15\n",
       "123035    2018-11-16\n",
       "Name: message_date, Length: 123036, dtype: object"
      ]
     },
     "execution_count": 43,
     "metadata": {},
     "output_type": "execute_result"
    }
   ],
   "source": [
    "messages['message_date']"
   ]
  },
  {
   "cell_type": "code",
   "execution_count": 44,
   "metadata": {},
   "outputs": [
    {
     "data": {
      "text/plain": [
       "65585     2018-06-29\n",
       "109123    2018-07-09\n",
       "18394     2018-12-31\n",
       "12917     2018-12-06\n",
       "Name: message_date, dtype: object"
      ]
     },
     "metadata": {},
     "output_type": "display_data"
    },
    {
     "name": "stdout",
     "output_type": "stream",
     "text": [
      "count         123036\n",
      "unique           364\n",
      "top       2018-12-31\n",
      "freq             859\n",
      "Name: message_date, dtype: object\n"
     ]
    }
   ],
   "source": [
    "display(messages['message_date'].sample(4))\n",
    "print(messages['message_date'].describe())"
   ]
  },
  {
   "cell_type": "markdown",
   "metadata": {},
   "source": [
    "***Похоже отсутствует 1 день (364 из 365). Поменяем тип на datetime64.***"
   ]
  },
  {
   "cell_type": "code",
   "execution_count": 45,
   "metadata": {},
   "outputs": [],
   "source": [
    "messages['message_date'] = pd.to_datetime(messages['message_date'])"
   ]
  },
  {
   "cell_type": "code",
   "execution_count": 46,
   "metadata": {},
   "outputs": [
    {
     "name": "stdout",
     "output_type": "stream",
     "text": [
      "15495    2018-08-07\n",
      "105813   2018-09-06\n",
      "23088    2018-07-31\n",
      "54408    2018-10-16\n",
      "Name: message_date, dtype: datetime64[ns]\n",
      "       id message_date  user_id\n",
      "0  1000_0   2018-06-27     1000\n",
      "1  1000_1   2018-10-08     1000\n",
      "2  1000_2   2018-08-04     1000\n",
      "3  1000_3   2018-06-16     1000\n"
     ]
    },
    {
     "data": {
      "text/plain": [
       "count                           123036\n",
       "mean     2018-09-04 15:28:42.227640576\n",
       "min                2018-01-02 00:00:00\n",
       "25%                2018-07-09 00:00:00\n",
       "50%                2018-09-20 00:00:00\n",
       "75%                2018-11-14 00:00:00\n",
       "max                2018-12-31 00:00:00\n",
       "Name: message_date, dtype: object"
      ]
     },
     "execution_count": 46,
     "metadata": {},
     "output_type": "execute_result"
    }
   ],
   "source": [
    "print(messages['message_date'].sample(4))\n",
    "print(messages.head(4))\n",
    "messages['message_date'].describe(datetime_is_numeric=True)"
   ]
  },
  {
   "cell_type": "markdown",
   "metadata": {},
   "source": [
    "***Вывод: В данных отсутствуют данные за 1 января. Возможно это и к лучшему так как 1 января большая нагрузка на операторов, что может отразиться на исследовании. Возможно этот день следует исключить из анализа.***"
   ]
  },
  {
   "cell_type": "markdown",
   "metadata": {},
   "source": [
    "#### Столбец user_id - идентификатор пользователя, отправившего сообщение"
   ]
  },
  {
   "cell_type": "code",
   "execution_count": 47,
   "metadata": {},
   "outputs": [
    {
     "name": "stdout",
     "output_type": "stream",
     "text": [
      "1277    1463\n",
      "1089    1408\n",
      "1231    1384\n",
      "1385    1380\n",
      "1356    1224\n",
      "        ... \n",
      "1111       6\n",
      "1279       5\n",
      "1074       3\n",
      "1159       2\n",
      "1141       1\n",
      "Name: user_id, Length: 426, dtype: int64\n",
      "\n",
      "count    123036.000000\n",
      "mean       1256.989410\n",
      "std         143.523967\n",
      "min        1000.000000\n",
      "25%        1134.000000\n",
      "50%        1271.000000\n",
      "75%        1381.000000\n",
      "max        1499.000000\n",
      "Name: user_id, dtype: float64\n",
      "\n",
      "Уникальных значений = 426\n"
     ]
    }
   ],
   "source": [
    "id_reseach(messages['user_id'])"
   ]
  },
  {
   "cell_type": "markdown",
   "metadata": {},
   "source": [
    "***Распределение вполне плавное и в рамках 1000-1499. Есть абоненты которые рассылают аж свыше 1000 сообщений. Это скорее всего какие-то сервисы, интернет магазины (зарегистрированные на физлица). 74 абонента (500-426) не отправляли сообщения - вполне возможно, сейчас очень многие пользуются интернет-мессенджерами.***\n",
    "\n",
    "***На всякий случай вычислим id этих абонентов и запишем в список not_messaging_id.***"
   ]
  },
  {
   "cell_type": "code",
   "execution_count": 48,
   "metadata": {},
   "outputs": [
    {
     "name": "stdout",
     "output_type": "stream",
     "text": [
      "[1001, 1006, 1010, 1017, 1024, 1040, 1049, 1053, 1063, 1078, 1085, 1095, 1101, 1107, 1114, 1116, 1117, 1118, 1120, 1128, 1129, 1132, 1143, 1152, 1153, 1157, 1162, 1175, 1177, 1179, 1185, 1195, 1201, 1204, 1208, 1210, 1220, 1224, 1225, 1228, 1240, 1242, 1248, 1254, 1255, 1260, 1290, 1291, 1292, 1297, 1301, 1305, 1306, 1322, 1334, 1339, 1360, 1363, 1367, 1370, 1371, 1376, 1388, 1397, 1428, 1429, 1435, 1442, 1456, 1462, 1466, 1469, 1479, 1494]\n"
     ]
    }
   ],
   "source": [
    "not_messaging_id = []\n",
    "for i in users['user_id']:\n",
    "    if i not in messages['user_id'].unique(): \n",
    "        not_messaging_id.append(i) \n",
    "print(not_messaging_id)"
   ]
  },
  {
   "cell_type": "markdown",
   "metadata": {},
   "source": [
    "***Вывод: Столбец корректен.***"
   ]
  },
  {
   "cell_type": "markdown",
   "metadata": {},
   "source": [
    "Проверим таблицу напоследок."
   ]
  },
  {
   "cell_type": "code",
   "execution_count": 49,
   "metadata": {},
   "outputs": [
    {
     "name": "stdout",
     "output_type": "stream",
     "text": [
      "<class 'pandas.core.frame.DataFrame'>\n",
      "RangeIndex: 123036 entries, 0 to 123035\n",
      "Data columns (total 3 columns):\n",
      " #   Column        Non-Null Count   Dtype         \n",
      "---  ------        --------------   -----         \n",
      " 0   id            123036 non-null  object        \n",
      " 1   message_date  123036 non-null  datetime64[ns]\n",
      " 2   user_id       123036 non-null  int64         \n",
      "dtypes: datetime64[ns](1), int64(1), object(1)\n",
      "memory usage: 2.8+ MB\n"
     ]
    }
   ],
   "source": [
    "messages.info()"
   ]
  },
  {
   "cell_type": "markdown",
   "metadata": {},
   "source": [
    "#### Дубликаты"
   ]
  },
  {
   "cell_type": "markdown",
   "metadata": {},
   "source": [
    "Поскольку все идентификаторы сообщений присутствуют и они уникальны, дубликатов быть не должно."
   ]
  },
  {
   "cell_type": "markdown",
   "metadata": {},
   "source": [
    "***Вывод: В таблице messages приведена в соостветствие дата. Также замечено, что присутствуют не писавшие СМС абоненты, - их user_id записан в список not_messaging_id. В остальном всё в порядке. Таблица готова.***"
   ]
  },
  {
   "cell_type": "markdown",
   "metadata": {},
   "source": [
    "### Таблица internet"
   ]
  },
  {
   "cell_type": "code",
   "execution_count": 50,
   "metadata": {},
   "outputs": [
    {
     "name": "stdout",
     "output_type": "stream",
     "text": [
      "<class 'pandas.core.frame.DataFrame'>\n",
      "RangeIndex: 149396 entries, 0 to 149395\n",
      "Data columns (total 5 columns):\n",
      " #   Column        Non-Null Count   Dtype  \n",
      "---  ------        --------------   -----  \n",
      " 0   Unnamed: 0    149396 non-null  int64  \n",
      " 1   id            149396 non-null  object \n",
      " 2   mb_used       149396 non-null  float64\n",
      " 3   session_date  149396 non-null  object \n",
      " 4   user_id       149396 non-null  int64  \n",
      "dtypes: float64(1), int64(2), object(2)\n",
      "memory usage: 5.7+ MB\n"
     ]
    },
    {
     "data": {
      "text/html": [
       "<div>\n",
       "<style scoped>\n",
       "    .dataframe tbody tr th:only-of-type {\n",
       "        vertical-align: middle;\n",
       "    }\n",
       "\n",
       "    .dataframe tbody tr th {\n",
       "        vertical-align: top;\n",
       "    }\n",
       "\n",
       "    .dataframe thead th {\n",
       "        text-align: right;\n",
       "    }\n",
       "</style>\n",
       "<table border=\"1\" class=\"dataframe\">\n",
       "  <thead>\n",
       "    <tr style=\"text-align: right;\">\n",
       "      <th></th>\n",
       "      <th>Unnamed: 0</th>\n",
       "      <th>id</th>\n",
       "      <th>mb_used</th>\n",
       "      <th>session_date</th>\n",
       "      <th>user_id</th>\n",
       "    </tr>\n",
       "  </thead>\n",
       "  <tbody>\n",
       "    <tr>\n",
       "      <th>0</th>\n",
       "      <td>0</td>\n",
       "      <td>1000_0</td>\n",
       "      <td>112.95</td>\n",
       "      <td>2018-11-25</td>\n",
       "      <td>1000</td>\n",
       "    </tr>\n",
       "    <tr>\n",
       "      <th>1</th>\n",
       "      <td>1</td>\n",
       "      <td>1000_1</td>\n",
       "      <td>1052.81</td>\n",
       "      <td>2018-09-07</td>\n",
       "      <td>1000</td>\n",
       "    </tr>\n",
       "    <tr>\n",
       "      <th>2</th>\n",
       "      <td>2</td>\n",
       "      <td>1000_2</td>\n",
       "      <td>1197.26</td>\n",
       "      <td>2018-06-25</td>\n",
       "      <td>1000</td>\n",
       "    </tr>\n",
       "    <tr>\n",
       "      <th>3</th>\n",
       "      <td>3</td>\n",
       "      <td>1000_3</td>\n",
       "      <td>550.27</td>\n",
       "      <td>2018-08-22</td>\n",
       "      <td>1000</td>\n",
       "    </tr>\n",
       "    <tr>\n",
       "      <th>4</th>\n",
       "      <td>4</td>\n",
       "      <td>1000_4</td>\n",
       "      <td>302.56</td>\n",
       "      <td>2018-09-24</td>\n",
       "      <td>1000</td>\n",
       "    </tr>\n",
       "    <tr>\n",
       "      <th>...</th>\n",
       "      <td>...</td>\n",
       "      <td>...</td>\n",
       "      <td>...</td>\n",
       "      <td>...</td>\n",
       "      <td>...</td>\n",
       "    </tr>\n",
       "    <tr>\n",
       "      <th>149391</th>\n",
       "      <td>149391</td>\n",
       "      <td>1499_152</td>\n",
       "      <td>318.90</td>\n",
       "      <td>2018-10-03</td>\n",
       "      <td>1499</td>\n",
       "    </tr>\n",
       "    <tr>\n",
       "      <th>149392</th>\n",
       "      <td>149392</td>\n",
       "      <td>1499_153</td>\n",
       "      <td>490.13</td>\n",
       "      <td>2018-12-14</td>\n",
       "      <td>1499</td>\n",
       "    </tr>\n",
       "    <tr>\n",
       "      <th>149393</th>\n",
       "      <td>149393</td>\n",
       "      <td>1499_154</td>\n",
       "      <td>0.00</td>\n",
       "      <td>2018-10-27</td>\n",
       "      <td>1499</td>\n",
       "    </tr>\n",
       "    <tr>\n",
       "      <th>149394</th>\n",
       "      <td>149394</td>\n",
       "      <td>1499_155</td>\n",
       "      <td>1246.32</td>\n",
       "      <td>2018-11-26</td>\n",
       "      <td>1499</td>\n",
       "    </tr>\n",
       "    <tr>\n",
       "      <th>149395</th>\n",
       "      <td>149395</td>\n",
       "      <td>1499_156</td>\n",
       "      <td>544.37</td>\n",
       "      <td>2018-10-26</td>\n",
       "      <td>1499</td>\n",
       "    </tr>\n",
       "  </tbody>\n",
       "</table>\n",
       "<p>149396 rows × 5 columns</p>\n",
       "</div>"
      ],
      "text/plain": [
       "        Unnamed: 0        id  mb_used session_date  user_id\n",
       "0                0    1000_0   112.95   2018-11-25     1000\n",
       "1                1    1000_1  1052.81   2018-09-07     1000\n",
       "2                2    1000_2  1197.26   2018-06-25     1000\n",
       "3                3    1000_3   550.27   2018-08-22     1000\n",
       "4                4    1000_4   302.56   2018-09-24     1000\n",
       "...            ...       ...      ...          ...      ...\n",
       "149391      149391  1499_152   318.90   2018-10-03     1499\n",
       "149392      149392  1499_153   490.13   2018-12-14     1499\n",
       "149393      149393  1499_154     0.00   2018-10-27     1499\n",
       "149394      149394  1499_155  1246.32   2018-11-26     1499\n",
       "149395      149395  1499_156   544.37   2018-10-26     1499\n",
       "\n",
       "[149396 rows x 5 columns]"
      ]
     },
     "metadata": {},
     "output_type": "display_data"
    },
    {
     "name": "stdout",
     "output_type": "stream",
     "text": [
      "Index(['Unnamed: 0', 'id', 'mb_used', 'session_date', 'user_id'], dtype='object')\n"
     ]
    }
   ],
   "source": [
    "internet.info()\n",
    "display(internet)\n",
    "print(internet.columns)"
   ]
  },
  {
   "cell_type": "markdown",
   "metadata": {},
   "source": [
    "***По условию в таблице должно быть 4 столбца, а их 5. Присутствует столбец 'Unnamed: 0' данные в котором похожи на индексы. Удалим этот столбец.***"
   ]
  },
  {
   "cell_type": "code",
   "execution_count": 51,
   "metadata": {},
   "outputs": [],
   "source": [
    "internet.drop('Unnamed: 0', axis=1, inplace=True)"
   ]
  },
  {
   "cell_type": "code",
   "execution_count": 52,
   "metadata": {},
   "outputs": [
    {
     "data": {
      "text/html": [
       "<div>\n",
       "<style scoped>\n",
       "    .dataframe tbody tr th:only-of-type {\n",
       "        vertical-align: middle;\n",
       "    }\n",
       "\n",
       "    .dataframe tbody tr th {\n",
       "        vertical-align: top;\n",
       "    }\n",
       "\n",
       "    .dataframe thead th {\n",
       "        text-align: right;\n",
       "    }\n",
       "</style>\n",
       "<table border=\"1\" class=\"dataframe\">\n",
       "  <thead>\n",
       "    <tr style=\"text-align: right;\">\n",
       "      <th></th>\n",
       "      <th>id</th>\n",
       "      <th>mb_used</th>\n",
       "      <th>session_date</th>\n",
       "      <th>user_id</th>\n",
       "    </tr>\n",
       "  </thead>\n",
       "  <tbody>\n",
       "    <tr>\n",
       "      <th>0</th>\n",
       "      <td>1000_0</td>\n",
       "      <td>112.95</td>\n",
       "      <td>2018-11-25</td>\n",
       "      <td>1000</td>\n",
       "    </tr>\n",
       "    <tr>\n",
       "      <th>1</th>\n",
       "      <td>1000_1</td>\n",
       "      <td>1052.81</td>\n",
       "      <td>2018-09-07</td>\n",
       "      <td>1000</td>\n",
       "    </tr>\n",
       "    <tr>\n",
       "      <th>2</th>\n",
       "      <td>1000_2</td>\n",
       "      <td>1197.26</td>\n",
       "      <td>2018-06-25</td>\n",
       "      <td>1000</td>\n",
       "    </tr>\n",
       "    <tr>\n",
       "      <th>3</th>\n",
       "      <td>1000_3</td>\n",
       "      <td>550.27</td>\n",
       "      <td>2018-08-22</td>\n",
       "      <td>1000</td>\n",
       "    </tr>\n",
       "    <tr>\n",
       "      <th>4</th>\n",
       "      <td>1000_4</td>\n",
       "      <td>302.56</td>\n",
       "      <td>2018-09-24</td>\n",
       "      <td>1000</td>\n",
       "    </tr>\n",
       "    <tr>\n",
       "      <th>...</th>\n",
       "      <td>...</td>\n",
       "      <td>...</td>\n",
       "      <td>...</td>\n",
       "      <td>...</td>\n",
       "    </tr>\n",
       "    <tr>\n",
       "      <th>149391</th>\n",
       "      <td>1499_152</td>\n",
       "      <td>318.90</td>\n",
       "      <td>2018-10-03</td>\n",
       "      <td>1499</td>\n",
       "    </tr>\n",
       "    <tr>\n",
       "      <th>149392</th>\n",
       "      <td>1499_153</td>\n",
       "      <td>490.13</td>\n",
       "      <td>2018-12-14</td>\n",
       "      <td>1499</td>\n",
       "    </tr>\n",
       "    <tr>\n",
       "      <th>149393</th>\n",
       "      <td>1499_154</td>\n",
       "      <td>0.00</td>\n",
       "      <td>2018-10-27</td>\n",
       "      <td>1499</td>\n",
       "    </tr>\n",
       "    <tr>\n",
       "      <th>149394</th>\n",
       "      <td>1499_155</td>\n",
       "      <td>1246.32</td>\n",
       "      <td>2018-11-26</td>\n",
       "      <td>1499</td>\n",
       "    </tr>\n",
       "    <tr>\n",
       "      <th>149395</th>\n",
       "      <td>1499_156</td>\n",
       "      <td>544.37</td>\n",
       "      <td>2018-10-26</td>\n",
       "      <td>1499</td>\n",
       "    </tr>\n",
       "  </tbody>\n",
       "</table>\n",
       "<p>149396 rows × 4 columns</p>\n",
       "</div>"
      ],
      "text/plain": [
       "              id  mb_used session_date  user_id\n",
       "0         1000_0   112.95   2018-11-25     1000\n",
       "1         1000_1  1052.81   2018-09-07     1000\n",
       "2         1000_2  1197.26   2018-06-25     1000\n",
       "3         1000_3   550.27   2018-08-22     1000\n",
       "4         1000_4   302.56   2018-09-24     1000\n",
       "...          ...      ...          ...      ...\n",
       "149391  1499_152   318.90   2018-10-03     1499\n",
       "149392  1499_153   490.13   2018-12-14     1499\n",
       "149393  1499_154     0.00   2018-10-27     1499\n",
       "149394  1499_155  1246.32   2018-11-26     1499\n",
       "149395  1499_156   544.37   2018-10-26     1499\n",
       "\n",
       "[149396 rows x 4 columns]"
      ]
     },
     "metadata": {},
     "output_type": "display_data"
    }
   ],
   "source": [
    "display(internet)"
   ]
  },
  {
   "cell_type": "markdown",
   "metadata": {},
   "source": [
    "***Ненужный столбец удален. В столбцах mb_used - округлим вверх значения до целых (так как это задано условием) и поменяем тип на int, а в session_date поменяем тип на дату.***"
   ]
  },
  {
   "cell_type": "markdown",
   "metadata": {},
   "source": [
    "#### Столбец id - уникальный номер сообщения"
   ]
  },
  {
   "cell_type": "markdown",
   "metadata": {},
   "source": [
    "Проверим уникальность записей"
   ]
  },
  {
   "cell_type": "code",
   "execution_count": 53,
   "metadata": {},
   "outputs": [
    {
     "name": "stdout",
     "output_type": "stream",
     "text": [
      "0           1000_0\n",
      "1           1000_1\n",
      "2           1000_2\n",
      "3           1000_3\n",
      "4           1000_4\n",
      "            ...   \n",
      "149391    1499_152\n",
      "149392    1499_153\n",
      "149393    1499_154\n",
      "149394    1499_155\n",
      "149395    1499_156\n",
      "Name: id, Length: 149396, dtype: object\n",
      "1390_52     1\n",
      "1413_19     1\n",
      "1185_365    1\n",
      "1204_463    1\n",
      "1329_91     1\n",
      "           ..\n",
      "1170_28     1\n",
      "1125_149    1\n",
      "1310_36     1\n",
      "1164_330    1\n",
      "1315_98     1\n",
      "Name: id, Length: 149396, dtype: int64\n"
     ]
    }
   ],
   "source": [
    "print(internet['id'])\n",
    "print(internet['id'].value_counts())"
   ]
  },
  {
   "cell_type": "markdown",
   "metadata": {},
   "source": [
    "***Все идентификаторы уникальны и в одном экземпляре, что как раз актуально.***"
   ]
  },
  {
   "cell_type": "markdown",
   "metadata": {},
   "source": [
    "#### Столбец mb_used - объём потраченного за сессию интернет-трафика (в мегабайтах) "
   ]
  },
  {
   "cell_type": "code",
   "execution_count": 54,
   "metadata": {},
   "outputs": [
    {
     "data": {
      "text/plain": [
       "0          112.95\n",
       "1         1052.81\n",
       "2         1197.26\n",
       "3          550.27\n",
       "4          302.56\n",
       "           ...   \n",
       "149391     318.90\n",
       "149392     490.13\n",
       "149393       0.00\n",
       "149394    1246.32\n",
       "149395     544.37\n",
       "Name: mb_used, Length: 149396, dtype: float64"
      ]
     },
     "metadata": {},
     "output_type": "display_data"
    },
    {
     "data": {
      "text/plain": [
       "count    149396.000000\n",
       "mean        370.192426\n",
       "std         278.300951\n",
       "min           0.000000\n",
       "25%         138.187500\n",
       "50%         348.015000\n",
       "75%         559.552500\n",
       "max        1724.830000\n",
       "Name: mb_used, dtype: float64"
      ]
     },
     "metadata": {},
     "output_type": "display_data"
    }
   ],
   "source": [
    "display(internet['mb_used'])\n",
    "display(internet['mb_used'].describe())"
   ]
  },
  {
   "cell_type": "markdown",
   "metadata": {},
   "source": [
    "Выбросов нет. Вполне правдоподобно - длительность от 0 до 1725 МБ."
   ]
  },
  {
   "cell_type": "markdown",
   "metadata": {},
   "source": [
    "*В условии задачи сказано : «Мегалайн» всегда округляет вверх значения минут и мегабайтов. Если пользователь проговорил всего 1 секунду, в тарифе засчитывается целая минута.*"
   ]
  },
  {
   "cell_type": "code",
   "execution_count": 55,
   "metadata": {},
   "outputs": [
    {
     "data": {
      "text/plain": [
       "0          113.0\n",
       "1         1053.0\n",
       "2         1198.0\n",
       "3          551.0\n",
       "4          303.0\n",
       "           ...  \n",
       "149391     319.0\n",
       "149392     491.0\n",
       "149393       0.0\n",
       "149394    1247.0\n",
       "149395     545.0\n",
       "Name: mb_used, Length: 149396, dtype: float64"
      ]
     },
     "metadata": {},
     "output_type": "display_data"
    }
   ],
   "source": [
    "# Воспользуемся прописаной ранее функцией округления вверх. round_up(fl) принимает число, возвращает оклугленное вверх\n",
    "#internet['mb_used'] = internet['mb_used'].apply(round_up).astype(int)\n",
    "internet['mb_used'] = np.ceil(internet['mb_used'])\n",
    "display(internet['mb_used'])"
   ]
  },
  {
   "cell_type": "markdown",
   "metadata": {},
   "source": [
    "***Вывод: Сравнив с первоначальными значениями видно, что все получилось. Столбец готов.***"
   ]
  },
  {
   "cell_type": "markdown",
   "metadata": {},
   "source": [
    "#### Столбец session_date - дата интернет-сессии"
   ]
  },
  {
   "cell_type": "code",
   "execution_count": 56,
   "metadata": {},
   "outputs": [
    {
     "data": {
      "text/plain": [
       "0         2018-11-25\n",
       "1         2018-09-07\n",
       "2         2018-06-25\n",
       "3         2018-08-22\n",
       "4         2018-09-24\n",
       "             ...    \n",
       "149391    2018-10-03\n",
       "149392    2018-12-14\n",
       "149393    2018-10-27\n",
       "149394    2018-11-26\n",
       "149395    2018-10-26\n",
       "Name: session_date, Length: 149396, dtype: object"
      ]
     },
     "execution_count": 56,
     "metadata": {},
     "output_type": "execute_result"
    }
   ],
   "source": [
    "internet['session_date']"
   ]
  },
  {
   "cell_type": "code",
   "execution_count": 57,
   "metadata": {},
   "outputs": [
    {
     "data": {
      "text/plain": [
       "146101    2018-09-24\n",
       "32512     2018-08-11\n",
       "60442     2018-05-04\n",
       "16686     2018-03-15\n",
       "Name: session_date, dtype: object"
      ]
     },
     "metadata": {},
     "output_type": "display_data"
    },
    {
     "name": "stdout",
     "output_type": "stream",
     "text": [
      "count         149396\n",
      "unique           365\n",
      "top       2018-12-31\n",
      "freq            1057\n",
      "Name: session_date, dtype: object\n"
     ]
    }
   ],
   "source": [
    "display(internet['session_date'].sample(4))\n",
    "print(internet['session_date'].describe())"
   ]
  },
  {
   "cell_type": "code",
   "execution_count": 58,
   "metadata": {},
   "outputs": [],
   "source": [
    "internet['session_date'] = pd.to_datetime(internet['session_date'])"
   ]
  },
  {
   "cell_type": "code",
   "execution_count": 59,
   "metadata": {},
   "outputs": [
    {
     "data": {
      "text/plain": [
       "138543   2018-05-13\n",
       "113226   2018-12-06\n",
       "30917    2018-12-10\n",
       "63592    2018-12-03\n",
       "Name: session_date, dtype: datetime64[ns]"
      ]
     },
     "metadata": {},
     "output_type": "display_data"
    },
    {
     "data": {
      "text/html": [
       "<div>\n",
       "<style scoped>\n",
       "    .dataframe tbody tr th:only-of-type {\n",
       "        vertical-align: middle;\n",
       "    }\n",
       "\n",
       "    .dataframe tbody tr th {\n",
       "        vertical-align: top;\n",
       "    }\n",
       "\n",
       "    .dataframe thead th {\n",
       "        text-align: right;\n",
       "    }\n",
       "</style>\n",
       "<table border=\"1\" class=\"dataframe\">\n",
       "  <thead>\n",
       "    <tr style=\"text-align: right;\">\n",
       "      <th></th>\n",
       "      <th>id</th>\n",
       "      <th>mb_used</th>\n",
       "      <th>session_date</th>\n",
       "      <th>user_id</th>\n",
       "    </tr>\n",
       "  </thead>\n",
       "  <tbody>\n",
       "    <tr>\n",
       "      <th>0</th>\n",
       "      <td>1000_0</td>\n",
       "      <td>113.0</td>\n",
       "      <td>2018-11-25</td>\n",
       "      <td>1000</td>\n",
       "    </tr>\n",
       "    <tr>\n",
       "      <th>1</th>\n",
       "      <td>1000_1</td>\n",
       "      <td>1053.0</td>\n",
       "      <td>2018-09-07</td>\n",
       "      <td>1000</td>\n",
       "    </tr>\n",
       "    <tr>\n",
       "      <th>2</th>\n",
       "      <td>1000_2</td>\n",
       "      <td>1198.0</td>\n",
       "      <td>2018-06-25</td>\n",
       "      <td>1000</td>\n",
       "    </tr>\n",
       "    <tr>\n",
       "      <th>3</th>\n",
       "      <td>1000_3</td>\n",
       "      <td>551.0</td>\n",
       "      <td>2018-08-22</td>\n",
       "      <td>1000</td>\n",
       "    </tr>\n",
       "  </tbody>\n",
       "</table>\n",
       "</div>"
      ],
      "text/plain": [
       "       id  mb_used session_date  user_id\n",
       "0  1000_0    113.0   2018-11-25     1000\n",
       "1  1000_1   1053.0   2018-09-07     1000\n",
       "2  1000_2   1198.0   2018-06-25     1000\n",
       "3  1000_3    551.0   2018-08-22     1000"
      ]
     },
     "metadata": {},
     "output_type": "display_data"
    },
    {
     "data": {
      "text/plain": [
       "count                           149396\n",
       "mean     2018-09-02 12:55:35.221826560\n",
       "min                2018-01-01 00:00:00\n",
       "25%                2018-07-05 00:00:00\n",
       "50%                2018-09-17 00:00:00\n",
       "75%                2018-11-14 00:00:00\n",
       "max                2018-12-31 00:00:00\n",
       "Name: session_date, dtype: object"
      ]
     },
     "execution_count": 59,
     "metadata": {},
     "output_type": "execute_result"
    }
   ],
   "source": [
    "display(internet['session_date'].sample(4))\n",
    "display(internet.head(4))\n",
    "internet['session_date'].describe(datetime_is_numeric=True)"
   ]
  },
  {
   "cell_type": "markdown",
   "metadata": {},
   "source": [
    "***Вывод: Присутствуют данные за весь год. Столбец корректен.***"
   ]
  },
  {
   "cell_type": "markdown",
   "metadata": {},
   "source": [
    "#### Столбец user_id - идентификатор пользователя "
   ]
  },
  {
   "cell_type": "markdown",
   "metadata": {},
   "source": [
    "Проверим данные"
   ]
  },
  {
   "cell_type": "code",
   "execution_count": 60,
   "metadata": {},
   "outputs": [
    {
     "name": "stdout",
     "output_type": "stream",
     "text": [
      "1496    834\n",
      "1227    812\n",
      "1204    789\n",
      "1240    764\n",
      "1251    759\n",
      "       ... \n",
      "1151     35\n",
      "1467     27\n",
      "1343     26\n",
      "1192     22\n",
      "1399      8\n",
      "Name: user_id, Length: 497, dtype: int64\n",
      "\n",
      "count    149396.000000\n",
      "mean       1252.099842\n",
      "std         144.050823\n",
      "min        1000.000000\n",
      "25%        1130.000000\n",
      "50%        1251.000000\n",
      "75%        1380.000000\n",
      "max        1499.000000\n",
      "Name: user_id, dtype: float64\n",
      "\n",
      "Уникальных значений = 497\n"
     ]
    }
   ],
   "source": [
    "id_reseach(internet['user_id'])"
   ]
  },
  {
   "cell_type": "markdown",
   "metadata": {},
   "source": [
    "Из 500 абонентов всего 3 не пользовалиcь интернетом.\n",
    "\n",
    "На всякий случай вычислим id этих абонентов и запишем в список not_interneting_id."
   ]
  },
  {
   "cell_type": "code",
   "execution_count": 61,
   "metadata": {},
   "outputs": [
    {
     "name": "stdout",
     "output_type": "stream",
     "text": [
      "[1128, 1273, 1371]\n"
     ]
    }
   ],
   "source": [
    "not_interneting_id = []\n",
    "for i in users['user_id']:\n",
    "    if i not in internet['user_id'].unique(): \n",
    "        not_interneting_id.append(i) \n",
    "print(not_interneting_id)"
   ]
  },
  {
   "cell_type": "markdown",
   "metadata": {},
   "source": [
    "***Вывод: Столбец корректен.***"
   ]
  },
  {
   "cell_type": "code",
   "execution_count": 62,
   "metadata": {},
   "outputs": [
    {
     "name": "stdout",
     "output_type": "stream",
     "text": [
      "<class 'pandas.core.frame.DataFrame'>\n",
      "RangeIndex: 149396 entries, 0 to 149395\n",
      "Data columns (total 4 columns):\n",
      " #   Column        Non-Null Count   Dtype         \n",
      "---  ------        --------------   -----         \n",
      " 0   id            149396 non-null  object        \n",
      " 1   mb_used       149396 non-null  float64       \n",
      " 2   session_date  149396 non-null  datetime64[ns]\n",
      " 3   user_id       149396 non-null  int64         \n",
      "dtypes: datetime64[ns](1), float64(1), int64(1), object(1)\n",
      "memory usage: 4.6+ MB\n"
     ]
    }
   ],
   "source": [
    "internet.info()"
   ]
  },
  {
   "cell_type": "markdown",
   "metadata": {},
   "source": [
    "***Вывод: В таблице internet приведена в соостветствие дата и кол-во использованных абонентом МБ mb_used округлено до целого вверх. Также замечено, что присутствуют 3 абонента не пользовавшихся интернетом, - их user_id записан в список not_interneting_id. В остальном всё в порядке. Таблица готова.***"
   ]
  },
  {
   "cell_type": "markdown",
   "metadata": {},
   "source": [
    "### Таблица tariffs"
   ]
  },
  {
   "cell_type": "code",
   "execution_count": 63,
   "metadata": {},
   "outputs": [
    {
     "name": "stdout",
     "output_type": "stream",
     "text": [
      "<class 'pandas.core.frame.DataFrame'>\n",
      "RangeIndex: 2 entries, 0 to 1\n",
      "Data columns (total 8 columns):\n",
      " #   Column                 Non-Null Count  Dtype \n",
      "---  ------                 --------------  ----- \n",
      " 0   messages_included      2 non-null      int64 \n",
      " 1   mb_per_month_included  2 non-null      int64 \n",
      " 2   minutes_included       2 non-null      int64 \n",
      " 3   rub_monthly_fee        2 non-null      int64 \n",
      " 4   rub_per_gb             2 non-null      int64 \n",
      " 5   rub_per_message        2 non-null      int64 \n",
      " 6   rub_per_minute         2 non-null      int64 \n",
      " 7   tariff_name            2 non-null      object\n",
      "dtypes: int64(7), object(1)\n",
      "memory usage: 256.0+ bytes\n"
     ]
    },
    {
     "data": {
      "text/plain": [
       "None"
      ]
     },
     "metadata": {},
     "output_type": "display_data"
    },
    {
     "data": {
      "text/html": [
       "<div>\n",
       "<style scoped>\n",
       "    .dataframe tbody tr th:only-of-type {\n",
       "        vertical-align: middle;\n",
       "    }\n",
       "\n",
       "    .dataframe tbody tr th {\n",
       "        vertical-align: top;\n",
       "    }\n",
       "\n",
       "    .dataframe thead th {\n",
       "        text-align: right;\n",
       "    }\n",
       "</style>\n",
       "<table border=\"1\" class=\"dataframe\">\n",
       "  <thead>\n",
       "    <tr style=\"text-align: right;\">\n",
       "      <th></th>\n",
       "      <th>messages_included</th>\n",
       "      <th>mb_per_month_included</th>\n",
       "      <th>minutes_included</th>\n",
       "      <th>rub_monthly_fee</th>\n",
       "      <th>rub_per_gb</th>\n",
       "      <th>rub_per_message</th>\n",
       "      <th>rub_per_minute</th>\n",
       "      <th>tariff_name</th>\n",
       "    </tr>\n",
       "  </thead>\n",
       "  <tbody>\n",
       "    <tr>\n",
       "      <th>0</th>\n",
       "      <td>50</td>\n",
       "      <td>15360</td>\n",
       "      <td>500</td>\n",
       "      <td>550</td>\n",
       "      <td>200</td>\n",
       "      <td>3</td>\n",
       "      <td>3</td>\n",
       "      <td>smart</td>\n",
       "    </tr>\n",
       "    <tr>\n",
       "      <th>1</th>\n",
       "      <td>1000</td>\n",
       "      <td>30720</td>\n",
       "      <td>3000</td>\n",
       "      <td>1950</td>\n",
       "      <td>150</td>\n",
       "      <td>1</td>\n",
       "      <td>1</td>\n",
       "      <td>ultra</td>\n",
       "    </tr>\n",
       "  </tbody>\n",
       "</table>\n",
       "</div>"
      ],
      "text/plain": [
       "   messages_included  mb_per_month_included  minutes_included  \\\n",
       "0                 50                  15360               500   \n",
       "1               1000                  30720              3000   \n",
       "\n",
       "   rub_monthly_fee  rub_per_gb  rub_per_message  rub_per_minute tariff_name  \n",
       "0              550         200                3               3       smart  \n",
       "1             1950         150                1               1       ultra  "
      ]
     },
     "metadata": {},
     "output_type": "display_data"
    }
   ],
   "source": [
    "display(tariffs.info())\n",
    "display(tariffs)"
   ]
  },
  {
   "cell_type": "markdown",
   "metadata": {},
   "source": [
    "***Вывод: Столбец корректен.***"
   ]
  },
  {
   "cell_type": "markdown",
   "metadata": {},
   "source": [
    "### Разбор дня 1 января в таблице messages"
   ]
  },
  {
   "cell_type": "markdown",
   "metadata": {},
   "source": [
    "Посмотрим сколько абонентов 1 января было (подключено)"
   ]
  },
  {
   "cell_type": "code",
   "execution_count": 64,
   "metadata": {},
   "outputs": [
    {
     "data": {
      "text/html": [
       "<div>\n",
       "<style scoped>\n",
       "    .dataframe tbody tr th:only-of-type {\n",
       "        vertical-align: middle;\n",
       "    }\n",
       "\n",
       "    .dataframe tbody tr th {\n",
       "        vertical-align: top;\n",
       "    }\n",
       "\n",
       "    .dataframe thead th {\n",
       "        text-align: right;\n",
       "    }\n",
       "</style>\n",
       "<table border=\"1\" class=\"dataframe\">\n",
       "  <thead>\n",
       "    <tr style=\"text-align: right;\">\n",
       "      <th></th>\n",
       "      <th>user_id</th>\n",
       "      <th>age</th>\n",
       "      <th>churn_date</th>\n",
       "      <th>city</th>\n",
       "      <th>first_name</th>\n",
       "      <th>last_name</th>\n",
       "      <th>reg_date</th>\n",
       "      <th>tariff</th>\n",
       "    </tr>\n",
       "  </thead>\n",
       "  <tbody>\n",
       "    <tr>\n",
       "      <th>193</th>\n",
       "      <td>1193</td>\n",
       "      <td>55</td>\n",
       "      <td>NaT</td>\n",
       "      <td>Тамбов</td>\n",
       "      <td>Арсен</td>\n",
       "      <td>Безруков</td>\n",
       "      <td>2018-01-01</td>\n",
       "      <td>smart</td>\n",
       "    </tr>\n",
       "    <tr>\n",
       "      <th>453</th>\n",
       "      <td>1453</td>\n",
       "      <td>50</td>\n",
       "      <td>NaT</td>\n",
       "      <td>Москва</td>\n",
       "      <td>Кузьма</td>\n",
       "      <td>Акуленко</td>\n",
       "      <td>2018-01-01</td>\n",
       "      <td>ultra</td>\n",
       "    </tr>\n",
       "  </tbody>\n",
       "</table>\n",
       "</div>"
      ],
      "text/plain": [
       "     user_id  age churn_date    city first_name last_name   reg_date tariff\n",
       "193     1193   55        NaT  Тамбов      Арсен  Безруков 2018-01-01  smart\n",
       "453     1453   50        NaT  Москва     Кузьма  Акуленко 2018-01-01  ultra"
      ]
     },
     "execution_count": 64,
     "metadata": {},
     "output_type": "execute_result"
    }
   ],
   "source": [
    "users[users['reg_date']=='2018-01-01']"
   ]
  },
  {
   "cell_type": "markdown",
   "metadata": {},
   "source": [
    "Посмотрим сколько абонентов 1 января звонили."
   ]
  },
  {
   "cell_type": "code",
   "execution_count": 65,
   "metadata": {},
   "outputs": [
    {
     "data": {
      "text/html": [
       "<div>\n",
       "<style scoped>\n",
       "    .dataframe tbody tr th:only-of-type {\n",
       "        vertical-align: middle;\n",
       "    }\n",
       "\n",
       "    .dataframe tbody tr th {\n",
       "        vertical-align: top;\n",
       "    }\n",
       "\n",
       "    .dataframe thead th {\n",
       "        text-align: right;\n",
       "    }\n",
       "</style>\n",
       "<table border=\"1\" class=\"dataframe\">\n",
       "  <thead>\n",
       "    <tr style=\"text-align: right;\">\n",
       "      <th></th>\n",
       "      <th>id</th>\n",
       "      <th>call_date</th>\n",
       "      <th>duration</th>\n",
       "      <th>user_id</th>\n",
       "    </tr>\n",
       "  </thead>\n",
       "  <tbody>\n",
       "    <tr>\n",
       "      <th>76907</th>\n",
       "      <td>1193_169</td>\n",
       "      <td>2018-01-01</td>\n",
       "      <td>14.0</td>\n",
       "      <td>1193</td>\n",
       "    </tr>\n",
       "    <tr>\n",
       "      <th>180968</th>\n",
       "      <td>1453_160</td>\n",
       "      <td>2018-01-01</td>\n",
       "      <td>0.0</td>\n",
       "      <td>1453</td>\n",
       "    </tr>\n",
       "    <tr>\n",
       "      <th>181106</th>\n",
       "      <td>1453_298</td>\n",
       "      <td>2018-01-01</td>\n",
       "      <td>16.0</td>\n",
       "      <td>1453</td>\n",
       "    </tr>\n",
       "    <tr>\n",
       "      <th>181239</th>\n",
       "      <td>1453_431</td>\n",
       "      <td>2018-01-01</td>\n",
       "      <td>20.0</td>\n",
       "      <td>1453</td>\n",
       "    </tr>\n",
       "    <tr>\n",
       "      <th>181903</th>\n",
       "      <td>1453_1095</td>\n",
       "      <td>2018-01-01</td>\n",
       "      <td>6.0</td>\n",
       "      <td>1453</td>\n",
       "    </tr>\n",
       "  </tbody>\n",
       "</table>\n",
       "</div>"
      ],
      "text/plain": [
       "               id  call_date  duration  user_id\n",
       "76907    1193_169 2018-01-01      14.0     1193\n",
       "180968   1453_160 2018-01-01       0.0     1453\n",
       "181106   1453_298 2018-01-01      16.0     1453\n",
       "181239   1453_431 2018-01-01      20.0     1453\n",
       "181903  1453_1095 2018-01-01       6.0     1453"
      ]
     },
     "execution_count": 65,
     "metadata": {},
     "output_type": "execute_result"
    }
   ],
   "source": [
    "calls[calls['call_date']=='2018-01-01'] #.groupby('user_id')['duration'].sum()"
   ]
  },
  {
   "cell_type": "markdown",
   "metadata": {},
   "source": [
    "Посмотрим сколько у абонентов было интернет-сессий 1 января."
   ]
  },
  {
   "cell_type": "code",
   "execution_count": 66,
   "metadata": {},
   "outputs": [
    {
     "data": {
      "text/html": [
       "<div>\n",
       "<style scoped>\n",
       "    .dataframe tbody tr th:only-of-type {\n",
       "        vertical-align: middle;\n",
       "    }\n",
       "\n",
       "    .dataframe tbody tr th {\n",
       "        vertical-align: top;\n",
       "    }\n",
       "\n",
       "    .dataframe thead th {\n",
       "        text-align: right;\n",
       "    }\n",
       "</style>\n",
       "<table border=\"1\" class=\"dataframe\">\n",
       "  <thead>\n",
       "    <tr style=\"text-align: right;\">\n",
       "      <th></th>\n",
       "      <th>id</th>\n",
       "      <th>mb_used</th>\n",
       "      <th>session_date</th>\n",
       "      <th>user_id</th>\n",
       "    </tr>\n",
       "  </thead>\n",
       "  <tbody>\n",
       "    <tr>\n",
       "      <th>57584</th>\n",
       "      <td>1193_123</td>\n",
       "      <td>0.0</td>\n",
       "      <td>2018-01-01</td>\n",
       "      <td>1193</td>\n",
       "    </tr>\n",
       "    <tr>\n",
       "      <th>135081</th>\n",
       "      <td>1453_302</td>\n",
       "      <td>795.0</td>\n",
       "      <td>2018-01-01</td>\n",
       "      <td>1453</td>\n",
       "    </tr>\n",
       "    <tr>\n",
       "      <th>135277</th>\n",
       "      <td>1453_498</td>\n",
       "      <td>210.0</td>\n",
       "      <td>2018-01-01</td>\n",
       "      <td>1453</td>\n",
       "    </tr>\n",
       "  </tbody>\n",
       "</table>\n",
       "</div>"
      ],
      "text/plain": [
       "              id  mb_used session_date  user_id\n",
       "57584   1193_123      0.0   2018-01-01     1193\n",
       "135081  1453_302    795.0   2018-01-01     1453\n",
       "135277  1453_498    210.0   2018-01-01     1453"
      ]
     },
     "execution_count": 66,
     "metadata": {},
     "output_type": "execute_result"
    }
   ],
   "source": [
    "internet[internet['session_date']=='2018-01-01']"
   ]
  },
  {
   "cell_type": "markdown",
   "metadata": {},
   "source": [
    "***Вывод: Всего 1 января было 2 абонента, 5 звонков и 3 интернет сессии (2мя абонентами). Поэтому вполне можно сделать вывод, что изначальные данные в таблице messages верны, то есть никто из двух абонентов не отправлял СМС.***"
   ]
  },
  {
   "cell_type": "markdown",
   "metadata": {},
   "source": [
    "### Вывод по предобработке"
   ]
  },
  {
   "cell_type": "markdown",
   "metadata": {},
   "source": [
    "***Данные изначально были в хорошем состоянии. Изменены типы в столбцах с датами на datetime64, и проверена корректность данных. Дубликатов не было. Таблицы корректны.***"
   ]
  },
  {
   "cell_type": "markdown",
   "metadata": {},
   "source": [
    "## Расчет показателей для каждого абонента (пользователя)"
   ]
  },
  {
   "cell_type": "markdown",
   "metadata": {},
   "source": [
    "*Посчитаем для каждого пользователя:*\n",
    "\n",
    "* количество сделанных звонков и израсходованных минут разговора по месяцам (столбцы calls и min);\n",
    "* количество отправленных сообщений по месяцам (столбец mes);\n",
    "* объем израсходованного интернет-трафика по месяцам (столбец mb);\n",
    "* помесячную выручку с каждого пользователя (вычтите бесплатный лимит из суммарного количества звонков, сообщений и интернет-трафика; остаток умножьте на значение из тарифного плана; прибавьте абонентскую плату, соответствующую тарифному плану) (столбец income).\n",
    "\n",
    "*И поместим всё в сводную таблицу abonents.*\n",
    "\n",
    "*Но предварительно добавим в 3 таблицы calls, messages, internet столбец month, где указан месяц (для группировки), затем создадим 3 таблицы ab_calls, ab_messages, ab_internet для слияния в общую таблицу abonents.*"
   ]
  },
  {
   "cell_type": "markdown",
   "metadata": {},
   "source": [
    "### Таблицы calls, messages, internet"
   ]
  },
  {
   "cell_type": "code",
   "execution_count": 67,
   "metadata": {},
   "outputs": [
    {
     "data": {
      "text/html": [
       "<div>\n",
       "<style scoped>\n",
       "    .dataframe tbody tr th:only-of-type {\n",
       "        vertical-align: middle;\n",
       "    }\n",
       "\n",
       "    .dataframe tbody tr th {\n",
       "        vertical-align: top;\n",
       "    }\n",
       "\n",
       "    .dataframe thead th {\n",
       "        text-align: right;\n",
       "    }\n",
       "</style>\n",
       "<table border=\"1\" class=\"dataframe\">\n",
       "  <thead>\n",
       "    <tr style=\"text-align: right;\">\n",
       "      <th></th>\n",
       "      <th>id</th>\n",
       "      <th>call_date</th>\n",
       "      <th>duration</th>\n",
       "      <th>user_id</th>\n",
       "      <th>month</th>\n",
       "    </tr>\n",
       "  </thead>\n",
       "  <tbody>\n",
       "    <tr>\n",
       "      <th>158877</th>\n",
       "      <td>1393_129</td>\n",
       "      <td>2018-10-28</td>\n",
       "      <td>4.0</td>\n",
       "      <td>1393</td>\n",
       "      <td>10</td>\n",
       "    </tr>\n",
       "    <tr>\n",
       "      <th>200945</th>\n",
       "      <td>1495_332</td>\n",
       "      <td>2018-10-08</td>\n",
       "      <td>0.0</td>\n",
       "      <td>1495</td>\n",
       "      <td>10</td>\n",
       "    </tr>\n",
       "    <tr>\n",
       "      <th>202248</th>\n",
       "      <td>1498_41</td>\n",
       "      <td>2018-08-01</td>\n",
       "      <td>10.0</td>\n",
       "      <td>1498</td>\n",
       "      <td>8</td>\n",
       "    </tr>\n",
       "  </tbody>\n",
       "</table>\n",
       "</div>"
      ],
      "text/plain": [
       "              id  call_date  duration  user_id  month\n",
       "158877  1393_129 2018-10-28       4.0     1393     10\n",
       "200945  1495_332 2018-10-08       0.0     1495     10\n",
       "202248   1498_41 2018-08-01      10.0     1498      8"
      ]
     },
     "metadata": {},
     "output_type": "display_data"
    },
    {
     "data": {
      "text/html": [
       "<div>\n",
       "<style scoped>\n",
       "    .dataframe tbody tr th:only-of-type {\n",
       "        vertical-align: middle;\n",
       "    }\n",
       "\n",
       "    .dataframe tbody tr th {\n",
       "        vertical-align: top;\n",
       "    }\n",
       "\n",
       "    .dataframe thead th {\n",
       "        text-align: right;\n",
       "    }\n",
       "</style>\n",
       "<table border=\"1\" class=\"dataframe\">\n",
       "  <thead>\n",
       "    <tr style=\"text-align: right;\">\n",
       "      <th></th>\n",
       "      <th>id</th>\n",
       "      <th>message_date</th>\n",
       "      <th>user_id</th>\n",
       "      <th>month</th>\n",
       "    </tr>\n",
       "  </thead>\n",
       "  <tbody>\n",
       "    <tr>\n",
       "      <th>68045</th>\n",
       "      <td>1288_40</td>\n",
       "      <td>2018-11-27</td>\n",
       "      <td>1288</td>\n",
       "      <td>11</td>\n",
       "    </tr>\n",
       "    <tr>\n",
       "      <th>39297</th>\n",
       "      <td>1168_75</td>\n",
       "      <td>2018-05-01</td>\n",
       "      <td>1168</td>\n",
       "      <td>5</td>\n",
       "    </tr>\n",
       "    <tr>\n",
       "      <th>36725</th>\n",
       "      <td>1158_530</td>\n",
       "      <td>2018-06-22</td>\n",
       "      <td>1158</td>\n",
       "      <td>6</td>\n",
       "    </tr>\n",
       "  </tbody>\n",
       "</table>\n",
       "</div>"
      ],
      "text/plain": [
       "             id message_date  user_id  month\n",
       "68045   1288_40   2018-11-27     1288     11\n",
       "39297   1168_75   2018-05-01     1168      5\n",
       "36725  1158_530   2018-06-22     1158      6"
      ]
     },
     "metadata": {},
     "output_type": "display_data"
    },
    {
     "data": {
      "text/html": [
       "<div>\n",
       "<style scoped>\n",
       "    .dataframe tbody tr th:only-of-type {\n",
       "        vertical-align: middle;\n",
       "    }\n",
       "\n",
       "    .dataframe tbody tr th {\n",
       "        vertical-align: top;\n",
       "    }\n",
       "\n",
       "    .dataframe thead th {\n",
       "        text-align: right;\n",
       "    }\n",
       "</style>\n",
       "<table border=\"1\" class=\"dataframe\">\n",
       "  <thead>\n",
       "    <tr style=\"text-align: right;\">\n",
       "      <th></th>\n",
       "      <th>id</th>\n",
       "      <th>mb_used</th>\n",
       "      <th>session_date</th>\n",
       "      <th>user_id</th>\n",
       "      <th>month</th>\n",
       "    </tr>\n",
       "  </thead>\n",
       "  <tbody>\n",
       "    <tr>\n",
       "      <th>136421</th>\n",
       "      <td>1457_263</td>\n",
       "      <td>544.0</td>\n",
       "      <td>2018-12-17</td>\n",
       "      <td>1457</td>\n",
       "      <td>12</td>\n",
       "    </tr>\n",
       "    <tr>\n",
       "      <th>30494</th>\n",
       "      <td>1106_296</td>\n",
       "      <td>753.0</td>\n",
       "      <td>2018-12-23</td>\n",
       "      <td>1106</td>\n",
       "      <td>12</td>\n",
       "    </tr>\n",
       "    <tr>\n",
       "      <th>34799</th>\n",
       "      <td>1121_157</td>\n",
       "      <td>0.0</td>\n",
       "      <td>2018-05-28</td>\n",
       "      <td>1121</td>\n",
       "      <td>5</td>\n",
       "    </tr>\n",
       "  </tbody>\n",
       "</table>\n",
       "</div>"
      ],
      "text/plain": [
       "              id  mb_used session_date  user_id  month\n",
       "136421  1457_263    544.0   2018-12-17     1457     12\n",
       "30494   1106_296    753.0   2018-12-23     1106     12\n",
       "34799   1121_157      0.0   2018-05-28     1121      5"
      ]
     },
     "metadata": {},
     "output_type": "display_data"
    }
   ],
   "source": [
    "calls['month'] = pd.DatetimeIndex(calls['call_date']).month\n",
    "messages['month'] = pd.DatetimeIndex(messages['message_date']).month\n",
    "internet['month'] = pd.DatetimeIndex(internet['session_date']).month\n",
    "display(calls.sample(3), messages.sample(3), internet.sample(3))"
   ]
  },
  {
   "cell_type": "markdown",
   "metadata": {},
   "source": [
    "Создадим 3 таблицы: ab_calls, ab_messages, ab_internet, сгруппированные по user_id и month, в которых будет записан результат выполнения первых трех заданий."
   ]
  },
  {
   "cell_type": "code",
   "execution_count": 68,
   "metadata": {},
   "outputs": [
    {
     "data": {
      "text/html": [
       "<div>\n",
       "<style scoped>\n",
       "    .dataframe tbody tr th:only-of-type {\n",
       "        vertical-align: middle;\n",
       "    }\n",
       "\n",
       "    .dataframe tbody tr th {\n",
       "        vertical-align: top;\n",
       "    }\n",
       "\n",
       "    .dataframe thead th {\n",
       "        text-align: right;\n",
       "    }\n",
       "</style>\n",
       "<table border=\"1\" class=\"dataframe\">\n",
       "  <thead>\n",
       "    <tr style=\"text-align: right;\">\n",
       "      <th></th>\n",
       "      <th>user_id</th>\n",
       "      <th>month</th>\n",
       "      <th>calls</th>\n",
       "      <th>min</th>\n",
       "    </tr>\n",
       "  </thead>\n",
       "  <tbody>\n",
       "    <tr>\n",
       "      <th>0</th>\n",
       "      <td>1000</td>\n",
       "      <td>5</td>\n",
       "      <td>22</td>\n",
       "      <td>159.0</td>\n",
       "    </tr>\n",
       "    <tr>\n",
       "      <th>1</th>\n",
       "      <td>1000</td>\n",
       "      <td>6</td>\n",
       "      <td>43</td>\n",
       "      <td>172.0</td>\n",
       "    </tr>\n",
       "    <tr>\n",
       "      <th>2</th>\n",
       "      <td>1000</td>\n",
       "      <td>7</td>\n",
       "      <td>47</td>\n",
       "      <td>340.0</td>\n",
       "    </tr>\n",
       "    <tr>\n",
       "      <th>3</th>\n",
       "      <td>1000</td>\n",
       "      <td>8</td>\n",
       "      <td>52</td>\n",
       "      <td>408.0</td>\n",
       "    </tr>\n",
       "    <tr>\n",
       "      <th>4</th>\n",
       "      <td>1000</td>\n",
       "      <td>9</td>\n",
       "      <td>58</td>\n",
       "      <td>466.0</td>\n",
       "    </tr>\n",
       "    <tr>\n",
       "      <th>5</th>\n",
       "      <td>1000</td>\n",
       "      <td>10</td>\n",
       "      <td>57</td>\n",
       "      <td>350.0</td>\n",
       "    </tr>\n",
       "    <tr>\n",
       "      <th>6</th>\n",
       "      <td>1000</td>\n",
       "      <td>11</td>\n",
       "      <td>43</td>\n",
       "      <td>338.0</td>\n",
       "    </tr>\n",
       "    <tr>\n",
       "      <th>7</th>\n",
       "      <td>1000</td>\n",
       "      <td>12</td>\n",
       "      <td>46</td>\n",
       "      <td>333.0</td>\n",
       "    </tr>\n",
       "    <tr>\n",
       "      <th>8</th>\n",
       "      <td>1001</td>\n",
       "      <td>11</td>\n",
       "      <td>59</td>\n",
       "      <td>430.0</td>\n",
       "    </tr>\n",
       "    <tr>\n",
       "      <th>9</th>\n",
       "      <td>1001</td>\n",
       "      <td>12</td>\n",
       "      <td>63</td>\n",
       "      <td>414.0</td>\n",
       "    </tr>\n",
       "  </tbody>\n",
       "</table>\n",
       "</div>"
      ],
      "text/plain": [
       "   user_id  month  calls    min\n",
       "0     1000      5     22  159.0\n",
       "1     1000      6     43  172.0\n",
       "2     1000      7     47  340.0\n",
       "3     1000      8     52  408.0\n",
       "4     1000      9     58  466.0\n",
       "5     1000     10     57  350.0\n",
       "6     1000     11     43  338.0\n",
       "7     1000     12     46  333.0\n",
       "8     1001     11     59  430.0\n",
       "9     1001     12     63  414.0"
      ]
     },
     "metadata": {},
     "output_type": "display_data"
    },
    {
     "data": {
      "text/html": [
       "<div>\n",
       "<style scoped>\n",
       "    .dataframe tbody tr th:only-of-type {\n",
       "        vertical-align: middle;\n",
       "    }\n",
       "\n",
       "    .dataframe tbody tr th {\n",
       "        vertical-align: top;\n",
       "    }\n",
       "\n",
       "    .dataframe thead th {\n",
       "        text-align: right;\n",
       "    }\n",
       "</style>\n",
       "<table border=\"1\" class=\"dataframe\">\n",
       "  <thead>\n",
       "    <tr style=\"text-align: right;\">\n",
       "      <th></th>\n",
       "      <th>user_id</th>\n",
       "      <th>month</th>\n",
       "      <th>mes</th>\n",
       "    </tr>\n",
       "  </thead>\n",
       "  <tbody>\n",
       "    <tr>\n",
       "      <th>0</th>\n",
       "      <td>1000</td>\n",
       "      <td>5</td>\n",
       "      <td>22</td>\n",
       "    </tr>\n",
       "    <tr>\n",
       "      <th>1</th>\n",
       "      <td>1000</td>\n",
       "      <td>6</td>\n",
       "      <td>60</td>\n",
       "    </tr>\n",
       "    <tr>\n",
       "      <th>2</th>\n",
       "      <td>1000</td>\n",
       "      <td>7</td>\n",
       "      <td>75</td>\n",
       "    </tr>\n",
       "    <tr>\n",
       "      <th>3</th>\n",
       "      <td>1000</td>\n",
       "      <td>8</td>\n",
       "      <td>81</td>\n",
       "    </tr>\n",
       "    <tr>\n",
       "      <th>4</th>\n",
       "      <td>1000</td>\n",
       "      <td>9</td>\n",
       "      <td>57</td>\n",
       "    </tr>\n",
       "    <tr>\n",
       "      <th>5</th>\n",
       "      <td>1000</td>\n",
       "      <td>10</td>\n",
       "      <td>73</td>\n",
       "    </tr>\n",
       "    <tr>\n",
       "      <th>6</th>\n",
       "      <td>1000</td>\n",
       "      <td>11</td>\n",
       "      <td>58</td>\n",
       "    </tr>\n",
       "    <tr>\n",
       "      <th>7</th>\n",
       "      <td>1000</td>\n",
       "      <td>12</td>\n",
       "      <td>70</td>\n",
       "    </tr>\n",
       "    <tr>\n",
       "      <th>8</th>\n",
       "      <td>1002</td>\n",
       "      <td>6</td>\n",
       "      <td>4</td>\n",
       "    </tr>\n",
       "    <tr>\n",
       "      <th>9</th>\n",
       "      <td>1002</td>\n",
       "      <td>7</td>\n",
       "      <td>11</td>\n",
       "    </tr>\n",
       "  </tbody>\n",
       "</table>\n",
       "</div>"
      ],
      "text/plain": [
       "   user_id  month  mes\n",
       "0     1000      5   22\n",
       "1     1000      6   60\n",
       "2     1000      7   75\n",
       "3     1000      8   81\n",
       "4     1000      9   57\n",
       "5     1000     10   73\n",
       "6     1000     11   58\n",
       "7     1000     12   70\n",
       "8     1002      6    4\n",
       "9     1002      7   11"
      ]
     },
     "metadata": {},
     "output_type": "display_data"
    },
    {
     "data": {
      "text/html": [
       "<div>\n",
       "<style scoped>\n",
       "    .dataframe tbody tr th:only-of-type {\n",
       "        vertical-align: middle;\n",
       "    }\n",
       "\n",
       "    .dataframe tbody tr th {\n",
       "        vertical-align: top;\n",
       "    }\n",
       "\n",
       "    .dataframe thead th {\n",
       "        text-align: right;\n",
       "    }\n",
       "</style>\n",
       "<table border=\"1\" class=\"dataframe\">\n",
       "  <thead>\n",
       "    <tr style=\"text-align: right;\">\n",
       "      <th></th>\n",
       "      <th>user_id</th>\n",
       "      <th>month</th>\n",
       "      <th>mb</th>\n",
       "    </tr>\n",
       "  </thead>\n",
       "  <tbody>\n",
       "    <tr>\n",
       "      <th>0</th>\n",
       "      <td>1000</td>\n",
       "      <td>5</td>\n",
       "      <td>2256.0</td>\n",
       "    </tr>\n",
       "    <tr>\n",
       "      <th>1</th>\n",
       "      <td>1000</td>\n",
       "      <td>6</td>\n",
       "      <td>23257.0</td>\n",
       "    </tr>\n",
       "    <tr>\n",
       "      <th>2</th>\n",
       "      <td>1000</td>\n",
       "      <td>7</td>\n",
       "      <td>14016.0</td>\n",
       "    </tr>\n",
       "    <tr>\n",
       "      <th>3</th>\n",
       "      <td>1000</td>\n",
       "      <td>8</td>\n",
       "      <td>14070.0</td>\n",
       "    </tr>\n",
       "    <tr>\n",
       "      <th>4</th>\n",
       "      <td>1000</td>\n",
       "      <td>9</td>\n",
       "      <td>14581.0</td>\n",
       "    </tr>\n",
       "    <tr>\n",
       "      <th>5</th>\n",
       "      <td>1000</td>\n",
       "      <td>10</td>\n",
       "      <td>14717.0</td>\n",
       "    </tr>\n",
       "    <tr>\n",
       "      <th>6</th>\n",
       "      <td>1000</td>\n",
       "      <td>11</td>\n",
       "      <td>14768.0</td>\n",
       "    </tr>\n",
       "    <tr>\n",
       "      <th>7</th>\n",
       "      <td>1000</td>\n",
       "      <td>12</td>\n",
       "      <td>9827.0</td>\n",
       "    </tr>\n",
       "    <tr>\n",
       "      <th>8</th>\n",
       "      <td>1001</td>\n",
       "      <td>11</td>\n",
       "      <td>18452.0</td>\n",
       "    </tr>\n",
       "    <tr>\n",
       "      <th>9</th>\n",
       "      <td>1001</td>\n",
       "      <td>12</td>\n",
       "      <td>14053.0</td>\n",
       "    </tr>\n",
       "  </tbody>\n",
       "</table>\n",
       "</div>"
      ],
      "text/plain": [
       "   user_id  month       mb\n",
       "0     1000      5   2256.0\n",
       "1     1000      6  23257.0\n",
       "2     1000      7  14016.0\n",
       "3     1000      8  14070.0\n",
       "4     1000      9  14581.0\n",
       "5     1000     10  14717.0\n",
       "6     1000     11  14768.0\n",
       "7     1000     12   9827.0\n",
       "8     1001     11  18452.0\n",
       "9     1001     12  14053.0"
      ]
     },
     "metadata": {},
     "output_type": "display_data"
    }
   ],
   "source": [
    "abonent = pd.DataFrame()\n",
    "\n",
    "ab_calls = calls.groupby(['user_id', 'month'])['duration'].agg(['count','sum']).reset_index()\n",
    "ab_calls.columns = ['user_id', 'month', 'calls', 'min']\n",
    "\n",
    "ab_messages = messages.groupby(['user_id', 'month'])['id'].count().reset_index()\n",
    "ab_messages.columns = ['user_id', 'month', 'mes']\n",
    "\n",
    "ab_internet = internet.groupby(['user_id', 'month'])['mb_used'].sum().reset_index()\n",
    "ab_internet.columns = ['user_id', 'month', 'mb']\n",
    "\n",
    "display(ab_calls.head(10))\n",
    "display(ab_messages.head(10))\n",
    "display(ab_internet.head(10))"
   ]
  },
  {
   "cell_type": "markdown",
   "metadata": {},
   "source": [
    "В предобработке было выявлены абоненты которые не звонили, не писали СМС, не пользовались интернетом."
   ]
  },
  {
   "cell_type": "code",
   "execution_count": 69,
   "metadata": {},
   "outputs": [
    {
     "name": "stdout",
     "output_type": "stream",
     "text": [
      "Звонящие 492 / СМС 426 / Интернет 497\n"
     ]
    }
   ],
   "source": [
    "print('Звонящие', ab_calls['user_id'].nunique(),\n",
    "'/ СМС', ab_messages['user_id'].nunique(),\n",
    "'/ Интернет', ab_internet['user_id'].nunique())"
   ]
  },
  {
   "cell_type": "code",
   "execution_count": 70,
   "metadata": {},
   "outputs": [
    {
     "data": {
      "text/plain": [
       "[1091, 1106, 1128, 1231, 1328, 1371, 1473, 1489]"
      ]
     },
     "execution_count": 70,
     "metadata": {},
     "output_type": "execute_result"
    }
   ],
   "source": [
    "not_calling_id # не звонили"
   ]
  },
  {
   "cell_type": "code",
   "execution_count": 71,
   "metadata": {},
   "outputs": [
    {
     "data": {
      "text/plain": [
       "[1128, 1273, 1371]"
      ]
     },
     "execution_count": 71,
     "metadata": {},
     "output_type": "execute_result"
    }
   ],
   "source": [
    "not_interneting_id # не писали СМС"
   ]
  },
  {
   "cell_type": "code",
   "execution_count": 72,
   "metadata": {},
   "outputs": [
    {
     "name": "stdout",
     "output_type": "stream",
     "text": [
      "[1001, 1006, 1010, 1017, 1024, 1040, 1049, 1053, 1063, 1078, 1085, 1095, 1101, 1107, 1114, 1116, 1117, 1118, 1120, 1128, 1129, 1132, 1143, 1152, 1153, 1157, 1162, 1175, 1177, 1179, 1185, 1195, 1201, 1204, 1208, 1210, 1220, 1224, 1225, 1228, 1240, 1242, 1248, 1254, 1255, 1260, 1290, 1291, 1292, 1297, 1301, 1305, 1306, 1322, 1334, 1339, 1360, 1363, 1367, 1370, 1371, 1376, 1388, 1397, 1428, 1429, 1435, 1442, 1456, 1462, 1466, 1469, 1479, 1494]\n"
     ]
    }
   ],
   "source": [
    "print(not_messaging_id) # не пользовались интернетом"
   ]
  },
  {
   "cell_type": "markdown",
   "metadata": {},
   "source": [
    "Невооруженным глазом можно заметить, что есть 2 абонента, которые одновременно не звонили, не писали СМС, не пользовались интернетом - их user_id 1128 и 1371."
   ]
  },
  {
   "cell_type": "code",
   "execution_count": 73,
   "metadata": {},
   "outputs": [
    {
     "data": {
      "text/html": [
       "<div>\n",
       "<style scoped>\n",
       "    .dataframe tbody tr th:only-of-type {\n",
       "        vertical-align: middle;\n",
       "    }\n",
       "\n",
       "    .dataframe tbody tr th {\n",
       "        vertical-align: top;\n",
       "    }\n",
       "\n",
       "    .dataframe thead th {\n",
       "        text-align: right;\n",
       "    }\n",
       "</style>\n",
       "<table border=\"1\" class=\"dataframe\">\n",
       "  <thead>\n",
       "    <tr style=\"text-align: right;\">\n",
       "      <th></th>\n",
       "      <th>user_id</th>\n",
       "      <th>age</th>\n",
       "      <th>churn_date</th>\n",
       "      <th>city</th>\n",
       "      <th>first_name</th>\n",
       "      <th>last_name</th>\n",
       "      <th>reg_date</th>\n",
       "      <th>tariff</th>\n",
       "    </tr>\n",
       "  </thead>\n",
       "  <tbody>\n",
       "    <tr>\n",
       "      <th>128</th>\n",
       "      <td>1128</td>\n",
       "      <td>51</td>\n",
       "      <td>2018-12-23</td>\n",
       "      <td>Волжский</td>\n",
       "      <td>Ксения</td>\n",
       "      <td>Агаева</td>\n",
       "      <td>2018-12-15</td>\n",
       "      <td>ultra</td>\n",
       "    </tr>\n",
       "  </tbody>\n",
       "</table>\n",
       "</div>"
      ],
      "text/plain": [
       "     user_id  age churn_date      city first_name last_name   reg_date tariff\n",
       "128     1128   51 2018-12-23  Волжский     Ксения    Агаева 2018-12-15  ultra"
      ]
     },
     "metadata": {},
     "output_type": "display_data"
    },
    {
     "data": {
      "text/html": [
       "<div>\n",
       "<style scoped>\n",
       "    .dataframe tbody tr th:only-of-type {\n",
       "        vertical-align: middle;\n",
       "    }\n",
       "\n",
       "    .dataframe tbody tr th {\n",
       "        vertical-align: top;\n",
       "    }\n",
       "\n",
       "    .dataframe thead th {\n",
       "        text-align: right;\n",
       "    }\n",
       "</style>\n",
       "<table border=\"1\" class=\"dataframe\">\n",
       "  <thead>\n",
       "    <tr style=\"text-align: right;\">\n",
       "      <th></th>\n",
       "      <th>user_id</th>\n",
       "      <th>age</th>\n",
       "      <th>churn_date</th>\n",
       "      <th>city</th>\n",
       "      <th>first_name</th>\n",
       "      <th>last_name</th>\n",
       "      <th>reg_date</th>\n",
       "      <th>tariff</th>\n",
       "    </tr>\n",
       "  </thead>\n",
       "  <tbody>\n",
       "    <tr>\n",
       "      <th>371</th>\n",
       "      <td>1371</td>\n",
       "      <td>50</td>\n",
       "      <td>2018-12-30</td>\n",
       "      <td>Омск</td>\n",
       "      <td>Ириней</td>\n",
       "      <td>Трофимов</td>\n",
       "      <td>2018-12-25</td>\n",
       "      <td>smart</td>\n",
       "    </tr>\n",
       "  </tbody>\n",
       "</table>\n",
       "</div>"
      ],
      "text/plain": [
       "     user_id  age churn_date  city first_name last_name   reg_date tariff\n",
       "371     1371   50 2018-12-30  Омск     Ириней  Трофимов 2018-12-25  smart"
      ]
     },
     "metadata": {},
     "output_type": "display_data"
    }
   ],
   "source": [
    "display(users.loc[users['user_id']==1128])\n",
    "display(users.loc[users['user_id']==1371])"
   ]
  },
  {
   "cell_type": "markdown",
   "metadata": {},
   "source": [
    "***Скорее всего данные абоненты просто не успели воспользоваться купленными симкартами в конце года.***"
   ]
  },
  {
   "cell_type": "markdown",
   "metadata": {},
   "source": [
    "### Таблица abonents"
   ]
  },
  {
   "cell_type": "markdown",
   "metadata": {},
   "source": [
    "Тепрерь создадим из 3 таблиц ab_calls, ab_messages, ab_internet главную таблицу abonents."
   ]
  },
  {
   "cell_type": "code",
   "execution_count": 74,
   "metadata": {
    "scrolled": false
   },
   "outputs": [
    {
     "data": {
      "text/html": [
       "<div>\n",
       "<style scoped>\n",
       "    .dataframe tbody tr th:only-of-type {\n",
       "        vertical-align: middle;\n",
       "    }\n",
       "\n",
       "    .dataframe tbody tr th {\n",
       "        vertical-align: top;\n",
       "    }\n",
       "\n",
       "    .dataframe thead th {\n",
       "        text-align: right;\n",
       "    }\n",
       "</style>\n",
       "<table border=\"1\" class=\"dataframe\">\n",
       "  <thead>\n",
       "    <tr style=\"text-align: right;\">\n",
       "      <th></th>\n",
       "      <th>user_id</th>\n",
       "      <th>month</th>\n",
       "      <th>calls</th>\n",
       "      <th>min</th>\n",
       "      <th>mes</th>\n",
       "      <th>mb</th>\n",
       "      <th>city</th>\n",
       "      <th>tariff</th>\n",
       "    </tr>\n",
       "  </thead>\n",
       "  <tbody>\n",
       "    <tr>\n",
       "      <th>0</th>\n",
       "      <td>1000</td>\n",
       "      <td>5.0</td>\n",
       "      <td>22.0</td>\n",
       "      <td>159.0</td>\n",
       "      <td>22.0</td>\n",
       "      <td>2256.0</td>\n",
       "      <td>Краснодар</td>\n",
       "      <td>ultra</td>\n",
       "    </tr>\n",
       "    <tr>\n",
       "      <th>1</th>\n",
       "      <td>1000</td>\n",
       "      <td>6.0</td>\n",
       "      <td>43.0</td>\n",
       "      <td>172.0</td>\n",
       "      <td>60.0</td>\n",
       "      <td>23257.0</td>\n",
       "      <td>Краснодар</td>\n",
       "      <td>ultra</td>\n",
       "    </tr>\n",
       "    <tr>\n",
       "      <th>2</th>\n",
       "      <td>1000</td>\n",
       "      <td>7.0</td>\n",
       "      <td>47.0</td>\n",
       "      <td>340.0</td>\n",
       "      <td>75.0</td>\n",
       "      <td>14016.0</td>\n",
       "      <td>Краснодар</td>\n",
       "      <td>ultra</td>\n",
       "    </tr>\n",
       "    <tr>\n",
       "      <th>3</th>\n",
       "      <td>1000</td>\n",
       "      <td>8.0</td>\n",
       "      <td>52.0</td>\n",
       "      <td>408.0</td>\n",
       "      <td>81.0</td>\n",
       "      <td>14070.0</td>\n",
       "      <td>Краснодар</td>\n",
       "      <td>ultra</td>\n",
       "    </tr>\n",
       "    <tr>\n",
       "      <th>4</th>\n",
       "      <td>1000</td>\n",
       "      <td>9.0</td>\n",
       "      <td>58.0</td>\n",
       "      <td>466.0</td>\n",
       "      <td>57.0</td>\n",
       "      <td>14581.0</td>\n",
       "      <td>Краснодар</td>\n",
       "      <td>ultra</td>\n",
       "    </tr>\n",
       "    <tr>\n",
       "      <th>...</th>\n",
       "      <td>...</td>\n",
       "      <td>...</td>\n",
       "      <td>...</td>\n",
       "      <td>...</td>\n",
       "      <td>...</td>\n",
       "      <td>...</td>\n",
       "      <td>...</td>\n",
       "      <td>...</td>\n",
       "    </tr>\n",
       "    <tr>\n",
       "      <th>3211</th>\n",
       "      <td>1489</td>\n",
       "      <td>10.0</td>\n",
       "      <td>NaN</td>\n",
       "      <td>NaN</td>\n",
       "      <td>21.0</td>\n",
       "      <td>19588.0</td>\n",
       "      <td>Санкт-Петербург</td>\n",
       "      <td>smart</td>\n",
       "    </tr>\n",
       "    <tr>\n",
       "      <th>3212</th>\n",
       "      <td>1489</td>\n",
       "      <td>11.0</td>\n",
       "      <td>NaN</td>\n",
       "      <td>NaN</td>\n",
       "      <td>20.0</td>\n",
       "      <td>17516.0</td>\n",
       "      <td>Санкт-Петербург</td>\n",
       "      <td>smart</td>\n",
       "    </tr>\n",
       "    <tr>\n",
       "      <th>3213</th>\n",
       "      <td>1489</td>\n",
       "      <td>12.0</td>\n",
       "      <td>NaN</td>\n",
       "      <td>NaN</td>\n",
       "      <td>35.0</td>\n",
       "      <td>17341.0</td>\n",
       "      <td>Санкт-Петербург</td>\n",
       "      <td>smart</td>\n",
       "    </tr>\n",
       "    <tr>\n",
       "      <th>3214</th>\n",
       "      <td>1128</td>\n",
       "      <td>NaN</td>\n",
       "      <td>NaN</td>\n",
       "      <td>NaN</td>\n",
       "      <td>NaN</td>\n",
       "      <td>NaN</td>\n",
       "      <td>Волжский</td>\n",
       "      <td>ultra</td>\n",
       "    </tr>\n",
       "    <tr>\n",
       "      <th>3215</th>\n",
       "      <td>1371</td>\n",
       "      <td>NaN</td>\n",
       "      <td>NaN</td>\n",
       "      <td>NaN</td>\n",
       "      <td>NaN</td>\n",
       "      <td>NaN</td>\n",
       "      <td>Омск</td>\n",
       "      <td>smart</td>\n",
       "    </tr>\n",
       "  </tbody>\n",
       "</table>\n",
       "<p>3216 rows × 8 columns</p>\n",
       "</div>"
      ],
      "text/plain": [
       "      user_id  month  calls    min   mes       mb             city tariff\n",
       "0        1000    5.0   22.0  159.0  22.0   2256.0        Краснодар  ultra\n",
       "1        1000    6.0   43.0  172.0  60.0  23257.0        Краснодар  ultra\n",
       "2        1000    7.0   47.0  340.0  75.0  14016.0        Краснодар  ultra\n",
       "3        1000    8.0   52.0  408.0  81.0  14070.0        Краснодар  ultra\n",
       "4        1000    9.0   58.0  466.0  57.0  14581.0        Краснодар  ultra\n",
       "...       ...    ...    ...    ...   ...      ...              ...    ...\n",
       "3211     1489   10.0    NaN    NaN  21.0  19588.0  Санкт-Петербург  smart\n",
       "3212     1489   11.0    NaN    NaN  20.0  17516.0  Санкт-Петербург  smart\n",
       "3213     1489   12.0    NaN    NaN  35.0  17341.0  Санкт-Петербург  smart\n",
       "3214     1128    NaN    NaN    NaN   NaN      NaN         Волжский  ultra\n",
       "3215     1371    NaN    NaN    NaN   NaN      NaN             Омск  smart\n",
       "\n",
       "[3216 rows x 8 columns]"
      ]
     },
     "execution_count": 74,
     "metadata": {},
     "output_type": "execute_result"
    }
   ],
   "source": [
    "all_abonents = users.loc[:,['user_id', 'city', 'tariff']]\n",
    "\n",
    "# abonents = pd.merge(abonents, ab_calls, how='inner', on='user_id')\n",
    "abonents = pd.merge(ab_calls, ab_messages, how='outer', on=['user_id', 'month']) # , on=['user_id', 'month']   inner\n",
    "abonents = pd.merge(abonents, ab_internet, how='outer', on=['user_id', 'month']) # , on=['user_id', 'month']\n",
    "abonents = pd.merge(abonents, all_abonents, how='outer', on=['user_id'])\n",
    "abonents"
   ]
  },
  {
   "cell_type": "markdown",
   "metadata": {},
   "source": [
    "Напишем функцию ab_test для проверки корректности слияния трех таблиц ab_calls, ab_messages, ab_internet в таблицу abonents. Функция принимает номер абонента - user_id (от 1000-1499) и распечатывает для сравнения \"в ручную\" данные по абоненту из таблицы abonents и из 3 таблиц ab_calls, ab_messages, ab_internet."
   ]
  },
  {
   "cell_type": "code",
   "execution_count": 75,
   "metadata": {},
   "outputs": [
    {
     "name": "stdout",
     "output_type": "stream",
     "text": [
      "Объединенная таблица\n"
     ]
    },
    {
     "data": {
      "text/html": [
       "<div>\n",
       "<style scoped>\n",
       "    .dataframe tbody tr th:only-of-type {\n",
       "        vertical-align: middle;\n",
       "    }\n",
       "\n",
       "    .dataframe tbody tr th {\n",
       "        vertical-align: top;\n",
       "    }\n",
       "\n",
       "    .dataframe thead th {\n",
       "        text-align: right;\n",
       "    }\n",
       "</style>\n",
       "<table border=\"1\" class=\"dataframe\">\n",
       "  <thead>\n",
       "    <tr style=\"text-align: right;\">\n",
       "      <th></th>\n",
       "      <th>user_id</th>\n",
       "      <th>month</th>\n",
       "      <th>calls</th>\n",
       "      <th>min</th>\n",
       "      <th>mes</th>\n",
       "      <th>mb</th>\n",
       "      <th>city</th>\n",
       "      <th>tariff</th>\n",
       "    </tr>\n",
       "  </thead>\n",
       "  <tbody>\n",
       "    <tr>\n",
       "      <th>1398</th>\n",
       "      <td>1222</td>\n",
       "      <td>8.0</td>\n",
       "      <td>9.0</td>\n",
       "      <td>28.0</td>\n",
       "      <td>4.0</td>\n",
       "      <td>2292.0</td>\n",
       "      <td>Уфа</td>\n",
       "      <td>ultra</td>\n",
       "    </tr>\n",
       "    <tr>\n",
       "      <th>1399</th>\n",
       "      <td>1222</td>\n",
       "      <td>9.0</td>\n",
       "      <td>180.0</td>\n",
       "      <td>1261.0</td>\n",
       "      <td>109.0</td>\n",
       "      <td>19444.0</td>\n",
       "      <td>Уфа</td>\n",
       "      <td>ultra</td>\n",
       "    </tr>\n",
       "    <tr>\n",
       "      <th>1400</th>\n",
       "      <td>1222</td>\n",
       "      <td>10.0</td>\n",
       "      <td>196.0</td>\n",
       "      <td>1322.0</td>\n",
       "      <td>133.0</td>\n",
       "      <td>26952.0</td>\n",
       "      <td>Уфа</td>\n",
       "      <td>ultra</td>\n",
       "    </tr>\n",
       "    <tr>\n",
       "      <th>1401</th>\n",
       "      <td>1222</td>\n",
       "      <td>11.0</td>\n",
       "      <td>156.0</td>\n",
       "      <td>1027.0</td>\n",
       "      <td>114.0</td>\n",
       "      <td>21553.0</td>\n",
       "      <td>Уфа</td>\n",
       "      <td>ultra</td>\n",
       "    </tr>\n",
       "    <tr>\n",
       "      <th>1402</th>\n",
       "      <td>1222</td>\n",
       "      <td>12.0</td>\n",
       "      <td>184.0</td>\n",
       "      <td>1261.0</td>\n",
       "      <td>135.0</td>\n",
       "      <td>24774.0</td>\n",
       "      <td>Уфа</td>\n",
       "      <td>ultra</td>\n",
       "    </tr>\n",
       "  </tbody>\n",
       "</table>\n",
       "</div>"
      ],
      "text/plain": [
       "      user_id  month  calls     min    mes       mb city tariff\n",
       "1398     1222    8.0    9.0    28.0    4.0   2292.0  Уфа  ultra\n",
       "1399     1222    9.0  180.0  1261.0  109.0  19444.0  Уфа  ultra\n",
       "1400     1222   10.0  196.0  1322.0  133.0  26952.0  Уфа  ultra\n",
       "1401     1222   11.0  156.0  1027.0  114.0  21553.0  Уфа  ultra\n",
       "1402     1222   12.0  184.0  1261.0  135.0  24774.0  Уфа  ultra"
      ]
     },
     "metadata": {},
     "output_type": "display_data"
    },
    {
     "name": "stdout",
     "output_type": "stream",
     "text": [
      "\n",
      "3 таблицы : \n"
     ]
    },
    {
     "data": {
      "text/html": [
       "<div>\n",
       "<style scoped>\n",
       "    .dataframe tbody tr th:only-of-type {\n",
       "        vertical-align: middle;\n",
       "    }\n",
       "\n",
       "    .dataframe tbody tr th {\n",
       "        vertical-align: top;\n",
       "    }\n",
       "\n",
       "    .dataframe thead th {\n",
       "        text-align: right;\n",
       "    }\n",
       "</style>\n",
       "<table border=\"1\" class=\"dataframe\">\n",
       "  <thead>\n",
       "    <tr style=\"text-align: right;\">\n",
       "      <th></th>\n",
       "      <th>user_id</th>\n",
       "      <th>month</th>\n",
       "      <th>calls</th>\n",
       "      <th>min</th>\n",
       "    </tr>\n",
       "  </thead>\n",
       "  <tbody>\n",
       "    <tr>\n",
       "      <th>1398</th>\n",
       "      <td>1222</td>\n",
       "      <td>8</td>\n",
       "      <td>9</td>\n",
       "      <td>28.0</td>\n",
       "    </tr>\n",
       "    <tr>\n",
       "      <th>1399</th>\n",
       "      <td>1222</td>\n",
       "      <td>9</td>\n",
       "      <td>180</td>\n",
       "      <td>1261.0</td>\n",
       "    </tr>\n",
       "    <tr>\n",
       "      <th>1400</th>\n",
       "      <td>1222</td>\n",
       "      <td>10</td>\n",
       "      <td>196</td>\n",
       "      <td>1322.0</td>\n",
       "    </tr>\n",
       "    <tr>\n",
       "      <th>1401</th>\n",
       "      <td>1222</td>\n",
       "      <td>11</td>\n",
       "      <td>156</td>\n",
       "      <td>1027.0</td>\n",
       "    </tr>\n",
       "    <tr>\n",
       "      <th>1402</th>\n",
       "      <td>1222</td>\n",
       "      <td>12</td>\n",
       "      <td>184</td>\n",
       "      <td>1261.0</td>\n",
       "    </tr>\n",
       "  </tbody>\n",
       "</table>\n",
       "</div>"
      ],
      "text/plain": [
       "      user_id  month  calls     min\n",
       "1398     1222      8      9    28.0\n",
       "1399     1222      9    180  1261.0\n",
       "1400     1222     10    196  1322.0\n",
       "1401     1222     11    156  1027.0\n",
       "1402     1222     12    184  1261.0"
      ]
     },
     "metadata": {},
     "output_type": "display_data"
    },
    {
     "data": {
      "text/html": [
       "<div>\n",
       "<style scoped>\n",
       "    .dataframe tbody tr th:only-of-type {\n",
       "        vertical-align: middle;\n",
       "    }\n",
       "\n",
       "    .dataframe tbody tr th {\n",
       "        vertical-align: top;\n",
       "    }\n",
       "\n",
       "    .dataframe thead th {\n",
       "        text-align: right;\n",
       "    }\n",
       "</style>\n",
       "<table border=\"1\" class=\"dataframe\">\n",
       "  <thead>\n",
       "    <tr style=\"text-align: right;\">\n",
       "      <th></th>\n",
       "      <th>user_id</th>\n",
       "      <th>month</th>\n",
       "      <th>mes</th>\n",
       "    </tr>\n",
       "  </thead>\n",
       "  <tbody>\n",
       "    <tr>\n",
       "      <th>1163</th>\n",
       "      <td>1222</td>\n",
       "      <td>8</td>\n",
       "      <td>4</td>\n",
       "    </tr>\n",
       "    <tr>\n",
       "      <th>1164</th>\n",
       "      <td>1222</td>\n",
       "      <td>9</td>\n",
       "      <td>109</td>\n",
       "    </tr>\n",
       "    <tr>\n",
       "      <th>1165</th>\n",
       "      <td>1222</td>\n",
       "      <td>10</td>\n",
       "      <td>133</td>\n",
       "    </tr>\n",
       "    <tr>\n",
       "      <th>1166</th>\n",
       "      <td>1222</td>\n",
       "      <td>11</td>\n",
       "      <td>114</td>\n",
       "    </tr>\n",
       "    <tr>\n",
       "      <th>1167</th>\n",
       "      <td>1222</td>\n",
       "      <td>12</td>\n",
       "      <td>135</td>\n",
       "    </tr>\n",
       "  </tbody>\n",
       "</table>\n",
       "</div>"
      ],
      "text/plain": [
       "      user_id  month  mes\n",
       "1163     1222      8    4\n",
       "1164     1222      9  109\n",
       "1165     1222     10  133\n",
       "1166     1222     11  114\n",
       "1167     1222     12  135"
      ]
     },
     "metadata": {},
     "output_type": "display_data"
    },
    {
     "data": {
      "text/html": [
       "<div>\n",
       "<style scoped>\n",
       "    .dataframe tbody tr th:only-of-type {\n",
       "        vertical-align: middle;\n",
       "    }\n",
       "\n",
       "    .dataframe tbody tr th {\n",
       "        vertical-align: top;\n",
       "    }\n",
       "\n",
       "    .dataframe thead th {\n",
       "        text-align: right;\n",
       "    }\n",
       "</style>\n",
       "<table border=\"1\" class=\"dataframe\">\n",
       "  <thead>\n",
       "    <tr style=\"text-align: right;\">\n",
       "      <th></th>\n",
       "      <th>user_id</th>\n",
       "      <th>month</th>\n",
       "      <th>mb</th>\n",
       "    </tr>\n",
       "  </thead>\n",
       "  <tbody>\n",
       "    <tr>\n",
       "      <th>1415</th>\n",
       "      <td>1222</td>\n",
       "      <td>8</td>\n",
       "      <td>2292.0</td>\n",
       "    </tr>\n",
       "    <tr>\n",
       "      <th>1416</th>\n",
       "      <td>1222</td>\n",
       "      <td>9</td>\n",
       "      <td>19444.0</td>\n",
       "    </tr>\n",
       "    <tr>\n",
       "      <th>1417</th>\n",
       "      <td>1222</td>\n",
       "      <td>10</td>\n",
       "      <td>26952.0</td>\n",
       "    </tr>\n",
       "    <tr>\n",
       "      <th>1418</th>\n",
       "      <td>1222</td>\n",
       "      <td>11</td>\n",
       "      <td>21553.0</td>\n",
       "    </tr>\n",
       "    <tr>\n",
       "      <th>1419</th>\n",
       "      <td>1222</td>\n",
       "      <td>12</td>\n",
       "      <td>24774.0</td>\n",
       "    </tr>\n",
       "  </tbody>\n",
       "</table>\n",
       "</div>"
      ],
      "text/plain": [
       "      user_id  month       mb\n",
       "1415     1222      8   2292.0\n",
       "1416     1222      9  19444.0\n",
       "1417     1222     10  26952.0\n",
       "1418     1222     11  21553.0\n",
       "1419     1222     12  24774.0"
      ]
     },
     "metadata": {},
     "output_type": "display_data"
    }
   ],
   "source": [
    "def ab_test(us_id):\n",
    "    print(\"Объединенная таблица\")\n",
    "    display(abonents.loc[abonents['user_id']==us_id])\n",
    "    print()\n",
    "    print(\"3 таблицы : \")\n",
    "    display(ab_calls.loc[ab_calls['user_id']==us_id])\n",
    "    display(ab_messages.loc[ab_messages['user_id']==us_id])\n",
    "    display(ab_internet.loc[ab_internet['user_id']==us_id])\n",
    "    \n",
    "ab_test(1222)"
   ]
  },
  {
   "cell_type": "code",
   "execution_count": 76,
   "metadata": {},
   "outputs": [
    {
     "data": {
      "text/plain": [
       "500"
      ]
     },
     "execution_count": 76,
     "metadata": {},
     "output_type": "execute_result"
    }
   ],
   "source": [
    "# Проверим все ли абоненты на месте, должно быть 500\n",
    "abonents['user_id'].nunique()"
   ]
  },
  {
   "cell_type": "markdown",
   "metadata": {},
   "source": [
    "Чтобы посчитать выручку income за месяц надо избавиться от пропусков NaN. Логично заполнить их нулями. Там где не было звонков - 0, минут - 0, не было СМС - 0, не было интернет-трафика - 0 МБ.\n",
    "\n",
    "Посмотрим сколько у нас пропусков в таблице abonents."
   ]
  },
  {
   "cell_type": "code",
   "execution_count": 77,
   "metadata": {},
   "outputs": [
    {
     "data": {
      "text/plain": [
       "user_id      0\n",
       "month        2\n",
       "calls       42\n",
       "min         42\n",
       "mes        499\n",
       "mb          13\n",
       "city         0\n",
       "tariff       0\n",
       "dtype: int64"
      ]
     },
     "execution_count": 77,
     "metadata": {},
     "output_type": "execute_result"
    }
   ],
   "source": [
    "abonents.isna().sum()"
   ]
  },
  {
   "cell_type": "code",
   "execution_count": 78,
   "metadata": {},
   "outputs": [
    {
     "data": {
      "text/html": [
       "<div>\n",
       "<style scoped>\n",
       "    .dataframe tbody tr th:only-of-type {\n",
       "        vertical-align: middle;\n",
       "    }\n",
       "\n",
       "    .dataframe tbody tr th {\n",
       "        vertical-align: top;\n",
       "    }\n",
       "\n",
       "    .dataframe thead th {\n",
       "        text-align: right;\n",
       "    }\n",
       "</style>\n",
       "<table border=\"1\" class=\"dataframe\">\n",
       "  <thead>\n",
       "    <tr style=\"text-align: right;\">\n",
       "      <th></th>\n",
       "      <th>user_id</th>\n",
       "      <th>month</th>\n",
       "      <th>calls</th>\n",
       "      <th>min</th>\n",
       "      <th>mes</th>\n",
       "      <th>mb</th>\n",
       "      <th>city</th>\n",
       "      <th>tariff</th>\n",
       "    </tr>\n",
       "  </thead>\n",
       "  <tbody>\n",
       "    <tr>\n",
       "      <th>3214</th>\n",
       "      <td>1128</td>\n",
       "      <td>NaN</td>\n",
       "      <td>NaN</td>\n",
       "      <td>NaN</td>\n",
       "      <td>NaN</td>\n",
       "      <td>NaN</td>\n",
       "      <td>Волжский</td>\n",
       "      <td>ultra</td>\n",
       "    </tr>\n",
       "    <tr>\n",
       "      <th>3215</th>\n",
       "      <td>1371</td>\n",
       "      <td>NaN</td>\n",
       "      <td>NaN</td>\n",
       "      <td>NaN</td>\n",
       "      <td>NaN</td>\n",
       "      <td>NaN</td>\n",
       "      <td>Омск</td>\n",
       "      <td>smart</td>\n",
       "    </tr>\n",
       "  </tbody>\n",
       "</table>\n",
       "</div>"
      ],
      "text/plain": [
       "      user_id  month  calls  min  mes  mb      city tariff\n",
       "3214     1128    NaN    NaN  NaN  NaN NaN  Волжский  ultra\n",
       "3215     1371    NaN    NaN  NaN  NaN NaN      Омск  smart"
      ]
     },
     "metadata": {},
     "output_type": "display_data"
    }
   ],
   "source": [
    "display(abonents[abonents['month'].isna()])"
   ]
  },
  {
   "cell_type": "markdown",
   "metadata": {},
   "source": [
    "Оказывается есть пропуски в столбце month. Это 2 абонента подключенных в конце года - считаем что они подключились в декабре и оплатили абонентскую плату."
   ]
  },
  {
   "cell_type": "code",
   "execution_count": 79,
   "metadata": {},
   "outputs": [
    {
     "data": {
      "text/plain": [
       "user_id    0\n",
       "month      0\n",
       "calls      0\n",
       "min        0\n",
       "mes        0\n",
       "mb         0\n",
       "city       0\n",
       "tariff     0\n",
       "dtype: int64"
      ]
     },
     "execution_count": 79,
     "metadata": {},
     "output_type": "execute_result"
    }
   ],
   "source": [
    "abonents.loc[:,['calls', 'min', 'mes', 'mb']] = abonents.loc[:,['calls', 'min', 'mes', 'mb']].fillna(0)\n",
    "abonents.loc[:,['month']] = abonents.loc[:,['month']].fillna(12)\n",
    "abonents.isna().sum()"
   ]
  },
  {
   "cell_type": "markdown",
   "metadata": {},
   "source": [
    "### Столбец income"
   ]
  },
  {
   "cell_type": "markdown",
   "metadata": {},
   "source": [
    "Теперь пора добавить новый столбец выручка - income в таблицу abonents. Напишем функцию income_month, которая принимает строку, и возвращает значение выручки."
   ]
  },
  {
   "cell_type": "markdown",
   "metadata": {},
   "source": [
    "(вычтите бесплатный лимит из суммарного количества звонков, сообщений и интернет-трафика; остаток умножьте на значение из тарифного плана; прибавьте абонентскую плату, соответствующую тарифному плану)"
   ]
  },
  {
   "cell_type": "code",
   "execution_count": 80,
   "metadata": {},
   "outputs": [
    {
     "data": {
      "text/html": [
       "<div>\n",
       "<style scoped>\n",
       "    .dataframe tbody tr th:only-of-type {\n",
       "        vertical-align: middle;\n",
       "    }\n",
       "\n",
       "    .dataframe tbody tr th {\n",
       "        vertical-align: top;\n",
       "    }\n",
       "\n",
       "    .dataframe thead th {\n",
       "        text-align: right;\n",
       "    }\n",
       "</style>\n",
       "<table border=\"1\" class=\"dataframe\">\n",
       "  <thead>\n",
       "    <tr style=\"text-align: right;\">\n",
       "      <th></th>\n",
       "      <th>user_id</th>\n",
       "      <th>month</th>\n",
       "      <th>calls</th>\n",
       "      <th>min</th>\n",
       "      <th>mes</th>\n",
       "      <th>mb</th>\n",
       "      <th>city</th>\n",
       "      <th>tariff</th>\n",
       "    </tr>\n",
       "  </thead>\n",
       "  <tbody>\n",
       "    <tr>\n",
       "      <th>286</th>\n",
       "      <td>1045</td>\n",
       "      <td>12.0</td>\n",
       "      <td>36.0</td>\n",
       "      <td>256.0</td>\n",
       "      <td>49.0</td>\n",
       "      <td>18993.0</td>\n",
       "      <td>Улан-Удэ</td>\n",
       "      <td>smart</td>\n",
       "    </tr>\n",
       "    <tr>\n",
       "      <th>234</th>\n",
       "      <td>1036</td>\n",
       "      <td>10.0</td>\n",
       "      <td>72.0</td>\n",
       "      <td>530.0</td>\n",
       "      <td>3.0</td>\n",
       "      <td>15633.0</td>\n",
       "      <td>Санкт-Петербург</td>\n",
       "      <td>smart</td>\n",
       "    </tr>\n",
       "    <tr>\n",
       "      <th>2149</th>\n",
       "      <td>1343</td>\n",
       "      <td>8.0</td>\n",
       "      <td>43.0</td>\n",
       "      <td>297.0</td>\n",
       "      <td>40.0</td>\n",
       "      <td>3698.0</td>\n",
       "      <td>Кострома</td>\n",
       "      <td>ultra</td>\n",
       "    </tr>\n",
       "  </tbody>\n",
       "</table>\n",
       "</div>"
      ],
      "text/plain": [
       "      user_id  month  calls    min   mes       mb             city tariff\n",
       "286      1045   12.0   36.0  256.0  49.0  18993.0         Улан-Удэ  smart\n",
       "234      1036   10.0   72.0  530.0   3.0  15633.0  Санкт-Петербург  smart\n",
       "2149     1343    8.0   43.0  297.0  40.0   3698.0         Кострома  ultra"
      ]
     },
     "execution_count": 80,
     "metadata": {},
     "output_type": "execute_result"
    }
   ],
   "source": [
    "abonents.sample(3)"
   ]
  },
  {
   "cell_type": "code",
   "execution_count": 81,
   "metadata": {},
   "outputs": [
    {
     "name": "stdout",
     "output_type": "stream",
     "text": [
      "1\n"
     ]
    }
   ],
   "source": [
    "print(tariffs.loc[1,'rub_per_message'])"
   ]
  },
  {
   "cell_type": "code",
   "execution_count": 82,
   "metadata": {},
   "outputs": [
    {
     "data": {
      "text/html": [
       "<div>\n",
       "<style scoped>\n",
       "    .dataframe tbody tr th:only-of-type {\n",
       "        vertical-align: middle;\n",
       "    }\n",
       "\n",
       "    .dataframe tbody tr th {\n",
       "        vertical-align: top;\n",
       "    }\n",
       "\n",
       "    .dataframe thead th {\n",
       "        text-align: right;\n",
       "    }\n",
       "</style>\n",
       "<table border=\"1\" class=\"dataframe\">\n",
       "  <thead>\n",
       "    <tr style=\"text-align: right;\">\n",
       "      <th></th>\n",
       "      <th>messages_included</th>\n",
       "      <th>mb_per_month_included</th>\n",
       "      <th>minutes_included</th>\n",
       "      <th>rub_monthly_fee</th>\n",
       "      <th>rub_per_gb</th>\n",
       "      <th>rub_per_message</th>\n",
       "      <th>rub_per_minute</th>\n",
       "      <th>tariff_name</th>\n",
       "    </tr>\n",
       "  </thead>\n",
       "  <tbody>\n",
       "    <tr>\n",
       "      <th>0</th>\n",
       "      <td>50</td>\n",
       "      <td>15360</td>\n",
       "      <td>500</td>\n",
       "      <td>550</td>\n",
       "      <td>200</td>\n",
       "      <td>3</td>\n",
       "      <td>3</td>\n",
       "      <td>smart</td>\n",
       "    </tr>\n",
       "    <tr>\n",
       "      <th>1</th>\n",
       "      <td>1000</td>\n",
       "      <td>30720</td>\n",
       "      <td>3000</td>\n",
       "      <td>1950</td>\n",
       "      <td>150</td>\n",
       "      <td>1</td>\n",
       "      <td>1</td>\n",
       "      <td>ultra</td>\n",
       "    </tr>\n",
       "  </tbody>\n",
       "</table>\n",
       "</div>"
      ],
      "text/plain": [
       "   messages_included  mb_per_month_included  minutes_included  \\\n",
       "0                 50                  15360               500   \n",
       "1               1000                  30720              3000   \n",
       "\n",
       "   rub_monthly_fee  rub_per_gb  rub_per_message  rub_per_minute tariff_name  \n",
       "0              550         200                3               3       smart  \n",
       "1             1950         150                1               1       ultra  "
      ]
     },
     "execution_count": 82,
     "metadata": {},
     "output_type": "execute_result"
    }
   ],
   "source": [
    "tariffs"
   ]
  },
  {
   "cell_type": "code",
   "execution_count": 83,
   "metadata": {},
   "outputs": [],
   "source": [
    "abonents['gb'] = abonents['mb']/1024\n",
    "abonents['gb'] = np.ceil(abonents['gb'])"
   ]
  },
  {
   "cell_type": "code",
   "execution_count": 84,
   "metadata": {},
   "outputs": [],
   "source": [
    "def income_month(ab_month):\n",
    "        \n",
    "    if ab_month['tariff'] == 'smart':\n",
    "        \n",
    "        inc_calls = (ab_month['min'] - tariffs.loc[0,'minutes_included']) * tariffs.loc[0,'rub_per_minute']\n",
    "        if inc_calls < 0 :\n",
    "            inc_calls = 0\n",
    "        \n",
    "        inc_mess = (ab_month['mes'] - tariffs.loc[0,'messages_included']) * tariffs.loc[0,'rub_per_message']\n",
    "        if inc_mess < 0 :\n",
    "            inc_mess = 0\n",
    "        \n",
    "        # round_up(fl) - Функция округления вверх. Описывалась выше\n",
    "        inc_mb  = round_up((ab_month['gb'] - tariffs.loc[0,'mb_per_month_included'])/1024) * tariffs.loc[0,'rub_per_gb'] \n",
    "        if inc_mb < 0 :\n",
    "            inc_mb = 0\n",
    "             \n",
    "        inc = inc_calls + inc_mess + inc_mb + tariffs.loc[0,'rub_monthly_fee']\n",
    "        \n",
    "    elif ab_month['tariff'] == 'ultra':\n",
    "        \n",
    "        inc_calls = (ab_month['min'] - tariffs.loc[1,'minutes_included']) * tariffs.loc[1,'rub_per_minute']\n",
    "        if inc_calls < 0 :\n",
    "            inc_calls = 0\n",
    "        \n",
    "        inc_mess = (ab_month['mes'] - tariffs.loc[1,'messages_included']) * tariffs.loc[1,'rub_per_message']\n",
    "        if inc_mess < 0 :\n",
    "            inc_mess = 0\n",
    "        \n",
    "        inc_mb  = round_up((ab_month['gb'] - tariffs.loc[1,'mb_per_month_included'])/1024) * tariffs.loc[1,'rub_per_gb'] \n",
    "        if inc_mb < 0 :\n",
    "            inc_mb = 0\n",
    "             \n",
    "        inc = inc_calls + inc_mess + inc_mb + tariffs.loc[1,'rub_monthly_fee']\n",
    "        \n",
    "    else:\n",
    "        print('Неизвестный тариф')\n",
    "        \n",
    "#     display(ab_month) # Для поверки нескольких строк вручную\n",
    "#     print(inc_calls, inc_mess, inc_mb, inc) # Для поверки нескольких строк вручную\n",
    "#     input() # Для поверки нескольких строк вручную\n",
    "    \n",
    "    return inc\n",
    "\n",
    "abonents['income'] = abonents.apply(income_month, axis=1)"
   ]
  },
  {
   "cell_type": "code",
   "execution_count": 85,
   "metadata": {},
   "outputs": [],
   "source": [
    "#abonents['gb'] = abonents['mb']/1024\n",
    "#abonents['gb'] = np.ceil(abonents['gb'])"
   ]
  },
  {
   "cell_type": "code",
   "execution_count": 86,
   "metadata": {
    "scrolled": false
   },
   "outputs": [
    {
     "data": {
      "text/html": [
       "<div>\n",
       "<style scoped>\n",
       "    .dataframe tbody tr th:only-of-type {\n",
       "        vertical-align: middle;\n",
       "    }\n",
       "\n",
       "    .dataframe tbody tr th {\n",
       "        vertical-align: top;\n",
       "    }\n",
       "\n",
       "    .dataframe thead th {\n",
       "        text-align: right;\n",
       "    }\n",
       "</style>\n",
       "<table border=\"1\" class=\"dataframe\">\n",
       "  <thead>\n",
       "    <tr style=\"text-align: right;\">\n",
       "      <th></th>\n",
       "      <th>user_id</th>\n",
       "      <th>month</th>\n",
       "      <th>calls</th>\n",
       "      <th>min</th>\n",
       "      <th>mes</th>\n",
       "      <th>mb</th>\n",
       "      <th>city</th>\n",
       "      <th>tariff</th>\n",
       "      <th>gb</th>\n",
       "      <th>income</th>\n",
       "    </tr>\n",
       "  </thead>\n",
       "  <tbody>\n",
       "    <tr>\n",
       "      <th>2417</th>\n",
       "      <td>1383</td>\n",
       "      <td>10.0</td>\n",
       "      <td>11.0</td>\n",
       "      <td>101.0</td>\n",
       "      <td>1.0</td>\n",
       "      <td>3565.0</td>\n",
       "      <td>Ульяновск</td>\n",
       "      <td>smart</td>\n",
       "      <td>4.0</td>\n",
       "      <td>550.0</td>\n",
       "    </tr>\n",
       "    <tr>\n",
       "      <th>148</th>\n",
       "      <td>1021</td>\n",
       "      <td>7.0</td>\n",
       "      <td>158.0</td>\n",
       "      <td>1197.0</td>\n",
       "      <td>103.0</td>\n",
       "      <td>20038.0</td>\n",
       "      <td>Краснодар</td>\n",
       "      <td>ultra</td>\n",
       "      <td>20.0</td>\n",
       "      <td>1950.0</td>\n",
       "    </tr>\n",
       "    <tr>\n",
       "      <th>3055</th>\n",
       "      <td>1479</td>\n",
       "      <td>7.0</td>\n",
       "      <td>86.0</td>\n",
       "      <td>666.0</td>\n",
       "      <td>0.0</td>\n",
       "      <td>25905.0</td>\n",
       "      <td>Хабаровск</td>\n",
       "      <td>smart</td>\n",
       "      <td>26.0</td>\n",
       "      <td>1048.0</td>\n",
       "    </tr>\n",
       "    <tr>\n",
       "      <th>2522</th>\n",
       "      <td>1396</td>\n",
       "      <td>8.0</td>\n",
       "      <td>70.0</td>\n",
       "      <td>521.0</td>\n",
       "      <td>90.0</td>\n",
       "      <td>15628.0</td>\n",
       "      <td>Пенза</td>\n",
       "      <td>ultra</td>\n",
       "      <td>16.0</td>\n",
       "      <td>1950.0</td>\n",
       "    </tr>\n",
       "    <tr>\n",
       "      <th>1601</th>\n",
       "      <td>1256</td>\n",
       "      <td>10.0</td>\n",
       "      <td>91.0</td>\n",
       "      <td>662.0</td>\n",
       "      <td>103.0</td>\n",
       "      <td>22225.0</td>\n",
       "      <td>Санкт-Петербург</td>\n",
       "      <td>smart</td>\n",
       "      <td>22.0</td>\n",
       "      <td>1195.0</td>\n",
       "    </tr>\n",
       "  </tbody>\n",
       "</table>\n",
       "</div>"
      ],
      "text/plain": [
       "      user_id  month  calls     min    mes       mb             city tariff  \\\n",
       "2417     1383   10.0   11.0   101.0    1.0   3565.0        Ульяновск  smart   \n",
       "148      1021    7.0  158.0  1197.0  103.0  20038.0        Краснодар  ultra   \n",
       "3055     1479    7.0   86.0   666.0    0.0  25905.0        Хабаровск  smart   \n",
       "2522     1396    8.0   70.0   521.0   90.0  15628.0            Пенза  ultra   \n",
       "1601     1256   10.0   91.0   662.0  103.0  22225.0  Санкт-Петербург  smart   \n",
       "\n",
       "        gb  income  \n",
       "2417   4.0   550.0  \n",
       "148   20.0  1950.0  \n",
       "3055  26.0  1048.0  \n",
       "2522  16.0  1950.0  \n",
       "1601  22.0  1195.0  "
      ]
     },
     "execution_count": 86,
     "metadata": {},
     "output_type": "execute_result"
    }
   ],
   "source": [
    "abonents.sample(5)"
   ]
  },
  {
   "cell_type": "markdown",
   "metadata": {},
   "source": [
    "***Вывод: Добавили столбец с использованными ГБ. Округлили в большую сторону, по условию.***"
   ]
  },
  {
   "cell_type": "markdown",
   "metadata": {},
   "source": [
    "## Анализ данных"
   ]
  },
  {
   "cell_type": "markdown",
   "metadata": {},
   "source": [
    "**Опишите поведение клиентов оператора, исходя из выборки. Сколько минут разговора, сколько сообщений и какой объём интернет-трафика требуется пользователям каждого тарифа в месяц? Посчитайте среднее количество, дисперсию и стандартное отклонение. Постройте гистограммы. Опишите распределения.**"
   ]
  },
  {
   "cell_type": "markdown",
   "metadata": {},
   "source": [
    "### Расчет помесячного расхода минут разговора, сообщений и какой объём интернет-трафика для каждого тарифа"
   ]
  },
  {
   "cell_type": "code",
   "execution_count": 87,
   "metadata": {},
   "outputs": [
    {
     "data": {
      "text/html": [
       "<div>\n",
       "<style scoped>\n",
       "    .dataframe tbody tr th:only-of-type {\n",
       "        vertical-align: middle;\n",
       "    }\n",
       "\n",
       "    .dataframe tbody tr th {\n",
       "        vertical-align: top;\n",
       "    }\n",
       "\n",
       "    .dataframe thead th {\n",
       "        text-align: right;\n",
       "    }\n",
       "</style>\n",
       "<table border=\"1\" class=\"dataframe\">\n",
       "  <thead>\n",
       "    <tr style=\"text-align: right;\">\n",
       "      <th></th>\n",
       "      <th>user_id</th>\n",
       "      <th>month</th>\n",
       "      <th>calls</th>\n",
       "      <th>min</th>\n",
       "      <th>mes</th>\n",
       "      <th>mb</th>\n",
       "      <th>city</th>\n",
       "      <th>tariff</th>\n",
       "      <th>gb</th>\n",
       "      <th>income</th>\n",
       "    </tr>\n",
       "  </thead>\n",
       "  <tbody>\n",
       "    <tr>\n",
       "      <th>0</th>\n",
       "      <td>1000</td>\n",
       "      <td>5.0</td>\n",
       "      <td>22.0</td>\n",
       "      <td>159.0</td>\n",
       "      <td>22.0</td>\n",
       "      <td>2256.0</td>\n",
       "      <td>Краснодар</td>\n",
       "      <td>ultra</td>\n",
       "      <td>3.0</td>\n",
       "      <td>1950.0</td>\n",
       "    </tr>\n",
       "    <tr>\n",
       "      <th>1</th>\n",
       "      <td>1000</td>\n",
       "      <td>6.0</td>\n",
       "      <td>43.0</td>\n",
       "      <td>172.0</td>\n",
       "      <td>60.0</td>\n",
       "      <td>23257.0</td>\n",
       "      <td>Краснодар</td>\n",
       "      <td>ultra</td>\n",
       "      <td>23.0</td>\n",
       "      <td>1950.0</td>\n",
       "    </tr>\n",
       "    <tr>\n",
       "      <th>2</th>\n",
       "      <td>1000</td>\n",
       "      <td>7.0</td>\n",
       "      <td>47.0</td>\n",
       "      <td>340.0</td>\n",
       "      <td>75.0</td>\n",
       "      <td>14016.0</td>\n",
       "      <td>Краснодар</td>\n",
       "      <td>ultra</td>\n",
       "      <td>14.0</td>\n",
       "      <td>1950.0</td>\n",
       "    </tr>\n",
       "    <tr>\n",
       "      <th>3</th>\n",
       "      <td>1000</td>\n",
       "      <td>8.0</td>\n",
       "      <td>52.0</td>\n",
       "      <td>408.0</td>\n",
       "      <td>81.0</td>\n",
       "      <td>14070.0</td>\n",
       "      <td>Краснодар</td>\n",
       "      <td>ultra</td>\n",
       "      <td>14.0</td>\n",
       "      <td>1950.0</td>\n",
       "    </tr>\n",
       "    <tr>\n",
       "      <th>4</th>\n",
       "      <td>1000</td>\n",
       "      <td>9.0</td>\n",
       "      <td>58.0</td>\n",
       "      <td>466.0</td>\n",
       "      <td>57.0</td>\n",
       "      <td>14581.0</td>\n",
       "      <td>Краснодар</td>\n",
       "      <td>ultra</td>\n",
       "      <td>15.0</td>\n",
       "      <td>1950.0</td>\n",
       "    </tr>\n",
       "    <tr>\n",
       "      <th>...</th>\n",
       "      <td>...</td>\n",
       "      <td>...</td>\n",
       "      <td>...</td>\n",
       "      <td>...</td>\n",
       "      <td>...</td>\n",
       "      <td>...</td>\n",
       "      <td>...</td>\n",
       "      <td>...</td>\n",
       "      <td>...</td>\n",
       "      <td>...</td>\n",
       "    </tr>\n",
       "    <tr>\n",
       "      <th>3211</th>\n",
       "      <td>1489</td>\n",
       "      <td>10.0</td>\n",
       "      <td>0.0</td>\n",
       "      <td>0.0</td>\n",
       "      <td>21.0</td>\n",
       "      <td>19588.0</td>\n",
       "      <td>Санкт-Петербург</td>\n",
       "      <td>smart</td>\n",
       "      <td>20.0</td>\n",
       "      <td>550.0</td>\n",
       "    </tr>\n",
       "    <tr>\n",
       "      <th>3212</th>\n",
       "      <td>1489</td>\n",
       "      <td>11.0</td>\n",
       "      <td>0.0</td>\n",
       "      <td>0.0</td>\n",
       "      <td>20.0</td>\n",
       "      <td>17516.0</td>\n",
       "      <td>Санкт-Петербург</td>\n",
       "      <td>smart</td>\n",
       "      <td>18.0</td>\n",
       "      <td>550.0</td>\n",
       "    </tr>\n",
       "    <tr>\n",
       "      <th>3213</th>\n",
       "      <td>1489</td>\n",
       "      <td>12.0</td>\n",
       "      <td>0.0</td>\n",
       "      <td>0.0</td>\n",
       "      <td>35.0</td>\n",
       "      <td>17341.0</td>\n",
       "      <td>Санкт-Петербург</td>\n",
       "      <td>smart</td>\n",
       "      <td>17.0</td>\n",
       "      <td>550.0</td>\n",
       "    </tr>\n",
       "    <tr>\n",
       "      <th>3214</th>\n",
       "      <td>1128</td>\n",
       "      <td>12.0</td>\n",
       "      <td>0.0</td>\n",
       "      <td>0.0</td>\n",
       "      <td>0.0</td>\n",
       "      <td>0.0</td>\n",
       "      <td>Волжский</td>\n",
       "      <td>ultra</td>\n",
       "      <td>0.0</td>\n",
       "      <td>1950.0</td>\n",
       "    </tr>\n",
       "    <tr>\n",
       "      <th>3215</th>\n",
       "      <td>1371</td>\n",
       "      <td>12.0</td>\n",
       "      <td>0.0</td>\n",
       "      <td>0.0</td>\n",
       "      <td>0.0</td>\n",
       "      <td>0.0</td>\n",
       "      <td>Омск</td>\n",
       "      <td>smart</td>\n",
       "      <td>0.0</td>\n",
       "      <td>550.0</td>\n",
       "    </tr>\n",
       "  </tbody>\n",
       "</table>\n",
       "<p>3216 rows × 10 columns</p>\n",
       "</div>"
      ],
      "text/plain": [
       "      user_id  month  calls    min   mes       mb             city tariff  \\\n",
       "0        1000    5.0   22.0  159.0  22.0   2256.0        Краснодар  ultra   \n",
       "1        1000    6.0   43.0  172.0  60.0  23257.0        Краснодар  ultra   \n",
       "2        1000    7.0   47.0  340.0  75.0  14016.0        Краснодар  ultra   \n",
       "3        1000    8.0   52.0  408.0  81.0  14070.0        Краснодар  ultra   \n",
       "4        1000    9.0   58.0  466.0  57.0  14581.0        Краснодар  ultra   \n",
       "...       ...    ...    ...    ...   ...      ...              ...    ...   \n",
       "3211     1489   10.0    0.0    0.0  21.0  19588.0  Санкт-Петербург  smart   \n",
       "3212     1489   11.0    0.0    0.0  20.0  17516.0  Санкт-Петербург  smart   \n",
       "3213     1489   12.0    0.0    0.0  35.0  17341.0  Санкт-Петербург  smart   \n",
       "3214     1128   12.0    0.0    0.0   0.0      0.0         Волжский  ultra   \n",
       "3215     1371   12.0    0.0    0.0   0.0      0.0             Омск  smart   \n",
       "\n",
       "        gb  income  \n",
       "0      3.0  1950.0  \n",
       "1     23.0  1950.0  \n",
       "2     14.0  1950.0  \n",
       "3     14.0  1950.0  \n",
       "4     15.0  1950.0  \n",
       "...    ...     ...  \n",
       "3211  20.0   550.0  \n",
       "3212  18.0   550.0  \n",
       "3213  17.0   550.0  \n",
       "3214   0.0  1950.0  \n",
       "3215   0.0   550.0  \n",
       "\n",
       "[3216 rows x 10 columns]"
      ]
     },
     "execution_count": 87,
     "metadata": {},
     "output_type": "execute_result"
    }
   ],
   "source": [
    "abonents"
   ]
  },
  {
   "cell_type": "markdown",
   "metadata": {},
   "source": [
    "### Расчитаем общие показатели всех клиентов по месяцам по обоим тарифам"
   ]
  },
  {
   "cell_type": "code",
   "execution_count": 88,
   "metadata": {},
   "outputs": [
    {
     "name": "stderr",
     "output_type": "stream",
     "text": [
      "/tmp/ipykernel_93/2010642514.py:1: FutureWarning: Indexing with multiple keys (implicitly converted to a tuple of keys) will be deprecated, use a list instead.\n",
      "  all_clients_month = abonents.groupby(['tariff', 'month'])['min', 'mes', 'gb', 'income'].sum().reset_index()\n"
     ]
    },
    {
     "data": {
      "text/html": [
       "<div>\n",
       "<style scoped>\n",
       "    .dataframe tbody tr th:only-of-type {\n",
       "        vertical-align: middle;\n",
       "    }\n",
       "\n",
       "    .dataframe tbody tr th {\n",
       "        vertical-align: top;\n",
       "    }\n",
       "\n",
       "    .dataframe thead th {\n",
       "        text-align: right;\n",
       "    }\n",
       "</style>\n",
       "<table border=\"1\" class=\"dataframe\">\n",
       "  <thead>\n",
       "    <tr style=\"text-align: right;\">\n",
       "      <th></th>\n",
       "      <th>tariff</th>\n",
       "      <th>month</th>\n",
       "      <th>min</th>\n",
       "      <th>mes</th>\n",
       "      <th>gb</th>\n",
       "      <th>income</th>\n",
       "    </tr>\n",
       "  </thead>\n",
       "  <tbody>\n",
       "    <tr>\n",
       "      <th>0</th>\n",
       "      <td>smart</td>\n",
       "      <td>1.0</td>\n",
       "      <td>6931.0</td>\n",
       "      <td>620.0</td>\n",
       "      <td>297.0</td>\n",
       "      <td>18925.0</td>\n",
       "    </tr>\n",
       "    <tr>\n",
       "      <th>1</th>\n",
       "      <td>smart</td>\n",
       "      <td>2.0</td>\n",
       "      <td>17324.0</td>\n",
       "      <td>1397.0</td>\n",
       "      <td>687.0</td>\n",
       "      <td>34801.0</td>\n",
       "    </tr>\n",
       "    <tr>\n",
       "      <th>2</th>\n",
       "      <td>smart</td>\n",
       "      <td>3.0</td>\n",
       "      <td>30034.0</td>\n",
       "      <td>2453.0</td>\n",
       "      <td>1174.0</td>\n",
       "      <td>51476.0</td>\n",
       "    </tr>\n",
       "    <tr>\n",
       "      <th>3</th>\n",
       "      <td>smart</td>\n",
       "      <td>4.0</td>\n",
       "      <td>41119.0</td>\n",
       "      <td>3443.0</td>\n",
       "      <td>1528.0</td>\n",
       "      <td>71866.0</td>\n",
       "    </tr>\n",
       "    <tr>\n",
       "      <th>4</th>\n",
       "      <td>smart</td>\n",
       "      <td>5.0</td>\n",
       "      <td>54618.0</td>\n",
       "      <td>4762.0</td>\n",
       "      <td>2248.0</td>\n",
       "      <td>91449.0</td>\n",
       "    </tr>\n",
       "    <tr>\n",
       "      <th>5</th>\n",
       "      <td>smart</td>\n",
       "      <td>6.0</td>\n",
       "      <td>64885.0</td>\n",
       "      <td>5478.0</td>\n",
       "      <td>2621.0</td>\n",
       "      <td>107459.0</td>\n",
       "    </tr>\n",
       "    <tr>\n",
       "      <th>6</th>\n",
       "      <td>smart</td>\n",
       "      <td>7.0</td>\n",
       "      <td>82079.0</td>\n",
       "      <td>6784.0</td>\n",
       "      <td>3198.0</td>\n",
       "      <td>134814.0</td>\n",
       "    </tr>\n",
       "    <tr>\n",
       "      <th>7</th>\n",
       "      <td>smart</td>\n",
       "      <td>8.0</td>\n",
       "      <td>99045.0</td>\n",
       "      <td>7905.0</td>\n",
       "      <td>3944.0</td>\n",
       "      <td>162340.0</td>\n",
       "    </tr>\n",
       "    <tr>\n",
       "      <th>8</th>\n",
       "      <td>smart</td>\n",
       "      <td>9.0</td>\n",
       "      <td>111439.0</td>\n",
       "      <td>8746.0</td>\n",
       "      <td>4270.0</td>\n",
       "      <td>180986.0</td>\n",
       "    </tr>\n",
       "    <tr>\n",
       "      <th>9</th>\n",
       "      <td>smart</td>\n",
       "      <td>10.0</td>\n",
       "      <td>125284.0</td>\n",
       "      <td>9927.0</td>\n",
       "      <td>4972.0</td>\n",
       "      <td>206067.0</td>\n",
       "    </tr>\n",
       "    <tr>\n",
       "      <th>10</th>\n",
       "      <td>smart</td>\n",
       "      <td>11.0</td>\n",
       "      <td>137544.0</td>\n",
       "      <td>10768.0</td>\n",
       "      <td>5381.0</td>\n",
       "      <td>221203.0</td>\n",
       "    </tr>\n",
       "    <tr>\n",
       "      <th>11</th>\n",
       "      <td>smart</td>\n",
       "      <td>12.0</td>\n",
       "      <td>161275.0</td>\n",
       "      <td>12130.0</td>\n",
       "      <td>6145.0</td>\n",
       "      <td>262115.0</td>\n",
       "    </tr>\n",
       "    <tr>\n",
       "      <th>12</th>\n",
       "      <td>ultra</td>\n",
       "      <td>1.0</td>\n",
       "      <td>3853.0</td>\n",
       "      <td>304.0</td>\n",
       "      <td>120.0</td>\n",
       "      <td>17550.0</td>\n",
       "    </tr>\n",
       "    <tr>\n",
       "      <th>13</th>\n",
       "      <td>ultra</td>\n",
       "      <td>2.0</td>\n",
       "      <td>7131.0</td>\n",
       "      <td>527.0</td>\n",
       "      <td>288.0</td>\n",
       "      <td>46800.0</td>\n",
       "    </tr>\n",
       "    <tr>\n",
       "      <th>14</th>\n",
       "      <td>ultra</td>\n",
       "      <td>3.0</td>\n",
       "      <td>18117.0</td>\n",
       "      <td>1195.0</td>\n",
       "      <td>655.0</td>\n",
       "      <td>72150.0</td>\n",
       "    </tr>\n",
       "    <tr>\n",
       "      <th>15</th>\n",
       "      <td>ultra</td>\n",
       "      <td>4.0</td>\n",
       "      <td>25191.0</td>\n",
       "      <td>1736.0</td>\n",
       "      <td>935.0</td>\n",
       "      <td>107250.0</td>\n",
       "    </tr>\n",
       "    <tr>\n",
       "      <th>16</th>\n",
       "      <td>ultra</td>\n",
       "      <td>5.0</td>\n",
       "      <td>34192.0</td>\n",
       "      <td>2536.0</td>\n",
       "      <td>1302.0</td>\n",
       "      <td>130650.0</td>\n",
       "    </tr>\n",
       "    <tr>\n",
       "      <th>17</th>\n",
       "      <td>ultra</td>\n",
       "      <td>6.0</td>\n",
       "      <td>40295.0</td>\n",
       "      <td>3505.0</td>\n",
       "      <td>1593.0</td>\n",
       "      <td>163800.0</td>\n",
       "    </tr>\n",
       "    <tr>\n",
       "      <th>18</th>\n",
       "      <td>ultra</td>\n",
       "      <td>7.0</td>\n",
       "      <td>49667.0</td>\n",
       "      <td>4536.0</td>\n",
       "      <td>1869.0</td>\n",
       "      <td>177450.0</td>\n",
       "    </tr>\n",
       "    <tr>\n",
       "      <th>19</th>\n",
       "      <td>ultra</td>\n",
       "      <td>8.0</td>\n",
       "      <td>54653.0</td>\n",
       "      <td>5183.0</td>\n",
       "      <td>2101.0</td>\n",
       "      <td>208650.0</td>\n",
       "    </tr>\n",
       "    <tr>\n",
       "      <th>20</th>\n",
       "      <td>ultra</td>\n",
       "      <td>9.0</td>\n",
       "      <td>62036.0</td>\n",
       "      <td>6013.0</td>\n",
       "      <td>2214.0</td>\n",
       "      <td>224250.0</td>\n",
       "    </tr>\n",
       "    <tr>\n",
       "      <th>21</th>\n",
       "      <td>ultra</td>\n",
       "      <td>10.0</td>\n",
       "      <td>68644.0</td>\n",
       "      <td>7187.0</td>\n",
       "      <td>2471.0</td>\n",
       "      <td>239850.0</td>\n",
       "    </tr>\n",
       "    <tr>\n",
       "      <th>22</th>\n",
       "      <td>ultra</td>\n",
       "      <td>11.0</td>\n",
       "      <td>72545.0</td>\n",
       "      <td>7476.0</td>\n",
       "      <td>2657.0</td>\n",
       "      <td>261300.0</td>\n",
       "    </tr>\n",
       "    <tr>\n",
       "      <th>23</th>\n",
       "      <td>ultra</td>\n",
       "      <td>12.0</td>\n",
       "      <td>82400.0</td>\n",
       "      <td>8425.0</td>\n",
       "      <td>3028.0</td>\n",
       "      <td>273000.0</td>\n",
       "    </tr>\n",
       "  </tbody>\n",
       "</table>\n",
       "</div>"
      ],
      "text/plain": [
       "   tariff  month       min      mes      gb    income\n",
       "0   smart    1.0    6931.0    620.0   297.0   18925.0\n",
       "1   smart    2.0   17324.0   1397.0   687.0   34801.0\n",
       "2   smart    3.0   30034.0   2453.0  1174.0   51476.0\n",
       "3   smart    4.0   41119.0   3443.0  1528.0   71866.0\n",
       "4   smart    5.0   54618.0   4762.0  2248.0   91449.0\n",
       "5   smart    6.0   64885.0   5478.0  2621.0  107459.0\n",
       "6   smart    7.0   82079.0   6784.0  3198.0  134814.0\n",
       "7   smart    8.0   99045.0   7905.0  3944.0  162340.0\n",
       "8   smart    9.0  111439.0   8746.0  4270.0  180986.0\n",
       "9   smart   10.0  125284.0   9927.0  4972.0  206067.0\n",
       "10  smart   11.0  137544.0  10768.0  5381.0  221203.0\n",
       "11  smart   12.0  161275.0  12130.0  6145.0  262115.0\n",
       "12  ultra    1.0    3853.0    304.0   120.0   17550.0\n",
       "13  ultra    2.0    7131.0    527.0   288.0   46800.0\n",
       "14  ultra    3.0   18117.0   1195.0   655.0   72150.0\n",
       "15  ultra    4.0   25191.0   1736.0   935.0  107250.0\n",
       "16  ultra    5.0   34192.0   2536.0  1302.0  130650.0\n",
       "17  ultra    6.0   40295.0   3505.0  1593.0  163800.0\n",
       "18  ultra    7.0   49667.0   4536.0  1869.0  177450.0\n",
       "19  ultra    8.0   54653.0   5183.0  2101.0  208650.0\n",
       "20  ultra    9.0   62036.0   6013.0  2214.0  224250.0\n",
       "21  ultra   10.0   68644.0   7187.0  2471.0  239850.0\n",
       "22  ultra   11.0   72545.0   7476.0  2657.0  261300.0\n",
       "23  ultra   12.0   82400.0   8425.0  3028.0  273000.0"
      ]
     },
     "metadata": {},
     "output_type": "display_data"
    }
   ],
   "source": [
    "all_clients_month = abonents.groupby(['tariff', 'month'])['min', 'mes', 'gb', 'income'].sum().reset_index()\n",
    "display(all_clients_month)"
   ]
  },
  {
   "cell_type": "code",
   "execution_count": 89,
   "metadata": {},
   "outputs": [],
   "source": [
    "# для наглядности разобьем all_clients_month на 2 таблице по тарифу\n",
    "smart_all_clients_month = all_clients_month.query(' tariff==\"smart\" ')\n",
    "ultra_all_clients_month = all_clients_month.query(' tariff==\"ultra\" ').reset_index(drop=True)"
   ]
  },
  {
   "cell_type": "code",
   "execution_count": 90,
   "metadata": {},
   "outputs": [
    {
     "data": {
      "text/html": [
       "<div>\n",
       "<style scoped>\n",
       "    .dataframe tbody tr th:only-of-type {\n",
       "        vertical-align: middle;\n",
       "    }\n",
       "\n",
       "    .dataframe tbody tr th {\n",
       "        vertical-align: top;\n",
       "    }\n",
       "\n",
       "    .dataframe thead th {\n",
       "        text-align: right;\n",
       "    }\n",
       "</style>\n",
       "<table border=\"1\" class=\"dataframe\">\n",
       "  <thead>\n",
       "    <tr style=\"text-align: right;\">\n",
       "      <th></th>\n",
       "      <th>tariff</th>\n",
       "      <th>month</th>\n",
       "      <th>min</th>\n",
       "      <th>mes</th>\n",
       "      <th>gb</th>\n",
       "      <th>income</th>\n",
       "    </tr>\n",
       "  </thead>\n",
       "  <tbody>\n",
       "    <tr>\n",
       "      <th>0</th>\n",
       "      <td>smart</td>\n",
       "      <td>1.0</td>\n",
       "      <td>6931.0</td>\n",
       "      <td>620.0</td>\n",
       "      <td>297.0</td>\n",
       "      <td>18925.0</td>\n",
       "    </tr>\n",
       "    <tr>\n",
       "      <th>1</th>\n",
       "      <td>smart</td>\n",
       "      <td>2.0</td>\n",
       "      <td>17324.0</td>\n",
       "      <td>1397.0</td>\n",
       "      <td>687.0</td>\n",
       "      <td>34801.0</td>\n",
       "    </tr>\n",
       "    <tr>\n",
       "      <th>2</th>\n",
       "      <td>smart</td>\n",
       "      <td>3.0</td>\n",
       "      <td>30034.0</td>\n",
       "      <td>2453.0</td>\n",
       "      <td>1174.0</td>\n",
       "      <td>51476.0</td>\n",
       "    </tr>\n",
       "    <tr>\n",
       "      <th>3</th>\n",
       "      <td>smart</td>\n",
       "      <td>4.0</td>\n",
       "      <td>41119.0</td>\n",
       "      <td>3443.0</td>\n",
       "      <td>1528.0</td>\n",
       "      <td>71866.0</td>\n",
       "    </tr>\n",
       "    <tr>\n",
       "      <th>4</th>\n",
       "      <td>smart</td>\n",
       "      <td>5.0</td>\n",
       "      <td>54618.0</td>\n",
       "      <td>4762.0</td>\n",
       "      <td>2248.0</td>\n",
       "      <td>91449.0</td>\n",
       "    </tr>\n",
       "    <tr>\n",
       "      <th>5</th>\n",
       "      <td>smart</td>\n",
       "      <td>6.0</td>\n",
       "      <td>64885.0</td>\n",
       "      <td>5478.0</td>\n",
       "      <td>2621.0</td>\n",
       "      <td>107459.0</td>\n",
       "    </tr>\n",
       "    <tr>\n",
       "      <th>6</th>\n",
       "      <td>smart</td>\n",
       "      <td>7.0</td>\n",
       "      <td>82079.0</td>\n",
       "      <td>6784.0</td>\n",
       "      <td>3198.0</td>\n",
       "      <td>134814.0</td>\n",
       "    </tr>\n",
       "    <tr>\n",
       "      <th>7</th>\n",
       "      <td>smart</td>\n",
       "      <td>8.0</td>\n",
       "      <td>99045.0</td>\n",
       "      <td>7905.0</td>\n",
       "      <td>3944.0</td>\n",
       "      <td>162340.0</td>\n",
       "    </tr>\n",
       "    <tr>\n",
       "      <th>8</th>\n",
       "      <td>smart</td>\n",
       "      <td>9.0</td>\n",
       "      <td>111439.0</td>\n",
       "      <td>8746.0</td>\n",
       "      <td>4270.0</td>\n",
       "      <td>180986.0</td>\n",
       "    </tr>\n",
       "    <tr>\n",
       "      <th>9</th>\n",
       "      <td>smart</td>\n",
       "      <td>10.0</td>\n",
       "      <td>125284.0</td>\n",
       "      <td>9927.0</td>\n",
       "      <td>4972.0</td>\n",
       "      <td>206067.0</td>\n",
       "    </tr>\n",
       "    <tr>\n",
       "      <th>10</th>\n",
       "      <td>smart</td>\n",
       "      <td>11.0</td>\n",
       "      <td>137544.0</td>\n",
       "      <td>10768.0</td>\n",
       "      <td>5381.0</td>\n",
       "      <td>221203.0</td>\n",
       "    </tr>\n",
       "    <tr>\n",
       "      <th>11</th>\n",
       "      <td>smart</td>\n",
       "      <td>12.0</td>\n",
       "      <td>161275.0</td>\n",
       "      <td>12130.0</td>\n",
       "      <td>6145.0</td>\n",
       "      <td>262115.0</td>\n",
       "    </tr>\n",
       "  </tbody>\n",
       "</table>\n",
       "</div>"
      ],
      "text/plain": [
       "   tariff  month       min      mes      gb    income\n",
       "0   smart    1.0    6931.0    620.0   297.0   18925.0\n",
       "1   smart    2.0   17324.0   1397.0   687.0   34801.0\n",
       "2   smart    3.0   30034.0   2453.0  1174.0   51476.0\n",
       "3   smart    4.0   41119.0   3443.0  1528.0   71866.0\n",
       "4   smart    5.0   54618.0   4762.0  2248.0   91449.0\n",
       "5   smart    6.0   64885.0   5478.0  2621.0  107459.0\n",
       "6   smart    7.0   82079.0   6784.0  3198.0  134814.0\n",
       "7   smart    8.0   99045.0   7905.0  3944.0  162340.0\n",
       "8   smart    9.0  111439.0   8746.0  4270.0  180986.0\n",
       "9   smart   10.0  125284.0   9927.0  4972.0  206067.0\n",
       "10  smart   11.0  137544.0  10768.0  5381.0  221203.0\n",
       "11  smart   12.0  161275.0  12130.0  6145.0  262115.0"
      ]
     },
     "execution_count": 90,
     "metadata": {},
     "output_type": "execute_result"
    }
   ],
   "source": [
    "smart_all_clients_month"
   ]
  },
  {
   "cell_type": "code",
   "execution_count": 91,
   "metadata": {},
   "outputs": [
    {
     "data": {
      "text/html": [
       "<div>\n",
       "<style scoped>\n",
       "    .dataframe tbody tr th:only-of-type {\n",
       "        vertical-align: middle;\n",
       "    }\n",
       "\n",
       "    .dataframe tbody tr th {\n",
       "        vertical-align: top;\n",
       "    }\n",
       "\n",
       "    .dataframe thead th {\n",
       "        text-align: right;\n",
       "    }\n",
       "</style>\n",
       "<table border=\"1\" class=\"dataframe\">\n",
       "  <thead>\n",
       "    <tr style=\"text-align: right;\">\n",
       "      <th></th>\n",
       "      <th>tariff</th>\n",
       "      <th>month</th>\n",
       "      <th>min</th>\n",
       "      <th>mes</th>\n",
       "      <th>gb</th>\n",
       "      <th>income</th>\n",
       "    </tr>\n",
       "  </thead>\n",
       "  <tbody>\n",
       "    <tr>\n",
       "      <th>0</th>\n",
       "      <td>ultra</td>\n",
       "      <td>1.0</td>\n",
       "      <td>3853.0</td>\n",
       "      <td>304.0</td>\n",
       "      <td>120.0</td>\n",
       "      <td>17550.0</td>\n",
       "    </tr>\n",
       "    <tr>\n",
       "      <th>1</th>\n",
       "      <td>ultra</td>\n",
       "      <td>2.0</td>\n",
       "      <td>7131.0</td>\n",
       "      <td>527.0</td>\n",
       "      <td>288.0</td>\n",
       "      <td>46800.0</td>\n",
       "    </tr>\n",
       "    <tr>\n",
       "      <th>2</th>\n",
       "      <td>ultra</td>\n",
       "      <td>3.0</td>\n",
       "      <td>18117.0</td>\n",
       "      <td>1195.0</td>\n",
       "      <td>655.0</td>\n",
       "      <td>72150.0</td>\n",
       "    </tr>\n",
       "    <tr>\n",
       "      <th>3</th>\n",
       "      <td>ultra</td>\n",
       "      <td>4.0</td>\n",
       "      <td>25191.0</td>\n",
       "      <td>1736.0</td>\n",
       "      <td>935.0</td>\n",
       "      <td>107250.0</td>\n",
       "    </tr>\n",
       "    <tr>\n",
       "      <th>4</th>\n",
       "      <td>ultra</td>\n",
       "      <td>5.0</td>\n",
       "      <td>34192.0</td>\n",
       "      <td>2536.0</td>\n",
       "      <td>1302.0</td>\n",
       "      <td>130650.0</td>\n",
       "    </tr>\n",
       "    <tr>\n",
       "      <th>5</th>\n",
       "      <td>ultra</td>\n",
       "      <td>6.0</td>\n",
       "      <td>40295.0</td>\n",
       "      <td>3505.0</td>\n",
       "      <td>1593.0</td>\n",
       "      <td>163800.0</td>\n",
       "    </tr>\n",
       "    <tr>\n",
       "      <th>6</th>\n",
       "      <td>ultra</td>\n",
       "      <td>7.0</td>\n",
       "      <td>49667.0</td>\n",
       "      <td>4536.0</td>\n",
       "      <td>1869.0</td>\n",
       "      <td>177450.0</td>\n",
       "    </tr>\n",
       "    <tr>\n",
       "      <th>7</th>\n",
       "      <td>ultra</td>\n",
       "      <td>8.0</td>\n",
       "      <td>54653.0</td>\n",
       "      <td>5183.0</td>\n",
       "      <td>2101.0</td>\n",
       "      <td>208650.0</td>\n",
       "    </tr>\n",
       "    <tr>\n",
       "      <th>8</th>\n",
       "      <td>ultra</td>\n",
       "      <td>9.0</td>\n",
       "      <td>62036.0</td>\n",
       "      <td>6013.0</td>\n",
       "      <td>2214.0</td>\n",
       "      <td>224250.0</td>\n",
       "    </tr>\n",
       "    <tr>\n",
       "      <th>9</th>\n",
       "      <td>ultra</td>\n",
       "      <td>10.0</td>\n",
       "      <td>68644.0</td>\n",
       "      <td>7187.0</td>\n",
       "      <td>2471.0</td>\n",
       "      <td>239850.0</td>\n",
       "    </tr>\n",
       "    <tr>\n",
       "      <th>10</th>\n",
       "      <td>ultra</td>\n",
       "      <td>11.0</td>\n",
       "      <td>72545.0</td>\n",
       "      <td>7476.0</td>\n",
       "      <td>2657.0</td>\n",
       "      <td>261300.0</td>\n",
       "    </tr>\n",
       "    <tr>\n",
       "      <th>11</th>\n",
       "      <td>ultra</td>\n",
       "      <td>12.0</td>\n",
       "      <td>82400.0</td>\n",
       "      <td>8425.0</td>\n",
       "      <td>3028.0</td>\n",
       "      <td>273000.0</td>\n",
       "    </tr>\n",
       "  </tbody>\n",
       "</table>\n",
       "</div>"
      ],
      "text/plain": [
       "   tariff  month      min     mes      gb    income\n",
       "0   ultra    1.0   3853.0   304.0   120.0   17550.0\n",
       "1   ultra    2.0   7131.0   527.0   288.0   46800.0\n",
       "2   ultra    3.0  18117.0  1195.0   655.0   72150.0\n",
       "3   ultra    4.0  25191.0  1736.0   935.0  107250.0\n",
       "4   ultra    5.0  34192.0  2536.0  1302.0  130650.0\n",
       "5   ultra    6.0  40295.0  3505.0  1593.0  163800.0\n",
       "6   ultra    7.0  49667.0  4536.0  1869.0  177450.0\n",
       "7   ultra    8.0  54653.0  5183.0  2101.0  208650.0\n",
       "8   ultra    9.0  62036.0  6013.0  2214.0  224250.0\n",
       "9   ultra   10.0  68644.0  7187.0  2471.0  239850.0\n",
       "10  ultra   11.0  72545.0  7476.0  2657.0  261300.0\n",
       "11  ultra   12.0  82400.0  8425.0  3028.0  273000.0"
      ]
     },
     "execution_count": 91,
     "metadata": {},
     "output_type": "execute_result"
    }
   ],
   "source": [
    "ultra_all_clients_month"
   ]
  },
  {
   "cell_type": "code",
   "execution_count": 92,
   "metadata": {},
   "outputs": [
    {
     "data": {
      "image/png": "[encoded data removed]",
      "text/plain": [
       "<Figure size 864x360 with 1 Axes>"
      ]
     },
     "metadata": {
      "needs_background": "light"
     },
     "output_type": "display_data"
    },
    {
     "data": {
      "image/png": "[encoded data removed]",
      "text/plain": [
       "<Figure size 864x360 with 1 Axes>"
      ]
     },
     "metadata": {
      "needs_background": "light"
     },
     "output_type": "display_data"
    },
    {
     "data": {
      "image/png": "[encoded data removed]",
      "text/plain": [
       "<Figure size 864x360 with 1 Axes>"
      ]
     },
     "metadata": {
      "needs_background": "light"
     },
     "output_type": "display_data"
    },
    {
     "data": {
      "image/png": "[encoded data removed]",
      "text/plain": [
       "<Figure size 864x360 with 1 Axes>"
      ]
     },
     "metadata": {
      "needs_background": "light"
     },
     "output_type": "display_data"
    }
   ],
   "source": [
    "for param in ['min', 'mes', 'gb','income']:\n",
    "    plt.figure(figsize=(12, 5))\n",
    "    plt.bar(smart_all_clients_month['month'], smart_all_clients_month[param], label='smart', color='g', alpha=0.5, width=0.5)\n",
    "    plt.bar(ultra_all_clients_month['month'], ultra_all_clients_month[param], label='ultra', color='y', alpha=0.5)\n",
    "\n",
    "    plt.xlabel('month')\n",
    "    plt.ylabel(param)\n",
    "    plt.grid()\n",
    "    plt.title(f'Кол-во {param} всех клиентов по месяцам для 2 тарифов')\n",
    "    plt.legend()\n",
    "    plt.show();"
   ]
  },
  {
   "cell_type": "markdown",
   "metadata": {},
   "source": [
    "Посмотрим сколько абонентов у каждого тарифа."
   ]
  },
  {
   "cell_type": "code",
   "execution_count": 93,
   "metadata": {},
   "outputs": [
    {
     "data": {
      "text/plain": [
       "smart    351\n",
       "ultra    149\n",
       "Name: tariff, dtype: int64"
      ]
     },
     "execution_count": 93,
     "metadata": {},
     "output_type": "execute_result"
    }
   ],
   "source": [
    "users.tariff.value_counts()"
   ]
  },
  {
   "cell_type": "markdown",
   "metadata": {},
   "source": [
    "**Вывод:** Из графиков видно, что общий расход лимитов у абонентов тарифа 'smart' стабильно больше чем 'ultra' на 40-90%, но и абонентов 'smart' в 2 с лишним раза больше, чем у 'ultra'. \n",
    "\\\n",
    "\\\n",
    "По выручке income надо отметить что : в первой половине года абоненты обоих тарифов приносят почти одинаковые суммы, а во второй - абоненты smart с каждым месяцем приносят выручки все больше и больше вплоть до декабря, где выручка уже почти в 2 раза больше, чем от тарифа ultra. \n",
    "\\\n",
    "\\\n",
    "По всем графикам видно, что гистограммы постоянно возрастают от меcяца к месяцу (и это делает анализ затруднительным) - это показывает новый приток абонентов каждый месяц. Поэтому логично будет посчитать усредненные показатели расхода на одного абонента за каждый месяц и уже тогда сравнить тарифы."
   ]
  },
  {
   "cell_type": "markdown",
   "metadata": {},
   "source": [
    "Общие показатели по месяцу для всех клиентов сохранены в таблицах: \\\n",
    "ultra_all_clients_month - ***тариф Ультра*** \\\n",
    "smart_all_clients_month - ***тариф Смарт***"
   ]
  },
  {
   "cell_type": "markdown",
   "metadata": {},
   "source": [
    "### Расчитаем средние (медианные) показатели клиента по месяцам по обоим тарифам"
   ]
  },
  {
   "cell_type": "code",
   "execution_count": 94,
   "metadata": {},
   "outputs": [
    {
     "data": {
      "text/html": [
       "<div>\n",
       "<style scoped>\n",
       "    .dataframe tbody tr th:only-of-type {\n",
       "        vertical-align: middle;\n",
       "    }\n",
       "\n",
       "    .dataframe tbody tr th {\n",
       "        vertical-align: top;\n",
       "    }\n",
       "\n",
       "    .dataframe thead th {\n",
       "        text-align: right;\n",
       "    }\n",
       "</style>\n",
       "<table border=\"1\" class=\"dataframe\">\n",
       "  <thead>\n",
       "    <tr style=\"text-align: right;\">\n",
       "      <th></th>\n",
       "      <th>min</th>\n",
       "      <th>mes</th>\n",
       "      <th>gb</th>\n",
       "      <th>income</th>\n",
       "    </tr>\n",
       "  </thead>\n",
       "  <tbody>\n",
       "    <tr>\n",
       "      <th>count</th>\n",
       "      <td>3216.000000</td>\n",
       "      <td>3216.000000</td>\n",
       "      <td>3216.000000</td>\n",
       "      <td>3216.000000</td>\n",
       "    </tr>\n",
       "    <tr>\n",
       "      <th>mean</th>\n",
       "      <td>450.964241</td>\n",
       "      <td>38.257463</td>\n",
       "      <td>17.319030</td>\n",
       "      <td>1077.798818</td>\n",
       "    </tr>\n",
       "    <tr>\n",
       "      <th>std</th>\n",
       "      <td>242.096312</td>\n",
       "      <td>36.149684</td>\n",
       "      <td>7.422145</td>\n",
       "      <td>619.424555</td>\n",
       "    </tr>\n",
       "    <tr>\n",
       "      <th>min</th>\n",
       "      <td>0.000000</td>\n",
       "      <td>0.000000</td>\n",
       "      <td>0.000000</td>\n",
       "      <td>550.000000</td>\n",
       "    </tr>\n",
       "    <tr>\n",
       "      <th>25%</th>\n",
       "      <td>282.000000</td>\n",
       "      <td>9.000000</td>\n",
       "      <td>13.000000</td>\n",
       "      <td>550.000000</td>\n",
       "    </tr>\n",
       "    <tr>\n",
       "      <th>50%</th>\n",
       "      <td>443.000000</td>\n",
       "      <td>30.000000</td>\n",
       "      <td>17.000000</td>\n",
       "      <td>688.000000</td>\n",
       "    </tr>\n",
       "    <tr>\n",
       "      <th>75%</th>\n",
       "      <td>589.000000</td>\n",
       "      <td>57.000000</td>\n",
       "      <td>21.000000</td>\n",
       "      <td>1950.000000</td>\n",
       "    </tr>\n",
       "    <tr>\n",
       "      <th>max</th>\n",
       "      <td>1673.000000</td>\n",
       "      <td>224.000000</td>\n",
       "      <td>49.000000</td>\n",
       "      <td>3397.000000</td>\n",
       "    </tr>\n",
       "  </tbody>\n",
       "</table>\n",
       "</div>"
      ],
      "text/plain": [
       "               min          mes           gb       income\n",
       "count  3216.000000  3216.000000  3216.000000  3216.000000\n",
       "mean    450.964241    38.257463    17.319030  1077.798818\n",
       "std     242.096312    36.149684     7.422145   619.424555\n",
       "min       0.000000     0.000000     0.000000   550.000000\n",
       "25%     282.000000     9.000000    13.000000   550.000000\n",
       "50%     443.000000    30.000000    17.000000   688.000000\n",
       "75%     589.000000    57.000000    21.000000  1950.000000\n",
       "max    1673.000000   224.000000    49.000000  3397.000000"
      ]
     },
     "execution_count": 94,
     "metadata": {},
     "output_type": "execute_result"
    }
   ],
   "source": [
    "abonents[['min', 'mes', 'gb','income']].describe()"
   ]
  },
  {
   "cell_type": "code",
   "execution_count": 95,
   "metadata": {},
   "outputs": [
    {
     "data": {
      "image/png": "[encoded data removed]",
      "text/plain": [
       "<Figure size 1152x576 with 4 Axes>"
      ]
     },
     "metadata": {
      "needs_background": "light"
     },
     "output_type": "display_data"
    }
   ],
   "source": [
    "fig, (ax1, ax2, ax3, ax4) = plt.subplots(nrows=1, ncols=4, figsize=(16, 8))\n",
    "\n",
    "p = {ax1:'min', ax2:'mes', ax3:'gb', ax4:'income'}\n",
    "for ax in [ax1, ax2, ax3, ax4]:\n",
    "    ax.boxplot(abonents[p[ax]])\n",
    "    ax.grid()\n",
    "    ax.set_title(p[ax])\n",
    "\n",
    "fig.autofmt_xdate()"
   ]
  },
  {
   "cell_type": "markdown",
   "metadata": {},
   "source": [
    "Сильных выбросов нет, вполне адекватные числа, поэтому для вычисления усредненных значений можно использовать и среднее и медиану. Выберем медиану."
   ]
  },
  {
   "cell_type": "markdown",
   "metadata": {},
   "source": [
    "Сгруппируем и создадим новую таблицу tar - с общими данными по тарифам."
   ]
  },
  {
   "cell_type": "code",
   "execution_count": 96,
   "metadata": {},
   "outputs": [
    {
     "name": "stderr",
     "output_type": "stream",
     "text": [
      "/tmp/ipykernel_93/2794259517.py:1: FutureWarning: Indexing with multiple keys (implicitly converted to a tuple of keys) will be deprecated, use a list instead.\n",
      "  tar = abonents.groupby(['tariff', 'month'])['min', 'mes', 'gb','income'].mean().reset_index()\n"
     ]
    },
    {
     "data": {
      "text/html": [
       "<div>\n",
       "<style scoped>\n",
       "    .dataframe tbody tr th:only-of-type {\n",
       "        vertical-align: middle;\n",
       "    }\n",
       "\n",
       "    .dataframe tbody tr th {\n",
       "        vertical-align: top;\n",
       "    }\n",
       "\n",
       "    .dataframe thead th {\n",
       "        text-align: right;\n",
       "    }\n",
       "</style>\n",
       "<table border=\"1\" class=\"dataframe\">\n",
       "  <thead>\n",
       "    <tr style=\"text-align: right;\">\n",
       "      <th></th>\n",
       "      <th>tariff</th>\n",
       "      <th>month</th>\n",
       "      <th>min</th>\n",
       "      <th>mes</th>\n",
       "      <th>gb</th>\n",
       "      <th>income</th>\n",
       "    </tr>\n",
       "  </thead>\n",
       "  <tbody>\n",
       "    <tr>\n",
       "      <th>0</th>\n",
       "      <td>smart</td>\n",
       "      <td>1.0</td>\n",
       "      <td>203.852941</td>\n",
       "      <td>18.235294</td>\n",
       "      <td>8.735294</td>\n",
       "      <td>556.617647</td>\n",
       "    </tr>\n",
       "    <tr>\n",
       "      <th>1</th>\n",
       "      <td>smart</td>\n",
       "      <td>2.0</td>\n",
       "      <td>298.689655</td>\n",
       "      <td>24.086207</td>\n",
       "      <td>11.844828</td>\n",
       "      <td>600.017241</td>\n",
       "    </tr>\n",
       "    <tr>\n",
       "      <th>2</th>\n",
       "      <td>smart</td>\n",
       "      <td>3.0</td>\n",
       "      <td>390.051948</td>\n",
       "      <td>31.857143</td>\n",
       "      <td>15.246753</td>\n",
       "      <td>668.519481</td>\n",
       "    </tr>\n",
       "    <tr>\n",
       "      <th>3</th>\n",
       "      <td>smart</td>\n",
       "      <td>4.0</td>\n",
       "      <td>367.133929</td>\n",
       "      <td>30.741071</td>\n",
       "      <td>13.642857</td>\n",
       "      <td>641.660714</td>\n",
       "    </tr>\n",
       "    <tr>\n",
       "      <th>4</th>\n",
       "      <td>smart</td>\n",
       "      <td>5.0</td>\n",
       "      <td>387.361702</td>\n",
       "      <td>33.773050</td>\n",
       "      <td>15.943262</td>\n",
       "      <td>648.574468</td>\n",
       "    </tr>\n",
       "    <tr>\n",
       "      <th>5</th>\n",
       "      <td>smart</td>\n",
       "      <td>6.0</td>\n",
       "      <td>395.640244</td>\n",
       "      <td>33.402439</td>\n",
       "      <td>15.981707</td>\n",
       "      <td>655.237805</td>\n",
       "    </tr>\n",
       "    <tr>\n",
       "      <th>6</th>\n",
       "      <td>smart</td>\n",
       "      <td>7.0</td>\n",
       "      <td>408.353234</td>\n",
       "      <td>33.751244</td>\n",
       "      <td>15.910448</td>\n",
       "      <td>670.716418</td>\n",
       "    </tr>\n",
       "    <tr>\n",
       "      <th>7</th>\n",
       "      <td>smart</td>\n",
       "      <td>8.0</td>\n",
       "      <td>421.468085</td>\n",
       "      <td>33.638298</td>\n",
       "      <td>16.782979</td>\n",
       "      <td>690.808511</td>\n",
       "    </tr>\n",
       "    <tr>\n",
       "      <th>8</th>\n",
       "      <td>smart</td>\n",
       "      <td>9.0</td>\n",
       "      <td>428.611538</td>\n",
       "      <td>33.638462</td>\n",
       "      <td>16.423077</td>\n",
       "      <td>696.100000</td>\n",
       "    </tr>\n",
       "    <tr>\n",
       "      <th>9</th>\n",
       "      <td>smart</td>\n",
       "      <td>10.0</td>\n",
       "      <td>426.136054</td>\n",
       "      <td>33.765306</td>\n",
       "      <td>16.911565</td>\n",
       "      <td>700.908163</td>\n",
       "    </tr>\n",
       "    <tr>\n",
       "      <th>10</th>\n",
       "      <td>smart</td>\n",
       "      <td>11.0</td>\n",
       "      <td>435.265823</td>\n",
       "      <td>34.075949</td>\n",
       "      <td>17.028481</td>\n",
       "      <td>700.009494</td>\n",
       "    </tr>\n",
       "    <tr>\n",
       "      <th>11</th>\n",
       "      <td>smart</td>\n",
       "      <td>12.0</td>\n",
       "      <td>477.144970</td>\n",
       "      <td>35.887574</td>\n",
       "      <td>18.180473</td>\n",
       "      <td>775.488166</td>\n",
       "    </tr>\n",
       "    <tr>\n",
       "      <th>12</th>\n",
       "      <td>ultra</td>\n",
       "      <td>1.0</td>\n",
       "      <td>428.111111</td>\n",
       "      <td>33.777778</td>\n",
       "      <td>13.333333</td>\n",
       "      <td>1950.000000</td>\n",
       "    </tr>\n",
       "    <tr>\n",
       "      <th>13</th>\n",
       "      <td>ultra</td>\n",
       "      <td>2.0</td>\n",
       "      <td>297.125000</td>\n",
       "      <td>21.958333</td>\n",
       "      <td>12.000000</td>\n",
       "      <td>1950.000000</td>\n",
       "    </tr>\n",
       "    <tr>\n",
       "      <th>14</th>\n",
       "      <td>ultra</td>\n",
       "      <td>3.0</td>\n",
       "      <td>489.648649</td>\n",
       "      <td>32.297297</td>\n",
       "      <td>17.702703</td>\n",
       "      <td>1950.000000</td>\n",
       "    </tr>\n",
       "    <tr>\n",
       "      <th>15</th>\n",
       "      <td>ultra</td>\n",
       "      <td>4.0</td>\n",
       "      <td>458.018182</td>\n",
       "      <td>31.563636</td>\n",
       "      <td>17.000000</td>\n",
       "      <td>1950.000000</td>\n",
       "    </tr>\n",
       "    <tr>\n",
       "      <th>16</th>\n",
       "      <td>ultra</td>\n",
       "      <td>5.0</td>\n",
       "      <td>510.328358</td>\n",
       "      <td>37.850746</td>\n",
       "      <td>19.432836</td>\n",
       "      <td>1950.000000</td>\n",
       "    </tr>\n",
       "    <tr>\n",
       "      <th>17</th>\n",
       "      <td>ultra</td>\n",
       "      <td>6.0</td>\n",
       "      <td>479.702381</td>\n",
       "      <td>41.726190</td>\n",
       "      <td>18.964286</td>\n",
       "      <td>1950.000000</td>\n",
       "    </tr>\n",
       "    <tr>\n",
       "      <th>18</th>\n",
       "      <td>ultra</td>\n",
       "      <td>7.0</td>\n",
       "      <td>545.791209</td>\n",
       "      <td>49.846154</td>\n",
       "      <td>20.538462</td>\n",
       "      <td>1950.000000</td>\n",
       "    </tr>\n",
       "    <tr>\n",
       "      <th>19</th>\n",
       "      <td>ultra</td>\n",
       "      <td>8.0</td>\n",
       "      <td>510.775701</td>\n",
       "      <td>48.439252</td>\n",
       "      <td>19.635514</td>\n",
       "      <td>1950.000000</td>\n",
       "    </tr>\n",
       "    <tr>\n",
       "      <th>20</th>\n",
       "      <td>ultra</td>\n",
       "      <td>9.0</td>\n",
       "      <td>539.443478</td>\n",
       "      <td>52.286957</td>\n",
       "      <td>19.252174</td>\n",
       "      <td>1950.000000</td>\n",
       "    </tr>\n",
       "    <tr>\n",
       "      <th>21</th>\n",
       "      <td>ultra</td>\n",
       "      <td>10.0</td>\n",
       "      <td>558.081301</td>\n",
       "      <td>58.430894</td>\n",
       "      <td>20.089431</td>\n",
       "      <td>1950.000000</td>\n",
       "    </tr>\n",
       "    <tr>\n",
       "      <th>22</th>\n",
       "      <td>ultra</td>\n",
       "      <td>11.0</td>\n",
       "      <td>541.380597</td>\n",
       "      <td>55.791045</td>\n",
       "      <td>19.828358</td>\n",
       "      <td>1950.000000</td>\n",
       "    </tr>\n",
       "    <tr>\n",
       "      <th>23</th>\n",
       "      <td>ultra</td>\n",
       "      <td>12.0</td>\n",
       "      <td>588.571429</td>\n",
       "      <td>60.178571</td>\n",
       "      <td>21.628571</td>\n",
       "      <td>1950.000000</td>\n",
       "    </tr>\n",
       "  </tbody>\n",
       "</table>\n",
       "</div>"
      ],
      "text/plain": [
       "   tariff  month         min        mes         gb       income\n",
       "0   smart    1.0  203.852941  18.235294   8.735294   556.617647\n",
       "1   smart    2.0  298.689655  24.086207  11.844828   600.017241\n",
       "2   smart    3.0  390.051948  31.857143  15.246753   668.519481\n",
       "3   smart    4.0  367.133929  30.741071  13.642857   641.660714\n",
       "4   smart    5.0  387.361702  33.773050  15.943262   648.574468\n",
       "5   smart    6.0  395.640244  33.402439  15.981707   655.237805\n",
       "6   smart    7.0  408.353234  33.751244  15.910448   670.716418\n",
       "7   smart    8.0  421.468085  33.638298  16.782979   690.808511\n",
       "8   smart    9.0  428.611538  33.638462  16.423077   696.100000\n",
       "9   smart   10.0  426.136054  33.765306  16.911565   700.908163\n",
       "10  smart   11.0  435.265823  34.075949  17.028481   700.009494\n",
       "11  smart   12.0  477.144970  35.887574  18.180473   775.488166\n",
       "12  ultra    1.0  428.111111  33.777778  13.333333  1950.000000\n",
       "13  ultra    2.0  297.125000  21.958333  12.000000  1950.000000\n",
       "14  ultra    3.0  489.648649  32.297297  17.702703  1950.000000\n",
       "15  ultra    4.0  458.018182  31.563636  17.000000  1950.000000\n",
       "16  ultra    5.0  510.328358  37.850746  19.432836  1950.000000\n",
       "17  ultra    6.0  479.702381  41.726190  18.964286  1950.000000\n",
       "18  ultra    7.0  545.791209  49.846154  20.538462  1950.000000\n",
       "19  ultra    8.0  510.775701  48.439252  19.635514  1950.000000\n",
       "20  ultra    9.0  539.443478  52.286957  19.252174  1950.000000\n",
       "21  ultra   10.0  558.081301  58.430894  20.089431  1950.000000\n",
       "22  ultra   11.0  541.380597  55.791045  19.828358  1950.000000\n",
       "23  ultra   12.0  588.571429  60.178571  21.628571  1950.000000"
      ]
     },
     "execution_count": 96,
     "metadata": {},
     "output_type": "execute_result"
    }
   ],
   "source": [
    "tar = abonents.groupby(['tariff', 'month'])['min', 'mes', 'gb','income'].mean().reset_index()\n",
    "tar"
   ]
  },
  {
   "cell_type": "markdown",
   "metadata": {},
   "source": [
    "Теперь разделим новую таблицу на две smart и ultra - по каждому тарифу."
   ]
  },
  {
   "cell_type": "code",
   "execution_count": 97,
   "metadata": {},
   "outputs": [],
   "source": [
    "smart = tar.query('tariff==\"smart\" ')\n",
    "ultra = tar.query('tariff==\"ultra\" ')"
   ]
  },
  {
   "cell_type": "code",
   "execution_count": 98,
   "metadata": {},
   "outputs": [
    {
     "data": {
      "text/html": [
       "<div>\n",
       "<style scoped>\n",
       "    .dataframe tbody tr th:only-of-type {\n",
       "        vertical-align: middle;\n",
       "    }\n",
       "\n",
       "    .dataframe tbody tr th {\n",
       "        vertical-align: top;\n",
       "    }\n",
       "\n",
       "    .dataframe thead th {\n",
       "        text-align: right;\n",
       "    }\n",
       "</style>\n",
       "<table border=\"1\" class=\"dataframe\">\n",
       "  <thead>\n",
       "    <tr style=\"text-align: right;\">\n",
       "      <th></th>\n",
       "      <th>tariff</th>\n",
       "      <th>month</th>\n",
       "      <th>min</th>\n",
       "      <th>mes</th>\n",
       "      <th>gb</th>\n",
       "      <th>income</th>\n",
       "    </tr>\n",
       "  </thead>\n",
       "  <tbody>\n",
       "    <tr>\n",
       "      <th>0</th>\n",
       "      <td>smart</td>\n",
       "      <td>1.0</td>\n",
       "      <td>203.852941</td>\n",
       "      <td>18.235294</td>\n",
       "      <td>8.735294</td>\n",
       "      <td>556.617647</td>\n",
       "    </tr>\n",
       "    <tr>\n",
       "      <th>1</th>\n",
       "      <td>smart</td>\n",
       "      <td>2.0</td>\n",
       "      <td>298.689655</td>\n",
       "      <td>24.086207</td>\n",
       "      <td>11.844828</td>\n",
       "      <td>600.017241</td>\n",
       "    </tr>\n",
       "    <tr>\n",
       "      <th>2</th>\n",
       "      <td>smart</td>\n",
       "      <td>3.0</td>\n",
       "      <td>390.051948</td>\n",
       "      <td>31.857143</td>\n",
       "      <td>15.246753</td>\n",
       "      <td>668.519481</td>\n",
       "    </tr>\n",
       "    <tr>\n",
       "      <th>3</th>\n",
       "      <td>smart</td>\n",
       "      <td>4.0</td>\n",
       "      <td>367.133929</td>\n",
       "      <td>30.741071</td>\n",
       "      <td>13.642857</td>\n",
       "      <td>641.660714</td>\n",
       "    </tr>\n",
       "    <tr>\n",
       "      <th>4</th>\n",
       "      <td>smart</td>\n",
       "      <td>5.0</td>\n",
       "      <td>387.361702</td>\n",
       "      <td>33.773050</td>\n",
       "      <td>15.943262</td>\n",
       "      <td>648.574468</td>\n",
       "    </tr>\n",
       "    <tr>\n",
       "      <th>5</th>\n",
       "      <td>smart</td>\n",
       "      <td>6.0</td>\n",
       "      <td>395.640244</td>\n",
       "      <td>33.402439</td>\n",
       "      <td>15.981707</td>\n",
       "      <td>655.237805</td>\n",
       "    </tr>\n",
       "    <tr>\n",
       "      <th>6</th>\n",
       "      <td>smart</td>\n",
       "      <td>7.0</td>\n",
       "      <td>408.353234</td>\n",
       "      <td>33.751244</td>\n",
       "      <td>15.910448</td>\n",
       "      <td>670.716418</td>\n",
       "    </tr>\n",
       "    <tr>\n",
       "      <th>7</th>\n",
       "      <td>smart</td>\n",
       "      <td>8.0</td>\n",
       "      <td>421.468085</td>\n",
       "      <td>33.638298</td>\n",
       "      <td>16.782979</td>\n",
       "      <td>690.808511</td>\n",
       "    </tr>\n",
       "    <tr>\n",
       "      <th>8</th>\n",
       "      <td>smart</td>\n",
       "      <td>9.0</td>\n",
       "      <td>428.611538</td>\n",
       "      <td>33.638462</td>\n",
       "      <td>16.423077</td>\n",
       "      <td>696.100000</td>\n",
       "    </tr>\n",
       "    <tr>\n",
       "      <th>9</th>\n",
       "      <td>smart</td>\n",
       "      <td>10.0</td>\n",
       "      <td>426.136054</td>\n",
       "      <td>33.765306</td>\n",
       "      <td>16.911565</td>\n",
       "      <td>700.908163</td>\n",
       "    </tr>\n",
       "    <tr>\n",
       "      <th>10</th>\n",
       "      <td>smart</td>\n",
       "      <td>11.0</td>\n",
       "      <td>435.265823</td>\n",
       "      <td>34.075949</td>\n",
       "      <td>17.028481</td>\n",
       "      <td>700.009494</td>\n",
       "    </tr>\n",
       "    <tr>\n",
       "      <th>11</th>\n",
       "      <td>smart</td>\n",
       "      <td>12.0</td>\n",
       "      <td>477.144970</td>\n",
       "      <td>35.887574</td>\n",
       "      <td>18.180473</td>\n",
       "      <td>775.488166</td>\n",
       "    </tr>\n",
       "  </tbody>\n",
       "</table>\n",
       "</div>"
      ],
      "text/plain": [
       "   tariff  month         min        mes         gb      income\n",
       "0   smart    1.0  203.852941  18.235294   8.735294  556.617647\n",
       "1   smart    2.0  298.689655  24.086207  11.844828  600.017241\n",
       "2   smart    3.0  390.051948  31.857143  15.246753  668.519481\n",
       "3   smart    4.0  367.133929  30.741071  13.642857  641.660714\n",
       "4   smart    5.0  387.361702  33.773050  15.943262  648.574468\n",
       "5   smart    6.0  395.640244  33.402439  15.981707  655.237805\n",
       "6   smart    7.0  408.353234  33.751244  15.910448  670.716418\n",
       "7   smart    8.0  421.468085  33.638298  16.782979  690.808511\n",
       "8   smart    9.0  428.611538  33.638462  16.423077  696.100000\n",
       "9   smart   10.0  426.136054  33.765306  16.911565  700.908163\n",
       "10  smart   11.0  435.265823  34.075949  17.028481  700.009494\n",
       "11  smart   12.0  477.144970  35.887574  18.180473  775.488166"
      ]
     },
     "execution_count": 98,
     "metadata": {},
     "output_type": "execute_result"
    }
   ],
   "source": [
    "smart"
   ]
  },
  {
   "cell_type": "code",
   "execution_count": 99,
   "metadata": {},
   "outputs": [
    {
     "data": {
      "text/html": [
       "<div>\n",
       "<style scoped>\n",
       "    .dataframe tbody tr th:only-of-type {\n",
       "        vertical-align: middle;\n",
       "    }\n",
       "\n",
       "    .dataframe tbody tr th {\n",
       "        vertical-align: top;\n",
       "    }\n",
       "\n",
       "    .dataframe thead th {\n",
       "        text-align: right;\n",
       "    }\n",
       "</style>\n",
       "<table border=\"1\" class=\"dataframe\">\n",
       "  <thead>\n",
       "    <tr style=\"text-align: right;\">\n",
       "      <th></th>\n",
       "      <th>tariff</th>\n",
       "      <th>month</th>\n",
       "      <th>min</th>\n",
       "      <th>mes</th>\n",
       "      <th>gb</th>\n",
       "      <th>income</th>\n",
       "    </tr>\n",
       "  </thead>\n",
       "  <tbody>\n",
       "    <tr>\n",
       "      <th>12</th>\n",
       "      <td>ultra</td>\n",
       "      <td>1.0</td>\n",
       "      <td>428.111111</td>\n",
       "      <td>33.777778</td>\n",
       "      <td>13.333333</td>\n",
       "      <td>1950.0</td>\n",
       "    </tr>\n",
       "    <tr>\n",
       "      <th>13</th>\n",
       "      <td>ultra</td>\n",
       "      <td>2.0</td>\n",
       "      <td>297.125000</td>\n",
       "      <td>21.958333</td>\n",
       "      <td>12.000000</td>\n",
       "      <td>1950.0</td>\n",
       "    </tr>\n",
       "    <tr>\n",
       "      <th>14</th>\n",
       "      <td>ultra</td>\n",
       "      <td>3.0</td>\n",
       "      <td>489.648649</td>\n",
       "      <td>32.297297</td>\n",
       "      <td>17.702703</td>\n",
       "      <td>1950.0</td>\n",
       "    </tr>\n",
       "    <tr>\n",
       "      <th>15</th>\n",
       "      <td>ultra</td>\n",
       "      <td>4.0</td>\n",
       "      <td>458.018182</td>\n",
       "      <td>31.563636</td>\n",
       "      <td>17.000000</td>\n",
       "      <td>1950.0</td>\n",
       "    </tr>\n",
       "    <tr>\n",
       "      <th>16</th>\n",
       "      <td>ultra</td>\n",
       "      <td>5.0</td>\n",
       "      <td>510.328358</td>\n",
       "      <td>37.850746</td>\n",
       "      <td>19.432836</td>\n",
       "      <td>1950.0</td>\n",
       "    </tr>\n",
       "    <tr>\n",
       "      <th>17</th>\n",
       "      <td>ultra</td>\n",
       "      <td>6.0</td>\n",
       "      <td>479.702381</td>\n",
       "      <td>41.726190</td>\n",
       "      <td>18.964286</td>\n",
       "      <td>1950.0</td>\n",
       "    </tr>\n",
       "    <tr>\n",
       "      <th>18</th>\n",
       "      <td>ultra</td>\n",
       "      <td>7.0</td>\n",
       "      <td>545.791209</td>\n",
       "      <td>49.846154</td>\n",
       "      <td>20.538462</td>\n",
       "      <td>1950.0</td>\n",
       "    </tr>\n",
       "    <tr>\n",
       "      <th>19</th>\n",
       "      <td>ultra</td>\n",
       "      <td>8.0</td>\n",
       "      <td>510.775701</td>\n",
       "      <td>48.439252</td>\n",
       "      <td>19.635514</td>\n",
       "      <td>1950.0</td>\n",
       "    </tr>\n",
       "    <tr>\n",
       "      <th>20</th>\n",
       "      <td>ultra</td>\n",
       "      <td>9.0</td>\n",
       "      <td>539.443478</td>\n",
       "      <td>52.286957</td>\n",
       "      <td>19.252174</td>\n",
       "      <td>1950.0</td>\n",
       "    </tr>\n",
       "    <tr>\n",
       "      <th>21</th>\n",
       "      <td>ultra</td>\n",
       "      <td>10.0</td>\n",
       "      <td>558.081301</td>\n",
       "      <td>58.430894</td>\n",
       "      <td>20.089431</td>\n",
       "      <td>1950.0</td>\n",
       "    </tr>\n",
       "    <tr>\n",
       "      <th>22</th>\n",
       "      <td>ultra</td>\n",
       "      <td>11.0</td>\n",
       "      <td>541.380597</td>\n",
       "      <td>55.791045</td>\n",
       "      <td>19.828358</td>\n",
       "      <td>1950.0</td>\n",
       "    </tr>\n",
       "    <tr>\n",
       "      <th>23</th>\n",
       "      <td>ultra</td>\n",
       "      <td>12.0</td>\n",
       "      <td>588.571429</td>\n",
       "      <td>60.178571</td>\n",
       "      <td>21.628571</td>\n",
       "      <td>1950.0</td>\n",
       "    </tr>\n",
       "  </tbody>\n",
       "</table>\n",
       "</div>"
      ],
      "text/plain": [
       "   tariff  month         min        mes         gb  income\n",
       "12  ultra    1.0  428.111111  33.777778  13.333333  1950.0\n",
       "13  ultra    2.0  297.125000  21.958333  12.000000  1950.0\n",
       "14  ultra    3.0  489.648649  32.297297  17.702703  1950.0\n",
       "15  ultra    4.0  458.018182  31.563636  17.000000  1950.0\n",
       "16  ultra    5.0  510.328358  37.850746  19.432836  1950.0\n",
       "17  ultra    6.0  479.702381  41.726190  18.964286  1950.0\n",
       "18  ultra    7.0  545.791209  49.846154  20.538462  1950.0\n",
       "19  ultra    8.0  510.775701  48.439252  19.635514  1950.0\n",
       "20  ultra    9.0  539.443478  52.286957  19.252174  1950.0\n",
       "21  ultra   10.0  558.081301  58.430894  20.089431  1950.0\n",
       "22  ultra   11.0  541.380597  55.791045  19.828358  1950.0\n",
       "23  ultra   12.0  588.571429  60.178571  21.628571  1950.0"
      ]
     },
     "execution_count": 99,
     "metadata": {},
     "output_type": "execute_result"
    }
   ],
   "source": [
    "ultra"
   ]
  },
  {
   "cell_type": "code",
   "execution_count": 100,
   "metadata": {},
   "outputs": [
    {
     "data": {
      "text/html": [
       "<div>\n",
       "<style scoped>\n",
       "    .dataframe tbody tr th:only-of-type {\n",
       "        vertical-align: middle;\n",
       "    }\n",
       "\n",
       "    .dataframe tbody tr th {\n",
       "        vertical-align: top;\n",
       "    }\n",
       "\n",
       "    .dataframe thead th {\n",
       "        text-align: right;\n",
       "    }\n",
       "</style>\n",
       "<table border=\"1\" class=\"dataframe\">\n",
       "  <thead>\n",
       "    <tr style=\"text-align: right;\">\n",
       "      <th></th>\n",
       "      <th>messages_included</th>\n",
       "      <th>mb_per_month_included</th>\n",
       "      <th>minutes_included</th>\n",
       "      <th>rub_monthly_fee</th>\n",
       "      <th>rub_per_gb</th>\n",
       "      <th>rub_per_message</th>\n",
       "      <th>rub_per_minute</th>\n",
       "      <th>tariff_name</th>\n",
       "    </tr>\n",
       "  </thead>\n",
       "  <tbody>\n",
       "    <tr>\n",
       "      <th>0</th>\n",
       "      <td>50</td>\n",
       "      <td>15360</td>\n",
       "      <td>500</td>\n",
       "      <td>550</td>\n",
       "      <td>200</td>\n",
       "      <td>3</td>\n",
       "      <td>3</td>\n",
       "      <td>smart</td>\n",
       "    </tr>\n",
       "    <tr>\n",
       "      <th>1</th>\n",
       "      <td>1000</td>\n",
       "      <td>30720</td>\n",
       "      <td>3000</td>\n",
       "      <td>1950</td>\n",
       "      <td>150</td>\n",
       "      <td>1</td>\n",
       "      <td>1</td>\n",
       "      <td>ultra</td>\n",
       "    </tr>\n",
       "  </tbody>\n",
       "</table>\n",
       "</div>"
      ],
      "text/plain": [
       "   messages_included  mb_per_month_included  minutes_included  \\\n",
       "0                 50                  15360               500   \n",
       "1               1000                  30720              3000   \n",
       "\n",
       "   rub_monthly_fee  rub_per_gb  rub_per_message  rub_per_minute tariff_name  \n",
       "0              550         200                3               3       smart  \n",
       "1             1950         150                1               1       ultra  "
      ]
     },
     "execution_count": 100,
     "metadata": {},
     "output_type": "execute_result"
    }
   ],
   "source": [
    "tariffs"
   ]
  },
  {
   "cell_type": "markdown",
   "metadata": {},
   "source": [
    "***Нарисуем теперь для обоих тарифов усредненные расходы по месяцам для одного абонента.***"
   ]
  },
  {
   "cell_type": "code",
   "execution_count": 101,
   "metadata": {
    "scrolled": false
   },
   "outputs": [
    {
     "data": {
      "image/png": "[encoded data removed]",
      "text/plain": [
       "<Figure size 1008x360 with 1 Axes>"
      ]
     },
     "metadata": {
      "needs_background": "light"
     },
     "output_type": "display_data"
    },
    {
     "data": {
      "image/png": "[encoded data removed]",
      "text/plain": [
       "<Figure size 1008x360 with 1 Axes>"
      ]
     },
     "metadata": {
      "needs_background": "light"
     },
     "output_type": "display_data"
    },
    {
     "data": {
      "image/png": "[encoded data removed]",
      "text/plain": [
       "<Figure size 1008x360 with 1 Axes>"
      ]
     },
     "metadata": {
      "needs_background": "light"
     },
     "output_type": "display_data"
    },
    {
     "data": {
      "image/png": "[encoded data removed]",
      "text/plain": [
       "<Figure size 1008x360 with 1 Axes>"
      ]
     },
     "metadata": {
      "needs_background": "light"
     },
     "output_type": "display_data"
    }
   ],
   "source": [
    "for param in ['min', 'mes', 'gb','income']:\n",
    "    w = 0.4\n",
    "    plt.figure(figsize=(14, 5))\n",
    "    plt.bar(smart['month']-w/2, smart[param], label='smart', color='g', alpha=0.5, width=w)\n",
    "    plt.bar(ultra['month']+w/2, ultra[param], label='ultra', color='y', alpha=0.4, width=w)\n",
    "\n",
    "# porog- пороговое значение в smart, после которого идёт оплата сверх абонентской\n",
    "    if param == 'min':\n",
    "        porog=500\n",
    "    elif param == 'mes':\n",
    "        porog=50\n",
    "    elif param == 'gb':\n",
    "        porog=30\n",
    "    else:\n",
    "        porog=550\n",
    "        \n",
    "    plt.axhline(y=porog, label='Порог для smart', color='red')  \n",
    "    plt.xlabel('month')\n",
    "    plt.ylabel(param)\n",
    "    plt.grid()\n",
    "    plt.title(f'Кол-во {param} одного абонента по месяцам для обоих тарифов')\n",
    "    plt.legend()\n",
    "    plt.show();"
   ]
  },
  {
   "cell_type": "markdown",
   "metadata": {},
   "source": [
    "***Рассчитаем усредненные значения за месяц, которые требуются абонентам в обоих тарифах.***"
   ]
  },
  {
   "cell_type": "code",
   "execution_count": 102,
   "metadata": {
    "scrolled": false
   },
   "outputs": [
    {
     "name": "stdout",
     "output_type": "stream",
     "text": [
      "Медианные месячные значения абонента в течение 2018 года\n",
      "Кол-во min: smart = 402 / ultra = 511\n",
      "Кол-во mes: smart = 34 / ultra = 45\n",
      "Кол-во gb: smart = 16 / ultra = 19\n",
      "Кол-во income: smart = 670 / ultra = 1950\n"
     ]
    }
   ],
   "source": [
    "print('Медианные месячные значения абонента в течение 2018 года')\n",
    "for parametr in ['min', 'mes', 'gb', 'income']:\n",
    "    print(f'Кол-во {parametr}: smart = {round(smart[parametr].median())} / ultra = {round(ultra[parametr].median())}')"
   ]
  },
  {
   "cell_type": "markdown",
   "metadata": {},
   "source": [
    "### Распределение абонентов по кол-ву использованых услуг, гистограммы"
   ]
  },
  {
   "cell_type": "markdown",
   "metadata": {},
   "source": [
    "Посмотрим на гистограммах частоту распределения клиентов по объему использования услуг в таблице abonents."
   ]
  },
  {
   "cell_type": "code",
   "execution_count": 103,
   "metadata": {},
   "outputs": [
    {
     "data": {
      "text/html": [
       "<div>\n",
       "<style scoped>\n",
       "    .dataframe tbody tr th:only-of-type {\n",
       "        vertical-align: middle;\n",
       "    }\n",
       "\n",
       "    .dataframe tbody tr th {\n",
       "        vertical-align: top;\n",
       "    }\n",
       "\n",
       "    .dataframe thead th {\n",
       "        text-align: right;\n",
       "    }\n",
       "</style>\n",
       "<table border=\"1\" class=\"dataframe\">\n",
       "  <thead>\n",
       "    <tr style=\"text-align: right;\">\n",
       "      <th></th>\n",
       "      <th>user_id</th>\n",
       "      <th>month</th>\n",
       "      <th>calls</th>\n",
       "      <th>min</th>\n",
       "      <th>mes</th>\n",
       "      <th>mb</th>\n",
       "      <th>city</th>\n",
       "      <th>tariff</th>\n",
       "      <th>gb</th>\n",
       "      <th>income</th>\n",
       "    </tr>\n",
       "  </thead>\n",
       "  <tbody>\n",
       "    <tr>\n",
       "      <th>0</th>\n",
       "      <td>1000</td>\n",
       "      <td>5.0</td>\n",
       "      <td>22.0</td>\n",
       "      <td>159.0</td>\n",
       "      <td>22.0</td>\n",
       "      <td>2256.0</td>\n",
       "      <td>Краснодар</td>\n",
       "      <td>ultra</td>\n",
       "      <td>3.0</td>\n",
       "      <td>1950.0</td>\n",
       "    </tr>\n",
       "    <tr>\n",
       "      <th>1</th>\n",
       "      <td>1000</td>\n",
       "      <td>6.0</td>\n",
       "      <td>43.0</td>\n",
       "      <td>172.0</td>\n",
       "      <td>60.0</td>\n",
       "      <td>23257.0</td>\n",
       "      <td>Краснодар</td>\n",
       "      <td>ultra</td>\n",
       "      <td>23.0</td>\n",
       "      <td>1950.0</td>\n",
       "    </tr>\n",
       "    <tr>\n",
       "      <th>2</th>\n",
       "      <td>1000</td>\n",
       "      <td>7.0</td>\n",
       "      <td>47.0</td>\n",
       "      <td>340.0</td>\n",
       "      <td>75.0</td>\n",
       "      <td>14016.0</td>\n",
       "      <td>Краснодар</td>\n",
       "      <td>ultra</td>\n",
       "      <td>14.0</td>\n",
       "      <td>1950.0</td>\n",
       "    </tr>\n",
       "    <tr>\n",
       "      <th>3</th>\n",
       "      <td>1000</td>\n",
       "      <td>8.0</td>\n",
       "      <td>52.0</td>\n",
       "      <td>408.0</td>\n",
       "      <td>81.0</td>\n",
       "      <td>14070.0</td>\n",
       "      <td>Краснодар</td>\n",
       "      <td>ultra</td>\n",
       "      <td>14.0</td>\n",
       "      <td>1950.0</td>\n",
       "    </tr>\n",
       "    <tr>\n",
       "      <th>4</th>\n",
       "      <td>1000</td>\n",
       "      <td>9.0</td>\n",
       "      <td>58.0</td>\n",
       "      <td>466.0</td>\n",
       "      <td>57.0</td>\n",
       "      <td>14581.0</td>\n",
       "      <td>Краснодар</td>\n",
       "      <td>ultra</td>\n",
       "      <td>15.0</td>\n",
       "      <td>1950.0</td>\n",
       "    </tr>\n",
       "    <tr>\n",
       "      <th>...</th>\n",
       "      <td>...</td>\n",
       "      <td>...</td>\n",
       "      <td>...</td>\n",
       "      <td>...</td>\n",
       "      <td>...</td>\n",
       "      <td>...</td>\n",
       "      <td>...</td>\n",
       "      <td>...</td>\n",
       "      <td>...</td>\n",
       "      <td>...</td>\n",
       "    </tr>\n",
       "    <tr>\n",
       "      <th>3211</th>\n",
       "      <td>1489</td>\n",
       "      <td>10.0</td>\n",
       "      <td>0.0</td>\n",
       "      <td>0.0</td>\n",
       "      <td>21.0</td>\n",
       "      <td>19588.0</td>\n",
       "      <td>Санкт-Петербург</td>\n",
       "      <td>smart</td>\n",
       "      <td>20.0</td>\n",
       "      <td>550.0</td>\n",
       "    </tr>\n",
       "    <tr>\n",
       "      <th>3212</th>\n",
       "      <td>1489</td>\n",
       "      <td>11.0</td>\n",
       "      <td>0.0</td>\n",
       "      <td>0.0</td>\n",
       "      <td>20.0</td>\n",
       "      <td>17516.0</td>\n",
       "      <td>Санкт-Петербург</td>\n",
       "      <td>smart</td>\n",
       "      <td>18.0</td>\n",
       "      <td>550.0</td>\n",
       "    </tr>\n",
       "    <tr>\n",
       "      <th>3213</th>\n",
       "      <td>1489</td>\n",
       "      <td>12.0</td>\n",
       "      <td>0.0</td>\n",
       "      <td>0.0</td>\n",
       "      <td>35.0</td>\n",
       "      <td>17341.0</td>\n",
       "      <td>Санкт-Петербург</td>\n",
       "      <td>smart</td>\n",
       "      <td>17.0</td>\n",
       "      <td>550.0</td>\n",
       "    </tr>\n",
       "    <tr>\n",
       "      <th>3214</th>\n",
       "      <td>1128</td>\n",
       "      <td>12.0</td>\n",
       "      <td>0.0</td>\n",
       "      <td>0.0</td>\n",
       "      <td>0.0</td>\n",
       "      <td>0.0</td>\n",
       "      <td>Волжский</td>\n",
       "      <td>ultra</td>\n",
       "      <td>0.0</td>\n",
       "      <td>1950.0</td>\n",
       "    </tr>\n",
       "    <tr>\n",
       "      <th>3215</th>\n",
       "      <td>1371</td>\n",
       "      <td>12.0</td>\n",
       "      <td>0.0</td>\n",
       "      <td>0.0</td>\n",
       "      <td>0.0</td>\n",
       "      <td>0.0</td>\n",
       "      <td>Омск</td>\n",
       "      <td>smart</td>\n",
       "      <td>0.0</td>\n",
       "      <td>550.0</td>\n",
       "    </tr>\n",
       "  </tbody>\n",
       "</table>\n",
       "<p>3216 rows × 10 columns</p>\n",
       "</div>"
      ],
      "text/plain": [
       "      user_id  month  calls    min   mes       mb             city tariff  \\\n",
       "0        1000    5.0   22.0  159.0  22.0   2256.0        Краснодар  ultra   \n",
       "1        1000    6.0   43.0  172.0  60.0  23257.0        Краснодар  ultra   \n",
       "2        1000    7.0   47.0  340.0  75.0  14016.0        Краснодар  ultra   \n",
       "3        1000    8.0   52.0  408.0  81.0  14070.0        Краснодар  ultra   \n",
       "4        1000    9.0   58.0  466.0  57.0  14581.0        Краснодар  ultra   \n",
       "...       ...    ...    ...    ...   ...      ...              ...    ...   \n",
       "3211     1489   10.0    0.0    0.0  21.0  19588.0  Санкт-Петербург  smart   \n",
       "3212     1489   11.0    0.0    0.0  20.0  17516.0  Санкт-Петербург  smart   \n",
       "3213     1489   12.0    0.0    0.0  35.0  17341.0  Санкт-Петербург  smart   \n",
       "3214     1128   12.0    0.0    0.0   0.0      0.0         Волжский  ultra   \n",
       "3215     1371   12.0    0.0    0.0   0.0      0.0             Омск  smart   \n",
       "\n",
       "        gb  income  \n",
       "0      3.0  1950.0  \n",
       "1     23.0  1950.0  \n",
       "2     14.0  1950.0  \n",
       "3     14.0  1950.0  \n",
       "4     15.0  1950.0  \n",
       "...    ...     ...  \n",
       "3211  20.0   550.0  \n",
       "3212  18.0   550.0  \n",
       "3213  17.0   550.0  \n",
       "3214   0.0  1950.0  \n",
       "3215   0.0   550.0  \n",
       "\n",
       "[3216 rows x 10 columns]"
      ]
     },
     "execution_count": 103,
     "metadata": {},
     "output_type": "execute_result"
    }
   ],
   "source": [
    "abonents"
   ]
  },
  {
   "cell_type": "code",
   "execution_count": 104,
   "metadata": {
    "scrolled": false
   },
   "outputs": [
    {
     "data": {
      "image/png": "[encoded data removed]",
      "text/plain": [
       "<Figure size 1008x360 with 1 Axes>"
      ]
     },
     "metadata": {
      "needs_background": "light"
     },
     "output_type": "display_data"
    },
    {
     "data": {
      "image/png": "[encoded data removed]",
      "text/plain": [
       "<Figure size 1008x360 with 1 Axes>"
      ]
     },
     "metadata": {
      "needs_background": "light"
     },
     "output_type": "display_data"
    },
    {
     "data": {
      "image/png": "[encoded data removed]",
      "text/plain": [
       "<Figure size 1008x360 with 1 Axes>"
      ]
     },
     "metadata": {
      "needs_background": "light"
     },
     "output_type": "display_data"
    },
    {
     "data": {
      "image/png": "[encoded data removed]",
      "text/plain": [
       "<Figure size 1008x360 with 1 Axes>"
      ]
     },
     "metadata": {
      "needs_background": "light"
     },
     "output_type": "display_data"
    }
   ],
   "source": [
    "for param in ['min', 'mes', 'gb','income']:\n",
    "    b = 50\n",
    "    plt.figure(figsize=(14, 5))\n",
    "    \n",
    "    plt.hist(abonents.loc[abonents['tariff'] == \"smart\", param], label='smart / '+param, color='y', alpha=0.65, bins = b)\n",
    "    plt.hist(abonents.loc[abonents['tariff'] == \"ultra\", param], label='ultra / '+param, color='g', alpha=0.35, bins = b)\n",
    "    \n",
    "    plt.ylabel('ЧАСТОТА')\n",
    "    plt.xlabel(param)\n",
    "    plt.grid()\n",
    "    plt.title(f'Распределение {param} в месяцам для обоих тарифов')\n",
    "    plt.legend()\n",
    "    plt.show();"
   ]
  },
  {
   "cell_type": "markdown",
   "metadata": {},
   "source": [
    "### Среднее количество, дисперсия и стандартное отклонение"
   ]
  },
  {
   "cell_type": "markdown",
   "metadata": {},
   "source": [
    "Создадим новый DF stat_frame и запишем в него все расчитываемые статистические значения.\n",
    "\n",
    "Таблица stat_frame - статистика для выборки.\\\n",
    "\\\n",
    "**Столбцы:** \\\n",
    "parameter - (min-минуты, mes-СМС, gb-трафик) \\\n",
    "mean - среднее \\\n",
    "var - дисперсия \\\n",
    "std - стандартное отклонение \\\n",
    "tariff - тариф (smart, ultra, all-по обоим тарифам)"
   ]
  },
  {
   "cell_type": "code",
   "execution_count": 105,
   "metadata": {},
   "outputs": [
    {
     "data": {
      "text/html": [
       "<div>\n",
       "<style scoped>\n",
       "    .dataframe tbody tr th:only-of-type {\n",
       "        vertical-align: middle;\n",
       "    }\n",
       "\n",
       "    .dataframe tbody tr th {\n",
       "        vertical-align: top;\n",
       "    }\n",
       "\n",
       "    .dataframe thead th {\n",
       "        text-align: right;\n",
       "    }\n",
       "</style>\n",
       "<table border=\"1\" class=\"dataframe\">\n",
       "  <thead>\n",
       "    <tr style=\"text-align: right;\">\n",
       "      <th></th>\n",
       "      <th>parameter</th>\n",
       "      <th>mean</th>\n",
       "      <th>var</th>\n",
       "      <th>std</th>\n",
       "      <th>tariff</th>\n",
       "    </tr>\n",
       "  </thead>\n",
       "  <tbody>\n",
       "    <tr>\n",
       "      <th>0</th>\n",
       "      <td>min</td>\n",
       "      <td>386.6</td>\n",
       "      <td>5198.3</td>\n",
       "      <td>72.1</td>\n",
       "      <td>smart</td>\n",
       "    </tr>\n",
       "    <tr>\n",
       "      <th>1</th>\n",
       "      <td>min</td>\n",
       "      <td>495.6</td>\n",
       "      <td>5925.4</td>\n",
       "      <td>77.0</td>\n",
       "      <td>ultra</td>\n",
       "    </tr>\n",
       "    <tr>\n",
       "      <th>2</th>\n",
       "      <td>min</td>\n",
       "      <td>441.1</td>\n",
       "      <td>8416.0</td>\n",
       "      <td>91.7</td>\n",
       "      <td>all</td>\n",
       "    </tr>\n",
       "    <tr>\n",
       "      <th>3</th>\n",
       "      <td>mes</td>\n",
       "      <td>31.4</td>\n",
       "      <td>26.0</td>\n",
       "      <td>5.1</td>\n",
       "      <td>smart</td>\n",
       "    </tr>\n",
       "    <tr>\n",
       "      <th>4</th>\n",
       "      <td>mes</td>\n",
       "      <td>43.7</td>\n",
       "      <td>150.5</td>\n",
       "      <td>12.3</td>\n",
       "      <td>ultra</td>\n",
       "    </tr>\n",
       "    <tr>\n",
       "      <th>5</th>\n",
       "      <td>mes</td>\n",
       "      <td>37.5</td>\n",
       "      <td>123.7</td>\n",
       "      <td>11.1</td>\n",
       "      <td>all</td>\n",
       "    </tr>\n",
       "    <tr>\n",
       "      <th>6</th>\n",
       "      <td>gb</td>\n",
       "      <td>15.2</td>\n",
       "      <td>6.9</td>\n",
       "      <td>2.6</td>\n",
       "      <td>smart</td>\n",
       "    </tr>\n",
       "    <tr>\n",
       "      <th>7</th>\n",
       "      <td>gb</td>\n",
       "      <td>18.3</td>\n",
       "      <td>8.4</td>\n",
       "      <td>2.9</td>\n",
       "      <td>ultra</td>\n",
       "    </tr>\n",
       "    <tr>\n",
       "      <th>8</th>\n",
       "      <td>gb</td>\n",
       "      <td>16.8</td>\n",
       "      <td>9.8</td>\n",
       "      <td>3.1</td>\n",
       "      <td>all</td>\n",
       "    </tr>\n",
       "    <tr>\n",
       "      <th>9</th>\n",
       "      <td>income</td>\n",
       "      <td>667.1</td>\n",
       "      <td>3020.9</td>\n",
       "      <td>55.0</td>\n",
       "      <td>smart</td>\n",
       "    </tr>\n",
       "    <tr>\n",
       "      <th>10</th>\n",
       "      <td>income</td>\n",
       "      <td>1950.0</td>\n",
       "      <td>0.0</td>\n",
       "      <td>0.0</td>\n",
       "      <td>ultra</td>\n",
       "    </tr>\n",
       "    <tr>\n",
       "      <th>11</th>\n",
       "      <td>income</td>\n",
       "      <td>1308.5</td>\n",
       "      <td>430822.6</td>\n",
       "      <td>656.4</td>\n",
       "      <td>all</td>\n",
       "    </tr>\n",
       "  </tbody>\n",
       "</table>\n",
       "</div>"
      ],
      "text/plain": [
       "   parameter    mean       var    std tariff\n",
       "0        min   386.6    5198.3   72.1  smart\n",
       "1        min   495.6    5925.4   77.0  ultra\n",
       "2        min   441.1    8416.0   91.7    all\n",
       "3        mes    31.4      26.0    5.1  smart\n",
       "4        mes    43.7     150.5   12.3  ultra\n",
       "5        mes    37.5     123.7   11.1    all\n",
       "6         gb    15.2       6.9    2.6  smart\n",
       "7         gb    18.3       8.4    2.9  ultra\n",
       "8         gb    16.8       9.8    3.1    all\n",
       "9     income   667.1    3020.9   55.0  smart\n",
       "10    income  1950.0       0.0    0.0  ultra\n",
       "11    income  1308.5  430822.6  656.4    all"
      ]
     },
     "execution_count": 105,
     "metadata": {},
     "output_type": "execute_result"
    }
   ],
   "source": [
    "stat_df = pd.DataFrame(columns = ['parameter', 'mean', 'var', 'std', 'tariff'])\n",
    "\n",
    "ind = 0\n",
    "t = ['smart', 'ultra', 'all']\n",
    "for param in ['min', 'mes', 'gb', 'income']:\n",
    "    tariff_ind = 0\n",
    "    for df in [smart, ultra, tar]:\n",
    "        stat_df.loc[ind, 'parameter'] = param\n",
    "        stat_df.loc[ind, 'mean'] = round(df[param].mean(),1)\n",
    "        stat_df.loc[ind, 'var'] = round(np.var(df[param], ddof=1),1) \n",
    "        stat_df.loc[ind, 'std'] = round(np.std(df[param], ddof=1),1) \n",
    "        stat_df.loc[ind, 'tariff'] = t[tariff_ind]\n",
    "        ind +=1\n",
    "        tariff_ind +=1\n",
    "stat_df"
   ]
  },
  {
   "cell_type": "markdown",
   "metadata": {},
   "source": [
    "Расчитаем доли стандартных отклонений в среднем - столбец %std (Для лучшей наглядности)."
   ]
  },
  {
   "cell_type": "code",
   "execution_count": 106,
   "metadata": {},
   "outputs": [
    {
     "data": {
      "text/html": [
       "<div>\n",
       "<style scoped>\n",
       "    .dataframe tbody tr th:only-of-type {\n",
       "        vertical-align: middle;\n",
       "    }\n",
       "\n",
       "    .dataframe tbody tr th {\n",
       "        vertical-align: top;\n",
       "    }\n",
       "\n",
       "    .dataframe thead th {\n",
       "        text-align: right;\n",
       "    }\n",
       "</style>\n",
       "<table border=\"1\" class=\"dataframe\">\n",
       "  <thead>\n",
       "    <tr style=\"text-align: right;\">\n",
       "      <th></th>\n",
       "      <th>parameter</th>\n",
       "      <th>mean</th>\n",
       "      <th>var</th>\n",
       "      <th>std</th>\n",
       "      <th>tariff</th>\n",
       "      <th>%std</th>\n",
       "    </tr>\n",
       "  </thead>\n",
       "  <tbody>\n",
       "    <tr>\n",
       "      <th>0</th>\n",
       "      <td>min</td>\n",
       "      <td>386.6</td>\n",
       "      <td>5198.3</td>\n",
       "      <td>72.1</td>\n",
       "      <td>smart</td>\n",
       "      <td>18.649767</td>\n",
       "    </tr>\n",
       "    <tr>\n",
       "      <th>1</th>\n",
       "      <td>min</td>\n",
       "      <td>495.6</td>\n",
       "      <td>5925.4</td>\n",
       "      <td>77.0</td>\n",
       "      <td>ultra</td>\n",
       "      <td>15.536723</td>\n",
       "    </tr>\n",
       "    <tr>\n",
       "      <th>2</th>\n",
       "      <td>min</td>\n",
       "      <td>441.1</td>\n",
       "      <td>8416.0</td>\n",
       "      <td>91.7</td>\n",
       "      <td>all</td>\n",
       "      <td>20.788937</td>\n",
       "    </tr>\n",
       "    <tr>\n",
       "      <th>3</th>\n",
       "      <td>mes</td>\n",
       "      <td>31.4</td>\n",
       "      <td>26.0</td>\n",
       "      <td>5.1</td>\n",
       "      <td>smart</td>\n",
       "      <td>16.242038</td>\n",
       "    </tr>\n",
       "    <tr>\n",
       "      <th>4</th>\n",
       "      <td>mes</td>\n",
       "      <td>43.7</td>\n",
       "      <td>150.5</td>\n",
       "      <td>12.3</td>\n",
       "      <td>ultra</td>\n",
       "      <td>28.146453</td>\n",
       "    </tr>\n",
       "    <tr>\n",
       "      <th>5</th>\n",
       "      <td>mes</td>\n",
       "      <td>37.5</td>\n",
       "      <td>123.7</td>\n",
       "      <td>11.1</td>\n",
       "      <td>all</td>\n",
       "      <td>29.6</td>\n",
       "    </tr>\n",
       "    <tr>\n",
       "      <th>6</th>\n",
       "      <td>gb</td>\n",
       "      <td>15.2</td>\n",
       "      <td>6.9</td>\n",
       "      <td>2.6</td>\n",
       "      <td>smart</td>\n",
       "      <td>17.105263</td>\n",
       "    </tr>\n",
       "    <tr>\n",
       "      <th>7</th>\n",
       "      <td>gb</td>\n",
       "      <td>18.3</td>\n",
       "      <td>8.4</td>\n",
       "      <td>2.9</td>\n",
       "      <td>ultra</td>\n",
       "      <td>15.846995</td>\n",
       "    </tr>\n",
       "    <tr>\n",
       "      <th>8</th>\n",
       "      <td>gb</td>\n",
       "      <td>16.8</td>\n",
       "      <td>9.8</td>\n",
       "      <td>3.1</td>\n",
       "      <td>all</td>\n",
       "      <td>18.452381</td>\n",
       "    </tr>\n",
       "    <tr>\n",
       "      <th>9</th>\n",
       "      <td>income</td>\n",
       "      <td>667.1</td>\n",
       "      <td>3020.9</td>\n",
       "      <td>55.0</td>\n",
       "      <td>smart</td>\n",
       "      <td>8.244641</td>\n",
       "    </tr>\n",
       "    <tr>\n",
       "      <th>10</th>\n",
       "      <td>income</td>\n",
       "      <td>1950.0</td>\n",
       "      <td>0.0</td>\n",
       "      <td>0.0</td>\n",
       "      <td>ultra</td>\n",
       "      <td>0.0</td>\n",
       "    </tr>\n",
       "    <tr>\n",
       "      <th>11</th>\n",
       "      <td>income</td>\n",
       "      <td>1308.5</td>\n",
       "      <td>430822.6</td>\n",
       "      <td>656.4</td>\n",
       "      <td>all</td>\n",
       "      <td>50.16431</td>\n",
       "    </tr>\n",
       "  </tbody>\n",
       "</table>\n",
       "</div>"
      ],
      "text/plain": [
       "   parameter    mean       var    std tariff       %std\n",
       "0        min   386.6    5198.3   72.1  smart  18.649767\n",
       "1        min   495.6    5925.4   77.0  ultra  15.536723\n",
       "2        min   441.1    8416.0   91.7    all  20.788937\n",
       "3        mes    31.4      26.0    5.1  smart  16.242038\n",
       "4        mes    43.7     150.5   12.3  ultra  28.146453\n",
       "5        mes    37.5     123.7   11.1    all       29.6\n",
       "6         gb    15.2       6.9    2.6  smart  17.105263\n",
       "7         gb    18.3       8.4    2.9  ultra  15.846995\n",
       "8         gb    16.8       9.8    3.1    all  18.452381\n",
       "9     income   667.1    3020.9   55.0  smart   8.244641\n",
       "10    income  1950.0       0.0    0.0  ultra        0.0\n",
       "11    income  1308.5  430822.6  656.4    all   50.16431"
      ]
     },
     "execution_count": 106,
     "metadata": {},
     "output_type": "execute_result"
    }
   ],
   "source": [
    "stat_df['%std'] = stat_df['std'] / stat_df['mean'] * 100\n",
    "stat_df"
   ]
  },
  {
   "cell_type": "markdown",
   "metadata": {},
   "source": [
    "***Из таблицы stat_df и её средних значений видно, что медианные значения располагаются правее средних. Это говорит о скошенности данных влево, то есть большинство значений расположены меньше медианы. Очень мало абонентов отправляют смс. В выручке income можно выделить то, что в тарифе ultra стандартное отклонение равно нулю так как все платят одну и туже сумму 1950р.***"
   ]
  },
  {
   "cell_type": "markdown",
   "metadata": {},
   "source": [
    "# Вывод (обобщенный): "
   ]
  },
  {
   "cell_type": "markdown",
   "metadata": {},
   "source": [
    "В тарифе \"смарт\" подавляющее большинство абонентов укладываются в лимит по минутам, среднее значение 421 минут. В тарифе \"ультра\" среднее значение не больше 600 минут. Также можно наблюдать, что расход минут постепенно возрастает в течение года. Исключение, февраль - почти в 2 раза меньше. У смарта такая картина наблюдается в январе.\n",
    "\n",
    "Абоненты \"смарт\" в среднем отправляют 28 смс. Абоненты тарифа ultra редко отправляют более 50 СМС.\n",
    "\n",
    "Абоненты \"смарт\" любят посидеть в интернете и частенько привышают лимит трафика. Средний расход трафика не высокий. Но наблюдается таже картина что и с смс/звонками. Пик использования приходится на первые месяцы январь/февраль. Вероятнее всего из-за обилия праздников в первые зимние дни.\n",
    "\n",
    "Большинтсво абонентов тарифа ультра обходится абонентской платой (1950р). Абоненты смарта напротив, часто платят сверх абонплаты ( 982 в среднем, когда абонентская плата 550). Что практически в 2 раза больше абонентской платы.\n",
    "\n",
    "Многие абоненты пользующиейся ультрой могли бы перейти на смарт и прилично сэкономить."
   ]
  },
  {
   "cell_type": "markdown",
   "metadata": {},
   "source": [
    "## Проверьте гипотезы"
   ]
  },
  {
   "cell_type": "markdown",
   "metadata": {},
   "source": [
    "Гипотезы:\n",
    "* средняя выручка пользователей тарифов «Ультра» и «Смарт» различается;\n",
    "* средняя выручка пользователей из Москвы отличается от выручки пользователей из других регионов;\n",
    "\n",
    "\\\n",
    "Поясните:\n",
    "* как вы формулировали нулевую и альтернативную гипотезы;\n",
    "* какой критерий использовали для проверки гипотез и почему."
   ]
  },
  {
   "cell_type": "markdown",
   "metadata": {},
   "source": [
    "### Гипотеза №1: средняя выручка пользователей тарифов «Ультра» и «Смарт» различается"
   ]
  },
  {
   "cell_type": "markdown",
   "metadata": {},
   "source": [
    "Вернемся к основной таблице abonents."
   ]
  },
  {
   "cell_type": "code",
   "execution_count": 107,
   "metadata": {},
   "outputs": [
    {
     "data": {
      "text/html": [
       "<div>\n",
       "<style scoped>\n",
       "    .dataframe tbody tr th:only-of-type {\n",
       "        vertical-align: middle;\n",
       "    }\n",
       "\n",
       "    .dataframe tbody tr th {\n",
       "        vertical-align: top;\n",
       "    }\n",
       "\n",
       "    .dataframe thead th {\n",
       "        text-align: right;\n",
       "    }\n",
       "</style>\n",
       "<table border=\"1\" class=\"dataframe\">\n",
       "  <thead>\n",
       "    <tr style=\"text-align: right;\">\n",
       "      <th></th>\n",
       "      <th>user_id</th>\n",
       "      <th>month</th>\n",
       "      <th>calls</th>\n",
       "      <th>min</th>\n",
       "      <th>mes</th>\n",
       "      <th>mb</th>\n",
       "      <th>city</th>\n",
       "      <th>tariff</th>\n",
       "      <th>gb</th>\n",
       "      <th>income</th>\n",
       "    </tr>\n",
       "  </thead>\n",
       "  <tbody>\n",
       "    <tr>\n",
       "      <th>0</th>\n",
       "      <td>1000</td>\n",
       "      <td>5.0</td>\n",
       "      <td>22.0</td>\n",
       "      <td>159.0</td>\n",
       "      <td>22.0</td>\n",
       "      <td>2256.0</td>\n",
       "      <td>Краснодар</td>\n",
       "      <td>ultra</td>\n",
       "      <td>3.0</td>\n",
       "      <td>1950.0</td>\n",
       "    </tr>\n",
       "    <tr>\n",
       "      <th>1</th>\n",
       "      <td>1000</td>\n",
       "      <td>6.0</td>\n",
       "      <td>43.0</td>\n",
       "      <td>172.0</td>\n",
       "      <td>60.0</td>\n",
       "      <td>23257.0</td>\n",
       "      <td>Краснодар</td>\n",
       "      <td>ultra</td>\n",
       "      <td>23.0</td>\n",
       "      <td>1950.0</td>\n",
       "    </tr>\n",
       "    <tr>\n",
       "      <th>2</th>\n",
       "      <td>1000</td>\n",
       "      <td>7.0</td>\n",
       "      <td>47.0</td>\n",
       "      <td>340.0</td>\n",
       "      <td>75.0</td>\n",
       "      <td>14016.0</td>\n",
       "      <td>Краснодар</td>\n",
       "      <td>ultra</td>\n",
       "      <td>14.0</td>\n",
       "      <td>1950.0</td>\n",
       "    </tr>\n",
       "    <tr>\n",
       "      <th>3</th>\n",
       "      <td>1000</td>\n",
       "      <td>8.0</td>\n",
       "      <td>52.0</td>\n",
       "      <td>408.0</td>\n",
       "      <td>81.0</td>\n",
       "      <td>14070.0</td>\n",
       "      <td>Краснодар</td>\n",
       "      <td>ultra</td>\n",
       "      <td>14.0</td>\n",
       "      <td>1950.0</td>\n",
       "    </tr>\n",
       "    <tr>\n",
       "      <th>4</th>\n",
       "      <td>1000</td>\n",
       "      <td>9.0</td>\n",
       "      <td>58.0</td>\n",
       "      <td>466.0</td>\n",
       "      <td>57.0</td>\n",
       "      <td>14581.0</td>\n",
       "      <td>Краснодар</td>\n",
       "      <td>ultra</td>\n",
       "      <td>15.0</td>\n",
       "      <td>1950.0</td>\n",
       "    </tr>\n",
       "    <tr>\n",
       "      <th>...</th>\n",
       "      <td>...</td>\n",
       "      <td>...</td>\n",
       "      <td>...</td>\n",
       "      <td>...</td>\n",
       "      <td>...</td>\n",
       "      <td>...</td>\n",
       "      <td>...</td>\n",
       "      <td>...</td>\n",
       "      <td>...</td>\n",
       "      <td>...</td>\n",
       "    </tr>\n",
       "    <tr>\n",
       "      <th>3211</th>\n",
       "      <td>1489</td>\n",
       "      <td>10.0</td>\n",
       "      <td>0.0</td>\n",
       "      <td>0.0</td>\n",
       "      <td>21.0</td>\n",
       "      <td>19588.0</td>\n",
       "      <td>Санкт-Петербург</td>\n",
       "      <td>smart</td>\n",
       "      <td>20.0</td>\n",
       "      <td>550.0</td>\n",
       "    </tr>\n",
       "    <tr>\n",
       "      <th>3212</th>\n",
       "      <td>1489</td>\n",
       "      <td>11.0</td>\n",
       "      <td>0.0</td>\n",
       "      <td>0.0</td>\n",
       "      <td>20.0</td>\n",
       "      <td>17516.0</td>\n",
       "      <td>Санкт-Петербург</td>\n",
       "      <td>smart</td>\n",
       "      <td>18.0</td>\n",
       "      <td>550.0</td>\n",
       "    </tr>\n",
       "    <tr>\n",
       "      <th>3213</th>\n",
       "      <td>1489</td>\n",
       "      <td>12.0</td>\n",
       "      <td>0.0</td>\n",
       "      <td>0.0</td>\n",
       "      <td>35.0</td>\n",
       "      <td>17341.0</td>\n",
       "      <td>Санкт-Петербург</td>\n",
       "      <td>smart</td>\n",
       "      <td>17.0</td>\n",
       "      <td>550.0</td>\n",
       "    </tr>\n",
       "    <tr>\n",
       "      <th>3214</th>\n",
       "      <td>1128</td>\n",
       "      <td>12.0</td>\n",
       "      <td>0.0</td>\n",
       "      <td>0.0</td>\n",
       "      <td>0.0</td>\n",
       "      <td>0.0</td>\n",
       "      <td>Волжский</td>\n",
       "      <td>ultra</td>\n",
       "      <td>0.0</td>\n",
       "      <td>1950.0</td>\n",
       "    </tr>\n",
       "    <tr>\n",
       "      <th>3215</th>\n",
       "      <td>1371</td>\n",
       "      <td>12.0</td>\n",
       "      <td>0.0</td>\n",
       "      <td>0.0</td>\n",
       "      <td>0.0</td>\n",
       "      <td>0.0</td>\n",
       "      <td>Омск</td>\n",
       "      <td>smart</td>\n",
       "      <td>0.0</td>\n",
       "      <td>550.0</td>\n",
       "    </tr>\n",
       "  </tbody>\n",
       "</table>\n",
       "<p>3216 rows × 10 columns</p>\n",
       "</div>"
      ],
      "text/plain": [
       "      user_id  month  calls    min   mes       mb             city tariff  \\\n",
       "0        1000    5.0   22.0  159.0  22.0   2256.0        Краснодар  ultra   \n",
       "1        1000    6.0   43.0  172.0  60.0  23257.0        Краснодар  ultra   \n",
       "2        1000    7.0   47.0  340.0  75.0  14016.0        Краснодар  ultra   \n",
       "3        1000    8.0   52.0  408.0  81.0  14070.0        Краснодар  ultra   \n",
       "4        1000    9.0   58.0  466.0  57.0  14581.0        Краснодар  ultra   \n",
       "...       ...    ...    ...    ...   ...      ...              ...    ...   \n",
       "3211     1489   10.0    0.0    0.0  21.0  19588.0  Санкт-Петербург  smart   \n",
       "3212     1489   11.0    0.0    0.0  20.0  17516.0  Санкт-Петербург  smart   \n",
       "3213     1489   12.0    0.0    0.0  35.0  17341.0  Санкт-Петербург  smart   \n",
       "3214     1128   12.0    0.0    0.0   0.0      0.0         Волжский  ultra   \n",
       "3215     1371   12.0    0.0    0.0   0.0      0.0             Омск  smart   \n",
       "\n",
       "        gb  income  \n",
       "0      3.0  1950.0  \n",
       "1     23.0  1950.0  \n",
       "2     14.0  1950.0  \n",
       "3     14.0  1950.0  \n",
       "4     15.0  1950.0  \n",
       "...    ...     ...  \n",
       "3211  20.0   550.0  \n",
       "3212  18.0   550.0  \n",
       "3213  17.0   550.0  \n",
       "3214   0.0  1950.0  \n",
       "3215   0.0   550.0  \n",
       "\n",
       "[3216 rows x 10 columns]"
      ]
     },
     "execution_count": 107,
     "metadata": {},
     "output_type": "execute_result"
    }
   ],
   "source": [
    "abonents"
   ]
  },
  {
   "cell_type": "markdown",
   "metadata": {},
   "source": [
    "Запишем выручки в 2 таблицы ultra_income_mean, smart_income_mean для каждого тарифа."
   ]
  },
  {
   "cell_type": "code",
   "execution_count": 108,
   "metadata": {},
   "outputs": [],
   "source": [
    "ultra_income_mean = abonents.query('tariff ==\"ultra\"')['income'].values #reset_index()\n",
    "smart_income_mean = abonents.query('tariff ==\"smart\"')['income'].values #reset_index()\n",
    "\n",
    "#print(len(ultra_income_mean),ultra_income_mean)\n",
    "#print(len(smart_income_mean),smart_income_mean)"
   ]
  },
  {
   "cell_type": "markdown",
   "metadata": {},
   "source": [
    "Методу st.ttest_ind(array1, array2, equal_var = True) передают параметры: \\\n",
    "array1, array2 — массивы, содержащие выборки; \\\n",
    "equal_var (от англ. equal variance, «равная дисперсия») — необязательный параметр, задающий считать ли равными дисперсии выборок. Передаётся как \"equal_var = True\" или \"equal_var = False\" (True — считать, False — не считать). \\\n",
    "Есть основание полагать, что выборки взяты из схожих по параметрам совокупностей? Тогда укажите этот параметр как True, и дисперсия каждой выборки будет оценена по объединённому датасету из двух выборок, а не для каждой по отдельности по значениям в ней самой. \\\n",
    "Так делают, чтобы получить более точные результаты. Но только в том случае, если считать примерно равными дисперсии генеральных совокупностей, из которых взяты выборки. Иначе параметр нужно указать как False; по умолчанию он задан как True (если вообще его не указывать)."
   ]
  },
  {
   "cell_type": "code",
   "execution_count": 109,
   "metadata": {},
   "outputs": [
    {
     "name": "stdout",
     "output_type": "stream",
     "text": [
      "Дисперсия smart_income_mean = 68079.20307446358 // Дисперсия ultra_income_mean = 0.0\n"
     ]
    }
   ],
   "source": [
    "print('Дисперсия smart_income_mean =', np.var(smart_income_mean), '// Дисперсия ultra_income_mean =', \\\n",
    "      np.var(ultra_income_mean))"
   ]
  },
  {
   "cell_type": "markdown",
   "metadata": {},
   "source": [
    "Видно,что дисперсия сильно отличается 660979 против 142955 (в 4,6 раза). Поэтому для проведения тэста возьмем equal_var = False\n",
    "\n",
    "Так как нам не нужны сверх точные значения, мы же не запускаем ракету в космос (где каждая мелочь может привести к катастрофе, точность очень высокая и всё надо очень тщателльно проверять, чтобы погрешности были максимально малы), то укажем критический уровень статистической значимости 5% alpha = 0.05\n",
    "\n",
    "По заданию надо проверить гипотезу: средняя выручка пользователей тарифов «Ультра» (ultra_income_mean) и «Смарт» (smart_income_mean) различается.\n",
    "\n",
    "Так как \"H₀ всегда формулируется так, чтобы использовать знак равенства\" то нулевую гипотезу сформулируем так: средняя выручка пользователей тарифов «Ультра» (ultra_income_mean) и «Смарт» (smart_income_mean) равны; альтернативная гипотеза H₁ тогда будет такая - средняя выручка пользователей тарифов «Ультра» и «Смарт» различается (как по заданию)."
   ]
  },
  {
   "cell_type": "code",
   "execution_count": 110,
   "metadata": {},
   "outputs": [
    {
     "name": "stdout",
     "output_type": "stream",
     "text": [
      "Средние значения выборки прибыли: \n",
      " smart: 692.1529147982063 ultra: 1950.0\n",
      "p-значение: 0.0 alpha = 0.05\n",
      "Отвергаем нулевую гипотезу\n"
     ]
    },
    {
     "name": "stderr",
     "output_type": "stream",
     "text": [
      "/tmp/ipykernel_93/2670322007.py:5: RuntimeWarning: Precision loss occurred in moment calculation due to catastrophic cancellation. This occurs when the data are nearly identical. Results may be unreliable.\n",
      "  results = st.ttest_ind(smart_income_mean, ultra_income_mean, equal_var = False)\n"
     ]
    }
   ],
   "source": [
    "from scipy import stats as st\n",
    "\n",
    "alpha = 0.05\n",
    "\n",
    "results = st.ttest_ind(smart_income_mean, ultra_income_mean, equal_var = False)\n",
    "\n",
    "\n",
    "print('Средние значения выборки прибыли: \\n' , \n",
    "      'smart:', smart_income_mean.mean(), \n",
    "      'ultra:', ultra_income_mean.mean())\n",
    "print('p-значение:', results.pvalue, \n",
    "      'alpha = 0.05')\n",
    "\n",
    "if (results.pvalue < alpha):\n",
    "    print(\"Отвергаем нулевую гипотезу\")\n",
    "else:\n",
    "    print(\"Не получилось отвергнуть нулевую гипотезу\")"
   ]
  },
  {
   "cell_type": "markdown",
   "metadata": {},
   "source": [
    "***Вывод: По-скольку нулевая гипотеза отвергнута (средняя выручка пользователей 2 тарифов равны), то актуальна альтернативная гипотеза (которую надо прояснить по заданью). Поэтому средняя выручка пользователей тарифов «Ультра» и «Смарт» различается, то есть ГИПОТЕЗА №1 ПОДТВЕРЖДАЕТСЯ.***"
   ]
  },
  {
   "cell_type": "markdown",
   "metadata": {},
   "source": [
    "### Гипотеза №2: средняя выручка пользователей из Москвы отличается от выручки пользователей из других регионов "
   ]
  },
  {
   "cell_type": "markdown",
   "metadata": {},
   "source": [
    "Тэстирование Гипотезы №2 сделаем по аналогии с Гипотезой №1\n",
    "\n",
    "Запишем выручки в 2 таблицы moscow_income_mean, other_income_mean для Москвы и Остальных"
   ]
  },
  {
   "cell_type": "code",
   "execution_count": 111,
   "metadata": {},
   "outputs": [],
   "source": [
    "moscow_income_mean = abonents.query('city == \"Москва\"')['income'].values\n",
    "other_income_mean = abonents.query('city != \"Москва\"')['income'].values\n",
    "\n",
    "# print(len(moscow_income_mean),moscow_income_mean)\n",
    "# print(len(other_income_mean),other_income_mean)"
   ]
  },
  {
   "cell_type": "code",
   "execution_count": 112,
   "metadata": {},
   "outputs": [
    {
     "name": "stdout",
     "output_type": "stream",
     "text": [
      "Дисперсия moscow_income_mean = 410031.8230691549 // Дисперсия other_income_mean = 375938.9837340711\n"
     ]
    }
   ],
   "source": [
    "print('Дисперсия moscow_income_mean =', np.var(moscow_income_mean), '// Дисперсия other_income_mean =', \\\n",
    "      np.var(other_income_mean))"
   ]
  },
  {
   "cell_type": "markdown",
   "metadata": {},
   "source": [
    "Видно,что дисперсия не сильно отличается: 555126 против 643914 (около 16% разница). Поэтому equal_var = True\n",
    "\n",
    "Так как нам не нужны сверх точные значения, как и в гипотезе №1, то укажем критический уровень статистической значимости 5% alpha = 0.05\n",
    "\n",
    "По заданию надо проверить гипотезу: средняя выручка пользователей из Москвы (moscow_income_mean) отличается от выручки пользователей из других регионов (other_income_mean)\n",
    "\n",
    "Нулевую гипотезу сформулируем так: средняя выручка пользователей тарифов «Ультра» (moscow_income_mean) и «Смарт» (other_income_mean) равны. Альтернативная тогда - средняя выручка различается."
   ]
  },
  {
   "cell_type": "code",
   "execution_count": 113,
   "metadata": {},
   "outputs": [
    {
     "name": "stdout",
     "output_type": "stream",
     "text": [
      "p-значение: 0.0018834397522731023\n",
      "Отвергаем нулевую гипотезу\n"
     ]
    }
   ],
   "source": [
    "from scipy import stats as st\n",
    "\n",
    "alpha = 0.05\n",
    "\n",
    "results = st.ttest_ind(moscow_income_mean, other_income_mean, equal_var = True)\n",
    "\n",
    "print('p-значение:', results.pvalue) # ваш код: выведите на экран получившееся p-значение)\n",
    "\n",
    "if (results.pvalue < alpha): # ваш код: сравните получившееся p-значение с заданным уровнем статистической значимости):\n",
    "    print(\"Отвергаем нулевую гипотезу\")\n",
    "else:\n",
    "    print(\"Не получилось отвергнуть нулевую гипотезу\")"
   ]
  },
  {
   "cell_type": "markdown",
   "metadata": {},
   "source": [
    "***Вывод: По-скольку нулевая гипотеза не отвергнута (средняя выручка пользователей Москвы и других городов равны), то это значит она актуадьна, то есть ГИПОТЕЗА №2 НЕ ПОДТВЕРЖДАЕТСЯ***"
   ]
  },
  {
   "cell_type": "markdown",
   "metadata": {},
   "source": [
    "## Общий вывод"
   ]
  },
  {
   "cell_type": "code",
   "execution_count": 114,
   "metadata": {},
   "outputs": [
    {
     "name": "stdout",
     "output_type": "stream",
     "text": [
      "Выручка тарифа ультра = 1922700.0 12904.026845637583\n",
      "Выручка тарифа смарт = 1543501.0 4397.438746438746\n"
     ]
    }
   ],
   "source": [
    "ultra_income = abonents.query('tariff ==\"ultra\"')['income'].sum()\n",
    "ultra_abonents = len(abonents.query('tariff ==\"ultra\"'))\n",
    "smart_income = abonents.query('tariff ==\"smart\"')['income'].sum()\n",
    "smart_abonents = len(abonents.query('tariff ==\"smart\"'))\n",
    "print(f'Выручка тарифа ультра = {ultra_income} {ultra_income/149}')\n",
    "print(f'Выручка тарифа смарт = {smart_income} {smart_income/351}')"
   ]
  },
  {
   "cell_type": "markdown",
   "metadata": {},
   "source": [
    "+ Большинству данных не требовалась предобработка. Поэтому изменены только типы в столбцах с датами на datetime64, и проверена корректность данных. Дубликатов не было.\n",
    "\n",
    "+ Была создана новая таблица abonents - в которую сгруппировали данные по каждому абоненту за каждый месяц пользования. Заполнили образовавшиеся пропуски. Рассчитали для анализа 4 столбца: min - минут/мес, mes - СМС/мес, gb - гб/мес и income - выручка за месяц.\n",
    "\n",
    "* В процессе анализа было выявлено:\n",
    "    В тарифе smart подавляющее большинство абонентов укладываются в лимит 500 минут разговора. В тарифе ultra не сильно ушли от этого значения - среднемесячное не больше 600 минут. Также можно наблюдать, что расход минут постепенно возрастает в течение года. Исключение - февраль, тут резкое падение у обоих тарифов.\n",
    "    \n",
    "+ СМС - мало популярная услуга (много абонентов которых вообще не пишут СМС или почти не пишут).\n",
    "\n",
    "+ Абоненты smart любят посидеть в интернете и часто привышают лимит в 15 гб, даже среднее значение выше - 16 гб, также надо отметить, что опять начало года характеризовано низкой активностью в интернете. Вероятнее всего люди сидят дома в зоне WiFi. В тарифе ultra опять сильный провал в феврале (в 2 раза), а в остально часть года идет очень постепенный рост; средний расход трафика около 18,8 ГБ. Подавляющее большинство абонентов расходуют в месяц трафика от 11 до 23 ГБ. \n",
    "\n",
    "+ По выручке можно сказать: что выручка абонентов ultra в подавляющем большинстве случаев ограничивается абонплатой(1950р), а абоненты smart бывает переплачивают из-за нехватки интернет трафика.\n",
    "\n",
    "+ В принципе многие абоненты ultra могли бы перейти на тариф smart и платили бы меньше - если исходить из усредненных значений: \n",
    "\n",
    "*510мин (10 сверх 500) 10 3 = 30р Трафик 18831 МБ (3471 (4ГБ) сверх 15360 МБ) 4 200 = 800р \\\n",
    "Итого = 550 + 30 + 800 = 1380р - Выгоднее чем тариф ультра*\n",
    "\n",
    "+ Была создана таблица stat_df куда записаны Среднее количество, дисперсия и стандартное отклонение для 4 параметров (минуты разговора, СМС, кол-во интернет-трафика, выручка) по каждому тарифу Смарт и Ультра и по объединенным значениям обоих тарифов.\n",
    "\n",
    "+ Проверены две гипотезы:\\\n",
    "1) Гипотеза №1: средняя выручка пользователей тарифов «Ультра» и «Смарт» различается: ГИПОТЕЗА ПОДТВЕРДИЛАСЬ\\\n",
    "2) Гипотеза №2: средняя выручка пользователей из Москвы отличается от выручки пользователей из других регионов: ГИПОТЕЗА НЕ ПОДТВЕРДИЛАСЬ\n",
    "\n",
    "*В итоге самый выгодный тариф для потребителя, оказался самым выгодным и для оператора. Имеет смысл активнее продвигать именно этот тариф. Как показало данное исследование, есть большая часть людей, которая выходит за рамки используемых тарифов.*"
   ]
  }
 ],
 "metadata": {
  "ExecuteTimeLog": [
   {
    "duration": 779,
    "start_time": "2022-04-03T14:03:03.119Z"
   },
   {
    "duration": 431,
    "start_time": "2022-04-03T14:03:46.937Z"
   },
   {
    "duration": 21,
    "start_time": "2022-04-03T14:21:31.009Z"
   },
   {
    "duration": 66,
    "start_time": "2022-04-04T15:31:57.334Z"
   },
   {
    "duration": 1034,
    "start_time": "2022-04-04T15:32:05.184Z"
   },
   {
    "duration": 597,
    "start_time": "2022-04-04T15:32:06.221Z"
   },
   {
    "duration": 32,
    "start_time": "2022-04-04T15:32:06.821Z"
   },
   {
    "duration": 34,
    "start_time": "2022-04-04T15:32:06.883Z"
   },
   {
    "duration": 5,
    "start_time": "2022-04-04T15:37:36.079Z"
   },
   {
    "duration": 13,
    "start_time": "2022-04-04T15:37:47.139Z"
   },
   {
    "duration": 10,
    "start_time": "2022-04-04T15:39:12.357Z"
   },
   {
    "duration": 33,
    "start_time": "2022-04-04T15:40:37.020Z"
   },
   {
    "duration": 7,
    "start_time": "2022-04-04T15:42:02.169Z"
   },
   {
    "duration": 31,
    "start_time": "2022-04-04T15:42:11.449Z"
   },
   {
    "duration": 797,
    "start_time": "2022-04-04T15:42:34.988Z"
   },
   {
    "duration": 632,
    "start_time": "2022-04-04T15:42:35.788Z"
   },
   {
    "duration": 63,
    "start_time": "2022-04-04T15:42:36.422Z"
   },
   {
    "duration": 6,
    "start_time": "2022-04-04T15:42:36.490Z"
   },
   {
    "duration": 18,
    "start_time": "2022-04-04T15:42:36.498Z"
   },
   {
    "duration": 13,
    "start_time": "2022-04-04T15:42:36.518Z"
   },
   {
    "duration": 80,
    "start_time": "2022-04-04T15:42:36.534Z"
   },
   {
    "duration": 8,
    "start_time": "2022-04-04T15:42:36.617Z"
   },
   {
    "duration": 58,
    "start_time": "2022-04-04T15:42:36.627Z"
   },
   {
    "duration": 12,
    "start_time": "2022-04-04T15:44:58.876Z"
   },
   {
    "duration": 10,
    "start_time": "2022-04-04T15:46:06.682Z"
   },
   {
    "duration": 19,
    "start_time": "2022-04-04T15:46:30.077Z"
   },
   {
    "duration": 4,
    "start_time": "2022-04-04T15:47:28.892Z"
   },
   {
    "duration": 846,
    "start_time": "2022-04-04T15:47:39.006Z"
   },
   {
    "duration": 15,
    "start_time": "2022-04-04T15:47:46.673Z"
   },
   {
    "duration": 114,
    "start_time": "2022-04-04T15:49:18.255Z"
   },
   {
    "duration": 12,
    "start_time": "2022-04-04T15:49:41.257Z"
   },
   {
    "duration": 50,
    "start_time": "2022-04-04T15:49:55.007Z"
   },
   {
    "duration": 11,
    "start_time": "2022-04-04T15:50:08.599Z"
   },
   {
    "duration": 23,
    "start_time": "2022-04-04T15:50:43.857Z"
   },
   {
    "duration": 14,
    "start_time": "2022-04-04T15:53:10.119Z"
   },
   {
    "duration": 154,
    "start_time": "2022-04-04T15:53:22.068Z"
   },
   {
    "duration": 24,
    "start_time": "2022-04-04T15:54:25.147Z"
   },
   {
    "duration": 6,
    "start_time": "2022-04-04T15:57:00.827Z"
   },
   {
    "duration": 24,
    "start_time": "2022-04-04T15:57:07.862Z"
   },
   {
    "duration": 7,
    "start_time": "2022-04-04T15:58:52.308Z"
   },
   {
    "duration": 17,
    "start_time": "2022-04-04T15:59:42.155Z"
   },
   {
    "duration": 12,
    "start_time": "2022-04-04T16:00:29.876Z"
   },
   {
    "duration": 53,
    "start_time": "2022-04-04T16:01:40.868Z"
   },
   {
    "duration": 206,
    "start_time": "2022-04-04T16:02:48.134Z"
   },
   {
    "duration": 17,
    "start_time": "2022-04-04T16:08:10.404Z"
   },
   {
    "duration": 48,
    "start_time": "2022-04-04T16:08:22.698Z"
   },
   {
    "duration": 46,
    "start_time": "2022-04-04T16:08:55.892Z"
   },
   {
    "duration": 31,
    "start_time": "2022-04-04T16:09:04.219Z"
   },
   {
    "duration": 37,
    "start_time": "2022-04-04T16:09:17.035Z"
   },
   {
    "duration": 24,
    "start_time": "2022-04-04T16:10:38.202Z"
   },
   {
    "duration": 155,
    "start_time": "2022-04-04T16:12:22.048Z"
   },
   {
    "duration": 21,
    "start_time": "2022-04-04T16:14:02.666Z"
   },
   {
    "duration": 9,
    "start_time": "2022-04-04T16:14:33.710Z"
   },
   {
    "duration": 789,
    "start_time": "2022-04-04T16:14:54.324Z"
   },
   {
    "duration": 26,
    "start_time": "2022-04-04T16:15:32.015Z"
   },
   {
    "duration": 38,
    "start_time": "2022-04-04T16:19:25.481Z"
   },
   {
    "duration": 91,
    "start_time": "2022-04-04T16:20:03.799Z"
   },
   {
    "duration": 7,
    "start_time": "2022-04-04T16:29:07.452Z"
   },
   {
    "duration": 29,
    "start_time": "2022-04-04T16:29:20.380Z"
   },
   {
    "duration": 26,
    "start_time": "2022-04-04T16:29:59.581Z"
   },
   {
    "duration": 25,
    "start_time": "2022-04-04T16:30:10.563Z"
   },
   {
    "duration": 28,
    "start_time": "2022-04-04T16:30:25.025Z"
   },
   {
    "duration": 26,
    "start_time": "2022-04-04T16:30:41.487Z"
   },
   {
    "duration": 15,
    "start_time": "2022-04-04T16:32:14.632Z"
   },
   {
    "duration": 433,
    "start_time": "2022-04-04T16:33:34.065Z"
   },
   {
    "duration": 20,
    "start_time": "2022-04-04T16:34:06.053Z"
   },
   {
    "duration": 51,
    "start_time": "2022-04-04T16:36:23.434Z"
   },
   {
    "duration": 12,
    "start_time": "2022-04-04T16:37:15.849Z"
   },
   {
    "duration": 19,
    "start_time": "2022-04-04T16:37:25.068Z"
   },
   {
    "duration": 109,
    "start_time": "2022-04-04T16:38:34.703Z"
   },
   {
    "duration": 21,
    "start_time": "2022-04-04T16:39:35.709Z"
   },
   {
    "duration": 115,
    "start_time": "2022-04-04T16:40:27.394Z"
   },
   {
    "duration": 8,
    "start_time": "2022-04-04T16:41:32.908Z"
   },
   {
    "duration": 37,
    "start_time": "2022-04-04T16:41:44.057Z"
   },
   {
    "duration": 33,
    "start_time": "2022-04-04T16:41:56.225Z"
   },
   {
    "duration": 31,
    "start_time": "2022-04-04T16:42:06.040Z"
   },
   {
    "duration": 16,
    "start_time": "2022-04-04T16:43:23.863Z"
   },
   {
    "duration": 522,
    "start_time": "2022-04-04T16:43:48.613Z"
   },
   {
    "duration": 23,
    "start_time": "2022-04-04T16:44:25.217Z"
   },
   {
    "duration": 24,
    "start_time": "2022-04-04T16:46:36.166Z"
   },
   {
    "duration": 15,
    "start_time": "2022-04-04T16:48:55.918Z"
   },
   {
    "duration": 18,
    "start_time": "2022-04-04T16:49:25.646Z"
   },
   {
    "duration": 16,
    "start_time": "2022-04-04T16:51:16.252Z"
   },
   {
    "duration": 108,
    "start_time": "2022-04-04T16:56:27.628Z"
   },
   {
    "duration": 77,
    "start_time": "2022-04-04T16:56:52.833Z"
   },
   {
    "duration": 8,
    "start_time": "2022-04-04T16:57:16.502Z"
   },
   {
    "duration": 7,
    "start_time": "2022-04-04T16:57:33.443Z"
   },
   {
    "duration": 7,
    "start_time": "2022-04-04T16:57:45.900Z"
   },
   {
    "duration": 7,
    "start_time": "2022-04-04T16:57:58.151Z"
   },
   {
    "duration": 7,
    "start_time": "2022-04-04T16:58:08.131Z"
   },
   {
    "duration": 7,
    "start_time": "2022-04-04T16:58:21.034Z"
   },
   {
    "duration": 5,
    "start_time": "2022-04-04T16:58:52.295Z"
   },
   {
    "duration": 36,
    "start_time": "2022-04-04T16:59:24.615Z"
   },
   {
    "duration": 44,
    "start_time": "2022-04-04T17:01:19.926Z"
   },
   {
    "duration": 65,
    "start_time": "2022-04-04T17:01:48.035Z"
   },
   {
    "duration": 7,
    "start_time": "2022-04-04T17:02:03.229Z"
   },
   {
    "duration": 9,
    "start_time": "2022-04-04T17:02:23.856Z"
   },
   {
    "duration": 16,
    "start_time": "2022-04-04T17:02:32.866Z"
   },
   {
    "duration": 19,
    "start_time": "2022-04-04T17:02:59.477Z"
   },
   {
    "duration": 19,
    "start_time": "2022-04-04T17:03:50.877Z"
   },
   {
    "duration": 5,
    "start_time": "2022-04-04T17:04:01.017Z"
   },
   {
    "duration": 11,
    "start_time": "2022-04-04T17:04:08.460Z"
   },
   {
    "duration": 424,
    "start_time": "2022-04-04T17:04:25.771Z"
   },
   {
    "duration": 27,
    "start_time": "2022-04-04T17:04:34.177Z"
   },
   {
    "duration": 28,
    "start_time": "2022-04-04T17:06:33.846Z"
   },
   {
    "duration": 34,
    "start_time": "2022-04-04T17:08:06.048Z"
   },
   {
    "duration": 10,
    "start_time": "2022-04-04T17:08:19.830Z"
   },
   {
    "duration": 19,
    "start_time": "2022-04-04T17:08:30.155Z"
   },
   {
    "duration": 19,
    "start_time": "2022-04-04T17:09:20.604Z"
   },
   {
    "duration": 1250,
    "start_time": "2022-04-04T17:09:41.465Z"
   },
   {
    "duration": 9,
    "start_time": "2022-04-04T17:10:17.909Z"
   },
   {
    "duration": 29,
    "start_time": "2022-04-04T17:11:36.565Z"
   },
   {
    "duration": 550,
    "start_time": "2022-04-04T17:12:24.396Z"
   },
   {
    "duration": 28,
    "start_time": "2022-04-04T17:13:07.602Z"
   },
   {
    "duration": 8,
    "start_time": "2022-04-04T17:13:52.616Z"
   },
   {
    "duration": 16,
    "start_time": "2022-04-04T17:14:02.566Z"
   },
   {
    "duration": 16,
    "start_time": "2022-04-04T17:14:11.732Z"
   },
   {
    "duration": 12,
    "start_time": "2022-04-04T17:14:21.186Z"
   },
   {
    "duration": 1749,
    "start_time": "2022-04-04T17:14:56.286Z"
   },
   {
    "duration": 9,
    "start_time": "2022-04-04T17:15:42.036Z"
   },
   {
    "duration": 25,
    "start_time": "2022-04-04T17:16:48.584Z"
   },
   {
    "duration": 2004,
    "start_time": "2022-04-04T17:17:00.587Z"
   },
   {
    "duration": 49,
    "start_time": "2022-04-04T17:18:46.083Z"
   },
   {
    "duration": 16,
    "start_time": "2022-04-04T17:19:12.623Z"
   },
   {
    "duration": 26,
    "start_time": "2022-04-04T17:24:36.246Z"
   },
   {
    "duration": 11,
    "start_time": "2022-04-04T17:25:25.328Z"
   },
   {
    "duration": 12,
    "start_time": "2022-04-04T17:26:47.841Z"
   },
   {
    "duration": 5,
    "start_time": "2022-04-04T17:27:26.444Z"
   },
   {
    "duration": 568,
    "start_time": "2022-04-04T17:28:00.642Z"
   },
   {
    "duration": 15,
    "start_time": "2022-04-04T17:29:34.541Z"
   },
   {
    "duration": 5,
    "start_time": "2022-04-04T17:29:45.375Z"
   },
   {
    "duration": 8,
    "start_time": "2022-04-04T17:30:16.065Z"
   },
   {
    "duration": 21,
    "start_time": "2022-04-04T17:31:17.914Z"
   },
   {
    "duration": 55,
    "start_time": "2022-04-05T15:19:15.891Z"
   },
   {
    "duration": 950,
    "start_time": "2022-04-05T15:19:22.100Z"
   },
   {
    "duration": 521,
    "start_time": "2022-04-05T15:19:23.052Z"
   },
   {
    "duration": 45,
    "start_time": "2022-04-05T15:19:23.575Z"
   },
   {
    "duration": 4,
    "start_time": "2022-04-05T15:19:23.622Z"
   },
   {
    "duration": 19,
    "start_time": "2022-04-05T15:19:23.628Z"
   },
   {
    "duration": 9,
    "start_time": "2022-04-05T15:19:23.649Z"
   },
   {
    "duration": 56,
    "start_time": "2022-04-05T15:19:23.659Z"
   },
   {
    "duration": 6,
    "start_time": "2022-04-05T15:19:23.720Z"
   },
   {
    "duration": 27,
    "start_time": "2022-04-05T15:19:23.728Z"
   },
   {
    "duration": 9,
    "start_time": "2022-04-05T15:19:23.758Z"
   },
   {
    "duration": 46,
    "start_time": "2022-04-05T15:19:23.768Z"
   },
   {
    "duration": 5,
    "start_time": "2022-04-05T15:19:23.816Z"
   },
   {
    "duration": 1073,
    "start_time": "2022-04-05T15:19:23.823Z"
   },
   {
    "duration": 10,
    "start_time": "2022-04-05T15:19:24.900Z"
   },
   {
    "duration": 12,
    "start_time": "2022-04-05T15:19:24.913Z"
   },
   {
    "duration": 51,
    "start_time": "2022-04-05T15:19:24.927Z"
   },
   {
    "duration": 25,
    "start_time": "2022-04-05T15:19:24.980Z"
   },
   {
    "duration": 22,
    "start_time": "2022-04-05T15:19:25.008Z"
   },
   {
    "duration": 13,
    "start_time": "2022-04-05T15:19:25.032Z"
   },
   {
    "duration": 181,
    "start_time": "2022-04-05T15:19:25.047Z"
   },
   {
    "duration": 16,
    "start_time": "2022-04-05T15:19:25.230Z"
   },
   {
    "duration": 4,
    "start_time": "2022-04-05T15:19:25.248Z"
   },
   {
    "duration": 48,
    "start_time": "2022-04-05T15:19:25.254Z"
   },
   {
    "duration": 7,
    "start_time": "2022-04-05T15:19:25.304Z"
   },
   {
    "duration": 16,
    "start_time": "2022-04-05T15:19:25.314Z"
   },
   {
    "duration": 13,
    "start_time": "2022-04-05T15:19:25.332Z"
   },
   {
    "duration": 64,
    "start_time": "2022-04-05T15:19:25.347Z"
   },
   {
    "duration": 220,
    "start_time": "2022-04-05T15:19:25.416Z"
   },
   {
    "duration": 14,
    "start_time": "2022-04-05T15:19:25.637Z"
   },
   {
    "duration": 64,
    "start_time": "2022-04-05T15:19:25.653Z"
   },
   {
    "duration": 36,
    "start_time": "2022-04-05T15:19:25.719Z"
   },
   {
    "duration": 53,
    "start_time": "2022-04-05T15:19:25.757Z"
   },
   {
    "duration": 19,
    "start_time": "2022-04-05T15:19:25.812Z"
   },
   {
    "duration": 110,
    "start_time": "2022-04-05T15:19:25.832Z"
   },
   {
    "duration": 15,
    "start_time": "2022-04-05T15:19:25.944Z"
   },
   {
    "duration": 6,
    "start_time": "2022-04-05T15:19:25.961Z"
   },
   {
    "duration": 601,
    "start_time": "2022-04-05T15:19:25.968Z"
   },
   {
    "duration": 31,
    "start_time": "2022-04-05T15:19:26.571Z"
   },
   {
    "duration": 30,
    "start_time": "2022-04-05T15:19:26.603Z"
   },
   {
    "duration": 114,
    "start_time": "2022-04-05T15:19:26.635Z"
   },
   {
    "duration": 5,
    "start_time": "2022-04-05T15:19:26.751Z"
   },
   {
    "duration": 45,
    "start_time": "2022-04-05T15:19:26.758Z"
   },
   {
    "duration": 21,
    "start_time": "2022-04-05T15:19:26.804Z"
   },
   {
    "duration": 19,
    "start_time": "2022-04-05T15:19:26.827Z"
   },
   {
    "duration": 11,
    "start_time": "2022-04-05T15:19:26.848Z"
   },
   {
    "duration": 403,
    "start_time": "2022-04-05T15:19:26.861Z"
   },
   {
    "duration": 15,
    "start_time": "2022-04-05T15:19:27.266Z"
   },
   {
    "duration": 49,
    "start_time": "2022-04-05T15:19:27.283Z"
   },
   {
    "duration": 8,
    "start_time": "2022-04-05T15:19:27.334Z"
   },
   {
    "duration": 25,
    "start_time": "2022-04-05T15:19:27.343Z"
   },
   {
    "duration": 140,
    "start_time": "2022-04-05T15:19:27.370Z"
   },
   {
    "duration": 17,
    "start_time": "2022-04-05T15:19:27.512Z"
   },
   {
    "duration": 96,
    "start_time": "2022-04-05T15:19:27.531Z"
   },
   {
    "duration": 6,
    "start_time": "2022-04-05T15:19:27.629Z"
   },
   {
    "duration": 40,
    "start_time": "2022-04-05T15:19:27.636Z"
   },
   {
    "duration": 42,
    "start_time": "2022-04-05T15:19:27.678Z"
   },
   {
    "duration": 21,
    "start_time": "2022-04-05T15:19:27.722Z"
   },
   {
    "duration": 13,
    "start_time": "2022-04-05T15:19:27.745Z"
   },
   {
    "duration": 464,
    "start_time": "2022-04-05T15:19:27.760Z"
   },
   {
    "duration": 17,
    "start_time": "2022-04-05T15:19:28.225Z"
   },
   {
    "duration": 21,
    "start_time": "2022-04-05T15:19:28.244Z"
   },
   {
    "duration": 35,
    "start_time": "2022-04-05T15:19:28.267Z"
   },
   {
    "duration": 13,
    "start_time": "2022-04-05T15:19:28.304Z"
   },
   {
    "duration": 12,
    "start_time": "2022-04-05T15:19:28.318Z"
   },
   {
    "duration": 111,
    "start_time": "2022-04-05T15:19:28.332Z"
   },
   {
    "duration": 67,
    "start_time": "2022-04-05T15:19:28.445Z"
   },
   {
    "duration": 6,
    "start_time": "2022-04-05T15:19:28.514Z"
   },
   {
    "duration": 10,
    "start_time": "2022-04-05T15:19:28.522Z"
   },
   {
    "duration": 16,
    "start_time": "2022-04-05T15:19:28.533Z"
   },
   {
    "duration": 6,
    "start_time": "2022-04-05T15:19:28.551Z"
   },
   {
    "duration": 22,
    "start_time": "2022-04-05T15:19:28.558Z"
   },
   {
    "duration": 52,
    "start_time": "2022-04-05T15:19:28.582Z"
   },
   {
    "duration": 33,
    "start_time": "2022-04-05T15:19:28.636Z"
   },
   {
    "duration": 34,
    "start_time": "2022-04-05T15:19:28.672Z"
   },
   {
    "duration": 15,
    "start_time": "2022-04-05T15:19:28.708Z"
   },
   {
    "duration": 13,
    "start_time": "2022-04-05T15:19:28.725Z"
   },
   {
    "duration": 19,
    "start_time": "2022-04-05T15:19:28.740Z"
   },
   {
    "duration": 40,
    "start_time": "2022-04-05T15:19:28.761Z"
   },
   {
    "duration": 4,
    "start_time": "2022-04-05T15:19:28.804Z"
   },
   {
    "duration": 14,
    "start_time": "2022-04-05T15:19:28.810Z"
   },
   {
    "duration": 275,
    "start_time": "2022-04-05T15:19:28.826Z"
   },
   {
    "duration": 19,
    "start_time": "2022-04-05T15:19:29.107Z"
   },
   {
    "duration": 22,
    "start_time": "2022-04-05T15:19:29.128Z"
   },
   {
    "duration": 25,
    "start_time": "2022-04-05T15:19:29.152Z"
   },
   {
    "duration": 8,
    "start_time": "2022-04-05T15:19:29.201Z"
   },
   {
    "duration": 17,
    "start_time": "2022-04-05T15:19:29.211Z"
   },
   {
    "duration": 16,
    "start_time": "2022-04-05T15:19:29.230Z"
   },
   {
    "duration": 895,
    "start_time": "2022-04-05T15:19:29.248Z"
   },
   {
    "duration": 7,
    "start_time": "2022-04-05T15:19:30.145Z"
   },
   {
    "duration": 27,
    "start_time": "2022-04-05T15:19:30.153Z"
   },
   {
    "duration": 360,
    "start_time": "2022-04-05T15:19:30.182Z"
   },
   {
    "duration": 20,
    "start_time": "2022-04-05T15:19:30.544Z"
   },
   {
    "duration": 7,
    "start_time": "2022-04-05T15:19:30.566Z"
   },
   {
    "duration": 32,
    "start_time": "2022-04-05T15:19:30.575Z"
   },
   {
    "duration": 14,
    "start_time": "2022-04-05T15:19:30.608Z"
   },
   {
    "duration": 12,
    "start_time": "2022-04-05T15:19:30.624Z"
   },
   {
    "duration": 1427,
    "start_time": "2022-04-05T15:19:30.637Z"
   },
   {
    "duration": 6,
    "start_time": "2022-04-05T15:19:32.066Z"
   },
   {
    "duration": 32,
    "start_time": "2022-04-05T15:19:32.074Z"
   },
   {
    "duration": 1342,
    "start_time": "2022-04-05T15:19:32.107Z"
   },
   {
    "duration": 36,
    "start_time": "2022-04-05T15:19:33.451Z"
   },
   {
    "duration": 24,
    "start_time": "2022-04-05T15:19:33.489Z"
   },
   {
    "duration": 28,
    "start_time": "2022-04-05T15:19:33.514Z"
   },
   {
    "duration": 13,
    "start_time": "2022-04-05T15:19:33.544Z"
   },
   {
    "duration": 8,
    "start_time": "2022-04-05T15:19:33.559Z"
   },
   {
    "duration": 448,
    "start_time": "2022-04-05T15:19:33.569Z"
   },
   {
    "duration": 9,
    "start_time": "2022-04-05T15:19:34.019Z"
   },
   {
    "duration": 9,
    "start_time": "2022-04-05T15:19:34.029Z"
   },
   {
    "duration": 10,
    "start_time": "2022-04-05T15:19:34.040Z"
   },
   {
    "duration": 15,
    "start_time": "2022-04-05T15:19:34.052Z"
   },
   {
    "duration": 24,
    "start_time": "2022-04-05T15:21:36.526Z"
   },
   {
    "duration": 519,
    "start_time": "2022-04-05T16:08:44.010Z"
   },
   {
    "duration": 389,
    "start_time": "2022-04-05T16:08:56.807Z"
   },
   {
    "duration": 106,
    "start_time": "2022-04-05T16:09:28.970Z"
   },
   {
    "duration": 9,
    "start_time": "2022-04-05T16:18:36.407Z"
   },
   {
    "duration": 10,
    "start_time": "2022-04-05T16:19:42.513Z"
   },
   {
    "duration": 12,
    "start_time": "2022-04-05T16:20:55.937Z"
   },
   {
    "duration": 14,
    "start_time": "2022-04-05T16:21:20.344Z"
   },
   {
    "duration": 17,
    "start_time": "2022-04-05T16:21:59.973Z"
   },
   {
    "duration": 11,
    "start_time": "2022-04-05T16:23:28.273Z"
   },
   {
    "duration": 33,
    "start_time": "2022-04-05T16:24:22.052Z"
   },
   {
    "duration": 53,
    "start_time": "2022-04-05T16:25:39.679Z"
   },
   {
    "duration": 28,
    "start_time": "2022-04-05T16:32:45.301Z"
   },
   {
    "duration": 24,
    "start_time": "2022-04-05T16:32:54.593Z"
   },
   {
    "duration": 29,
    "start_time": "2022-04-05T16:33:08.939Z"
   },
   {
    "duration": 28,
    "start_time": "2022-04-05T16:33:32.796Z"
   },
   {
    "duration": 35,
    "start_time": "2022-04-05T16:37:35.030Z"
   },
   {
    "duration": 34,
    "start_time": "2022-04-05T16:37:43.937Z"
   },
   {
    "duration": 39,
    "start_time": "2022-04-05T16:40:37.447Z"
   },
   {
    "duration": 253,
    "start_time": "2022-04-05T16:51:10.513Z"
   },
   {
    "duration": 21,
    "start_time": "2022-04-05T16:51:27.574Z"
   },
   {
    "duration": 22,
    "start_time": "2022-04-05T16:53:07.913Z"
   },
   {
    "duration": 24,
    "start_time": "2022-04-05T16:53:25.893Z"
   },
   {
    "duration": 16,
    "start_time": "2022-04-05T16:53:32.311Z"
   },
   {
    "duration": 818,
    "start_time": "2022-04-05T16:55:25.745Z"
   },
   {
    "duration": 2535,
    "start_time": "2022-04-05T16:55:45.434Z"
   },
   {
    "duration": 775,
    "start_time": "2022-04-05T16:55:54.268Z"
   },
   {
    "duration": 6,
    "start_time": "2022-04-05T17:04:13.851Z"
   },
   {
    "duration": 12,
    "start_time": "2022-04-05T17:04:17.521Z"
   },
   {
    "duration": 6,
    "start_time": "2022-04-05T17:04:29.509Z"
   },
   {
    "duration": 6,
    "start_time": "2022-04-05T17:05:18.111Z"
   },
   {
    "duration": 12,
    "start_time": "2022-04-05T17:05:21.261Z"
   },
   {
    "duration": 11,
    "start_time": "2022-04-05T17:05:24.395Z"
   },
   {
    "duration": 8,
    "start_time": "2022-04-05T17:05:32.621Z"
   },
   {
    "duration": 33,
    "start_time": "2022-04-05T17:08:44.202Z"
   },
   {
    "duration": 32,
    "start_time": "2022-04-05T17:09:56.318Z"
   },
   {
    "duration": 12,
    "start_time": "2022-04-05T17:10:15.827Z"
   },
   {
    "duration": 14,
    "start_time": "2022-04-05T17:31:25.301Z"
   },
   {
    "duration": 1349,
    "start_time": "2022-04-05T17:52:52.596Z"
   },
   {
    "duration": 1232,
    "start_time": "2022-04-05T17:53:13.915Z"
   },
   {
    "duration": 25,
    "start_time": "2022-04-05T17:54:01.997Z"
   },
   {
    "duration": 13,
    "start_time": "2022-04-05T17:54:16.538Z"
   },
   {
    "duration": 20,
    "start_time": "2022-04-05T17:54:25.021Z"
   },
   {
    "duration": 21,
    "start_time": "2022-04-05T17:54:33.938Z"
   },
   {
    "duration": 1401,
    "start_time": "2022-04-05T17:55:14.802Z"
   },
   {
    "duration": 1245,
    "start_time": "2022-04-05T17:55:44.420Z"
   },
   {
    "duration": 1370,
    "start_time": "2022-04-05T17:56:14.557Z"
   },
   {
    "duration": 1368,
    "start_time": "2022-04-05T17:56:37.452Z"
   },
   {
    "duration": 1444,
    "start_time": "2022-04-05T17:56:51.741Z"
   },
   {
    "duration": 129,
    "start_time": "2022-04-05T17:57:06.242Z"
   },
   {
    "duration": 1244,
    "start_time": "2022-04-05T17:57:11.717Z"
   },
   {
    "duration": 234,
    "start_time": "2022-04-05T17:57:21.456Z"
   },
   {
    "duration": 1258,
    "start_time": "2022-04-05T17:57:34.194Z"
   },
   {
    "duration": 891,
    "start_time": "2022-04-05T17:58:37.312Z"
   },
   {
    "duration": 895,
    "start_time": "2022-04-15T21:50:56.212Z"
   },
   {
    "duration": 432,
    "start_time": "2022-04-15T21:50:57.110Z"
   },
   {
    "duration": 166,
    "start_time": "2022-04-15T21:50:57.544Z"
   },
   {
    "duration": 21,
    "start_time": "2022-04-15T21:50:57.712Z"
   },
   {
    "duration": 4,
    "start_time": "2022-04-15T21:50:57.756Z"
   },
   {
    "duration": 23,
    "start_time": "2022-04-15T21:50:57.762Z"
   },
   {
    "duration": 7,
    "start_time": "2022-04-15T21:50:57.786Z"
   },
   {
    "duration": 24,
    "start_time": "2022-04-15T21:50:57.795Z"
   },
   {
    "duration": 4,
    "start_time": "2022-04-15T21:50:57.821Z"
   },
   {
    "duration": 53,
    "start_time": "2022-04-15T21:50:57.828Z"
   },
   {
    "duration": 8,
    "start_time": "2022-04-15T21:50:57.883Z"
   },
   {
    "duration": 18,
    "start_time": "2022-04-15T21:50:57.893Z"
   },
   {
    "duration": 5,
    "start_time": "2022-04-15T21:50:57.914Z"
   },
   {
    "duration": 785,
    "start_time": "2022-04-15T21:50:57.921Z"
   },
   {
    "duration": 17,
    "start_time": "2022-04-15T21:50:58.709Z"
   },
   {
    "duration": 10,
    "start_time": "2022-04-15T21:50:58.728Z"
   },
   {
    "duration": 51,
    "start_time": "2022-04-15T21:50:58.754Z"
   },
   {
    "duration": 10,
    "start_time": "2022-04-15T21:50:58.807Z"
   },
   {
    "duration": 47,
    "start_time": "2022-04-15T21:50:58.819Z"
   },
   {
    "duration": 18,
    "start_time": "2022-04-15T21:50:58.870Z"
   },
   {
    "duration": 149,
    "start_time": "2022-04-15T21:50:58.890Z"
   },
   {
    "duration": 22,
    "start_time": "2022-04-15T21:50:59.041Z"
   },
   {
    "duration": 6,
    "start_time": "2022-04-15T21:50:59.065Z"
   },
   {
    "duration": 29,
    "start_time": "2022-04-15T21:50:59.073Z"
   },
   {
    "duration": 5,
    "start_time": "2022-04-15T21:50:59.104Z"
   },
   {
    "duration": 15,
    "start_time": "2022-04-15T21:50:59.111Z"
   },
   {
    "duration": 20,
    "start_time": "2022-04-15T21:50:59.154Z"
   },
   {
    "duration": 45,
    "start_time": "2022-04-15T21:50:59.180Z"
   },
   {
    "duration": 351,
    "start_time": "2022-04-15T21:50:59.227Z"
   },
   {
    "duration": 18,
    "start_time": "2022-04-15T21:50:59.580Z"
   },
   {
    "duration": 74,
    "start_time": "2022-04-15T21:50:59.600Z"
   },
   {
    "duration": 35,
    "start_time": "2022-04-15T21:50:59.676Z"
   },
   {
    "duration": 43,
    "start_time": "2022-04-15T21:50:59.713Z"
   },
   {
    "duration": 24,
    "start_time": "2022-04-15T21:50:59.759Z"
   },
   {
    "duration": 118,
    "start_time": "2022-04-15T21:50:59.786Z"
   },
   {
    "duration": 16,
    "start_time": "2022-04-15T21:50:59.906Z"
   },
   {
    "duration": 6,
    "start_time": "2022-04-15T21:50:59.924Z"
   },
   {
    "duration": 653,
    "start_time": "2022-04-15T21:50:59.932Z"
   },
   {
    "duration": 19,
    "start_time": "2022-04-15T21:51:00.587Z"
   },
   {
    "duration": 54,
    "start_time": "2022-04-15T21:51:00.608Z"
   },
   {
    "duration": 119,
    "start_time": "2022-04-15T21:51:00.668Z"
   },
   {
    "duration": 5,
    "start_time": "2022-04-15T21:51:00.789Z"
   },
   {
    "duration": 34,
    "start_time": "2022-04-15T21:51:00.796Z"
   },
   {
    "duration": 53,
    "start_time": "2022-04-15T21:51:00.831Z"
   },
   {
    "duration": 14,
    "start_time": "2022-04-15T21:51:00.886Z"
   },
   {
    "duration": 31,
    "start_time": "2022-04-15T21:51:00.902Z"
   },
   {
    "duration": 390,
    "start_time": "2022-04-15T21:51:00.935Z"
   },
   {
    "duration": 32,
    "start_time": "2022-04-15T21:51:01.328Z"
   },
   {
    "duration": 54,
    "start_time": "2022-04-15T21:51:01.364Z"
   },
   {
    "duration": 32,
    "start_time": "2022-04-15T21:51:01.420Z"
   },
   {
    "duration": 21,
    "start_time": "2022-04-15T21:51:01.455Z"
   },
   {
    "duration": 230,
    "start_time": "2022-04-15T21:51:01.479Z"
   },
   {
    "duration": 18,
    "start_time": "2022-04-15T21:51:01.712Z"
   },
   {
    "duration": 104,
    "start_time": "2022-04-15T21:51:01.732Z"
   },
   {
    "duration": 23,
    "start_time": "2022-04-15T21:51:01.837Z"
   },
   {
    "duration": 97,
    "start_time": "2022-04-15T21:51:01.862Z"
   },
   {
    "duration": 167,
    "start_time": "2022-04-15T21:51:01.962Z"
   },
   {
    "duration": 31,
    "start_time": "2022-04-15T21:51:02.132Z"
   },
   {
    "duration": 17,
    "start_time": "2022-04-15T21:51:02.165Z"
   },
   {
    "duration": 471,
    "start_time": "2022-04-15T21:51:02.183Z"
   },
   {
    "duration": 25,
    "start_time": "2022-04-15T21:51:02.657Z"
   },
   {
    "duration": 16,
    "start_time": "2022-04-15T21:51:02.684Z"
   },
   {
    "duration": 10,
    "start_time": "2022-04-15T21:51:02.702Z"
   },
   {
    "duration": 42,
    "start_time": "2022-04-15T21:51:02.714Z"
   },
   {
    "duration": 18,
    "start_time": "2022-04-15T21:51:02.759Z"
   },
   {
    "duration": 109,
    "start_time": "2022-04-15T21:51:02.779Z"
   },
   {
    "duration": 50,
    "start_time": "2022-04-15T21:51:02.889Z"
   },
   {
    "duration": 7,
    "start_time": "2022-04-15T21:51:02.955Z"
   },
   {
    "duration": 31,
    "start_time": "2022-04-15T21:51:02.964Z"
   },
   {
    "duration": 18,
    "start_time": "2022-04-15T21:51:02.998Z"
   },
   {
    "duration": 19,
    "start_time": "2022-04-15T21:51:03.018Z"
   },
   {
    "duration": 46,
    "start_time": "2022-04-15T21:51:03.039Z"
   },
   {
    "duration": 33,
    "start_time": "2022-04-15T21:51:03.086Z"
   },
   {
    "duration": 47,
    "start_time": "2022-04-15T21:51:03.120Z"
   },
   {
    "duration": 7,
    "start_time": "2022-04-15T21:51:03.169Z"
   },
   {
    "duration": 25,
    "start_time": "2022-04-15T21:51:03.178Z"
   },
   {
    "duration": 24,
    "start_time": "2022-04-15T21:51:03.205Z"
   },
   {
    "duration": 35,
    "start_time": "2022-04-15T21:51:03.230Z"
   },
   {
    "duration": 20,
    "start_time": "2022-04-15T21:51:03.267Z"
   },
   {
    "duration": 11,
    "start_time": "2022-04-15T21:51:03.289Z"
   },
   {
    "duration": 23,
    "start_time": "2022-04-15T21:51:03.302Z"
   },
   {
    "duration": 268,
    "start_time": "2022-04-15T21:51:03.335Z"
   },
   {
    "duration": 19,
    "start_time": "2022-04-15T21:51:03.604Z"
   },
   {
    "duration": 31,
    "start_time": "2022-04-15T21:51:03.625Z"
   },
   {
    "duration": 21,
    "start_time": "2022-04-15T21:51:03.659Z"
   },
   {
    "duration": 16,
    "start_time": "2022-04-15T21:51:03.682Z"
   },
   {
    "duration": 25,
    "start_time": "2022-04-15T21:51:03.700Z"
   },
   {
    "duration": 17,
    "start_time": "2022-04-15T21:51:03.727Z"
   },
   {
    "duration": 842,
    "start_time": "2022-04-15T21:51:03.746Z"
   },
   {
    "duration": 6,
    "start_time": "2022-04-15T21:51:04.591Z"
   },
   {
    "duration": 32,
    "start_time": "2022-04-15T21:51:04.599Z"
   },
   {
    "duration": 371,
    "start_time": "2022-04-15T21:51:04.632Z"
   },
   {
    "duration": 20,
    "start_time": "2022-04-15T21:51:05.005Z"
   },
   {
    "duration": 8,
    "start_time": "2022-04-15T21:51:05.027Z"
   },
   {
    "duration": 13,
    "start_time": "2022-04-15T21:51:05.055Z"
   },
   {
    "duration": 35,
    "start_time": "2022-04-15T21:51:05.069Z"
   },
   {
    "duration": 19,
    "start_time": "2022-04-15T21:51:05.106Z"
   },
   {
    "duration": 1381,
    "start_time": "2022-04-15T21:51:05.127Z"
   },
   {
    "duration": 7,
    "start_time": "2022-04-15T21:51:06.510Z"
   },
   {
    "duration": 18,
    "start_time": "2022-04-15T21:51:06.519Z"
   },
   {
    "duration": 1366,
    "start_time": "2022-04-15T21:51:06.555Z"
   },
   {
    "duration": 44,
    "start_time": "2022-04-15T21:51:07.923Z"
   },
   {
    "duration": 11,
    "start_time": "2022-04-15T21:51:07.969Z"
   },
   {
    "duration": 22,
    "start_time": "2022-04-15T21:51:07.982Z"
   },
   {
    "duration": 12,
    "start_time": "2022-04-15T21:51:08.006Z"
   },
   {
    "duration": 4,
    "start_time": "2022-04-15T21:51:08.020Z"
   },
   {
    "duration": 447,
    "start_time": "2022-04-15T21:51:08.026Z"
   },
   {
    "duration": 8,
    "start_time": "2022-04-15T21:51:08.475Z"
   },
   {
    "duration": 11,
    "start_time": "2022-04-15T21:51:08.485Z"
   },
   {
    "duration": 11,
    "start_time": "2022-04-15T21:51:08.498Z"
   },
   {
    "duration": 65,
    "start_time": "2022-04-15T21:51:08.511Z"
   },
   {
    "duration": 27,
    "start_time": "2022-04-15T21:54:59.123Z"
   },
   {
    "duration": 35,
    "start_time": "2022-04-15T21:55:02.089Z"
   },
   {
    "duration": 936,
    "start_time": "2022-04-15T21:59:35.820Z"
   },
   {
    "duration": 441,
    "start_time": "2022-04-15T21:59:36.759Z"
   },
   {
    "duration": 118,
    "start_time": "2022-04-15T21:59:37.202Z"
   },
   {
    "duration": 46,
    "start_time": "2022-04-15T21:59:37.322Z"
   },
   {
    "duration": 4,
    "start_time": "2022-04-15T21:59:37.370Z"
   },
   {
    "duration": 24,
    "start_time": "2022-04-15T21:59:37.377Z"
   },
   {
    "duration": 8,
    "start_time": "2022-04-15T21:59:37.403Z"
   },
   {
    "duration": 47,
    "start_time": "2022-04-15T21:59:37.413Z"
   },
   {
    "duration": 6,
    "start_time": "2022-04-15T21:59:37.462Z"
   },
   {
    "duration": 27,
    "start_time": "2022-04-15T21:59:37.472Z"
   },
   {
    "duration": 9,
    "start_time": "2022-04-15T21:59:37.501Z"
   },
   {
    "duration": 48,
    "start_time": "2022-04-15T21:59:37.512Z"
   },
   {
    "duration": 4,
    "start_time": "2022-04-15T21:59:37.562Z"
   },
   {
    "duration": 988,
    "start_time": "2022-04-15T21:59:37.568Z"
   },
   {
    "duration": 15,
    "start_time": "2022-04-15T21:59:38.559Z"
   },
   {
    "duration": 21,
    "start_time": "2022-04-15T21:59:38.576Z"
   },
   {
    "duration": 47,
    "start_time": "2022-04-15T21:59:38.599Z"
   },
   {
    "duration": 14,
    "start_time": "2022-04-15T21:59:38.647Z"
   },
   {
    "duration": 43,
    "start_time": "2022-04-15T21:59:38.663Z"
   },
   {
    "duration": 14,
    "start_time": "2022-04-15T21:59:38.708Z"
   },
   {
    "duration": 171,
    "start_time": "2022-04-15T21:59:38.724Z"
   },
   {
    "duration": 12,
    "start_time": "2022-04-15T21:59:38.897Z"
   },
   {
    "duration": 5,
    "start_time": "2022-04-15T21:59:38.911Z"
   },
   {
    "duration": 41,
    "start_time": "2022-04-15T21:59:38.918Z"
   },
   {
    "duration": 7,
    "start_time": "2022-04-15T21:59:38.961Z"
   },
   {
    "duration": 14,
    "start_time": "2022-04-15T21:59:38.970Z"
   },
   {
    "duration": 12,
    "start_time": "2022-04-15T21:59:38.986Z"
   },
   {
    "duration": 93,
    "start_time": "2022-04-15T21:59:39.006Z"
   },
   {
    "duration": 384,
    "start_time": "2022-04-15T21:59:39.102Z"
   },
   {
    "duration": 21,
    "start_time": "2022-04-15T21:59:39.487Z"
   },
   {
    "duration": 87,
    "start_time": "2022-04-15T21:59:39.510Z"
   },
   {
    "duration": 66,
    "start_time": "2022-04-15T21:59:39.600Z"
   },
   {
    "duration": 32,
    "start_time": "2022-04-15T21:59:39.668Z"
   },
   {
    "duration": 21,
    "start_time": "2022-04-15T21:59:39.702Z"
   },
   {
    "duration": 171,
    "start_time": "2022-04-15T21:59:39.756Z"
   },
   {
    "duration": 31,
    "start_time": "2022-04-15T21:59:39.929Z"
   },
   {
    "duration": 8,
    "start_time": "2022-04-15T21:59:39.962Z"
   },
   {
    "duration": 1028,
    "start_time": "2022-04-15T21:59:39.972Z"
   },
   {
    "duration": 20,
    "start_time": "2022-04-15T21:59:41.002Z"
   },
   {
    "duration": 48,
    "start_time": "2022-04-15T21:59:41.024Z"
   },
   {
    "duration": 121,
    "start_time": "2022-04-15T21:59:41.074Z"
   },
   {
    "duration": 8,
    "start_time": "2022-04-15T21:59:41.198Z"
   },
   {
    "duration": 68,
    "start_time": "2022-04-15T21:59:41.209Z"
   },
   {
    "duration": 21,
    "start_time": "2022-04-15T21:59:41.279Z"
   },
   {
    "duration": 16,
    "start_time": "2022-04-15T21:59:41.302Z"
   },
   {
    "duration": 38,
    "start_time": "2022-04-15T21:59:41.321Z"
   },
   {
    "duration": 693,
    "start_time": "2022-04-15T21:59:41.361Z"
   },
   {
    "duration": 24,
    "start_time": "2022-04-15T21:59:42.057Z"
   },
   {
    "duration": 103,
    "start_time": "2022-04-15T21:59:42.084Z"
   },
   {
    "duration": 66,
    "start_time": "2022-04-15T21:59:42.189Z"
   },
   {
    "duration": 21,
    "start_time": "2022-04-15T21:59:42.257Z"
   },
   {
    "duration": 389,
    "start_time": "2022-04-15T21:59:42.280Z"
   },
   {
    "duration": 22,
    "start_time": "2022-04-15T21:59:42.671Z"
   },
   {
    "duration": 296,
    "start_time": "2022-04-15T21:59:42.696Z"
   },
   {
    "duration": 7,
    "start_time": "2022-04-15T21:59:42.994Z"
   },
   {
    "duration": 93,
    "start_time": "2022-04-15T21:59:43.002Z"
   },
   {
    "duration": 71,
    "start_time": "2022-04-15T21:59:43.097Z"
   },
   {
    "duration": 30,
    "start_time": "2022-04-15T21:59:43.170Z"
   },
   {
    "duration": 70,
    "start_time": "2022-04-15T21:59:43.201Z"
   },
   {
    "duration": 937,
    "start_time": "2022-04-15T21:59:43.273Z"
   },
   {
    "duration": 17,
    "start_time": "2022-04-15T21:59:44.213Z"
   },
   {
    "duration": 41,
    "start_time": "2022-04-15T21:59:44.232Z"
   },
   {
    "duration": 14,
    "start_time": "2022-04-15T21:59:44.275Z"
   },
   {
    "duration": 16,
    "start_time": "2022-04-15T21:59:44.291Z"
   },
   {
    "duration": 14,
    "start_time": "2022-04-15T21:59:44.309Z"
   },
   {
    "duration": 140,
    "start_time": "2022-04-15T21:59:44.325Z"
   },
   {
    "duration": 60,
    "start_time": "2022-04-15T21:59:44.468Z"
   },
   {
    "duration": 29,
    "start_time": "2022-04-15T21:59:44.530Z"
   },
   {
    "duration": 8,
    "start_time": "2022-04-15T21:59:44.562Z"
   },
   {
    "duration": 6,
    "start_time": "2022-04-15T21:59:44.572Z"
   },
   {
    "duration": 8,
    "start_time": "2022-04-15T21:59:44.580Z"
   },
   {
    "duration": 24,
    "start_time": "2022-04-15T21:59:44.589Z"
   },
   {
    "duration": 70,
    "start_time": "2022-04-15T21:59:44.615Z"
   },
   {
    "duration": 37,
    "start_time": "2022-04-15T21:59:44.687Z"
   },
   {
    "duration": 28,
    "start_time": "2022-04-15T21:59:44.727Z"
   },
   {
    "duration": 9,
    "start_time": "2022-04-15T21:59:44.757Z"
   },
   {
    "duration": 17,
    "start_time": "2022-04-15T21:59:44.768Z"
   },
   {
    "duration": 25,
    "start_time": "2022-04-15T21:59:44.787Z"
   },
   {
    "duration": 23,
    "start_time": "2022-04-15T21:59:44.814Z"
   },
   {
    "duration": 20,
    "start_time": "2022-04-15T21:59:44.838Z"
   },
   {
    "duration": 21,
    "start_time": "2022-04-15T21:59:44.859Z"
   },
   {
    "duration": 240,
    "start_time": "2022-04-15T21:59:44.887Z"
   },
   {
    "duration": 29,
    "start_time": "2022-04-15T21:59:45.128Z"
   },
   {
    "duration": 20,
    "start_time": "2022-04-15T21:59:45.159Z"
   },
   {
    "duration": 18,
    "start_time": "2022-04-15T21:59:45.181Z"
   },
   {
    "duration": 10,
    "start_time": "2022-04-15T21:59:45.200Z"
   },
   {
    "duration": 19,
    "start_time": "2022-04-15T21:59:45.213Z"
   },
   {
    "duration": 14,
    "start_time": "2022-04-15T21:59:45.255Z"
   },
   {
    "duration": 850,
    "start_time": "2022-04-15T21:59:45.271Z"
   },
   {
    "duration": 6,
    "start_time": "2022-04-15T21:59:46.124Z"
   },
   {
    "duration": 38,
    "start_time": "2022-04-15T21:59:46.132Z"
   },
   {
    "duration": 347,
    "start_time": "2022-04-15T21:59:46.171Z"
   },
   {
    "duration": 21,
    "start_time": "2022-04-15T21:59:46.519Z"
   },
   {
    "duration": 8,
    "start_time": "2022-04-15T21:59:46.555Z"
   },
   {
    "duration": 15,
    "start_time": "2022-04-15T21:59:46.565Z"
   },
   {
    "duration": 12,
    "start_time": "2022-04-15T21:59:46.582Z"
   },
   {
    "duration": 13,
    "start_time": "2022-04-15T21:59:46.596Z"
   },
   {
    "duration": 1546,
    "start_time": "2022-04-15T21:59:46.611Z"
   },
   {
    "duration": 8,
    "start_time": "2022-04-15T21:59:48.159Z"
   },
   {
    "duration": 33,
    "start_time": "2022-04-15T21:59:48.169Z"
   },
   {
    "duration": 3310,
    "start_time": "2022-04-15T21:59:48.204Z"
   },
   {
    "duration": 53,
    "start_time": "2022-04-15T21:59:51.516Z"
   },
   {
    "duration": 14,
    "start_time": "2022-04-15T21:59:51.571Z"
   },
   {
    "duration": 27,
    "start_time": "2022-04-15T21:59:51.588Z"
   },
   {
    "duration": 36,
    "start_time": "2022-04-15T21:59:51.618Z"
   },
   {
    "duration": 5,
    "start_time": "2022-04-15T21:59:51.657Z"
   },
   {
    "duration": 462,
    "start_time": "2022-04-15T21:59:51.664Z"
   },
   {
    "duration": 10,
    "start_time": "2022-04-15T21:59:52.128Z"
   },
   {
    "duration": 16,
    "start_time": "2022-04-15T21:59:52.140Z"
   },
   {
    "duration": 8,
    "start_time": "2022-04-15T21:59:52.158Z"
   },
   {
    "duration": 22,
    "start_time": "2022-04-15T21:59:52.168Z"
   },
   {
    "duration": 732,
    "start_time": "2022-04-15T22:06:45.255Z"
   },
   {
    "duration": 529,
    "start_time": "2022-04-15T22:06:45.988Z"
   },
   {
    "duration": 173,
    "start_time": "2022-04-15T22:06:46.519Z"
   },
   {
    "duration": 24,
    "start_time": "2022-04-15T22:06:46.694Z"
   },
   {
    "duration": 16,
    "start_time": "2022-04-15T22:06:46.720Z"
   },
   {
    "duration": 24,
    "start_time": "2022-04-15T22:06:46.737Z"
   },
   {
    "duration": 20,
    "start_time": "2022-04-15T22:06:46.763Z"
   },
   {
    "duration": 55,
    "start_time": "2022-04-15T22:06:46.784Z"
   },
   {
    "duration": 34,
    "start_time": "2022-04-15T22:06:46.841Z"
   },
   {
    "duration": 49,
    "start_time": "2022-04-15T22:06:46.879Z"
   },
   {
    "duration": 14,
    "start_time": "2022-04-15T22:06:46.930Z"
   },
   {
    "duration": 34,
    "start_time": "2022-04-15T22:06:46.947Z"
   },
   {
    "duration": 21,
    "start_time": "2022-04-15T22:06:46.983Z"
   },
   {
    "duration": 700,
    "start_time": "2022-04-15T22:06:47.006Z"
   },
   {
    "duration": 12,
    "start_time": "2022-04-15T22:06:47.709Z"
   },
   {
    "duration": 16,
    "start_time": "2022-04-15T22:06:47.723Z"
   },
   {
    "duration": 56,
    "start_time": "2022-04-15T22:06:47.741Z"
   },
   {
    "duration": 10,
    "start_time": "2022-04-15T22:06:47.799Z"
   },
   {
    "duration": 20,
    "start_time": "2022-04-15T22:06:47.810Z"
   },
   {
    "duration": 27,
    "start_time": "2022-04-15T22:06:47.833Z"
   },
   {
    "duration": 133,
    "start_time": "2022-04-15T22:06:47.862Z"
   },
   {
    "duration": 12,
    "start_time": "2022-04-15T22:06:47.997Z"
   },
   {
    "duration": 4,
    "start_time": "2022-04-15T22:06:48.011Z"
   },
   {
    "duration": 17,
    "start_time": "2022-04-15T22:06:48.017Z"
   },
   {
    "duration": 6,
    "start_time": "2022-04-15T22:06:48.055Z"
   },
   {
    "duration": 13,
    "start_time": "2022-04-15T22:06:48.063Z"
   },
   {
    "duration": 9,
    "start_time": "2022-04-15T22:06:48.078Z"
   },
   {
    "duration": 65,
    "start_time": "2022-04-15T22:06:48.091Z"
   },
   {
    "duration": 215,
    "start_time": "2022-04-15T22:06:48.158Z"
   },
   {
    "duration": 13,
    "start_time": "2022-04-15T22:06:48.375Z"
   },
   {
    "duration": 35,
    "start_time": "2022-04-15T22:06:48.389Z"
   },
   {
    "duration": 54,
    "start_time": "2022-04-15T22:06:48.425Z"
   },
   {
    "duration": 22,
    "start_time": "2022-04-15T22:06:48.481Z"
   },
   {
    "duration": 17,
    "start_time": "2022-04-15T22:06:48.505Z"
   },
   {
    "duration": 115,
    "start_time": "2022-04-15T22:06:48.523Z"
   },
   {
    "duration": 28,
    "start_time": "2022-04-15T22:06:48.639Z"
   },
   {
    "duration": 7,
    "start_time": "2022-04-15T22:06:48.669Z"
   },
   {
    "duration": 684,
    "start_time": "2022-04-15T22:06:48.677Z"
   },
   {
    "duration": 18,
    "start_time": "2022-04-15T22:06:49.363Z"
   },
   {
    "duration": 80,
    "start_time": "2022-04-15T22:06:49.383Z"
   },
   {
    "duration": 204,
    "start_time": "2022-04-15T22:06:49.464Z"
   },
   {
    "duration": 6,
    "start_time": "2022-04-15T22:06:49.670Z"
   },
   {
    "duration": 24,
    "start_time": "2022-04-15T22:06:49.677Z"
   },
   {
    "duration": 19,
    "start_time": "2022-04-15T22:06:49.754Z"
   },
   {
    "duration": 14,
    "start_time": "2022-04-15T22:06:49.775Z"
   },
   {
    "duration": 68,
    "start_time": "2022-04-15T22:06:49.790Z"
   },
   {
    "duration": 636,
    "start_time": "2022-04-15T22:06:49.860Z"
   },
   {
    "duration": 68,
    "start_time": "2022-04-15T22:06:50.498Z"
   },
   {
    "duration": 89,
    "start_time": "2022-04-15T22:06:50.568Z"
   },
   {
    "duration": 9,
    "start_time": "2022-04-15T22:06:50.658Z"
   },
   {
    "duration": 18,
    "start_time": "2022-04-15T22:06:50.669Z"
   },
   {
    "duration": 189,
    "start_time": "2022-04-15T22:06:50.690Z"
   },
   {
    "duration": 16,
    "start_time": "2022-04-15T22:06:50.880Z"
   },
   {
    "duration": 84,
    "start_time": "2022-04-15T22:06:50.898Z"
   },
   {
    "duration": 5,
    "start_time": "2022-04-15T22:06:50.984Z"
   },
   {
    "duration": 31,
    "start_time": "2022-04-15T22:06:50.990Z"
   },
   {
    "duration": 39,
    "start_time": "2022-04-15T22:06:51.023Z"
   },
   {
    "duration": 23,
    "start_time": "2022-04-15T22:06:51.064Z"
   },
   {
    "duration": 13,
    "start_time": "2022-04-15T22:06:51.089Z"
   },
   {
    "duration": 424,
    "start_time": "2022-04-15T22:06:51.104Z"
   },
   {
    "duration": 29,
    "start_time": "2022-04-15T22:06:51.530Z"
   },
   {
    "duration": 17,
    "start_time": "2022-04-15T22:06:51.561Z"
   },
   {
    "duration": 11,
    "start_time": "2022-04-15T22:06:51.579Z"
   },
   {
    "duration": 17,
    "start_time": "2022-04-15T22:06:51.592Z"
   },
   {
    "duration": 11,
    "start_time": "2022-04-15T22:06:51.611Z"
   },
   {
    "duration": 110,
    "start_time": "2022-04-15T22:06:51.624Z"
   },
   {
    "duration": 59,
    "start_time": "2022-04-15T22:06:51.736Z"
   },
   {
    "duration": 6,
    "start_time": "2022-04-15T22:06:51.796Z"
   },
   {
    "duration": 9,
    "start_time": "2022-04-15T22:06:51.803Z"
   },
   {
    "duration": 8,
    "start_time": "2022-04-15T22:06:51.814Z"
   },
   {
    "duration": 33,
    "start_time": "2022-04-15T22:06:51.823Z"
   },
   {
    "duration": 18,
    "start_time": "2022-04-15T22:06:51.857Z"
   },
   {
    "duration": 29,
    "start_time": "2022-04-15T22:06:51.876Z"
   },
   {
    "duration": 58,
    "start_time": "2022-04-15T22:06:51.907Z"
   },
   {
    "duration": 4,
    "start_time": "2022-04-15T22:06:51.967Z"
   },
   {
    "duration": 8,
    "start_time": "2022-04-15T22:06:51.973Z"
   },
   {
    "duration": 10,
    "start_time": "2022-04-15T22:06:51.983Z"
   },
   {
    "duration": 15,
    "start_time": "2022-04-15T22:06:51.995Z"
   },
   {
    "duration": 44,
    "start_time": "2022-04-15T22:06:52.012Z"
   },
   {
    "duration": 4,
    "start_time": "2022-04-15T22:06:52.058Z"
   },
   {
    "duration": 14,
    "start_time": "2022-04-15T22:06:52.064Z"
   },
   {
    "duration": 231,
    "start_time": "2022-04-15T22:06:52.084Z"
   },
   {
    "duration": 19,
    "start_time": "2022-04-15T22:06:52.317Z"
   },
   {
    "duration": 33,
    "start_time": "2022-04-15T22:06:52.338Z"
   },
   {
    "duration": 14,
    "start_time": "2022-04-15T22:06:52.373Z"
   },
   {
    "duration": 8,
    "start_time": "2022-04-15T22:06:52.390Z"
   },
   {
    "duration": 23,
    "start_time": "2022-04-15T22:06:52.400Z"
   },
   {
    "duration": 35,
    "start_time": "2022-04-15T22:06:52.425Z"
   },
   {
    "duration": 785,
    "start_time": "2022-04-15T22:06:52.462Z"
   },
   {
    "duration": 7,
    "start_time": "2022-04-15T22:06:53.249Z"
   },
   {
    "duration": 21,
    "start_time": "2022-04-15T22:06:53.258Z"
   },
   {
    "duration": 324,
    "start_time": "2022-04-15T22:06:53.280Z"
   },
   {
    "duration": 19,
    "start_time": "2022-04-15T22:06:53.606Z"
   },
   {
    "duration": 7,
    "start_time": "2022-04-15T22:06:53.626Z"
   },
   {
    "duration": 11,
    "start_time": "2022-04-15T22:06:53.654Z"
   },
   {
    "duration": 13,
    "start_time": "2022-04-15T22:06:53.666Z"
   },
   {
    "duration": 16,
    "start_time": "2022-04-15T22:06:53.680Z"
   },
   {
    "duration": 1299,
    "start_time": "2022-04-15T22:06:53.698Z"
   },
   {
    "duration": 7,
    "start_time": "2022-04-15T22:06:54.999Z"
   },
   {
    "duration": 20,
    "start_time": "2022-04-15T22:06:55.008Z"
   },
   {
    "duration": 1228,
    "start_time": "2022-04-15T22:06:55.030Z"
   },
   {
    "duration": 31,
    "start_time": "2022-04-15T22:06:56.259Z"
   },
   {
    "duration": 11,
    "start_time": "2022-04-15T22:06:56.292Z"
   },
   {
    "duration": 21,
    "start_time": "2022-04-15T22:06:56.304Z"
   },
   {
    "duration": 9,
    "start_time": "2022-04-15T22:06:56.356Z"
   },
   {
    "duration": 8,
    "start_time": "2022-04-15T22:06:56.367Z"
   },
   {
    "duration": 426,
    "start_time": "2022-04-15T22:06:56.376Z"
   },
   {
    "duration": 8,
    "start_time": "2022-04-15T22:06:56.804Z"
   },
   {
    "duration": 9,
    "start_time": "2022-04-15T22:06:56.814Z"
   },
   {
    "duration": 7,
    "start_time": "2022-04-15T22:06:56.825Z"
   },
   {
    "duration": 29,
    "start_time": "2022-04-15T22:06:56.834Z"
   },
   {
    "duration": 49,
    "start_time": "2022-04-16T05:52:41.013Z"
   },
   {
    "duration": 851,
    "start_time": "2022-04-16T05:52:47.015Z"
   },
   {
    "duration": 366,
    "start_time": "2022-04-16T05:52:47.868Z"
   },
   {
    "duration": 98,
    "start_time": "2022-04-16T05:52:48.235Z"
   },
   {
    "duration": 18,
    "start_time": "2022-04-16T05:52:48.354Z"
   },
   {
    "duration": 3,
    "start_time": "2022-04-16T05:52:48.374Z"
   },
   {
    "duration": 10,
    "start_time": "2022-04-16T05:52:48.378Z"
   },
   {
    "duration": 8,
    "start_time": "2022-04-16T05:52:48.389Z"
   },
   {
    "duration": 22,
    "start_time": "2022-04-16T05:52:48.399Z"
   },
   {
    "duration": 32,
    "start_time": "2022-04-16T05:52:48.423Z"
   },
   {
    "duration": 17,
    "start_time": "2022-04-16T05:52:48.459Z"
   },
   {
    "duration": 8,
    "start_time": "2022-04-16T05:52:48.478Z"
   },
   {
    "duration": 12,
    "start_time": "2022-04-16T05:52:48.488Z"
   },
   {
    "duration": 4,
    "start_time": "2022-04-16T05:52:48.502Z"
   },
   {
    "duration": 674,
    "start_time": "2022-04-16T05:52:48.508Z"
   },
   {
    "duration": 10,
    "start_time": "2022-04-16T05:52:49.184Z"
   },
   {
    "duration": 9,
    "start_time": "2022-04-16T05:52:49.196Z"
   },
   {
    "duration": 60,
    "start_time": "2022-04-16T05:52:49.206Z"
   },
   {
    "duration": 7,
    "start_time": "2022-04-16T05:52:49.268Z"
   },
   {
    "duration": 14,
    "start_time": "2022-04-16T05:52:49.277Z"
   },
   {
    "duration": 13,
    "start_time": "2022-04-16T05:52:49.293Z"
   },
   {
    "duration": 122,
    "start_time": "2022-04-16T05:52:49.308Z"
   },
   {
    "duration": 28,
    "start_time": "2022-04-16T05:52:49.432Z"
   },
   {
    "duration": 4,
    "start_time": "2022-04-16T05:52:49.462Z"
   },
   {
    "duration": 14,
    "start_time": "2022-04-16T05:52:49.467Z"
   },
   {
    "duration": 5,
    "start_time": "2022-04-16T05:52:49.483Z"
   },
   {
    "duration": 11,
    "start_time": "2022-04-16T05:52:49.490Z"
   },
   {
    "duration": 8,
    "start_time": "2022-04-16T05:52:49.503Z"
   },
   {
    "duration": 69,
    "start_time": "2022-04-16T05:52:49.516Z"
   },
   {
    "duration": 213,
    "start_time": "2022-04-16T05:52:49.587Z"
   },
   {
    "duration": 13,
    "start_time": "2022-04-16T05:52:49.802Z"
   },
   {
    "duration": 40,
    "start_time": "2022-04-16T05:52:49.816Z"
   },
   {
    "duration": 35,
    "start_time": "2022-04-16T05:52:49.858Z"
   },
   {
    "duration": 21,
    "start_time": "2022-04-16T05:52:49.894Z"
   },
   {
    "duration": 16,
    "start_time": "2022-04-16T05:52:49.916Z"
   },
   {
    "duration": 107,
    "start_time": "2022-04-16T05:52:49.934Z"
   },
   {
    "duration": 23,
    "start_time": "2022-04-16T05:52:50.042Z"
   },
   {
    "duration": 6,
    "start_time": "2022-04-16T05:52:50.066Z"
   },
   {
    "duration": 705,
    "start_time": "2022-04-16T05:52:50.073Z"
   },
   {
    "duration": 19,
    "start_time": "2022-04-16T05:52:50.779Z"
   },
   {
    "duration": 27,
    "start_time": "2022-04-16T05:52:50.800Z"
   },
   {
    "duration": 107,
    "start_time": "2022-04-16T05:52:50.828Z"
   },
   {
    "duration": 5,
    "start_time": "2022-04-16T05:52:50.937Z"
   },
   {
    "duration": 28,
    "start_time": "2022-04-16T05:52:50.955Z"
   },
   {
    "duration": 20,
    "start_time": "2022-04-16T05:52:50.985Z"
   },
   {
    "duration": 13,
    "start_time": "2022-04-16T05:52:51.007Z"
   },
   {
    "duration": 36,
    "start_time": "2022-04-16T05:52:51.022Z"
   },
   {
    "duration": 337,
    "start_time": "2022-04-16T05:52:51.060Z"
   },
   {
    "duration": 14,
    "start_time": "2022-04-16T05:52:51.399Z"
   },
   {
    "duration": 48,
    "start_time": "2022-04-16T05:52:51.414Z"
   },
   {
    "duration": 9,
    "start_time": "2022-04-16T05:52:51.464Z"
   },
   {
    "duration": 12,
    "start_time": "2022-04-16T05:52:51.475Z"
   },
   {
    "duration": 108,
    "start_time": "2022-04-16T05:52:51.488Z"
   },
   {
    "duration": 16,
    "start_time": "2022-04-16T05:52:51.598Z"
   },
   {
    "duration": 91,
    "start_time": "2022-04-16T05:52:51.616Z"
   },
   {
    "duration": 6,
    "start_time": "2022-04-16T05:52:51.709Z"
   },
   {
    "duration": 43,
    "start_time": "2022-04-16T05:52:51.717Z"
   },
   {
    "duration": 24,
    "start_time": "2022-04-16T05:52:51.762Z"
   },
   {
    "duration": 22,
    "start_time": "2022-04-16T05:52:51.788Z"
   },
   {
    "duration": 11,
    "start_time": "2022-04-16T05:52:51.812Z"
   },
   {
    "duration": 430,
    "start_time": "2022-04-16T05:52:51.825Z"
   },
   {
    "duration": 17,
    "start_time": "2022-04-16T05:52:52.257Z"
   },
   {
    "duration": 17,
    "start_time": "2022-04-16T05:52:52.276Z"
   },
   {
    "duration": 10,
    "start_time": "2022-04-16T05:52:52.295Z"
   },
   {
    "duration": 13,
    "start_time": "2022-04-16T05:52:52.307Z"
   },
   {
    "duration": 12,
    "start_time": "2022-04-16T05:52:52.354Z"
   },
   {
    "duration": 98,
    "start_time": "2022-04-16T05:52:52.368Z"
   },
   {
    "duration": 53,
    "start_time": "2022-04-16T05:52:52.468Z"
   },
   {
    "duration": 6,
    "start_time": "2022-04-16T05:52:52.523Z"
   },
   {
    "duration": 5,
    "start_time": "2022-04-16T05:52:52.556Z"
   },
   {
    "duration": 5,
    "start_time": "2022-04-16T05:52:52.563Z"
   },
   {
    "duration": 5,
    "start_time": "2022-04-16T05:52:52.569Z"
   },
   {
    "duration": 18,
    "start_time": "2022-04-16T05:52:52.575Z"
   },
   {
    "duration": 25,
    "start_time": "2022-04-16T05:52:52.595Z"
   },
   {
    "duration": 53,
    "start_time": "2022-04-16T05:52:52.622Z"
   },
   {
    "duration": 4,
    "start_time": "2022-04-16T05:52:52.676Z"
   },
   {
    "duration": 6,
    "start_time": "2022-04-16T05:52:52.682Z"
   },
   {
    "duration": 12,
    "start_time": "2022-04-16T05:52:52.689Z"
   },
   {
    "duration": 11,
    "start_time": "2022-04-16T05:52:52.702Z"
   },
   {
    "duration": 39,
    "start_time": "2022-04-16T05:52:52.715Z"
   },
   {
    "duration": 4,
    "start_time": "2022-04-16T05:52:52.756Z"
   },
   {
    "duration": 11,
    "start_time": "2022-04-16T05:52:52.761Z"
   },
   {
    "duration": 234,
    "start_time": "2022-04-16T05:52:52.778Z"
   },
   {
    "duration": 19,
    "start_time": "2022-04-16T05:52:53.014Z"
   },
   {
    "duration": 33,
    "start_time": "2022-04-16T05:52:53.035Z"
   },
   {
    "duration": 14,
    "start_time": "2022-04-16T05:52:53.070Z"
   },
   {
    "duration": 7,
    "start_time": "2022-04-16T05:52:53.086Z"
   },
   {
    "duration": 14,
    "start_time": "2022-04-16T05:52:53.095Z"
   },
   {
    "duration": 13,
    "start_time": "2022-04-16T05:52:53.111Z"
   },
   {
    "duration": 740,
    "start_time": "2022-04-16T05:52:53.155Z"
   },
   {
    "duration": 6,
    "start_time": "2022-04-16T05:52:53.897Z"
   },
   {
    "duration": 22,
    "start_time": "2022-04-16T05:52:53.905Z"
   },
   {
    "duration": 308,
    "start_time": "2022-04-16T05:52:53.928Z"
   },
   {
    "duration": 30,
    "start_time": "2022-04-16T05:52:54.237Z"
   },
   {
    "duration": 7,
    "start_time": "2022-04-16T05:52:54.269Z"
   },
   {
    "duration": 12,
    "start_time": "2022-04-16T05:52:54.277Z"
   },
   {
    "duration": 12,
    "start_time": "2022-04-16T05:52:54.290Z"
   },
   {
    "duration": 10,
    "start_time": "2022-04-16T05:52:54.303Z"
   },
   {
    "duration": 1279,
    "start_time": "2022-04-16T05:52:54.315Z"
   },
   {
    "duration": 5,
    "start_time": "2022-04-16T05:52:55.596Z"
   },
   {
    "duration": 19,
    "start_time": "2022-04-16T05:52:55.603Z"
   },
   {
    "duration": 1151,
    "start_time": "2022-04-16T05:52:55.623Z"
   },
   {
    "duration": 28,
    "start_time": "2022-04-16T05:52:56.776Z"
   },
   {
    "duration": 13,
    "start_time": "2022-04-16T05:52:56.806Z"
   },
   {
    "duration": 15,
    "start_time": "2022-04-16T05:52:56.821Z"
   },
   {
    "duration": 13,
    "start_time": "2022-04-16T05:52:56.854Z"
   },
   {
    "duration": 3,
    "start_time": "2022-04-16T05:52:56.869Z"
   },
   {
    "duration": 372,
    "start_time": "2022-04-16T05:52:56.874Z"
   },
   {
    "duration": 13,
    "start_time": "2022-04-16T05:52:57.248Z"
   },
   {
    "duration": 5,
    "start_time": "2022-04-16T05:52:57.263Z"
   },
   {
    "duration": 7,
    "start_time": "2022-04-16T05:52:57.270Z"
   },
   {
    "duration": 12,
    "start_time": "2022-04-16T05:52:57.279Z"
   },
   {
    "duration": 5,
    "start_time": "2022-04-16T05:56:47.738Z"
   },
   {
    "duration": 6,
    "start_time": "2022-04-16T05:56:56.057Z"
   },
   {
    "duration": 110,
    "start_time": "2022-04-16T05:57:03.787Z"
   },
   {
    "duration": 133,
    "start_time": "2022-04-16T05:57:14.865Z"
   },
   {
    "duration": 5,
    "start_time": "2022-04-16T05:57:21.717Z"
   },
   {
    "duration": 8,
    "start_time": "2022-04-16T06:02:01.914Z"
   },
   {
    "duration": 701,
    "start_time": "2022-04-16T06:02:17.919Z"
   },
   {
    "duration": 366,
    "start_time": "2022-04-16T06:02:18.622Z"
   },
   {
    "duration": 110,
    "start_time": "2022-04-16T06:02:18.990Z"
   },
   {
    "duration": 20,
    "start_time": "2022-04-16T06:02:19.103Z"
   },
   {
    "duration": 30,
    "start_time": "2022-04-16T06:02:19.124Z"
   },
   {
    "duration": 28,
    "start_time": "2022-04-16T06:02:19.156Z"
   },
   {
    "duration": 17,
    "start_time": "2022-04-16T06:02:19.185Z"
   },
   {
    "duration": 36,
    "start_time": "2022-04-16T06:02:19.204Z"
   },
   {
    "duration": 4,
    "start_time": "2022-04-16T06:02:19.242Z"
   },
   {
    "duration": 36,
    "start_time": "2022-04-16T06:02:19.249Z"
   },
   {
    "duration": 8,
    "start_time": "2022-04-16T06:02:19.286Z"
   },
   {
    "duration": 18,
    "start_time": "2022-04-16T06:02:19.295Z"
   },
   {
    "duration": 17,
    "start_time": "2022-04-16T06:02:19.315Z"
   },
   {
    "duration": 791,
    "start_time": "2022-04-16T06:02:19.334Z"
   },
   {
    "duration": 11,
    "start_time": "2022-04-16T06:02:20.128Z"
   },
   {
    "duration": 8,
    "start_time": "2022-04-16T06:02:20.155Z"
   },
   {
    "duration": 46,
    "start_time": "2022-04-16T06:02:20.165Z"
   },
   {
    "duration": 8,
    "start_time": "2022-04-16T06:02:20.214Z"
   },
   {
    "duration": 33,
    "start_time": "2022-04-16T06:02:20.224Z"
   },
   {
    "duration": 32,
    "start_time": "2022-04-16T06:02:20.259Z"
   },
   {
    "duration": 114,
    "start_time": "2022-04-16T06:02:20.293Z"
   },
   {
    "duration": 11,
    "start_time": "2022-04-16T06:02:20.409Z"
   },
   {
    "duration": 14,
    "start_time": "2022-04-16T06:02:20.422Z"
   },
   {
    "duration": 22,
    "start_time": "2022-04-16T06:02:20.437Z"
   },
   {
    "duration": 18,
    "start_time": "2022-04-16T06:02:20.461Z"
   },
   {
    "duration": 16,
    "start_time": "2022-04-16T06:02:20.481Z"
   },
   {
    "duration": 25,
    "start_time": "2022-04-16T06:02:20.499Z"
   },
   {
    "duration": 43,
    "start_time": "2022-04-16T06:02:20.528Z"
   },
   {
    "duration": 209,
    "start_time": "2022-04-16T06:02:20.573Z"
   },
   {
    "duration": 13,
    "start_time": "2022-04-16T06:02:20.784Z"
   },
   {
    "duration": 39,
    "start_time": "2022-04-16T06:02:20.798Z"
   },
   {
    "duration": 35,
    "start_time": "2022-04-16T06:02:20.854Z"
   },
   {
    "duration": 22,
    "start_time": "2022-04-16T06:02:20.890Z"
   },
   {
    "duration": 49,
    "start_time": "2022-04-16T06:02:20.914Z"
   },
   {
    "duration": 7,
    "start_time": "2022-04-16T06:02:20.965Z"
   },
   {
    "duration": 25,
    "start_time": "2022-04-16T06:02:20.973Z"
   },
   {
    "duration": 19,
    "start_time": "2022-04-16T06:02:21.000Z"
   },
   {
    "duration": 551,
    "start_time": "2022-04-16T06:02:21.021Z"
   },
   {
    "duration": 18,
    "start_time": "2022-04-16T06:02:21.574Z"
   },
   {
    "duration": 26,
    "start_time": "2022-04-16T06:02:21.593Z"
   },
   {
    "duration": 107,
    "start_time": "2022-04-16T06:02:21.621Z"
   },
   {
    "duration": 6,
    "start_time": "2022-04-16T06:02:21.729Z"
   },
   {
    "duration": 40,
    "start_time": "2022-04-16T06:02:21.736Z"
   },
   {
    "duration": 19,
    "start_time": "2022-04-16T06:02:21.778Z"
   },
   {
    "duration": 14,
    "start_time": "2022-04-16T06:02:21.799Z"
   },
   {
    "duration": 42,
    "start_time": "2022-04-16T06:02:21.815Z"
   },
   {
    "duration": 353,
    "start_time": "2022-04-16T06:02:21.859Z"
   },
   {
    "duration": 15,
    "start_time": "2022-04-16T06:02:22.214Z"
   },
   {
    "duration": 47,
    "start_time": "2022-04-16T06:02:22.230Z"
   },
   {
    "duration": 9,
    "start_time": "2022-04-16T06:02:22.279Z"
   },
   {
    "duration": 14,
    "start_time": "2022-04-16T06:02:22.289Z"
   },
   {
    "duration": 140,
    "start_time": "2022-04-16T06:02:22.304Z"
   },
   {
    "duration": 17,
    "start_time": "2022-04-16T06:02:22.454Z"
   },
   {
    "duration": 91,
    "start_time": "2022-04-16T06:02:22.473Z"
   },
   {
    "duration": 0,
    "start_time": "2022-04-16T06:02:22.568Z"
   },
   {
    "duration": 0,
    "start_time": "2022-04-16T06:02:22.569Z"
   },
   {
    "duration": 0,
    "start_time": "2022-04-16T06:02:22.570Z"
   },
   {
    "duration": 0,
    "start_time": "2022-04-16T06:02:22.571Z"
   },
   {
    "duration": 0,
    "start_time": "2022-04-16T06:02:22.573Z"
   },
   {
    "duration": 0,
    "start_time": "2022-04-16T06:02:22.574Z"
   },
   {
    "duration": 0,
    "start_time": "2022-04-16T06:02:22.575Z"
   },
   {
    "duration": 0,
    "start_time": "2022-04-16T06:02:22.576Z"
   },
   {
    "duration": 0,
    "start_time": "2022-04-16T06:02:22.577Z"
   },
   {
    "duration": 0,
    "start_time": "2022-04-16T06:02:22.579Z"
   },
   {
    "duration": 0,
    "start_time": "2022-04-16T06:02:22.579Z"
   },
   {
    "duration": 0,
    "start_time": "2022-04-16T06:02:22.581Z"
   },
   {
    "duration": 0,
    "start_time": "2022-04-16T06:02:22.582Z"
   },
   {
    "duration": 0,
    "start_time": "2022-04-16T06:02:22.582Z"
   },
   {
    "duration": 0,
    "start_time": "2022-04-16T06:02:22.584Z"
   },
   {
    "duration": 0,
    "start_time": "2022-04-16T06:02:22.585Z"
   },
   {
    "duration": 0,
    "start_time": "2022-04-16T06:02:22.586Z"
   },
   {
    "duration": 0,
    "start_time": "2022-04-16T06:02:22.587Z"
   },
   {
    "duration": 0,
    "start_time": "2022-04-16T06:02:22.589Z"
   },
   {
    "duration": 0,
    "start_time": "2022-04-16T06:02:22.590Z"
   },
   {
    "duration": 0,
    "start_time": "2022-04-16T06:02:22.591Z"
   },
   {
    "duration": 0,
    "start_time": "2022-04-16T06:02:22.592Z"
   },
   {
    "duration": 0,
    "start_time": "2022-04-16T06:02:22.593Z"
   },
   {
    "duration": 0,
    "start_time": "2022-04-16T06:02:22.594Z"
   },
   {
    "duration": 0,
    "start_time": "2022-04-16T06:02:22.595Z"
   },
   {
    "duration": 0,
    "start_time": "2022-04-16T06:02:22.596Z"
   },
   {
    "duration": 0,
    "start_time": "2022-04-16T06:02:22.596Z"
   },
   {
    "duration": 0,
    "start_time": "2022-04-16T06:02:22.598Z"
   },
   {
    "duration": 0,
    "start_time": "2022-04-16T06:02:22.599Z"
   },
   {
    "duration": 0,
    "start_time": "2022-04-16T06:02:22.600Z"
   },
   {
    "duration": 1,
    "start_time": "2022-04-16T06:02:22.600Z"
   },
   {
    "duration": 0,
    "start_time": "2022-04-16T06:02:22.602Z"
   },
   {
    "duration": 0,
    "start_time": "2022-04-16T06:02:22.655Z"
   },
   {
    "duration": 0,
    "start_time": "2022-04-16T06:02:22.656Z"
   },
   {
    "duration": 0,
    "start_time": "2022-04-16T06:02:22.657Z"
   },
   {
    "duration": 0,
    "start_time": "2022-04-16T06:02:22.657Z"
   },
   {
    "duration": 0,
    "start_time": "2022-04-16T06:02:22.658Z"
   },
   {
    "duration": 0,
    "start_time": "2022-04-16T06:02:22.660Z"
   },
   {
    "duration": 0,
    "start_time": "2022-04-16T06:02:22.660Z"
   },
   {
    "duration": 0,
    "start_time": "2022-04-16T06:02:22.661Z"
   },
   {
    "duration": 0,
    "start_time": "2022-04-16T06:02:22.662Z"
   },
   {
    "duration": 0,
    "start_time": "2022-04-16T06:02:22.663Z"
   },
   {
    "duration": 0,
    "start_time": "2022-04-16T06:02:22.664Z"
   },
   {
    "duration": 0,
    "start_time": "2022-04-16T06:02:22.665Z"
   },
   {
    "duration": 0,
    "start_time": "2022-04-16T06:02:22.666Z"
   },
   {
    "duration": 0,
    "start_time": "2022-04-16T06:02:22.667Z"
   },
   {
    "duration": 0,
    "start_time": "2022-04-16T06:02:22.668Z"
   },
   {
    "duration": 0,
    "start_time": "2022-04-16T06:02:22.669Z"
   },
   {
    "duration": 0,
    "start_time": "2022-04-16T06:02:22.670Z"
   },
   {
    "duration": 1,
    "start_time": "2022-04-16T06:02:22.671Z"
   },
   {
    "duration": 0,
    "start_time": "2022-04-16T06:02:22.673Z"
   },
   {
    "duration": 0,
    "start_time": "2022-04-16T06:02:22.673Z"
   },
   {
    "duration": 0,
    "start_time": "2022-04-16T06:02:22.675Z"
   },
   {
    "duration": 0,
    "start_time": "2022-04-16T06:02:22.675Z"
   },
   {
    "duration": 0,
    "start_time": "2022-04-16T06:02:22.677Z"
   },
   {
    "duration": 0,
    "start_time": "2022-04-16T06:02:22.677Z"
   },
   {
    "duration": 0,
    "start_time": "2022-04-16T06:02:22.679Z"
   },
   {
    "duration": 15,
    "start_time": "2022-04-16T06:04:57.936Z"
   },
   {
    "duration": 8,
    "start_time": "2022-04-16T06:05:37.027Z"
   },
   {
    "duration": 19,
    "start_time": "2022-04-16T06:05:55.236Z"
   },
   {
    "duration": 159,
    "start_time": "2022-04-16T06:07:16.104Z"
   },
   {
    "duration": 13,
    "start_time": "2022-04-16T06:07:22.261Z"
   },
   {
    "duration": 11,
    "start_time": "2022-04-16T06:07:50.761Z"
   },
   {
    "duration": 887,
    "start_time": "2022-04-16T06:08:08.873Z"
   },
   {
    "duration": 541,
    "start_time": "2022-04-16T06:08:09.762Z"
   },
   {
    "duration": 175,
    "start_time": "2022-04-16T06:08:10.305Z"
   },
   {
    "duration": 30,
    "start_time": "2022-04-16T06:08:10.483Z"
   },
   {
    "duration": 10,
    "start_time": "2022-04-16T06:08:10.515Z"
   },
   {
    "duration": 28,
    "start_time": "2022-04-16T06:08:10.527Z"
   },
   {
    "duration": 12,
    "start_time": "2022-04-16T06:08:10.557Z"
   },
   {
    "duration": 35,
    "start_time": "2022-04-16T06:08:10.571Z"
   },
   {
    "duration": 7,
    "start_time": "2022-04-16T06:08:10.607Z"
   },
   {
    "duration": 30,
    "start_time": "2022-04-16T06:08:10.616Z"
   },
   {
    "duration": 24,
    "start_time": "2022-04-16T06:08:10.647Z"
   },
   {
    "duration": 24,
    "start_time": "2022-04-16T06:08:10.672Z"
   },
   {
    "duration": 22,
    "start_time": "2022-04-16T06:08:10.697Z"
   },
   {
    "duration": 684,
    "start_time": "2022-04-16T06:08:10.720Z"
   },
   {
    "duration": 9,
    "start_time": "2022-04-16T06:08:11.406Z"
   },
   {
    "duration": 10,
    "start_time": "2022-04-16T06:08:11.417Z"
   },
   {
    "duration": 69,
    "start_time": "2022-04-16T06:08:11.428Z"
   },
   {
    "duration": 7,
    "start_time": "2022-04-16T06:08:11.499Z"
   },
   {
    "duration": 16,
    "start_time": "2022-04-16T06:08:11.507Z"
   },
   {
    "duration": 12,
    "start_time": "2022-04-16T06:08:11.524Z"
   },
   {
    "duration": 163,
    "start_time": "2022-04-16T06:08:11.537Z"
   },
   {
    "duration": 12,
    "start_time": "2022-04-16T06:08:11.701Z"
   },
   {
    "duration": 4,
    "start_time": "2022-04-16T06:08:11.714Z"
   },
   {
    "duration": 35,
    "start_time": "2022-04-16T06:08:11.720Z"
   },
   {
    "duration": 6,
    "start_time": "2022-04-16T06:08:11.756Z"
   },
   {
    "duration": 19,
    "start_time": "2022-04-16T06:08:11.763Z"
   },
   {
    "duration": 9,
    "start_time": "2022-04-16T06:08:11.783Z"
   },
   {
    "duration": 36,
    "start_time": "2022-04-16T06:08:11.796Z"
   },
   {
    "duration": 229,
    "start_time": "2022-04-16T06:08:11.833Z"
   },
   {
    "duration": 14,
    "start_time": "2022-04-16T06:08:12.064Z"
   },
   {
    "duration": 34,
    "start_time": "2022-04-16T06:08:12.079Z"
   },
   {
    "duration": 62,
    "start_time": "2022-04-16T06:08:12.114Z"
   },
   {
    "duration": 24,
    "start_time": "2022-04-16T06:08:12.177Z"
   },
   {
    "duration": 16,
    "start_time": "2022-04-16T06:08:12.202Z"
   },
   {
    "duration": 8,
    "start_time": "2022-04-16T06:08:12.219Z"
   },
   {
    "duration": 17,
    "start_time": "2022-04-16T06:08:12.255Z"
   },
   {
    "duration": 7,
    "start_time": "2022-04-16T06:08:12.274Z"
   },
   {
    "duration": 547,
    "start_time": "2022-04-16T06:08:12.282Z"
   },
   {
    "duration": 27,
    "start_time": "2022-04-16T06:08:12.831Z"
   },
   {
    "duration": 29,
    "start_time": "2022-04-16T06:08:12.860Z"
   },
   {
    "duration": 105,
    "start_time": "2022-04-16T06:08:12.891Z"
   },
   {
    "duration": 5,
    "start_time": "2022-04-16T06:08:12.999Z"
   },
   {
    "duration": 26,
    "start_time": "2022-04-16T06:08:13.006Z"
   },
   {
    "duration": 35,
    "start_time": "2022-04-16T06:08:13.034Z"
   },
   {
    "duration": 14,
    "start_time": "2022-04-16T06:08:13.071Z"
   },
   {
    "duration": 11,
    "start_time": "2022-04-16T06:08:13.087Z"
   },
   {
    "duration": 364,
    "start_time": "2022-04-16T06:08:13.099Z"
   },
   {
    "duration": 15,
    "start_time": "2022-04-16T06:08:13.465Z"
   },
   {
    "duration": 33,
    "start_time": "2022-04-16T06:08:13.482Z"
   },
   {
    "duration": 9,
    "start_time": "2022-04-16T06:08:13.517Z"
   },
   {
    "duration": 36,
    "start_time": "2022-04-16T06:08:13.527Z"
   },
   {
    "duration": 109,
    "start_time": "2022-04-16T06:08:13.565Z"
   },
   {
    "duration": 14,
    "start_time": "2022-04-16T06:08:13.676Z"
   },
   {
    "duration": 84,
    "start_time": "2022-04-16T06:08:13.692Z"
   },
   {
    "duration": 0,
    "start_time": "2022-04-16T06:08:13.779Z"
   },
   {
    "duration": 0,
    "start_time": "2022-04-16T06:08:13.780Z"
   },
   {
    "duration": 0,
    "start_time": "2022-04-16T06:08:13.782Z"
   },
   {
    "duration": 0,
    "start_time": "2022-04-16T06:08:13.783Z"
   },
   {
    "duration": 0,
    "start_time": "2022-04-16T06:08:13.784Z"
   },
   {
    "duration": 0,
    "start_time": "2022-04-16T06:08:13.785Z"
   },
   {
    "duration": 0,
    "start_time": "2022-04-16T06:08:13.786Z"
   },
   {
    "duration": 0,
    "start_time": "2022-04-16T06:08:13.787Z"
   },
   {
    "duration": 0,
    "start_time": "2022-04-16T06:08:13.788Z"
   },
   {
    "duration": 0,
    "start_time": "2022-04-16T06:08:13.789Z"
   },
   {
    "duration": 0,
    "start_time": "2022-04-16T06:08:13.790Z"
   },
   {
    "duration": 0,
    "start_time": "2022-04-16T06:08:13.791Z"
   },
   {
    "duration": 0,
    "start_time": "2022-04-16T06:08:13.792Z"
   },
   {
    "duration": 0,
    "start_time": "2022-04-16T06:08:13.793Z"
   },
   {
    "duration": 0,
    "start_time": "2022-04-16T06:08:13.794Z"
   },
   {
    "duration": 1,
    "start_time": "2022-04-16T06:08:13.795Z"
   },
   {
    "duration": 0,
    "start_time": "2022-04-16T06:08:13.796Z"
   },
   {
    "duration": 0,
    "start_time": "2022-04-16T06:08:13.797Z"
   },
   {
    "duration": 0,
    "start_time": "2022-04-16T06:08:13.798Z"
   },
   {
    "duration": 0,
    "start_time": "2022-04-16T06:08:13.800Z"
   },
   {
    "duration": 0,
    "start_time": "2022-04-16T06:08:13.801Z"
   },
   {
    "duration": 1,
    "start_time": "2022-04-16T06:08:13.801Z"
   },
   {
    "duration": 0,
    "start_time": "2022-04-16T06:08:13.802Z"
   },
   {
    "duration": 0,
    "start_time": "2022-04-16T06:08:13.803Z"
   },
   {
    "duration": 0,
    "start_time": "2022-04-16T06:08:13.804Z"
   },
   {
    "duration": 0,
    "start_time": "2022-04-16T06:08:13.805Z"
   },
   {
    "duration": 0,
    "start_time": "2022-04-16T06:08:13.855Z"
   },
   {
    "duration": 0,
    "start_time": "2022-04-16T06:08:13.856Z"
   },
   {
    "duration": 0,
    "start_time": "2022-04-16T06:08:13.857Z"
   },
   {
    "duration": 0,
    "start_time": "2022-04-16T06:08:13.858Z"
   },
   {
    "duration": 0,
    "start_time": "2022-04-16T06:08:13.859Z"
   },
   {
    "duration": 0,
    "start_time": "2022-04-16T06:08:13.860Z"
   },
   {
    "duration": 0,
    "start_time": "2022-04-16T06:08:13.861Z"
   },
   {
    "duration": 0,
    "start_time": "2022-04-16T06:08:13.862Z"
   },
   {
    "duration": 0,
    "start_time": "2022-04-16T06:08:13.864Z"
   },
   {
    "duration": 0,
    "start_time": "2022-04-16T06:08:13.865Z"
   },
   {
    "duration": 0,
    "start_time": "2022-04-16T06:08:13.866Z"
   },
   {
    "duration": 0,
    "start_time": "2022-04-16T06:08:13.867Z"
   },
   {
    "duration": 0,
    "start_time": "2022-04-16T06:08:13.868Z"
   },
   {
    "duration": 0,
    "start_time": "2022-04-16T06:08:13.869Z"
   },
   {
    "duration": 0,
    "start_time": "2022-04-16T06:08:13.871Z"
   },
   {
    "duration": 0,
    "start_time": "2022-04-16T06:08:13.872Z"
   },
   {
    "duration": 0,
    "start_time": "2022-04-16T06:08:13.873Z"
   },
   {
    "duration": 0,
    "start_time": "2022-04-16T06:08:13.874Z"
   },
   {
    "duration": 0,
    "start_time": "2022-04-16T06:08:13.875Z"
   },
   {
    "duration": 0,
    "start_time": "2022-04-16T06:08:13.876Z"
   },
   {
    "duration": 0,
    "start_time": "2022-04-16T06:08:13.877Z"
   },
   {
    "duration": 0,
    "start_time": "2022-04-16T06:08:13.879Z"
   },
   {
    "duration": 0,
    "start_time": "2022-04-16T06:08:13.880Z"
   },
   {
    "duration": 0,
    "start_time": "2022-04-16T06:08:13.881Z"
   },
   {
    "duration": 0,
    "start_time": "2022-04-16T06:08:13.882Z"
   },
   {
    "duration": 0,
    "start_time": "2022-04-16T06:08:13.883Z"
   },
   {
    "duration": 0,
    "start_time": "2022-04-16T06:08:13.884Z"
   },
   {
    "duration": 0,
    "start_time": "2022-04-16T06:08:13.885Z"
   },
   {
    "duration": 0,
    "start_time": "2022-04-16T06:08:13.886Z"
   },
   {
    "duration": 0,
    "start_time": "2022-04-16T06:08:13.887Z"
   },
   {
    "duration": 0,
    "start_time": "2022-04-16T06:08:13.888Z"
   },
   {
    "duration": 6,
    "start_time": "2022-04-16T06:10:26.738Z"
   },
   {
    "duration": 914,
    "start_time": "2022-04-16T06:10:46.912Z"
   },
   {
    "duration": 372,
    "start_time": "2022-04-16T06:10:47.829Z"
   },
   {
    "duration": 100,
    "start_time": "2022-04-16T06:10:48.203Z"
   },
   {
    "duration": 19,
    "start_time": "2022-04-16T06:10:48.306Z"
   },
   {
    "duration": 3,
    "start_time": "2022-04-16T06:10:48.327Z"
   },
   {
    "duration": 31,
    "start_time": "2022-04-16T06:10:48.332Z"
   },
   {
    "duration": 7,
    "start_time": "2022-04-16T06:10:48.365Z"
   },
   {
    "duration": 25,
    "start_time": "2022-04-16T06:10:48.374Z"
   },
   {
    "duration": 4,
    "start_time": "2022-04-16T06:10:48.401Z"
   },
   {
    "duration": 47,
    "start_time": "2022-04-16T06:10:48.408Z"
   },
   {
    "duration": 9,
    "start_time": "2022-04-16T06:10:48.457Z"
   },
   {
    "duration": 13,
    "start_time": "2022-04-16T06:10:48.467Z"
   },
   {
    "duration": 11,
    "start_time": "2022-04-16T06:10:48.481Z"
   },
   {
    "duration": 789,
    "start_time": "2022-04-16T06:10:48.493Z"
   },
   {
    "duration": 10,
    "start_time": "2022-04-16T06:10:49.284Z"
   },
   {
    "duration": 14,
    "start_time": "2022-04-16T06:10:49.296Z"
   },
   {
    "duration": 70,
    "start_time": "2022-04-16T06:10:49.312Z"
   },
   {
    "duration": 8,
    "start_time": "2022-04-16T06:10:49.383Z"
   },
   {
    "duration": 17,
    "start_time": "2022-04-16T06:10:49.392Z"
   },
   {
    "duration": 16,
    "start_time": "2022-04-16T06:10:49.411Z"
   },
   {
    "duration": 150,
    "start_time": "2022-04-16T06:10:49.428Z"
   },
   {
    "duration": 11,
    "start_time": "2022-04-16T06:10:49.580Z"
   },
   {
    "duration": 4,
    "start_time": "2022-04-16T06:10:49.593Z"
   },
   {
    "duration": 15,
    "start_time": "2022-04-16T06:10:49.598Z"
   },
   {
    "duration": 5,
    "start_time": "2022-04-16T06:10:49.614Z"
   },
   {
    "duration": 13,
    "start_time": "2022-04-16T06:10:49.620Z"
   },
   {
    "duration": 15,
    "start_time": "2022-04-16T06:10:49.634Z"
   },
   {
    "duration": 37,
    "start_time": "2022-04-16T06:10:49.654Z"
   },
   {
    "duration": 217,
    "start_time": "2022-04-16T06:10:49.692Z"
   },
   {
    "duration": 12,
    "start_time": "2022-04-16T06:10:49.911Z"
   },
   {
    "duration": 39,
    "start_time": "2022-04-16T06:10:49.925Z"
   },
   {
    "duration": 34,
    "start_time": "2022-04-16T06:10:49.965Z"
   },
   {
    "duration": 24,
    "start_time": "2022-04-16T06:10:50.001Z"
   },
   {
    "duration": 28,
    "start_time": "2022-04-16T06:10:50.028Z"
   },
   {
    "duration": 7,
    "start_time": "2022-04-16T06:10:50.058Z"
   },
   {
    "duration": 14,
    "start_time": "2022-04-16T06:10:50.067Z"
   },
   {
    "duration": 7,
    "start_time": "2022-04-16T06:10:50.083Z"
   },
   {
    "duration": 747,
    "start_time": "2022-04-16T06:10:50.092Z"
   },
   {
    "duration": 23,
    "start_time": "2022-04-16T06:10:50.841Z"
   },
   {
    "duration": 33,
    "start_time": "2022-04-16T06:10:50.866Z"
   },
   {
    "duration": 112,
    "start_time": "2022-04-16T06:10:50.901Z"
   },
   {
    "duration": 6,
    "start_time": "2022-04-16T06:10:51.015Z"
   },
   {
    "duration": 51,
    "start_time": "2022-04-16T06:10:51.023Z"
   },
   {
    "duration": 32,
    "start_time": "2022-04-16T06:10:51.076Z"
   },
   {
    "duration": 22,
    "start_time": "2022-04-16T06:10:51.110Z"
   },
   {
    "duration": 15,
    "start_time": "2022-04-16T06:10:51.155Z"
   },
   {
    "duration": 612,
    "start_time": "2022-04-16T06:10:51.172Z"
   },
   {
    "duration": 23,
    "start_time": "2022-04-16T06:10:51.786Z"
   },
   {
    "duration": 69,
    "start_time": "2022-04-16T06:10:51.811Z"
   },
   {
    "duration": 12,
    "start_time": "2022-04-16T06:10:51.882Z"
   },
   {
    "duration": 21,
    "start_time": "2022-04-16T06:10:51.896Z"
   },
   {
    "duration": 199,
    "start_time": "2022-04-16T06:10:51.919Z"
   },
   {
    "duration": 15,
    "start_time": "2022-04-16T06:10:52.119Z"
   },
   {
    "duration": 18,
    "start_time": "2022-04-16T06:10:52.136Z"
   },
   {
    "duration": 6,
    "start_time": "2022-04-16T06:10:52.156Z"
   },
   {
    "duration": 26,
    "start_time": "2022-04-16T06:10:52.164Z"
   },
   {
    "duration": 22,
    "start_time": "2022-04-16T06:10:52.192Z"
   },
   {
    "duration": 52,
    "start_time": "2022-04-16T06:10:52.216Z"
   },
   {
    "duration": 11,
    "start_time": "2022-04-16T06:10:52.270Z"
   },
   {
    "duration": 424,
    "start_time": "2022-04-16T06:10:52.282Z"
   },
   {
    "duration": 15,
    "start_time": "2022-04-16T06:10:52.708Z"
   },
   {
    "duration": 30,
    "start_time": "2022-04-16T06:10:52.725Z"
   },
   {
    "duration": 12,
    "start_time": "2022-04-16T06:10:52.757Z"
   },
   {
    "duration": 19,
    "start_time": "2022-04-16T06:10:52.771Z"
   },
   {
    "duration": 9,
    "start_time": "2022-04-16T06:10:52.791Z"
   },
   {
    "duration": 96,
    "start_time": "2022-04-16T06:10:52.802Z"
   },
   {
    "duration": 65,
    "start_time": "2022-04-16T06:10:52.899Z"
   },
   {
    "duration": 6,
    "start_time": "2022-04-16T06:10:52.965Z"
   },
   {
    "duration": 6,
    "start_time": "2022-04-16T06:10:52.972Z"
   },
   {
    "duration": 6,
    "start_time": "2022-04-16T06:10:52.979Z"
   },
   {
    "duration": 7,
    "start_time": "2022-04-16T06:10:52.987Z"
   },
   {
    "duration": 19,
    "start_time": "2022-04-16T06:10:52.996Z"
   },
   {
    "duration": 64,
    "start_time": "2022-04-16T06:10:53.017Z"
   },
   {
    "duration": 29,
    "start_time": "2022-04-16T06:10:53.084Z"
   },
   {
    "duration": 6,
    "start_time": "2022-04-16T06:10:53.114Z"
   },
   {
    "duration": 40,
    "start_time": "2022-04-16T06:10:53.121Z"
   },
   {
    "duration": 27,
    "start_time": "2022-04-16T06:10:53.163Z"
   },
   {
    "duration": 19,
    "start_time": "2022-04-16T06:10:53.192Z"
   },
   {
    "duration": 33,
    "start_time": "2022-04-16T06:10:53.214Z"
   },
   {
    "duration": 22,
    "start_time": "2022-04-16T06:10:53.249Z"
   },
   {
    "duration": 19,
    "start_time": "2022-04-16T06:10:53.273Z"
   },
   {
    "duration": 88,
    "start_time": "2022-04-16T06:10:53.299Z"
   },
   {
    "duration": 0,
    "start_time": "2022-04-16T06:10:53.389Z"
   },
   {
    "duration": 0,
    "start_time": "2022-04-16T06:10:53.390Z"
   },
   {
    "duration": 0,
    "start_time": "2022-04-16T06:10:53.391Z"
   },
   {
    "duration": 0,
    "start_time": "2022-04-16T06:10:53.393Z"
   },
   {
    "duration": 0,
    "start_time": "2022-04-16T06:10:53.394Z"
   },
   {
    "duration": 0,
    "start_time": "2022-04-16T06:10:53.395Z"
   },
   {
    "duration": 0,
    "start_time": "2022-04-16T06:10:53.396Z"
   },
   {
    "duration": 0,
    "start_time": "2022-04-16T06:10:53.398Z"
   },
   {
    "duration": 0,
    "start_time": "2022-04-16T06:10:53.400Z"
   },
   {
    "duration": 0,
    "start_time": "2022-04-16T06:10:53.401Z"
   },
   {
    "duration": 0,
    "start_time": "2022-04-16T06:10:53.402Z"
   },
   {
    "duration": 0,
    "start_time": "2022-04-16T06:10:53.404Z"
   },
   {
    "duration": 0,
    "start_time": "2022-04-16T06:10:53.405Z"
   },
   {
    "duration": 0,
    "start_time": "2022-04-16T06:10:53.407Z"
   },
   {
    "duration": 0,
    "start_time": "2022-04-16T06:10:53.408Z"
   },
   {
    "duration": 0,
    "start_time": "2022-04-16T06:10:53.409Z"
   },
   {
    "duration": 0,
    "start_time": "2022-04-16T06:10:53.411Z"
   },
   {
    "duration": 0,
    "start_time": "2022-04-16T06:10:53.412Z"
   },
   {
    "duration": 0,
    "start_time": "2022-04-16T06:10:53.413Z"
   },
   {
    "duration": 0,
    "start_time": "2022-04-16T06:10:53.415Z"
   },
   {
    "duration": 0,
    "start_time": "2022-04-16T06:10:53.454Z"
   },
   {
    "duration": 0,
    "start_time": "2022-04-16T06:10:53.456Z"
   },
   {
    "duration": 0,
    "start_time": "2022-04-16T06:10:53.458Z"
   },
   {
    "duration": 0,
    "start_time": "2022-04-16T06:10:53.460Z"
   },
   {
    "duration": 0,
    "start_time": "2022-04-16T06:10:53.461Z"
   },
   {
    "duration": 0,
    "start_time": "2022-04-16T06:10:53.463Z"
   },
   {
    "duration": 0,
    "start_time": "2022-04-16T06:10:53.465Z"
   },
   {
    "duration": 0,
    "start_time": "2022-04-16T06:10:53.467Z"
   },
   {
    "duration": 0,
    "start_time": "2022-04-16T06:10:53.468Z"
   },
   {
    "duration": 6,
    "start_time": "2022-04-16T06:11:23.324Z"
   },
   {
    "duration": 757,
    "start_time": "2022-04-16T06:15:44.715Z"
   },
   {
    "duration": 396,
    "start_time": "2022-04-16T06:15:45.475Z"
   },
   {
    "duration": 112,
    "start_time": "2022-04-16T06:15:45.873Z"
   },
   {
    "duration": 20,
    "start_time": "2022-04-16T06:15:45.987Z"
   },
   {
    "duration": 4,
    "start_time": "2022-04-16T06:15:46.009Z"
   },
   {
    "duration": 40,
    "start_time": "2022-04-16T06:15:46.015Z"
   },
   {
    "duration": 10,
    "start_time": "2022-04-16T06:15:46.057Z"
   },
   {
    "duration": 30,
    "start_time": "2022-04-16T06:15:46.069Z"
   },
   {
    "duration": 8,
    "start_time": "2022-04-16T06:15:46.100Z"
   },
   {
    "duration": 22,
    "start_time": "2022-04-16T06:15:46.110Z"
   },
   {
    "duration": 24,
    "start_time": "2022-04-16T06:15:46.134Z"
   },
   {
    "duration": 15,
    "start_time": "2022-04-16T06:15:46.160Z"
   },
   {
    "duration": 8,
    "start_time": "2022-04-16T06:15:46.176Z"
   },
   {
    "duration": 681,
    "start_time": "2022-04-16T06:15:46.186Z"
   },
   {
    "duration": 10,
    "start_time": "2022-04-16T06:15:46.870Z"
   },
   {
    "duration": 24,
    "start_time": "2022-04-16T06:15:46.882Z"
   },
   {
    "duration": 52,
    "start_time": "2022-04-16T06:15:46.908Z"
   },
   {
    "duration": 9,
    "start_time": "2022-04-16T06:15:46.961Z"
   },
   {
    "duration": 18,
    "start_time": "2022-04-16T06:15:46.972Z"
   },
   {
    "duration": 14,
    "start_time": "2022-04-16T06:15:46.991Z"
   },
   {
    "duration": 154,
    "start_time": "2022-04-16T06:15:47.007Z"
   },
   {
    "duration": 13,
    "start_time": "2022-04-16T06:15:47.163Z"
   },
   {
    "duration": 5,
    "start_time": "2022-04-16T06:15:47.178Z"
   },
   {
    "duration": 19,
    "start_time": "2022-04-16T06:15:47.185Z"
   },
   {
    "duration": 7,
    "start_time": "2022-04-16T06:15:47.206Z"
   },
   {
    "duration": 51,
    "start_time": "2022-04-16T06:15:47.215Z"
   },
   {
    "duration": 18,
    "start_time": "2022-04-16T06:15:47.269Z"
   },
   {
    "duration": 66,
    "start_time": "2022-04-16T06:15:47.296Z"
   },
   {
    "duration": 218,
    "start_time": "2022-04-16T06:15:47.364Z"
   },
   {
    "duration": 16,
    "start_time": "2022-04-16T06:15:47.584Z"
   },
   {
    "duration": 74,
    "start_time": "2022-04-16T06:15:47.602Z"
   },
   {
    "duration": 34,
    "start_time": "2022-04-16T06:15:47.678Z"
   },
   {
    "duration": 45,
    "start_time": "2022-04-16T06:15:47.714Z"
   },
   {
    "duration": 18,
    "start_time": "2022-04-16T06:15:47.760Z"
   },
   {
    "duration": 7,
    "start_time": "2022-04-16T06:15:47.780Z"
   },
   {
    "duration": 17,
    "start_time": "2022-04-16T06:15:47.789Z"
   },
   {
    "duration": 7,
    "start_time": "2022-04-16T06:15:47.808Z"
   },
   {
    "duration": 573,
    "start_time": "2022-04-16T06:15:47.816Z"
   },
   {
    "duration": 17,
    "start_time": "2022-04-16T06:15:48.391Z"
   },
   {
    "duration": 50,
    "start_time": "2022-04-16T06:15:48.410Z"
   },
   {
    "duration": 76,
    "start_time": "2022-04-16T06:15:48.462Z"
   },
   {
    "duration": 6,
    "start_time": "2022-04-16T06:15:48.555Z"
   },
   {
    "duration": 47,
    "start_time": "2022-04-16T06:15:48.563Z"
   },
   {
    "duration": 19,
    "start_time": "2022-04-16T06:15:48.612Z"
   },
   {
    "duration": 24,
    "start_time": "2022-04-16T06:15:48.632Z"
   },
   {
    "duration": 18,
    "start_time": "2022-04-16T06:15:48.657Z"
   },
   {
    "duration": 342,
    "start_time": "2022-04-16T06:15:48.677Z"
   },
   {
    "duration": 15,
    "start_time": "2022-04-16T06:15:49.021Z"
   },
   {
    "duration": 48,
    "start_time": "2022-04-16T06:15:49.037Z"
   },
   {
    "duration": 8,
    "start_time": "2022-04-16T06:15:49.087Z"
   },
   {
    "duration": 13,
    "start_time": "2022-04-16T06:15:49.097Z"
   },
   {
    "duration": 139,
    "start_time": "2022-04-16T06:15:49.112Z"
   },
   {
    "duration": 17,
    "start_time": "2022-04-16T06:15:49.255Z"
   },
   {
    "duration": 7,
    "start_time": "2022-04-16T06:15:49.273Z"
   },
   {
    "duration": 9,
    "start_time": "2022-04-16T06:15:49.282Z"
   },
   {
    "duration": 29,
    "start_time": "2022-04-16T06:15:49.293Z"
   },
   {
    "duration": 51,
    "start_time": "2022-04-16T06:15:49.323Z"
   },
   {
    "duration": 23,
    "start_time": "2022-04-16T06:15:49.376Z"
   },
   {
    "duration": 11,
    "start_time": "2022-04-16T06:15:49.401Z"
   },
   {
    "duration": 449,
    "start_time": "2022-04-16T06:15:49.414Z"
   },
   {
    "duration": 16,
    "start_time": "2022-04-16T06:15:49.865Z"
   },
   {
    "duration": 26,
    "start_time": "2022-04-16T06:15:49.883Z"
   },
   {
    "duration": 15,
    "start_time": "2022-04-16T06:15:49.911Z"
   },
   {
    "duration": 42,
    "start_time": "2022-04-16T06:15:49.927Z"
   },
   {
    "duration": 11,
    "start_time": "2022-04-16T06:15:49.972Z"
   },
   {
    "duration": 126,
    "start_time": "2022-04-16T06:15:49.985Z"
   },
   {
    "duration": 95,
    "start_time": "2022-04-16T06:15:50.113Z"
   },
   {
    "duration": 7,
    "start_time": "2022-04-16T06:15:50.210Z"
   },
   {
    "duration": 10,
    "start_time": "2022-04-16T06:15:50.218Z"
   },
   {
    "duration": 24,
    "start_time": "2022-04-16T06:15:50.230Z"
   },
   {
    "duration": 3,
    "start_time": "2022-04-16T06:15:50.256Z"
   },
   {
    "duration": 26,
    "start_time": "2022-04-16T06:15:50.261Z"
   },
   {
    "duration": 41,
    "start_time": "2022-04-16T06:15:50.289Z"
   },
   {
    "duration": 56,
    "start_time": "2022-04-16T06:15:50.332Z"
   },
   {
    "duration": 5,
    "start_time": "2022-04-16T06:15:50.390Z"
   },
   {
    "duration": 10,
    "start_time": "2022-04-16T06:15:50.397Z"
   },
   {
    "duration": 11,
    "start_time": "2022-04-16T06:15:50.408Z"
   },
   {
    "duration": 43,
    "start_time": "2022-04-16T06:15:50.421Z"
   },
   {
    "duration": 11,
    "start_time": "2022-04-16T06:15:50.466Z"
   },
   {
    "duration": 6,
    "start_time": "2022-04-16T06:15:50.479Z"
   },
   {
    "duration": 12,
    "start_time": "2022-04-16T06:15:50.487Z"
   },
   {
    "duration": 110,
    "start_time": "2022-04-16T06:15:50.506Z"
   },
   {
    "duration": 0,
    "start_time": "2022-04-16T06:15:50.617Z"
   },
   {
    "duration": 0,
    "start_time": "2022-04-16T06:15:50.619Z"
   },
   {
    "duration": 0,
    "start_time": "2022-04-16T06:15:50.620Z"
   },
   {
    "duration": 0,
    "start_time": "2022-04-16T06:15:50.621Z"
   },
   {
    "duration": 0,
    "start_time": "2022-04-16T06:15:50.622Z"
   },
   {
    "duration": 0,
    "start_time": "2022-04-16T06:15:50.623Z"
   },
   {
    "duration": 0,
    "start_time": "2022-04-16T06:15:50.624Z"
   },
   {
    "duration": 0,
    "start_time": "2022-04-16T06:15:50.625Z"
   },
   {
    "duration": 0,
    "start_time": "2022-04-16T06:15:50.626Z"
   },
   {
    "duration": 0,
    "start_time": "2022-04-16T06:15:50.627Z"
   },
   {
    "duration": 0,
    "start_time": "2022-04-16T06:15:50.628Z"
   },
   {
    "duration": 0,
    "start_time": "2022-04-16T06:15:50.629Z"
   },
   {
    "duration": 0,
    "start_time": "2022-04-16T06:15:50.654Z"
   },
   {
    "duration": 0,
    "start_time": "2022-04-16T06:15:50.655Z"
   },
   {
    "duration": 0,
    "start_time": "2022-04-16T06:15:50.657Z"
   },
   {
    "duration": 0,
    "start_time": "2022-04-16T06:15:50.658Z"
   },
   {
    "duration": 0,
    "start_time": "2022-04-16T06:15:50.659Z"
   },
   {
    "duration": 0,
    "start_time": "2022-04-16T06:15:50.660Z"
   },
   {
    "duration": 0,
    "start_time": "2022-04-16T06:15:50.661Z"
   },
   {
    "duration": 0,
    "start_time": "2022-04-16T06:15:50.662Z"
   },
   {
    "duration": 0,
    "start_time": "2022-04-16T06:15:50.663Z"
   },
   {
    "duration": 0,
    "start_time": "2022-04-16T06:15:50.664Z"
   },
   {
    "duration": 0,
    "start_time": "2022-04-16T06:15:50.665Z"
   },
   {
    "duration": 0,
    "start_time": "2022-04-16T06:15:50.666Z"
   },
   {
    "duration": 0,
    "start_time": "2022-04-16T06:15:50.668Z"
   },
   {
    "duration": 0,
    "start_time": "2022-04-16T06:15:50.669Z"
   },
   {
    "duration": 0,
    "start_time": "2022-04-16T06:15:50.669Z"
   },
   {
    "duration": 0,
    "start_time": "2022-04-16T06:15:50.671Z"
   },
   {
    "duration": 0,
    "start_time": "2022-04-16T06:15:50.672Z"
   },
   {
    "duration": 8,
    "start_time": "2022-04-16T06:23:13.935Z"
   },
   {
    "duration": 219,
    "start_time": "2022-04-16T06:23:57.258Z"
   },
   {
    "duration": 19,
    "start_time": "2022-04-16T06:24:14.650Z"
   },
   {
    "duration": 11,
    "start_time": "2022-04-16T06:30:51.593Z"
   },
   {
    "duration": 7,
    "start_time": "2022-04-16T06:33:24.557Z"
   },
   {
    "duration": 18,
    "start_time": "2022-04-16T06:33:55.822Z"
   },
   {
    "duration": 4,
    "start_time": "2022-04-16T06:34:13.098Z"
   },
   {
    "duration": 19,
    "start_time": "2022-04-16T06:34:15.157Z"
   },
   {
    "duration": 13,
    "start_time": "2022-04-16T06:36:16.312Z"
   },
   {
    "duration": 8,
    "start_time": "2022-04-16T06:37:11.699Z"
   },
   {
    "duration": 12,
    "start_time": "2022-04-16T06:37:17.878Z"
   },
   {
    "duration": 12,
    "start_time": "2022-04-16T06:37:21.304Z"
   },
   {
    "duration": 728,
    "start_time": "2022-04-16T06:37:33.868Z"
   },
   {
    "duration": 5,
    "start_time": "2022-04-16T06:42:02.555Z"
   },
   {
    "duration": 19,
    "start_time": "2022-04-16T06:42:07.478Z"
   },
   {
    "duration": 19,
    "start_time": "2022-04-16T06:42:15.625Z"
   },
   {
    "duration": 290,
    "start_time": "2022-04-16T06:42:31.976Z"
   },
   {
    "duration": 18,
    "start_time": "2022-04-16T06:42:50.496Z"
   },
   {
    "duration": 7,
    "start_time": "2022-04-16T06:42:58.239Z"
   },
   {
    "duration": 10,
    "start_time": "2022-04-16T06:43:05.914Z"
   },
   {
    "duration": 11,
    "start_time": "2022-04-16T06:43:09.483Z"
   },
   {
    "duration": 8,
    "start_time": "2022-04-16T06:43:57.289Z"
   },
   {
    "duration": 2296,
    "start_time": "2022-04-16T06:44:02.178Z"
   },
   {
    "duration": 1286,
    "start_time": "2022-04-16T06:44:19.211Z"
   },
   {
    "duration": 662,
    "start_time": "2022-04-16T06:44:49.355Z"
   },
   {
    "duration": 388,
    "start_time": "2022-04-16T06:44:50.019Z"
   },
   {
    "duration": 98,
    "start_time": "2022-04-16T06:44:50.409Z"
   },
   {
    "duration": 20,
    "start_time": "2022-04-16T06:44:50.509Z"
   },
   {
    "duration": 3,
    "start_time": "2022-04-16T06:44:50.555Z"
   },
   {
    "duration": 11,
    "start_time": "2022-04-16T06:44:50.560Z"
   },
   {
    "duration": 6,
    "start_time": "2022-04-16T06:44:50.573Z"
   },
   {
    "duration": 19,
    "start_time": "2022-04-16T06:44:50.580Z"
   },
   {
    "duration": 4,
    "start_time": "2022-04-16T06:44:50.600Z"
   },
   {
    "duration": 20,
    "start_time": "2022-04-16T06:44:50.606Z"
   },
   {
    "duration": 7,
    "start_time": "2022-04-16T06:44:50.655Z"
   },
   {
    "duration": 13,
    "start_time": "2022-04-16T06:44:50.663Z"
   },
   {
    "duration": 3,
    "start_time": "2022-04-16T06:44:50.677Z"
   },
   {
    "duration": 715,
    "start_time": "2022-04-16T06:44:50.681Z"
   },
   {
    "duration": 11,
    "start_time": "2022-04-16T06:44:51.398Z"
   },
   {
    "duration": 8,
    "start_time": "2022-04-16T06:44:51.411Z"
   },
   {
    "duration": 48,
    "start_time": "2022-04-16T06:44:51.421Z"
   },
   {
    "duration": 7,
    "start_time": "2022-04-16T06:44:51.470Z"
   },
   {
    "duration": 14,
    "start_time": "2022-04-16T06:44:51.478Z"
   },
   {
    "duration": 10,
    "start_time": "2022-04-16T06:44:51.494Z"
   },
   {
    "duration": 111,
    "start_time": "2022-04-16T06:44:51.506Z"
   },
   {
    "duration": 11,
    "start_time": "2022-04-16T06:44:51.618Z"
   },
   {
    "duration": 4,
    "start_time": "2022-04-16T06:44:51.630Z"
   },
   {
    "duration": 12,
    "start_time": "2022-04-16T06:44:51.635Z"
   },
   {
    "duration": 8,
    "start_time": "2022-04-16T06:44:51.649Z"
   },
   {
    "duration": 13,
    "start_time": "2022-04-16T06:44:51.658Z"
   },
   {
    "duration": 9,
    "start_time": "2022-04-16T06:44:51.672Z"
   },
   {
    "duration": 34,
    "start_time": "2022-04-16T06:44:51.685Z"
   },
   {
    "duration": 288,
    "start_time": "2022-04-16T06:44:51.721Z"
   },
   {
    "duration": 12,
    "start_time": "2022-04-16T06:44:52.011Z"
   },
   {
    "duration": 59,
    "start_time": "2022-04-16T06:44:52.024Z"
   },
   {
    "duration": 38,
    "start_time": "2022-04-16T06:44:52.085Z"
   },
   {
    "duration": 28,
    "start_time": "2022-04-16T06:44:52.155Z"
   },
   {
    "duration": 16,
    "start_time": "2022-04-16T06:44:52.184Z"
   },
   {
    "duration": 59,
    "start_time": "2022-04-16T06:44:52.201Z"
   },
   {
    "duration": 14,
    "start_time": "2022-04-16T06:44:52.262Z"
   },
   {
    "duration": 7,
    "start_time": "2022-04-16T06:44:52.277Z"
   },
   {
    "duration": 656,
    "start_time": "2022-04-16T06:44:52.285Z"
   },
   {
    "duration": 22,
    "start_time": "2022-04-16T06:44:52.942Z"
   },
   {
    "duration": 26,
    "start_time": "2022-04-16T06:44:52.965Z"
   },
   {
    "duration": 103,
    "start_time": "2022-04-16T06:44:52.992Z"
   },
   {
    "duration": 4,
    "start_time": "2022-04-16T06:44:53.097Z"
   },
   {
    "duration": 26,
    "start_time": "2022-04-16T06:44:53.102Z"
   },
   {
    "duration": 37,
    "start_time": "2022-04-16T06:44:53.129Z"
   },
   {
    "duration": 19,
    "start_time": "2022-04-16T06:44:53.167Z"
   },
   {
    "duration": 14,
    "start_time": "2022-04-16T06:44:53.187Z"
   },
   {
    "duration": 348,
    "start_time": "2022-04-16T06:44:53.202Z"
   },
   {
    "duration": 15,
    "start_time": "2022-04-16T06:44:53.554Z"
   },
   {
    "duration": 31,
    "start_time": "2022-04-16T06:44:53.570Z"
   },
   {
    "duration": 9,
    "start_time": "2022-04-16T06:44:53.603Z"
   },
   {
    "duration": 15,
    "start_time": "2022-04-16T06:44:53.613Z"
   },
   {
    "duration": 87,
    "start_time": "2022-04-16T06:44:53.655Z"
   },
   {
    "duration": 15,
    "start_time": "2022-04-16T06:44:53.754Z"
   },
   {
    "duration": 6,
    "start_time": "2022-04-16T06:44:53.770Z"
   },
   {
    "duration": 7,
    "start_time": "2022-04-16T06:44:53.777Z"
   },
   {
    "duration": 24,
    "start_time": "2022-04-16T06:44:53.785Z"
   },
   {
    "duration": 43,
    "start_time": "2022-04-16T06:44:53.811Z"
   },
   {
    "duration": 21,
    "start_time": "2022-04-16T06:44:53.856Z"
   },
   {
    "duration": 11,
    "start_time": "2022-04-16T06:44:53.879Z"
   },
   {
    "duration": 413,
    "start_time": "2022-04-16T06:44:53.892Z"
   },
   {
    "duration": 16,
    "start_time": "2022-04-16T06:44:54.306Z"
   },
   {
    "duration": 14,
    "start_time": "2022-04-16T06:44:54.324Z"
   },
   {
    "duration": 11,
    "start_time": "2022-04-16T06:44:54.355Z"
   },
   {
    "duration": 24,
    "start_time": "2022-04-16T06:44:54.368Z"
   },
   {
    "duration": 8,
    "start_time": "2022-04-16T06:44:54.394Z"
   },
   {
    "duration": 95,
    "start_time": "2022-04-16T06:44:54.403Z"
   },
   {
    "duration": 65,
    "start_time": "2022-04-16T06:44:54.500Z"
   },
   {
    "duration": 6,
    "start_time": "2022-04-16T06:44:54.566Z"
   },
   {
    "duration": 5,
    "start_time": "2022-04-16T06:44:54.573Z"
   },
   {
    "duration": 7,
    "start_time": "2022-04-16T06:44:54.580Z"
   },
   {
    "duration": 7,
    "start_time": "2022-04-16T06:44:54.589Z"
   },
   {
    "duration": 18,
    "start_time": "2022-04-16T06:44:54.597Z"
   },
   {
    "duration": 51,
    "start_time": "2022-04-16T06:44:54.617Z"
   },
   {
    "duration": 27,
    "start_time": "2022-04-16T06:44:54.669Z"
   },
   {
    "duration": 4,
    "start_time": "2022-04-16T06:44:54.698Z"
   },
   {
    "duration": 7,
    "start_time": "2022-04-16T06:44:54.703Z"
   },
   {
    "duration": 9,
    "start_time": "2022-04-16T06:44:54.711Z"
   },
   {
    "duration": 41,
    "start_time": "2022-04-16T06:44:54.722Z"
   },
   {
    "duration": 9,
    "start_time": "2022-04-16T06:44:54.765Z"
   },
   {
    "duration": 4,
    "start_time": "2022-04-16T06:44:54.776Z"
   },
   {
    "duration": 8,
    "start_time": "2022-04-16T06:44:54.782Z"
   },
   {
    "duration": 239,
    "start_time": "2022-04-16T06:44:54.796Z"
   },
   {
    "duration": 5,
    "start_time": "2022-04-16T06:44:55.037Z"
   },
   {
    "duration": 17,
    "start_time": "2022-04-16T06:44:55.054Z"
   },
   {
    "duration": 19,
    "start_time": "2022-04-16T06:44:55.073Z"
   },
   {
    "duration": 13,
    "start_time": "2022-04-16T06:44:55.093Z"
   },
   {
    "duration": 13,
    "start_time": "2022-04-16T06:44:55.108Z"
   },
   {
    "duration": 15,
    "start_time": "2022-04-16T06:44:55.122Z"
   },
   {
    "duration": 22,
    "start_time": "2022-04-16T06:44:55.138Z"
   },
   {
    "duration": 730,
    "start_time": "2022-04-16T06:44:55.162Z"
   },
   {
    "duration": 5,
    "start_time": "2022-04-16T06:44:55.894Z"
   },
   {
    "duration": 19,
    "start_time": "2022-04-16T06:44:55.901Z"
   },
   {
    "duration": 297,
    "start_time": "2022-04-16T06:44:55.922Z"
   },
   {
    "duration": 17,
    "start_time": "2022-04-16T06:44:56.221Z"
   },
   {
    "duration": 20,
    "start_time": "2022-04-16T06:44:56.240Z"
   },
   {
    "duration": 11,
    "start_time": "2022-04-16T06:44:56.262Z"
   },
   {
    "duration": 22,
    "start_time": "2022-04-16T06:44:56.275Z"
   },
   {
    "duration": 12,
    "start_time": "2022-04-16T06:44:56.298Z"
   },
   {
    "duration": 1251,
    "start_time": "2022-04-16T06:44:56.312Z"
   },
   {
    "duration": 6,
    "start_time": "2022-04-16T06:44:57.565Z"
   },
   {
    "duration": 17,
    "start_time": "2022-04-16T06:44:57.573Z"
   },
   {
    "duration": 1151,
    "start_time": "2022-04-16T06:44:57.592Z"
   },
   {
    "duration": 1986,
    "start_time": "2022-04-16T06:44:58.744Z"
   },
   {
    "duration": 0,
    "start_time": "2022-04-16T06:45:00.731Z"
   },
   {
    "duration": 0,
    "start_time": "2022-04-16T06:45:00.733Z"
   },
   {
    "duration": 0,
    "start_time": "2022-04-16T06:45:00.734Z"
   },
   {
    "duration": 0,
    "start_time": "2022-04-16T06:45:00.735Z"
   },
   {
    "duration": 0,
    "start_time": "2022-04-16T06:45:00.736Z"
   },
   {
    "duration": 0,
    "start_time": "2022-04-16T06:45:00.736Z"
   },
   {
    "duration": 0,
    "start_time": "2022-04-16T06:45:00.737Z"
   },
   {
    "duration": 0,
    "start_time": "2022-04-16T06:45:00.738Z"
   },
   {
    "duration": 0,
    "start_time": "2022-04-16T06:45:00.739Z"
   },
   {
    "duration": 1183,
    "start_time": "2022-04-16T06:46:41.174Z"
   },
   {
    "duration": 1266,
    "start_time": "2022-04-16T06:46:53.688Z"
   },
   {
    "duration": 6,
    "start_time": "2022-04-16T06:47:49.365Z"
   },
   {
    "duration": 1059,
    "start_time": "2022-04-16T06:48:07.270Z"
   },
   {
    "duration": 31,
    "start_time": "2022-04-16T06:50:39.077Z"
   },
   {
    "duration": 544,
    "start_time": "2022-04-16T06:53:39.710Z"
   },
   {
    "duration": 633,
    "start_time": "2022-04-16T06:53:51.387Z"
   },
   {
    "duration": 389,
    "start_time": "2022-04-16T06:53:52.022Z"
   },
   {
    "duration": 97,
    "start_time": "2022-04-16T06:53:52.413Z"
   },
   {
    "duration": 19,
    "start_time": "2022-04-16T06:53:52.512Z"
   },
   {
    "duration": 3,
    "start_time": "2022-04-16T06:53:52.555Z"
   },
   {
    "duration": 10,
    "start_time": "2022-04-16T06:53:52.560Z"
   },
   {
    "duration": 7,
    "start_time": "2022-04-16T06:53:52.572Z"
   },
   {
    "duration": 22,
    "start_time": "2022-04-16T06:53:52.580Z"
   },
   {
    "duration": 4,
    "start_time": "2022-04-16T06:53:52.604Z"
   },
   {
    "duration": 51,
    "start_time": "2022-04-16T06:53:52.610Z"
   },
   {
    "duration": 7,
    "start_time": "2022-04-16T06:53:52.663Z"
   },
   {
    "duration": 12,
    "start_time": "2022-04-16T06:53:52.672Z"
   },
   {
    "duration": 6,
    "start_time": "2022-04-16T06:53:52.685Z"
   },
   {
    "duration": 688,
    "start_time": "2022-04-16T06:53:52.692Z"
   },
   {
    "duration": 11,
    "start_time": "2022-04-16T06:53:53.382Z"
   },
   {
    "duration": 12,
    "start_time": "2022-04-16T06:53:53.394Z"
   },
   {
    "duration": 51,
    "start_time": "2022-04-16T06:53:53.408Z"
   },
   {
    "duration": 7,
    "start_time": "2022-04-16T06:53:53.460Z"
   },
   {
    "duration": 15,
    "start_time": "2022-04-16T06:53:53.468Z"
   },
   {
    "duration": 9,
    "start_time": "2022-04-16T06:53:53.484Z"
   },
   {
    "duration": 138,
    "start_time": "2022-04-16T06:53:53.495Z"
   },
   {
    "duration": 20,
    "start_time": "2022-04-16T06:53:53.635Z"
   },
   {
    "duration": 4,
    "start_time": "2022-04-16T06:53:53.656Z"
   },
   {
    "duration": 16,
    "start_time": "2022-04-16T06:53:53.662Z"
   },
   {
    "duration": 6,
    "start_time": "2022-04-16T06:53:53.680Z"
   },
   {
    "duration": 12,
    "start_time": "2022-04-16T06:53:53.688Z"
   },
   {
    "duration": 8,
    "start_time": "2022-04-16T06:53:53.702Z"
   },
   {
    "duration": 64,
    "start_time": "2022-04-16T06:53:53.714Z"
   },
   {
    "duration": 201,
    "start_time": "2022-04-16T06:53:53.780Z"
   },
   {
    "duration": 13,
    "start_time": "2022-04-16T06:53:53.983Z"
   },
   {
    "duration": 57,
    "start_time": "2022-04-16T06:53:53.997Z"
   },
   {
    "duration": 32,
    "start_time": "2022-04-16T06:53:54.056Z"
   },
   {
    "duration": 22,
    "start_time": "2022-04-16T06:53:54.090Z"
   },
   {
    "duration": 42,
    "start_time": "2022-04-16T06:53:54.113Z"
   },
   {
    "duration": 8,
    "start_time": "2022-04-16T06:53:54.157Z"
   },
   {
    "duration": 30,
    "start_time": "2022-04-16T06:53:54.166Z"
   },
   {
    "duration": 10,
    "start_time": "2022-04-16T06:53:54.197Z"
   },
   {
    "duration": 530,
    "start_time": "2022-04-16T06:53:54.209Z"
   },
   {
    "duration": 22,
    "start_time": "2022-04-16T06:53:54.740Z"
   },
   {
    "duration": 26,
    "start_time": "2022-04-16T06:53:54.764Z"
   },
   {
    "duration": 93,
    "start_time": "2022-04-16T06:53:54.791Z"
   },
   {
    "duration": 5,
    "start_time": "2022-04-16T06:53:54.885Z"
   },
   {
    "duration": 24,
    "start_time": "2022-04-16T06:53:54.891Z"
   },
   {
    "duration": 38,
    "start_time": "2022-04-16T06:53:54.916Z"
   },
   {
    "duration": 15,
    "start_time": "2022-04-16T06:53:54.956Z"
   },
   {
    "duration": 10,
    "start_time": "2022-04-16T06:53:54.972Z"
   },
   {
    "duration": 344,
    "start_time": "2022-04-16T06:53:54.983Z"
   },
   {
    "duration": 15,
    "start_time": "2022-04-16T06:53:55.329Z"
   },
   {
    "duration": 32,
    "start_time": "2022-04-16T06:53:55.353Z"
   },
   {
    "duration": 9,
    "start_time": "2022-04-16T06:53:55.386Z"
   },
   {
    "duration": 10,
    "start_time": "2022-04-16T06:53:55.396Z"
   },
   {
    "duration": 119,
    "start_time": "2022-04-16T06:53:55.408Z"
   },
   {
    "duration": 27,
    "start_time": "2022-04-16T06:53:55.529Z"
   },
   {
    "duration": 6,
    "start_time": "2022-04-16T06:53:55.557Z"
   },
   {
    "duration": 9,
    "start_time": "2022-04-16T06:53:55.564Z"
   },
   {
    "duration": 26,
    "start_time": "2022-04-16T06:53:55.575Z"
   },
   {
    "duration": 22,
    "start_time": "2022-04-16T06:53:55.602Z"
   },
   {
    "duration": 42,
    "start_time": "2022-04-16T06:53:55.626Z"
   },
   {
    "duration": 11,
    "start_time": "2022-04-16T06:53:55.670Z"
   },
   {
    "duration": 416,
    "start_time": "2022-04-16T06:53:55.682Z"
   },
   {
    "duration": 15,
    "start_time": "2022-04-16T06:53:56.099Z"
   },
   {
    "duration": 15,
    "start_time": "2022-04-16T06:53:56.116Z"
   },
   {
    "duration": 26,
    "start_time": "2022-04-16T06:53:56.132Z"
   },
   {
    "duration": 13,
    "start_time": "2022-04-16T06:53:56.160Z"
   },
   {
    "duration": 9,
    "start_time": "2022-04-16T06:53:56.175Z"
   },
   {
    "duration": 103,
    "start_time": "2022-04-16T06:53:56.185Z"
   },
   {
    "duration": 67,
    "start_time": "2022-04-16T06:53:56.289Z"
   },
   {
    "duration": 5,
    "start_time": "2022-04-16T06:53:56.358Z"
   },
   {
    "duration": 4,
    "start_time": "2022-04-16T06:53:56.365Z"
   },
   {
    "duration": 6,
    "start_time": "2022-04-16T06:53:56.371Z"
   },
   {
    "duration": 6,
    "start_time": "2022-04-16T06:53:56.378Z"
   },
   {
    "duration": 19,
    "start_time": "2022-04-16T06:53:56.385Z"
   },
   {
    "duration": 66,
    "start_time": "2022-04-16T06:53:56.405Z"
   },
   {
    "duration": 25,
    "start_time": "2022-04-16T06:53:56.472Z"
   },
   {
    "duration": 4,
    "start_time": "2022-04-16T06:53:56.498Z"
   },
   {
    "duration": 6,
    "start_time": "2022-04-16T06:53:56.504Z"
   },
   {
    "duration": 10,
    "start_time": "2022-04-16T06:53:56.512Z"
   },
   {
    "duration": 39,
    "start_time": "2022-04-16T06:53:56.524Z"
   },
   {
    "duration": 10,
    "start_time": "2022-04-16T06:53:56.565Z"
   },
   {
    "duration": 7,
    "start_time": "2022-04-16T06:53:56.576Z"
   },
   {
    "duration": 9,
    "start_time": "2022-04-16T06:53:56.584Z"
   },
   {
    "duration": 241,
    "start_time": "2022-04-16T06:53:56.598Z"
   },
   {
    "duration": 4,
    "start_time": "2022-04-16T06:53:56.841Z"
   },
   {
    "duration": 17,
    "start_time": "2022-04-16T06:53:56.854Z"
   },
   {
    "duration": 23,
    "start_time": "2022-04-16T06:53:56.873Z"
   },
   {
    "duration": 17,
    "start_time": "2022-04-16T06:53:56.897Z"
   },
   {
    "duration": 7,
    "start_time": "2022-04-16T06:53:56.915Z"
   },
   {
    "duration": 32,
    "start_time": "2022-04-16T06:53:56.923Z"
   },
   {
    "duration": 13,
    "start_time": "2022-04-16T06:53:56.957Z"
   },
   {
    "duration": 746,
    "start_time": "2022-04-16T06:53:56.972Z"
   },
   {
    "duration": 5,
    "start_time": "2022-04-16T06:53:57.720Z"
   },
   {
    "duration": 31,
    "start_time": "2022-04-16T06:53:57.727Z"
   },
   {
    "duration": 291,
    "start_time": "2022-04-16T06:53:57.759Z"
   },
   {
    "duration": 17,
    "start_time": "2022-04-16T06:53:58.054Z"
   },
   {
    "duration": 7,
    "start_time": "2022-04-16T06:53:58.072Z"
   },
   {
    "duration": 15,
    "start_time": "2022-04-16T06:53:58.080Z"
   },
   {
    "duration": 12,
    "start_time": "2022-04-16T06:53:58.097Z"
   },
   {
    "duration": 19,
    "start_time": "2022-04-16T06:53:58.110Z"
   },
   {
    "duration": 1241,
    "start_time": "2022-04-16T06:53:58.131Z"
   },
   {
    "duration": 6,
    "start_time": "2022-04-16T06:53:59.374Z"
   },
   {
    "duration": 24,
    "start_time": "2022-04-16T06:53:59.381Z"
   },
   {
    "duration": 1192,
    "start_time": "2022-04-16T06:53:59.406Z"
   },
   {
    "duration": 32,
    "start_time": "2022-04-16T06:54:00.599Z"
   },
   {
    "duration": 25,
    "start_time": "2022-04-16T06:54:00.633Z"
   },
   {
    "duration": 20,
    "start_time": "2022-04-16T06:54:00.660Z"
   },
   {
    "duration": 16,
    "start_time": "2022-04-16T06:54:00.682Z"
   },
   {
    "duration": 4,
    "start_time": "2022-04-16T06:54:00.700Z"
   },
   {
    "duration": 445,
    "start_time": "2022-04-16T06:54:00.706Z"
   },
   {
    "duration": 9,
    "start_time": "2022-04-16T06:54:01.152Z"
   },
   {
    "duration": 9,
    "start_time": "2022-04-16T06:54:01.162Z"
   },
   {
    "duration": 9,
    "start_time": "2022-04-16T06:54:01.173Z"
   },
   {
    "duration": 34,
    "start_time": "2022-04-16T06:54:01.183Z"
   },
   {
    "duration": 6,
    "start_time": "2022-04-16T06:54:53.589Z"
   },
   {
    "duration": 6,
    "start_time": "2022-04-16T06:55:30.136Z"
   },
   {
    "duration": 6,
    "start_time": "2022-04-16T06:56:05.755Z"
   },
   {
    "duration": 107,
    "start_time": "2022-04-16T06:56:12.566Z"
   },
   {
    "duration": 106,
    "start_time": "2022-04-16T06:56:17.869Z"
   },
   {
    "duration": 6,
    "start_time": "2022-04-16T06:56:22.742Z"
   },
   {
    "duration": 6,
    "start_time": "2022-04-16T06:56:28.848Z"
   },
   {
    "duration": 5,
    "start_time": "2022-04-16T06:56:48.780Z"
   },
   {
    "duration": 5,
    "start_time": "2022-04-16T06:57:11.412Z"
   },
   {
    "duration": 6,
    "start_time": "2022-04-16T06:57:34.073Z"
   },
   {
    "duration": 107,
    "start_time": "2022-04-16T06:58:10.380Z"
   },
   {
    "duration": 5,
    "start_time": "2022-04-16T06:58:27.035Z"
   },
   {
    "duration": 6,
    "start_time": "2022-04-16T06:59:14.625Z"
   },
   {
    "duration": 8,
    "start_time": "2022-04-16T07:00:25.905Z"
   },
   {
    "duration": 107,
    "start_time": "2022-04-16T07:02:20.755Z"
   },
   {
    "duration": 107,
    "start_time": "2022-04-16T07:04:36.153Z"
   },
   {
    "duration": 13,
    "start_time": "2022-04-16T07:10:53.150Z"
   },
   {
    "duration": 92,
    "start_time": "2022-04-16T07:22:48.250Z"
   },
   {
    "duration": 12,
    "start_time": "2022-04-16T07:23:51.692Z"
   },
   {
    "duration": 5,
    "start_time": "2022-04-16T07:24:00.820Z"
   },
   {
    "duration": 13,
    "start_time": "2022-04-16T07:27:19.807Z"
   },
   {
    "duration": 3,
    "start_time": "2022-04-16T07:27:33.563Z"
   },
   {
    "duration": 12,
    "start_time": "2022-04-16T07:27:34.848Z"
   },
   {
    "duration": 4,
    "start_time": "2022-04-16T07:27:44.266Z"
   },
   {
    "duration": 14,
    "start_time": "2022-04-16T07:27:45.248Z"
   },
   {
    "duration": 4,
    "start_time": "2022-04-16T07:29:31.097Z"
   },
   {
    "duration": 11,
    "start_time": "2022-04-16T07:29:44.039Z"
   },
   {
    "duration": 13,
    "start_time": "2022-04-16T07:29:52.177Z"
   },
   {
    "duration": 4,
    "start_time": "2022-04-16T07:30:50.638Z"
   },
   {
    "duration": 44,
    "start_time": "2022-04-16T08:02:34.825Z"
   },
   {
    "duration": 835,
    "start_time": "2022-04-16T08:02:47.716Z"
   },
   {
    "duration": 366,
    "start_time": "2022-04-16T08:02:48.553Z"
   },
   {
    "duration": 97,
    "start_time": "2022-04-16T08:02:48.921Z"
   },
   {
    "duration": 36,
    "start_time": "2022-04-16T08:02:49.020Z"
   },
   {
    "duration": 3,
    "start_time": "2022-04-16T08:02:49.058Z"
   },
   {
    "duration": 10,
    "start_time": "2022-04-16T08:02:49.062Z"
   },
   {
    "duration": 7,
    "start_time": "2022-04-16T08:02:49.073Z"
   },
   {
    "duration": 20,
    "start_time": "2022-04-16T08:02:49.081Z"
   },
   {
    "duration": 4,
    "start_time": "2022-04-16T08:02:49.102Z"
   },
   {
    "duration": 51,
    "start_time": "2022-04-16T08:02:49.109Z"
   },
   {
    "duration": 6,
    "start_time": "2022-04-16T08:02:49.162Z"
   },
   {
    "duration": 12,
    "start_time": "2022-04-16T08:02:49.169Z"
   },
   {
    "duration": 2,
    "start_time": "2022-04-16T08:02:49.183Z"
   },
   {
    "duration": 637,
    "start_time": "2022-04-16T08:02:49.187Z"
   },
   {
    "duration": 9,
    "start_time": "2022-04-16T08:02:49.826Z"
   },
   {
    "duration": 8,
    "start_time": "2022-04-16T08:02:49.848Z"
   },
   {
    "duration": 41,
    "start_time": "2022-04-16T08:02:49.857Z"
   },
   {
    "duration": 7,
    "start_time": "2022-04-16T08:02:49.899Z"
   },
   {
    "duration": 15,
    "start_time": "2022-04-16T08:02:49.907Z"
   },
   {
    "duration": 30,
    "start_time": "2022-04-16T08:02:49.924Z"
   },
   {
    "duration": 141,
    "start_time": "2022-04-16T08:02:49.956Z"
   },
   {
    "duration": 12,
    "start_time": "2022-04-16T08:02:50.099Z"
   },
   {
    "duration": 4,
    "start_time": "2022-04-16T08:02:50.112Z"
   },
   {
    "duration": 37,
    "start_time": "2022-04-16T08:02:50.118Z"
   },
   {
    "duration": 5,
    "start_time": "2022-04-16T08:02:50.157Z"
   },
   {
    "duration": 11,
    "start_time": "2022-04-16T08:02:50.164Z"
   },
   {
    "duration": 8,
    "start_time": "2022-04-16T08:02:50.177Z"
   },
   {
    "duration": 63,
    "start_time": "2022-04-16T08:02:50.190Z"
   },
   {
    "duration": 179,
    "start_time": "2022-04-16T08:02:50.255Z"
   },
   {
    "duration": 12,
    "start_time": "2022-04-16T08:02:50.447Z"
   },
   {
    "duration": 33,
    "start_time": "2022-04-16T08:02:50.461Z"
   },
   {
    "duration": 52,
    "start_time": "2022-04-16T08:02:50.495Z"
   },
   {
    "duration": 23,
    "start_time": "2022-04-16T08:02:50.549Z"
   },
   {
    "duration": 16,
    "start_time": "2022-04-16T08:02:50.574Z"
   },
   {
    "duration": 6,
    "start_time": "2022-04-16T08:02:50.592Z"
   },
   {
    "duration": 48,
    "start_time": "2022-04-16T08:02:50.600Z"
   },
   {
    "duration": 6,
    "start_time": "2022-04-16T08:02:50.650Z"
   },
   {
    "duration": 523,
    "start_time": "2022-04-16T08:02:50.658Z"
   },
   {
    "duration": 17,
    "start_time": "2022-04-16T08:02:51.183Z"
   },
   {
    "duration": 26,
    "start_time": "2022-04-16T08:02:51.201Z"
   },
   {
    "duration": 75,
    "start_time": "2022-04-16T08:02:51.247Z"
   },
   {
    "duration": 6,
    "start_time": "2022-04-16T08:02:51.323Z"
   },
   {
    "duration": 36,
    "start_time": "2022-04-16T08:02:51.330Z"
   },
   {
    "duration": 19,
    "start_time": "2022-04-16T08:02:51.367Z"
   },
   {
    "duration": 16,
    "start_time": "2022-04-16T08:02:51.387Z"
   },
   {
    "duration": 47,
    "start_time": "2022-04-16T08:02:51.405Z"
   },
   {
    "duration": 334,
    "start_time": "2022-04-16T08:02:51.454Z"
   },
   {
    "duration": 15,
    "start_time": "2022-04-16T08:02:51.790Z"
   },
   {
    "duration": 51,
    "start_time": "2022-04-16T08:02:51.806Z"
   },
   {
    "duration": 9,
    "start_time": "2022-04-16T08:02:51.859Z"
   },
   {
    "duration": 13,
    "start_time": "2022-04-16T08:02:51.869Z"
   },
   {
    "duration": 123,
    "start_time": "2022-04-16T08:02:51.884Z"
   },
   {
    "duration": 15,
    "start_time": "2022-04-16T08:02:52.009Z"
   },
   {
    "duration": 24,
    "start_time": "2022-04-16T08:02:52.026Z"
   },
   {
    "duration": 6,
    "start_time": "2022-04-16T08:02:52.052Z"
   },
   {
    "duration": 28,
    "start_time": "2022-04-16T08:02:52.060Z"
   },
   {
    "duration": 26,
    "start_time": "2022-04-16T08:02:52.091Z"
   },
   {
    "duration": 49,
    "start_time": "2022-04-16T08:02:52.119Z"
   },
   {
    "duration": 12,
    "start_time": "2022-04-16T08:02:52.170Z"
   },
   {
    "duration": 414,
    "start_time": "2022-04-16T08:02:52.183Z"
   },
   {
    "duration": 16,
    "start_time": "2022-04-16T08:02:52.599Z"
   },
   {
    "duration": 15,
    "start_time": "2022-04-16T08:02:52.616Z"
   },
   {
    "duration": 11,
    "start_time": "2022-04-16T08:02:52.648Z"
   },
   {
    "duration": 14,
    "start_time": "2022-04-16T08:02:52.660Z"
   },
   {
    "duration": 9,
    "start_time": "2022-04-16T08:02:52.675Z"
   },
   {
    "duration": 110,
    "start_time": "2022-04-16T08:02:52.685Z"
   },
   {
    "duration": 69,
    "start_time": "2022-04-16T08:02:52.797Z"
   },
   {
    "duration": 6,
    "start_time": "2022-04-16T08:02:52.868Z"
   },
   {
    "duration": 9,
    "start_time": "2022-04-16T08:02:52.875Z"
   },
   {
    "duration": 6,
    "start_time": "2022-04-16T08:02:52.886Z"
   },
   {
    "duration": 6,
    "start_time": "2022-04-16T08:02:52.894Z"
   },
   {
    "duration": 22,
    "start_time": "2022-04-16T08:02:52.901Z"
   },
   {
    "duration": 27,
    "start_time": "2022-04-16T08:02:52.948Z"
   },
   {
    "duration": 27,
    "start_time": "2022-04-16T08:02:52.977Z"
   },
   {
    "duration": 4,
    "start_time": "2022-04-16T08:02:53.005Z"
   },
   {
    "duration": 7,
    "start_time": "2022-04-16T08:02:53.011Z"
   },
   {
    "duration": 10,
    "start_time": "2022-04-16T08:02:53.048Z"
   },
   {
    "duration": 13,
    "start_time": "2022-04-16T08:02:53.060Z"
   },
   {
    "duration": 10,
    "start_time": "2022-04-16T08:02:53.075Z"
   },
   {
    "duration": 4,
    "start_time": "2022-04-16T08:02:53.087Z"
   },
   {
    "duration": 8,
    "start_time": "2022-04-16T08:02:53.093Z"
   },
   {
    "duration": 251,
    "start_time": "2022-04-16T08:02:53.107Z"
   },
   {
    "duration": 4,
    "start_time": "2022-04-16T08:02:53.359Z"
   },
   {
    "duration": 16,
    "start_time": "2022-04-16T08:02:53.364Z"
   },
   {
    "duration": 16,
    "start_time": "2022-04-16T08:02:53.381Z"
   },
   {
    "duration": 17,
    "start_time": "2022-04-16T08:02:53.399Z"
   },
   {
    "duration": 30,
    "start_time": "2022-04-16T08:02:53.417Z"
   },
   {
    "duration": 12,
    "start_time": "2022-04-16T08:02:53.449Z"
   },
   {
    "duration": 12,
    "start_time": "2022-04-16T08:02:53.462Z"
   },
   {
    "duration": 738,
    "start_time": "2022-04-16T08:02:53.476Z"
   },
   {
    "duration": 5,
    "start_time": "2022-04-16T08:02:54.215Z"
   },
   {
    "duration": 28,
    "start_time": "2022-04-16T08:02:54.222Z"
   },
   {
    "duration": 294,
    "start_time": "2022-04-16T08:02:54.251Z"
   },
   {
    "duration": 17,
    "start_time": "2022-04-16T08:02:54.547Z"
   },
   {
    "duration": 7,
    "start_time": "2022-04-16T08:02:54.565Z"
   },
   {
    "duration": 15,
    "start_time": "2022-04-16T08:02:54.574Z"
   },
   {
    "duration": 13,
    "start_time": "2022-04-16T08:02:54.590Z"
   },
   {
    "duration": 8,
    "start_time": "2022-04-16T08:02:54.605Z"
   },
   {
    "duration": 1252,
    "start_time": "2022-04-16T08:02:54.615Z"
   },
   {
    "duration": 7,
    "start_time": "2022-04-16T08:02:55.869Z"
   },
   {
    "duration": 18,
    "start_time": "2022-04-16T08:02:55.878Z"
   },
   {
    "duration": 1860,
    "start_time": "2022-04-16T08:02:55.898Z"
   },
   {
    "duration": 30,
    "start_time": "2022-04-16T08:02:57.759Z"
   },
   {
    "duration": 13,
    "start_time": "2022-04-16T08:02:57.791Z"
   },
   {
    "duration": 20,
    "start_time": "2022-04-16T08:02:57.806Z"
   },
   {
    "duration": 27,
    "start_time": "2022-04-16T08:02:57.827Z"
   },
   {
    "duration": 6,
    "start_time": "2022-04-16T08:02:57.855Z"
   },
   {
    "duration": 377,
    "start_time": "2022-04-16T08:02:57.863Z"
   },
   {
    "duration": 9,
    "start_time": "2022-04-16T08:02:58.242Z"
   },
   {
    "duration": 6,
    "start_time": "2022-04-16T08:02:58.253Z"
   },
   {
    "duration": 7,
    "start_time": "2022-04-16T08:02:58.261Z"
   },
   {
    "duration": 14,
    "start_time": "2022-04-16T08:02:58.270Z"
   },
   {
    "duration": 20,
    "start_time": "2022-04-16T08:03:05.528Z"
   },
   {
    "duration": 650,
    "start_time": "2022-04-16T08:05:58.560Z"
   },
   {
    "duration": 357,
    "start_time": "2022-04-16T08:05:59.212Z"
   },
   {
    "duration": 94,
    "start_time": "2022-04-16T08:05:59.570Z"
   },
   {
    "duration": 21,
    "start_time": "2022-04-16T08:05:59.666Z"
   },
   {
    "duration": 4,
    "start_time": "2022-04-16T08:05:59.689Z"
   },
   {
    "duration": 11,
    "start_time": "2022-04-16T08:05:59.695Z"
   },
   {
    "duration": 40,
    "start_time": "2022-04-16T08:05:59.707Z"
   },
   {
    "duration": 19,
    "start_time": "2022-04-16T08:05:59.749Z"
   },
   {
    "duration": 5,
    "start_time": "2022-04-16T08:05:59.770Z"
   },
   {
    "duration": 15,
    "start_time": "2022-04-16T08:05:59.778Z"
   },
   {
    "duration": 12,
    "start_time": "2022-04-16T08:05:59.795Z"
   },
   {
    "duration": 41,
    "start_time": "2022-04-16T08:05:59.809Z"
   },
   {
    "duration": 3,
    "start_time": "2022-04-16T08:05:59.851Z"
   },
   {
    "duration": 639,
    "start_time": "2022-04-16T08:05:59.855Z"
   },
   {
    "duration": 9,
    "start_time": "2022-04-16T08:06:00.497Z"
   },
   {
    "duration": 16,
    "start_time": "2022-04-16T08:06:00.507Z"
   },
   {
    "duration": 61,
    "start_time": "2022-04-16T08:06:00.525Z"
   },
   {
    "duration": 6,
    "start_time": "2022-04-16T08:06:00.588Z"
   },
   {
    "duration": 19,
    "start_time": "2022-04-16T08:06:00.596Z"
   },
   {
    "duration": 18,
    "start_time": "2022-04-16T08:06:00.616Z"
   },
   {
    "duration": 119,
    "start_time": "2022-04-16T08:06:00.635Z"
   },
   {
    "duration": 10,
    "start_time": "2022-04-16T08:06:00.756Z"
   },
   {
    "duration": 3,
    "start_time": "2022-04-16T08:06:00.768Z"
   },
   {
    "duration": 15,
    "start_time": "2022-04-16T08:06:00.773Z"
   },
   {
    "duration": 9,
    "start_time": "2022-04-16T08:06:00.789Z"
   },
   {
    "duration": 17,
    "start_time": "2022-04-16T08:06:00.799Z"
   },
   {
    "duration": 33,
    "start_time": "2022-04-16T08:06:00.818Z"
   },
   {
    "duration": 33,
    "start_time": "2022-04-16T08:06:00.855Z"
   },
   {
    "duration": 209,
    "start_time": "2022-04-16T08:06:00.889Z"
   },
   {
    "duration": 12,
    "start_time": "2022-04-16T08:06:01.100Z"
   },
   {
    "duration": 46,
    "start_time": "2022-04-16T08:06:01.113Z"
   },
   {
    "duration": 31,
    "start_time": "2022-04-16T08:06:01.161Z"
   },
   {
    "duration": 21,
    "start_time": "2022-04-16T08:06:01.194Z"
   },
   {
    "duration": 43,
    "start_time": "2022-04-16T08:06:01.217Z"
   },
   {
    "duration": 6,
    "start_time": "2022-04-16T08:06:01.262Z"
   },
   {
    "duration": 18,
    "start_time": "2022-04-16T08:06:01.270Z"
   },
   {
    "duration": 6,
    "start_time": "2022-04-16T08:06:01.289Z"
   },
   {
    "duration": 545,
    "start_time": "2022-04-16T08:06:01.296Z"
   },
   {
    "duration": 17,
    "start_time": "2022-04-16T08:06:01.847Z"
   },
   {
    "duration": 27,
    "start_time": "2022-04-16T08:06:01.866Z"
   },
   {
    "duration": 104,
    "start_time": "2022-04-16T08:06:01.895Z"
   },
   {
    "duration": 5,
    "start_time": "2022-04-16T08:06:02.001Z"
   },
   {
    "duration": 24,
    "start_time": "2022-04-16T08:06:02.007Z"
   },
   {
    "duration": 18,
    "start_time": "2022-04-16T08:06:02.048Z"
   },
   {
    "duration": 14,
    "start_time": "2022-04-16T08:06:02.068Z"
   },
   {
    "duration": 10,
    "start_time": "2022-04-16T08:06:02.084Z"
   },
   {
    "duration": 351,
    "start_time": "2022-04-16T08:06:02.096Z"
   },
   {
    "duration": 14,
    "start_time": "2022-04-16T08:06:02.449Z"
   },
   {
    "duration": 32,
    "start_time": "2022-04-16T08:06:02.465Z"
   },
   {
    "duration": 8,
    "start_time": "2022-04-16T08:06:02.499Z"
   },
   {
    "duration": 42,
    "start_time": "2022-04-16T08:06:02.509Z"
   },
   {
    "duration": 295,
    "start_time": "2022-04-16T08:06:02.553Z"
   },
   {
    "duration": 19,
    "start_time": "2022-04-16T08:06:02.850Z"
   },
   {
    "duration": 7,
    "start_time": "2022-04-16T08:06:02.871Z"
   },
   {
    "duration": 8,
    "start_time": "2022-04-16T08:06:02.880Z"
   },
   {
    "duration": 94,
    "start_time": "2022-04-16T08:06:02.889Z"
   },
   {
    "duration": 87,
    "start_time": "2022-04-16T08:06:02.985Z"
   },
   {
    "duration": 86,
    "start_time": "2022-04-16T08:06:03.074Z"
   },
   {
    "duration": 16,
    "start_time": "2022-04-16T08:06:03.162Z"
   },
   {
    "duration": 1381,
    "start_time": "2022-04-16T08:06:03.180Z"
   },
   {
    "duration": 23,
    "start_time": "2022-04-16T08:06:04.563Z"
   },
   {
    "duration": 80,
    "start_time": "2022-04-16T08:06:04.588Z"
   },
   {
    "duration": 14,
    "start_time": "2022-04-16T08:06:04.670Z"
   },
   {
    "duration": 69,
    "start_time": "2022-04-16T08:06:04.685Z"
   },
   {
    "duration": 11,
    "start_time": "2022-04-16T08:06:04.756Z"
   },
   {
    "duration": 124,
    "start_time": "2022-04-16T08:06:04.769Z"
   },
   {
    "duration": 62,
    "start_time": "2022-04-16T08:06:04.894Z"
   },
   {
    "duration": 6,
    "start_time": "2022-04-16T08:06:04.958Z"
   },
   {
    "duration": 5,
    "start_time": "2022-04-16T08:06:04.965Z"
   },
   {
    "duration": 4,
    "start_time": "2022-04-16T08:06:04.971Z"
   },
   {
    "duration": 4,
    "start_time": "2022-04-16T08:06:04.977Z"
   },
   {
    "duration": 18,
    "start_time": "2022-04-16T08:06:04.983Z"
   },
   {
    "duration": 68,
    "start_time": "2022-04-16T08:06:05.003Z"
   },
   {
    "duration": 27,
    "start_time": "2022-04-16T08:06:05.073Z"
   },
   {
    "duration": 4,
    "start_time": "2022-04-16T08:06:05.101Z"
   },
   {
    "duration": 7,
    "start_time": "2022-04-16T08:06:05.106Z"
   },
   {
    "duration": 9,
    "start_time": "2022-04-16T08:06:05.148Z"
   },
   {
    "duration": 11,
    "start_time": "2022-04-16T08:06:05.159Z"
   },
   {
    "duration": 9,
    "start_time": "2022-04-16T08:06:05.172Z"
   },
   {
    "duration": 4,
    "start_time": "2022-04-16T08:06:05.182Z"
   },
   {
    "duration": 9,
    "start_time": "2022-04-16T08:06:05.187Z"
   },
   {
    "duration": 236,
    "start_time": "2022-04-16T08:06:05.201Z"
   },
   {
    "duration": 10,
    "start_time": "2022-04-16T08:06:05.439Z"
   },
   {
    "duration": 14,
    "start_time": "2022-04-16T08:06:05.451Z"
   },
   {
    "duration": 18,
    "start_time": "2022-04-16T08:06:05.466Z"
   },
   {
    "duration": 14,
    "start_time": "2022-04-16T08:06:05.486Z"
   },
   {
    "duration": 7,
    "start_time": "2022-04-16T08:06:05.502Z"
   },
   {
    "duration": 48,
    "start_time": "2022-04-16T08:06:05.511Z"
   },
   {
    "duration": 12,
    "start_time": "2022-04-16T08:06:05.561Z"
   },
   {
    "duration": 749,
    "start_time": "2022-04-16T08:06:05.575Z"
   },
   {
    "duration": 6,
    "start_time": "2022-04-16T08:06:06.327Z"
   },
   {
    "duration": 30,
    "start_time": "2022-04-16T08:06:06.335Z"
   },
   {
    "duration": 290,
    "start_time": "2022-04-16T08:06:06.366Z"
   },
   {
    "duration": 17,
    "start_time": "2022-04-16T08:06:06.658Z"
   },
   {
    "duration": 7,
    "start_time": "2022-04-16T08:06:06.676Z"
   },
   {
    "duration": 11,
    "start_time": "2022-04-16T08:06:06.684Z"
   },
   {
    "duration": 18,
    "start_time": "2022-04-16T08:06:06.697Z"
   },
   {
    "duration": 32,
    "start_time": "2022-04-16T08:06:06.717Z"
   },
   {
    "duration": 1201,
    "start_time": "2022-04-16T08:06:06.751Z"
   },
   {
    "duration": 7,
    "start_time": "2022-04-16T08:06:07.954Z"
   },
   {
    "duration": 18,
    "start_time": "2022-04-16T08:06:07.962Z"
   },
   {
    "duration": 1168,
    "start_time": "2022-04-16T08:06:07.982Z"
   },
   {
    "duration": 31,
    "start_time": "2022-04-16T08:06:09.152Z"
   },
   {
    "duration": 14,
    "start_time": "2022-04-16T08:06:09.184Z"
   },
   {
    "duration": 17,
    "start_time": "2022-04-16T08:06:09.200Z"
   },
   {
    "duration": 33,
    "start_time": "2022-04-16T08:06:09.219Z"
   },
   {
    "duration": 7,
    "start_time": "2022-04-16T08:06:09.253Z"
   },
   {
    "duration": 376,
    "start_time": "2022-04-16T08:06:09.261Z"
   },
   {
    "duration": 12,
    "start_time": "2022-04-16T08:06:09.639Z"
   },
   {
    "duration": 7,
    "start_time": "2022-04-16T08:06:09.653Z"
   },
   {
    "duration": 8,
    "start_time": "2022-04-16T08:06:09.662Z"
   },
   {
    "duration": 15,
    "start_time": "2022-04-16T08:06:09.671Z"
   },
   {
    "duration": 8,
    "start_time": "2022-04-16T08:13:56.184Z"
   },
   {
    "duration": 661,
    "start_time": "2022-04-16T08:14:02.804Z"
   },
   {
    "duration": 423,
    "start_time": "2022-04-16T08:14:03.467Z"
   },
   {
    "duration": 108,
    "start_time": "2022-04-16T08:14:03.892Z"
   },
   {
    "duration": 22,
    "start_time": "2022-04-16T08:14:04.002Z"
   },
   {
    "duration": 30,
    "start_time": "2022-04-16T08:14:04.026Z"
   },
   {
    "duration": 20,
    "start_time": "2022-04-16T08:14:04.058Z"
   },
   {
    "duration": 22,
    "start_time": "2022-04-16T08:14:04.080Z"
   },
   {
    "duration": 27,
    "start_time": "2022-04-16T08:14:04.104Z"
   },
   {
    "duration": 5,
    "start_time": "2022-04-16T08:14:04.133Z"
   },
   {
    "duration": 25,
    "start_time": "2022-04-16T08:14:04.141Z"
   },
   {
    "duration": 7,
    "start_time": "2022-04-16T08:14:04.168Z"
   },
   {
    "duration": 20,
    "start_time": "2022-04-16T08:14:04.177Z"
   },
   {
    "duration": 10,
    "start_time": "2022-04-16T08:14:04.199Z"
   },
   {
    "duration": 719,
    "start_time": "2022-04-16T08:14:04.211Z"
   },
   {
    "duration": 10,
    "start_time": "2022-04-16T08:14:04.932Z"
   },
   {
    "duration": 20,
    "start_time": "2022-04-16T08:14:04.944Z"
   },
   {
    "duration": 59,
    "start_time": "2022-04-16T08:14:04.966Z"
   },
   {
    "duration": 8,
    "start_time": "2022-04-16T08:14:05.026Z"
   },
   {
    "duration": 29,
    "start_time": "2022-04-16T08:14:05.035Z"
   },
   {
    "duration": 37,
    "start_time": "2022-04-16T08:14:05.066Z"
   },
   {
    "duration": 129,
    "start_time": "2022-04-16T08:14:05.105Z"
   },
   {
    "duration": 20,
    "start_time": "2022-04-16T08:14:05.236Z"
   },
   {
    "duration": 3,
    "start_time": "2022-04-16T08:14:05.258Z"
   },
   {
    "duration": 26,
    "start_time": "2022-04-16T08:14:05.263Z"
   },
   {
    "duration": 22,
    "start_time": "2022-04-16T08:14:05.291Z"
   },
   {
    "duration": 17,
    "start_time": "2022-04-16T08:14:05.314Z"
   },
   {
    "duration": 35,
    "start_time": "2022-04-16T08:14:05.333Z"
   },
   {
    "duration": 48,
    "start_time": "2022-04-16T08:14:05.372Z"
   },
   {
    "duration": 203,
    "start_time": "2022-04-16T08:14:05.422Z"
   },
   {
    "duration": 12,
    "start_time": "2022-04-16T08:14:05.627Z"
   },
   {
    "duration": 37,
    "start_time": "2022-04-16T08:14:05.655Z"
   },
   {
    "duration": 88,
    "start_time": "2022-04-16T08:14:05.693Z"
   },
   {
    "duration": 0,
    "start_time": "2022-04-16T08:14:05.784Z"
   },
   {
    "duration": 0,
    "start_time": "2022-04-16T08:14:05.785Z"
   },
   {
    "duration": 0,
    "start_time": "2022-04-16T08:14:05.786Z"
   },
   {
    "duration": 0,
    "start_time": "2022-04-16T08:14:05.787Z"
   },
   {
    "duration": 0,
    "start_time": "2022-04-16T08:14:05.789Z"
   },
   {
    "duration": 0,
    "start_time": "2022-04-16T08:14:05.790Z"
   },
   {
    "duration": 0,
    "start_time": "2022-04-16T08:14:05.791Z"
   },
   {
    "duration": 0,
    "start_time": "2022-04-16T08:14:05.792Z"
   },
   {
    "duration": 0,
    "start_time": "2022-04-16T08:14:05.793Z"
   },
   {
    "duration": 0,
    "start_time": "2022-04-16T08:14:05.794Z"
   },
   {
    "duration": 0,
    "start_time": "2022-04-16T08:14:05.795Z"
   },
   {
    "duration": 0,
    "start_time": "2022-04-16T08:14:05.796Z"
   },
   {
    "duration": 0,
    "start_time": "2022-04-16T08:14:05.797Z"
   },
   {
    "duration": 0,
    "start_time": "2022-04-16T08:14:05.798Z"
   },
   {
    "duration": 0,
    "start_time": "2022-04-16T08:14:05.799Z"
   },
   {
    "duration": 0,
    "start_time": "2022-04-16T08:14:05.800Z"
   },
   {
    "duration": 0,
    "start_time": "2022-04-16T08:14:05.801Z"
   },
   {
    "duration": 0,
    "start_time": "2022-04-16T08:14:05.802Z"
   },
   {
    "duration": 0,
    "start_time": "2022-04-16T08:14:05.803Z"
   },
   {
    "duration": 0,
    "start_time": "2022-04-16T08:14:05.804Z"
   },
   {
    "duration": 0,
    "start_time": "2022-04-16T08:14:05.805Z"
   },
   {
    "duration": 0,
    "start_time": "2022-04-16T08:14:05.806Z"
   },
   {
    "duration": 0,
    "start_time": "2022-04-16T08:14:05.807Z"
   },
   {
    "duration": 0,
    "start_time": "2022-04-16T08:14:05.808Z"
   },
   {
    "duration": 0,
    "start_time": "2022-04-16T08:14:05.809Z"
   },
   {
    "duration": 0,
    "start_time": "2022-04-16T08:14:05.854Z"
   },
   {
    "duration": 0,
    "start_time": "2022-04-16T08:14:05.856Z"
   },
   {
    "duration": 0,
    "start_time": "2022-04-16T08:14:05.857Z"
   },
   {
    "duration": 0,
    "start_time": "2022-04-16T08:14:05.858Z"
   },
   {
    "duration": 0,
    "start_time": "2022-04-16T08:14:05.859Z"
   },
   {
    "duration": 0,
    "start_time": "2022-04-16T08:14:05.860Z"
   },
   {
    "duration": 0,
    "start_time": "2022-04-16T08:14:05.861Z"
   },
   {
    "duration": 0,
    "start_time": "2022-04-16T08:14:05.862Z"
   },
   {
    "duration": 0,
    "start_time": "2022-04-16T08:14:05.863Z"
   },
   {
    "duration": 0,
    "start_time": "2022-04-16T08:14:05.864Z"
   },
   {
    "duration": 0,
    "start_time": "2022-04-16T08:14:05.865Z"
   },
   {
    "duration": 0,
    "start_time": "2022-04-16T08:14:05.866Z"
   },
   {
    "duration": 0,
    "start_time": "2022-04-16T08:14:05.867Z"
   },
   {
    "duration": 0,
    "start_time": "2022-04-16T08:14:05.868Z"
   },
   {
    "duration": 0,
    "start_time": "2022-04-16T08:14:05.869Z"
   },
   {
    "duration": 0,
    "start_time": "2022-04-16T08:14:05.870Z"
   },
   {
    "duration": 0,
    "start_time": "2022-04-16T08:14:05.871Z"
   },
   {
    "duration": 0,
    "start_time": "2022-04-16T08:14:05.872Z"
   },
   {
    "duration": 0,
    "start_time": "2022-04-16T08:14:05.873Z"
   },
   {
    "duration": 0,
    "start_time": "2022-04-16T08:14:05.874Z"
   },
   {
    "duration": 0,
    "start_time": "2022-04-16T08:14:05.876Z"
   },
   {
    "duration": 0,
    "start_time": "2022-04-16T08:14:05.878Z"
   },
   {
    "duration": 0,
    "start_time": "2022-04-16T08:14:05.879Z"
   },
   {
    "duration": 0,
    "start_time": "2022-04-16T08:14:05.879Z"
   },
   {
    "duration": 0,
    "start_time": "2022-04-16T08:14:05.880Z"
   },
   {
    "duration": 1,
    "start_time": "2022-04-16T08:14:05.881Z"
   },
   {
    "duration": 0,
    "start_time": "2022-04-16T08:14:05.882Z"
   },
   {
    "duration": 0,
    "start_time": "2022-04-16T08:14:05.883Z"
   },
   {
    "duration": 0,
    "start_time": "2022-04-16T08:14:05.884Z"
   },
   {
    "duration": 0,
    "start_time": "2022-04-16T08:14:05.886Z"
   },
   {
    "duration": 1,
    "start_time": "2022-04-16T08:14:05.886Z"
   },
   {
    "duration": 0,
    "start_time": "2022-04-16T08:14:05.887Z"
   },
   {
    "duration": 0,
    "start_time": "2022-04-16T08:14:05.888Z"
   },
   {
    "duration": 0,
    "start_time": "2022-04-16T08:14:05.890Z"
   },
   {
    "duration": 1,
    "start_time": "2022-04-16T08:14:05.954Z"
   },
   {
    "duration": 0,
    "start_time": "2022-04-16T08:14:05.956Z"
   },
   {
    "duration": 0,
    "start_time": "2022-04-16T08:14:05.957Z"
   },
   {
    "duration": 0,
    "start_time": "2022-04-16T08:14:05.958Z"
   },
   {
    "duration": 0,
    "start_time": "2022-04-16T08:14:05.959Z"
   },
   {
    "duration": 0,
    "start_time": "2022-04-16T08:14:05.960Z"
   },
   {
    "duration": 0,
    "start_time": "2022-04-16T08:14:05.962Z"
   },
   {
    "duration": 0,
    "start_time": "2022-04-16T08:14:05.962Z"
   },
   {
    "duration": 0,
    "start_time": "2022-04-16T08:14:05.963Z"
   },
   {
    "duration": 0,
    "start_time": "2022-04-16T08:14:05.965Z"
   },
   {
    "duration": 0,
    "start_time": "2022-04-16T08:14:05.966Z"
   },
   {
    "duration": 0,
    "start_time": "2022-04-16T08:14:05.968Z"
   },
   {
    "duration": 0,
    "start_time": "2022-04-16T08:14:05.969Z"
   },
   {
    "duration": 0,
    "start_time": "2022-04-16T08:14:05.970Z"
   },
   {
    "duration": 0,
    "start_time": "2022-04-16T08:14:05.972Z"
   },
   {
    "duration": 0,
    "start_time": "2022-04-16T08:14:05.973Z"
   },
   {
    "duration": 0,
    "start_time": "2022-04-16T08:14:05.974Z"
   },
   {
    "duration": 0,
    "start_time": "2022-04-16T08:14:05.975Z"
   },
   {
    "duration": 0,
    "start_time": "2022-04-16T08:14:05.976Z"
   },
   {
    "duration": 0,
    "start_time": "2022-04-16T08:14:05.977Z"
   },
   {
    "duration": 0,
    "start_time": "2022-04-16T08:14:05.978Z"
   },
   {
    "duration": 38,
    "start_time": "2022-04-16T08:16:10.310Z"
   },
   {
    "duration": 25,
    "start_time": "2022-04-16T08:17:40.804Z"
   },
   {
    "duration": 112,
    "start_time": "2022-04-16T08:23:27.693Z"
   },
   {
    "duration": 43,
    "start_time": "2022-04-16T08:23:52.574Z"
   },
   {
    "duration": 654,
    "start_time": "2022-04-16T08:24:06.965Z"
   },
   {
    "duration": 421,
    "start_time": "2022-04-16T08:24:07.621Z"
   },
   {
    "duration": 120,
    "start_time": "2022-04-16T08:24:08.044Z"
   },
   {
    "duration": 20,
    "start_time": "2022-04-16T08:24:08.166Z"
   },
   {
    "duration": 4,
    "start_time": "2022-04-16T08:24:08.187Z"
   },
   {
    "duration": 11,
    "start_time": "2022-04-16T08:24:08.193Z"
   },
   {
    "duration": 8,
    "start_time": "2022-04-16T08:24:08.206Z"
   },
   {
    "duration": 56,
    "start_time": "2022-04-16T08:24:08.216Z"
   },
   {
    "duration": 4,
    "start_time": "2022-04-16T08:24:08.275Z"
   },
   {
    "duration": 16,
    "start_time": "2022-04-16T08:24:08.283Z"
   },
   {
    "duration": 8,
    "start_time": "2022-04-16T08:24:08.301Z"
   },
   {
    "duration": 45,
    "start_time": "2022-04-16T08:24:08.311Z"
   },
   {
    "duration": 3,
    "start_time": "2022-04-16T08:24:08.358Z"
   },
   {
    "duration": 648,
    "start_time": "2022-04-16T08:24:08.363Z"
   },
   {
    "duration": 11,
    "start_time": "2022-04-16T08:24:09.013Z"
   },
   {
    "duration": 9,
    "start_time": "2022-04-16T08:24:09.026Z"
   },
   {
    "duration": 36,
    "start_time": "2022-04-16T08:24:09.055Z"
   },
   {
    "duration": 7,
    "start_time": "2022-04-16T08:24:09.093Z"
   },
   {
    "duration": 34,
    "start_time": "2022-04-16T08:24:09.102Z"
   },
   {
    "duration": 17,
    "start_time": "2022-04-16T08:24:09.138Z"
   },
   {
    "duration": 115,
    "start_time": "2022-04-16T08:24:09.157Z"
   },
   {
    "duration": 12,
    "start_time": "2022-04-16T08:24:09.274Z"
   },
   {
    "duration": 3,
    "start_time": "2022-04-16T08:24:09.288Z"
   },
   {
    "duration": 14,
    "start_time": "2022-04-16T08:24:09.292Z"
   },
   {
    "duration": 5,
    "start_time": "2022-04-16T08:24:09.307Z"
   },
   {
    "duration": 11,
    "start_time": "2022-04-16T08:24:09.314Z"
   },
   {
    "duration": 35,
    "start_time": "2022-04-16T08:24:09.327Z"
   },
   {
    "duration": 37,
    "start_time": "2022-04-16T08:24:09.367Z"
   },
   {
    "duration": 215,
    "start_time": "2022-04-16T08:24:09.406Z"
   },
   {
    "duration": 15,
    "start_time": "2022-04-16T08:24:09.622Z"
   },
   {
    "duration": 48,
    "start_time": "2022-04-16T08:24:09.638Z"
   },
   {
    "duration": 34,
    "start_time": "2022-04-16T08:24:09.688Z"
   },
   {
    "duration": 49,
    "start_time": "2022-04-16T08:24:09.723Z"
   },
   {
    "duration": 17,
    "start_time": "2022-04-16T08:24:09.774Z"
   },
   {
    "duration": 7,
    "start_time": "2022-04-16T08:24:09.793Z"
   },
   {
    "duration": 20,
    "start_time": "2022-04-16T08:24:09.802Z"
   },
   {
    "duration": 35,
    "start_time": "2022-04-16T08:24:09.824Z"
   },
   {
    "duration": 539,
    "start_time": "2022-04-16T08:24:09.861Z"
   },
   {
    "duration": 19,
    "start_time": "2022-04-16T08:24:10.402Z"
   },
   {
    "duration": 45,
    "start_time": "2022-04-16T08:24:10.422Z"
   },
   {
    "duration": 89,
    "start_time": "2022-04-16T08:24:10.469Z"
   },
   {
    "duration": 5,
    "start_time": "2022-04-16T08:24:10.560Z"
   },
   {
    "duration": 26,
    "start_time": "2022-04-16T08:24:10.566Z"
   },
   {
    "duration": 17,
    "start_time": "2022-04-16T08:24:10.593Z"
   },
   {
    "duration": 13,
    "start_time": "2022-04-16T08:24:10.612Z"
   },
   {
    "duration": 10,
    "start_time": "2022-04-16T08:24:10.655Z"
   },
   {
    "duration": 338,
    "start_time": "2022-04-16T08:24:10.667Z"
   },
   {
    "duration": 16,
    "start_time": "2022-04-16T08:24:11.007Z"
   },
   {
    "duration": 47,
    "start_time": "2022-04-16T08:24:11.024Z"
   },
   {
    "duration": 9,
    "start_time": "2022-04-16T08:24:11.073Z"
   },
   {
    "duration": 28,
    "start_time": "2022-04-16T08:24:11.084Z"
   },
   {
    "duration": 111,
    "start_time": "2022-04-16T08:24:11.114Z"
   },
   {
    "duration": 14,
    "start_time": "2022-04-16T08:24:11.227Z"
   },
   {
    "duration": 14,
    "start_time": "2022-04-16T08:24:11.243Z"
   },
   {
    "duration": 6,
    "start_time": "2022-04-16T08:24:11.259Z"
   },
   {
    "duration": 37,
    "start_time": "2022-04-16T08:24:11.267Z"
   },
   {
    "duration": 20,
    "start_time": "2022-04-16T08:24:11.306Z"
   },
   {
    "duration": 33,
    "start_time": "2022-04-16T08:24:11.328Z"
   },
   {
    "duration": 11,
    "start_time": "2022-04-16T08:24:11.362Z"
   },
   {
    "duration": 413,
    "start_time": "2022-04-16T08:24:11.375Z"
   },
   {
    "duration": 16,
    "start_time": "2022-04-16T08:24:11.790Z"
   },
   {
    "duration": 15,
    "start_time": "2022-04-16T08:24:11.808Z"
   },
   {
    "duration": 37,
    "start_time": "2022-04-16T08:24:11.825Z"
   },
   {
    "duration": 14,
    "start_time": "2022-04-16T08:24:11.864Z"
   },
   {
    "duration": 10,
    "start_time": "2022-04-16T08:24:11.880Z"
   },
   {
    "duration": 102,
    "start_time": "2022-04-16T08:24:11.891Z"
   },
   {
    "duration": 61,
    "start_time": "2022-04-16T08:24:11.994Z"
   },
   {
    "duration": 5,
    "start_time": "2022-04-16T08:24:12.057Z"
   },
   {
    "duration": 6,
    "start_time": "2022-04-16T08:24:12.064Z"
   },
   {
    "duration": 7,
    "start_time": "2022-04-16T08:24:12.072Z"
   },
   {
    "duration": 6,
    "start_time": "2022-04-16T08:24:12.081Z"
   },
   {
    "duration": 21,
    "start_time": "2022-04-16T08:24:12.088Z"
   },
   {
    "duration": 55,
    "start_time": "2022-04-16T08:24:12.111Z"
   },
   {
    "duration": 28,
    "start_time": "2022-04-16T08:24:12.168Z"
   },
   {
    "duration": 4,
    "start_time": "2022-04-16T08:24:12.197Z"
   },
   {
    "duration": 16,
    "start_time": "2022-04-16T08:24:12.202Z"
   },
   {
    "duration": 13,
    "start_time": "2022-04-16T08:24:12.219Z"
   },
   {
    "duration": 13,
    "start_time": "2022-04-16T08:24:12.255Z"
   },
   {
    "duration": 12,
    "start_time": "2022-04-16T08:24:12.270Z"
   },
   {
    "duration": 5,
    "start_time": "2022-04-16T08:24:12.283Z"
   },
   {
    "duration": 9,
    "start_time": "2022-04-16T08:24:12.290Z"
   },
   {
    "duration": 110,
    "start_time": "2022-04-16T08:24:12.305Z"
   },
   {
    "duration": 0,
    "start_time": "2022-04-16T08:24:12.417Z"
   },
   {
    "duration": 0,
    "start_time": "2022-04-16T08:24:12.419Z"
   },
   {
    "duration": 0,
    "start_time": "2022-04-16T08:24:12.420Z"
   },
   {
    "duration": 0,
    "start_time": "2022-04-16T08:24:12.421Z"
   },
   {
    "duration": 0,
    "start_time": "2022-04-16T08:24:12.422Z"
   },
   {
    "duration": 0,
    "start_time": "2022-04-16T08:24:12.423Z"
   },
   {
    "duration": 0,
    "start_time": "2022-04-16T08:24:12.424Z"
   },
   {
    "duration": 0,
    "start_time": "2022-04-16T08:24:12.425Z"
   },
   {
    "duration": 0,
    "start_time": "2022-04-16T08:24:12.426Z"
   },
   {
    "duration": 0,
    "start_time": "2022-04-16T08:24:12.427Z"
   },
   {
    "duration": 0,
    "start_time": "2022-04-16T08:24:12.428Z"
   },
   {
    "duration": 0,
    "start_time": "2022-04-16T08:24:12.429Z"
   },
   {
    "duration": 0,
    "start_time": "2022-04-16T08:24:12.454Z"
   },
   {
    "duration": 0,
    "start_time": "2022-04-16T08:24:12.456Z"
   },
   {
    "duration": 0,
    "start_time": "2022-04-16T08:24:12.457Z"
   },
   {
    "duration": 0,
    "start_time": "2022-04-16T08:24:12.458Z"
   },
   {
    "duration": 0,
    "start_time": "2022-04-16T08:24:12.459Z"
   },
   {
    "duration": 0,
    "start_time": "2022-04-16T08:24:12.460Z"
   },
   {
    "duration": 0,
    "start_time": "2022-04-16T08:24:12.461Z"
   },
   {
    "duration": 0,
    "start_time": "2022-04-16T08:24:12.462Z"
   },
   {
    "duration": 0,
    "start_time": "2022-04-16T08:24:12.463Z"
   },
   {
    "duration": 0,
    "start_time": "2022-04-16T08:24:12.464Z"
   },
   {
    "duration": 0,
    "start_time": "2022-04-16T08:24:12.465Z"
   },
   {
    "duration": 0,
    "start_time": "2022-04-16T08:24:12.466Z"
   },
   {
    "duration": 0,
    "start_time": "2022-04-16T08:24:12.467Z"
   },
   {
    "duration": 0,
    "start_time": "2022-04-16T08:24:12.468Z"
   },
   {
    "duration": 0,
    "start_time": "2022-04-16T08:24:12.468Z"
   },
   {
    "duration": 0,
    "start_time": "2022-04-16T08:24:12.470Z"
   },
   {
    "duration": 0,
    "start_time": "2022-04-16T08:24:12.471Z"
   },
   {
    "duration": 0,
    "start_time": "2022-04-16T08:24:12.472Z"
   },
   {
    "duration": 10,
    "start_time": "2022-04-16T08:26:26.345Z"
   },
   {
    "duration": 14,
    "start_time": "2022-04-16T08:27:57.064Z"
   },
   {
    "duration": 17,
    "start_time": "2022-04-16T08:28:02.927Z"
   },
   {
    "duration": 8,
    "start_time": "2022-04-16T08:30:01.015Z"
   },
   {
    "duration": 107,
    "start_time": "2022-04-16T08:30:34.037Z"
   },
   {
    "duration": 6,
    "start_time": "2022-04-16T08:30:47.369Z"
   },
   {
    "duration": 25,
    "start_time": "2022-04-16T08:31:06.956Z"
   },
   {
    "duration": 18,
    "start_time": "2022-04-16T08:32:27.062Z"
   },
   {
    "duration": 697,
    "start_time": "2022-04-16T08:32:41.027Z"
   },
   {
    "duration": 401,
    "start_time": "2022-04-16T08:32:41.726Z"
   },
   {
    "duration": 97,
    "start_time": "2022-04-16T08:32:42.128Z"
   },
   {
    "duration": 42,
    "start_time": "2022-04-16T08:32:42.227Z"
   },
   {
    "duration": 8,
    "start_time": "2022-04-16T08:32:42.270Z"
   },
   {
    "duration": 28,
    "start_time": "2022-04-16T08:32:42.280Z"
   },
   {
    "duration": 21,
    "start_time": "2022-04-16T08:32:42.310Z"
   },
   {
    "duration": 33,
    "start_time": "2022-04-16T08:32:42.333Z"
   },
   {
    "duration": 5,
    "start_time": "2022-04-16T08:32:42.367Z"
   },
   {
    "duration": 42,
    "start_time": "2022-04-16T08:32:42.374Z"
   },
   {
    "duration": 20,
    "start_time": "2022-04-16T08:32:42.417Z"
   },
   {
    "duration": 17,
    "start_time": "2022-04-16T08:32:42.439Z"
   },
   {
    "duration": 11,
    "start_time": "2022-04-16T08:32:42.458Z"
   },
   {
    "duration": 657,
    "start_time": "2022-04-16T08:32:42.471Z"
   },
   {
    "duration": 11,
    "start_time": "2022-04-16T08:32:43.130Z"
   },
   {
    "duration": 23,
    "start_time": "2022-04-16T08:32:43.142Z"
   },
   {
    "duration": 47,
    "start_time": "2022-04-16T08:32:43.167Z"
   },
   {
    "duration": 8,
    "start_time": "2022-04-16T08:32:43.216Z"
   },
   {
    "duration": 34,
    "start_time": "2022-04-16T08:32:43.226Z"
   },
   {
    "duration": 24,
    "start_time": "2022-04-16T08:32:43.262Z"
   },
   {
    "duration": 109,
    "start_time": "2022-04-16T08:32:43.288Z"
   },
   {
    "duration": 13,
    "start_time": "2022-04-16T08:32:43.399Z"
   },
   {
    "duration": 4,
    "start_time": "2022-04-16T08:32:43.414Z"
   },
   {
    "duration": 37,
    "start_time": "2022-04-16T08:32:43.420Z"
   },
   {
    "duration": 5,
    "start_time": "2022-04-16T08:32:43.459Z"
   },
   {
    "duration": 18,
    "start_time": "2022-04-16T08:32:43.466Z"
   },
   {
    "duration": 20,
    "start_time": "2022-04-16T08:32:43.486Z"
   },
   {
    "duration": 51,
    "start_time": "2022-04-16T08:32:43.511Z"
   },
   {
    "duration": 209,
    "start_time": "2022-04-16T08:32:43.564Z"
   },
   {
    "duration": 12,
    "start_time": "2022-04-16T08:32:43.774Z"
   },
   {
    "duration": 45,
    "start_time": "2022-04-16T08:32:43.788Z"
   },
   {
    "duration": 44,
    "start_time": "2022-04-16T08:32:43.834Z"
   },
   {
    "duration": 22,
    "start_time": "2022-04-16T08:32:43.880Z"
   },
   {
    "duration": 17,
    "start_time": "2022-04-16T08:32:43.904Z"
   },
   {
    "duration": 15,
    "start_time": "2022-04-16T08:32:43.923Z"
   },
   {
    "duration": 29,
    "start_time": "2022-04-16T08:32:43.939Z"
   },
   {
    "duration": 22,
    "start_time": "2022-04-16T08:32:43.970Z"
   },
   {
    "duration": 560,
    "start_time": "2022-04-16T08:32:43.993Z"
   },
   {
    "duration": 18,
    "start_time": "2022-04-16T08:32:44.555Z"
   },
   {
    "duration": 42,
    "start_time": "2022-04-16T08:32:44.574Z"
   },
   {
    "duration": 88,
    "start_time": "2022-04-16T08:32:44.618Z"
   },
   {
    "duration": 16,
    "start_time": "2022-04-16T08:32:44.707Z"
   },
   {
    "duration": 49,
    "start_time": "2022-04-16T08:32:44.724Z"
   },
   {
    "duration": 29,
    "start_time": "2022-04-16T08:32:44.775Z"
   },
   {
    "duration": 34,
    "start_time": "2022-04-16T08:32:44.806Z"
   },
   {
    "duration": 18,
    "start_time": "2022-04-16T08:32:44.841Z"
   },
   {
    "duration": 345,
    "start_time": "2022-04-16T08:32:44.861Z"
   },
   {
    "duration": 14,
    "start_time": "2022-04-16T08:32:45.208Z"
   },
   {
    "duration": 44,
    "start_time": "2022-04-16T08:32:45.224Z"
   },
   {
    "duration": 9,
    "start_time": "2022-04-16T08:32:45.270Z"
   },
   {
    "duration": 33,
    "start_time": "2022-04-16T08:32:45.280Z"
   },
   {
    "duration": 123,
    "start_time": "2022-04-16T08:32:45.314Z"
   },
   {
    "duration": 26,
    "start_time": "2022-04-16T08:32:45.439Z"
   },
   {
    "duration": 22,
    "start_time": "2022-04-16T08:32:45.467Z"
   },
   {
    "duration": 34,
    "start_time": "2022-04-16T08:32:45.490Z"
   },
   {
    "duration": 53,
    "start_time": "2022-04-16T08:32:45.526Z"
   },
   {
    "duration": 27,
    "start_time": "2022-04-16T08:32:45.580Z"
   },
   {
    "duration": 56,
    "start_time": "2022-04-16T08:32:45.608Z"
   },
   {
    "duration": 37,
    "start_time": "2022-04-16T08:32:45.665Z"
   },
   {
    "duration": 408,
    "start_time": "2022-04-16T08:32:45.704Z"
   },
   {
    "duration": 16,
    "start_time": "2022-04-16T08:32:46.114Z"
   },
   {
    "duration": 32,
    "start_time": "2022-04-16T08:32:46.131Z"
   },
   {
    "duration": 10,
    "start_time": "2022-04-16T08:32:46.165Z"
   },
   {
    "duration": 10,
    "start_time": "2022-04-16T08:32:46.176Z"
   },
   {
    "duration": 8,
    "start_time": "2022-04-16T08:32:46.187Z"
   },
   {
    "duration": 102,
    "start_time": "2022-04-16T08:32:46.196Z"
   },
   {
    "duration": 64,
    "start_time": "2022-04-16T08:32:46.299Z"
   },
   {
    "duration": 6,
    "start_time": "2022-04-16T08:32:46.364Z"
   },
   {
    "duration": 6,
    "start_time": "2022-04-16T08:32:46.371Z"
   },
   {
    "duration": 6,
    "start_time": "2022-04-16T08:32:46.379Z"
   },
   {
    "duration": 5,
    "start_time": "2022-04-16T08:32:46.386Z"
   },
   {
    "duration": 19,
    "start_time": "2022-04-16T08:32:46.392Z"
   },
   {
    "duration": 58,
    "start_time": "2022-04-16T08:32:46.413Z"
   },
   {
    "duration": 28,
    "start_time": "2022-04-16T08:32:46.472Z"
   },
   {
    "duration": 5,
    "start_time": "2022-04-16T08:32:46.501Z"
   },
   {
    "duration": 7,
    "start_time": "2022-04-16T08:32:46.507Z"
   },
   {
    "duration": 44,
    "start_time": "2022-04-16T08:32:46.516Z"
   },
   {
    "duration": 14,
    "start_time": "2022-04-16T08:32:46.562Z"
   },
   {
    "duration": 10,
    "start_time": "2022-04-16T08:32:46.577Z"
   },
   {
    "duration": 6,
    "start_time": "2022-04-16T08:32:46.588Z"
   },
   {
    "duration": 10,
    "start_time": "2022-04-16T08:32:46.595Z"
   },
   {
    "duration": 97,
    "start_time": "2022-04-16T08:32:46.610Z"
   },
   {
    "duration": 0,
    "start_time": "2022-04-16T08:32:46.708Z"
   },
   {
    "duration": 0,
    "start_time": "2022-04-16T08:32:46.709Z"
   },
   {
    "duration": 0,
    "start_time": "2022-04-16T08:32:46.710Z"
   },
   {
    "duration": 0,
    "start_time": "2022-04-16T08:32:46.711Z"
   },
   {
    "duration": 0,
    "start_time": "2022-04-16T08:32:46.712Z"
   },
   {
    "duration": 0,
    "start_time": "2022-04-16T08:32:46.713Z"
   },
   {
    "duration": 0,
    "start_time": "2022-04-16T08:32:46.714Z"
   },
   {
    "duration": 0,
    "start_time": "2022-04-16T08:32:46.715Z"
   },
   {
    "duration": 0,
    "start_time": "2022-04-16T08:32:46.717Z"
   },
   {
    "duration": 0,
    "start_time": "2022-04-16T08:32:46.718Z"
   },
   {
    "duration": 0,
    "start_time": "2022-04-16T08:32:46.719Z"
   },
   {
    "duration": 0,
    "start_time": "2022-04-16T08:32:46.720Z"
   },
   {
    "duration": 0,
    "start_time": "2022-04-16T08:32:46.721Z"
   },
   {
    "duration": 0,
    "start_time": "2022-04-16T08:32:46.722Z"
   },
   {
    "duration": 0,
    "start_time": "2022-04-16T08:32:46.723Z"
   },
   {
    "duration": 0,
    "start_time": "2022-04-16T08:32:46.724Z"
   },
   {
    "duration": 0,
    "start_time": "2022-04-16T08:32:46.755Z"
   },
   {
    "duration": 0,
    "start_time": "2022-04-16T08:32:46.756Z"
   },
   {
    "duration": 0,
    "start_time": "2022-04-16T08:32:46.757Z"
   },
   {
    "duration": 0,
    "start_time": "2022-04-16T08:32:46.758Z"
   },
   {
    "duration": 0,
    "start_time": "2022-04-16T08:32:46.759Z"
   },
   {
    "duration": 0,
    "start_time": "2022-04-16T08:32:46.761Z"
   },
   {
    "duration": 0,
    "start_time": "2022-04-16T08:32:46.761Z"
   },
   {
    "duration": 0,
    "start_time": "2022-04-16T08:32:46.763Z"
   },
   {
    "duration": 0,
    "start_time": "2022-04-16T08:32:46.763Z"
   },
   {
    "duration": 0,
    "start_time": "2022-04-16T08:32:46.764Z"
   },
   {
    "duration": 0,
    "start_time": "2022-04-16T08:32:46.766Z"
   },
   {
    "duration": 0,
    "start_time": "2022-04-16T08:32:46.767Z"
   },
   {
    "duration": 0,
    "start_time": "2022-04-16T08:32:46.768Z"
   },
   {
    "duration": 0,
    "start_time": "2022-04-16T08:32:46.769Z"
   },
   {
    "duration": 5,
    "start_time": "2022-04-16T08:34:46.025Z"
   },
   {
    "duration": 50,
    "start_time": "2022-04-16T08:39:15.095Z"
   },
   {
    "duration": 6,
    "start_time": "2022-04-16T08:44:32.178Z"
   },
   {
    "duration": 699,
    "start_time": "2022-04-16T08:44:51.856Z"
   },
   {
    "duration": 418,
    "start_time": "2022-04-16T08:44:52.557Z"
   },
   {
    "duration": 121,
    "start_time": "2022-04-16T08:44:52.976Z"
   },
   {
    "duration": 22,
    "start_time": "2022-04-16T08:44:53.100Z"
   },
   {
    "duration": 32,
    "start_time": "2022-04-16T08:44:53.124Z"
   },
   {
    "duration": 31,
    "start_time": "2022-04-16T08:44:53.158Z"
   },
   {
    "duration": 11,
    "start_time": "2022-04-16T08:44:53.190Z"
   },
   {
    "duration": 27,
    "start_time": "2022-04-16T08:44:53.202Z"
   },
   {
    "duration": 5,
    "start_time": "2022-04-16T08:44:53.231Z"
   },
   {
    "duration": 25,
    "start_time": "2022-04-16T08:44:53.238Z"
   },
   {
    "duration": 77,
    "start_time": "2022-04-16T08:44:53.264Z"
   },
   {
    "duration": 17,
    "start_time": "2022-04-16T08:44:53.342Z"
   },
   {
    "duration": 7,
    "start_time": "2022-04-16T08:44:53.361Z"
   },
   {
    "duration": 658,
    "start_time": "2022-04-16T08:44:53.370Z"
   },
   {
    "duration": 10,
    "start_time": "2022-04-16T08:44:54.030Z"
   },
   {
    "duration": 19,
    "start_time": "2022-04-16T08:44:54.041Z"
   },
   {
    "duration": 39,
    "start_time": "2022-04-16T08:44:54.062Z"
   },
   {
    "duration": 7,
    "start_time": "2022-04-16T08:44:54.103Z"
   },
   {
    "duration": 14,
    "start_time": "2022-04-16T08:44:54.112Z"
   },
   {
    "duration": 28,
    "start_time": "2022-04-16T08:44:54.127Z"
   },
   {
    "duration": 116,
    "start_time": "2022-04-16T08:44:54.157Z"
   },
   {
    "duration": 12,
    "start_time": "2022-04-16T08:44:54.275Z"
   },
   {
    "duration": 4,
    "start_time": "2022-04-16T08:44:54.288Z"
   },
   {
    "duration": 16,
    "start_time": "2022-04-16T08:44:54.294Z"
   },
   {
    "duration": 5,
    "start_time": "2022-04-16T08:44:54.311Z"
   },
   {
    "duration": 41,
    "start_time": "2022-04-16T08:44:54.318Z"
   },
   {
    "duration": 13,
    "start_time": "2022-04-16T08:44:54.361Z"
   },
   {
    "duration": 38,
    "start_time": "2022-04-16T08:44:54.380Z"
   },
   {
    "duration": 211,
    "start_time": "2022-04-16T08:44:54.420Z"
   },
   {
    "duration": 25,
    "start_time": "2022-04-16T08:44:54.633Z"
   },
   {
    "duration": 34,
    "start_time": "2022-04-16T08:44:54.659Z"
   },
   {
    "duration": 32,
    "start_time": "2022-04-16T08:44:54.695Z"
   },
   {
    "duration": 42,
    "start_time": "2022-04-16T08:44:54.729Z"
   },
   {
    "duration": 16,
    "start_time": "2022-04-16T08:44:54.773Z"
   },
   {
    "duration": 6,
    "start_time": "2022-04-16T08:44:54.791Z"
   },
   {
    "duration": 18,
    "start_time": "2022-04-16T08:44:54.798Z"
   },
   {
    "duration": 6,
    "start_time": "2022-04-16T08:44:54.818Z"
   },
   {
    "duration": 531,
    "start_time": "2022-04-16T08:44:54.854Z"
   },
   {
    "duration": 19,
    "start_time": "2022-04-16T08:44:55.387Z"
   },
   {
    "duration": 26,
    "start_time": "2022-04-16T08:44:55.408Z"
   },
   {
    "duration": 74,
    "start_time": "2022-04-16T08:44:55.454Z"
   },
   {
    "duration": 5,
    "start_time": "2022-04-16T08:44:55.530Z"
   },
   {
    "duration": 38,
    "start_time": "2022-04-16T08:44:55.536Z"
   },
   {
    "duration": 18,
    "start_time": "2022-04-16T08:44:55.576Z"
   },
   {
    "duration": 15,
    "start_time": "2022-04-16T08:44:55.595Z"
   },
   {
    "duration": 10,
    "start_time": "2022-04-16T08:44:55.611Z"
   },
   {
    "duration": 359,
    "start_time": "2022-04-16T08:44:55.623Z"
   },
   {
    "duration": 14,
    "start_time": "2022-04-16T08:44:55.984Z"
   },
   {
    "duration": 31,
    "start_time": "2022-04-16T08:44:55.999Z"
   },
   {
    "duration": 25,
    "start_time": "2022-04-16T08:44:56.032Z"
   },
   {
    "duration": 14,
    "start_time": "2022-04-16T08:44:56.059Z"
   },
   {
    "duration": 97,
    "start_time": "2022-04-16T08:44:56.075Z"
   },
   {
    "duration": 15,
    "start_time": "2022-04-16T08:44:56.174Z"
   },
   {
    "duration": 15,
    "start_time": "2022-04-16T08:44:56.190Z"
   },
   {
    "duration": 25,
    "start_time": "2022-04-16T08:44:56.206Z"
   },
   {
    "duration": 33,
    "start_time": "2022-04-16T08:44:56.233Z"
   },
   {
    "duration": 24,
    "start_time": "2022-04-16T08:44:56.267Z"
   },
   {
    "duration": 20,
    "start_time": "2022-04-16T08:44:56.293Z"
   },
   {
    "duration": 10,
    "start_time": "2022-04-16T08:44:56.315Z"
   },
   {
    "duration": 412,
    "start_time": "2022-04-16T08:44:56.327Z"
   },
   {
    "duration": 20,
    "start_time": "2022-04-16T08:44:56.741Z"
   },
   {
    "duration": 18,
    "start_time": "2022-04-16T08:44:56.763Z"
   },
   {
    "duration": 13,
    "start_time": "2022-04-16T08:44:56.782Z"
   },
   {
    "duration": 22,
    "start_time": "2022-04-16T08:44:56.797Z"
   },
   {
    "duration": 11,
    "start_time": "2022-04-16T08:44:56.820Z"
   },
   {
    "duration": 85,
    "start_time": "2022-04-16T08:44:56.832Z"
   },
   {
    "duration": 62,
    "start_time": "2022-04-16T08:44:56.919Z"
   },
   {
    "duration": 5,
    "start_time": "2022-04-16T08:44:56.982Z"
   },
   {
    "duration": 22,
    "start_time": "2022-04-16T08:44:56.988Z"
   },
   {
    "duration": 12,
    "start_time": "2022-04-16T08:44:57.011Z"
   },
   {
    "duration": 19,
    "start_time": "2022-04-16T08:44:57.024Z"
   },
   {
    "duration": 35,
    "start_time": "2022-04-16T08:44:57.044Z"
   },
   {
    "duration": 28,
    "start_time": "2022-04-16T08:44:57.081Z"
   },
   {
    "duration": 28,
    "start_time": "2022-04-16T08:44:57.111Z"
   },
   {
    "duration": 16,
    "start_time": "2022-04-16T08:44:57.141Z"
   },
   {
    "duration": 20,
    "start_time": "2022-04-16T08:44:57.159Z"
   },
   {
    "duration": 15,
    "start_time": "2022-04-16T08:44:57.180Z"
   },
   {
    "duration": 21,
    "start_time": "2022-04-16T08:44:57.196Z"
   },
   {
    "duration": 13,
    "start_time": "2022-04-16T08:44:57.219Z"
   },
   {
    "duration": 13,
    "start_time": "2022-04-16T08:44:57.234Z"
   },
   {
    "duration": 22,
    "start_time": "2022-04-16T08:44:57.249Z"
   },
   {
    "duration": 215,
    "start_time": "2022-04-16T08:44:57.277Z"
   },
   {
    "duration": 1795,
    "start_time": "2022-04-16T08:44:57.494Z"
   },
   {
    "duration": 0,
    "start_time": "2022-04-16T08:44:59.291Z"
   },
   {
    "duration": 0,
    "start_time": "2022-04-16T08:44:59.292Z"
   },
   {
    "duration": 0,
    "start_time": "2022-04-16T08:44:59.293Z"
   },
   {
    "duration": 0,
    "start_time": "2022-04-16T08:44:59.294Z"
   },
   {
    "duration": 0,
    "start_time": "2022-04-16T08:44:59.294Z"
   },
   {
    "duration": 0,
    "start_time": "2022-04-16T08:44:59.295Z"
   },
   {
    "duration": 0,
    "start_time": "2022-04-16T08:44:59.296Z"
   },
   {
    "duration": 0,
    "start_time": "2022-04-16T08:44:59.297Z"
   },
   {
    "duration": 0,
    "start_time": "2022-04-16T08:44:59.298Z"
   },
   {
    "duration": 0,
    "start_time": "2022-04-16T08:44:59.299Z"
   },
   {
    "duration": 0,
    "start_time": "2022-04-16T08:44:59.300Z"
   },
   {
    "duration": 0,
    "start_time": "2022-04-16T08:44:59.301Z"
   },
   {
    "duration": 0,
    "start_time": "2022-04-16T08:44:59.302Z"
   },
   {
    "duration": 0,
    "start_time": "2022-04-16T08:44:59.303Z"
   },
   {
    "duration": 0,
    "start_time": "2022-04-16T08:44:59.304Z"
   },
   {
    "duration": 0,
    "start_time": "2022-04-16T08:44:59.305Z"
   },
   {
    "duration": 0,
    "start_time": "2022-04-16T08:44:59.306Z"
   },
   {
    "duration": 0,
    "start_time": "2022-04-16T08:44:59.307Z"
   },
   {
    "duration": 0,
    "start_time": "2022-04-16T08:44:59.308Z"
   },
   {
    "duration": 0,
    "start_time": "2022-04-16T08:44:59.309Z"
   },
   {
    "duration": 0,
    "start_time": "2022-04-16T08:44:59.310Z"
   },
   {
    "duration": 0,
    "start_time": "2022-04-16T08:44:59.311Z"
   },
   {
    "duration": 0,
    "start_time": "2022-04-16T08:44:59.312Z"
   },
   {
    "duration": 0,
    "start_time": "2022-04-16T08:44:59.313Z"
   },
   {
    "duration": 0,
    "start_time": "2022-04-16T08:44:59.314Z"
   },
   {
    "duration": 0,
    "start_time": "2022-04-16T08:44:59.315Z"
   },
   {
    "duration": 0,
    "start_time": "2022-04-16T08:44:59.317Z"
   },
   {
    "duration": 0,
    "start_time": "2022-04-16T08:44:59.318Z"
   },
   {
    "duration": 0,
    "start_time": "2022-04-16T08:44:59.319Z"
   },
   {
    "duration": 4,
    "start_time": "2022-04-16T08:45:32.759Z"
   },
   {
    "duration": 2,
    "start_time": "2022-04-16T08:52:17.375Z"
   },
   {
    "duration": 5,
    "start_time": "2022-04-16T08:52:27.637Z"
   },
   {
    "duration": 218,
    "start_time": "2022-04-16T08:52:58.673Z"
   },
   {
    "duration": 13,
    "start_time": "2022-04-16T08:53:06.608Z"
   },
   {
    "duration": 615,
    "start_time": "2022-04-16T08:54:12.504Z"
   },
   {
    "duration": 391,
    "start_time": "2022-04-16T08:54:13.121Z"
   },
   {
    "duration": 103,
    "start_time": "2022-04-16T08:54:13.513Z"
   },
   {
    "duration": 39,
    "start_time": "2022-04-16T08:54:13.618Z"
   },
   {
    "duration": 3,
    "start_time": "2022-04-16T08:54:13.659Z"
   },
   {
    "duration": 23,
    "start_time": "2022-04-16T08:54:13.663Z"
   },
   {
    "duration": 17,
    "start_time": "2022-04-16T08:54:13.688Z"
   },
   {
    "duration": 35,
    "start_time": "2022-04-16T08:54:13.707Z"
   },
   {
    "duration": 5,
    "start_time": "2022-04-16T08:54:13.744Z"
   },
   {
    "duration": 25,
    "start_time": "2022-04-16T08:54:13.752Z"
   },
   {
    "duration": 8,
    "start_time": "2022-04-16T08:54:13.779Z"
   },
   {
    "duration": 12,
    "start_time": "2022-04-16T08:54:13.789Z"
   },
   {
    "duration": 15,
    "start_time": "2022-04-16T08:54:13.803Z"
   },
   {
    "duration": 676,
    "start_time": "2022-04-16T08:54:13.820Z"
   },
   {
    "duration": 10,
    "start_time": "2022-04-16T08:54:14.498Z"
   },
   {
    "duration": 9,
    "start_time": "2022-04-16T08:54:14.510Z"
   },
   {
    "duration": 56,
    "start_time": "2022-04-16T08:54:14.521Z"
   },
   {
    "duration": 8,
    "start_time": "2022-04-16T08:54:14.579Z"
   },
   {
    "duration": 15,
    "start_time": "2022-04-16T08:54:14.588Z"
   },
   {
    "duration": 10,
    "start_time": "2022-04-16T08:54:14.604Z"
   },
   {
    "duration": 128,
    "start_time": "2022-04-16T08:54:14.616Z"
   },
   {
    "duration": 16,
    "start_time": "2022-04-16T08:54:14.745Z"
   },
   {
    "duration": 3,
    "start_time": "2022-04-16T08:54:14.763Z"
   },
   {
    "duration": 13,
    "start_time": "2022-04-16T08:54:14.768Z"
   },
   {
    "duration": 5,
    "start_time": "2022-04-16T08:54:14.782Z"
   },
   {
    "duration": 12,
    "start_time": "2022-04-16T08:54:14.788Z"
   },
   {
    "duration": 7,
    "start_time": "2022-04-16T08:54:14.802Z"
   },
   {
    "duration": 72,
    "start_time": "2022-04-16T08:54:14.814Z"
   },
   {
    "duration": 199,
    "start_time": "2022-04-16T08:54:14.887Z"
   },
   {
    "duration": 13,
    "start_time": "2022-04-16T08:54:15.087Z"
   },
   {
    "duration": 54,
    "start_time": "2022-04-16T08:54:15.101Z"
   },
   {
    "duration": 36,
    "start_time": "2022-04-16T08:54:15.156Z"
   },
   {
    "duration": 27,
    "start_time": "2022-04-16T08:54:15.194Z"
   },
   {
    "duration": 43,
    "start_time": "2022-04-16T08:54:15.223Z"
   },
   {
    "duration": 6,
    "start_time": "2022-04-16T08:54:15.268Z"
   },
   {
    "duration": 17,
    "start_time": "2022-04-16T08:54:15.276Z"
   },
   {
    "duration": 6,
    "start_time": "2022-04-16T08:54:15.295Z"
   },
   {
    "duration": 561,
    "start_time": "2022-04-16T08:54:15.303Z"
   },
   {
    "duration": 17,
    "start_time": "2022-04-16T08:54:15.865Z"
   },
   {
    "duration": 31,
    "start_time": "2022-04-16T08:54:15.884Z"
   },
   {
    "duration": 98,
    "start_time": "2022-04-16T08:54:15.916Z"
   },
   {
    "duration": 7,
    "start_time": "2022-04-16T08:54:16.016Z"
   },
   {
    "duration": 41,
    "start_time": "2022-04-16T08:54:16.025Z"
   },
   {
    "duration": 21,
    "start_time": "2022-04-16T08:54:16.068Z"
   },
   {
    "duration": 20,
    "start_time": "2022-04-16T08:54:16.091Z"
   },
   {
    "duration": 43,
    "start_time": "2022-04-16T08:54:16.112Z"
   },
   {
    "duration": 356,
    "start_time": "2022-04-16T08:54:16.157Z"
   },
   {
    "duration": 16,
    "start_time": "2022-04-16T08:54:16.516Z"
   },
   {
    "duration": 52,
    "start_time": "2022-04-16T08:54:16.534Z"
   },
   {
    "duration": 9,
    "start_time": "2022-04-16T08:54:16.587Z"
   },
   {
    "duration": 12,
    "start_time": "2022-04-16T08:54:16.597Z"
   },
   {
    "duration": 119,
    "start_time": "2022-04-16T08:54:16.611Z"
   },
   {
    "duration": 23,
    "start_time": "2022-04-16T08:54:16.732Z"
   },
   {
    "duration": 6,
    "start_time": "2022-04-16T08:54:16.757Z"
   },
   {
    "duration": 5,
    "start_time": "2022-04-16T08:54:16.765Z"
   },
   {
    "duration": 27,
    "start_time": "2022-04-16T08:54:16.772Z"
   },
   {
    "duration": 23,
    "start_time": "2022-04-16T08:54:16.800Z"
   },
   {
    "duration": 46,
    "start_time": "2022-04-16T08:54:16.824Z"
   },
   {
    "duration": 11,
    "start_time": "2022-04-16T08:54:16.872Z"
   },
   {
    "duration": 450,
    "start_time": "2022-04-16T08:54:16.884Z"
   },
   {
    "duration": 25,
    "start_time": "2022-04-16T08:54:17.336Z"
   },
   {
    "duration": 16,
    "start_time": "2022-04-16T08:54:17.363Z"
   },
   {
    "duration": 9,
    "start_time": "2022-04-16T08:54:17.381Z"
   },
   {
    "duration": 10,
    "start_time": "2022-04-16T08:54:17.392Z"
   },
   {
    "duration": 9,
    "start_time": "2022-04-16T08:54:17.403Z"
   },
   {
    "duration": 118,
    "start_time": "2022-04-16T08:54:17.414Z"
   },
   {
    "duration": 66,
    "start_time": "2022-04-16T08:54:17.534Z"
   },
   {
    "duration": 6,
    "start_time": "2022-04-16T08:54:17.602Z"
   },
   {
    "duration": 6,
    "start_time": "2022-04-16T08:54:17.609Z"
   },
   {
    "duration": 6,
    "start_time": "2022-04-16T08:54:17.617Z"
   },
   {
    "duration": 31,
    "start_time": "2022-04-16T08:54:17.624Z"
   },
   {
    "duration": 18,
    "start_time": "2022-04-16T08:54:17.656Z"
   },
   {
    "duration": 28,
    "start_time": "2022-04-16T08:54:17.675Z"
   },
   {
    "duration": 56,
    "start_time": "2022-04-16T08:54:17.705Z"
   },
   {
    "duration": 5,
    "start_time": "2022-04-16T08:54:17.762Z"
   },
   {
    "duration": 8,
    "start_time": "2022-04-16T08:54:17.768Z"
   },
   {
    "duration": 10,
    "start_time": "2022-04-16T08:54:17.777Z"
   },
   {
    "duration": 14,
    "start_time": "2022-04-16T08:54:17.788Z"
   },
   {
    "duration": 13,
    "start_time": "2022-04-16T08:54:17.804Z"
   },
   {
    "duration": 5,
    "start_time": "2022-04-16T08:54:17.819Z"
   },
   {
    "duration": 11,
    "start_time": "2022-04-16T08:54:17.854Z"
   },
   {
    "duration": 5,
    "start_time": "2022-04-16T08:54:17.870Z"
   },
   {
    "duration": 246,
    "start_time": "2022-04-16T08:54:17.877Z"
   },
   {
    "duration": 2,
    "start_time": "2022-04-16T08:54:18.125Z"
   },
   {
    "duration": 18,
    "start_time": "2022-04-16T08:54:18.129Z"
   },
   {
    "duration": 18,
    "start_time": "2022-04-16T08:54:18.155Z"
   },
   {
    "duration": 13,
    "start_time": "2022-04-16T08:54:18.175Z"
   },
   {
    "duration": 7,
    "start_time": "2022-04-16T08:54:18.189Z"
   },
   {
    "duration": 13,
    "start_time": "2022-04-16T08:54:18.198Z"
   },
   {
    "duration": 46,
    "start_time": "2022-04-16T08:54:18.213Z"
   },
   {
    "duration": 731,
    "start_time": "2022-04-16T08:54:18.261Z"
   },
   {
    "duration": 6,
    "start_time": "2022-04-16T08:54:18.993Z"
   },
   {
    "duration": 21,
    "start_time": "2022-04-16T08:54:19.000Z"
   },
   {
    "duration": 298,
    "start_time": "2022-04-16T08:54:19.022Z"
   },
   {
    "duration": 18,
    "start_time": "2022-04-16T08:54:19.322Z"
   },
   {
    "duration": 16,
    "start_time": "2022-04-16T08:54:19.341Z"
   },
   {
    "duration": 12,
    "start_time": "2022-04-16T08:54:19.359Z"
   },
   {
    "duration": 11,
    "start_time": "2022-04-16T08:54:19.373Z"
   },
   {
    "duration": 8,
    "start_time": "2022-04-16T08:54:19.386Z"
   },
   {
    "duration": 1293,
    "start_time": "2022-04-16T08:54:19.396Z"
   },
   {
    "duration": 7,
    "start_time": "2022-04-16T08:54:20.691Z"
   },
   {
    "duration": 18,
    "start_time": "2022-04-16T08:54:20.700Z"
   },
   {
    "duration": 1371,
    "start_time": "2022-04-16T08:54:20.719Z"
   },
   {
    "duration": 101,
    "start_time": "2022-04-16T08:54:22.092Z"
   },
   {
    "duration": 68,
    "start_time": "2022-04-16T08:54:22.195Z"
   },
   {
    "duration": 19,
    "start_time": "2022-04-16T08:54:22.265Z"
   },
   {
    "duration": 8,
    "start_time": "2022-04-16T08:54:22.286Z"
   },
   {
    "duration": 5,
    "start_time": "2022-04-16T08:54:22.296Z"
   },
   {
    "duration": 666,
    "start_time": "2022-04-16T08:54:22.303Z"
   },
   {
    "duration": 9,
    "start_time": "2022-04-16T08:54:22.970Z"
   },
   {
    "duration": 11,
    "start_time": "2022-04-16T08:54:22.980Z"
   },
   {
    "duration": 64,
    "start_time": "2022-04-16T08:54:22.992Z"
   },
   {
    "duration": 28,
    "start_time": "2022-04-16T08:54:23.057Z"
   },
   {
    "duration": 21,
    "start_time": "2022-04-16T08:55:05.627Z"
   },
   {
    "duration": 11,
    "start_time": "2022-04-16T08:55:31.480Z"
   },
   {
    "duration": 22,
    "start_time": "2022-04-16T08:55:40.418Z"
   },
   {
    "duration": 618,
    "start_time": "2022-04-16T10:03:26.485Z"
   },
   {
    "duration": 386,
    "start_time": "2022-04-16T10:03:27.105Z"
   },
   {
    "duration": 94,
    "start_time": "2022-04-16T10:03:27.492Z"
   },
   {
    "duration": 19,
    "start_time": "2022-04-16T10:03:27.588Z"
   },
   {
    "duration": 3,
    "start_time": "2022-04-16T10:03:27.608Z"
   },
   {
    "duration": 36,
    "start_time": "2022-04-16T10:03:27.612Z"
   },
   {
    "duration": 7,
    "start_time": "2022-04-16T10:03:27.650Z"
   },
   {
    "duration": 19,
    "start_time": "2022-04-16T10:03:27.658Z"
   },
   {
    "duration": 3,
    "start_time": "2022-04-16T10:03:27.679Z"
   },
   {
    "duration": 16,
    "start_time": "2022-04-16T10:03:27.685Z"
   },
   {
    "duration": 7,
    "start_time": "2022-04-16T10:03:27.702Z"
   },
   {
    "duration": 45,
    "start_time": "2022-04-16T10:03:27.711Z"
   },
   {
    "duration": 3,
    "start_time": "2022-04-16T10:03:27.758Z"
   },
   {
    "duration": 629,
    "start_time": "2022-04-16T10:03:27.763Z"
   },
   {
    "duration": 10,
    "start_time": "2022-04-16T10:03:28.394Z"
   },
   {
    "duration": 10,
    "start_time": "2022-04-16T10:03:28.405Z"
   },
   {
    "duration": 53,
    "start_time": "2022-04-16T10:03:28.416Z"
   },
   {
    "duration": 7,
    "start_time": "2022-04-16T10:03:28.471Z"
   },
   {
    "duration": 17,
    "start_time": "2022-04-16T10:03:28.480Z"
   },
   {
    "duration": 16,
    "start_time": "2022-04-16T10:03:28.499Z"
   },
   {
    "duration": 110,
    "start_time": "2022-04-16T10:03:28.517Z"
   },
   {
    "duration": 24,
    "start_time": "2022-04-16T10:03:28.629Z"
   },
   {
    "duration": 3,
    "start_time": "2022-04-16T10:03:28.655Z"
   },
   {
    "duration": 14,
    "start_time": "2022-04-16T10:03:28.660Z"
   },
   {
    "duration": 5,
    "start_time": "2022-04-16T10:03:28.676Z"
   },
   {
    "duration": 19,
    "start_time": "2022-04-16T10:03:28.682Z"
   },
   {
    "duration": 9,
    "start_time": "2022-04-16T10:03:28.747Z"
   },
   {
    "duration": 35,
    "start_time": "2022-04-16T10:03:28.760Z"
   },
   {
    "duration": 341,
    "start_time": "2022-04-16T10:03:28.848Z"
   },
   {
    "duration": 66,
    "start_time": "2022-04-16T10:03:29.190Z"
   },
   {
    "duration": 33,
    "start_time": "2022-04-16T10:03:29.258Z"
   },
   {
    "duration": 32,
    "start_time": "2022-04-16T10:03:29.348Z"
   },
   {
    "duration": 70,
    "start_time": "2022-04-16T10:03:29.382Z"
   },
   {
    "duration": 16,
    "start_time": "2022-04-16T10:03:29.454Z"
   },
   {
    "duration": 6,
    "start_time": "2022-04-16T10:03:29.472Z"
   },
   {
    "duration": 5,
    "start_time": "2022-04-16T10:03:29.479Z"
   },
   {
    "duration": 71,
    "start_time": "2022-04-16T10:03:29.486Z"
   },
   {
    "duration": 6,
    "start_time": "2022-04-16T10:03:29.558Z"
   },
   {
    "duration": 925,
    "start_time": "2022-04-16T10:03:29.565Z"
   },
   {
    "duration": 19,
    "start_time": "2022-04-16T10:03:30.492Z"
   },
   {
    "duration": 43,
    "start_time": "2022-04-16T10:03:30.512Z"
   },
   {
    "duration": 92,
    "start_time": "2022-04-16T10:03:30.556Z"
   },
   {
    "duration": 6,
    "start_time": "2022-04-16T10:03:30.650Z"
   },
   {
    "duration": 37,
    "start_time": "2022-04-16T10:03:30.658Z"
   },
   {
    "duration": 19,
    "start_time": "2022-04-16T10:03:30.697Z"
   },
   {
    "duration": 32,
    "start_time": "2022-04-16T10:03:30.717Z"
   },
   {
    "duration": 12,
    "start_time": "2022-04-16T10:03:30.750Z"
   },
   {
    "duration": 341,
    "start_time": "2022-04-16T10:03:30.764Z"
   },
   {
    "duration": 15,
    "start_time": "2022-04-16T10:03:31.106Z"
   },
   {
    "duration": 45,
    "start_time": "2022-04-16T10:03:31.122Z"
   },
   {
    "duration": 9,
    "start_time": "2022-04-16T10:03:31.168Z"
   },
   {
    "duration": 20,
    "start_time": "2022-04-16T10:03:31.179Z"
   },
   {
    "duration": 124,
    "start_time": "2022-04-16T10:03:31.200Z"
   },
   {
    "duration": 29,
    "start_time": "2022-04-16T10:03:31.326Z"
   },
   {
    "duration": 6,
    "start_time": "2022-04-16T10:03:31.357Z"
   },
   {
    "duration": 5,
    "start_time": "2022-04-16T10:03:31.365Z"
   },
   {
    "duration": 26,
    "start_time": "2022-04-16T10:03:31.372Z"
   },
   {
    "duration": 54,
    "start_time": "2022-04-16T10:03:31.400Z"
   },
   {
    "duration": 23,
    "start_time": "2022-04-16T10:03:31.456Z"
   },
   {
    "duration": 11,
    "start_time": "2022-04-16T10:03:31.481Z"
   },
   {
    "duration": 419,
    "start_time": "2022-04-16T10:03:31.494Z"
   },
   {
    "duration": 16,
    "start_time": "2022-04-16T10:03:31.915Z"
   },
   {
    "duration": 18,
    "start_time": "2022-04-16T10:03:31.947Z"
   },
   {
    "duration": 10,
    "start_time": "2022-04-16T10:03:31.967Z"
   },
   {
    "duration": 9,
    "start_time": "2022-04-16T10:03:31.979Z"
   },
   {
    "duration": 9,
    "start_time": "2022-04-16T10:03:31.990Z"
   },
   {
    "duration": 114,
    "start_time": "2022-04-16T10:03:32.001Z"
   },
   {
    "duration": 65,
    "start_time": "2022-04-16T10:03:32.116Z"
   },
   {
    "duration": 5,
    "start_time": "2022-04-16T10:03:32.183Z"
   },
   {
    "duration": 5,
    "start_time": "2022-04-16T10:03:32.190Z"
   },
   {
    "duration": 10,
    "start_time": "2022-04-16T10:03:32.196Z"
   },
   {
    "duration": 5,
    "start_time": "2022-04-16T10:03:32.207Z"
   },
   {
    "duration": 49,
    "start_time": "2022-04-16T10:03:32.213Z"
   },
   {
    "duration": 28,
    "start_time": "2022-04-16T10:03:32.264Z"
   },
   {
    "duration": 58,
    "start_time": "2022-04-16T10:03:32.294Z"
   },
   {
    "duration": 5,
    "start_time": "2022-04-16T10:03:32.354Z"
   },
   {
    "duration": 8,
    "start_time": "2022-04-16T10:03:32.360Z"
   },
   {
    "duration": 10,
    "start_time": "2022-04-16T10:03:32.370Z"
   },
   {
    "duration": 12,
    "start_time": "2022-04-16T10:03:32.381Z"
   },
   {
    "duration": 9,
    "start_time": "2022-04-16T10:03:32.395Z"
   },
   {
    "duration": 5,
    "start_time": "2022-04-16T10:03:32.406Z"
   },
   {
    "duration": 7,
    "start_time": "2022-04-16T10:03:32.450Z"
   },
   {
    "duration": 6,
    "start_time": "2022-04-16T10:03:32.459Z"
   },
   {
    "duration": 241,
    "start_time": "2022-04-16T10:03:32.466Z"
   },
   {
    "duration": 2,
    "start_time": "2022-04-16T10:03:32.709Z"
   },
   {
    "duration": 19,
    "start_time": "2022-04-16T10:03:32.713Z"
   },
   {
    "duration": 28,
    "start_time": "2022-04-16T10:03:32.733Z"
   },
   {
    "duration": 21,
    "start_time": "2022-04-16T10:03:32.762Z"
   },
   {
    "duration": 7,
    "start_time": "2022-04-16T10:03:32.785Z"
   },
   {
    "duration": 16,
    "start_time": "2022-04-16T10:03:32.793Z"
   },
   {
    "duration": 13,
    "start_time": "2022-04-16T10:03:32.811Z"
   },
   {
    "duration": 787,
    "start_time": "2022-04-16T10:03:32.825Z"
   },
   {
    "duration": 5,
    "start_time": "2022-04-16T10:03:33.614Z"
   },
   {
    "duration": 33,
    "start_time": "2022-04-16T10:03:33.620Z"
   },
   {
    "duration": 295,
    "start_time": "2022-04-16T10:03:33.654Z"
   },
   {
    "duration": 17,
    "start_time": "2022-04-16T10:03:33.951Z"
   },
   {
    "duration": 6,
    "start_time": "2022-04-16T10:03:33.970Z"
   },
   {
    "duration": 11,
    "start_time": "2022-04-16T10:03:33.978Z"
   },
   {
    "duration": 12,
    "start_time": "2022-04-16T10:03:33.990Z"
   },
   {
    "duration": 11,
    "start_time": "2022-04-16T10:03:34.004Z"
   },
   {
    "duration": 1216,
    "start_time": "2022-04-16T10:03:34.047Z"
   },
   {
    "duration": 5,
    "start_time": "2022-04-16T10:03:35.265Z"
   },
   {
    "duration": 18,
    "start_time": "2022-04-16T10:03:35.272Z"
   },
   {
    "duration": 1188,
    "start_time": "2022-04-16T10:03:35.292Z"
   },
   {
    "duration": 30,
    "start_time": "2022-04-16T10:03:36.482Z"
   },
   {
    "duration": 13,
    "start_time": "2022-04-16T10:03:36.513Z"
   },
   {
    "duration": 18,
    "start_time": "2022-04-16T10:03:36.548Z"
   },
   {
    "duration": 7,
    "start_time": "2022-04-16T10:03:36.568Z"
   },
   {
    "duration": 6,
    "start_time": "2022-04-16T10:03:36.576Z"
   },
   {
    "duration": 352,
    "start_time": "2022-04-16T10:03:36.584Z"
   },
   {
    "duration": 13,
    "start_time": "2022-04-16T10:03:36.937Z"
   },
   {
    "duration": 6,
    "start_time": "2022-04-16T10:03:36.951Z"
   },
   {
    "duration": 8,
    "start_time": "2022-04-16T10:03:36.958Z"
   },
   {
    "duration": 11,
    "start_time": "2022-04-16T10:03:36.968Z"
   },
   {
    "duration": 976,
    "start_time": "2022-10-06T14:37:24.912Z"
   },
   {
    "duration": 2485,
    "start_time": "2022-10-06T14:37:25.890Z"
   },
   {
    "duration": 139,
    "start_time": "2022-10-06T14:37:28.376Z"
   },
   {
    "duration": 27,
    "start_time": "2022-10-06T14:37:28.516Z"
   },
   {
    "duration": 31,
    "start_time": "2022-10-06T14:37:28.545Z"
   },
   {
    "duration": 12,
    "start_time": "2022-10-06T14:37:28.577Z"
   },
   {
    "duration": 22,
    "start_time": "2022-10-06T14:37:28.590Z"
   },
   {
    "duration": 39,
    "start_time": "2022-10-06T14:37:28.615Z"
   },
   {
    "duration": 20,
    "start_time": "2022-10-06T14:37:28.656Z"
   },
   {
    "duration": 25,
    "start_time": "2022-10-06T14:37:28.678Z"
   },
   {
    "duration": 8,
    "start_time": "2022-10-06T14:37:28.705Z"
   },
   {
    "duration": 23,
    "start_time": "2022-10-06T14:37:28.715Z"
   },
   {
    "duration": 25,
    "start_time": "2022-10-06T14:37:28.741Z"
   },
   {
    "duration": 998,
    "start_time": "2022-10-06T14:37:28.768Z"
   },
   {
    "duration": 12,
    "start_time": "2022-10-06T14:37:29.768Z"
   },
   {
    "duration": 12,
    "start_time": "2022-10-06T14:37:29.782Z"
   },
   {
    "duration": 125,
    "start_time": "2022-10-06T14:37:29.796Z"
   },
   {
    "duration": 18,
    "start_time": "2022-10-06T14:37:29.924Z"
   },
   {
    "duration": 42,
    "start_time": "2022-10-06T14:37:29.943Z"
   },
   {
    "duration": 21,
    "start_time": "2022-10-06T14:37:29.987Z"
   },
   {
    "duration": 233,
    "start_time": "2022-10-06T14:37:30.010Z"
   },
   {
    "duration": 16,
    "start_time": "2022-10-06T14:37:30.245Z"
   },
   {
    "duration": 55,
    "start_time": "2022-10-06T14:37:30.263Z"
   },
   {
    "duration": 93,
    "start_time": "2022-10-06T14:37:30.320Z"
   },
   {
    "duration": 74,
    "start_time": "2022-10-06T14:37:30.415Z"
   },
   {
    "duration": 53,
    "start_time": "2022-10-06T14:37:30.491Z"
   },
   {
    "duration": 66,
    "start_time": "2022-10-06T14:37:30.546Z"
   },
   {
    "duration": 133,
    "start_time": "2022-10-06T14:37:30.618Z"
   },
   {
    "duration": 268,
    "start_time": "2022-10-06T14:37:30.758Z"
   },
   {
    "duration": 19,
    "start_time": "2022-10-06T14:37:31.028Z"
   },
   {
    "duration": 126,
    "start_time": "2022-10-06T14:37:31.049Z"
   },
   {
    "duration": 86,
    "start_time": "2022-10-06T14:37:31.177Z"
   },
   {
    "duration": 27,
    "start_time": "2022-10-06T14:37:31.265Z"
   },
   {
    "duration": 32,
    "start_time": "2022-10-06T14:37:31.294Z"
   },
   {
    "duration": 9,
    "start_time": "2022-10-06T14:37:31.335Z"
   },
   {
    "duration": 12,
    "start_time": "2022-10-06T14:37:31.355Z"
   },
   {
    "duration": 23,
    "start_time": "2022-10-06T14:37:31.368Z"
   },
   {
    "duration": 90,
    "start_time": "2022-10-06T14:37:31.392Z"
   },
   {
    "duration": 686,
    "start_time": "2022-10-06T14:37:31.484Z"
   },
   {
    "duration": 22,
    "start_time": "2022-10-06T14:37:32.173Z"
   },
   {
    "duration": 136,
    "start_time": "2022-10-06T14:37:32.197Z"
   },
   {
    "duration": 303,
    "start_time": "2022-10-06T14:37:32.336Z"
   },
   {
    "duration": 44,
    "start_time": "2022-10-06T14:37:32.640Z"
   },
   {
    "duration": 94,
    "start_time": "2022-10-06T14:37:32.686Z"
   },
   {
    "duration": 64,
    "start_time": "2022-10-06T14:37:32.782Z"
   },
   {
    "duration": 22,
    "start_time": "2022-10-06T14:37:32.849Z"
   },
   {
    "duration": 73,
    "start_time": "2022-10-06T14:37:32.872Z"
   },
   {
    "duration": 1196,
    "start_time": "2022-10-06T14:37:32.947Z"
   },
   {
    "duration": 31,
    "start_time": "2022-10-06T14:37:34.155Z"
   },
   {
    "duration": 96,
    "start_time": "2022-10-06T14:37:34.188Z"
   },
   {
    "duration": 93,
    "start_time": "2022-10-06T14:37:34.286Z"
   },
   {
    "duration": 21,
    "start_time": "2022-10-06T14:37:34.381Z"
   },
   {
    "duration": 170,
    "start_time": "2022-10-06T14:37:34.404Z"
   },
   {
    "duration": 19,
    "start_time": "2022-10-06T14:37:34.577Z"
   },
   {
    "duration": 7,
    "start_time": "2022-10-06T14:37:34.598Z"
   },
   {
    "duration": 15,
    "start_time": "2022-10-06T14:37:34.607Z"
   },
   {
    "duration": 68,
    "start_time": "2022-10-06T14:37:34.624Z"
   },
   {
    "duration": 21,
    "start_time": "2022-10-06T14:37:34.694Z"
   },
   {
    "duration": 34,
    "start_time": "2022-10-06T14:37:34.717Z"
   },
   {
    "duration": 36,
    "start_time": "2022-10-06T14:37:34.755Z"
   },
   {
    "duration": 562,
    "start_time": "2022-10-06T14:37:34.793Z"
   },
   {
    "duration": 19,
    "start_time": "2022-10-06T14:37:35.357Z"
   },
   {
    "duration": 27,
    "start_time": "2022-10-06T14:37:35.378Z"
   },
   {
    "duration": 17,
    "start_time": "2022-10-06T14:37:35.407Z"
   },
   {
    "duration": 53,
    "start_time": "2022-10-06T14:37:35.425Z"
   },
   {
    "duration": 8,
    "start_time": "2022-10-06T14:37:35.480Z"
   },
   {
    "duration": 92,
    "start_time": "2022-10-06T14:37:35.490Z"
   },
   {
    "duration": 74,
    "start_time": "2022-10-06T14:37:35.584Z"
   },
   {
    "duration": 7,
    "start_time": "2022-10-06T14:37:35.660Z"
   },
   {
    "duration": 11,
    "start_time": "2022-10-06T14:37:35.671Z"
   },
   {
    "duration": 8,
    "start_time": "2022-10-06T14:37:35.684Z"
   },
   {
    "duration": 3,
    "start_time": "2022-10-06T14:37:35.693Z"
   },
   {
    "duration": 56,
    "start_time": "2022-10-06T14:37:35.697Z"
   },
   {
    "duration": 60,
    "start_time": "2022-10-06T14:37:35.754Z"
   },
   {
    "duration": 53,
    "start_time": "2022-10-06T14:37:35.816Z"
   },
   {
    "duration": 16,
    "start_time": "2022-10-06T14:37:35.870Z"
   },
   {
    "duration": 10,
    "start_time": "2022-10-06T14:37:35.888Z"
   },
   {
    "duration": 54,
    "start_time": "2022-10-06T14:37:35.899Z"
   },
   {
    "duration": 22,
    "start_time": "2022-10-06T14:37:35.955Z"
   },
   {
    "duration": 11,
    "start_time": "2022-10-06T14:37:35.979Z"
   },
   {
    "duration": 8,
    "start_time": "2022-10-06T14:37:35.992Z"
   },
   {
    "duration": 42,
    "start_time": "2022-10-06T14:37:36.007Z"
   },
   {
    "duration": 43,
    "start_time": "2022-10-06T14:37:36.051Z"
   },
   {
    "duration": 447,
    "start_time": "2022-10-06T14:37:36.097Z"
   },
   {
    "duration": 3,
    "start_time": "2022-10-06T14:37:36.546Z"
   },
   {
    "duration": 56,
    "start_time": "2022-10-06T14:37:36.550Z"
   },
   {
    "duration": 93,
    "start_time": "2022-10-06T14:37:36.608Z"
   },
   {
    "duration": 40,
    "start_time": "2022-10-06T14:37:36.703Z"
   },
   {
    "duration": 11,
    "start_time": "2022-10-06T14:37:36.749Z"
   },
   {
    "duration": 45,
    "start_time": "2022-10-06T14:37:36.762Z"
   },
   {
    "duration": 28,
    "start_time": "2022-10-06T14:37:36.808Z"
   },
   {
    "duration": 1054,
    "start_time": "2022-10-06T14:37:36.838Z"
   },
   {
    "duration": 11,
    "start_time": "2022-10-06T14:37:37.894Z"
   },
   {
    "duration": 71,
    "start_time": "2022-10-06T14:37:37.907Z"
   },
   {
    "duration": 420,
    "start_time": "2022-10-06T14:37:37.980Z"
   },
   {
    "duration": 50,
    "start_time": "2022-10-06T14:37:38.402Z"
   },
   {
    "duration": 8,
    "start_time": "2022-10-06T14:37:38.456Z"
   },
   {
    "duration": 31,
    "start_time": "2022-10-06T14:37:38.466Z"
   },
   {
    "duration": 56,
    "start_time": "2022-10-06T14:37:38.499Z"
   },
   {
    "duration": 28,
    "start_time": "2022-10-06T14:37:38.559Z"
   },
   {
    "duration": 1420,
    "start_time": "2022-10-06T14:37:38.589Z"
   },
   {
    "duration": 12,
    "start_time": "2022-10-06T14:37:40.011Z"
   },
   {
    "duration": 74,
    "start_time": "2022-10-06T14:37:40.025Z"
   },
   {
    "duration": 1613,
    "start_time": "2022-10-06T14:37:40.100Z"
   },
   {
    "duration": 53,
    "start_time": "2022-10-06T14:37:41.715Z"
   },
   {
    "duration": 22,
    "start_time": "2022-10-06T14:37:41.770Z"
   },
   {
    "duration": 33,
    "start_time": "2022-10-06T14:37:41.794Z"
   },
   {
    "duration": 44,
    "start_time": "2022-10-06T14:37:41.828Z"
   },
   {
    "duration": 16,
    "start_time": "2022-10-06T14:37:41.875Z"
   },
   {
    "duration": 475,
    "start_time": "2022-10-06T14:37:41.893Z"
   },
   {
    "duration": 7,
    "start_time": "2022-10-06T14:37:42.370Z"
   },
   {
    "duration": 3,
    "start_time": "2022-10-06T14:37:42.379Z"
   },
   {
    "duration": 13,
    "start_time": "2022-10-06T14:37:42.384Z"
   },
   {
    "duration": 41,
    "start_time": "2022-10-06T14:37:42.399Z"
   }
  ],
  "kernelspec": {
   "display_name": "Python 3 (ipykernel)",
   "language": "python",
   "name": "python3"
  },
  "language_info": {
   "codemirror_mode": {
    "name": "ipython",
    "version": 3
   },
   "file_extension": ".py",
   "mimetype": "text/x-python",
   "name": "python",
   "nbconvert_exporter": "python",
   "pygments_lexer": "ipython3",
   "version": "3.9.5"
  },
  "toc": {
   "base_numbering": 1,
   "nav_menu": {},
   "number_sections": true,
   "sideBar": true,
   "skip_h1_title": true,
   "title_cell": "Table of Contents",
   "title_sidebar": "Contents",
   "toc_cell": false,
   "toc_position": {
    "height": "calc(100% - 180px)",
    "left": "10px",
    "top": "150px",
    "width": "342.984px"
   },
   "toc_section_display": true,
   "toc_window_display": true
  }
 },
 "nbformat": 4,
 "nbformat_minor": 2
}
